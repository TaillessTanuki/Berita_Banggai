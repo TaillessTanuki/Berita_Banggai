{
  "nbformat": 4,
  "nbformat_minor": 0,
  "metadata": {
    "colab": {
      "provenance": []
    },
    "kernelspec": {
      "name": "python3",
      "display_name": "Python 3"
    },
    "language_info": {
      "name": "python"
    }
  },
  "cells": [
    {
      "cell_type": "markdown",
      "metadata": {
        "id": "Wj172v-Yd1-_"
      },
      "source": [
        "# Libraries"
      ]
    },
    {
      "cell_type": "code",
      "execution_count": null,
      "metadata": {
        "colab": {
          "base_uri": "https://localhost:8080/"
        },
        "id": "MjWHRVR5ahdx",
        "outputId": "4ec86e9d-e2b7-4a77-d161-76f27b9ceb06"
      },
      "outputs": [
        {
          "output_type": "stream",
          "name": "stdout",
          "text": [
            "Collecting Sastrawi\n",
            "  Downloading Sastrawi-1.0.1-py2.py3-none-any.whl (209 kB)\n",
            "\u001b[2K     \u001b[90m━━━━━━━━━━━━━━━━━━━━━━━━━━━━━━━━━━━━━━━━\u001b[0m \u001b[32m209.7/209.7 kB\u001b[0m \u001b[31m4.2 MB/s\u001b[0m eta \u001b[36m0:00:00\u001b[0m\n",
            "\u001b[?25hInstalling collected packages: Sastrawi\n",
            "Successfully installed Sastrawi-1.0.1\n",
            "Collecting clean-text\n",
            "  Downloading clean_text-0.6.0-py3-none-any.whl (11 kB)\n",
            "Collecting emoji<2.0.0,>=1.0.0 (from clean-text)\n",
            "  Downloading emoji-1.7.0.tar.gz (175 kB)\n",
            "\u001b[2K     \u001b[90m━━━━━━━━━━━━━━━━━━━━━━━━━━━━━━━━━━━━━━━━\u001b[0m \u001b[32m175.4/175.4 kB\u001b[0m \u001b[31m4.4 MB/s\u001b[0m eta \u001b[36m0:00:00\u001b[0m\n",
            "\u001b[?25h  Preparing metadata (setup.py) ... \u001b[?25l\u001b[?25hdone\n",
            "Collecting ftfy<7.0,>=6.0 (from clean-text)\n",
            "  Downloading ftfy-6.1.3-py3-none-any.whl (53 kB)\n",
            "\u001b[2K     \u001b[90m━━━━━━━━━━━━━━━━━━━━━━━━━━━━━━━━━━━━━━━━\u001b[0m \u001b[32m53.4/53.4 kB\u001b[0m \u001b[31m6.6 MB/s\u001b[0m eta \u001b[36m0:00:00\u001b[0m\n",
            "\u001b[?25hRequirement already satisfied: wcwidth<0.3.0,>=0.2.12 in /usr/local/lib/python3.10/dist-packages (from ftfy<7.0,>=6.0->clean-text) (0.2.13)\n",
            "Building wheels for collected packages: emoji\n",
            "  Building wheel for emoji (setup.py) ... \u001b[?25l\u001b[?25hdone\n",
            "  Created wheel for emoji: filename=emoji-1.7.0-py3-none-any.whl size=171033 sha256=424fc3b8fc14e654a11d5be1c4028d7217126d026f8bda5dd4a008844065bd0c\n",
            "  Stored in directory: /root/.cache/pip/wheels/31/8a/8c/315c9e5d7773f74b33d5ed33f075b49c6eaeb7cedbb86e2cf8\n",
            "Successfully built emoji\n",
            "Installing collected packages: emoji, ftfy, clean-text\n",
            "Successfully installed clean-text-0.6.0 emoji-1.7.0 ftfy-6.1.3\n",
            "Collecting deep-translator\n",
            "  Downloading deep_translator-1.11.4-py3-none-any.whl (42 kB)\n",
            "\u001b[2K     \u001b[90m━━━━━━━━━━━━━━━━━━━━━━━━━━━━━━━━━━━━━━━━\u001b[0m \u001b[32m42.3/42.3 kB\u001b[0m \u001b[31m395.7 kB/s\u001b[0m eta \u001b[36m0:00:00\u001b[0m\n",
            "\u001b[?25hRequirement already satisfied: beautifulsoup4<5.0.0,>=4.9.1 in /usr/local/lib/python3.10/dist-packages (from deep-translator) (4.12.3)\n",
            "Requirement already satisfied: requests<3.0.0,>=2.23.0 in /usr/local/lib/python3.10/dist-packages (from deep-translator) (2.31.0)\n",
            "Requirement already satisfied: soupsieve>1.2 in /usr/local/lib/python3.10/dist-packages (from beautifulsoup4<5.0.0,>=4.9.1->deep-translator) (2.5)\n",
            "Requirement already satisfied: charset-normalizer<4,>=2 in /usr/local/lib/python3.10/dist-packages (from requests<3.0.0,>=2.23.0->deep-translator) (3.3.2)\n",
            "Requirement already satisfied: idna<4,>=2.5 in /usr/local/lib/python3.10/dist-packages (from requests<3.0.0,>=2.23.0->deep-translator) (3.6)\n",
            "Requirement already satisfied: urllib3<3,>=1.21.1 in /usr/local/lib/python3.10/dist-packages (from requests<3.0.0,>=2.23.0->deep-translator) (2.0.7)\n",
            "Requirement already satisfied: certifi>=2017.4.17 in /usr/local/lib/python3.10/dist-packages (from requests<3.0.0,>=2.23.0->deep-translator) (2024.2.2)\n",
            "Installing collected packages: deep-translator\n",
            "Successfully installed deep-translator-1.11.4\n"
          ]
        }
      ],
      "source": [
        "!pip install Sastrawi\n",
        "!pip install clean-text\n",
        "!pip install deep-translator"
      ]
    },
    {
      "cell_type": "code",
      "execution_count": null,
      "metadata": {
        "colab": {
          "base_uri": "https://localhost:8080/"
        },
        "id": "6Nsz9j1DEJXD",
        "outputId": "9d9b1002-f36e-46fb-96ef-82571386faff"
      },
      "outputs": [
        {
          "output_type": "stream",
          "name": "stderr",
          "text": [
            "[nltk_data] Downloading package stopwords to /root/nltk_data...\n",
            "[nltk_data]   Unzipping corpora/stopwords.zip.\n",
            "[nltk_data] Downloading package wordnet to /root/nltk_data...\n",
            "[nltk_data] Downloading package punkt to /root/nltk_data...\n",
            "[nltk_data]   Unzipping tokenizers/punkt.zip.\n",
            "WARNING:root:Since the GPL-licensed package `unidecode` is not installed, using Python's `unicodedata` package which yields worse results.\n"
          ]
        }
      ],
      "source": [
        "import pandas as pd\n",
        "import numpy as np\n",
        "from nltk.corpus import stopwords\n",
        "import re\n",
        "import nltk\n",
        "nltk.download('stopwords')\n",
        "nltk.download('wordnet')\n",
        "nltk.download('punkt')\n",
        "from nltk.stem import PorterStemmer\n",
        "from nltk.stem import LancasterStemmer\n",
        "from nltk.tokenize import word_tokenize\n",
        "from Sastrawi.Stemmer.StemmerFactory import StemmerFactory\n",
        "from Sastrawi.StopWordRemover.StopWordRemoverFactory import StopWordRemoverFactory, StopWordRemover, ArrayDictionary\n",
        "from cleantext import clean\n",
        "from collections import Counter"
      ]
    },
    {
      "cell_type": "code",
      "source": [
        "import sklearn"
      ],
      "metadata": {
        "id": "fSui9eOPzRQ0"
      },
      "execution_count": null,
      "outputs": []
    },
    {
      "cell_type": "code",
      "execution_count": null,
      "metadata": {
        "id": "cKKzjVp3T644"
      },
      "outputs": [],
      "source": [
        "# !pip freeze > requirements.txt"
      ]
    },
    {
      "cell_type": "markdown",
      "metadata": {
        "id": "tCl5GW_rd6yk"
      },
      "source": [
        "# Get Data from ES and prepare DF"
      ]
    },
    {
      "cell_type": "code",
      "source": [
        "import requests\n",
        "import json"
      ],
      "metadata": {
        "id": "xO6kQ22cOqRq"
      },
      "execution_count": null,
      "outputs": []
    },
    {
      "cell_type": "code",
      "source": [
        "elasticsearch_url = 'https://es-1.datanusantara.com:9201'\n",
        "username = 'adminkibana'\n",
        "password = 'kibanaPASS!@#2019'\n",
        "index_endpoint = 'news-crawl-production-v2'"
      ],
      "metadata": {
        "id": "2Cl8MeblOqy0"
      },
      "execution_count": null,
      "outputs": []
    },
    {
      "cell_type": "code",
      "source": [
        "#query = {\n",
        "#    \"_source\": [\"text\", \"source\",\"source_detail\",\"target\"],\n",
        " #   \"size\":600,\n",
        "  #  \"query\": {\n",
        "   #     \"match\": {\n",
        "    #              \"source\": \"news\"\n",
        "     #           },\n",
        "      #  \"match\": {\n",
        "       #     \"target\": \"banggai\"\n",
        "  #      }\n",
        " #   }\n",
        "#}\n",
        "\n",
        "#search_url = f\"{elasticsearch_url}/{index_endpoint}/_search\"\n",
        "#response = requests.get(search_url, json=query, auth=(username, password))"
      ],
      "metadata": {
        "id": "JA2QchqqyFXN"
      },
      "execution_count": null,
      "outputs": []
    },
    {
      "cell_type": "code",
      "source": [
        "query = {\n",
        "  \"_source\": [\"target\", \"title\",\"description_content\"],\n",
        "  \"size\":600,\n",
        "  \"query\": {\n",
        "    \"bool\": {\n",
        "      \"must\": [],\n",
        "      \"filter\": [\n",
        "        {\n",
        "          \"match_all\": {}\n",
        "        },\n",
        "        {\n",
        "          \"bool\": {\n",
        "            \"should\": [\n",
        "\n",
        "\n",
        "              {\n",
        "                \"match_phrase\": {\n",
        "                  \"target\": \"banggai\"\n",
        "                }\n",
        "              }\n",
        "            ],\n",
        "            \"minimum_should_match\": 1\n",
        "\n",
        "\n",
        "          }\n",
        "        }\n",
        "      ]\n",
        "    }\n",
        "  }\n",
        "}\n",
        "search_url = f\"{elasticsearch_url}/{index_endpoint}/_search\"\n",
        "response = requests.get(search_url, json=query, auth=(username, password))"
      ],
      "metadata": {
        "id": "txkI7mMbPN7K"
      },
      "execution_count": null,
      "outputs": []
    },
    {
      "cell_type": "code",
      "source": [
        "search_url\n"
      ],
      "metadata": {
        "colab": {
          "base_uri": "https://localhost:8080/",
          "height": 35
        },
        "id": "gH2-uNiF5bNf",
        "outputId": "625aabc9-4e1a-4ed6-9bc2-cbce12aef663"
      },
      "execution_count": null,
      "outputs": [
        {
          "output_type": "execute_result",
          "data": {
            "text/plain": [
              "'https://es-1.datanusantara.com:9201/news-crawl-production-v2/_search'"
            ],
            "application/vnd.google.colaboratory.intrinsic+json": {
              "type": "string"
            }
          },
          "metadata": {},
          "execution_count": 97
        }
      ]
    },
    {
      "cell_type": "code",
      "source": [
        "search_results = response.json()\n",
        "# print(json.dumps(search_results, indent=2))\n",
        "print(len(search_results['hits']['hits']))"
      ],
      "metadata": {
        "colab": {
          "base_uri": "https://localhost:8080/"
        },
        "id": "kgnEX_k4Wjqm",
        "outputId": "5cca4673-ce4c-4413-a541-54ef8cb0da8b"
      },
      "execution_count": null,
      "outputs": [
        {
          "output_type": "stream",
          "name": "stdout",
          "text": [
            "600\n"
          ]
        }
      ]
    },
    {
      "cell_type": "code",
      "source": [
        "# Parse the response to extract relevant data\n",
        "search_results = response.json()\n",
        "\n",
        "# Process the data and create a DataFrame\n",
        "data = []\n",
        "for hit in search_results.get(\"hits\", {}).get(\"hits\", []):\n",
        "    target = hit[\"_source\"][\"target\"]\n",
        "    title = hit[\"_source\"][\"title\"]\n",
        "    text = hit[\"_source\"][\"description_content\"]\n",
        "\n",
        "    data.append({\"target\": target,  \"title\": title, \"text\": text})\n",
        "\n",
        "# Create a DataFrame\n",
        "df = pd.DataFrame(data)\n",
        "print(df.head())"
      ],
      "metadata": {
        "colab": {
          "base_uri": "https://localhost:8080/"
        },
        "id": "j4AoD9uyU15U",
        "outputId": "5809d998-06ff-420f-859e-8cdcab467c81"
      },
      "execution_count": null,
      "outputs": [
        {
          "output_type": "stream",
          "name": "stdout",
          "text": [
            "    target                                              title  \\\n",
            "0  banggai  Mobil Sim Keliling Polres Banggai Meriahkan Pa...   \n",
            "1  banggai  Film Horor “Piara Mayat”,  Kreativitas Anak Mu...   \n",
            "2  banggai  Festival Malabot Tumbe 2023 Kembali Meriahkan ...   \n",
            "3  banggai  Rakor Kampanye Damai Pemilu 2024, Polres Bangg...   \n",
            "4  banggai  Bawaslu Banggai Perkuat Koordinasi dengan Panw...   \n",
            "\n",
            "                                                text  \n",
            "0  KABAR LUWUK –  Suasana Pasar Murah bersubsidi ...  \n",
            "1  KABAR LUWUK  –  Film Horor“Piara Mayat”,Kreati...  \n",
            "2  KABAR LUWUK  –Festival Malabot Tumbe 2023Kemba...  \n",
            "3  “Kerja Cepat dan Terkoordinir dalam Penerbitan...  \n",
            "4  KABAR LUWUK  –Bawaslu BanggaiPerkuat Koordinas...  \n"
          ]
        }
      ]
    },
    {
      "cell_type": "code",
      "source": [
        "df"
      ],
      "metadata": {
        "colab": {
          "base_uri": "https://localhost:8080/",
          "height": 424
        },
        "id": "CDecXx4K7dOv",
        "outputId": "578077ba-6f7b-4e76-9309-7eb205f7901e"
      },
      "execution_count": null,
      "outputs": [
        {
          "output_type": "execute_result",
          "data": {
            "text/plain": [
              "      target                                              title  \\\n",
              "0    banggai  Mobil Sim Keliling Polres Banggai Meriahkan Pa...   \n",
              "1    banggai  Film Horor “Piara Mayat”,  Kreativitas Anak Mu...   \n",
              "2    banggai  Festival Malabot Tumbe 2023 Kembali Meriahkan ...   \n",
              "3    banggai  Rakor Kampanye Damai Pemilu 2024, Polres Bangg...   \n",
              "4    banggai  Bawaslu Banggai Perkuat Koordinasi dengan Panw...   \n",
              "..       ...                                                ...   \n",
              "595  banggai  Banggai Run Challenge 2024 Menggantikan Tour d...   \n",
              "596  banggai  Baru PDIP, Bawaslu Banggai Minta Parpol Segera...   \n",
              "597  banggai  Command Center Pemkab Banggai segera Dibangun ...   \n",
              "598  banggai  Rp 4,2 M Disiapkan Pemda Banggai untuk Isentif...   \n",
              "599  banggai  Reses Aleg Dprd Banggai Haji Udin Serap Aspira...   \n",
              "\n",
              "                                                  text  \n",
              "0    KABAR LUWUK –  Suasana Pasar Murah bersubsidi ...  \n",
              "1    KABAR LUWUK  –  Film Horor“Piara Mayat”,Kreati...  \n",
              "2    KABAR LUWUK  –Festival Malabot Tumbe 2023Kemba...  \n",
              "3    “Kerja Cepat dan Terkoordinir dalam Penerbitan...  \n",
              "4    KABAR LUWUK  –Bawaslu BanggaiPerkuat Koordinas...  \n",
              "..                                                 ...  \n",
              "595  KABAR LUWUK –Banggai Run Challenge 2024menggan...  \n",
              "596  BANGGAI RAYA- Badan Pengawas Pemilu (Bawaslu) ...  \n",
              "597  Laporan Wartawan TribunPalu.com, Asnawi Zikri ...  \n",
              "598  BANGGAI RAYA- Tahun ini, Pemerintah Daerah (Pe...  \n",
              "599  Terasbanggai.com -Sejumlah usulan pembangunan ...  \n",
              "\n",
              "[600 rows x 3 columns]"
            ],
            "text/html": [
              "\n",
              "  <div id=\"df-50eab3a2-50bf-4809-b15f-81999c74e98a\" class=\"colab-df-container\">\n",
              "    <div>\n",
              "<style scoped>\n",
              "    .dataframe tbody tr th:only-of-type {\n",
              "        vertical-align: middle;\n",
              "    }\n",
              "\n",
              "    .dataframe tbody tr th {\n",
              "        vertical-align: top;\n",
              "    }\n",
              "\n",
              "    .dataframe thead th {\n",
              "        text-align: right;\n",
              "    }\n",
              "</style>\n",
              "<table border=\"1\" class=\"dataframe\">\n",
              "  <thead>\n",
              "    <tr style=\"text-align: right;\">\n",
              "      <th></th>\n",
              "      <th>target</th>\n",
              "      <th>title</th>\n",
              "      <th>text</th>\n",
              "    </tr>\n",
              "  </thead>\n",
              "  <tbody>\n",
              "    <tr>\n",
              "      <th>0</th>\n",
              "      <td>banggai</td>\n",
              "      <td>Mobil Sim Keliling Polres Banggai Meriahkan Pa...</td>\n",
              "      <td>KABAR LUWUK –  Suasana Pasar Murah bersubsidi ...</td>\n",
              "    </tr>\n",
              "    <tr>\n",
              "      <th>1</th>\n",
              "      <td>banggai</td>\n",
              "      <td>Film Horor “Piara Mayat”,  Kreativitas Anak Mu...</td>\n",
              "      <td>KABAR LUWUK  –  Film Horor“Piara Mayat”,Kreati...</td>\n",
              "    </tr>\n",
              "    <tr>\n",
              "      <th>2</th>\n",
              "      <td>banggai</td>\n",
              "      <td>Festival Malabot Tumbe 2023 Kembali Meriahkan ...</td>\n",
              "      <td>KABAR LUWUK  –Festival Malabot Tumbe 2023Kemba...</td>\n",
              "    </tr>\n",
              "    <tr>\n",
              "      <th>3</th>\n",
              "      <td>banggai</td>\n",
              "      <td>Rakor Kampanye Damai Pemilu 2024, Polres Bangg...</td>\n",
              "      <td>“Kerja Cepat dan Terkoordinir dalam Penerbitan...</td>\n",
              "    </tr>\n",
              "    <tr>\n",
              "      <th>4</th>\n",
              "      <td>banggai</td>\n",
              "      <td>Bawaslu Banggai Perkuat Koordinasi dengan Panw...</td>\n",
              "      <td>KABAR LUWUK  –Bawaslu BanggaiPerkuat Koordinas...</td>\n",
              "    </tr>\n",
              "    <tr>\n",
              "      <th>...</th>\n",
              "      <td>...</td>\n",
              "      <td>...</td>\n",
              "      <td>...</td>\n",
              "    </tr>\n",
              "    <tr>\n",
              "      <th>595</th>\n",
              "      <td>banggai</td>\n",
              "      <td>Banggai Run Challenge 2024 Menggantikan Tour d...</td>\n",
              "      <td>KABAR LUWUK –Banggai Run Challenge 2024menggan...</td>\n",
              "    </tr>\n",
              "    <tr>\n",
              "      <th>596</th>\n",
              "      <td>banggai</td>\n",
              "      <td>Baru PDIP, Bawaslu Banggai Minta Parpol Segera...</td>\n",
              "      <td>BANGGAI RAYA- Badan Pengawas Pemilu (Bawaslu) ...</td>\n",
              "    </tr>\n",
              "    <tr>\n",
              "      <th>597</th>\n",
              "      <td>banggai</td>\n",
              "      <td>Command Center Pemkab Banggai segera Dibangun ...</td>\n",
              "      <td>Laporan Wartawan TribunPalu.com, Asnawi Zikri ...</td>\n",
              "    </tr>\n",
              "    <tr>\n",
              "      <th>598</th>\n",
              "      <td>banggai</td>\n",
              "      <td>Rp 4,2 M Disiapkan Pemda Banggai untuk Isentif...</td>\n",
              "      <td>BANGGAI RAYA- Tahun ini, Pemerintah Daerah (Pe...</td>\n",
              "    </tr>\n",
              "    <tr>\n",
              "      <th>599</th>\n",
              "      <td>banggai</td>\n",
              "      <td>Reses Aleg Dprd Banggai Haji Udin Serap Aspira...</td>\n",
              "      <td>Terasbanggai.com -Sejumlah usulan pembangunan ...</td>\n",
              "    </tr>\n",
              "  </tbody>\n",
              "</table>\n",
              "<p>600 rows × 3 columns</p>\n",
              "</div>\n",
              "    <div class=\"colab-df-buttons\">\n",
              "\n",
              "  <div class=\"colab-df-container\">\n",
              "    <button class=\"colab-df-convert\" onclick=\"convertToInteractive('df-50eab3a2-50bf-4809-b15f-81999c74e98a')\"\n",
              "            title=\"Convert this dataframe to an interactive table.\"\n",
              "            style=\"display:none;\">\n",
              "\n",
              "  <svg xmlns=\"http://www.w3.org/2000/svg\" height=\"24px\" viewBox=\"0 -960 960 960\">\n",
              "    <path d=\"M120-120v-720h720v720H120Zm60-500h600v-160H180v160Zm220 220h160v-160H400v160Zm0 220h160v-160H400v160ZM180-400h160v-160H180v160Zm440 0h160v-160H620v160ZM180-180h160v-160H180v160Zm440 0h160v-160H620v160Z\"/>\n",
              "  </svg>\n",
              "    </button>\n",
              "\n",
              "  <style>\n",
              "    .colab-df-container {\n",
              "      display:flex;\n",
              "      gap: 12px;\n",
              "    }\n",
              "\n",
              "    .colab-df-convert {\n",
              "      background-color: #E8F0FE;\n",
              "      border: none;\n",
              "      border-radius: 50%;\n",
              "      cursor: pointer;\n",
              "      display: none;\n",
              "      fill: #1967D2;\n",
              "      height: 32px;\n",
              "      padding: 0 0 0 0;\n",
              "      width: 32px;\n",
              "    }\n",
              "\n",
              "    .colab-df-convert:hover {\n",
              "      background-color: #E2EBFA;\n",
              "      box-shadow: 0px 1px 2px rgba(60, 64, 67, 0.3), 0px 1px 3px 1px rgba(60, 64, 67, 0.15);\n",
              "      fill: #174EA6;\n",
              "    }\n",
              "\n",
              "    .colab-df-buttons div {\n",
              "      margin-bottom: 4px;\n",
              "    }\n",
              "\n",
              "    [theme=dark] .colab-df-convert {\n",
              "      background-color: #3B4455;\n",
              "      fill: #D2E3FC;\n",
              "    }\n",
              "\n",
              "    [theme=dark] .colab-df-convert:hover {\n",
              "      background-color: #434B5C;\n",
              "      box-shadow: 0px 1px 3px 1px rgba(0, 0, 0, 0.15);\n",
              "      filter: drop-shadow(0px 1px 2px rgba(0, 0, 0, 0.3));\n",
              "      fill: #FFFFFF;\n",
              "    }\n",
              "  </style>\n",
              "\n",
              "    <script>\n",
              "      const buttonEl =\n",
              "        document.querySelector('#df-50eab3a2-50bf-4809-b15f-81999c74e98a button.colab-df-convert');\n",
              "      buttonEl.style.display =\n",
              "        google.colab.kernel.accessAllowed ? 'block' : 'none';\n",
              "\n",
              "      async function convertToInteractive(key) {\n",
              "        const element = document.querySelector('#df-50eab3a2-50bf-4809-b15f-81999c74e98a');\n",
              "        const dataTable =\n",
              "          await google.colab.kernel.invokeFunction('convertToInteractive',\n",
              "                                                    [key], {});\n",
              "        if (!dataTable) return;\n",
              "\n",
              "        const docLinkHtml = 'Like what you see? Visit the ' +\n",
              "          '<a target=\"_blank\" href=https://colab.research.google.com/notebooks/data_table.ipynb>data table notebook</a>'\n",
              "          + ' to learn more about interactive tables.';\n",
              "        element.innerHTML = '';\n",
              "        dataTable['output_type'] = 'display_data';\n",
              "        await google.colab.output.renderOutput(dataTable, element);\n",
              "        const docLink = document.createElement('div');\n",
              "        docLink.innerHTML = docLinkHtml;\n",
              "        element.appendChild(docLink);\n",
              "      }\n",
              "    </script>\n",
              "  </div>\n",
              "\n",
              "\n",
              "<div id=\"df-ecf1aed2-70a5-4fe9-9655-93b0ac872f7a\">\n",
              "  <button class=\"colab-df-quickchart\" onclick=\"quickchart('df-ecf1aed2-70a5-4fe9-9655-93b0ac872f7a')\"\n",
              "            title=\"Suggest charts\"\n",
              "            style=\"display:none;\">\n",
              "\n",
              "<svg xmlns=\"http://www.w3.org/2000/svg\" height=\"24px\"viewBox=\"0 0 24 24\"\n",
              "     width=\"24px\">\n",
              "    <g>\n",
              "        <path d=\"M19 3H5c-1.1 0-2 .9-2 2v14c0 1.1.9 2 2 2h14c1.1 0 2-.9 2-2V5c0-1.1-.9-2-2-2zM9 17H7v-7h2v7zm4 0h-2V7h2v10zm4 0h-2v-4h2v4z\"/>\n",
              "    </g>\n",
              "</svg>\n",
              "  </button>\n",
              "\n",
              "<style>\n",
              "  .colab-df-quickchart {\n",
              "      --bg-color: #E8F0FE;\n",
              "      --fill-color: #1967D2;\n",
              "      --hover-bg-color: #E2EBFA;\n",
              "      --hover-fill-color: #174EA6;\n",
              "      --disabled-fill-color: #AAA;\n",
              "      --disabled-bg-color: #DDD;\n",
              "  }\n",
              "\n",
              "  [theme=dark] .colab-df-quickchart {\n",
              "      --bg-color: #3B4455;\n",
              "      --fill-color: #D2E3FC;\n",
              "      --hover-bg-color: #434B5C;\n",
              "      --hover-fill-color: #FFFFFF;\n",
              "      --disabled-bg-color: #3B4455;\n",
              "      --disabled-fill-color: #666;\n",
              "  }\n",
              "\n",
              "  .colab-df-quickchart {\n",
              "    background-color: var(--bg-color);\n",
              "    border: none;\n",
              "    border-radius: 50%;\n",
              "    cursor: pointer;\n",
              "    display: none;\n",
              "    fill: var(--fill-color);\n",
              "    height: 32px;\n",
              "    padding: 0;\n",
              "    width: 32px;\n",
              "  }\n",
              "\n",
              "  .colab-df-quickchart:hover {\n",
              "    background-color: var(--hover-bg-color);\n",
              "    box-shadow: 0 1px 2px rgba(60, 64, 67, 0.3), 0 1px 3px 1px rgba(60, 64, 67, 0.15);\n",
              "    fill: var(--button-hover-fill-color);\n",
              "  }\n",
              "\n",
              "  .colab-df-quickchart-complete:disabled,\n",
              "  .colab-df-quickchart-complete:disabled:hover {\n",
              "    background-color: var(--disabled-bg-color);\n",
              "    fill: var(--disabled-fill-color);\n",
              "    box-shadow: none;\n",
              "  }\n",
              "\n",
              "  .colab-df-spinner {\n",
              "    border: 2px solid var(--fill-color);\n",
              "    border-color: transparent;\n",
              "    border-bottom-color: var(--fill-color);\n",
              "    animation:\n",
              "      spin 1s steps(1) infinite;\n",
              "  }\n",
              "\n",
              "  @keyframes spin {\n",
              "    0% {\n",
              "      border-color: transparent;\n",
              "      border-bottom-color: var(--fill-color);\n",
              "      border-left-color: var(--fill-color);\n",
              "    }\n",
              "    20% {\n",
              "      border-color: transparent;\n",
              "      border-left-color: var(--fill-color);\n",
              "      border-top-color: var(--fill-color);\n",
              "    }\n",
              "    30% {\n",
              "      border-color: transparent;\n",
              "      border-left-color: var(--fill-color);\n",
              "      border-top-color: var(--fill-color);\n",
              "      border-right-color: var(--fill-color);\n",
              "    }\n",
              "    40% {\n",
              "      border-color: transparent;\n",
              "      border-right-color: var(--fill-color);\n",
              "      border-top-color: var(--fill-color);\n",
              "    }\n",
              "    60% {\n",
              "      border-color: transparent;\n",
              "      border-right-color: var(--fill-color);\n",
              "    }\n",
              "    80% {\n",
              "      border-color: transparent;\n",
              "      border-right-color: var(--fill-color);\n",
              "      border-bottom-color: var(--fill-color);\n",
              "    }\n",
              "    90% {\n",
              "      border-color: transparent;\n",
              "      border-bottom-color: var(--fill-color);\n",
              "    }\n",
              "  }\n",
              "</style>\n",
              "\n",
              "  <script>\n",
              "    async function quickchart(key) {\n",
              "      const quickchartButtonEl =\n",
              "        document.querySelector('#' + key + ' button');\n",
              "      quickchartButtonEl.disabled = true;  // To prevent multiple clicks.\n",
              "      quickchartButtonEl.classList.add('colab-df-spinner');\n",
              "      try {\n",
              "        const charts = await google.colab.kernel.invokeFunction(\n",
              "            'suggestCharts', [key], {});\n",
              "      } catch (error) {\n",
              "        console.error('Error during call to suggestCharts:', error);\n",
              "      }\n",
              "      quickchartButtonEl.classList.remove('colab-df-spinner');\n",
              "      quickchartButtonEl.classList.add('colab-df-quickchart-complete');\n",
              "    }\n",
              "    (() => {\n",
              "      let quickchartButtonEl =\n",
              "        document.querySelector('#df-ecf1aed2-70a5-4fe9-9655-93b0ac872f7a button');\n",
              "      quickchartButtonEl.style.display =\n",
              "        google.colab.kernel.accessAllowed ? 'block' : 'none';\n",
              "    })();\n",
              "  </script>\n",
              "</div>\n",
              "    </div>\n",
              "  </div>\n"
            ],
            "application/vnd.google.colaboratory.intrinsic+json": {
              "type": "dataframe",
              "variable_name": "df",
              "summary": "{\n  \"name\": \"df\",\n  \"rows\": 600,\n  \"fields\": [\n    {\n      \"column\": \"target\",\n      \"properties\": {\n        \"dtype\": \"category\",\n        \"num_unique_values\": 1,\n        \"samples\": [\n          \"banggai\"\n        ],\n        \"semantic_type\": \"\",\n        \"description\": \"\"\n      }\n    },\n    {\n      \"column\": \"title\",\n      \"properties\": {\n        \"dtype\": \"string\",\n        \"num_unique_values\": 580,\n        \"samples\": [\n          \"Banggai Run Challenge 2024 Menggantikan Tour de Banggai, Dorong Pariwisata dan Ekonomi Lokal\"\n        ],\n        \"semantic_type\": \"\",\n        \"description\": \"\"\n      }\n    },\n    {\n      \"column\": \"text\",\n      \"properties\": {\n        \"dtype\": \"string\",\n        \"num_unique_values\": 575,\n        \"samples\": [\n          \"BANGGAI RAYA- Universitas Muhammadiyah (Unismuh) Luwuk sukses melangsungkan wisuda Angkatan 21 pada Senin 18 Desember 2023, di Hotel Estrella Luwuk.Tahun ini, kampus hijau di bawah pimpinan Rektor Dr. Sutrisno K Djawa mewisuda sebanyak 768 lulusan sarjana strata satu.Ratusan lulusan itu diwisuda dalam dua sesi, di mana sesi pertama yang berlangsung dari pagi diikuti tiga fakultas dan sesi kedua yang dilaksanakan siang hari sampai sore diikuti lima fakultas.Dalam prosesi wisuda, kampus hijau mengumumkan 15 nama-nama lulusan sarjana terbaik dari 15 Prodi 8 Fakultas yang dibacakan oleh Wakil Rektor I Mustafa Abd Rahim.Pertama, lulusan terbaik Fakultas Ilmu Sosial dan Ilmu Politik, dari Prodi Ilmu Pemerintahan berhasil diraih Amaludin S.IP., dengan raihan IPK 3,95.Kedua, dari Prodi Ilmu Komunikasi dengan raihan IPK 3,88 sukses diraih atas nama Mujamin S.I.Kom.Ketiga, Fakultas Ekonomi dan Bisnis, lulusan sarjana terbaik dari Prodi Manajemen sukses diraih Firjin Firna Kasegar S.M., dengan raihan IPK 3,70.Keempat, lulusan terbaik dari Prodi Akuntansi sukses diraih Rahmat Dalim, S.Ak. dengan IPK 3,85.Kelima, ulusan sarjana terbaik Fakultas Perikanan, dari Prodi Budidaya Perairan berhasil diraih Siti Israwati S.Pi., dengan IPK 3,96.Keenam, Sandi Kasang. S. Pd, beliau dari Fakultas Ilmu Keguruan dan Ilmu Pendidikan (FKIP) dengan prodi Pendidikan Jasmani Kesehatan dan Rekreasi, dengan raihan IPK IPK 3,97.Ketujuh, Bintang Amanah Setiawan. S. Pd. Fakultas FKIP, Prodi Bahasa Inggris ini, dengan raihan IPK 3,95.Kedelapan, Dewi Kartika Koida. S. Pd. Fakultas FKIP dari Prodi Pendidikan Biologi, dengan raihan IPK 3,81.Sembilan, Syafira F Panggato, SH. alumni Fakultas Hukum ini, sukses meraih IPK 3,80.Sepuluh, Nova Hidayah. S.Pd, Alumni Fakultas Agama Islam dari Prodi Pendidikan Agama Islam, dengan raihan IPK 3,91.Sebelas, Fahria Hensokan. Fakultas Agama Islam, Prodi Pendidikan Islam Anak Usia Dini ini meraih IPK 3,84.Dua belas, ditempati wisudawati atas namaNovi Yanti, S.P. lulusan Fakultas Pertanian dari Prodi Agribisnis, dengan raihan IPK 3,66.Tiga belas, diraih Yurita, S. P., dari Fakultas Pertanian, Prodi Agroteknologi, dengan raihan IPK 3,75.Empat belas, Rahmawati Hilipito, S.T, Fakultas Tehnik Prodi Tehnik Sipil, dengan raihan IPK 3,79.Terakhir, diraih Nurwahida, S.T, alumni Fakultas Tehnik, Prodi Tehnik Industri, dengan raihan IPK 3,54.Dari 15 lulusan terbaik, Sandi Kasang. S. Pd, menjadi lulusan dengan raihan IPK tertinggi se Unismuh Luwuk. Ia meraih IPK 3,97.Atas prestasi yang membanggakan ini para lulusan terbaik dari masing-masing program studi berhak mendapatkan piagam penghargaan yang diserahkan langsung oleh Rektor Unismuh Luwuk, Dr Sutrisno K Djawa dan didampingi Wakil-wakil rektornya.Tidak hanya piagam, lulusan terbaik juga mendapat bonus atau reward berupa uang tunai dari Bank Syariah Indonesia (BSI) Cabang Luwuk. Ini sebagai bentuk dukungan BSI terhadap dunia pendidikan, khususnya kepada kampus hijau Unismuh Luwuk. (*)\"\n        ],\n        \"semantic_type\": \"\",\n        \"description\": \"\"\n      }\n    }\n  ]\n}"
            }
          },
          "metadata": {},
          "execution_count": 93
        }
      ]
    },
    {
      "cell_type": "code",
      "source": [
        "df.info()"
      ],
      "metadata": {
        "colab": {
          "base_uri": "https://localhost:8080/"
        },
        "id": "CdinjW6N7dUR",
        "outputId": "6af65c55-3af9-45a9-c783-153deea95085"
      },
      "execution_count": null,
      "outputs": [
        {
          "output_type": "stream",
          "name": "stdout",
          "text": [
            "<class 'pandas.core.frame.DataFrame'>\n",
            "RangeIndex: 600 entries, 0 to 599\n",
            "Data columns (total 3 columns):\n",
            " #   Column  Non-Null Count  Dtype \n",
            "---  ------  --------------  ----- \n",
            " 0   target  600 non-null    object\n",
            " 1   title   600 non-null    object\n",
            " 2   text    600 non-null    object\n",
            "dtypes: object(3)\n",
            "memory usage: 14.2+ KB\n"
          ]
        }
      ]
    },
    {
      "cell_type": "markdown",
      "metadata": {
        "id": "gUEtMZPwYsWm"
      },
      "source": [
        "# Preprocessing"
      ]
    },
    {
      "cell_type": "markdown",
      "metadata": {
        "id": "1zxQ2fH4cJsF"
      },
      "source": [
        "## Delete Duplicates"
      ]
    },
    {
      "cell_type": "code",
      "execution_count": null,
      "metadata": {
        "colab": {
          "base_uri": "https://localhost:8080/"
        },
        "id": "QTIzTCJ-cZpF",
        "outputId": "6f3116cc-675b-496c-edde-539f2f7e6c4c"
      },
      "outputs": [
        {
          "output_type": "execute_result",
          "data": {
            "text/plain": [
              "20"
            ]
          },
          "metadata": {},
          "execution_count": 101
        }
      ],
      "source": [
        "df.duplicated(subset='title', keep='first').sum()"
      ]
    },
    {
      "cell_type": "code",
      "execution_count": null,
      "metadata": {
        "id": "rDSvUPZIcMrK"
      },
      "outputs": [],
      "source": [
        "df = df.drop_duplicates(subset='title', keep='first')"
      ]
    },
    {
      "cell_type": "markdown",
      "metadata": {
        "id": "LJL-neuHd-ab"
      },
      "source": [
        "## Case Folding"
      ]
    },
    {
      "cell_type": "code",
      "execution_count": null,
      "metadata": {
        "id": "os3Yx3F1cC3Z"
      },
      "outputs": [],
      "source": [
        "def clean_lower(lwr):\n",
        "    lwr = lwr.lower() # lowercase text\n",
        "    return lwr"
      ]
    },
    {
      "cell_type": "code",
      "execution_count": null,
      "metadata": {
        "colab": {
          "base_uri": "https://localhost:8080/"
        },
        "id": "MMU-H_NhdZHO",
        "outputId": "9929aa03-98b3-4d2c-f5e3-04a34f8c2e6e"
      },
      "outputs": [
        {
          "output_type": "execute_result",
          "data": {
            "text/plain": [
              "0      kabar luwuk –  suasana pasar murah bersubsidi ...\n",
              "1      kabar luwuk  –  film horor“piara mayat”,kreati...\n",
              "2      kabar luwuk  –festival malabot tumbe 2023kemba...\n",
              "3      “kerja cepat dan terkoordinir dalam penerbitan...\n",
              "4      kabar luwuk  –bawaslu banggaiperkuat koordinas...\n",
              "                             ...                        \n",
              "595    kabar luwuk –banggai run challenge 2024menggan...\n",
              "596    banggai raya- badan pengawas pemilu (bawaslu) ...\n",
              "597    laporan wartawan tribunpalu.com, asnawi zikri ...\n",
              "598    banggai raya- tahun ini, pemerintah daerah (pe...\n",
              "599    terasbanggai.com -sejumlah usulan pembangunan ...\n",
              "Name: lwr, Length: 580, dtype: object"
            ]
          },
          "metadata": {},
          "execution_count": 104
        }
      ],
      "source": [
        "# Buat kolom tambahan untuk data ulasan yang telah dicasefolding\n",
        "df['lwr'] = df['text'].apply(clean_lower)\n",
        "df['lwr']"
      ]
    },
    {
      "cell_type": "code",
      "source": [
        "df"
      ],
      "metadata": {
        "id": "GDN_GKCQ09vH"
      },
      "execution_count": null,
      "outputs": []
    },
    {
      "cell_type": "code",
      "execution_count": null,
      "metadata": {
        "colab": {
          "base_uri": "https://localhost:8080/"
        },
        "id": "LHYbHbrvomiW",
        "outputId": "cdc5148d-6924-41ff-ded6-00161ad1406a"
      },
      "outputs": [
        {
          "output_type": "stream",
          "name": "stdout",
          "text": [
            "KABAR LUWUK  –Dinas Sosial BanggaiSegera Salurkan 2.42 MiliarProgram Gercep Gaskan Berdaya2023.Dinas Sosial Kabupaten Banggaimenerima bantuan sebesar 2.42 miliar rupiah dalam program Gerak Cepat Pengentasan Kemiskinan Berbasis Pemberdayaan Masyarakat (GERCEP GASKAN BERDAYA).Bantuan ini ditujukan untuk 242 keluarga penerima manfaat di lima kecamatan, memberikan harapan bagi warga di Kecamatan Luwuk (35 KPM), Luwuk Selatan (28 KPM), Pagimana (95 KPM), Bunta (47 KPM), dan Nuhon (37 KPM). Selasa 28/11/2023.Kepala Dinas Sosial Kabupaten Banggai, Irpan Poma melalui Kepala Bidang Fakir Miskis,Ronald Putje,menyampaikan kepada media bahwa dana bantuan ini merupakan sumbangan langsung dari Pemerintah Provinsi Sulawesi Tengah.Dinas Sosial Kabupaten Banggai bertanggung jawab dalam memfasilitasi distribusi bantuan dan ikut serta dalam pengawasan ketat agar dana tersebut benar-benar sampai kepada penerima manfaat yang tepat.Data yang tersedia menunjukkan bahwa 242 Keluarga Penerima Manfaat yang terdiri dari Lima kecamatan di Kabupaten Banggai memenuhi kriteria untuk menerima bantuan ini.Dinas Sosial Kabupaten Banggai berharap bahwa bantuan ini akan memberikan bantuan nyata dan meringankan beban masyarakat yang membutuhkan.Bantuan ini tidak hanya sekadar alokasi dana, tetapi juga merupakan upaya konkret dalam upaya mengentaskan kemiskinan melalui pemberdayaan masyarakat.Semoga, dengan kuncuran dana ini, masyarakat penerima manfaat dapat merasakan dampak positifnya, membuka peluang baru, dan mengurangi tingkat kemiskinan di wilayah tersebut. Aksi ini menjadi bukti komitmen bersama dalam membangun kesejahteraan dan keadilan sosial di Kabupaten Banggai.Pemberian bantuan ini menjadi langkah strategis dalam mendukung pembangunan berkelanjutan di Kabupaten Banggai. Melalui program GERCEP GASKAN BERDAYA, pemerintah berusaha meningkatkan kesejahteraan masyarakat dengan cara yang berkelanjutan dan berbasis pada pemberdayaan.Dalam penyampaiannya,  Ronald Putje menekankan pentingnya sinergi antara pemerintah pusat, provinsi, dan kabupaten untuk mencapai hasil yang optimal.“Kami berupaya agar bantuan ini tidak hanya bersifat sekali waktu, tetapi juga mampu menciptakan dampak positif jangka panjang. Oleh karena itu, perlu adanya koordinasi yang baik dalam pelaksanaan program ini,” ujarnya.Bantuan ini diharapkan tidak hanya menjadi solusi sesaat, tetapi juga menciptakan perubahan struktural yang mampu meningkatkan kapasitas masyarakat penerima manfaat.Oleh karena itu, Dinas Sosial Kabupaten Banggai akan terus melakukan pemantauan dan evaluasi secara berkala guna memastikan bahwa bantuan tersebut benar-benar memberikan dampak yang positif.Sebagai bagian dari upaya bersama mengatasi kemiskinan, bantuan ini mencerminkan komitmen pemerintah dalam menciptakan inklusivitas sosial dan kesetaraan akses terhadap sumber daya.Dengan adanya bantuan ini, diharapkan masyarakat di Kabupaten Banggai dapat membangun kehidupan yang lebih baik, mandiri, dan berdaya.**Penulis : Imam Muslik ( Jurnalis )\n",
            "_______________________________________________________________________________________________________________\n",
            "kabar luwuk  –dinas sosial banggaisegera salurkan 2.42 miliarprogram gercep gaskan berdaya2023.dinas sosial kabupaten banggaimenerima bantuan sebesar 2.42 miliar rupiah dalam program gerak cepat pengentasan kemiskinan berbasis pemberdayaan masyarakat (gercep gaskan berdaya).bantuan ini ditujukan untuk 242 keluarga penerima manfaat di lima kecamatan, memberikan harapan bagi warga di kecamatan luwuk (35 kpm), luwuk selatan (28 kpm), pagimana (95 kpm), bunta (47 kpm), dan nuhon (37 kpm). selasa 28/11/2023.kepala dinas sosial kabupaten banggai, irpan poma melalui kepala bidang fakir miskis,ronald putje,menyampaikan kepada media bahwa dana bantuan ini merupakan sumbangan langsung dari pemerintah provinsi sulawesi tengah.dinas sosial kabupaten banggai bertanggung jawab dalam memfasilitasi distribusi bantuan dan ikut serta dalam pengawasan ketat agar dana tersebut benar-benar sampai kepada penerima manfaat yang tepat.data yang tersedia menunjukkan bahwa 242 keluarga penerima manfaat yang terdiri dari lima kecamatan di kabupaten banggai memenuhi kriteria untuk menerima bantuan ini.dinas sosial kabupaten banggai berharap bahwa bantuan ini akan memberikan bantuan nyata dan meringankan beban masyarakat yang membutuhkan.bantuan ini tidak hanya sekadar alokasi dana, tetapi juga merupakan upaya konkret dalam upaya mengentaskan kemiskinan melalui pemberdayaan masyarakat.semoga, dengan kuncuran dana ini, masyarakat penerima manfaat dapat merasakan dampak positifnya, membuka peluang baru, dan mengurangi tingkat kemiskinan di wilayah tersebut. aksi ini menjadi bukti komitmen bersama dalam membangun kesejahteraan dan keadilan sosial di kabupaten banggai.pemberian bantuan ini menjadi langkah strategis dalam mendukung pembangunan berkelanjutan di kabupaten banggai. melalui program gercep gaskan berdaya, pemerintah berusaha meningkatkan kesejahteraan masyarakat dengan cara yang berkelanjutan dan berbasis pada pemberdayaan.dalam penyampaiannya,  ronald putje menekankan pentingnya sinergi antara pemerintah pusat, provinsi, dan kabupaten untuk mencapai hasil yang optimal.“kami berupaya agar bantuan ini tidak hanya bersifat sekali waktu, tetapi juga mampu menciptakan dampak positif jangka panjang. oleh karena itu, perlu adanya koordinasi yang baik dalam pelaksanaan program ini,” ujarnya.bantuan ini diharapkan tidak hanya menjadi solusi sesaat, tetapi juga menciptakan perubahan struktural yang mampu meningkatkan kapasitas masyarakat penerima manfaat.oleh karena itu, dinas sosial kabupaten banggai akan terus melakukan pemantauan dan evaluasi secara berkala guna memastikan bahwa bantuan tersebut benar-benar memberikan dampak yang positif.sebagai bagian dari upaya bersama mengatasi kemiskinan, bantuan ini mencerminkan komitmen pemerintah dalam menciptakan inklusivitas sosial dan kesetaraan akses terhadap sumber daya.dengan adanya bantuan ini, diharapkan masyarakat di kabupaten banggai dapat membangun kehidupan yang lebih baik, mandiri, dan berdaya.**penulis : imam muslik ( jurnalis )\n"
          ]
        }
      ],
      "source": [
        "print(df['text'][30])\n",
        "print(\"_______________________________________________________________________________________________________________\")\n",
        "print(df['lwr'][30])"
      ]
    },
    {
      "cell_type": "markdown",
      "metadata": {
        "id": "skf-zcc5Ksrz"
      },
      "source": [
        "## Cleansing"
      ]
    },
    {
      "cell_type": "markdown",
      "metadata": {
        "id": "uqDcm6qIhpfo"
      },
      "source": [
        "### Remove Numbers"
      ]
    },
    {
      "cell_type": "code",
      "execution_count": null,
      "metadata": {
        "id": "BqdF07FkhrBN"
      },
      "outputs": [],
      "source": [
        "def remove_numbers(text):\n",
        "  text = re.sub('[0-9]+', '', text)\n",
        "  return text"
      ]
    },
    {
      "cell_type": "code",
      "execution_count": null,
      "metadata": {
        "colab": {
          "base_uri": "https://localhost:8080/"
        },
        "id": "g4JATB7_hrEu",
        "outputId": "2505e7b4-be0b-4727-9be0-14d7ba6d623f"
      },
      "outputs": [
        {
          "output_type": "execute_result",
          "data": {
            "text/plain": [
              "0      kabar luwuk –  suasana pasar murah bersubsidi ...\n",
              "1      kabar luwuk  –  film horor“piara mayat”,kreati...\n",
              "2      kabar luwuk  –festival malabot tumbe kembali m...\n",
              "3      “kerja cepat dan terkoordinir dalam penerbitan...\n",
              "4      kabar luwuk  –bawaslu banggaiperkuat koordinas...\n",
              "                             ...                        \n",
              "595    kabar luwuk –banggai run challenge menggantika...\n",
              "596    banggai raya- badan pengawas pemilu (bawaslu) ...\n",
              "597    laporan wartawan tribunpalu.com, asnawi zikri ...\n",
              "598    banggai raya- tahun ini, pemerintah daerah (pe...\n",
              "599    terasbanggai.com -sejumlah usulan pembangunan ...\n",
              "Name: clean_number, Length: 580, dtype: object"
            ]
          },
          "metadata": {},
          "execution_count": 107
        }
      ],
      "source": [
        "df['clean_number'] = df['lwr'].apply(remove_numbers)\n",
        "df['clean_number']"
      ]
    },
    {
      "cell_type": "code",
      "source": [
        "df"
      ],
      "metadata": {
        "id": "P7VjjWul1IIO"
      },
      "execution_count": null,
      "outputs": []
    },
    {
      "cell_type": "markdown",
      "metadata": {
        "id": "BgnmFGgbeM4o"
      },
      "source": [
        "### Remove Punctuation"
      ]
    },
    {
      "cell_type": "code",
      "execution_count": null,
      "metadata": {
        "id": "E17l7Edmdaf3"
      },
      "outputs": [],
      "source": [
        "#Remove Puncutuation\n",
        "clean_spcl = re.compile('[/(){}\\[\\]\\|@,;]')\n",
        "clean_symbol = re.compile('[^0-9a-z]')\n",
        "def clean_punct(text):\n",
        "    text = clean_spcl.sub('', text)\n",
        "    text = clean_symbol.sub(' ', text)\n",
        "    return text"
      ]
    },
    {
      "cell_type": "code",
      "execution_count": null,
      "metadata": {
        "colab": {
          "base_uri": "https://localhost:8080/"
        },
        "id": "8f1YgOnOeHJs",
        "outputId": "e943badb-2fc2-4d24-ec3a-f0bc3fc6ee35"
      },
      "outputs": [
        {
          "output_type": "execute_result",
          "data": {
            "text/plain": [
              "0      kabar luwuk    suasana pasar murah bersubsidi ...\n",
              "1      kabar luwuk     film horor piara mayat kreativ...\n",
              "2      kabar luwuk   festival malabot tumbe kembali m...\n",
              "3       kerja cepat dan terkoordinir dalam penerbitan...\n",
              "4      kabar luwuk   bawaslu banggaiperkuat koordinas...\n",
              "                             ...                        \n",
              "595    kabar luwuk  banggai run challenge menggantika...\n",
              "596    banggai raya  badan pengawas pemilu bawaslu ka...\n",
              "597    laporan wartawan tribunpalu com asnawi zikri t...\n",
              "598    banggai raya  tahun ini pemerintah daerah pemd...\n",
              "599    terasbanggai com  sejumlah usulan pembangunan ...\n",
              "Name: clean_punct, Length: 580, dtype: object"
            ]
          },
          "metadata": {},
          "execution_count": 109
        }
      ],
      "source": [
        "# Buat kolom tambahan untuk data description yang telah diremovepunctuation\n",
        "df['clean_punct'] = df['clean_number'].apply(clean_punct)\n",
        "df['clean_punct']"
      ]
    },
    {
      "cell_type": "code",
      "source": [
        "df\n"
      ],
      "metadata": {
        "id": "vMKcQy2K_Jbc"
      },
      "execution_count": null,
      "outputs": []
    },
    {
      "cell_type": "markdown",
      "metadata": {
        "id": "P1RGdnrreR9V"
      },
      "source": [
        "### Delete whitespaces"
      ]
    },
    {
      "cell_type": "code",
      "execution_count": null,
      "metadata": {
        "id": "t9ZjE6MleJmC"
      },
      "outputs": [],
      "source": [
        "def normalize_whitespace(text):\n",
        "    corrected = str(text)\n",
        "    corrected = re.sub(r\"//t\",r\"\\t\", corrected)\n",
        "    corrected = re.sub(r\"( )\\1+\",r\"\\1\", corrected)\n",
        "    corrected = re.sub(r\"(\\n)\\1+\",r\"\\1\", corrected)\n",
        "    corrected = re.sub(r\"(\\r)\\1+\",r\"\\1\", corrected)\n",
        "    corrected = re.sub(r\"(\\t)\\1+\",r\"\\1\", corrected)\n",
        "    return corrected.strip(\" \")"
      ]
    },
    {
      "cell_type": "code",
      "execution_count": null,
      "metadata": {
        "colab": {
          "base_uri": "https://localhost:8080/"
        },
        "id": "1T8BVqeTeZGX",
        "outputId": "f29a5bcb-c575-40b4-969c-2c6fdfb90ab6"
      },
      "outputs": [
        {
          "output_type": "execute_result",
          "data": {
            "text/plain": [
              "0      kabar luwuk suasana pasar murah bersubsidi di ...\n",
              "1      kabar luwuk film horor piara mayat kreativitas...\n",
              "2      kabar luwuk festival malabot tumbe kembali mer...\n",
              "3      kerja cepat dan terkoordinir dalam penerbitan ...\n",
              "4      kabar luwuk bawaslu banggaiperkuat koordinasi ...\n",
              "                             ...                        \n",
              "595    kabar luwuk banggai run challenge menggantikan...\n",
              "596    banggai raya badan pengawas pemilu bawaslu kab...\n",
              "597    laporan wartawan tribunpalu com asnawi zikri t...\n",
              "598    banggai raya tahun ini pemerintah daerah pemda...\n",
              "599    terasbanggai com sejumlah usulan pembangunan d...\n",
              "Name: clean_double_ws, Length: 580, dtype: object"
            ]
          },
          "metadata": {},
          "execution_count": 112
        }
      ],
      "source": [
        "df['clean_double_ws'] = df['clean_punct'].apply(normalize_whitespace)\n",
        "df['clean_double_ws']"
      ]
    },
    {
      "cell_type": "code",
      "source": [
        "df"
      ],
      "metadata": {
        "id": "WS12mtvVBUnS"
      },
      "execution_count": null,
      "outputs": []
    },
    {
      "cell_type": "markdown",
      "metadata": {
        "id": "akyZhgQzeZ8I"
      },
      "source": [
        "## Stopword Removal"
      ]
    },
    {
      "cell_type": "markdown",
      "metadata": {
        "id": "K4wdQI-SitWH"
      },
      "source": [
        "### Get custom stopwords"
      ]
    },
    {
      "cell_type": "code",
      "source": [
        "url = 'https://raw.githubusercontent.com/TaillessTanuki/ID-Stopwords/main/ID-Stopwords(MasDevid).csv'\n",
        "df_stopword = pd.read_csv(url, delimiter = \";\",encoding='cp1252')"
      ],
      "metadata": {
        "id": "s67SS5SuKOxZ"
      },
      "execution_count": null,
      "outputs": []
    },
    {
      "cell_type": "code",
      "execution_count": null,
      "metadata": {
        "colab": {
          "base_uri": "https://localhost:8080/"
        },
        "id": "2K7pfU2Hh9_A",
        "outputId": "d91de4b5-efba-4c9d-d54e-ead552e637ea"
      },
      "outputs": [
        {
          "output_type": "stream",
          "name": "stdout",
          "text": [
            "<class 'pandas.core.frame.DataFrame'>\n",
            "RangeIndex: 758 entries, 0 to 757\n",
            "Data columns (total 1 columns):\n",
            " #   Column     Non-Null Count  Dtype \n",
            "---  ------     --------------  ----- \n",
            " 0   Stopwords  758 non-null    object\n",
            "dtypes: object(1)\n",
            "memory usage: 6.0+ KB\n"
          ]
        }
      ],
      "source": [
        "df_stopword.info()"
      ]
    },
    {
      "cell_type": "code",
      "source": [
        "df_stopword"
      ],
      "metadata": {
        "colab": {
          "base_uri": "https://localhost:8080/",
          "height": 424
        },
        "id": "-Z9dEyx8IMV9",
        "outputId": "620d7205-06c4-4338-bcdf-016367ee652a"
      },
      "execution_count": null,
      "outputs": [
        {
          "output_type": "execute_result",
          "data": {
            "text/plain": [
              "    Stopwords\n",
              "0         ada\n",
              "1      adalah\n",
              "2      adanya\n",
              "3      adapun\n",
              "4        agak\n",
              "..        ...\n",
              "753      wong\n",
              "754     yaitu\n",
              "755     yakin\n",
              "756     yakni\n",
              "757      yang\n",
              "\n",
              "[758 rows x 1 columns]"
            ],
            "text/html": [
              "\n",
              "  <div id=\"df-56a66337-bbcb-4d06-bf99-30a1fbec20e3\" class=\"colab-df-container\">\n",
              "    <div>\n",
              "<style scoped>\n",
              "    .dataframe tbody tr th:only-of-type {\n",
              "        vertical-align: middle;\n",
              "    }\n",
              "\n",
              "    .dataframe tbody tr th {\n",
              "        vertical-align: top;\n",
              "    }\n",
              "\n",
              "    .dataframe thead th {\n",
              "        text-align: right;\n",
              "    }\n",
              "</style>\n",
              "<table border=\"1\" class=\"dataframe\">\n",
              "  <thead>\n",
              "    <tr style=\"text-align: right;\">\n",
              "      <th></th>\n",
              "      <th>Stopwords</th>\n",
              "    </tr>\n",
              "  </thead>\n",
              "  <tbody>\n",
              "    <tr>\n",
              "      <th>0</th>\n",
              "      <td>ada</td>\n",
              "    </tr>\n",
              "    <tr>\n",
              "      <th>1</th>\n",
              "      <td>adalah</td>\n",
              "    </tr>\n",
              "    <tr>\n",
              "      <th>2</th>\n",
              "      <td>adanya</td>\n",
              "    </tr>\n",
              "    <tr>\n",
              "      <th>3</th>\n",
              "      <td>adapun</td>\n",
              "    </tr>\n",
              "    <tr>\n",
              "      <th>4</th>\n",
              "      <td>agak</td>\n",
              "    </tr>\n",
              "    <tr>\n",
              "      <th>...</th>\n",
              "      <td>...</td>\n",
              "    </tr>\n",
              "    <tr>\n",
              "      <th>753</th>\n",
              "      <td>wong</td>\n",
              "    </tr>\n",
              "    <tr>\n",
              "      <th>754</th>\n",
              "      <td>yaitu</td>\n",
              "    </tr>\n",
              "    <tr>\n",
              "      <th>755</th>\n",
              "      <td>yakin</td>\n",
              "    </tr>\n",
              "    <tr>\n",
              "      <th>756</th>\n",
              "      <td>yakni</td>\n",
              "    </tr>\n",
              "    <tr>\n",
              "      <th>757</th>\n",
              "      <td>yang</td>\n",
              "    </tr>\n",
              "  </tbody>\n",
              "</table>\n",
              "<p>758 rows × 1 columns</p>\n",
              "</div>\n",
              "    <div class=\"colab-df-buttons\">\n",
              "\n",
              "  <div class=\"colab-df-container\">\n",
              "    <button class=\"colab-df-convert\" onclick=\"convertToInteractive('df-56a66337-bbcb-4d06-bf99-30a1fbec20e3')\"\n",
              "            title=\"Convert this dataframe to an interactive table.\"\n",
              "            style=\"display:none;\">\n",
              "\n",
              "  <svg xmlns=\"http://www.w3.org/2000/svg\" height=\"24px\" viewBox=\"0 -960 960 960\">\n",
              "    <path d=\"M120-120v-720h720v720H120Zm60-500h600v-160H180v160Zm220 220h160v-160H400v160Zm0 220h160v-160H400v160ZM180-400h160v-160H180v160Zm440 0h160v-160H620v160ZM180-180h160v-160H180v160Zm440 0h160v-160H620v160Z\"/>\n",
              "  </svg>\n",
              "    </button>\n",
              "\n",
              "  <style>\n",
              "    .colab-df-container {\n",
              "      display:flex;\n",
              "      gap: 12px;\n",
              "    }\n",
              "\n",
              "    .colab-df-convert {\n",
              "      background-color: #E8F0FE;\n",
              "      border: none;\n",
              "      border-radius: 50%;\n",
              "      cursor: pointer;\n",
              "      display: none;\n",
              "      fill: #1967D2;\n",
              "      height: 32px;\n",
              "      padding: 0 0 0 0;\n",
              "      width: 32px;\n",
              "    }\n",
              "\n",
              "    .colab-df-convert:hover {\n",
              "      background-color: #E2EBFA;\n",
              "      box-shadow: 0px 1px 2px rgba(60, 64, 67, 0.3), 0px 1px 3px 1px rgba(60, 64, 67, 0.15);\n",
              "      fill: #174EA6;\n",
              "    }\n",
              "\n",
              "    .colab-df-buttons div {\n",
              "      margin-bottom: 4px;\n",
              "    }\n",
              "\n",
              "    [theme=dark] .colab-df-convert {\n",
              "      background-color: #3B4455;\n",
              "      fill: #D2E3FC;\n",
              "    }\n",
              "\n",
              "    [theme=dark] .colab-df-convert:hover {\n",
              "      background-color: #434B5C;\n",
              "      box-shadow: 0px 1px 3px 1px rgba(0, 0, 0, 0.15);\n",
              "      filter: drop-shadow(0px 1px 2px rgba(0, 0, 0, 0.3));\n",
              "      fill: #FFFFFF;\n",
              "    }\n",
              "  </style>\n",
              "\n",
              "    <script>\n",
              "      const buttonEl =\n",
              "        document.querySelector('#df-56a66337-bbcb-4d06-bf99-30a1fbec20e3 button.colab-df-convert');\n",
              "      buttonEl.style.display =\n",
              "        google.colab.kernel.accessAllowed ? 'block' : 'none';\n",
              "\n",
              "      async function convertToInteractive(key) {\n",
              "        const element = document.querySelector('#df-56a66337-bbcb-4d06-bf99-30a1fbec20e3');\n",
              "        const dataTable =\n",
              "          await google.colab.kernel.invokeFunction('convertToInteractive',\n",
              "                                                    [key], {});\n",
              "        if (!dataTable) return;\n",
              "\n",
              "        const docLinkHtml = 'Like what you see? Visit the ' +\n",
              "          '<a target=\"_blank\" href=https://colab.research.google.com/notebooks/data_table.ipynb>data table notebook</a>'\n",
              "          + ' to learn more about interactive tables.';\n",
              "        element.innerHTML = '';\n",
              "        dataTable['output_type'] = 'display_data';\n",
              "        await google.colab.output.renderOutput(dataTable, element);\n",
              "        const docLink = document.createElement('div');\n",
              "        docLink.innerHTML = docLinkHtml;\n",
              "        element.appendChild(docLink);\n",
              "      }\n",
              "    </script>\n",
              "  </div>\n",
              "\n",
              "\n",
              "<div id=\"df-2fb8d15a-3552-4541-be8f-f99c4b647b1c\">\n",
              "  <button class=\"colab-df-quickchart\" onclick=\"quickchart('df-2fb8d15a-3552-4541-be8f-f99c4b647b1c')\"\n",
              "            title=\"Suggest charts\"\n",
              "            style=\"display:none;\">\n",
              "\n",
              "<svg xmlns=\"http://www.w3.org/2000/svg\" height=\"24px\"viewBox=\"0 0 24 24\"\n",
              "     width=\"24px\">\n",
              "    <g>\n",
              "        <path d=\"M19 3H5c-1.1 0-2 .9-2 2v14c0 1.1.9 2 2 2h14c1.1 0 2-.9 2-2V5c0-1.1-.9-2-2-2zM9 17H7v-7h2v7zm4 0h-2V7h2v10zm4 0h-2v-4h2v4z\"/>\n",
              "    </g>\n",
              "</svg>\n",
              "  </button>\n",
              "\n",
              "<style>\n",
              "  .colab-df-quickchart {\n",
              "      --bg-color: #E8F0FE;\n",
              "      --fill-color: #1967D2;\n",
              "      --hover-bg-color: #E2EBFA;\n",
              "      --hover-fill-color: #174EA6;\n",
              "      --disabled-fill-color: #AAA;\n",
              "      --disabled-bg-color: #DDD;\n",
              "  }\n",
              "\n",
              "  [theme=dark] .colab-df-quickchart {\n",
              "      --bg-color: #3B4455;\n",
              "      --fill-color: #D2E3FC;\n",
              "      --hover-bg-color: #434B5C;\n",
              "      --hover-fill-color: #FFFFFF;\n",
              "      --disabled-bg-color: #3B4455;\n",
              "      --disabled-fill-color: #666;\n",
              "  }\n",
              "\n",
              "  .colab-df-quickchart {\n",
              "    background-color: var(--bg-color);\n",
              "    border: none;\n",
              "    border-radius: 50%;\n",
              "    cursor: pointer;\n",
              "    display: none;\n",
              "    fill: var(--fill-color);\n",
              "    height: 32px;\n",
              "    padding: 0;\n",
              "    width: 32px;\n",
              "  }\n",
              "\n",
              "  .colab-df-quickchart:hover {\n",
              "    background-color: var(--hover-bg-color);\n",
              "    box-shadow: 0 1px 2px rgba(60, 64, 67, 0.3), 0 1px 3px 1px rgba(60, 64, 67, 0.15);\n",
              "    fill: var(--button-hover-fill-color);\n",
              "  }\n",
              "\n",
              "  .colab-df-quickchart-complete:disabled,\n",
              "  .colab-df-quickchart-complete:disabled:hover {\n",
              "    background-color: var(--disabled-bg-color);\n",
              "    fill: var(--disabled-fill-color);\n",
              "    box-shadow: none;\n",
              "  }\n",
              "\n",
              "  .colab-df-spinner {\n",
              "    border: 2px solid var(--fill-color);\n",
              "    border-color: transparent;\n",
              "    border-bottom-color: var(--fill-color);\n",
              "    animation:\n",
              "      spin 1s steps(1) infinite;\n",
              "  }\n",
              "\n",
              "  @keyframes spin {\n",
              "    0% {\n",
              "      border-color: transparent;\n",
              "      border-bottom-color: var(--fill-color);\n",
              "      border-left-color: var(--fill-color);\n",
              "    }\n",
              "    20% {\n",
              "      border-color: transparent;\n",
              "      border-left-color: var(--fill-color);\n",
              "      border-top-color: var(--fill-color);\n",
              "    }\n",
              "    30% {\n",
              "      border-color: transparent;\n",
              "      border-left-color: var(--fill-color);\n",
              "      border-top-color: var(--fill-color);\n",
              "      border-right-color: var(--fill-color);\n",
              "    }\n",
              "    40% {\n",
              "      border-color: transparent;\n",
              "      border-right-color: var(--fill-color);\n",
              "      border-top-color: var(--fill-color);\n",
              "    }\n",
              "    60% {\n",
              "      border-color: transparent;\n",
              "      border-right-color: var(--fill-color);\n",
              "    }\n",
              "    80% {\n",
              "      border-color: transparent;\n",
              "      border-right-color: var(--fill-color);\n",
              "      border-bottom-color: var(--fill-color);\n",
              "    }\n",
              "    90% {\n",
              "      border-color: transparent;\n",
              "      border-bottom-color: var(--fill-color);\n",
              "    }\n",
              "  }\n",
              "</style>\n",
              "\n",
              "  <script>\n",
              "    async function quickchart(key) {\n",
              "      const quickchartButtonEl =\n",
              "        document.querySelector('#' + key + ' button');\n",
              "      quickchartButtonEl.disabled = true;  // To prevent multiple clicks.\n",
              "      quickchartButtonEl.classList.add('colab-df-spinner');\n",
              "      try {\n",
              "        const charts = await google.colab.kernel.invokeFunction(\n",
              "            'suggestCharts', [key], {});\n",
              "      } catch (error) {\n",
              "        console.error('Error during call to suggestCharts:', error);\n",
              "      }\n",
              "      quickchartButtonEl.classList.remove('colab-df-spinner');\n",
              "      quickchartButtonEl.classList.add('colab-df-quickchart-complete');\n",
              "    }\n",
              "    (() => {\n",
              "      let quickchartButtonEl =\n",
              "        document.querySelector('#df-2fb8d15a-3552-4541-be8f-f99c4b647b1c button');\n",
              "      quickchartButtonEl.style.display =\n",
              "        google.colab.kernel.accessAllowed ? 'block' : 'none';\n",
              "    })();\n",
              "  </script>\n",
              "</div>\n",
              "    </div>\n",
              "  </div>\n"
            ],
            "application/vnd.google.colaboratory.intrinsic+json": {
              "type": "dataframe",
              "variable_name": "df_stopword",
              "summary": "{\n  \"name\": \"df_stopword\",\n  \"rows\": 758,\n  \"fields\": [\n    {\n      \"column\": \"Stopwords\",\n      \"properties\": {\n        \"dtype\": \"string\",\n        \"num_unique_values\": 757,\n        \"samples\": [\n          \"menantikan\",\n          \"bermacam\",\n          \"jelas\"\n        ],\n        \"semantic_type\": \"\",\n        \"description\": \"\"\n      }\n    }\n  ]\n}"
            }
          },
          "metadata": {},
          "execution_count": 116
        }
      ]
    },
    {
      "cell_type": "code",
      "execution_count": null,
      "metadata": {
        "id": "Ubey61YNimwt"
      },
      "outputs": [],
      "source": [
        "custom_stopword = list(df_stopword['Stopwords'])\n",
        "custom_stopword"
      ]
    },
    {
      "cell_type": "markdown",
      "metadata": {
        "id": "qjt7FLMViwiU"
      },
      "source": [
        "### Removal"
      ]
    },
    {
      "cell_type": "code",
      "execution_count": null,
      "metadata": {
        "colab": {
          "base_uri": "https://localhost:8080/"
        },
        "id": "OMhxvMrpef4X",
        "outputId": "d70a0376-ddbf-4b20-8adc-81ee4302129c"
      },
      "outputs": [
        {
          "output_type": "stream",
          "name": "stdout",
          "text": [
            "['yang', 'untuk', 'pada', 'ke', 'para', 'namun', 'menurut', 'antara', 'dia', 'dua', 'ia', 'seperti', 'jika', 'jika', 'sehingga', 'kembali', 'dan', 'tidak', 'ini', 'karena', 'kepada', 'oleh', 'saat', 'harus', 'sementara', 'setelah', 'belum', 'kami', 'sekitar', 'bagi', 'serta', 'di', 'dari', 'telah', 'sebagai', 'masih', 'hal', 'ketika', 'adalah', 'itu', 'dalam', 'bisa', 'bahwa', 'atau', 'hanya', 'kita', 'dengan', 'akan', 'juga', 'ada', 'mereka', 'sudah', 'saya', 'terhadap', 'secara', 'agar', 'lain', 'anda', 'begitu', 'mengapa', 'kenapa', 'yaitu', 'yakni', 'daripada', 'itulah', 'lagi', 'maka', 'tentang', 'demi', 'dimana', 'kemana', 'pula', 'sambil', 'sebelum', 'sesudah', 'supaya', 'guna', 'kah', 'pun', 'sampai', 'sedangkan', 'selagi', 'sementara', 'tetapi', 'apakah', 'kecuali', 'sebab', 'selain', 'seolah', 'seraya', 'seterusnya', 'tanpa', 'agak', 'boleh', 'dapat', 'dsb', 'dst', 'dll', 'dahulu', 'dulunya', 'anu', 'demikian', 'tapi', 'ingin', 'juga', 'nggak', 'mari', 'nanti', 'melainkan', 'oh', 'ok', 'seharusnya', 'sebetulnya', 'setiap', 'setidaknya', 'sesuatu', 'pasti', 'saja', 'toh', 'ya', 'walau', 'tolong', 'tentu', 'amat', 'apalagi', 'bagaimanapun', 'ada', 'adalah', 'adanya', 'adapun', 'agak', 'agaknya', 'agar', 'akan', 'akankah', 'akhir', 'akhiri', 'akhirnya', 'aku', 'akulah', 'amat', 'amatlah', 'anda', 'andalah', 'antar', 'antara', 'antaranya', 'apa', 'apaan', 'apabila', 'apakah', 'apalagi', 'apatah', 'artinya', 'asal', 'asalkan', 'atas', 'atau', 'ataukah', 'ataupun', 'awal', 'awalnya', 'bagai', 'bagaikan', 'bagaimana', 'bagaimanakah', 'bagaimanapun', 'bagi', 'bagian', 'bahkan', 'bahwa', 'bahwasanya', 'baik', 'bakal', 'bakalan', 'balik', 'banyak', 'bapak', 'baru', 'bawah', 'beberapa', 'begini', 'beginian', 'beginikah', 'beginilah', 'begitu', 'begitukah', 'begitulah', 'begitupun', 'bekerja', 'belakang', 'belakangan', 'belum', 'belumlah', 'benar', 'benarkah', 'benarlah', 'berada', 'berakhir', 'berakhirlah', 'berakhirnya', 'berapa', 'berapakah', 'berapalah', 'berapapun', 'berarti', 'berawal', 'berbagai', 'berdatangan', 'beri', 'berikan', 'berikut', 'berikutnya', 'berjumlah', 'berkali-kali', 'berkata', 'berkehendak', 'berkeinginan', 'berkenaan', 'berlainan', 'berlalu', 'berlangsung', 'berlebihan', 'bermacam', 'bermacam-macam', 'bermaksud', 'bermula', 'bersama', 'bersama-sama', 'bersiap', 'bersiap-siap', 'bertanya', 'bertanya-tanya', 'berturut', 'berturut-turut', 'bertutur', 'berujar', 'berupa', 'besar', 'betul', 'betulkah', 'biasa', 'biasanya', 'bila', 'bilakah', 'bisa', 'bisakah', 'boleh', 'bolehkah', 'bolehlah', 'buat', 'bukan', 'bukankah', 'bukanlah', 'bukannya', 'bulan', 'bung', 'cara', 'caranya', 'cukup', 'cukupkah', 'cukuplah', 'cuma', 'dahulu', 'dalam', 'dan', 'dapat', 'dari', 'daripada', 'datang', 'dekat', 'demi', 'demikian', 'demikianlah', 'dengan', 'depan', 'di', 'dia', 'diakhiri', 'diakhirinya', 'dialah', 'diantara', 'diantaranya', 'diberi', 'diberikan', 'diberikannya', 'dibuat', 'dibuatnya', 'didapat', 'didatangkan', 'digunakan', 'diibaratkan', 'diibaratkannya', 'diingat', 'diingatkan', 'diinginkan', 'dijawab', 'dijelaskan', 'dijelaskannya', 'dikarenakan', 'dikatakan', 'dikatakannya', 'dikerjakan', 'diketahui', 'diketahuinya', 'dikira', 'dilakukan', 'dilalui', 'dilihat', 'dimaksud', 'dimaksudkan', 'dimaksudkannya', 'dimaksudnya', 'diminta', 'dimintai', 'dimisalkan', 'dimulai', 'dimulailah', 'dimulainya', 'dimungkinkan', 'dini', 'dipastikan', 'diperbuat', 'diperbuatnya', 'dipergunakan', 'diperkirakan', 'diperlihatkan', 'diperlukan', 'diperlukannya', 'dipersoalkan', 'dipertanyakan', 'dipunyai', 'diri', 'dirinya', 'disampaikan', 'disebut', 'disebutkan', 'disebutkannya', 'disini', 'disinilah', 'ditambahkan', 'ditandaskan', 'ditanya', 'ditanyai', 'ditanyakan', 'ditegaskan', 'ditujukan', 'ditunjuk', 'ditunjuki', 'ditunjukkan', 'ditunjukkannya', 'ditunjuknya', 'dituturkan', 'dituturkannya', 'diucapkan', 'diucapkannya', 'diungkapkan', 'dong', 'dua', 'dulu', 'empat', 'enggak', 'enggaknya', 'entah', 'entahlah', 'guna', 'gunakan', 'hal', 'hampir', 'hanya', 'hanyalah', 'hari', 'harus', 'haruslah', 'harusnya', 'hendak', 'hendaklah', 'hendaknya', 'hingga', 'ia', 'ialah', 'ibarat', 'ibaratkan', 'ibaratnya', 'ibu', 'ikut', 'ingat', 'ingat-ingat', 'ingin', 'inginkah', 'inginkan', 'ini', 'inikah', 'inilah', 'itu', 'itukah', 'itulah', 'jadi', 'jadilah', 'jadinya', 'jangan', 'jangankan', 'janganlah', 'jauh', 'jawab', 'jawaban', 'jawabnya', 'jelas', 'jelaskan', 'jelaslah', 'jelasnya', 'jika', 'jikalau', 'juga', 'jumlah', 'jumlahnya', 'justru', 'kala', 'kalau', 'kalaulah', 'kalaupun', 'kalian', 'kami', 'kamilah', 'kamu', 'kamulah', 'kan', 'kapan', 'kapankah', 'kapanpun', 'karena', 'karenanya', 'kasus', 'kata', 'katakan', 'katakanlah', 'katanya', 'ke', 'keadaan', 'kebetulan', 'kecil', 'kedua', 'keduanya', 'keinginan', 'kelamaan', 'kelihatan', 'kelihatannya', 'kelima', 'keluar', 'kembali', 'kemudian', 'kemungkinan', 'kemungkinannya', 'kenapa', 'kepada', 'kepadanya', 'kesampaian', 'keseluruhan', 'keseluruhannya', 'keterlaluan', 'ketika', 'khususnya', 'kini', 'kinilah', 'kira', 'kira-kira', 'kiranya', 'kita', 'kitalah', 'kok', 'kurang', 'lagi', 'lagian', 'lah', 'lain', 'lainnya', 'lalu', 'lama', 'lamanya', 'lanjut', 'lanjutnya', 'lebih', 'lewat', 'lima', 'luar', 'macam', 'maka', 'makanya', 'makin', 'malah', 'malahan', 'mampu', 'mampukah', 'mana', 'manakala', 'manalagi', 'masa', 'masalah', 'masalahnya', 'masih', 'masihkah', 'masing', 'masing-masing', 'mau', 'maupun', 'melainkan', 'melakukan', 'melalui', 'melihat', 'melihatnya', 'memang', 'memastikan', 'memberi', 'memberikan', 'membuat', 'memerlukan', 'memihak', 'meminta', 'memintakan', 'memisalkan', 'memperbuat', 'mempergunakan', 'memperkirakan', 'memperlihatkan', 'mempersiapkan', 'mempersoalkan', 'mempertanyakan', 'mempunyai', 'memulai', 'memungkinkan', 'menaiki', 'menambahkan', 'menandaskan', 'menanti', 'menanti-nanti', 'menantikan', 'menanya', 'menanyai', 'menanyakan', 'mendapat', 'mendapatkan', 'mendatang', 'mendatangi', 'mendatangkan', 'menegaskan', 'mengakhiri', 'mengapa', 'mengatakan', 'mengatakannya', 'mengenai', 'mengerjakan', 'mengetahui', 'menggunakan', 'menghendaki', 'mengibaratkan', 'mengibaratkannya', 'mengingat', 'mengingatkan', 'menginginkan', 'mengira', 'mengucapkan', 'mengucapkannya', 'mengungkapkan', 'menjadi', 'menjawab', 'menjelaskan', 'menuju', 'menunjuk', 'menunjuki', 'menunjukkan', 'menunjuknya', 'menurut', 'menuturkan', 'menyampaikan', 'menyangkut', 'menyatakan', 'menyebutkan', 'menyeluruh', 'menyiapkan', 'merasa', 'mereka', 'merekalah', 'merupakan', 'meski', 'meskipun', 'meyakini', 'meyakinkan', 'minta', 'mirip', 'misal', 'misalkan', 'misalnya', 'mula', 'mulai', 'mulailah', 'mulanya', 'mungkin', 'mungkinkah', 'nah', 'naik', 'namun', 'nanti', 'nantinya', 'nyaris', 'nyatanya', 'oleh', 'olehnya', 'pada', 'padahal', 'padanya', 'pak', 'paling', 'panjang', 'pantas', 'para', 'pasti', 'pastilah', 'penting', 'pentingnya', 'per', 'percuma', 'perlu', 'perlukah', 'perlunya', 'pernah', 'persoalan', 'pertama', 'pertama-tama', 'pertanyaan', 'pertanyakan', 'pihak', 'pihaknya', 'pukul', 'pula', 'pun', 'punya', 'rasa', 'rasanya', 'rata', 'rupanya', 'saat', 'saatnya', 'saja', 'sajalah', 'saling', 'sama', 'sama-sama', 'sambil', 'sampai', 'sampai-sampai', 'sampaikan', 'sana', 'sangat', 'sangatlah', 'satu', 'saya', 'sayalah', 'se', 'sebab', 'sebabnya', 'sebagai', 'sebagaimana', 'sebagainya', 'sebagian', 'sebaik', 'sebaik-baiknya', 'sebaiknya', 'sebaliknya', 'sebanyak', 'sebegini', 'sebegitu', 'sebelum', 'sebelumnya', 'sebenarnya', 'seberapa', 'sebesar', 'sebetulnya', 'sebisanya', 'sebuah', 'sebut', 'sebutlah', 'sebutnya', 'secara', 'secukupnya', 'sedang', 'sedangkan', 'sedemikian', 'sedikit', 'sedikitnya', 'seenaknya', 'segala', 'segalanya', 'segera', 'seharusnya', 'sehingga', 'seingat', 'sejak', 'sejauh', 'sejenak', 'sejumlah', 'sekadar', 'sekadarnya', 'sekali', 'sekali-kali', 'sekalian', 'sekaligus', 'sekalipun', 'sekarang', 'sekarang', 'sekecil', 'seketika', 'sekiranya', 'sekitar', 'sekitarnya', 'sekurang-kurangnya', 'sekurangnya', 'sela', 'selain', 'selaku', 'selalu', 'selama', 'selama-lamanya', 'selamanya', 'selanjutnya', 'seluruh', 'seluruhnya', 'semacam', 'semakin', 'semampu', 'semampunya', 'semasa', 'semasih', 'semata', 'semata-mata', 'semaunya', 'sementara', 'semisal', 'semisalnya', 'sempat', 'semua', 'semuanya', 'semula', 'sendiri', 'sendirian', 'sendirinya', 'seolah', 'seolah-olah', 'seorang', 'sepanjang', 'sepantasnya', 'sepantasnyalah', 'seperlunya', 'seperti', 'sepertinya', 'sepihak', 'sering', 'seringnya', 'serta', 'serupa', 'sesaat', 'sesama', 'sesampai', 'sesegera', 'sesekali', 'seseorang', 'sesuatu', 'sesuatunya', 'sesudah', 'sesudahnya', 'setelah', 'setempat', 'setengah', 'seterusnya', 'setiap', 'setiba', 'setibanya', 'setidak-tidaknya', 'setidaknya', 'setinggi', 'seusai', 'sewaktu', 'siap', 'siapa', 'siapakah', 'siapapun', 'sini', 'sinilah', 'soal', 'soalnya', 'suatu', 'sudah', 'sudahkah', 'sudahlah', 'supaya', 'tadi', 'tadinya', 'tahu', 'tahun', 'tak', 'tambah', 'tambahnya', 'tampak', 'tampaknya', 'tandas', 'tandasnya', 'tanpa', 'tanya', 'tanyakan', 'tanyanya', 'tapi', 'tegas', 'tegasnya', 'telah', 'tempat', 'tengah', 'tentang', 'tentu', 'tentulah', 'tentunya', 'tepat', 'terakhir', 'terasa', 'terbanyak', 'terdahulu', 'terdapat', 'terdiri', 'terhadap', 'terhadapnya', 'teringat', 'teringat-ingat', 'terjadi', 'terjadilah', 'terjadinya', 'terkira', 'terlalu', 'terlebih', 'terlihat', 'termasuk', 'ternyata', 'tersampaikan', 'tersebut', 'tersebutlah', 'tertentu', 'tertuju', 'terus', 'terutama', 'tetap', 'tetapi', 'tiap', 'tiba', 'tiba-tiba', 'tidak', 'tidakkah', 'tidaklah', 'tiga', 'tinggi', 'toh', 'tunjuk', 'turut', 'tutur', 'tuturnya', 'ucap', 'ucapnya', 'ujar', 'ujarnya', 'umum', 'umumnya', 'ungkap', 'ungkapnya', 'untuk', 'usah', 'usai', 'waduh', 'wah', 'wahai', 'waktu', 'waktunya', 'walau', 'walaupun', 'wong', 'yaitu', 'yakin', 'yakni', 'yang']\n"
          ]
        }
      ],
      "source": [
        "# Prepare stopword remover\n",
        "factory = StopWordRemoverFactory()\n",
        "stopwords = factory.get_stop_words() + custom_stopword\n",
        "print(stopwords)"
      ]
    },
    {
      "cell_type": "code",
      "source": [
        "len(stopwords)"
      ],
      "metadata": {
        "colab": {
          "base_uri": "https://localhost:8080/"
        },
        "id": "j6qNtOJbuN05",
        "outputId": "35d9f5ce-bff7-4aa9-b982-4275d24f1d61"
      },
      "execution_count": null,
      "outputs": [
        {
          "output_type": "execute_result",
          "data": {
            "text/plain": [
              "884"
            ]
          },
          "metadata": {},
          "execution_count": 119
        }
      ]
    },
    {
      "cell_type": "code",
      "execution_count": null,
      "metadata": {
        "id": "ClUNuzeyjDEt"
      },
      "outputs": [],
      "source": [
        "dictionary = ArrayDictionary(stopwords)\n",
        "stopword = StopWordRemover(dictionary)"
      ]
    },
    {
      "cell_type": "code",
      "execution_count": null,
      "metadata": {
        "id": "OCny9HuTc2UR"
      },
      "outputs": [],
      "source": [
        "def filtering(text):\n",
        "  stop = stopword.remove(text)\n",
        "  return stop"
      ]
    },
    {
      "cell_type": "code",
      "source": [
        "df"
      ],
      "metadata": {
        "id": "obxTS5DcMNWz"
      },
      "execution_count": null,
      "outputs": []
    },
    {
      "cell_type": "code",
      "execution_count": null,
      "metadata": {
        "colab": {
          "base_uri": "https://localhost:8080/"
        },
        "id": "mvjR5IBOjjq6",
        "outputId": "747dd72e-d9a1-45c6-e34e-0e295b8b2d2d"
      },
      "outputs": [
        {
          "output_type": "execute_result",
          "data": {
            "text/plain": [
              "0      kabar luwuk suasana pasar murah bersubsidi kab...\n",
              "1      kabar luwuk film horor piara mayat kreativitas...\n",
              "2      kabar luwuk festival malabot tumbe meriahkanka...\n",
              "3      kerja cepat terkoordinir penerbitan sttp kabar...\n",
              "4      kabar luwuk bawaslu banggaiperkuat koordinasi ...\n",
              "                             ...                        \n",
              "595    kabar luwuk banggai run challenge menggantikan...\n",
              "596    banggai raya badan pengawas pemilu bawaslu kab...\n",
              "597    laporan wartawan tribunpalu com asnawi zikri t...\n",
              "598    banggai raya pemerintah daerah pemda kabupaten...\n",
              "599    terasbanggai com usulan pembangunan setiap wil...\n",
              "Name: filtered, Length: 580, dtype: object"
            ]
          },
          "metadata": {},
          "execution_count": 124
        }
      ],
      "source": [
        "df['filtered'] = df['clean_double_ws'].apply(filtering)\n",
        "df['filtered']"
      ]
    },
    {
      "cell_type": "code",
      "source": [
        "df"
      ],
      "metadata": {
        "id": "zzG-hnrhM1zj"
      },
      "execution_count": null,
      "outputs": []
    },
    {
      "cell_type": "code",
      "source": [
        "len(df)"
      ],
      "metadata": {
        "colab": {
          "base_uri": "https://localhost:8080/"
        },
        "id": "eTJ50j30NVy_",
        "outputId": "13672344-dd76-43c2-a04a-71d054e282a3"
      },
      "execution_count": null,
      "outputs": [
        {
          "output_type": "execute_result",
          "data": {
            "text/plain": [
              "580"
            ]
          },
          "metadata": {},
          "execution_count": 126
        }
      ]
    },
    {
      "cell_type": "code",
      "execution_count": null,
      "metadata": {
        "colab": {
          "base_uri": "https://localhost:8080/"
        },
        "id": "oGkf3aEF1P0G",
        "outputId": "a537bde4-4f6e-48b6-e83b-f302fa53cc6a"
      },
      "outputs": [
        {
          "output_type": "stream",
          "name": "stdout",
          "text": [
            "kabar luwuk ratusan buruh kepung dinas koperasidan kupp luwuk hingga akhirnya mencapai kesepakatan menjadi saksi dari aksi protes massal yang melibatkan ratusan buruhtangkiang mahasiswa dan masyarakat yang berkumpul untuk mendesak pembatalan pernyataan kontroversial plh kepala kupp kelas ii luwuk nukman larau rabu november kontroversi dimulai setelah rapat forkopimda banggai pada senin november di mana nukman larau mengakomodir kepengurusan baruuupj tangkiang yang dikeluarkan oleh koperasi tkbm teluk lalong perubahan kepengurusan ini mencakup penggantian ketua dan beberapa pengurus dengan orang yang bukan anggota uupj tangkiang protes muncul ketika sk pergantian kepengurusan ditolak oleh seluruh anggota uupj tangkiang dalam rapat luar biasa mereka tetap memilih amir mangulele sebagai ketua menyatakan penolakan terhadap upaya mengadu domba buruh yang dianggap dilakukan oleh koperasi tkbm teluk lalong selanjutnya massa aksi memulai pengepungan kantor dinas koperasi menuntut agar nukman larau dicopot dari kupp luwuk kepala dinas koperasi dan umkm kabupaten banggai helena padeatu menyatakan bahwa surat pemberitahuan mengenai sk kepengurusan baru belum disahkan dan masih dalam tahap evaluasi setelah mendapatkan kejelasan dari kepala dinas koperasi massa beralih mengepung kantor kupp luwuk tuntutan mereka melibatkan pencopotan nukman larau dan penangkapan pengurus koperasi tkbm teluk lalong yang dianggap mengadu domba buruh dalam pertemuan dengan perwakilan massa aksi nukman larau mencabut pernyataannya setelah adanya keterangan tertulis dari dinas koperasi yang tidak mengesahkan kepengurusan baru uupj tangkiang pernyataan tersebut juga dituangkan dalam surat tertulis membawa kelegaan bagi ratusan buruh mahasiswa dan masyarakat tangkiang setelah mencapai kesepakatan massa aksi membubarkan diri secara teratur protes yang awalnya memanas dan memunculkan ketegangan akhirnya menemukan titik akhir dengan penarikan pernyataan kontroversial dan pembatalan kepengurusan baru uupj tangkiang\n",
            "kabar luwuk ratusan buruh kepung dinas koperasidan kupp luwuk mencapai kesepakatan saksi aksi protes massal melibatkan ratusan buruhtangkiang mahasiswa masyarakat berkumpul mendesak pembatalan pernyataan kontroversial plh kepala kupp kelas ii luwuk nukman larau rabu november kontroversi rapat forkopimda banggai senin november mana nukman larau mengakomodir kepengurusan baruuupj tangkiang dikeluarkan koperasi tkbm teluk lalong perubahan kepengurusan mencakup penggantian ketua beberapa pengurus orang bukan anggota uupj tangkiang protes muncul sk pergantian kepengurusan ditolak seluruh anggota uupj tangkiang rapat biasa tetap memilih amir mangulele ketua penolakan upaya mengadu domba buruh dianggap oleh koperasi tkbm teluk lalong massa aksi pengepungan kantor dinas koperasi menuntut nukman larau dicopot kupp luwuk kepala dinas koperasi umkm kabupaten banggai helena padeatu bahwa surat pemberitahuan sk kepengurusan belum disahkan masih tahap evaluasi mendapatkan kejelasan kepala dinas koperasi massa beralih mengepung kantor kupp luwuk tuntutan melibatkan pencopotan nukman larau penangkapan pengurus koperasi tkbm teluk lalong dianggap mengadu domba buruh pertemuan perwakilan massa aksi nukman larau mencabut pernyataannya adanya keterangan tertulis dinas koperasi tidak mengesahkan kepengurusan uupj tangkiang pernyataan juga dituangkan surat tertulis membawa kelegaan ratusan buruh mahasiswa masyarakat tangkiang setelah mencapai kesepakatan massa aksi membubarkan secara teratur protes awalnya memanas memunculkan ketegangan akhirnya menemukan titik dengan penarikan pernyataan kontroversial pembatalan kepengurusan uupj tangkiang\n"
          ]
        }
      ],
      "source": [
        "print(df['clean_double_ws'][69])\n",
        "print(df['filtered'][69])"
      ]
    },
    {
      "cell_type": "markdown",
      "metadata": {
        "id": "csdn5fHWjv2W"
      },
      "source": [
        "## Stemming"
      ]
    },
    {
      "cell_type": "code",
      "execution_count": null,
      "metadata": {
        "id": "xFrbJG4hj6Ug"
      },
      "outputs": [],
      "source": [
        "factory = StemmerFactory()\n",
        "stemmer = factory.create_stemmer()"
      ]
    },
    {
      "cell_type": "code",
      "execution_count": null,
      "metadata": {
        "id": "K6yEDY8TkBDG"
      },
      "outputs": [],
      "source": [
        "def stem(text):\n",
        "  return stemmer.stem(text)"
      ]
    },
    {
      "cell_type": "code",
      "execution_count": null,
      "metadata": {
        "colab": {
          "base_uri": "https://localhost:8080/"
        },
        "id": "6dY5qzIEkGZ5",
        "outputId": "246da1c4-1ba8-4fb9-c17e-8bdeede5ce6e"
      },
      "outputs": [
        {
          "output_type": "execute_result",
          "data": {
            "text/plain": [
              "0      kabar luwuk suasana pasar murah subsidi kabupa...\n",
              "1      kabar luwuk film horor piara mayat kreativitas...\n",
              "2      kabar luwuk festival malabot tumbe meriahkanka...\n",
              "3      kerja cepat terkoordinir terbit sttp kabar luw...\n",
              "4      kabar luwuk bawaslu banggaiperkuat koordinasi ...\n",
              "                             ...                        \n",
              "595    kabar luwuk bangga run challenge menggantikant...\n",
              "596    bangga raya badan awas milu bawaslu kabupaten ...\n",
              "597    lapor wartawan tribunpalu com asnawi zikri tri...\n",
              "598    bangga raya perintah daerah pemda kabupaten ba...\n",
              "599    terasbanggai com usul bangun tiap wilayah desa...\n",
              "Name: stemmed, Length: 580, dtype: object"
            ]
          },
          "metadata": {},
          "execution_count": 131
        }
      ],
      "source": [
        "df['stemmed'] = df['filtered'].apply(stem)\n",
        "df['stemmed']"
      ]
    },
    {
      "cell_type": "code",
      "execution_count": null,
      "metadata": {
        "id": "pk7M4kT2B-tx"
      },
      "outputs": [],
      "source": [
        "df['stemmed'].to_csv(\"stemmed_words.csv\", index=False)"
      ]
    },
    {
      "cell_type": "code",
      "execution_count": null,
      "metadata": {
        "colab": {
          "base_uri": "https://localhost:8080/"
        },
        "id": "EqJ4dCX42R0u",
        "outputId": "c8290fbe-f1fc-4d75-e6f2-5cee1edd9ff5"
      },
      "outputs": [
        {
          "output_type": "stream",
          "name": "stdout",
          "text": [
            "kabar luwuk prestasi kejaksaan negeri banggai berkibar bidang intelijen kantor kejaksaan negeri kabupaten banggai menunjukkan keunggulan bidang intelijen bawah kepemimpinan raden bagus wicaksono sh m hum kasi intelijen berhasil meraih penghargaan terbaik sebuah prestasi gemilang diberikan kepala kejaksaan sulawesi prestasi dipandang pengakuan kualitas pelaporan administrasi intelijen kejaksaan negeri banggai raden bagus wicaksono rasa bangganya pencapaian menggambarkan komitmen kuat profesionalisme ketelitian menjalankan tugas intelijen ungkapannya kepala kejaksaan negeri banggai terima kasih kejaksaan sulawesi ia berjanji terus meningkatkan kinerja kejaksaan negeri banggai menjaga tingginya standar bidang intelijen prestasi tidak mencerminkan kesuksesan individu juga semangat kolaboratif tim kejaksaan negeri banggai pencapaian juga menyoroti dedikasi kepala seksi intelijen kabupaten banggai sarman santosa tandisau sh secara langsung menerima penghargaan keberhasilan bukan prestasi formal juga mencerminkan sinergi kerja keras tim kejaksaan negeri banggai berkomitmen terus melangkah prestasi tinggi menjadikan lembaga sebagai pilar utama penegakan hukum kabupaten banggai\n",
            "kabar luwuk prestasi jaksa negeri bangga kibar bidang intelijen kantor jaksa negeri kabupaten bangga tunjuk unggul bidang intelijen bawah pimpin raden bagus wicaksono sh m hum kasi intelijen hasil raih harga baik buah prestasi gemilang beri kepala jaksa sulawesi prestasi pandang aku kualitas lapor administrasi intelijen jaksa negeri bangga raden bagus wicaksono rasa bangga capai gambar komitmen kuat profesionalisme teliti jalan tugas intelijen ungkap kepala jaksa negeri bangga terima kasih jaksa sulawesi ia janji terus tingkat kerja jaksa negeri bangga jaga tinggi standar bidang intelijen prestasi tidak cermin sukses individu juga semangat kolaboratif tim jaksa negeri bangga capai juga sorot dedikasi kepala seksi intelijen kabupaten bangga sarman santosa tandisau sh cara langsung terima harga hasil bukan prestasi formal juga cermin sinergi kerja keras tim jaksa negeri bangga komitmen terus lang prestasi tinggi jadi lembaga bagai pilar utama tega hukum kabupaten bangga\n"
          ]
        }
      ],
      "source": [
        "print(df['filtered'][100])\n",
        "print(df['stemmed'][100])"
      ]
    },
    {
      "cell_type": "markdown",
      "metadata": {
        "id": "KyujIEiSK3YT"
      },
      "source": [
        "## Tokenizing"
      ]
    },
    {
      "cell_type": "code",
      "execution_count": null,
      "metadata": {
        "id": "7tvlHHYOzWga"
      },
      "outputs": [],
      "source": [
        "def tokenize(text):\n",
        "  tokens = nltk.tokenize.word_tokenize(text)\n",
        "  return tokens"
      ]
    },
    {
      "cell_type": "code",
      "execution_count": null,
      "metadata": {
        "colab": {
          "base_uri": "https://localhost:8080/"
        },
        "id": "HoQt8hoIz_v7",
        "outputId": "c7120ef0-5c36-41cc-9dc9-cdd1a2d691d5"
      },
      "outputs": [
        {
          "output_type": "execute_result",
          "data": {
            "text/plain": [
              "0      [kabar, luwuk, suasana, pasar, murah, subsidi,...\n",
              "1      [kabar, luwuk, film, horor, piara, mayat, krea...\n",
              "2      [kabar, luwuk, festival, malabot, tumbe, meria...\n",
              "3      [kerja, cepat, terkoordinir, terbit, sttp, kab...\n",
              "4      [kabar, luwuk, bawaslu, banggaiperkuat, koordi...\n",
              "                             ...                        \n",
              "595    [kabar, luwuk, bangga, run, challenge, menggan...\n",
              "596    [bangga, raya, badan, awas, milu, bawaslu, kab...\n",
              "597    [lapor, wartawan, tribunpalu, com, asnawi, zik...\n",
              "598    [bangga, raya, perintah, daerah, pemda, kabupa...\n",
              "599    [terasbanggai, com, usul, bangun, tiap, wilaya...\n",
              "Name: tokenized, Length: 580, dtype: object"
            ]
          },
          "metadata": {},
          "execution_count": 135
        }
      ],
      "source": [
        "df['tokenized'] = df['stemmed'].apply(tokenize)\n",
        "df['tokenized']"
      ]
    },
    {
      "cell_type": "code",
      "source": [
        "df"
      ],
      "metadata": {
        "colab": {
          "base_uri": "https://localhost:8080/",
          "height": 22081
        },
        "id": "EgG76ftdx2L3",
        "outputId": "b35f6735-635d-462c-d297-24ca3d9ee709"
      },
      "execution_count": null,
      "outputs": [
        {
          "output_type": "execute_result",
          "data": {
            "text/plain": [
              "      target                                              title  \\\n",
              "0    banggai  Mobil Sim Keliling Polres Banggai Meriahkan Pa...   \n",
              "1    banggai  Film Horor “Piara Mayat”,  Kreativitas Anak Mu...   \n",
              "2    banggai  Festival Malabot Tumbe 2023 Kembali Meriahkan ...   \n",
              "3    banggai  Rakor Kampanye Damai Pemilu 2024, Polres Bangg...   \n",
              "4    banggai  Bawaslu Banggai Perkuat Koordinasi dengan Panw...   \n",
              "..       ...                                                ...   \n",
              "595  banggai  Banggai Run Challenge 2024 Menggantikan Tour d...   \n",
              "596  banggai  Baru PDIP, Bawaslu Banggai Minta Parpol Segera...   \n",
              "597  banggai  Command Center Pemkab Banggai segera Dibangun ...   \n",
              "598  banggai  Rp 4,2 M Disiapkan Pemda Banggai untuk Isentif...   \n",
              "599  banggai  Reses Aleg Dprd Banggai Haji Udin Serap Aspira...   \n",
              "\n",
              "                                                  text  \\\n",
              "0    KABAR LUWUK –  Suasana Pasar Murah bersubsidi ...   \n",
              "1    KABAR LUWUK  –  Film Horor“Piara Mayat”,Kreati...   \n",
              "2    KABAR LUWUK  –Festival Malabot Tumbe 2023Kemba...   \n",
              "3    “Kerja Cepat dan Terkoordinir dalam Penerbitan...   \n",
              "4    KABAR LUWUK  –Bawaslu BanggaiPerkuat Koordinas...   \n",
              "..                                                 ...   \n",
              "595  KABAR LUWUK –Banggai Run Challenge 2024menggan...   \n",
              "596  BANGGAI RAYA- Badan Pengawas Pemilu (Bawaslu) ...   \n",
              "597  Laporan Wartawan TribunPalu.com, Asnawi Zikri ...   \n",
              "598  BANGGAI RAYA- Tahun ini, Pemerintah Daerah (Pe...   \n",
              "599  Terasbanggai.com -Sejumlah usulan pembangunan ...   \n",
              "\n",
              "                                                   lwr  \\\n",
              "0    kabar luwuk –  suasana pasar murah bersubsidi ...   \n",
              "1    kabar luwuk  –  film horor“piara mayat”,kreati...   \n",
              "2    kabar luwuk  –festival malabot tumbe 2023kemba...   \n",
              "3    “kerja cepat dan terkoordinir dalam penerbitan...   \n",
              "4    kabar luwuk  –bawaslu banggaiperkuat koordinas...   \n",
              "..                                                 ...   \n",
              "595  kabar luwuk –banggai run challenge 2024menggan...   \n",
              "596  banggai raya- badan pengawas pemilu (bawaslu) ...   \n",
              "597  laporan wartawan tribunpalu.com, asnawi zikri ...   \n",
              "598  banggai raya- tahun ini, pemerintah daerah (pe...   \n",
              "599  terasbanggai.com -sejumlah usulan pembangunan ...   \n",
              "\n",
              "                                          clean_number  \\\n",
              "0    kabar luwuk –  suasana pasar murah bersubsidi ...   \n",
              "1    kabar luwuk  –  film horor“piara mayat”,kreati...   \n",
              "2    kabar luwuk  –festival malabot tumbe kembali m...   \n",
              "3    “kerja cepat dan terkoordinir dalam penerbitan...   \n",
              "4    kabar luwuk  –bawaslu banggaiperkuat koordinas...   \n",
              "..                                                 ...   \n",
              "595  kabar luwuk –banggai run challenge menggantika...   \n",
              "596  banggai raya- badan pengawas pemilu (bawaslu) ...   \n",
              "597  laporan wartawan tribunpalu.com, asnawi zikri ...   \n",
              "598  banggai raya- tahun ini, pemerintah daerah (pe...   \n",
              "599  terasbanggai.com -sejumlah usulan pembangunan ...   \n",
              "\n",
              "                                           clean_punct  \\\n",
              "0    kabar luwuk    suasana pasar murah bersubsidi ...   \n",
              "1    kabar luwuk     film horor piara mayat kreativ...   \n",
              "2    kabar luwuk   festival malabot tumbe kembali m...   \n",
              "3     kerja cepat dan terkoordinir dalam penerbitan...   \n",
              "4    kabar luwuk   bawaslu banggaiperkuat koordinas...   \n",
              "..                                                 ...   \n",
              "595  kabar luwuk  banggai run challenge menggantika...   \n",
              "596  banggai raya  badan pengawas pemilu bawaslu ka...   \n",
              "597  laporan wartawan tribunpalu com asnawi zikri t...   \n",
              "598  banggai raya  tahun ini pemerintah daerah pemd...   \n",
              "599  terasbanggai com  sejumlah usulan pembangunan ...   \n",
              "\n",
              "                                       clean_double_ws  \\\n",
              "0    kabar luwuk suasana pasar murah bersubsidi di ...   \n",
              "1    kabar luwuk film horor piara mayat kreativitas...   \n",
              "2    kabar luwuk festival malabot tumbe kembali mer...   \n",
              "3    kerja cepat dan terkoordinir dalam penerbitan ...   \n",
              "4    kabar luwuk bawaslu banggaiperkuat koordinasi ...   \n",
              "..                                                 ...   \n",
              "595  kabar luwuk banggai run challenge menggantikan...   \n",
              "596  banggai raya badan pengawas pemilu bawaslu kab...   \n",
              "597  laporan wartawan tribunpalu com asnawi zikri t...   \n",
              "598  banggai raya tahun ini pemerintah daerah pemda...   \n",
              "599  terasbanggai com sejumlah usulan pembangunan d...   \n",
              "\n",
              "                                              filtered  \\\n",
              "0    kabar luwuk suasana pasar murah bersubsidi kab...   \n",
              "1    kabar luwuk film horor piara mayat kreativitas...   \n",
              "2    kabar luwuk festival malabot tumbe meriahkanka...   \n",
              "3    kerja cepat terkoordinir penerbitan sttp kabar...   \n",
              "4    kabar luwuk bawaslu banggaiperkuat koordinasi ...   \n",
              "..                                                 ...   \n",
              "595  kabar luwuk banggai run challenge menggantikan...   \n",
              "596  banggai raya badan pengawas pemilu bawaslu kab...   \n",
              "597  laporan wartawan tribunpalu com asnawi zikri t...   \n",
              "598  banggai raya pemerintah daerah pemda kabupaten...   \n",
              "599  terasbanggai com usulan pembangunan setiap wil...   \n",
              "\n",
              "                                               stemmed  \\\n",
              "0    kabar luwuk suasana pasar murah subsidi kabupa...   \n",
              "1    kabar luwuk film horor piara mayat kreativitas...   \n",
              "2    kabar luwuk festival malabot tumbe meriahkanka...   \n",
              "3    kerja cepat terkoordinir terbit sttp kabar luw...   \n",
              "4    kabar luwuk bawaslu banggaiperkuat koordinasi ...   \n",
              "..                                                 ...   \n",
              "595  kabar luwuk bangga run challenge menggantikant...   \n",
              "596  bangga raya badan awas milu bawaslu kabupaten ...   \n",
              "597  lapor wartawan tribunpalu com asnawi zikri tri...   \n",
              "598  bangga raya perintah daerah pemda kabupaten ba...   \n",
              "599  terasbanggai com usul bangun tiap wilayah desa...   \n",
              "\n",
              "                                             tokenized  \n",
              "0    [kabar, luwuk, suasana, pasar, murah, subsidi,...  \n",
              "1    [kabar, luwuk, film, horor, piara, mayat, krea...  \n",
              "2    [kabar, luwuk, festival, malabot, tumbe, meria...  \n",
              "3    [kerja, cepat, terkoordinir, terbit, sttp, kab...  \n",
              "4    [kabar, luwuk, bawaslu, banggaiperkuat, koordi...  \n",
              "..                                                 ...  \n",
              "595  [kabar, luwuk, bangga, run, challenge, menggan...  \n",
              "596  [bangga, raya, badan, awas, milu, bawaslu, kab...  \n",
              "597  [lapor, wartawan, tribunpalu, com, asnawi, zik...  \n",
              "598  [bangga, raya, perintah, daerah, pemda, kabupa...  \n",
              "599  [terasbanggai, com, usul, bangun, tiap, wilaya...  \n",
              "\n",
              "[580 rows x 10 columns]"
            ],
            "text/html": [
              "\n",
              "  <div id=\"df-5ef22d52-c5d9-4d2b-9044-ab1b704f2c4e\" class=\"colab-df-container\">\n",
              "    <div>\n",
              "<style scoped>\n",
              "    .dataframe tbody tr th:only-of-type {\n",
              "        vertical-align: middle;\n",
              "    }\n",
              "\n",
              "    .dataframe tbody tr th {\n",
              "        vertical-align: top;\n",
              "    }\n",
              "\n",
              "    .dataframe thead th {\n",
              "        text-align: right;\n",
              "    }\n",
              "</style>\n",
              "<table border=\"1\" class=\"dataframe\">\n",
              "  <thead>\n",
              "    <tr style=\"text-align: right;\">\n",
              "      <th></th>\n",
              "      <th>target</th>\n",
              "      <th>title</th>\n",
              "      <th>text</th>\n",
              "      <th>lwr</th>\n",
              "      <th>clean_number</th>\n",
              "      <th>clean_punct</th>\n",
              "      <th>clean_double_ws</th>\n",
              "      <th>filtered</th>\n",
              "      <th>stemmed</th>\n",
              "      <th>tokenized</th>\n",
              "    </tr>\n",
              "  </thead>\n",
              "  <tbody>\n",
              "    <tr>\n",
              "      <th>0</th>\n",
              "      <td>banggai</td>\n",
              "      <td>Mobil Sim Keliling Polres Banggai Meriahkan Pa...</td>\n",
              "      <td>KABAR LUWUK –  Suasana Pasar Murah bersubsidi ...</td>\n",
              "      <td>kabar luwuk –  suasana pasar murah bersubsidi ...</td>\n",
              "      <td>kabar luwuk –  suasana pasar murah bersubsidi ...</td>\n",
              "      <td>kabar luwuk    suasana pasar murah bersubsidi ...</td>\n",
              "      <td>kabar luwuk suasana pasar murah bersubsidi di ...</td>\n",
              "      <td>kabar luwuk suasana pasar murah bersubsidi kab...</td>\n",
              "      <td>kabar luwuk suasana pasar murah subsidi kabupa...</td>\n",
              "      <td>[kabar, luwuk, suasana, pasar, murah, subsidi,...</td>\n",
              "    </tr>\n",
              "    <tr>\n",
              "      <th>1</th>\n",
              "      <td>banggai</td>\n",
              "      <td>Film Horor “Piara Mayat”,  Kreativitas Anak Mu...</td>\n",
              "      <td>KABAR LUWUK  –  Film Horor“Piara Mayat”,Kreati...</td>\n",
              "      <td>kabar luwuk  –  film horor“piara mayat”,kreati...</td>\n",
              "      <td>kabar luwuk  –  film horor“piara mayat”,kreati...</td>\n",
              "      <td>kabar luwuk     film horor piara mayat kreativ...</td>\n",
              "      <td>kabar luwuk film horor piara mayat kreativitas...</td>\n",
              "      <td>kabar luwuk film horor piara mayat kreativitas...</td>\n",
              "      <td>kabar luwuk film horor piara mayat kreativitas...</td>\n",
              "      <td>[kabar, luwuk, film, horor, piara, mayat, krea...</td>\n",
              "    </tr>\n",
              "    <tr>\n",
              "      <th>2</th>\n",
              "      <td>banggai</td>\n",
              "      <td>Festival Malabot Tumbe 2023 Kembali Meriahkan ...</td>\n",
              "      <td>KABAR LUWUK  –Festival Malabot Tumbe 2023Kemba...</td>\n",
              "      <td>kabar luwuk  –festival malabot tumbe 2023kemba...</td>\n",
              "      <td>kabar luwuk  –festival malabot tumbe kembali m...</td>\n",
              "      <td>kabar luwuk   festival malabot tumbe kembali m...</td>\n",
              "      <td>kabar luwuk festival malabot tumbe kembali mer...</td>\n",
              "      <td>kabar luwuk festival malabot tumbe meriahkanka...</td>\n",
              "      <td>kabar luwuk festival malabot tumbe meriahkanka...</td>\n",
              "      <td>[kabar, luwuk, festival, malabot, tumbe, meria...</td>\n",
              "    </tr>\n",
              "    <tr>\n",
              "      <th>3</th>\n",
              "      <td>banggai</td>\n",
              "      <td>Rakor Kampanye Damai Pemilu 2024, Polres Bangg...</td>\n",
              "      <td>“Kerja Cepat dan Terkoordinir dalam Penerbitan...</td>\n",
              "      <td>“kerja cepat dan terkoordinir dalam penerbitan...</td>\n",
              "      <td>“kerja cepat dan terkoordinir dalam penerbitan...</td>\n",
              "      <td>kerja cepat dan terkoordinir dalam penerbitan...</td>\n",
              "      <td>kerja cepat dan terkoordinir dalam penerbitan ...</td>\n",
              "      <td>kerja cepat terkoordinir penerbitan sttp kabar...</td>\n",
              "      <td>kerja cepat terkoordinir terbit sttp kabar luw...</td>\n",
              "      <td>[kerja, cepat, terkoordinir, terbit, sttp, kab...</td>\n",
              "    </tr>\n",
              "    <tr>\n",
              "      <th>4</th>\n",
              "      <td>banggai</td>\n",
              "      <td>Bawaslu Banggai Perkuat Koordinasi dengan Panw...</td>\n",
              "      <td>KABAR LUWUK  –Bawaslu BanggaiPerkuat Koordinas...</td>\n",
              "      <td>kabar luwuk  –bawaslu banggaiperkuat koordinas...</td>\n",
              "      <td>kabar luwuk  –bawaslu banggaiperkuat koordinas...</td>\n",
              "      <td>kabar luwuk   bawaslu banggaiperkuat koordinas...</td>\n",
              "      <td>kabar luwuk bawaslu banggaiperkuat koordinasi ...</td>\n",
              "      <td>kabar luwuk bawaslu banggaiperkuat koordinasi ...</td>\n",
              "      <td>kabar luwuk bawaslu banggaiperkuat koordinasi ...</td>\n",
              "      <td>[kabar, luwuk, bawaslu, banggaiperkuat, koordi...</td>\n",
              "    </tr>\n",
              "    <tr>\n",
              "      <th>...</th>\n",
              "      <td>...</td>\n",
              "      <td>...</td>\n",
              "      <td>...</td>\n",
              "      <td>...</td>\n",
              "      <td>...</td>\n",
              "      <td>...</td>\n",
              "      <td>...</td>\n",
              "      <td>...</td>\n",
              "      <td>...</td>\n",
              "      <td>...</td>\n",
              "    </tr>\n",
              "    <tr>\n",
              "      <th>595</th>\n",
              "      <td>banggai</td>\n",
              "      <td>Banggai Run Challenge 2024 Menggantikan Tour d...</td>\n",
              "      <td>KABAR LUWUK –Banggai Run Challenge 2024menggan...</td>\n",
              "      <td>kabar luwuk –banggai run challenge 2024menggan...</td>\n",
              "      <td>kabar luwuk –banggai run challenge menggantika...</td>\n",
              "      <td>kabar luwuk  banggai run challenge menggantika...</td>\n",
              "      <td>kabar luwuk banggai run challenge menggantikan...</td>\n",
              "      <td>kabar luwuk banggai run challenge menggantikan...</td>\n",
              "      <td>kabar luwuk bangga run challenge menggantikant...</td>\n",
              "      <td>[kabar, luwuk, bangga, run, challenge, menggan...</td>\n",
              "    </tr>\n",
              "    <tr>\n",
              "      <th>596</th>\n",
              "      <td>banggai</td>\n",
              "      <td>Baru PDIP, Bawaslu Banggai Minta Parpol Segera...</td>\n",
              "      <td>BANGGAI RAYA- Badan Pengawas Pemilu (Bawaslu) ...</td>\n",
              "      <td>banggai raya- badan pengawas pemilu (bawaslu) ...</td>\n",
              "      <td>banggai raya- badan pengawas pemilu (bawaslu) ...</td>\n",
              "      <td>banggai raya  badan pengawas pemilu bawaslu ka...</td>\n",
              "      <td>banggai raya badan pengawas pemilu bawaslu kab...</td>\n",
              "      <td>banggai raya badan pengawas pemilu bawaslu kab...</td>\n",
              "      <td>bangga raya badan awas milu bawaslu kabupaten ...</td>\n",
              "      <td>[bangga, raya, badan, awas, milu, bawaslu, kab...</td>\n",
              "    </tr>\n",
              "    <tr>\n",
              "      <th>597</th>\n",
              "      <td>banggai</td>\n",
              "      <td>Command Center Pemkab Banggai segera Dibangun ...</td>\n",
              "      <td>Laporan Wartawan TribunPalu.com, Asnawi Zikri ...</td>\n",
              "      <td>laporan wartawan tribunpalu.com, asnawi zikri ...</td>\n",
              "      <td>laporan wartawan tribunpalu.com, asnawi zikri ...</td>\n",
              "      <td>laporan wartawan tribunpalu com asnawi zikri t...</td>\n",
              "      <td>laporan wartawan tribunpalu com asnawi zikri t...</td>\n",
              "      <td>laporan wartawan tribunpalu com asnawi zikri t...</td>\n",
              "      <td>lapor wartawan tribunpalu com asnawi zikri tri...</td>\n",
              "      <td>[lapor, wartawan, tribunpalu, com, asnawi, zik...</td>\n",
              "    </tr>\n",
              "    <tr>\n",
              "      <th>598</th>\n",
              "      <td>banggai</td>\n",
              "      <td>Rp 4,2 M Disiapkan Pemda Banggai untuk Isentif...</td>\n",
              "      <td>BANGGAI RAYA- Tahun ini, Pemerintah Daerah (Pe...</td>\n",
              "      <td>banggai raya- tahun ini, pemerintah daerah (pe...</td>\n",
              "      <td>banggai raya- tahun ini, pemerintah daerah (pe...</td>\n",
              "      <td>banggai raya  tahun ini pemerintah daerah pemd...</td>\n",
              "      <td>banggai raya tahun ini pemerintah daerah pemda...</td>\n",
              "      <td>banggai raya pemerintah daerah pemda kabupaten...</td>\n",
              "      <td>bangga raya perintah daerah pemda kabupaten ba...</td>\n",
              "      <td>[bangga, raya, perintah, daerah, pemda, kabupa...</td>\n",
              "    </tr>\n",
              "    <tr>\n",
              "      <th>599</th>\n",
              "      <td>banggai</td>\n",
              "      <td>Reses Aleg Dprd Banggai Haji Udin Serap Aspira...</td>\n",
              "      <td>Terasbanggai.com -Sejumlah usulan pembangunan ...</td>\n",
              "      <td>terasbanggai.com -sejumlah usulan pembangunan ...</td>\n",
              "      <td>terasbanggai.com -sejumlah usulan pembangunan ...</td>\n",
              "      <td>terasbanggai com  sejumlah usulan pembangunan ...</td>\n",
              "      <td>terasbanggai com sejumlah usulan pembangunan d...</td>\n",
              "      <td>terasbanggai com usulan pembangunan setiap wil...</td>\n",
              "      <td>terasbanggai com usul bangun tiap wilayah desa...</td>\n",
              "      <td>[terasbanggai, com, usul, bangun, tiap, wilaya...</td>\n",
              "    </tr>\n",
              "  </tbody>\n",
              "</table>\n",
              "<p>580 rows × 10 columns</p>\n",
              "</div>\n",
              "    <div class=\"colab-df-buttons\">\n",
              "\n",
              "  <div class=\"colab-df-container\">\n",
              "    <button class=\"colab-df-convert\" onclick=\"convertToInteractive('df-5ef22d52-c5d9-4d2b-9044-ab1b704f2c4e')\"\n",
              "            title=\"Convert this dataframe to an interactive table.\"\n",
              "            style=\"display:none;\">\n",
              "\n",
              "  <svg xmlns=\"http://www.w3.org/2000/svg\" height=\"24px\" viewBox=\"0 -960 960 960\">\n",
              "    <path d=\"M120-120v-720h720v720H120Zm60-500h600v-160H180v160Zm220 220h160v-160H400v160Zm0 220h160v-160H400v160ZM180-400h160v-160H180v160Zm440 0h160v-160H620v160ZM180-180h160v-160H180v160Zm440 0h160v-160H620v160Z\"/>\n",
              "  </svg>\n",
              "    </button>\n",
              "\n",
              "  <style>\n",
              "    .colab-df-container {\n",
              "      display:flex;\n",
              "      gap: 12px;\n",
              "    }\n",
              "\n",
              "    .colab-df-convert {\n",
              "      background-color: #E8F0FE;\n",
              "      border: none;\n",
              "      border-radius: 50%;\n",
              "      cursor: pointer;\n",
              "      display: none;\n",
              "      fill: #1967D2;\n",
              "      height: 32px;\n",
              "      padding: 0 0 0 0;\n",
              "      width: 32px;\n",
              "    }\n",
              "\n",
              "    .colab-df-convert:hover {\n",
              "      background-color: #E2EBFA;\n",
              "      box-shadow: 0px 1px 2px rgba(60, 64, 67, 0.3), 0px 1px 3px 1px rgba(60, 64, 67, 0.15);\n",
              "      fill: #174EA6;\n",
              "    }\n",
              "\n",
              "    .colab-df-buttons div {\n",
              "      margin-bottom: 4px;\n",
              "    }\n",
              "\n",
              "    [theme=dark] .colab-df-convert {\n",
              "      background-color: #3B4455;\n",
              "      fill: #D2E3FC;\n",
              "    }\n",
              "\n",
              "    [theme=dark] .colab-df-convert:hover {\n",
              "      background-color: #434B5C;\n",
              "      box-shadow: 0px 1px 3px 1px rgba(0, 0, 0, 0.15);\n",
              "      filter: drop-shadow(0px 1px 2px rgba(0, 0, 0, 0.3));\n",
              "      fill: #FFFFFF;\n",
              "    }\n",
              "  </style>\n",
              "\n",
              "    <script>\n",
              "      const buttonEl =\n",
              "        document.querySelector('#df-5ef22d52-c5d9-4d2b-9044-ab1b704f2c4e button.colab-df-convert');\n",
              "      buttonEl.style.display =\n",
              "        google.colab.kernel.accessAllowed ? 'block' : 'none';\n",
              "\n",
              "      async function convertToInteractive(key) {\n",
              "        const element = document.querySelector('#df-5ef22d52-c5d9-4d2b-9044-ab1b704f2c4e');\n",
              "        const dataTable =\n",
              "          await google.colab.kernel.invokeFunction('convertToInteractive',\n",
              "                                                    [key], {});\n",
              "        if (!dataTable) return;\n",
              "\n",
              "        const docLinkHtml = 'Like what you see? Visit the ' +\n",
              "          '<a target=\"_blank\" href=https://colab.research.google.com/notebooks/data_table.ipynb>data table notebook</a>'\n",
              "          + ' to learn more about interactive tables.';\n",
              "        element.innerHTML = '';\n",
              "        dataTable['output_type'] = 'display_data';\n",
              "        await google.colab.output.renderOutput(dataTable, element);\n",
              "        const docLink = document.createElement('div');\n",
              "        docLink.innerHTML = docLinkHtml;\n",
              "        element.appendChild(docLink);\n",
              "      }\n",
              "    </script>\n",
              "  </div>\n",
              "\n",
              "\n",
              "<div id=\"df-c4835490-5175-48ad-9d83-64bcb01b601e\">\n",
              "  <button class=\"colab-df-quickchart\" onclick=\"quickchart('df-c4835490-5175-48ad-9d83-64bcb01b601e')\"\n",
              "            title=\"Suggest charts\"\n",
              "            style=\"display:none;\">\n",
              "\n",
              "<svg xmlns=\"http://www.w3.org/2000/svg\" height=\"24px\"viewBox=\"0 0 24 24\"\n",
              "     width=\"24px\">\n",
              "    <g>\n",
              "        <path d=\"M19 3H5c-1.1 0-2 .9-2 2v14c0 1.1.9 2 2 2h14c1.1 0 2-.9 2-2V5c0-1.1-.9-2-2-2zM9 17H7v-7h2v7zm4 0h-2V7h2v10zm4 0h-2v-4h2v4z\"/>\n",
              "    </g>\n",
              "</svg>\n",
              "  </button>\n",
              "\n",
              "<style>\n",
              "  .colab-df-quickchart {\n",
              "      --bg-color: #E8F0FE;\n",
              "      --fill-color: #1967D2;\n",
              "      --hover-bg-color: #E2EBFA;\n",
              "      --hover-fill-color: #174EA6;\n",
              "      --disabled-fill-color: #AAA;\n",
              "      --disabled-bg-color: #DDD;\n",
              "  }\n",
              "\n",
              "  [theme=dark] .colab-df-quickchart {\n",
              "      --bg-color: #3B4455;\n",
              "      --fill-color: #D2E3FC;\n",
              "      --hover-bg-color: #434B5C;\n",
              "      --hover-fill-color: #FFFFFF;\n",
              "      --disabled-bg-color: #3B4455;\n",
              "      --disabled-fill-color: #666;\n",
              "  }\n",
              "\n",
              "  .colab-df-quickchart {\n",
              "    background-color: var(--bg-color);\n",
              "    border: none;\n",
              "    border-radius: 50%;\n",
              "    cursor: pointer;\n",
              "    display: none;\n",
              "    fill: var(--fill-color);\n",
              "    height: 32px;\n",
              "    padding: 0;\n",
              "    width: 32px;\n",
              "  }\n",
              "\n",
              "  .colab-df-quickchart:hover {\n",
              "    background-color: var(--hover-bg-color);\n",
              "    box-shadow: 0 1px 2px rgba(60, 64, 67, 0.3), 0 1px 3px 1px rgba(60, 64, 67, 0.15);\n",
              "    fill: var(--button-hover-fill-color);\n",
              "  }\n",
              "\n",
              "  .colab-df-quickchart-complete:disabled,\n",
              "  .colab-df-quickchart-complete:disabled:hover {\n",
              "    background-color: var(--disabled-bg-color);\n",
              "    fill: var(--disabled-fill-color);\n",
              "    box-shadow: none;\n",
              "  }\n",
              "\n",
              "  .colab-df-spinner {\n",
              "    border: 2px solid var(--fill-color);\n",
              "    border-color: transparent;\n",
              "    border-bottom-color: var(--fill-color);\n",
              "    animation:\n",
              "      spin 1s steps(1) infinite;\n",
              "  }\n",
              "\n",
              "  @keyframes spin {\n",
              "    0% {\n",
              "      border-color: transparent;\n",
              "      border-bottom-color: var(--fill-color);\n",
              "      border-left-color: var(--fill-color);\n",
              "    }\n",
              "    20% {\n",
              "      border-color: transparent;\n",
              "      border-left-color: var(--fill-color);\n",
              "      border-top-color: var(--fill-color);\n",
              "    }\n",
              "    30% {\n",
              "      border-color: transparent;\n",
              "      border-left-color: var(--fill-color);\n",
              "      border-top-color: var(--fill-color);\n",
              "      border-right-color: var(--fill-color);\n",
              "    }\n",
              "    40% {\n",
              "      border-color: transparent;\n",
              "      border-right-color: var(--fill-color);\n",
              "      border-top-color: var(--fill-color);\n",
              "    }\n",
              "    60% {\n",
              "      border-color: transparent;\n",
              "      border-right-color: var(--fill-color);\n",
              "    }\n",
              "    80% {\n",
              "      border-color: transparent;\n",
              "      border-right-color: var(--fill-color);\n",
              "      border-bottom-color: var(--fill-color);\n",
              "    }\n",
              "    90% {\n",
              "      border-color: transparent;\n",
              "      border-bottom-color: var(--fill-color);\n",
              "    }\n",
              "  }\n",
              "</style>\n",
              "\n",
              "  <script>\n",
              "    async function quickchart(key) {\n",
              "      const quickchartButtonEl =\n",
              "        document.querySelector('#' + key + ' button');\n",
              "      quickchartButtonEl.disabled = true;  // To prevent multiple clicks.\n",
              "      quickchartButtonEl.classList.add('colab-df-spinner');\n",
              "      try {\n",
              "        const charts = await google.colab.kernel.invokeFunction(\n",
              "            'suggestCharts', [key], {});\n",
              "      } catch (error) {\n",
              "        console.error('Error during call to suggestCharts:', error);\n",
              "      }\n",
              "      quickchartButtonEl.classList.remove('colab-df-spinner');\n",
              "      quickchartButtonEl.classList.add('colab-df-quickchart-complete');\n",
              "    }\n",
              "    (() => {\n",
              "      let quickchartButtonEl =\n",
              "        document.querySelector('#df-c4835490-5175-48ad-9d83-64bcb01b601e button');\n",
              "      quickchartButtonEl.style.display =\n",
              "        google.colab.kernel.accessAllowed ? 'block' : 'none';\n",
              "    })();\n",
              "  </script>\n",
              "</div>\n",
              "    </div>\n",
              "  </div>\n"
            ],
            "application/vnd.google.colaboratory.intrinsic+json": {
              "type": "dataframe",
              "variable_name": "df",
              "summary": "{\n  \"name\": \"df\",\n  \"rows\": 580,\n  \"fields\": [\n    {\n      \"column\": \"target\",\n      \"properties\": {\n        \"dtype\": \"category\",\n        \"num_unique_values\": 1,\n        \"samples\": [\n          \"banggai\"\n        ],\n        \"semantic_type\": \"\",\n        \"description\": \"\"\n      }\n    },\n    {\n      \"column\": \"title\",\n      \"properties\": {\n        \"dtype\": \"string\",\n        \"num_unique_values\": 580,\n        \"samples\": [\n          \"Banggai Run Challenge 2024 Menggantikan Tour de Banggai, Dorong Pariwisata dan Ekonomi Lokal\"\n        ],\n        \"semantic_type\": \"\",\n        \"description\": \"\"\n      }\n    },\n    {\n      \"column\": \"text\",\n      \"properties\": {\n        \"dtype\": \"string\",\n        \"num_unique_values\": 566,\n        \"samples\": [\n          \"Laporan Wartawan TribunPalu.com, Asnawi Zikri TRIBUNPALU.COM, BANGGAI -Tim Kelompok Kerja (Pokja) Pemerintah KabupatenBanggai segera turun lapangan untuk menyelesaikan masalah warga dan PT Koninis Fajar Mineral (KFM) di Desa Tuntung, Kecamatan Bunta, KabupatenBanggai , Sulawesi Tengah. Hal itu disampaikan saat rapat bersama antara Pemerintah KabupatenBanggai , Pemerintah Kecamatan Bunta, Pemerintah Desa Tuntung, warga, dan manajemen PTKFM . Rapat itu dipimpin Asisten 2 Setda Banggai, Ferlin Monggesang, di ruang rapat khusus kantor Bupati Banggai, Selasa (16/1/2024). Diketahui, beragam masalah dialami warga usai masuknya investasi pertambangan nikel di wilayah Desa Tuntung. Seperti masalah lahan warga, dampak lingkungan terhadap tanaman warga, hingga jalan kantong produksi yang dipakai menjadi jalan koridor. Pada rapat itu, Ferlin menyampaikan kepada Camat Bunta agar segera membentuk tim Pokja tingkat kecamatan dengan melibatkan warga. Tim Pokja kecamatan bertugas untuk memetakan berkas alas hak lahan milik warga yang belum dibebaskan dan diganti rugi PTKFM . \\\"Saya harap (Camat Bunta) secepatnya bentuk tim agar masalah ini segera diselesaikan,\\\" kata Ferlin. Setelah tim Pokja kecamatan telah dibentuk dan melalsanakan kerja-kerja di lapangan, maka tim Pokja KabupatenBanggai akan menggelar rapat internal untuk menentukan waktu turun lapangan. \\\"Jadi semua tergantung kesiapan tim Pokja kecamatan,\\\" kata dia. Usai tinjau lapangan, kata Ferlin, pihaknya berjanji akan menghadirkan Direktur PTKFM dalam rapat penentuan penyelesaian masalah. (*) \"\n        ],\n        \"semantic_type\": \"\",\n        \"description\": \"\"\n      }\n    },\n    {\n      \"column\": \"lwr\",\n      \"properties\": {\n        \"dtype\": \"string\",\n        \"num_unique_values\": 566,\n        \"samples\": [\n          \"laporan wartawan tribunpalu.com, asnawi zikri tribunpalu.com, banggai -tim kelompok kerja (pokja) pemerintah kabupatenbanggai segera turun lapangan untuk menyelesaikan masalah warga dan pt koninis fajar mineral (kfm) di desa tuntung, kecamatan bunta, kabupatenbanggai , sulawesi tengah. hal itu disampaikan saat rapat bersama antara pemerintah kabupatenbanggai , pemerintah kecamatan bunta, pemerintah desa tuntung, warga, dan manajemen ptkfm . rapat itu dipimpin asisten 2 setda banggai, ferlin monggesang, di ruang rapat khusus kantor bupati banggai, selasa (16/1/2024). diketahui, beragam masalah dialami warga usai masuknya investasi pertambangan nikel di wilayah desa tuntung. seperti masalah lahan warga, dampak lingkungan terhadap tanaman warga, hingga jalan kantong produksi yang dipakai menjadi jalan koridor. pada rapat itu, ferlin menyampaikan kepada camat bunta agar segera membentuk tim pokja tingkat kecamatan dengan melibatkan warga. tim pokja kecamatan bertugas untuk memetakan berkas alas hak lahan milik warga yang belum dibebaskan dan diganti rugi ptkfm . \\\"saya harap (camat bunta) secepatnya bentuk tim agar masalah ini segera diselesaikan,\\\" kata ferlin. setelah tim pokja kecamatan telah dibentuk dan melalsanakan kerja-kerja di lapangan, maka tim pokja kabupatenbanggai akan menggelar rapat internal untuk menentukan waktu turun lapangan. \\\"jadi semua tergantung kesiapan tim pokja kecamatan,\\\" kata dia. usai tinjau lapangan, kata ferlin, pihaknya berjanji akan menghadirkan direktur ptkfm dalam rapat penentuan penyelesaian masalah. (*) \"\n        ],\n        \"semantic_type\": \"\",\n        \"description\": \"\"\n      }\n    },\n    {\n      \"column\": \"clean_number\",\n      \"properties\": {\n        \"dtype\": \"string\",\n        \"num_unique_values\": 566,\n        \"samples\": [\n          \"laporan wartawan tribunpalu.com, asnawi zikri tribunpalu.com, banggai -tim kelompok kerja (pokja) pemerintah kabupatenbanggai segera turun lapangan untuk menyelesaikan masalah warga dan pt koninis fajar mineral (kfm) di desa tuntung, kecamatan bunta, kabupatenbanggai , sulawesi tengah. hal itu disampaikan saat rapat bersama antara pemerintah kabupatenbanggai , pemerintah kecamatan bunta, pemerintah desa tuntung, warga, dan manajemen ptkfm . rapat itu dipimpin asisten  setda banggai, ferlin monggesang, di ruang rapat khusus kantor bupati banggai, selasa (//). diketahui, beragam masalah dialami warga usai masuknya investasi pertambangan nikel di wilayah desa tuntung. seperti masalah lahan warga, dampak lingkungan terhadap tanaman warga, hingga jalan kantong produksi yang dipakai menjadi jalan koridor. pada rapat itu, ferlin menyampaikan kepada camat bunta agar segera membentuk tim pokja tingkat kecamatan dengan melibatkan warga. tim pokja kecamatan bertugas untuk memetakan berkas alas hak lahan milik warga yang belum dibebaskan dan diganti rugi ptkfm . \\\"saya harap (camat bunta) secepatnya bentuk tim agar masalah ini segera diselesaikan,\\\" kata ferlin. setelah tim pokja kecamatan telah dibentuk dan melalsanakan kerja-kerja di lapangan, maka tim pokja kabupatenbanggai akan menggelar rapat internal untuk menentukan waktu turun lapangan. \\\"jadi semua tergantung kesiapan tim pokja kecamatan,\\\" kata dia. usai tinjau lapangan, kata ferlin, pihaknya berjanji akan menghadirkan direktur ptkfm dalam rapat penentuan penyelesaian masalah. (*) \"\n        ],\n        \"semantic_type\": \"\",\n        \"description\": \"\"\n      }\n    },\n    {\n      \"column\": \"clean_punct\",\n      \"properties\": {\n        \"dtype\": \"string\",\n        \"num_unique_values\": 566,\n        \"samples\": [\n          \"laporan wartawan tribunpalu com asnawi zikri tribunpalu com banggai  tim kelompok kerja pokja pemerintah kabupatenbanggai segera turun lapangan untuk menyelesaikan masalah warga dan pt koninis fajar mineral kfm di desa tuntung kecamatan bunta kabupatenbanggai  sulawesi tengah  hal itu disampaikan saat rapat bersama antara pemerintah kabupatenbanggai  pemerintah kecamatan bunta pemerintah desa tuntung warga dan manajemen ptkfm   rapat itu dipimpin asisten  setda banggai ferlin monggesang di ruang rapat khusus kantor bupati banggai selasa   diketahui beragam masalah dialami warga usai masuknya investasi pertambangan nikel di wilayah desa tuntung  seperti masalah lahan warga dampak lingkungan terhadap tanaman warga hingga jalan kantong produksi yang dipakai menjadi jalan koridor  pada rapat itu ferlin menyampaikan kepada camat bunta agar segera membentuk tim pokja tingkat kecamatan dengan melibatkan warga  tim pokja kecamatan bertugas untuk memetakan berkas alas hak lahan milik warga yang belum dibebaskan dan diganti rugi ptkfm    saya harap camat bunta secepatnya bentuk tim agar masalah ini segera diselesaikan  kata ferlin  setelah tim pokja kecamatan telah dibentuk dan melalsanakan kerja kerja di lapangan maka tim pokja kabupatenbanggai akan menggelar rapat internal untuk menentukan waktu turun lapangan   jadi semua tergantung kesiapan tim pokja kecamatan  kata dia  usai tinjau lapangan kata ferlin pihaknya berjanji akan menghadirkan direktur ptkfm dalam rapat penentuan penyelesaian masalah    \"\n        ],\n        \"semantic_type\": \"\",\n        \"description\": \"\"\n      }\n    },\n    {\n      \"column\": \"clean_double_ws\",\n      \"properties\": {\n        \"dtype\": \"string\",\n        \"num_unique_values\": 565,\n        \"samples\": [\n          \"laporan wartawan tribunpalu com asnawi zikri tribunpalu com banggai tim kelompok kerja pokja pemerintah kabupatenbanggai segera turun lapangan untuk menyelesaikan masalah warga dan pt koninis fajar mineral kfm di desa tuntung kecamatan bunta kabupatenbanggai sulawesi tengah hal itu disampaikan saat rapat bersama antara pemerintah kabupatenbanggai pemerintah kecamatan bunta pemerintah desa tuntung warga dan manajemen ptkfm rapat itu dipimpin asisten setda banggai ferlin monggesang di ruang rapat khusus kantor bupati banggai selasa diketahui beragam masalah dialami warga usai masuknya investasi pertambangan nikel di wilayah desa tuntung seperti masalah lahan warga dampak lingkungan terhadap tanaman warga hingga jalan kantong produksi yang dipakai menjadi jalan koridor pada rapat itu ferlin menyampaikan kepada camat bunta agar segera membentuk tim pokja tingkat kecamatan dengan melibatkan warga tim pokja kecamatan bertugas untuk memetakan berkas alas hak lahan milik warga yang belum dibebaskan dan diganti rugi ptkfm saya harap camat bunta secepatnya bentuk tim agar masalah ini segera diselesaikan kata ferlin setelah tim pokja kecamatan telah dibentuk dan melalsanakan kerja kerja di lapangan maka tim pokja kabupatenbanggai akan menggelar rapat internal untuk menentukan waktu turun lapangan jadi semua tergantung kesiapan tim pokja kecamatan kata dia usai tinjau lapangan kata ferlin pihaknya berjanji akan menghadirkan direktur ptkfm dalam rapat penentuan penyelesaian masalah\"\n        ],\n        \"semantic_type\": \"\",\n        \"description\": \"\"\n      }\n    },\n    {\n      \"column\": \"filtered\",\n      \"properties\": {\n        \"dtype\": \"string\",\n        \"num_unique_values\": 565,\n        \"samples\": [\n          \"laporan wartawan tribunpalu com asnawi zikri tribunpalu com banggai tim kelompok kerja pokja pemerintah kabupatenbanggai turun lapangan menyelesaikan warga pt koninis fajar mineral kfm desa tuntung kecamatan bunta kabupatenbanggai sulawesi hal disampaikan rapat antara pemerintah kabupatenbanggai pemerintah kecamatan bunta pemerintah desa tuntung warga manajemen ptkfm rapat dipimpin asisten setda banggai ferlin monggesang ruang rapat khusus kantor bupati banggai selasa beragam dialami warga masuknya investasi pertambangan nikel wilayah desa tuntung lahan warga dampak lingkungan tanaman warga jalan kantong produksi dipakai jalan koridor rapat ferlin kepada camat bunta segera membentuk tim pokja tingkat kecamatan melibatkan warga tim pokja kecamatan bertugas memetakan berkas alas hak lahan milik warga belum dibebaskan diganti rugi ptkfm harap camat bunta secepatnya bentuk tim masalah segera diselesaikan ferlin tim pokja kecamatan dibentuk melalsanakan kerja kerja lapangan tim pokja kabupatenbanggai menggelar rapat internal menentukan turun lapangan semua tergantung kesiapan tim pokja kecamatan dia tinjau lapangan ferlin berjanji menghadirkan direktur ptkfm rapat penentuan penyelesaian masalah\"\n        ],\n        \"semantic_type\": \"\",\n        \"description\": \"\"\n      }\n    },\n    {\n      \"column\": \"stemmed\",\n      \"properties\": {\n        \"dtype\": \"string\",\n        \"num_unique_values\": 565,\n        \"samples\": [\n          \"lapor wartawan tribunpalu com asnawi zikri tribunpalu com bangga tim kelompok kerja pokja perintah kabupatenbanggai turun lapang selesai warga pt koninis fajar mineral kfm desa tuntung camat bunta kabupatenbanggai sulawesi hal sampai rapat antara perintah kabupatenbanggai perintah camat bunta perintah desa tuntung warga manajemen ptkfm rapat pimpin asisten setda bangga ferlin monggesang ruang rapat khusus kantor bupati bangga selasa agam alami warga masuk investasi tambang nikel wilayah desa tuntung lahan warga dampak lingkung tanam warga jalan kantong produksi pakai jalan koridor rapat ferlin kepada camat bunta segera bentuk tim pokja tingkat camat libat warga tim pokja camat tugas meta berkas alas hak lahan milik warga belum bebas ganti rugi ptkfm harap camat bunta cepat bentuk tim masalah segera selesai ferlin tim pokja camat bentuk melalsanakan kerja kerja lapang tim pokja kabupatenbanggai gelar rapat internal tentu turun lapang semua gantung kesiap tim pokja camat dia tinjau lapang ferlin janji hadir direktur ptkfm rapat tentu selesai masalah\"\n        ],\n        \"semantic_type\": \"\",\n        \"description\": \"\"\n      }\n    },\n    {\n      \"column\": \"tokenized\",\n      \"properties\": {\n        \"dtype\": \"object\",\n        \"semantic_type\": \"\",\n        \"description\": \"\"\n      }\n    }\n  ]\n}"
            }
          },
          "metadata": {},
          "execution_count": 136
        }
      ]
    },
    {
      "cell_type": "code",
      "execution_count": null,
      "metadata": {
        "colab": {
          "base_uri": "https://localhost:8080/"
        },
        "id": "CBMRdRdiK8vz",
        "outputId": "97a04e52-8df0-44b6-b3ae-b6f2cc4bf36c"
      },
      "outputs": [
        {
          "output_type": "stream",
          "name": "stdout",
          "text": [
            "lapor nasri seibanggaipostbanggaipost comluwuk jaksa negeri kejar bangga tangan korupsi daerah dasar rilis sampai kasi intelejen sarman santosa tandisau s h jumat perkara korupsi antara proses sidi yaknipertama duga tindak pidana korupsi kerja rekonstruksi talud kam pantai desa gorontalo camat balantak selatan anggar duga tindak pidana korupsi penyalahgunaan uang serta modal badan usaha milik desa bumdes berkah uso desa uso camat batu kabupaten bangga selain satu perkara tahap tuntut duga perkara tindak pidana korupsi penyalahgunaan apbdesa lobu t a t a an dakwa lusiana udopo langgar primair pasal ayat jo pasal ayat undang undang no tentang berantas tindak pidana korupsi telah ubah tambah undang undang no tentang ubah undang undang no tentang berantas tindak pidana korupsi subsidair pasal jo pasal ayat undang undang no tentang berantas tindak pidana korupsi kara a quo upaya hukum kasasi mahkamah agung sarman kejar bangga telah eksekusi kasus korupsi yaknipertama duga tindak pidana korupsi simpang jabat laku oknum perintah desa tuntung masyarakat terima bayar guna lahan usaha nikel pt koninis fajar mineral an dakwa tarif tamagola duga perkara tindak pidana korupsi suap hadiah dean granovic kepala kupp kelas iii bunta sd a n dakwa soehartono alias heryketiga duga perkara tindak pidana korupsi peras pungut liar kantor kupp kelas iii bunta tahun sd tindak pidana cuci uang tempat hasil jahat oleh dari tindak pidana korupsi a n dakwa dean granovic berita terkaitbupati bangga lantik jabat staf khususserah terima unit rumah layak huni bangga harap bupatitahun masa pimpin ini tegas bupati banggaipolisi damping bongkar muat surat suara milu bangga tenaga didik tenaga didik paud terima honorbupati bangga salur puluh perahu fiber nelayankabupaten banggaikejari banggaikorupsiperkarasulawesi tengahtahun\n",
            "['lapor', 'nasri', 'seibanggaipostbanggaipost', 'comluwuk', 'jaksa', 'negeri', 'kejar', 'bangga', 'tangan', 'korupsi', 'daerah', 'dasar', 'rilis', 'sampai', 'kasi', 'intelejen', 'sarman', 'santosa', 'tandisau', 's', 'h', 'jumat', 'perkara', 'korupsi', 'antara', 'proses', 'sidi', 'yaknipertama', 'duga', 'tindak', 'pidana', 'korupsi', 'kerja', 'rekonstruksi', 'talud', 'kam', 'pantai', 'desa', 'gorontalo', 'camat', 'balantak', 'selatan', 'anggar', 'duga', 'tindak', 'pidana', 'korupsi', 'penyalahgunaan', 'uang', 'serta', 'modal', 'badan', 'usaha', 'milik', 'desa', 'bumdes', 'berkah', 'uso', 'desa', 'uso', 'camat', 'batu', 'kabupaten', 'bangga', 'selain', 'satu', 'perkara', 'tahap', 'tuntut', 'duga', 'perkara', 'tindak', 'pidana', 'korupsi', 'penyalahgunaan', 'apbdesa', 'lobu', 't', 'a', 't', 'a', 'an', 'dakwa', 'lusiana', 'udopo', 'langgar', 'primair', 'pasal', 'ayat', 'jo', 'pasal', 'ayat', 'undang', 'undang', 'no', 'tentang', 'berantas', 'tindak', 'pidana', 'korupsi', 'telah', 'ubah', 'tambah', 'undang', 'undang', 'no', 'tentang', 'ubah', 'undang', 'undang', 'no', 'tentang', 'berantas', 'tindak', 'pidana', 'korupsi', 'subsidair', 'pasal', 'jo', 'pasal', 'ayat', 'undang', 'undang', 'no', 'tentang', 'berantas', 'tindak', 'pidana', 'korupsi', 'kara', 'a', 'quo', 'upaya', 'hukum', 'kasasi', 'mahkamah', 'agung', 'sarman', 'kejar', 'bangga', 'telah', 'eksekusi', 'kasus', 'korupsi', 'yaknipertama', 'duga', 'tindak', 'pidana', 'korupsi', 'simpang', 'jabat', 'laku', 'oknum', 'perintah', 'desa', 'tuntung', 'masyarakat', 'terima', 'bayar', 'guna', 'lahan', 'usaha', 'nikel', 'pt', 'koninis', 'fajar', 'mineral', 'an', 'dakwa', 'tarif', 'tamagola', 'duga', 'perkara', 'tindak', 'pidana', 'korupsi', 'suap', 'hadiah', 'dean', 'granovic', 'kepala', 'kupp', 'kelas', 'iii', 'bunta', 'sd', 'a', 'n', 'dakwa', 'soehartono', 'alias', 'heryketiga', 'duga', 'perkara', 'tindak', 'pidana', 'korupsi', 'peras', 'pungut', 'liar', 'kantor', 'kupp', 'kelas', 'iii', 'bunta', 'tahun', 'sd', 'tindak', 'pidana', 'cuci', 'uang', 'tempat', 'hasil', 'jahat', 'oleh', 'dari', 'tindak', 'pidana', 'korupsi', 'a', 'n', 'dakwa', 'dean', 'granovic', 'berita', 'terkaitbupati', 'bangga', 'lantik', 'jabat', 'staf', 'khususserah', 'terima', 'unit', 'rumah', 'layak', 'huni', 'bangga', 'harap', 'bupatitahun', 'masa', 'pimpin', 'ini', 'tegas', 'bupati', 'banggaipolisi', 'damping', 'bongkar', 'muat', 'surat', 'suara', 'milu', 'bangga', 'tenaga', 'didik', 'tenaga', 'didik', 'paud', 'terima', 'honorbupati', 'bangga', 'salur', 'puluh', 'perahu', 'fiber', 'nelayankabupaten', 'banggaikejari', 'banggaikorupsiperkarasulawesi', 'tengahtahun']\n"
          ]
        }
      ],
      "source": [
        "print(df['stemmed'][264])\n",
        "print(df['tokenized'][264])"
      ]
    },
    {
      "cell_type": "markdown",
      "source": [
        "# Convert df to excel"
      ],
      "metadata": {
        "id": "2opI8g0QULEZ"
      }
    },
    {
      "cell_type": "code",
      "source": [
        "df.to_excel('lexicon_analytics_banggai_news.xlsx', index=False)"
      ],
      "metadata": {
        "id": "bCsU97ymUKg2"
      },
      "execution_count": null,
      "outputs": []
    }
  ]
}