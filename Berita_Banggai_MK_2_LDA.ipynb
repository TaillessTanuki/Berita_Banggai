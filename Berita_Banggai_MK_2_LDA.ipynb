{
  "nbformat": 4,
  "nbformat_minor": 0,
  "metadata": {
    "colab": {
      "provenance": [],
      "collapsed_sections": [
        "LJL-neuHd-ab",
        "skf-zcc5Ksrz",
        "csdn5fHWjv2W",
        "KyujIEiSK3YT",
        "2opI8g0QULEZ",
        "OrthBGy0GJFv",
        "LJwFbcb-OMTn",
        "PKe24t8HSoI2",
        "CqB8t05PSwu0"
      ],
      "toc_visible": true
    },
    "kernelspec": {
      "name": "python3",
      "display_name": "Python 3"
    },
    "language_info": {
      "name": "python"
    }
  },
  "cells": [
    {
      "cell_type": "markdown",
      "source": [
        "Open the Github notebook that you want to work with in Google Colab. Change the domain from '**github.com**' to '**githubtocolab.com**'. The notebook will open in Colab."
      ],
      "metadata": {
        "id": "HZx3Hsi4Uruu"
      }
    },
    {
      "cell_type": "markdown",
      "metadata": {
        "id": "Wj172v-Yd1-_"
      },
      "source": [
        "# Libraries"
      ]
    },
    {
      "cell_type": "code",
      "execution_count": null,
      "metadata": {
        "colab": {
          "base_uri": "https://localhost:8080/"
        },
        "id": "MjWHRVR5ahdx",
        "outputId": "4269007f-6704-49a0-ca26-3b05da37fecf"
      },
      "outputs": [
        {
          "output_type": "stream",
          "name": "stdout",
          "text": [
            "Requirement already satisfied: Sastrawi in /usr/local/lib/python3.10/dist-packages (1.0.1)\n",
            "Requirement already satisfied: clean-text in /usr/local/lib/python3.10/dist-packages (0.6.0)\n",
            "Requirement already satisfied: emoji<2.0.0,>=1.0.0 in /usr/local/lib/python3.10/dist-packages (from clean-text) (1.7.0)\n",
            "Requirement already satisfied: ftfy<7.0,>=6.0 in /usr/local/lib/python3.10/dist-packages (from clean-text) (6.2.0)\n",
            "Requirement already satisfied: wcwidth<0.3.0,>=0.2.12 in /usr/local/lib/python3.10/dist-packages (from ftfy<7.0,>=6.0->clean-text) (0.2.13)\n",
            "Requirement already satisfied: deep-translator in /usr/local/lib/python3.10/dist-packages (1.11.4)\n",
            "Requirement already satisfied: beautifulsoup4<5.0.0,>=4.9.1 in /usr/local/lib/python3.10/dist-packages (from deep-translator) (4.12.3)\n",
            "Requirement already satisfied: requests<3.0.0,>=2.23.0 in /usr/local/lib/python3.10/dist-packages (from deep-translator) (2.31.0)\n",
            "Requirement already satisfied: soupsieve>1.2 in /usr/local/lib/python3.10/dist-packages (from beautifulsoup4<5.0.0,>=4.9.1->deep-translator) (2.5)\n",
            "Requirement already satisfied: charset-normalizer<4,>=2 in /usr/local/lib/python3.10/dist-packages (from requests<3.0.0,>=2.23.0->deep-translator) (3.3.2)\n",
            "Requirement already satisfied: idna<4,>=2.5 in /usr/local/lib/python3.10/dist-packages (from requests<3.0.0,>=2.23.0->deep-translator) (3.6)\n",
            "Requirement already satisfied: urllib3<3,>=1.21.1 in /usr/local/lib/python3.10/dist-packages (from requests<3.0.0,>=2.23.0->deep-translator) (2.0.7)\n",
            "Requirement already satisfied: certifi>=2017.4.17 in /usr/local/lib/python3.10/dist-packages (from requests<3.0.0,>=2.23.0->deep-translator) (2024.2.2)\n"
          ]
        }
      ],
      "source": [
        "!pip install Sastrawi\n",
        "!pip install clean-text\n",
        "!pip install deep-translator"
      ]
    },
    {
      "cell_type": "code",
      "execution_count": null,
      "metadata": {
        "colab": {
          "base_uri": "https://localhost:8080/"
        },
        "id": "6Nsz9j1DEJXD",
        "outputId": "457a3d74-204d-4ac6-bcc9-74418a8c849e"
      },
      "outputs": [
        {
          "output_type": "stream",
          "name": "stderr",
          "text": [
            "[nltk_data] Downloading package stopwords to /root/nltk_data...\n",
            "[nltk_data]   Package stopwords is already up-to-date!\n",
            "[nltk_data] Downloading package wordnet to /root/nltk_data...\n",
            "[nltk_data]   Package wordnet is already up-to-date!\n",
            "[nltk_data] Downloading package punkt to /root/nltk_data...\n",
            "[nltk_data]   Package punkt is already up-to-date!\n"
          ]
        }
      ],
      "source": [
        "import pandas as pd\n",
        "import numpy as np\n",
        "from nltk.corpus import stopwords\n",
        "import re\n",
        "import nltk\n",
        "nltk.download('stopwords')\n",
        "nltk.download('wordnet')\n",
        "nltk.download('punkt')\n",
        "from nltk.stem import PorterStemmer\n",
        "from nltk.stem import LancasterStemmer\n",
        "from nltk.tokenize import word_tokenize\n",
        "from Sastrawi.Stemmer.StemmerFactory import StemmerFactory\n",
        "from Sastrawi.StopWordRemover.StopWordRemoverFactory import StopWordRemoverFactory, StopWordRemover, ArrayDictionary\n",
        "from cleantext import clean\n",
        "from collections import Counter"
      ]
    },
    {
      "cell_type": "code",
      "source": [
        "import sklearn"
      ],
      "metadata": {
        "id": "fSui9eOPzRQ0"
      },
      "execution_count": null,
      "outputs": []
    },
    {
      "cell_type": "code",
      "execution_count": null,
      "metadata": {
        "id": "cKKzjVp3T644"
      },
      "outputs": [],
      "source": [
        "# !pip freeze > requirements.txt"
      ]
    },
    {
      "cell_type": "markdown",
      "metadata": {
        "id": "tCl5GW_rd6yk"
      },
      "source": [
        "# Get Data from ES and prepare DF"
      ]
    },
    {
      "cell_type": "code",
      "source": [
        "import requests\n",
        "import json"
      ],
      "metadata": {
        "id": "xO6kQ22cOqRq"
      },
      "execution_count": null,
      "outputs": []
    },
    {
      "cell_type": "code",
      "source": [
        "elasticsearch_url = 'https://es-1.datanusantara.com:9201'\n",
        "username = 'adminkibana'\n",
        "password = 'kibanaPASS!@#2019'\n",
        "index_endpoint = 'news-crawl-production-v2'"
      ],
      "metadata": {
        "id": "2Cl8MeblOqy0"
      },
      "execution_count": null,
      "outputs": []
    },
    {
      "cell_type": "code",
      "source": [
        "#query = {\n",
        "#    \"_source\": [\"text\", \"source\",\"source_detail\",\"target\"],\n",
        " #   \"size\":600,\n",
        "  #  \"query\": {\n",
        "   #     \"match\": {\n",
        "    #              \"source\": \"news\"\n",
        "     #           },\n",
        "      #  \"match\": {\n",
        "       #     \"target\": \"banggai\"\n",
        "  #      }\n",
        " #   }\n",
        "#}\n",
        "\n",
        "#search_url = f\"{elasticsearch_url}/{index_endpoint}/_search\"\n",
        "#response = requests.get(search_url, json=query, auth=(username, password))"
      ],
      "metadata": {
        "id": "JA2QchqqyFXN"
      },
      "execution_count": null,
      "outputs": []
    },
    {
      "cell_type": "code",
      "source": [
        "query = {\n",
        "  \"_source\": [\"target\", \"title\",\"description_content\"],\n",
        "  \"size\": 1000,\n",
        "  \"query\": {\n",
        "    \"bool\": {\n",
        "      \"must\": [],\n",
        "      \"filter\": [\n",
        "        {\n",
        "          \"match_all\": {}\n",
        "        },\n",
        "        {\n",
        "          \"bool\": {\n",
        "            \"should\": [\n",
        "\n",
        "\n",
        "              {\n",
        "                \"match_phrase\": {\n",
        "                  \"target\": \"banggai\"\n",
        "                }\n",
        "              }\n",
        "            ],\n",
        "            \"minimum_should_match\": 1\n",
        "\n",
        "\n",
        "          }\n",
        "        }\n",
        "      ]\n",
        "    }\n",
        "  }\n",
        "}\n",
        "search_url = f\"{elasticsearch_url}/{index_endpoint}/_search\"\n",
        "response = requests.get(search_url, json=query, auth=(username, password))"
      ],
      "metadata": {
        "id": "txkI7mMbPN7K"
      },
      "execution_count": null,
      "outputs": []
    },
    {
      "cell_type": "code",
      "source": [
        "search_url\n"
      ],
      "metadata": {
        "colab": {
          "base_uri": "https://localhost:8080/",
          "height": 35
        },
        "id": "gH2-uNiF5bNf",
        "outputId": "a330a380-e912-4d16-8ca0-27368f255081"
      },
      "execution_count": null,
      "outputs": [
        {
          "output_type": "execute_result",
          "data": {
            "text/plain": [
              "'https://es-1.datanusantara.com:9201/news-crawl-production-v2/_search'"
            ],
            "application/vnd.google.colaboratory.intrinsic+json": {
              "type": "string"
            }
          },
          "metadata": {},
          "execution_count": 527
        }
      ]
    },
    {
      "cell_type": "code",
      "source": [
        "search_results = response.json()\n",
        "# print(json.dumps(search_results, indent=2))\n",
        "print(len(search_results['hits']['hits']))"
      ],
      "metadata": {
        "colab": {
          "base_uri": "https://localhost:8080/"
        },
        "id": "kgnEX_k4Wjqm",
        "outputId": "b64a8ef9-1328-46ed-8d5a-2a36614340e3"
      },
      "execution_count": null,
      "outputs": [
        {
          "output_type": "stream",
          "name": "stdout",
          "text": [
            "1000\n"
          ]
        }
      ]
    },
    {
      "cell_type": "code",
      "source": [
        "# Parse the response to extract relevant data\n",
        "search_results = response.json()\n",
        "\n",
        "# Process the data and create a DataFrame\n",
        "data = []\n",
        "for hit in search_results.get(\"hits\", {}).get(\"hits\", []):\n",
        "    target = hit[\"_source\"][\"target\"]\n",
        "    title = hit[\"_source\"][\"title\"]\n",
        "    text = hit[\"_source\"][\"description_content\"]\n",
        "\n",
        "    data.append({\"target\": target,  \"title\": title, \"text\": text})\n",
        "\n",
        "# Create a DataFrame\n",
        "df = pd.DataFrame(data)\n",
        "print(df.head())"
      ],
      "metadata": {
        "colab": {
          "base_uri": "https://localhost:8080/"
        },
        "id": "j4AoD9uyU15U",
        "outputId": "8c52df31-112d-4121-e841-e5c175340010"
      },
      "execution_count": null,
      "outputs": [
        {
          "output_type": "stream",
          "name": "stdout",
          "text": [
            "    target                                              title  \\\n",
            "0  banggai  Mobil Sim Keliling Polres Banggai Meriahkan Pa...   \n",
            "1  banggai  Film Horor “Piara Mayat”,  Kreativitas Anak Mu...   \n",
            "2  banggai  Festival Malabot Tumbe 2023 Kembali Meriahkan ...   \n",
            "3  banggai  Rakor Kampanye Damai Pemilu 2024, Polres Bangg...   \n",
            "4  banggai  Bawaslu Banggai Perkuat Koordinasi dengan Panw...   \n",
            "\n",
            "                                                text  \n",
            "0  KABAR LUWUK –  Suasana Pasar Murah bersubsidi ...  \n",
            "1  KABAR LUWUK  –  Film Horor“Piara Mayat”,Kreati...  \n",
            "2  KABAR LUWUK  –Festival Malabot Tumbe 2023Kemba...  \n",
            "3  “Kerja Cepat dan Terkoordinir dalam Penerbitan...  \n",
            "4  KABAR LUWUK  –Bawaslu BanggaiPerkuat Koordinas...  \n"
          ]
        }
      ]
    },
    {
      "cell_type": "code",
      "source": [
        "df.head()"
      ],
      "metadata": {
        "colab": {
          "base_uri": "https://localhost:8080/",
          "height": 206
        },
        "id": "OnK_8zLtrQHE",
        "outputId": "1089673e-8fea-46d9-c031-6ea4f7864072"
      },
      "execution_count": null,
      "outputs": [
        {
          "output_type": "execute_result",
          "data": {
            "text/plain": [
              "    target                                              title  \\\n",
              "0  banggai  Mobil Sim Keliling Polres Banggai Meriahkan Pa...   \n",
              "1  banggai  Film Horor “Piara Mayat”,  Kreativitas Anak Mu...   \n",
              "2  banggai  Festival Malabot Tumbe 2023 Kembali Meriahkan ...   \n",
              "3  banggai  Rakor Kampanye Damai Pemilu 2024, Polres Bangg...   \n",
              "4  banggai  Bawaslu Banggai Perkuat Koordinasi dengan Panw...   \n",
              "\n",
              "                                                text  \n",
              "0  KABAR LUWUK –  Suasana Pasar Murah bersubsidi ...  \n",
              "1  KABAR LUWUK  –  Film Horor“Piara Mayat”,Kreati...  \n",
              "2  KABAR LUWUK  –Festival Malabot Tumbe 2023Kemba...  \n",
              "3  “Kerja Cepat dan Terkoordinir dalam Penerbitan...  \n",
              "4  KABAR LUWUK  –Bawaslu BanggaiPerkuat Koordinas...  "
            ],
            "text/html": [
              "\n",
              "  <div id=\"df-5ff5b886-d1fd-4077-a784-1a37c0c1dde1\" class=\"colab-df-container\">\n",
              "    <div>\n",
              "<style scoped>\n",
              "    .dataframe tbody tr th:only-of-type {\n",
              "        vertical-align: middle;\n",
              "    }\n",
              "\n",
              "    .dataframe tbody tr th {\n",
              "        vertical-align: top;\n",
              "    }\n",
              "\n",
              "    .dataframe thead th {\n",
              "        text-align: right;\n",
              "    }\n",
              "</style>\n",
              "<table border=\"1\" class=\"dataframe\">\n",
              "  <thead>\n",
              "    <tr style=\"text-align: right;\">\n",
              "      <th></th>\n",
              "      <th>target</th>\n",
              "      <th>title</th>\n",
              "      <th>text</th>\n",
              "    </tr>\n",
              "  </thead>\n",
              "  <tbody>\n",
              "    <tr>\n",
              "      <th>0</th>\n",
              "      <td>banggai</td>\n",
              "      <td>Mobil Sim Keliling Polres Banggai Meriahkan Pa...</td>\n",
              "      <td>KABAR LUWUK –  Suasana Pasar Murah bersubsidi ...</td>\n",
              "    </tr>\n",
              "    <tr>\n",
              "      <th>1</th>\n",
              "      <td>banggai</td>\n",
              "      <td>Film Horor “Piara Mayat”,  Kreativitas Anak Mu...</td>\n",
              "      <td>KABAR LUWUK  –  Film Horor“Piara Mayat”,Kreati...</td>\n",
              "    </tr>\n",
              "    <tr>\n",
              "      <th>2</th>\n",
              "      <td>banggai</td>\n",
              "      <td>Festival Malabot Tumbe 2023 Kembali Meriahkan ...</td>\n",
              "      <td>KABAR LUWUK  –Festival Malabot Tumbe 2023Kemba...</td>\n",
              "    </tr>\n",
              "    <tr>\n",
              "      <th>3</th>\n",
              "      <td>banggai</td>\n",
              "      <td>Rakor Kampanye Damai Pemilu 2024, Polres Bangg...</td>\n",
              "      <td>“Kerja Cepat dan Terkoordinir dalam Penerbitan...</td>\n",
              "    </tr>\n",
              "    <tr>\n",
              "      <th>4</th>\n",
              "      <td>banggai</td>\n",
              "      <td>Bawaslu Banggai Perkuat Koordinasi dengan Panw...</td>\n",
              "      <td>KABAR LUWUK  –Bawaslu BanggaiPerkuat Koordinas...</td>\n",
              "    </tr>\n",
              "  </tbody>\n",
              "</table>\n",
              "</div>\n",
              "    <div class=\"colab-df-buttons\">\n",
              "\n",
              "  <div class=\"colab-df-container\">\n",
              "    <button class=\"colab-df-convert\" onclick=\"convertToInteractive('df-5ff5b886-d1fd-4077-a784-1a37c0c1dde1')\"\n",
              "            title=\"Convert this dataframe to an interactive table.\"\n",
              "            style=\"display:none;\">\n",
              "\n",
              "  <svg xmlns=\"http://www.w3.org/2000/svg\" height=\"24px\" viewBox=\"0 -960 960 960\">\n",
              "    <path d=\"M120-120v-720h720v720H120Zm60-500h600v-160H180v160Zm220 220h160v-160H400v160Zm0 220h160v-160H400v160ZM180-400h160v-160H180v160Zm440 0h160v-160H620v160ZM180-180h160v-160H180v160Zm440 0h160v-160H620v160Z\"/>\n",
              "  </svg>\n",
              "    </button>\n",
              "\n",
              "  <style>\n",
              "    .colab-df-container {\n",
              "      display:flex;\n",
              "      gap: 12px;\n",
              "    }\n",
              "\n",
              "    .colab-df-convert {\n",
              "      background-color: #E8F0FE;\n",
              "      border: none;\n",
              "      border-radius: 50%;\n",
              "      cursor: pointer;\n",
              "      display: none;\n",
              "      fill: #1967D2;\n",
              "      height: 32px;\n",
              "      padding: 0 0 0 0;\n",
              "      width: 32px;\n",
              "    }\n",
              "\n",
              "    .colab-df-convert:hover {\n",
              "      background-color: #E2EBFA;\n",
              "      box-shadow: 0px 1px 2px rgba(60, 64, 67, 0.3), 0px 1px 3px 1px rgba(60, 64, 67, 0.15);\n",
              "      fill: #174EA6;\n",
              "    }\n",
              "\n",
              "    .colab-df-buttons div {\n",
              "      margin-bottom: 4px;\n",
              "    }\n",
              "\n",
              "    [theme=dark] .colab-df-convert {\n",
              "      background-color: #3B4455;\n",
              "      fill: #D2E3FC;\n",
              "    }\n",
              "\n",
              "    [theme=dark] .colab-df-convert:hover {\n",
              "      background-color: #434B5C;\n",
              "      box-shadow: 0px 1px 3px 1px rgba(0, 0, 0, 0.15);\n",
              "      filter: drop-shadow(0px 1px 2px rgba(0, 0, 0, 0.3));\n",
              "      fill: #FFFFFF;\n",
              "    }\n",
              "  </style>\n",
              "\n",
              "    <script>\n",
              "      const buttonEl =\n",
              "        document.querySelector('#df-5ff5b886-d1fd-4077-a784-1a37c0c1dde1 button.colab-df-convert');\n",
              "      buttonEl.style.display =\n",
              "        google.colab.kernel.accessAllowed ? 'block' : 'none';\n",
              "\n",
              "      async function convertToInteractive(key) {\n",
              "        const element = document.querySelector('#df-5ff5b886-d1fd-4077-a784-1a37c0c1dde1');\n",
              "        const dataTable =\n",
              "          await google.colab.kernel.invokeFunction('convertToInteractive',\n",
              "                                                    [key], {});\n",
              "        if (!dataTable) return;\n",
              "\n",
              "        const docLinkHtml = 'Like what you see? Visit the ' +\n",
              "          '<a target=\"_blank\" href=https://colab.research.google.com/notebooks/data_table.ipynb>data table notebook</a>'\n",
              "          + ' to learn more about interactive tables.';\n",
              "        element.innerHTML = '';\n",
              "        dataTable['output_type'] = 'display_data';\n",
              "        await google.colab.output.renderOutput(dataTable, element);\n",
              "        const docLink = document.createElement('div');\n",
              "        docLink.innerHTML = docLinkHtml;\n",
              "        element.appendChild(docLink);\n",
              "      }\n",
              "    </script>\n",
              "  </div>\n",
              "\n",
              "\n",
              "<div id=\"df-5adb3122-36ac-4c4d-a48e-e7a005861a26\">\n",
              "  <button class=\"colab-df-quickchart\" onclick=\"quickchart('df-5adb3122-36ac-4c4d-a48e-e7a005861a26')\"\n",
              "            title=\"Suggest charts\"\n",
              "            style=\"display:none;\">\n",
              "\n",
              "<svg xmlns=\"http://www.w3.org/2000/svg\" height=\"24px\"viewBox=\"0 0 24 24\"\n",
              "     width=\"24px\">\n",
              "    <g>\n",
              "        <path d=\"M19 3H5c-1.1 0-2 .9-2 2v14c0 1.1.9 2 2 2h14c1.1 0 2-.9 2-2V5c0-1.1-.9-2-2-2zM9 17H7v-7h2v7zm4 0h-2V7h2v10zm4 0h-2v-4h2v4z\"/>\n",
              "    </g>\n",
              "</svg>\n",
              "  </button>\n",
              "\n",
              "<style>\n",
              "  .colab-df-quickchart {\n",
              "      --bg-color: #E8F0FE;\n",
              "      --fill-color: #1967D2;\n",
              "      --hover-bg-color: #E2EBFA;\n",
              "      --hover-fill-color: #174EA6;\n",
              "      --disabled-fill-color: #AAA;\n",
              "      --disabled-bg-color: #DDD;\n",
              "  }\n",
              "\n",
              "  [theme=dark] .colab-df-quickchart {\n",
              "      --bg-color: #3B4455;\n",
              "      --fill-color: #D2E3FC;\n",
              "      --hover-bg-color: #434B5C;\n",
              "      --hover-fill-color: #FFFFFF;\n",
              "      --disabled-bg-color: #3B4455;\n",
              "      --disabled-fill-color: #666;\n",
              "  }\n",
              "\n",
              "  .colab-df-quickchart {\n",
              "    background-color: var(--bg-color);\n",
              "    border: none;\n",
              "    border-radius: 50%;\n",
              "    cursor: pointer;\n",
              "    display: none;\n",
              "    fill: var(--fill-color);\n",
              "    height: 32px;\n",
              "    padding: 0;\n",
              "    width: 32px;\n",
              "  }\n",
              "\n",
              "  .colab-df-quickchart:hover {\n",
              "    background-color: var(--hover-bg-color);\n",
              "    box-shadow: 0 1px 2px rgba(60, 64, 67, 0.3), 0 1px 3px 1px rgba(60, 64, 67, 0.15);\n",
              "    fill: var(--button-hover-fill-color);\n",
              "  }\n",
              "\n",
              "  .colab-df-quickchart-complete:disabled,\n",
              "  .colab-df-quickchart-complete:disabled:hover {\n",
              "    background-color: var(--disabled-bg-color);\n",
              "    fill: var(--disabled-fill-color);\n",
              "    box-shadow: none;\n",
              "  }\n",
              "\n",
              "  .colab-df-spinner {\n",
              "    border: 2px solid var(--fill-color);\n",
              "    border-color: transparent;\n",
              "    border-bottom-color: var(--fill-color);\n",
              "    animation:\n",
              "      spin 1s steps(1) infinite;\n",
              "  }\n",
              "\n",
              "  @keyframes spin {\n",
              "    0% {\n",
              "      border-color: transparent;\n",
              "      border-bottom-color: var(--fill-color);\n",
              "      border-left-color: var(--fill-color);\n",
              "    }\n",
              "    20% {\n",
              "      border-color: transparent;\n",
              "      border-left-color: var(--fill-color);\n",
              "      border-top-color: var(--fill-color);\n",
              "    }\n",
              "    30% {\n",
              "      border-color: transparent;\n",
              "      border-left-color: var(--fill-color);\n",
              "      border-top-color: var(--fill-color);\n",
              "      border-right-color: var(--fill-color);\n",
              "    }\n",
              "    40% {\n",
              "      border-color: transparent;\n",
              "      border-right-color: var(--fill-color);\n",
              "      border-top-color: var(--fill-color);\n",
              "    }\n",
              "    60% {\n",
              "      border-color: transparent;\n",
              "      border-right-color: var(--fill-color);\n",
              "    }\n",
              "    80% {\n",
              "      border-color: transparent;\n",
              "      border-right-color: var(--fill-color);\n",
              "      border-bottom-color: var(--fill-color);\n",
              "    }\n",
              "    90% {\n",
              "      border-color: transparent;\n",
              "      border-bottom-color: var(--fill-color);\n",
              "    }\n",
              "  }\n",
              "</style>\n",
              "\n",
              "  <script>\n",
              "    async function quickchart(key) {\n",
              "      const quickchartButtonEl =\n",
              "        document.querySelector('#' + key + ' button');\n",
              "      quickchartButtonEl.disabled = true;  // To prevent multiple clicks.\n",
              "      quickchartButtonEl.classList.add('colab-df-spinner');\n",
              "      try {\n",
              "        const charts = await google.colab.kernel.invokeFunction(\n",
              "            'suggestCharts', [key], {});\n",
              "      } catch (error) {\n",
              "        console.error('Error during call to suggestCharts:', error);\n",
              "      }\n",
              "      quickchartButtonEl.classList.remove('colab-df-spinner');\n",
              "      quickchartButtonEl.classList.add('colab-df-quickchart-complete');\n",
              "    }\n",
              "    (() => {\n",
              "      let quickchartButtonEl =\n",
              "        document.querySelector('#df-5adb3122-36ac-4c4d-a48e-e7a005861a26 button');\n",
              "      quickchartButtonEl.style.display =\n",
              "        google.colab.kernel.accessAllowed ? 'block' : 'none';\n",
              "    })();\n",
              "  </script>\n",
              "</div>\n",
              "    </div>\n",
              "  </div>\n"
            ],
            "application/vnd.google.colaboratory.intrinsic+json": {
              "type": "dataframe",
              "variable_name": "df",
              "summary": "{\n  \"name\": \"df\",\n  \"rows\": 1000,\n  \"fields\": [\n    {\n      \"column\": \"target\",\n      \"properties\": {\n        \"dtype\": \"category\",\n        \"num_unique_values\": 1,\n        \"samples\": [\n          \"banggai\"\n        ],\n        \"semantic_type\": \"\",\n        \"description\": \"\"\n      }\n    },\n    {\n      \"column\": \"title\",\n      \"properties\": {\n        \"dtype\": \"string\",\n        \"num_unique_values\": 975,\n        \"samples\": [\n          \"Polres Banggai Perluas Layanan SKCK Hingga Larut Malam, Masyarakat Dapat Manfaatkan Kemudahan Pengurusan bagi Para Lulus PPPK\"\n        ],\n        \"semantic_type\": \"\",\n        \"description\": \"\"\n      }\n    },\n    {\n      \"column\": \"text\",\n      \"properties\": {\n        \"dtype\": \"string\",\n        \"num_unique_values\": 973,\n        \"samples\": [\n          \"BANGGAI RAYA-Pagelaran Seni dan Budaya Andio tahun 2023 sejak 28-31 Desember ini terbilang meriah.Berbagai lomba tradisional digelar dan menarik perhatian warga. Lomba tradisional yang digelar antara lain lomba menganyam atap atau dalam bahasa Andio disebut memaur atop, ada juga engrang atau patengkang dan lomba cukur kelapa atau mongkolis niu.Lomba tradisional itu cukup menghibur. Seperti lomba momaur atop, pesertanya justru kebanyakan ibu-ibu. Dengan terampilnya, mereka merajut lembar demi lembar daun sagu dan kemudian dijahit dengan rotan, hingga jadilah lembaran atap siap pakai. Keterampilan menganyam atap ini sudah mulai pudar, seiring munculnya atap buatan pabrik seperti seng dan multiroof. Karenanya, kegiatan membuat atap tradisional seperti itu diupayakan untuk dilestarikan melalui kegiatan pagelaran seni dan budaya Andio.Ada juga olahraga tradisional seperti engrang atau pateengkang yang diminati berbagai kalangan.Untuk bidang seni, panitia menggelar pidato bahasa Andio, bercerita dalam bahasa Andio hingga peragaan busana lokal, di samping tarian dan lagu Andio. DAR\"\n        ],\n        \"semantic_type\": \"\",\n        \"description\": \"\"\n      }\n    }\n  ]\n}"
            }
          },
          "metadata": {},
          "execution_count": 530
        }
      ]
    },
    {
      "cell_type": "code",
      "source": [
        "# For manual Review\n",
        "#import random\n",
        "\n",
        "# Set the number of random samples you want to select\n",
        "#num_samples = 100  # Adjust this number as needed\n",
        "\n",
        "# Select random samples from the DataFrame\n",
        "#random_indices = random.sample(range(len(df)), num_samples)\n",
        "#random_data = df.iloc[random_indices][[\"title\", \"text\"]]\n",
        "\n",
        "# Save random data to a CSV file\n",
        "#random_data.to_csv(\"random_data.csv\")\n"
      ],
      "metadata": {
        "id": "eGNyh7EV1b5f"
      },
      "execution_count": null,
      "outputs": []
    },
    {
      "cell_type": "code",
      "source": [
        "df"
      ],
      "metadata": {
        "id": "CDecXx4K7dOv"
      },
      "execution_count": null,
      "outputs": []
    },
    {
      "cell_type": "code",
      "source": [
        "df.info()"
      ],
      "metadata": {
        "id": "CdinjW6N7dUR",
        "colab": {
          "base_uri": "https://localhost:8080/"
        },
        "outputId": "85cf1526-102f-4e03-a89c-30f565486441"
      },
      "execution_count": null,
      "outputs": [
        {
          "output_type": "stream",
          "name": "stdout",
          "text": [
            "<class 'pandas.core.frame.DataFrame'>\n",
            "RangeIndex: 1000 entries, 0 to 999\n",
            "Data columns (total 3 columns):\n",
            " #   Column  Non-Null Count  Dtype \n",
            "---  ------  --------------  ----- \n",
            " 0   target  1000 non-null   object\n",
            " 1   title   1000 non-null   object\n",
            " 2   text    1000 non-null   object\n",
            "dtypes: object(3)\n",
            "memory usage: 23.6+ KB\n"
          ]
        }
      ]
    },
    {
      "cell_type": "code",
      "source": [
        "# Or input data from rawgithub\n",
        "\n",
        "df_url= 'https://raw.githubusercontent.com/TaillessTanuki/Berita_Banggai/text_text2-segmenting-layanan-masyarakat/text_test2_edit2.csv'\n",
        "\n",
        "df = pd.read_csv(df_url,encoding='cp1252')\n",
        "\n",
        "df = df.astype(str)"
      ],
      "metadata": {
        "id": "X9QEcLs92Tpk"
      },
      "execution_count": null,
      "outputs": []
    },
    {
      "cell_type": "markdown",
      "metadata": {
        "id": "gUEtMZPwYsWm"
      },
      "source": [
        "# Preprocessing"
      ]
    },
    {
      "cell_type": "markdown",
      "metadata": {
        "id": "1zxQ2fH4cJsF"
      },
      "source": [
        "## Delete Duplicates"
      ]
    },
    {
      "cell_type": "code",
      "execution_count": null,
      "metadata": {
        "colab": {
          "base_uri": "https://localhost:8080/"
        },
        "id": "QTIzTCJ-cZpF",
        "outputId": "15a8488e-345f-42c3-d54a-b8ca8a1a5b44"
      },
      "outputs": [
        {
          "output_type": "execute_result",
          "data": {
            "text/plain": [
              "25"
            ]
          },
          "metadata": {},
          "execution_count": 531
        }
      ],
      "source": [
        "df.duplicated(subset='title').sum()"
      ]
    },
    {
      "cell_type": "code",
      "execution_count": null,
      "metadata": {
        "id": "rDSvUPZIcMrK"
      },
      "outputs": [],
      "source": [
        "df = df.drop_duplicates(subset='title')"
      ]
    },
    {
      "cell_type": "markdown",
      "metadata": {
        "id": "LJL-neuHd-ab"
      },
      "source": [
        "## Case Folding"
      ]
    },
    {
      "cell_type": "code",
      "execution_count": null,
      "metadata": {
        "id": "os3Yx3F1cC3Z"
      },
      "outputs": [],
      "source": [
        "def clean_lower(lwr):\n",
        "    lwr = lwr.lower() # lowercase text\n",
        "    return lwr"
      ]
    },
    {
      "cell_type": "code",
      "execution_count": null,
      "metadata": {
        "colab": {
          "base_uri": "https://localhost:8080/"
        },
        "id": "MMU-H_NhdZHO",
        "outputId": "ba34fbb7-5897-4917-c83b-017525c64668"
      },
      "outputs": [
        {
          "output_type": "execute_result",
          "data": {
            "text/plain": [
              "0      kabar luwuk –  suasana pasar murah bersubsidi ...\n",
              "1      kabar luwuk  –  film horor“piara mayat”,kreati...\n",
              "2      kabar luwuk  –festival malabot tumbe 2023kemba...\n",
              "3      “kerja cepat dan terkoordinir dalam penerbitan...\n",
              "4      kabar luwuk  –bawaslu banggaiperkuat koordinas...\n",
              "                             ...                        \n",
              "995    terasbanggai.com -bawaslu banggai akan meningk...\n",
              "996    banggai raya-bupati banggai, ir. h. amirudin m...\n",
              "997    terasbanggai.com- setelah sempat tertunda masa...\n",
              "998    banggai, 25 januari 2024 – bertempat di ruang ...\n",
              "999    banggai raya-bawaslu kabupaten banggai menggel...\n",
              "Name: lwr, Length: 975, dtype: object"
            ]
          },
          "metadata": {},
          "execution_count": 534
        }
      ],
      "source": [
        "# Buat kolom tambahan untuk data ulasan yang telah dicasefolding\n",
        "df['lwr'] = df['text'].apply(clean_lower)\n",
        "df['lwr']"
      ]
    },
    {
      "cell_type": "code",
      "source": [
        "df.head()"
      ],
      "metadata": {
        "id": "GDN_GKCQ09vH",
        "colab": {
          "base_uri": "https://localhost:8080/"
        },
        "outputId": "e0b15854-a785-43fd-ded4-682c45cab0e7"
      },
      "execution_count": null,
      "outputs": [
        {
          "output_type": "execute_result",
          "data": {
            "text/plain": [
              "    target                                              title  \\\n",
              "0  banggai  Mobil Sim Keliling Polres Banggai Meriahkan Pa...   \n",
              "1  banggai  Film Horor “Piara Mayat”,  Kreativitas Anak Mu...   \n",
              "2  banggai  Festival Malabot Tumbe 2023 Kembali Meriahkan ...   \n",
              "3  banggai  Rakor Kampanye Damai Pemilu 2024, Polres Bangg...   \n",
              "4  banggai  Bawaslu Banggai Perkuat Koordinasi dengan Panw...   \n",
              "\n",
              "                                                text  \\\n",
              "0  KABAR LUWUK –  Suasana Pasar Murah bersubsidi ...   \n",
              "1  KABAR LUWUK  –  Film Horor“Piara Mayat”,Kreati...   \n",
              "2  KABAR LUWUK  –Festival Malabot Tumbe 2023Kemba...   \n",
              "3  “Kerja Cepat dan Terkoordinir dalam Penerbitan...   \n",
              "4  KABAR LUWUK  –Bawaslu BanggaiPerkuat Koordinas...   \n",
              "\n",
              "                                                 lwr  \n",
              "0  kabar luwuk –  suasana pasar murah bersubsidi ...  \n",
              "1  kabar luwuk  –  film horor“piara mayat”,kreati...  \n",
              "2  kabar luwuk  –festival malabot tumbe 2023kemba...  \n",
              "3  “kerja cepat dan terkoordinir dalam penerbitan...  \n",
              "4  kabar luwuk  –bawaslu banggaiperkuat koordinas...  "
            ],
            "text/html": [
              "\n",
              "  <div id=\"df-b60701a8-7713-4604-a073-3723b06471ec\" class=\"colab-df-container\">\n",
              "    <div>\n",
              "<style scoped>\n",
              "    .dataframe tbody tr th:only-of-type {\n",
              "        vertical-align: middle;\n",
              "    }\n",
              "\n",
              "    .dataframe tbody tr th {\n",
              "        vertical-align: top;\n",
              "    }\n",
              "\n",
              "    .dataframe thead th {\n",
              "        text-align: right;\n",
              "    }\n",
              "</style>\n",
              "<table border=\"1\" class=\"dataframe\">\n",
              "  <thead>\n",
              "    <tr style=\"text-align: right;\">\n",
              "      <th></th>\n",
              "      <th>target</th>\n",
              "      <th>title</th>\n",
              "      <th>text</th>\n",
              "      <th>lwr</th>\n",
              "    </tr>\n",
              "  </thead>\n",
              "  <tbody>\n",
              "    <tr>\n",
              "      <th>0</th>\n",
              "      <td>banggai</td>\n",
              "      <td>Mobil Sim Keliling Polres Banggai Meriahkan Pa...</td>\n",
              "      <td>KABAR LUWUK –  Suasana Pasar Murah bersubsidi ...</td>\n",
              "      <td>kabar luwuk –  suasana pasar murah bersubsidi ...</td>\n",
              "    </tr>\n",
              "    <tr>\n",
              "      <th>1</th>\n",
              "      <td>banggai</td>\n",
              "      <td>Film Horor “Piara Mayat”,  Kreativitas Anak Mu...</td>\n",
              "      <td>KABAR LUWUK  –  Film Horor“Piara Mayat”,Kreati...</td>\n",
              "      <td>kabar luwuk  –  film horor“piara mayat”,kreati...</td>\n",
              "    </tr>\n",
              "    <tr>\n",
              "      <th>2</th>\n",
              "      <td>banggai</td>\n",
              "      <td>Festival Malabot Tumbe 2023 Kembali Meriahkan ...</td>\n",
              "      <td>KABAR LUWUK  –Festival Malabot Tumbe 2023Kemba...</td>\n",
              "      <td>kabar luwuk  –festival malabot tumbe 2023kemba...</td>\n",
              "    </tr>\n",
              "    <tr>\n",
              "      <th>3</th>\n",
              "      <td>banggai</td>\n",
              "      <td>Rakor Kampanye Damai Pemilu 2024, Polres Bangg...</td>\n",
              "      <td>“Kerja Cepat dan Terkoordinir dalam Penerbitan...</td>\n",
              "      <td>“kerja cepat dan terkoordinir dalam penerbitan...</td>\n",
              "    </tr>\n",
              "    <tr>\n",
              "      <th>4</th>\n",
              "      <td>banggai</td>\n",
              "      <td>Bawaslu Banggai Perkuat Koordinasi dengan Panw...</td>\n",
              "      <td>KABAR LUWUK  –Bawaslu BanggaiPerkuat Koordinas...</td>\n",
              "      <td>kabar luwuk  –bawaslu banggaiperkuat koordinas...</td>\n",
              "    </tr>\n",
              "  </tbody>\n",
              "</table>\n",
              "</div>\n",
              "    <div class=\"colab-df-buttons\">\n",
              "\n",
              "  <div class=\"colab-df-container\">\n",
              "    <button class=\"colab-df-convert\" onclick=\"convertToInteractive('df-b60701a8-7713-4604-a073-3723b06471ec')\"\n",
              "            title=\"Convert this dataframe to an interactive table.\"\n",
              "            style=\"display:none;\">\n",
              "\n",
              "  <svg xmlns=\"http://www.w3.org/2000/svg\" height=\"24px\" viewBox=\"0 -960 960 960\">\n",
              "    <path d=\"M120-120v-720h720v720H120Zm60-500h600v-160H180v160Zm220 220h160v-160H400v160Zm0 220h160v-160H400v160ZM180-400h160v-160H180v160Zm440 0h160v-160H620v160ZM180-180h160v-160H180v160Zm440 0h160v-160H620v160Z\"/>\n",
              "  </svg>\n",
              "    </button>\n",
              "\n",
              "  <style>\n",
              "    .colab-df-container {\n",
              "      display:flex;\n",
              "      gap: 12px;\n",
              "    }\n",
              "\n",
              "    .colab-df-convert {\n",
              "      background-color: #E8F0FE;\n",
              "      border: none;\n",
              "      border-radius: 50%;\n",
              "      cursor: pointer;\n",
              "      display: none;\n",
              "      fill: #1967D2;\n",
              "      height: 32px;\n",
              "      padding: 0 0 0 0;\n",
              "      width: 32px;\n",
              "    }\n",
              "\n",
              "    .colab-df-convert:hover {\n",
              "      background-color: #E2EBFA;\n",
              "      box-shadow: 0px 1px 2px rgba(60, 64, 67, 0.3), 0px 1px 3px 1px rgba(60, 64, 67, 0.15);\n",
              "      fill: #174EA6;\n",
              "    }\n",
              "\n",
              "    .colab-df-buttons div {\n",
              "      margin-bottom: 4px;\n",
              "    }\n",
              "\n",
              "    [theme=dark] .colab-df-convert {\n",
              "      background-color: #3B4455;\n",
              "      fill: #D2E3FC;\n",
              "    }\n",
              "\n",
              "    [theme=dark] .colab-df-convert:hover {\n",
              "      background-color: #434B5C;\n",
              "      box-shadow: 0px 1px 3px 1px rgba(0, 0, 0, 0.15);\n",
              "      filter: drop-shadow(0px 1px 2px rgba(0, 0, 0, 0.3));\n",
              "      fill: #FFFFFF;\n",
              "    }\n",
              "  </style>\n",
              "\n",
              "    <script>\n",
              "      const buttonEl =\n",
              "        document.querySelector('#df-b60701a8-7713-4604-a073-3723b06471ec button.colab-df-convert');\n",
              "      buttonEl.style.display =\n",
              "        google.colab.kernel.accessAllowed ? 'block' : 'none';\n",
              "\n",
              "      async function convertToInteractive(key) {\n",
              "        const element = document.querySelector('#df-b60701a8-7713-4604-a073-3723b06471ec');\n",
              "        const dataTable =\n",
              "          await google.colab.kernel.invokeFunction('convertToInteractive',\n",
              "                                                    [key], {});\n",
              "        if (!dataTable) return;\n",
              "\n",
              "        const docLinkHtml = 'Like what you see? Visit the ' +\n",
              "          '<a target=\"_blank\" href=https://colab.research.google.com/notebooks/data_table.ipynb>data table notebook</a>'\n",
              "          + ' to learn more about interactive tables.';\n",
              "        element.innerHTML = '';\n",
              "        dataTable['output_type'] = 'display_data';\n",
              "        await google.colab.output.renderOutput(dataTable, element);\n",
              "        const docLink = document.createElement('div');\n",
              "        docLink.innerHTML = docLinkHtml;\n",
              "        element.appendChild(docLink);\n",
              "      }\n",
              "    </script>\n",
              "  </div>\n",
              "\n",
              "\n",
              "<div id=\"df-57270c5f-2364-49c2-9987-b7ad86a8af30\">\n",
              "  <button class=\"colab-df-quickchart\" onclick=\"quickchart('df-57270c5f-2364-49c2-9987-b7ad86a8af30')\"\n",
              "            title=\"Suggest charts\"\n",
              "            style=\"display:none;\">\n",
              "\n",
              "<svg xmlns=\"http://www.w3.org/2000/svg\" height=\"24px\"viewBox=\"0 0 24 24\"\n",
              "     width=\"24px\">\n",
              "    <g>\n",
              "        <path d=\"M19 3H5c-1.1 0-2 .9-2 2v14c0 1.1.9 2 2 2h14c1.1 0 2-.9 2-2V5c0-1.1-.9-2-2-2zM9 17H7v-7h2v7zm4 0h-2V7h2v10zm4 0h-2v-4h2v4z\"/>\n",
              "    </g>\n",
              "</svg>\n",
              "  </button>\n",
              "\n",
              "<style>\n",
              "  .colab-df-quickchart {\n",
              "      --bg-color: #E8F0FE;\n",
              "      --fill-color: #1967D2;\n",
              "      --hover-bg-color: #E2EBFA;\n",
              "      --hover-fill-color: #174EA6;\n",
              "      --disabled-fill-color: #AAA;\n",
              "      --disabled-bg-color: #DDD;\n",
              "  }\n",
              "\n",
              "  [theme=dark] .colab-df-quickchart {\n",
              "      --bg-color: #3B4455;\n",
              "      --fill-color: #D2E3FC;\n",
              "      --hover-bg-color: #434B5C;\n",
              "      --hover-fill-color: #FFFFFF;\n",
              "      --disabled-bg-color: #3B4455;\n",
              "      --disabled-fill-color: #666;\n",
              "  }\n",
              "\n",
              "  .colab-df-quickchart {\n",
              "    background-color: var(--bg-color);\n",
              "    border: none;\n",
              "    border-radius: 50%;\n",
              "    cursor: pointer;\n",
              "    display: none;\n",
              "    fill: var(--fill-color);\n",
              "    height: 32px;\n",
              "    padding: 0;\n",
              "    width: 32px;\n",
              "  }\n",
              "\n",
              "  .colab-df-quickchart:hover {\n",
              "    background-color: var(--hover-bg-color);\n",
              "    box-shadow: 0 1px 2px rgba(60, 64, 67, 0.3), 0 1px 3px 1px rgba(60, 64, 67, 0.15);\n",
              "    fill: var(--button-hover-fill-color);\n",
              "  }\n",
              "\n",
              "  .colab-df-quickchart-complete:disabled,\n",
              "  .colab-df-quickchart-complete:disabled:hover {\n",
              "    background-color: var(--disabled-bg-color);\n",
              "    fill: var(--disabled-fill-color);\n",
              "    box-shadow: none;\n",
              "  }\n",
              "\n",
              "  .colab-df-spinner {\n",
              "    border: 2px solid var(--fill-color);\n",
              "    border-color: transparent;\n",
              "    border-bottom-color: var(--fill-color);\n",
              "    animation:\n",
              "      spin 1s steps(1) infinite;\n",
              "  }\n",
              "\n",
              "  @keyframes spin {\n",
              "    0% {\n",
              "      border-color: transparent;\n",
              "      border-bottom-color: var(--fill-color);\n",
              "      border-left-color: var(--fill-color);\n",
              "    }\n",
              "    20% {\n",
              "      border-color: transparent;\n",
              "      border-left-color: var(--fill-color);\n",
              "      border-top-color: var(--fill-color);\n",
              "    }\n",
              "    30% {\n",
              "      border-color: transparent;\n",
              "      border-left-color: var(--fill-color);\n",
              "      border-top-color: var(--fill-color);\n",
              "      border-right-color: var(--fill-color);\n",
              "    }\n",
              "    40% {\n",
              "      border-color: transparent;\n",
              "      border-right-color: var(--fill-color);\n",
              "      border-top-color: var(--fill-color);\n",
              "    }\n",
              "    60% {\n",
              "      border-color: transparent;\n",
              "      border-right-color: var(--fill-color);\n",
              "    }\n",
              "    80% {\n",
              "      border-color: transparent;\n",
              "      border-right-color: var(--fill-color);\n",
              "      border-bottom-color: var(--fill-color);\n",
              "    }\n",
              "    90% {\n",
              "      border-color: transparent;\n",
              "      border-bottom-color: var(--fill-color);\n",
              "    }\n",
              "  }\n",
              "</style>\n",
              "\n",
              "  <script>\n",
              "    async function quickchart(key) {\n",
              "      const quickchartButtonEl =\n",
              "        document.querySelector('#' + key + ' button');\n",
              "      quickchartButtonEl.disabled = true;  // To prevent multiple clicks.\n",
              "      quickchartButtonEl.classList.add('colab-df-spinner');\n",
              "      try {\n",
              "        const charts = await google.colab.kernel.invokeFunction(\n",
              "            'suggestCharts', [key], {});\n",
              "      } catch (error) {\n",
              "        console.error('Error during call to suggestCharts:', error);\n",
              "      }\n",
              "      quickchartButtonEl.classList.remove('colab-df-spinner');\n",
              "      quickchartButtonEl.classList.add('colab-df-quickchart-complete');\n",
              "    }\n",
              "    (() => {\n",
              "      let quickchartButtonEl =\n",
              "        document.querySelector('#df-57270c5f-2364-49c2-9987-b7ad86a8af30 button');\n",
              "      quickchartButtonEl.style.display =\n",
              "        google.colab.kernel.accessAllowed ? 'block' : 'none';\n",
              "    })();\n",
              "  </script>\n",
              "</div>\n",
              "    </div>\n",
              "  </div>\n"
            ],
            "application/vnd.google.colaboratory.intrinsic+json": {
              "type": "dataframe",
              "variable_name": "df",
              "summary": "{\n  \"name\": \"df\",\n  \"rows\": 975,\n  \"fields\": [\n    {\n      \"column\": \"target\",\n      \"properties\": {\n        \"dtype\": \"category\",\n        \"num_unique_values\": 1,\n        \"samples\": [\n          \"banggai\"\n        ],\n        \"semantic_type\": \"\",\n        \"description\": \"\"\n      }\n    },\n    {\n      \"column\": \"title\",\n      \"properties\": {\n        \"dtype\": \"string\",\n        \"num_unique_values\": 975,\n        \"samples\": [\n          \"Polres Banggai Perluas Layanan SKCK Hingga Larut Malam, Masyarakat Dapat Manfaatkan Kemudahan Pengurusan bagi Para Lulus PPPK\"\n        ],\n        \"semantic_type\": \"\",\n        \"description\": \"\"\n      }\n    },\n    {\n      \"column\": \"text\",\n      \"properties\": {\n        \"dtype\": \"string\",\n        \"num_unique_values\": 958,\n        \"samples\": [\n          \"BANGGAI RAYA- Bupati Banggai Amirudin mengikuti kegiatan wawancara Paritrana Award Tingkat Provinsi Sulawesi Tengah dengan nominasi penghargaan Jaminan Sosial Ketenagakerjaan kategori nominasi pemerintah kabupaten/kota, pada Selasa (27/2/2024), bertempat di Hotel Aston, Palu.Paritrana Award merupakan penghargaan yang diberikan pemerintah pusat kepada pemerintah daerah, dan perusahaan badan usaha yang memiliki kepedulian (awareness) tinggi, dan citra positif terhadap program jaminan sosial ketenagakerjaan.Pada kesempatan tersebut, Bupati Amirudin memaparkan kebijakan pemerintah daerah terkait implementasi Program Jaminan Sosial Ketenagakerjaan, yang merupakan bagian dari upaya menindaklanjuti Instruksi Presiden (INPRES) Nomor 2 Tahun 2021 tentang optimalisasi pelaksanaan program jaminan sosial ketenagakerjaan.BACA JUGA:Pemilu 2024, Bali Mang Melangkah ke DPRD SultengSebagai bentuk keseriusan, lanjut Bupati Amirudin, Pemkab Banggai menindaklanjuti Inpres Nomor 2 Tahun 2021 tersebut dengan mengeluarkan Peraturan Bupati (Perbup) Nomor 32 Tahun 2021 tentang pelaksanaan program Jaminan Sosial Ketenagakerjaan di daerah dan Keputusan Bupati Banggai Nomor 560/935/NAKERTRANS tentang tim koordinasi pembinaan dan pemantauan terhadap pelaksanaan program BPJS Ketenagakerjaan di Kabupaten Banggai.Tidak hanya sampai di situ, upaya penguatan regulasi daerah dan perlindungan pekerja tersebut, maka ditingkatkan status regulasi dari Peraturan Bupati (Perbup) menjadi Peraturan Daerah (Perda) dengan ditetapkannya Perda Nomor 9 Tahun 2023 tentang Optimalisasi Penyelenggaraan Program Jaminan Sosial Ketenagakerjaan.BACA JUGA:Tak Terima Diberhentikan, Sekdes Segel Kantor Desa Solan BaruUntuk tahun 2023 melalui APBD telah dianggarkan iuran kepesertaan BPJS Ketenagakerjaan untuk program Jaminan Kecelakaan Kerja (JKK) dan Jaminan Kematian (JKM) bagi 13.765 orang tenaga kerja.Keterlibatan Bupati Banggai dalam wawancara ini menegaskan komitmen Pemerintah Kabupaten Banggai dalam memberikan perlindungan sosial yang memadai bagi para tenaga kerja di wilayah tersebut.Presentasi yang disampaikan oleh Bupati Amirudin memberikan gambaran yang jelas mengenai upaya konkret yang telah dilakukan untuk meningkatkan kesejahteraan dan keamanan sosial bagi masyarakat Banggai.Adapun yang menjadi tim penilai kegiatan ini terdiri dari Setda Provinsi, Dra. Novalina, MM., Kepala BPJS Ketenagakerjaan Provinsi Sulawesi Tengah, A. Syamsul Rijal, Kadis Nakertrans Provinsi, Drs. Arnould Firdaus, MT, Ahli ekonomi, Mohammad Ahlis Djirimu, SE, DEA.Phd, Ahli Kebijakan Publik : Dr.Drs Muzakir Tawil. M.Si, Ahli Hukum, Dr. H. Abdur Rasyid thalib S.H, Ahli Jaminan Sosial, Drs.H.Arifuddin Bidin, Ketua DPD APINDO, H. Achrul Udaya, dan Serikat Buruh, Karlan ladandu.BACA JUGA:Asia Muslim Charity Foundation Luncurkan Kapal Kemanusiaan untuk Perairan SultengKehadiran Bupati Banggai dalam acara ini menandai langkah nyata dalam membangun sistem jaminan sosial yang inklusif dan berkeadilan bagi seluruh masyarakat Kabupaten Banggai.**\"\n        ],\n        \"semantic_type\": \"\",\n        \"description\": \"\"\n      }\n    },\n    {\n      \"column\": \"lwr\",\n      \"properties\": {\n        \"dtype\": \"string\",\n        \"num_unique_values\": 958,\n        \"samples\": [\n          \"banggai raya- bupati banggai amirudin mengikuti kegiatan wawancara paritrana award tingkat provinsi sulawesi tengah dengan nominasi penghargaan jaminan sosial ketenagakerjaan kategori nominasi pemerintah kabupaten/kota, pada selasa (27/2/2024), bertempat di hotel aston, palu.paritrana award merupakan penghargaan yang diberikan pemerintah pusat kepada pemerintah daerah, dan perusahaan badan usaha yang memiliki kepedulian (awareness) tinggi, dan citra positif terhadap program jaminan sosial ketenagakerjaan.pada kesempatan tersebut, bupati amirudin memaparkan kebijakan pemerintah daerah terkait implementasi program jaminan sosial ketenagakerjaan, yang merupakan bagian dari upaya menindaklanjuti instruksi presiden (inpres) nomor 2 tahun 2021 tentang optimalisasi pelaksanaan program jaminan sosial ketenagakerjaan.baca juga:pemilu 2024, bali mang melangkah ke dprd sultengsebagai bentuk keseriusan, lanjut bupati amirudin, pemkab banggai menindaklanjuti inpres nomor 2 tahun 2021 tersebut dengan mengeluarkan peraturan bupati (perbup) nomor 32 tahun 2021 tentang pelaksanaan program jaminan sosial ketenagakerjaan di daerah dan keputusan bupati banggai nomor 560/935/nakertrans tentang tim koordinasi pembinaan dan pemantauan terhadap pelaksanaan program bpjs ketenagakerjaan di kabupaten banggai.tidak hanya sampai di situ, upaya penguatan regulasi daerah dan perlindungan pekerja tersebut, maka ditingkatkan status regulasi dari peraturan bupati (perbup) menjadi peraturan daerah (perda) dengan ditetapkannya perda nomor 9 tahun 2023 tentang optimalisasi penyelenggaraan program jaminan sosial ketenagakerjaan.baca juga:tak terima diberhentikan, sekdes segel kantor desa solan baruuntuk tahun 2023 melalui apbd telah dianggarkan iuran kepesertaan bpjs ketenagakerjaan untuk program jaminan kecelakaan kerja (jkk) dan jaminan kematian (jkm) bagi 13.765 orang tenaga kerja.keterlibatan bupati banggai dalam wawancara ini menegaskan komitmen pemerintah kabupaten banggai dalam memberikan perlindungan sosial yang memadai bagi para tenaga kerja di wilayah tersebut.presentasi yang disampaikan oleh bupati amirudin memberikan gambaran yang jelas mengenai upaya konkret yang telah dilakukan untuk meningkatkan kesejahteraan dan keamanan sosial bagi masyarakat banggai.adapun yang menjadi tim penilai kegiatan ini terdiri dari setda provinsi, dra. novalina, mm., kepala bpjs ketenagakerjaan provinsi sulawesi tengah, a. syamsul rijal, kadis nakertrans provinsi, drs. arnould firdaus, mt, ahli ekonomi, mohammad ahlis djirimu, se, dea.phd, ahli kebijakan publik : dr.drs muzakir tawil. m.si, ahli hukum, dr. h. abdur rasyid thalib s.h, ahli jaminan sosial, drs.h.arifuddin bidin, ketua dpd apindo, h. achrul udaya, dan serikat buruh, karlan ladandu.baca juga:asia muslim charity foundation luncurkan kapal kemanusiaan untuk perairan sultengkehadiran bupati banggai dalam acara ini menandai langkah nyata dalam membangun sistem jaminan sosial yang inklusif dan berkeadilan bagi seluruh masyarakat kabupaten banggai.**\"\n        ],\n        \"semantic_type\": \"\",\n        \"description\": \"\"\n      }\n    }\n  ]\n}"
            }
          },
          "metadata": {},
          "execution_count": 535
        }
      ]
    },
    {
      "cell_type": "code",
      "execution_count": null,
      "metadata": {
        "colab": {
          "base_uri": "https://localhost:8080/"
        },
        "id": "LHYbHbrvomiW",
        "outputId": "0de70899-4c30-48d1-ecbe-3229d6060bc6"
      },
      "outputs": [
        {
          "output_type": "stream",
          "name": "stdout",
          "text": [
            "KABAR LUWUK  –Dinas Sosial BanggaiSegera Salurkan 2.42 MiliarProgram Gercep Gaskan Berdaya2023.Dinas Sosial Kabupaten Banggaimenerima bantuan sebesar 2.42 miliar rupiah dalam program Gerak Cepat Pengentasan Kemiskinan Berbasis Pemberdayaan Masyarakat (GERCEP GASKAN BERDAYA).Bantuan ini ditujukan untuk 242 keluarga penerima manfaat di lima kecamatan, memberikan harapan bagi warga di Kecamatan Luwuk (35 KPM), Luwuk Selatan (28 KPM), Pagimana (95 KPM), Bunta (47 KPM), dan Nuhon (37 KPM). Selasa 28/11/2023.Kepala Dinas Sosial Kabupaten Banggai, Irpan Poma melalui Kepala Bidang Fakir Miskis,Ronald Putje,menyampaikan kepada media bahwa dana bantuan ini merupakan sumbangan langsung dari Pemerintah Provinsi Sulawesi Tengah.Dinas Sosial Kabupaten Banggai bertanggung jawab dalam memfasilitasi distribusi bantuan dan ikut serta dalam pengawasan ketat agar dana tersebut benar-benar sampai kepada penerima manfaat yang tepat.Data yang tersedia menunjukkan bahwa 242 Keluarga Penerima Manfaat yang terdiri dari Lima kecamatan di Kabupaten Banggai memenuhi kriteria untuk menerima bantuan ini.Dinas Sosial Kabupaten Banggai berharap bahwa bantuan ini akan memberikan bantuan nyata dan meringankan beban masyarakat yang membutuhkan.Bantuan ini tidak hanya sekadar alokasi dana, tetapi juga merupakan upaya konkret dalam upaya mengentaskan kemiskinan melalui pemberdayaan masyarakat.Semoga, dengan kuncuran dana ini, masyarakat penerima manfaat dapat merasakan dampak positifnya, membuka peluang baru, dan mengurangi tingkat kemiskinan di wilayah tersebut. Aksi ini menjadi bukti komitmen bersama dalam membangun kesejahteraan dan keadilan sosial di Kabupaten Banggai.Pemberian bantuan ini menjadi langkah strategis dalam mendukung pembangunan berkelanjutan di Kabupaten Banggai. Melalui program GERCEP GASKAN BERDAYA, pemerintah berusaha meningkatkan kesejahteraan masyarakat dengan cara yang berkelanjutan dan berbasis pada pemberdayaan.Dalam penyampaiannya,  Ronald Putje menekankan pentingnya sinergi antara pemerintah pusat, provinsi, dan kabupaten untuk mencapai hasil yang optimal.“Kami berupaya agar bantuan ini tidak hanya bersifat sekali waktu, tetapi juga mampu menciptakan dampak positif jangka panjang. Oleh karena itu, perlu adanya koordinasi yang baik dalam pelaksanaan program ini,” ujarnya.Bantuan ini diharapkan tidak hanya menjadi solusi sesaat, tetapi juga menciptakan perubahan struktural yang mampu meningkatkan kapasitas masyarakat penerima manfaat.Oleh karena itu, Dinas Sosial Kabupaten Banggai akan terus melakukan pemantauan dan evaluasi secara berkala guna memastikan bahwa bantuan tersebut benar-benar memberikan dampak yang positif.Sebagai bagian dari upaya bersama mengatasi kemiskinan, bantuan ini mencerminkan komitmen pemerintah dalam menciptakan inklusivitas sosial dan kesetaraan akses terhadap sumber daya.Dengan adanya bantuan ini, diharapkan masyarakat di Kabupaten Banggai dapat membangun kehidupan yang lebih baik, mandiri, dan berdaya.**Penulis : Imam Muslik ( Jurnalis )\n",
            "_______________________________________________________________________________________________________________\n",
            "kabar luwuk  –dinas sosial banggaisegera salurkan 2.42 miliarprogram gercep gaskan berdaya2023.dinas sosial kabupaten banggaimenerima bantuan sebesar 2.42 miliar rupiah dalam program gerak cepat pengentasan kemiskinan berbasis pemberdayaan masyarakat (gercep gaskan berdaya).bantuan ini ditujukan untuk 242 keluarga penerima manfaat di lima kecamatan, memberikan harapan bagi warga di kecamatan luwuk (35 kpm), luwuk selatan (28 kpm), pagimana (95 kpm), bunta (47 kpm), dan nuhon (37 kpm). selasa 28/11/2023.kepala dinas sosial kabupaten banggai, irpan poma melalui kepala bidang fakir miskis,ronald putje,menyampaikan kepada media bahwa dana bantuan ini merupakan sumbangan langsung dari pemerintah provinsi sulawesi tengah.dinas sosial kabupaten banggai bertanggung jawab dalam memfasilitasi distribusi bantuan dan ikut serta dalam pengawasan ketat agar dana tersebut benar-benar sampai kepada penerima manfaat yang tepat.data yang tersedia menunjukkan bahwa 242 keluarga penerima manfaat yang terdiri dari lima kecamatan di kabupaten banggai memenuhi kriteria untuk menerima bantuan ini.dinas sosial kabupaten banggai berharap bahwa bantuan ini akan memberikan bantuan nyata dan meringankan beban masyarakat yang membutuhkan.bantuan ini tidak hanya sekadar alokasi dana, tetapi juga merupakan upaya konkret dalam upaya mengentaskan kemiskinan melalui pemberdayaan masyarakat.semoga, dengan kuncuran dana ini, masyarakat penerima manfaat dapat merasakan dampak positifnya, membuka peluang baru, dan mengurangi tingkat kemiskinan di wilayah tersebut. aksi ini menjadi bukti komitmen bersama dalam membangun kesejahteraan dan keadilan sosial di kabupaten banggai.pemberian bantuan ini menjadi langkah strategis dalam mendukung pembangunan berkelanjutan di kabupaten banggai. melalui program gercep gaskan berdaya, pemerintah berusaha meningkatkan kesejahteraan masyarakat dengan cara yang berkelanjutan dan berbasis pada pemberdayaan.dalam penyampaiannya,  ronald putje menekankan pentingnya sinergi antara pemerintah pusat, provinsi, dan kabupaten untuk mencapai hasil yang optimal.“kami berupaya agar bantuan ini tidak hanya bersifat sekali waktu, tetapi juga mampu menciptakan dampak positif jangka panjang. oleh karena itu, perlu adanya koordinasi yang baik dalam pelaksanaan program ini,” ujarnya.bantuan ini diharapkan tidak hanya menjadi solusi sesaat, tetapi juga menciptakan perubahan struktural yang mampu meningkatkan kapasitas masyarakat penerima manfaat.oleh karena itu, dinas sosial kabupaten banggai akan terus melakukan pemantauan dan evaluasi secara berkala guna memastikan bahwa bantuan tersebut benar-benar memberikan dampak yang positif.sebagai bagian dari upaya bersama mengatasi kemiskinan, bantuan ini mencerminkan komitmen pemerintah dalam menciptakan inklusivitas sosial dan kesetaraan akses terhadap sumber daya.dengan adanya bantuan ini, diharapkan masyarakat di kabupaten banggai dapat membangun kehidupan yang lebih baik, mandiri, dan berdaya.**penulis : imam muslik ( jurnalis )\n"
          ]
        }
      ],
      "source": [
        "print(df['text'][30])\n",
        "print(\"_______________________________________________________________________________________________________________\")\n",
        "print(df['lwr'][30])"
      ]
    },
    {
      "cell_type": "markdown",
      "metadata": {
        "id": "skf-zcc5Ksrz"
      },
      "source": [
        "## Cleansing"
      ]
    },
    {
      "cell_type": "markdown",
      "metadata": {
        "id": "uqDcm6qIhpfo"
      },
      "source": [
        "### Remove Numbers"
      ]
    },
    {
      "cell_type": "code",
      "execution_count": null,
      "metadata": {
        "id": "BqdF07FkhrBN"
      },
      "outputs": [],
      "source": [
        "def remove_numbers(text):\n",
        "  text = re.sub('[0-9]+', '', text)\n",
        "  return text"
      ]
    },
    {
      "cell_type": "code",
      "execution_count": null,
      "metadata": {
        "colab": {
          "base_uri": "https://localhost:8080/"
        },
        "id": "g4JATB7_hrEu",
        "outputId": "391bd9ec-7599-442a-b255-8319fe4469dd"
      },
      "outputs": [
        {
          "output_type": "execute_result",
          "data": {
            "text/plain": [
              "0      kabar luwuk –  suasana pasar murah bersubsidi ...\n",
              "1      kabar luwuk  –  film horor“piara mayat”,kreati...\n",
              "2      kabar luwuk  –festival malabot tumbe kembali m...\n",
              "3      “kerja cepat dan terkoordinir dalam penerbitan...\n",
              "4      kabar luwuk  –bawaslu banggaiperkuat koordinas...\n",
              "                             ...                        \n",
              "995    terasbanggai.com -bawaslu banggai akan meningk...\n",
              "996    banggai raya-bupati banggai, ir. h. amirudin m...\n",
              "997    terasbanggai.com- setelah sempat tertunda masa...\n",
              "998    banggai,  januari  – bertempat di ruang sidang...\n",
              "999    banggai raya-bawaslu kabupaten banggai menggel...\n",
              "Name: clean_number, Length: 975, dtype: object"
            ]
          },
          "metadata": {},
          "execution_count": 538
        }
      ],
      "source": [
        "df['clean_number'] = df['lwr'].apply(remove_numbers)\n",
        "df['clean_number']"
      ]
    },
    {
      "cell_type": "code",
      "source": [
        "df.tail()"
      ],
      "metadata": {
        "id": "P7VjjWul1IIO",
        "colab": {
          "base_uri": "https://localhost:8080/"
        },
        "outputId": "731895a0-4e87-474e-8a23-4ef2f396b57e"
      },
      "execution_count": null,
      "outputs": [
        {
          "output_type": "execute_result",
          "data": {
            "text/plain": [
              "      target                                              title  \\\n",
              "995  banggai  Jelang Voting Day Bawaslu Banggai Gelar Apel S...   \n",
              "996  banggai  Bupati Banggai Ajak Warga Download Mobile JKN ...   \n",
              "997  banggai  Banggai Bakal Gunakan Listrik Tenaga Gas, Hari...   \n",
              "998  banggai  Asistensi Pengisian SPT Tahunan dan Pemadanan ...   \n",
              "999  banggai  Bawaslu Banggai Gelar Sosialisasi Pencegahan B...   \n",
              "\n",
              "                                                  text  \\\n",
              "995  Terasbanggai.com -Bawaslu Banggai akan meningk...   \n",
              "996  BANGGAI RAYA-Bupati Banggai, Ir. H. Amirudin M...   \n",
              "997  Terasbanggai.com- Setelah sempat tertunda masa...   \n",
              "998  Banggai, 25 Januari 2024 – Bertempat di ruang ...   \n",
              "999  BANGGAI RAYA-Bawaslu Kabupaten Banggai menggel...   \n",
              "\n",
              "                                                   lwr  \\\n",
              "995  terasbanggai.com -bawaslu banggai akan meningk...   \n",
              "996  banggai raya-bupati banggai, ir. h. amirudin m...   \n",
              "997  terasbanggai.com- setelah sempat tertunda masa...   \n",
              "998  banggai, 25 januari 2024 – bertempat di ruang ...   \n",
              "999  banggai raya-bawaslu kabupaten banggai menggel...   \n",
              "\n",
              "                                          clean_number  \n",
              "995  terasbanggai.com -bawaslu banggai akan meningk...  \n",
              "996  banggai raya-bupati banggai, ir. h. amirudin m...  \n",
              "997  terasbanggai.com- setelah sempat tertunda masa...  \n",
              "998  banggai,  januari  – bertempat di ruang sidang...  \n",
              "999  banggai raya-bawaslu kabupaten banggai menggel...  "
            ],
            "text/html": [
              "\n",
              "  <div id=\"df-272707dd-ae23-4207-a4cb-ea907c457e66\" class=\"colab-df-container\">\n",
              "    <div>\n",
              "<style scoped>\n",
              "    .dataframe tbody tr th:only-of-type {\n",
              "        vertical-align: middle;\n",
              "    }\n",
              "\n",
              "    .dataframe tbody tr th {\n",
              "        vertical-align: top;\n",
              "    }\n",
              "\n",
              "    .dataframe thead th {\n",
              "        text-align: right;\n",
              "    }\n",
              "</style>\n",
              "<table border=\"1\" class=\"dataframe\">\n",
              "  <thead>\n",
              "    <tr style=\"text-align: right;\">\n",
              "      <th></th>\n",
              "      <th>target</th>\n",
              "      <th>title</th>\n",
              "      <th>text</th>\n",
              "      <th>lwr</th>\n",
              "      <th>clean_number</th>\n",
              "    </tr>\n",
              "  </thead>\n",
              "  <tbody>\n",
              "    <tr>\n",
              "      <th>995</th>\n",
              "      <td>banggai</td>\n",
              "      <td>Jelang Voting Day Bawaslu Banggai Gelar Apel S...</td>\n",
              "      <td>Terasbanggai.com -Bawaslu Banggai akan meningk...</td>\n",
              "      <td>terasbanggai.com -bawaslu banggai akan meningk...</td>\n",
              "      <td>terasbanggai.com -bawaslu banggai akan meningk...</td>\n",
              "    </tr>\n",
              "    <tr>\n",
              "      <th>996</th>\n",
              "      <td>banggai</td>\n",
              "      <td>Bupati Banggai Ajak Warga Download Mobile JKN ...</td>\n",
              "      <td>BANGGAI RAYA-Bupati Banggai, Ir. H. Amirudin M...</td>\n",
              "      <td>banggai raya-bupati banggai, ir. h. amirudin m...</td>\n",
              "      <td>banggai raya-bupati banggai, ir. h. amirudin m...</td>\n",
              "    </tr>\n",
              "    <tr>\n",
              "      <th>997</th>\n",
              "      <td>banggai</td>\n",
              "      <td>Banggai Bakal Gunakan Listrik Tenaga Gas, Hari...</td>\n",
              "      <td>Terasbanggai.com- Setelah sempat tertunda masa...</td>\n",
              "      <td>terasbanggai.com- setelah sempat tertunda masa...</td>\n",
              "      <td>terasbanggai.com- setelah sempat tertunda masa...</td>\n",
              "    </tr>\n",
              "    <tr>\n",
              "      <th>998</th>\n",
              "      <td>banggai</td>\n",
              "      <td>Asistensi Pengisian SPT Tahunan dan Pemadanan ...</td>\n",
              "      <td>Banggai, 25 Januari 2024 – Bertempat di ruang ...</td>\n",
              "      <td>banggai, 25 januari 2024 – bertempat di ruang ...</td>\n",
              "      <td>banggai,  januari  – bertempat di ruang sidang...</td>\n",
              "    </tr>\n",
              "    <tr>\n",
              "      <th>999</th>\n",
              "      <td>banggai</td>\n",
              "      <td>Bawaslu Banggai Gelar Sosialisasi Pencegahan B...</td>\n",
              "      <td>BANGGAI RAYA-Bawaslu Kabupaten Banggai menggel...</td>\n",
              "      <td>banggai raya-bawaslu kabupaten banggai menggel...</td>\n",
              "      <td>banggai raya-bawaslu kabupaten banggai menggel...</td>\n",
              "    </tr>\n",
              "  </tbody>\n",
              "</table>\n",
              "</div>\n",
              "    <div class=\"colab-df-buttons\">\n",
              "\n",
              "  <div class=\"colab-df-container\">\n",
              "    <button class=\"colab-df-convert\" onclick=\"convertToInteractive('df-272707dd-ae23-4207-a4cb-ea907c457e66')\"\n",
              "            title=\"Convert this dataframe to an interactive table.\"\n",
              "            style=\"display:none;\">\n",
              "\n",
              "  <svg xmlns=\"http://www.w3.org/2000/svg\" height=\"24px\" viewBox=\"0 -960 960 960\">\n",
              "    <path d=\"M120-120v-720h720v720H120Zm60-500h600v-160H180v160Zm220 220h160v-160H400v160Zm0 220h160v-160H400v160ZM180-400h160v-160H180v160Zm440 0h160v-160H620v160ZM180-180h160v-160H180v160Zm440 0h160v-160H620v160Z\"/>\n",
              "  </svg>\n",
              "    </button>\n",
              "\n",
              "  <style>\n",
              "    .colab-df-container {\n",
              "      display:flex;\n",
              "      gap: 12px;\n",
              "    }\n",
              "\n",
              "    .colab-df-convert {\n",
              "      background-color: #E8F0FE;\n",
              "      border: none;\n",
              "      border-radius: 50%;\n",
              "      cursor: pointer;\n",
              "      display: none;\n",
              "      fill: #1967D2;\n",
              "      height: 32px;\n",
              "      padding: 0 0 0 0;\n",
              "      width: 32px;\n",
              "    }\n",
              "\n",
              "    .colab-df-convert:hover {\n",
              "      background-color: #E2EBFA;\n",
              "      box-shadow: 0px 1px 2px rgba(60, 64, 67, 0.3), 0px 1px 3px 1px rgba(60, 64, 67, 0.15);\n",
              "      fill: #174EA6;\n",
              "    }\n",
              "\n",
              "    .colab-df-buttons div {\n",
              "      margin-bottom: 4px;\n",
              "    }\n",
              "\n",
              "    [theme=dark] .colab-df-convert {\n",
              "      background-color: #3B4455;\n",
              "      fill: #D2E3FC;\n",
              "    }\n",
              "\n",
              "    [theme=dark] .colab-df-convert:hover {\n",
              "      background-color: #434B5C;\n",
              "      box-shadow: 0px 1px 3px 1px rgba(0, 0, 0, 0.15);\n",
              "      filter: drop-shadow(0px 1px 2px rgba(0, 0, 0, 0.3));\n",
              "      fill: #FFFFFF;\n",
              "    }\n",
              "  </style>\n",
              "\n",
              "    <script>\n",
              "      const buttonEl =\n",
              "        document.querySelector('#df-272707dd-ae23-4207-a4cb-ea907c457e66 button.colab-df-convert');\n",
              "      buttonEl.style.display =\n",
              "        google.colab.kernel.accessAllowed ? 'block' : 'none';\n",
              "\n",
              "      async function convertToInteractive(key) {\n",
              "        const element = document.querySelector('#df-272707dd-ae23-4207-a4cb-ea907c457e66');\n",
              "        const dataTable =\n",
              "          await google.colab.kernel.invokeFunction('convertToInteractive',\n",
              "                                                    [key], {});\n",
              "        if (!dataTable) return;\n",
              "\n",
              "        const docLinkHtml = 'Like what you see? Visit the ' +\n",
              "          '<a target=\"_blank\" href=https://colab.research.google.com/notebooks/data_table.ipynb>data table notebook</a>'\n",
              "          + ' to learn more about interactive tables.';\n",
              "        element.innerHTML = '';\n",
              "        dataTable['output_type'] = 'display_data';\n",
              "        await google.colab.output.renderOutput(dataTable, element);\n",
              "        const docLink = document.createElement('div');\n",
              "        docLink.innerHTML = docLinkHtml;\n",
              "        element.appendChild(docLink);\n",
              "      }\n",
              "    </script>\n",
              "  </div>\n",
              "\n",
              "\n",
              "<div id=\"df-d6a8461d-9f85-4bfb-8578-4c21e05b39b1\">\n",
              "  <button class=\"colab-df-quickchart\" onclick=\"quickchart('df-d6a8461d-9f85-4bfb-8578-4c21e05b39b1')\"\n",
              "            title=\"Suggest charts\"\n",
              "            style=\"display:none;\">\n",
              "\n",
              "<svg xmlns=\"http://www.w3.org/2000/svg\" height=\"24px\"viewBox=\"0 0 24 24\"\n",
              "     width=\"24px\">\n",
              "    <g>\n",
              "        <path d=\"M19 3H5c-1.1 0-2 .9-2 2v14c0 1.1.9 2 2 2h14c1.1 0 2-.9 2-2V5c0-1.1-.9-2-2-2zM9 17H7v-7h2v7zm4 0h-2V7h2v10zm4 0h-2v-4h2v4z\"/>\n",
              "    </g>\n",
              "</svg>\n",
              "  </button>\n",
              "\n",
              "<style>\n",
              "  .colab-df-quickchart {\n",
              "      --bg-color: #E8F0FE;\n",
              "      --fill-color: #1967D2;\n",
              "      --hover-bg-color: #E2EBFA;\n",
              "      --hover-fill-color: #174EA6;\n",
              "      --disabled-fill-color: #AAA;\n",
              "      --disabled-bg-color: #DDD;\n",
              "  }\n",
              "\n",
              "  [theme=dark] .colab-df-quickchart {\n",
              "      --bg-color: #3B4455;\n",
              "      --fill-color: #D2E3FC;\n",
              "      --hover-bg-color: #434B5C;\n",
              "      --hover-fill-color: #FFFFFF;\n",
              "      --disabled-bg-color: #3B4455;\n",
              "      --disabled-fill-color: #666;\n",
              "  }\n",
              "\n",
              "  .colab-df-quickchart {\n",
              "    background-color: var(--bg-color);\n",
              "    border: none;\n",
              "    border-radius: 50%;\n",
              "    cursor: pointer;\n",
              "    display: none;\n",
              "    fill: var(--fill-color);\n",
              "    height: 32px;\n",
              "    padding: 0;\n",
              "    width: 32px;\n",
              "  }\n",
              "\n",
              "  .colab-df-quickchart:hover {\n",
              "    background-color: var(--hover-bg-color);\n",
              "    box-shadow: 0 1px 2px rgba(60, 64, 67, 0.3), 0 1px 3px 1px rgba(60, 64, 67, 0.15);\n",
              "    fill: var(--button-hover-fill-color);\n",
              "  }\n",
              "\n",
              "  .colab-df-quickchart-complete:disabled,\n",
              "  .colab-df-quickchart-complete:disabled:hover {\n",
              "    background-color: var(--disabled-bg-color);\n",
              "    fill: var(--disabled-fill-color);\n",
              "    box-shadow: none;\n",
              "  }\n",
              "\n",
              "  .colab-df-spinner {\n",
              "    border: 2px solid var(--fill-color);\n",
              "    border-color: transparent;\n",
              "    border-bottom-color: var(--fill-color);\n",
              "    animation:\n",
              "      spin 1s steps(1) infinite;\n",
              "  }\n",
              "\n",
              "  @keyframes spin {\n",
              "    0% {\n",
              "      border-color: transparent;\n",
              "      border-bottom-color: var(--fill-color);\n",
              "      border-left-color: var(--fill-color);\n",
              "    }\n",
              "    20% {\n",
              "      border-color: transparent;\n",
              "      border-left-color: var(--fill-color);\n",
              "      border-top-color: var(--fill-color);\n",
              "    }\n",
              "    30% {\n",
              "      border-color: transparent;\n",
              "      border-left-color: var(--fill-color);\n",
              "      border-top-color: var(--fill-color);\n",
              "      border-right-color: var(--fill-color);\n",
              "    }\n",
              "    40% {\n",
              "      border-color: transparent;\n",
              "      border-right-color: var(--fill-color);\n",
              "      border-top-color: var(--fill-color);\n",
              "    }\n",
              "    60% {\n",
              "      border-color: transparent;\n",
              "      border-right-color: var(--fill-color);\n",
              "    }\n",
              "    80% {\n",
              "      border-color: transparent;\n",
              "      border-right-color: var(--fill-color);\n",
              "      border-bottom-color: var(--fill-color);\n",
              "    }\n",
              "    90% {\n",
              "      border-color: transparent;\n",
              "      border-bottom-color: var(--fill-color);\n",
              "    }\n",
              "  }\n",
              "</style>\n",
              "\n",
              "  <script>\n",
              "    async function quickchart(key) {\n",
              "      const quickchartButtonEl =\n",
              "        document.querySelector('#' + key + ' button');\n",
              "      quickchartButtonEl.disabled = true;  // To prevent multiple clicks.\n",
              "      quickchartButtonEl.classList.add('colab-df-spinner');\n",
              "      try {\n",
              "        const charts = await google.colab.kernel.invokeFunction(\n",
              "            'suggestCharts', [key], {});\n",
              "      } catch (error) {\n",
              "        console.error('Error during call to suggestCharts:', error);\n",
              "      }\n",
              "      quickchartButtonEl.classList.remove('colab-df-spinner');\n",
              "      quickchartButtonEl.classList.add('colab-df-quickchart-complete');\n",
              "    }\n",
              "    (() => {\n",
              "      let quickchartButtonEl =\n",
              "        document.querySelector('#df-d6a8461d-9f85-4bfb-8578-4c21e05b39b1 button');\n",
              "      quickchartButtonEl.style.display =\n",
              "        google.colab.kernel.accessAllowed ? 'block' : 'none';\n",
              "    })();\n",
              "  </script>\n",
              "</div>\n",
              "    </div>\n",
              "  </div>\n"
            ],
            "application/vnd.google.colaboratory.intrinsic+json": {
              "type": "dataframe",
              "summary": "{\n  \"name\": \"df\",\n  \"rows\": 5,\n  \"fields\": [\n    {\n      \"column\": \"target\",\n      \"properties\": {\n        \"dtype\": \"category\",\n        \"num_unique_values\": 1,\n        \"samples\": [\n          \"banggai\"\n        ],\n        \"semantic_type\": \"\",\n        \"description\": \"\"\n      }\n    },\n    {\n      \"column\": \"title\",\n      \"properties\": {\n        \"dtype\": \"string\",\n        \"num_unique_values\": 5,\n        \"samples\": [\n          \"Bupati Banggai Ajak Warga Download Mobile JKN dan Lakukan Skrining Kesehatan\"\n        ],\n        \"semantic_type\": \"\",\n        \"description\": \"\"\n      }\n    },\n    {\n      \"column\": \"text\",\n      \"properties\": {\n        \"dtype\": \"string\",\n        \"num_unique_values\": 5,\n        \"samples\": [\n          \"BANGGAI RAYA-Bupati Banggai, Ir. H. Amirudin MM., AIFO., mengajak kepada semua masyarakat untuk dapat melakukan skrining riwayat kesehatan. Sebab hal ini sangat penting dilakukan untuk mengetahui potensi penyakit yang diderita.\\u201cSkrining kesehatan dapat dilakukan melalui aplikasi Mobile JKN, website BPJS Kesehatan https://webskrining.bpjs-kesehatan.go.id/skrining/index.html atau dapat langsung mendatangi fasilitas kesehatan tingkat pertama yang terdaftar (peserta JKN),\\u201d pesan Bupati Amirudin dalam tayangan video, Rabu 24 Januari 2024.BACA JUGA:Kampanye Tatap Muka di Salodik, Ini Harapan Masyarakat ke RHS Caleg PDIP BanggaiSelanjutnya, orang nomor satu di Kabupaten Banggai itu mengajak kepada semua masyarakat untuk mendownload dan registrasi aplikasi mobile JKN.BACA JUGA:Pelantikan PTPS, Bawaslu Banggai : Tingkatkan Pengawasan PemiluMenurutnya, dengan mendownload aplikasi mobile JKN ini tak lain untuk memudahkan proses pelayanan administrasi kepesertaan jaminan kesehatan nasional tanpa harus datang ke kantor BPJS Kesehatan.BACA JUGA:Baru PDIP, Bawaslu Banggai Minta Parpol Segera Laporkan Data Saksi Pemilu\\u201cAyo segera download aplikasi Mobile JKN dan segera lakukan skrining riwayat kesehatan untuk masyarakat Kabupaten Banggai yang lebih sehat,\\u201d tandasnya. (*)\"\n        ],\n        \"semantic_type\": \"\",\n        \"description\": \"\"\n      }\n    },\n    {\n      \"column\": \"lwr\",\n      \"properties\": {\n        \"dtype\": \"string\",\n        \"num_unique_values\": 5,\n        \"samples\": [\n          \"banggai raya-bupati banggai, ir. h. amirudin mm., aifo., mengajak kepada semua masyarakat untuk dapat melakukan skrining riwayat kesehatan. sebab hal ini sangat penting dilakukan untuk mengetahui potensi penyakit yang diderita.\\u201cskrining kesehatan dapat dilakukan melalui aplikasi mobile jkn, website bpjs kesehatan https://webskrining.bpjs-kesehatan.go.id/skrining/index.html atau dapat langsung mendatangi fasilitas kesehatan tingkat pertama yang terdaftar (peserta jkn),\\u201d pesan bupati amirudin dalam tayangan video, rabu 24 januari 2024.baca juga:kampanye tatap muka di salodik, ini harapan masyarakat ke rhs caleg pdip banggaiselanjutnya, orang nomor satu di kabupaten banggai itu mengajak kepada semua masyarakat untuk mendownload dan registrasi aplikasi mobile jkn.baca juga:pelantikan ptps, bawaslu banggai : tingkatkan pengawasan pemilumenurutnya, dengan mendownload aplikasi mobile jkn ini tak lain untuk memudahkan proses pelayanan administrasi kepesertaan jaminan kesehatan nasional tanpa harus datang ke kantor bpjs kesehatan.baca juga:baru pdip, bawaslu banggai minta parpol segera laporkan data saksi pemilu\\u201cayo segera download aplikasi mobile jkn dan segera lakukan skrining riwayat kesehatan untuk masyarakat kabupaten banggai yang lebih sehat,\\u201d tandasnya. (*)\"\n        ],\n        \"semantic_type\": \"\",\n        \"description\": \"\"\n      }\n    },\n    {\n      \"column\": \"clean_number\",\n      \"properties\": {\n        \"dtype\": \"string\",\n        \"num_unique_values\": 5,\n        \"samples\": [\n          \"banggai raya-bupati banggai, ir. h. amirudin mm., aifo., mengajak kepada semua masyarakat untuk dapat melakukan skrining riwayat kesehatan. sebab hal ini sangat penting dilakukan untuk mengetahui potensi penyakit yang diderita.\\u201cskrining kesehatan dapat dilakukan melalui aplikasi mobile jkn, website bpjs kesehatan https://webskrining.bpjs-kesehatan.go.id/skrining/index.html atau dapat langsung mendatangi fasilitas kesehatan tingkat pertama yang terdaftar (peserta jkn),\\u201d pesan bupati amirudin dalam tayangan video, rabu  januari .baca juga:kampanye tatap muka di salodik, ini harapan masyarakat ke rhs caleg pdip banggaiselanjutnya, orang nomor satu di kabupaten banggai itu mengajak kepada semua masyarakat untuk mendownload dan registrasi aplikasi mobile jkn.baca juga:pelantikan ptps, bawaslu banggai : tingkatkan pengawasan pemilumenurutnya, dengan mendownload aplikasi mobile jkn ini tak lain untuk memudahkan proses pelayanan administrasi kepesertaan jaminan kesehatan nasional tanpa harus datang ke kantor bpjs kesehatan.baca juga:baru pdip, bawaslu banggai minta parpol segera laporkan data saksi pemilu\\u201cayo segera download aplikasi mobile jkn dan segera lakukan skrining riwayat kesehatan untuk masyarakat kabupaten banggai yang lebih sehat,\\u201d tandasnya. (*)\"\n        ],\n        \"semantic_type\": \"\",\n        \"description\": \"\"\n      }\n    }\n  ]\n}"
            }
          },
          "metadata": {},
          "execution_count": 539
        }
      ]
    },
    {
      "cell_type": "markdown",
      "metadata": {
        "id": "BgnmFGgbeM4o"
      },
      "source": [
        "### Remove Punctuation"
      ]
    },
    {
      "cell_type": "code",
      "execution_count": null,
      "metadata": {
        "id": "E17l7Edmdaf3"
      },
      "outputs": [],
      "source": [
        "#Remove Puncutuation\n",
        "clean_spcl = re.compile('[/(){}\\[\\]\\|@,;]')\n",
        "clean_symbol = re.compile('[^0-9a-z]')\n",
        "def clean_punct(text):\n",
        "    text = clean_spcl.sub('', text)\n",
        "    text = clean_symbol.sub(' ', text)\n",
        "    return text"
      ]
    },
    {
      "cell_type": "code",
      "execution_count": null,
      "metadata": {
        "colab": {
          "base_uri": "https://localhost:8080/"
        },
        "id": "8f1YgOnOeHJs",
        "outputId": "abbcf82b-c98d-4b4c-d995-edb2d1b958fd"
      },
      "outputs": [
        {
          "output_type": "execute_result",
          "data": {
            "text/plain": [
              "0      kabar luwuk    suasana pasar murah bersubsidi ...\n",
              "1      kabar luwuk     film horor piara mayat kreativ...\n",
              "2      kabar luwuk   festival malabot tumbe kembali m...\n",
              "3       kerja cepat dan terkoordinir dalam penerbitan...\n",
              "4      kabar luwuk   bawaslu banggaiperkuat koordinas...\n",
              "                             ...                        \n",
              "995    terasbanggai com  bawaslu banggai akan meningk...\n",
              "996    banggai raya bupati banggai ir  h  amirudin mm...\n",
              "997    terasbanggai com  setelah sempat tertunda masa...\n",
              "998    banggai  januari    bertempat di ruang sidang ...\n",
              "999    banggai raya bawaslu kabupaten banggai menggel...\n",
              "Name: clean_punct, Length: 975, dtype: object"
            ]
          },
          "metadata": {},
          "execution_count": 541
        }
      ],
      "source": [
        "# Buat kolom tambahan untuk data description yang telah diremovepunctuation\n",
        "df['clean_punct'] = df['clean_number'].apply(clean_punct)\n",
        "df['clean_punct']"
      ]
    },
    {
      "cell_type": "code",
      "source": [
        "df.head()\n"
      ],
      "metadata": {
        "id": "vMKcQy2K_Jbc",
        "colab": {
          "base_uri": "https://localhost:8080/"
        },
        "outputId": "f4010d1f-f374-498c-dc18-ad5f77ca3b53"
      },
      "execution_count": null,
      "outputs": [
        {
          "output_type": "execute_result",
          "data": {
            "text/plain": [
              "    target                                              title  \\\n",
              "0  banggai  Mobil Sim Keliling Polres Banggai Meriahkan Pa...   \n",
              "1  banggai  Film Horor “Piara Mayat”,  Kreativitas Anak Mu...   \n",
              "2  banggai  Festival Malabot Tumbe 2023 Kembali Meriahkan ...   \n",
              "3  banggai  Rakor Kampanye Damai Pemilu 2024, Polres Bangg...   \n",
              "4  banggai  Bawaslu Banggai Perkuat Koordinasi dengan Panw...   \n",
              "\n",
              "                                                text  \\\n",
              "0  KABAR LUWUK –  Suasana Pasar Murah bersubsidi ...   \n",
              "1  KABAR LUWUK  –  Film Horor“Piara Mayat”,Kreati...   \n",
              "2  KABAR LUWUK  –Festival Malabot Tumbe 2023Kemba...   \n",
              "3  “Kerja Cepat dan Terkoordinir dalam Penerbitan...   \n",
              "4  KABAR LUWUK  –Bawaslu BanggaiPerkuat Koordinas...   \n",
              "\n",
              "                                                 lwr  \\\n",
              "0  kabar luwuk –  suasana pasar murah bersubsidi ...   \n",
              "1  kabar luwuk  –  film horor“piara mayat”,kreati...   \n",
              "2  kabar luwuk  –festival malabot tumbe 2023kemba...   \n",
              "3  “kerja cepat dan terkoordinir dalam penerbitan...   \n",
              "4  kabar luwuk  –bawaslu banggaiperkuat koordinas...   \n",
              "\n",
              "                                        clean_number  \\\n",
              "0  kabar luwuk –  suasana pasar murah bersubsidi ...   \n",
              "1  kabar luwuk  –  film horor“piara mayat”,kreati...   \n",
              "2  kabar luwuk  –festival malabot tumbe kembali m...   \n",
              "3  “kerja cepat dan terkoordinir dalam penerbitan...   \n",
              "4  kabar luwuk  –bawaslu banggaiperkuat koordinas...   \n",
              "\n",
              "                                         clean_punct  \n",
              "0  kabar luwuk    suasana pasar murah bersubsidi ...  \n",
              "1  kabar luwuk     film horor piara mayat kreativ...  \n",
              "2  kabar luwuk   festival malabot tumbe kembali m...  \n",
              "3   kerja cepat dan terkoordinir dalam penerbitan...  \n",
              "4  kabar luwuk   bawaslu banggaiperkuat koordinas...  "
            ],
            "text/html": [
              "\n",
              "  <div id=\"df-0316ad2a-4cab-4a06-8e0a-76fc331cea8c\" class=\"colab-df-container\">\n",
              "    <div>\n",
              "<style scoped>\n",
              "    .dataframe tbody tr th:only-of-type {\n",
              "        vertical-align: middle;\n",
              "    }\n",
              "\n",
              "    .dataframe tbody tr th {\n",
              "        vertical-align: top;\n",
              "    }\n",
              "\n",
              "    .dataframe thead th {\n",
              "        text-align: right;\n",
              "    }\n",
              "</style>\n",
              "<table border=\"1\" class=\"dataframe\">\n",
              "  <thead>\n",
              "    <tr style=\"text-align: right;\">\n",
              "      <th></th>\n",
              "      <th>target</th>\n",
              "      <th>title</th>\n",
              "      <th>text</th>\n",
              "      <th>lwr</th>\n",
              "      <th>clean_number</th>\n",
              "      <th>clean_punct</th>\n",
              "    </tr>\n",
              "  </thead>\n",
              "  <tbody>\n",
              "    <tr>\n",
              "      <th>0</th>\n",
              "      <td>banggai</td>\n",
              "      <td>Mobil Sim Keliling Polres Banggai Meriahkan Pa...</td>\n",
              "      <td>KABAR LUWUK –  Suasana Pasar Murah bersubsidi ...</td>\n",
              "      <td>kabar luwuk –  suasana pasar murah bersubsidi ...</td>\n",
              "      <td>kabar luwuk –  suasana pasar murah bersubsidi ...</td>\n",
              "      <td>kabar luwuk    suasana pasar murah bersubsidi ...</td>\n",
              "    </tr>\n",
              "    <tr>\n",
              "      <th>1</th>\n",
              "      <td>banggai</td>\n",
              "      <td>Film Horor “Piara Mayat”,  Kreativitas Anak Mu...</td>\n",
              "      <td>KABAR LUWUK  –  Film Horor“Piara Mayat”,Kreati...</td>\n",
              "      <td>kabar luwuk  –  film horor“piara mayat”,kreati...</td>\n",
              "      <td>kabar luwuk  –  film horor“piara mayat”,kreati...</td>\n",
              "      <td>kabar luwuk     film horor piara mayat kreativ...</td>\n",
              "    </tr>\n",
              "    <tr>\n",
              "      <th>2</th>\n",
              "      <td>banggai</td>\n",
              "      <td>Festival Malabot Tumbe 2023 Kembali Meriahkan ...</td>\n",
              "      <td>KABAR LUWUK  –Festival Malabot Tumbe 2023Kemba...</td>\n",
              "      <td>kabar luwuk  –festival malabot tumbe 2023kemba...</td>\n",
              "      <td>kabar luwuk  –festival malabot tumbe kembali m...</td>\n",
              "      <td>kabar luwuk   festival malabot tumbe kembali m...</td>\n",
              "    </tr>\n",
              "    <tr>\n",
              "      <th>3</th>\n",
              "      <td>banggai</td>\n",
              "      <td>Rakor Kampanye Damai Pemilu 2024, Polres Bangg...</td>\n",
              "      <td>“Kerja Cepat dan Terkoordinir dalam Penerbitan...</td>\n",
              "      <td>“kerja cepat dan terkoordinir dalam penerbitan...</td>\n",
              "      <td>“kerja cepat dan terkoordinir dalam penerbitan...</td>\n",
              "      <td>kerja cepat dan terkoordinir dalam penerbitan...</td>\n",
              "    </tr>\n",
              "    <tr>\n",
              "      <th>4</th>\n",
              "      <td>banggai</td>\n",
              "      <td>Bawaslu Banggai Perkuat Koordinasi dengan Panw...</td>\n",
              "      <td>KABAR LUWUK  –Bawaslu BanggaiPerkuat Koordinas...</td>\n",
              "      <td>kabar luwuk  –bawaslu banggaiperkuat koordinas...</td>\n",
              "      <td>kabar luwuk  –bawaslu banggaiperkuat koordinas...</td>\n",
              "      <td>kabar luwuk   bawaslu banggaiperkuat koordinas...</td>\n",
              "    </tr>\n",
              "  </tbody>\n",
              "</table>\n",
              "</div>\n",
              "    <div class=\"colab-df-buttons\">\n",
              "\n",
              "  <div class=\"colab-df-container\">\n",
              "    <button class=\"colab-df-convert\" onclick=\"convertToInteractive('df-0316ad2a-4cab-4a06-8e0a-76fc331cea8c')\"\n",
              "            title=\"Convert this dataframe to an interactive table.\"\n",
              "            style=\"display:none;\">\n",
              "\n",
              "  <svg xmlns=\"http://www.w3.org/2000/svg\" height=\"24px\" viewBox=\"0 -960 960 960\">\n",
              "    <path d=\"M120-120v-720h720v720H120Zm60-500h600v-160H180v160Zm220 220h160v-160H400v160Zm0 220h160v-160H400v160ZM180-400h160v-160H180v160Zm440 0h160v-160H620v160ZM180-180h160v-160H180v160Zm440 0h160v-160H620v160Z\"/>\n",
              "  </svg>\n",
              "    </button>\n",
              "\n",
              "  <style>\n",
              "    .colab-df-container {\n",
              "      display:flex;\n",
              "      gap: 12px;\n",
              "    }\n",
              "\n",
              "    .colab-df-convert {\n",
              "      background-color: #E8F0FE;\n",
              "      border: none;\n",
              "      border-radius: 50%;\n",
              "      cursor: pointer;\n",
              "      display: none;\n",
              "      fill: #1967D2;\n",
              "      height: 32px;\n",
              "      padding: 0 0 0 0;\n",
              "      width: 32px;\n",
              "    }\n",
              "\n",
              "    .colab-df-convert:hover {\n",
              "      background-color: #E2EBFA;\n",
              "      box-shadow: 0px 1px 2px rgba(60, 64, 67, 0.3), 0px 1px 3px 1px rgba(60, 64, 67, 0.15);\n",
              "      fill: #174EA6;\n",
              "    }\n",
              "\n",
              "    .colab-df-buttons div {\n",
              "      margin-bottom: 4px;\n",
              "    }\n",
              "\n",
              "    [theme=dark] .colab-df-convert {\n",
              "      background-color: #3B4455;\n",
              "      fill: #D2E3FC;\n",
              "    }\n",
              "\n",
              "    [theme=dark] .colab-df-convert:hover {\n",
              "      background-color: #434B5C;\n",
              "      box-shadow: 0px 1px 3px 1px rgba(0, 0, 0, 0.15);\n",
              "      filter: drop-shadow(0px 1px 2px rgba(0, 0, 0, 0.3));\n",
              "      fill: #FFFFFF;\n",
              "    }\n",
              "  </style>\n",
              "\n",
              "    <script>\n",
              "      const buttonEl =\n",
              "        document.querySelector('#df-0316ad2a-4cab-4a06-8e0a-76fc331cea8c button.colab-df-convert');\n",
              "      buttonEl.style.display =\n",
              "        google.colab.kernel.accessAllowed ? 'block' : 'none';\n",
              "\n",
              "      async function convertToInteractive(key) {\n",
              "        const element = document.querySelector('#df-0316ad2a-4cab-4a06-8e0a-76fc331cea8c');\n",
              "        const dataTable =\n",
              "          await google.colab.kernel.invokeFunction('convertToInteractive',\n",
              "                                                    [key], {});\n",
              "        if (!dataTable) return;\n",
              "\n",
              "        const docLinkHtml = 'Like what you see? Visit the ' +\n",
              "          '<a target=\"_blank\" href=https://colab.research.google.com/notebooks/data_table.ipynb>data table notebook</a>'\n",
              "          + ' to learn more about interactive tables.';\n",
              "        element.innerHTML = '';\n",
              "        dataTable['output_type'] = 'display_data';\n",
              "        await google.colab.output.renderOutput(dataTable, element);\n",
              "        const docLink = document.createElement('div');\n",
              "        docLink.innerHTML = docLinkHtml;\n",
              "        element.appendChild(docLink);\n",
              "      }\n",
              "    </script>\n",
              "  </div>\n",
              "\n",
              "\n",
              "<div id=\"df-e5494175-92d7-431f-be65-2724b56d2228\">\n",
              "  <button class=\"colab-df-quickchart\" onclick=\"quickchart('df-e5494175-92d7-431f-be65-2724b56d2228')\"\n",
              "            title=\"Suggest charts\"\n",
              "            style=\"display:none;\">\n",
              "\n",
              "<svg xmlns=\"http://www.w3.org/2000/svg\" height=\"24px\"viewBox=\"0 0 24 24\"\n",
              "     width=\"24px\">\n",
              "    <g>\n",
              "        <path d=\"M19 3H5c-1.1 0-2 .9-2 2v14c0 1.1.9 2 2 2h14c1.1 0 2-.9 2-2V5c0-1.1-.9-2-2-2zM9 17H7v-7h2v7zm4 0h-2V7h2v10zm4 0h-2v-4h2v4z\"/>\n",
              "    </g>\n",
              "</svg>\n",
              "  </button>\n",
              "\n",
              "<style>\n",
              "  .colab-df-quickchart {\n",
              "      --bg-color: #E8F0FE;\n",
              "      --fill-color: #1967D2;\n",
              "      --hover-bg-color: #E2EBFA;\n",
              "      --hover-fill-color: #174EA6;\n",
              "      --disabled-fill-color: #AAA;\n",
              "      --disabled-bg-color: #DDD;\n",
              "  }\n",
              "\n",
              "  [theme=dark] .colab-df-quickchart {\n",
              "      --bg-color: #3B4455;\n",
              "      --fill-color: #D2E3FC;\n",
              "      --hover-bg-color: #434B5C;\n",
              "      --hover-fill-color: #FFFFFF;\n",
              "      --disabled-bg-color: #3B4455;\n",
              "      --disabled-fill-color: #666;\n",
              "  }\n",
              "\n",
              "  .colab-df-quickchart {\n",
              "    background-color: var(--bg-color);\n",
              "    border: none;\n",
              "    border-radius: 50%;\n",
              "    cursor: pointer;\n",
              "    display: none;\n",
              "    fill: var(--fill-color);\n",
              "    height: 32px;\n",
              "    padding: 0;\n",
              "    width: 32px;\n",
              "  }\n",
              "\n",
              "  .colab-df-quickchart:hover {\n",
              "    background-color: var(--hover-bg-color);\n",
              "    box-shadow: 0 1px 2px rgba(60, 64, 67, 0.3), 0 1px 3px 1px rgba(60, 64, 67, 0.15);\n",
              "    fill: var(--button-hover-fill-color);\n",
              "  }\n",
              "\n",
              "  .colab-df-quickchart-complete:disabled,\n",
              "  .colab-df-quickchart-complete:disabled:hover {\n",
              "    background-color: var(--disabled-bg-color);\n",
              "    fill: var(--disabled-fill-color);\n",
              "    box-shadow: none;\n",
              "  }\n",
              "\n",
              "  .colab-df-spinner {\n",
              "    border: 2px solid var(--fill-color);\n",
              "    border-color: transparent;\n",
              "    border-bottom-color: var(--fill-color);\n",
              "    animation:\n",
              "      spin 1s steps(1) infinite;\n",
              "  }\n",
              "\n",
              "  @keyframes spin {\n",
              "    0% {\n",
              "      border-color: transparent;\n",
              "      border-bottom-color: var(--fill-color);\n",
              "      border-left-color: var(--fill-color);\n",
              "    }\n",
              "    20% {\n",
              "      border-color: transparent;\n",
              "      border-left-color: var(--fill-color);\n",
              "      border-top-color: var(--fill-color);\n",
              "    }\n",
              "    30% {\n",
              "      border-color: transparent;\n",
              "      border-left-color: var(--fill-color);\n",
              "      border-top-color: var(--fill-color);\n",
              "      border-right-color: var(--fill-color);\n",
              "    }\n",
              "    40% {\n",
              "      border-color: transparent;\n",
              "      border-right-color: var(--fill-color);\n",
              "      border-top-color: var(--fill-color);\n",
              "    }\n",
              "    60% {\n",
              "      border-color: transparent;\n",
              "      border-right-color: var(--fill-color);\n",
              "    }\n",
              "    80% {\n",
              "      border-color: transparent;\n",
              "      border-right-color: var(--fill-color);\n",
              "      border-bottom-color: var(--fill-color);\n",
              "    }\n",
              "    90% {\n",
              "      border-color: transparent;\n",
              "      border-bottom-color: var(--fill-color);\n",
              "    }\n",
              "  }\n",
              "</style>\n",
              "\n",
              "  <script>\n",
              "    async function quickchart(key) {\n",
              "      const quickchartButtonEl =\n",
              "        document.querySelector('#' + key + ' button');\n",
              "      quickchartButtonEl.disabled = true;  // To prevent multiple clicks.\n",
              "      quickchartButtonEl.classList.add('colab-df-spinner');\n",
              "      try {\n",
              "        const charts = await google.colab.kernel.invokeFunction(\n",
              "            'suggestCharts', [key], {});\n",
              "      } catch (error) {\n",
              "        console.error('Error during call to suggestCharts:', error);\n",
              "      }\n",
              "      quickchartButtonEl.classList.remove('colab-df-spinner');\n",
              "      quickchartButtonEl.classList.add('colab-df-quickchart-complete');\n",
              "    }\n",
              "    (() => {\n",
              "      let quickchartButtonEl =\n",
              "        document.querySelector('#df-e5494175-92d7-431f-be65-2724b56d2228 button');\n",
              "      quickchartButtonEl.style.display =\n",
              "        google.colab.kernel.accessAllowed ? 'block' : 'none';\n",
              "    })();\n",
              "  </script>\n",
              "</div>\n",
              "    </div>\n",
              "  </div>\n"
            ],
            "application/vnd.google.colaboratory.intrinsic+json": {
              "type": "dataframe",
              "variable_name": "df",
              "summary": "{\n  \"name\": \"df\",\n  \"rows\": 975,\n  \"fields\": [\n    {\n      \"column\": \"target\",\n      \"properties\": {\n        \"dtype\": \"category\",\n        \"num_unique_values\": 1,\n        \"samples\": [\n          \"banggai\"\n        ],\n        \"semantic_type\": \"\",\n        \"description\": \"\"\n      }\n    },\n    {\n      \"column\": \"title\",\n      \"properties\": {\n        \"dtype\": \"string\",\n        \"num_unique_values\": 975,\n        \"samples\": [\n          \"Polres Banggai Perluas Layanan SKCK Hingga Larut Malam, Masyarakat Dapat Manfaatkan Kemudahan Pengurusan bagi Para Lulus PPPK\"\n        ],\n        \"semantic_type\": \"\",\n        \"description\": \"\"\n      }\n    },\n    {\n      \"column\": \"text\",\n      \"properties\": {\n        \"dtype\": \"string\",\n        \"num_unique_values\": 958,\n        \"samples\": [\n          \"BANGGAI RAYA- Bupati Banggai Amirudin mengikuti kegiatan wawancara Paritrana Award Tingkat Provinsi Sulawesi Tengah dengan nominasi penghargaan Jaminan Sosial Ketenagakerjaan kategori nominasi pemerintah kabupaten/kota, pada Selasa (27/2/2024), bertempat di Hotel Aston, Palu.Paritrana Award merupakan penghargaan yang diberikan pemerintah pusat kepada pemerintah daerah, dan perusahaan badan usaha yang memiliki kepedulian (awareness) tinggi, dan citra positif terhadap program jaminan sosial ketenagakerjaan.Pada kesempatan tersebut, Bupati Amirudin memaparkan kebijakan pemerintah daerah terkait implementasi Program Jaminan Sosial Ketenagakerjaan, yang merupakan bagian dari upaya menindaklanjuti Instruksi Presiden (INPRES) Nomor 2 Tahun 2021 tentang optimalisasi pelaksanaan program jaminan sosial ketenagakerjaan.BACA JUGA:Pemilu 2024, Bali Mang Melangkah ke DPRD SultengSebagai bentuk keseriusan, lanjut Bupati Amirudin, Pemkab Banggai menindaklanjuti Inpres Nomor 2 Tahun 2021 tersebut dengan mengeluarkan Peraturan Bupati (Perbup) Nomor 32 Tahun 2021 tentang pelaksanaan program Jaminan Sosial Ketenagakerjaan di daerah dan Keputusan Bupati Banggai Nomor 560/935/NAKERTRANS tentang tim koordinasi pembinaan dan pemantauan terhadap pelaksanaan program BPJS Ketenagakerjaan di Kabupaten Banggai.Tidak hanya sampai di situ, upaya penguatan regulasi daerah dan perlindungan pekerja tersebut, maka ditingkatkan status regulasi dari Peraturan Bupati (Perbup) menjadi Peraturan Daerah (Perda) dengan ditetapkannya Perda Nomor 9 Tahun 2023 tentang Optimalisasi Penyelenggaraan Program Jaminan Sosial Ketenagakerjaan.BACA JUGA:Tak Terima Diberhentikan, Sekdes Segel Kantor Desa Solan BaruUntuk tahun 2023 melalui APBD telah dianggarkan iuran kepesertaan BPJS Ketenagakerjaan untuk program Jaminan Kecelakaan Kerja (JKK) dan Jaminan Kematian (JKM) bagi 13.765 orang tenaga kerja.Keterlibatan Bupati Banggai dalam wawancara ini menegaskan komitmen Pemerintah Kabupaten Banggai dalam memberikan perlindungan sosial yang memadai bagi para tenaga kerja di wilayah tersebut.Presentasi yang disampaikan oleh Bupati Amirudin memberikan gambaran yang jelas mengenai upaya konkret yang telah dilakukan untuk meningkatkan kesejahteraan dan keamanan sosial bagi masyarakat Banggai.Adapun yang menjadi tim penilai kegiatan ini terdiri dari Setda Provinsi, Dra. Novalina, MM., Kepala BPJS Ketenagakerjaan Provinsi Sulawesi Tengah, A. Syamsul Rijal, Kadis Nakertrans Provinsi, Drs. Arnould Firdaus, MT, Ahli ekonomi, Mohammad Ahlis Djirimu, SE, DEA.Phd, Ahli Kebijakan Publik : Dr.Drs Muzakir Tawil. M.Si, Ahli Hukum, Dr. H. Abdur Rasyid thalib S.H, Ahli Jaminan Sosial, Drs.H.Arifuddin Bidin, Ketua DPD APINDO, H. Achrul Udaya, dan Serikat Buruh, Karlan ladandu.BACA JUGA:Asia Muslim Charity Foundation Luncurkan Kapal Kemanusiaan untuk Perairan SultengKehadiran Bupati Banggai dalam acara ini menandai langkah nyata dalam membangun sistem jaminan sosial yang inklusif dan berkeadilan bagi seluruh masyarakat Kabupaten Banggai.**\"\n        ],\n        \"semantic_type\": \"\",\n        \"description\": \"\"\n      }\n    },\n    {\n      \"column\": \"lwr\",\n      \"properties\": {\n        \"dtype\": \"string\",\n        \"num_unique_values\": 958,\n        \"samples\": [\n          \"banggai raya- bupati banggai amirudin mengikuti kegiatan wawancara paritrana award tingkat provinsi sulawesi tengah dengan nominasi penghargaan jaminan sosial ketenagakerjaan kategori nominasi pemerintah kabupaten/kota, pada selasa (27/2/2024), bertempat di hotel aston, palu.paritrana award merupakan penghargaan yang diberikan pemerintah pusat kepada pemerintah daerah, dan perusahaan badan usaha yang memiliki kepedulian (awareness) tinggi, dan citra positif terhadap program jaminan sosial ketenagakerjaan.pada kesempatan tersebut, bupati amirudin memaparkan kebijakan pemerintah daerah terkait implementasi program jaminan sosial ketenagakerjaan, yang merupakan bagian dari upaya menindaklanjuti instruksi presiden (inpres) nomor 2 tahun 2021 tentang optimalisasi pelaksanaan program jaminan sosial ketenagakerjaan.baca juga:pemilu 2024, bali mang melangkah ke dprd sultengsebagai bentuk keseriusan, lanjut bupati amirudin, pemkab banggai menindaklanjuti inpres nomor 2 tahun 2021 tersebut dengan mengeluarkan peraturan bupati (perbup) nomor 32 tahun 2021 tentang pelaksanaan program jaminan sosial ketenagakerjaan di daerah dan keputusan bupati banggai nomor 560/935/nakertrans tentang tim koordinasi pembinaan dan pemantauan terhadap pelaksanaan program bpjs ketenagakerjaan di kabupaten banggai.tidak hanya sampai di situ, upaya penguatan regulasi daerah dan perlindungan pekerja tersebut, maka ditingkatkan status regulasi dari peraturan bupati (perbup) menjadi peraturan daerah (perda) dengan ditetapkannya perda nomor 9 tahun 2023 tentang optimalisasi penyelenggaraan program jaminan sosial ketenagakerjaan.baca juga:tak terima diberhentikan, sekdes segel kantor desa solan baruuntuk tahun 2023 melalui apbd telah dianggarkan iuran kepesertaan bpjs ketenagakerjaan untuk program jaminan kecelakaan kerja (jkk) dan jaminan kematian (jkm) bagi 13.765 orang tenaga kerja.keterlibatan bupati banggai dalam wawancara ini menegaskan komitmen pemerintah kabupaten banggai dalam memberikan perlindungan sosial yang memadai bagi para tenaga kerja di wilayah tersebut.presentasi yang disampaikan oleh bupati amirudin memberikan gambaran yang jelas mengenai upaya konkret yang telah dilakukan untuk meningkatkan kesejahteraan dan keamanan sosial bagi masyarakat banggai.adapun yang menjadi tim penilai kegiatan ini terdiri dari setda provinsi, dra. novalina, mm., kepala bpjs ketenagakerjaan provinsi sulawesi tengah, a. syamsul rijal, kadis nakertrans provinsi, drs. arnould firdaus, mt, ahli ekonomi, mohammad ahlis djirimu, se, dea.phd, ahli kebijakan publik : dr.drs muzakir tawil. m.si, ahli hukum, dr. h. abdur rasyid thalib s.h, ahli jaminan sosial, drs.h.arifuddin bidin, ketua dpd apindo, h. achrul udaya, dan serikat buruh, karlan ladandu.baca juga:asia muslim charity foundation luncurkan kapal kemanusiaan untuk perairan sultengkehadiran bupati banggai dalam acara ini menandai langkah nyata dalam membangun sistem jaminan sosial yang inklusif dan berkeadilan bagi seluruh masyarakat kabupaten banggai.**\"\n        ],\n        \"semantic_type\": \"\",\n        \"description\": \"\"\n      }\n    },\n    {\n      \"column\": \"clean_number\",\n      \"properties\": {\n        \"dtype\": \"string\",\n        \"num_unique_values\": 958,\n        \"samples\": [\n          \"banggai raya- bupati banggai amirudin mengikuti kegiatan wawancara paritrana award tingkat provinsi sulawesi tengah dengan nominasi penghargaan jaminan sosial ketenagakerjaan kategori nominasi pemerintah kabupaten/kota, pada selasa (//), bertempat di hotel aston, palu.paritrana award merupakan penghargaan yang diberikan pemerintah pusat kepada pemerintah daerah, dan perusahaan badan usaha yang memiliki kepedulian (awareness) tinggi, dan citra positif terhadap program jaminan sosial ketenagakerjaan.pada kesempatan tersebut, bupati amirudin memaparkan kebijakan pemerintah daerah terkait implementasi program jaminan sosial ketenagakerjaan, yang merupakan bagian dari upaya menindaklanjuti instruksi presiden (inpres) nomor  tahun  tentang optimalisasi pelaksanaan program jaminan sosial ketenagakerjaan.baca juga:pemilu , bali mang melangkah ke dprd sultengsebagai bentuk keseriusan, lanjut bupati amirudin, pemkab banggai menindaklanjuti inpres nomor  tahun  tersebut dengan mengeluarkan peraturan bupati (perbup) nomor  tahun  tentang pelaksanaan program jaminan sosial ketenagakerjaan di daerah dan keputusan bupati banggai nomor //nakertrans tentang tim koordinasi pembinaan dan pemantauan terhadap pelaksanaan program bpjs ketenagakerjaan di kabupaten banggai.tidak hanya sampai di situ, upaya penguatan regulasi daerah dan perlindungan pekerja tersebut, maka ditingkatkan status regulasi dari peraturan bupati (perbup) menjadi peraturan daerah (perda) dengan ditetapkannya perda nomor  tahun  tentang optimalisasi penyelenggaraan program jaminan sosial ketenagakerjaan.baca juga:tak terima diberhentikan, sekdes segel kantor desa solan baruuntuk tahun  melalui apbd telah dianggarkan iuran kepesertaan bpjs ketenagakerjaan untuk program jaminan kecelakaan kerja (jkk) dan jaminan kematian (jkm) bagi . orang tenaga kerja.keterlibatan bupati banggai dalam wawancara ini menegaskan komitmen pemerintah kabupaten banggai dalam memberikan perlindungan sosial yang memadai bagi para tenaga kerja di wilayah tersebut.presentasi yang disampaikan oleh bupati amirudin memberikan gambaran yang jelas mengenai upaya konkret yang telah dilakukan untuk meningkatkan kesejahteraan dan keamanan sosial bagi masyarakat banggai.adapun yang menjadi tim penilai kegiatan ini terdiri dari setda provinsi, dra. novalina, mm., kepala bpjs ketenagakerjaan provinsi sulawesi tengah, a. syamsul rijal, kadis nakertrans provinsi, drs. arnould firdaus, mt, ahli ekonomi, mohammad ahlis djirimu, se, dea.phd, ahli kebijakan publik : dr.drs muzakir tawil. m.si, ahli hukum, dr. h. abdur rasyid thalib s.h, ahli jaminan sosial, drs.h.arifuddin bidin, ketua dpd apindo, h. achrul udaya, dan serikat buruh, karlan ladandu.baca juga:asia muslim charity foundation luncurkan kapal kemanusiaan untuk perairan sultengkehadiran bupati banggai dalam acara ini menandai langkah nyata dalam membangun sistem jaminan sosial yang inklusif dan berkeadilan bagi seluruh masyarakat kabupaten banggai.**\"\n        ],\n        \"semantic_type\": \"\",\n        \"description\": \"\"\n      }\n    },\n    {\n      \"column\": \"clean_punct\",\n      \"properties\": {\n        \"dtype\": \"string\",\n        \"num_unique_values\": 958,\n        \"samples\": [\n          \"banggai raya  bupati banggai amirudin mengikuti kegiatan wawancara paritrana award tingkat provinsi sulawesi tengah dengan nominasi penghargaan jaminan sosial ketenagakerjaan kategori nominasi pemerintah kabupatenkota pada selasa  bertempat di hotel aston palu paritrana award merupakan penghargaan yang diberikan pemerintah pusat kepada pemerintah daerah dan perusahaan badan usaha yang memiliki kepedulian awareness tinggi dan citra positif terhadap program jaminan sosial ketenagakerjaan pada kesempatan tersebut bupati amirudin memaparkan kebijakan pemerintah daerah terkait implementasi program jaminan sosial ketenagakerjaan yang merupakan bagian dari upaya menindaklanjuti instruksi presiden inpres nomor  tahun  tentang optimalisasi pelaksanaan program jaminan sosial ketenagakerjaan baca juga pemilu  bali mang melangkah ke dprd sultengsebagai bentuk keseriusan lanjut bupati amirudin pemkab banggai menindaklanjuti inpres nomor  tahun  tersebut dengan mengeluarkan peraturan bupati perbup nomor  tahun  tentang pelaksanaan program jaminan sosial ketenagakerjaan di daerah dan keputusan bupati banggai nomor nakertrans tentang tim koordinasi pembinaan dan pemantauan terhadap pelaksanaan program bpjs ketenagakerjaan di kabupaten banggai tidak hanya sampai di situ upaya penguatan regulasi daerah dan perlindungan pekerja tersebut maka ditingkatkan status regulasi dari peraturan bupati perbup menjadi peraturan daerah perda dengan ditetapkannya perda nomor  tahun  tentang optimalisasi penyelenggaraan program jaminan sosial ketenagakerjaan baca juga tak terima diberhentikan sekdes segel kantor desa solan baruuntuk tahun  melalui apbd telah dianggarkan iuran kepesertaan bpjs ketenagakerjaan untuk program jaminan kecelakaan kerja jkk dan jaminan kematian jkm bagi   orang tenaga kerja keterlibatan bupati banggai dalam wawancara ini menegaskan komitmen pemerintah kabupaten banggai dalam memberikan perlindungan sosial yang memadai bagi para tenaga kerja di wilayah tersebut presentasi yang disampaikan oleh bupati amirudin memberikan gambaran yang jelas mengenai upaya konkret yang telah dilakukan untuk meningkatkan kesejahteraan dan keamanan sosial bagi masyarakat banggai adapun yang menjadi tim penilai kegiatan ini terdiri dari setda provinsi dra  novalina mm  kepala bpjs ketenagakerjaan provinsi sulawesi tengah a  syamsul rijal kadis nakertrans provinsi drs  arnould firdaus mt ahli ekonomi mohammad ahlis djirimu se dea phd ahli kebijakan publik   dr drs muzakir tawil  m si ahli hukum dr  h  abdur rasyid thalib s h ahli jaminan sosial drs h arifuddin bidin ketua dpd apindo h  achrul udaya dan serikat buruh karlan ladandu baca juga asia muslim charity foundation luncurkan kapal kemanusiaan untuk perairan sultengkehadiran bupati banggai dalam acara ini menandai langkah nyata dalam membangun sistem jaminan sosial yang inklusif dan berkeadilan bagi seluruh masyarakat kabupaten banggai   \"\n        ],\n        \"semantic_type\": \"\",\n        \"description\": \"\"\n      }\n    }\n  ]\n}"
            }
          },
          "metadata": {},
          "execution_count": 542
        }
      ]
    },
    {
      "cell_type": "markdown",
      "metadata": {
        "id": "P1RGdnrreR9V"
      },
      "source": [
        "### Delete whitespaces"
      ]
    },
    {
      "cell_type": "code",
      "execution_count": null,
      "metadata": {
        "id": "t9ZjE6MleJmC"
      },
      "outputs": [],
      "source": [
        "def normalize_whitespace(text):\n",
        "    corrected = str(text)\n",
        "    corrected = re.sub(r\"//t\",r\"\\t\", corrected)\n",
        "    corrected = re.sub(r\"( )\\1+\",r\"\\1\", corrected)\n",
        "    corrected = re.sub(r\"(\\n)\\1+\",r\"\\1\", corrected)\n",
        "    corrected = re.sub(r\"(\\r)\\1+\",r\"\\1\", corrected)\n",
        "    corrected = re.sub(r\"(\\t)\\1+\",r\"\\1\", corrected)\n",
        "    return corrected.strip(\" \")"
      ]
    },
    {
      "cell_type": "code",
      "execution_count": null,
      "metadata": {
        "colab": {
          "base_uri": "https://localhost:8080/"
        },
        "id": "1T8BVqeTeZGX",
        "outputId": "8ed873e0-4596-4572-e52d-734060761a12"
      },
      "outputs": [
        {
          "output_type": "execute_result",
          "data": {
            "text/plain": [
              "0      kabar luwuk suasana pasar murah bersubsidi di ...\n",
              "1      kabar luwuk film horor piara mayat kreativitas...\n",
              "2      kabar luwuk festival malabot tumbe kembali mer...\n",
              "3      kerja cepat dan terkoordinir dalam penerbitan ...\n",
              "4      kabar luwuk bawaslu banggaiperkuat koordinasi ...\n",
              "                             ...                        \n",
              "995    terasbanggai com bawaslu banggai akan meningka...\n",
              "996    banggai raya bupati banggai ir h amirudin mm a...\n",
              "997    terasbanggai com setelah sempat tertunda masa ...\n",
              "998    banggai januari bertempat di ruang sidang pada...\n",
              "999    banggai raya bawaslu kabupaten banggai menggel...\n",
              "Name: clean_double_ws, Length: 975, dtype: object"
            ]
          },
          "metadata": {},
          "execution_count": 544
        }
      ],
      "source": [
        "df['clean_double_ws'] = df['clean_punct'].apply(normalize_whitespace)\n",
        "df['clean_double_ws']"
      ]
    },
    {
      "cell_type": "code",
      "source": [
        "df.tail()"
      ],
      "metadata": {
        "id": "WS12mtvVBUnS",
        "colab": {
          "base_uri": "https://localhost:8080/"
        },
        "outputId": "3b460fd0-9fa6-4154-c8c7-894702bd7e4d"
      },
      "execution_count": null,
      "outputs": [
        {
          "output_type": "execute_result",
          "data": {
            "text/plain": [
              "      target                                              title  \\\n",
              "995  banggai  Jelang Voting Day Bawaslu Banggai Gelar Apel S...   \n",
              "996  banggai  Bupati Banggai Ajak Warga Download Mobile JKN ...   \n",
              "997  banggai  Banggai Bakal Gunakan Listrik Tenaga Gas, Hari...   \n",
              "998  banggai  Asistensi Pengisian SPT Tahunan dan Pemadanan ...   \n",
              "999  banggai  Bawaslu Banggai Gelar Sosialisasi Pencegahan B...   \n",
              "\n",
              "                                                  text  \\\n",
              "995  Terasbanggai.com -Bawaslu Banggai akan meningk...   \n",
              "996  BANGGAI RAYA-Bupati Banggai, Ir. H. Amirudin M...   \n",
              "997  Terasbanggai.com- Setelah sempat tertunda masa...   \n",
              "998  Banggai, 25 Januari 2024 – Bertempat di ruang ...   \n",
              "999  BANGGAI RAYA-Bawaslu Kabupaten Banggai menggel...   \n",
              "\n",
              "                                                   lwr  \\\n",
              "995  terasbanggai.com -bawaslu banggai akan meningk...   \n",
              "996  banggai raya-bupati banggai, ir. h. amirudin m...   \n",
              "997  terasbanggai.com- setelah sempat tertunda masa...   \n",
              "998  banggai, 25 januari 2024 – bertempat di ruang ...   \n",
              "999  banggai raya-bawaslu kabupaten banggai menggel...   \n",
              "\n",
              "                                          clean_number  \\\n",
              "995  terasbanggai.com -bawaslu banggai akan meningk...   \n",
              "996  banggai raya-bupati banggai, ir. h. amirudin m...   \n",
              "997  terasbanggai.com- setelah sempat tertunda masa...   \n",
              "998  banggai,  januari  – bertempat di ruang sidang...   \n",
              "999  banggai raya-bawaslu kabupaten banggai menggel...   \n",
              "\n",
              "                                           clean_punct  \\\n",
              "995  terasbanggai com  bawaslu banggai akan meningk...   \n",
              "996  banggai raya bupati banggai ir  h  amirudin mm...   \n",
              "997  terasbanggai com  setelah sempat tertunda masa...   \n",
              "998  banggai  januari    bertempat di ruang sidang ...   \n",
              "999  banggai raya bawaslu kabupaten banggai menggel...   \n",
              "\n",
              "                                       clean_double_ws  \n",
              "995  terasbanggai com bawaslu banggai akan meningka...  \n",
              "996  banggai raya bupati banggai ir h amirudin mm a...  \n",
              "997  terasbanggai com setelah sempat tertunda masa ...  \n",
              "998  banggai januari bertempat di ruang sidang pada...  \n",
              "999  banggai raya bawaslu kabupaten banggai menggel...  "
            ],
            "text/html": [
              "\n",
              "  <div id=\"df-f50d2e94-3650-4030-ae17-a7786692d0c9\" class=\"colab-df-container\">\n",
              "    <div>\n",
              "<style scoped>\n",
              "    .dataframe tbody tr th:only-of-type {\n",
              "        vertical-align: middle;\n",
              "    }\n",
              "\n",
              "    .dataframe tbody tr th {\n",
              "        vertical-align: top;\n",
              "    }\n",
              "\n",
              "    .dataframe thead th {\n",
              "        text-align: right;\n",
              "    }\n",
              "</style>\n",
              "<table border=\"1\" class=\"dataframe\">\n",
              "  <thead>\n",
              "    <tr style=\"text-align: right;\">\n",
              "      <th></th>\n",
              "      <th>target</th>\n",
              "      <th>title</th>\n",
              "      <th>text</th>\n",
              "      <th>lwr</th>\n",
              "      <th>clean_number</th>\n",
              "      <th>clean_punct</th>\n",
              "      <th>clean_double_ws</th>\n",
              "    </tr>\n",
              "  </thead>\n",
              "  <tbody>\n",
              "    <tr>\n",
              "      <th>995</th>\n",
              "      <td>banggai</td>\n",
              "      <td>Jelang Voting Day Bawaslu Banggai Gelar Apel S...</td>\n",
              "      <td>Terasbanggai.com -Bawaslu Banggai akan meningk...</td>\n",
              "      <td>terasbanggai.com -bawaslu banggai akan meningk...</td>\n",
              "      <td>terasbanggai.com -bawaslu banggai akan meningk...</td>\n",
              "      <td>terasbanggai com  bawaslu banggai akan meningk...</td>\n",
              "      <td>terasbanggai com bawaslu banggai akan meningka...</td>\n",
              "    </tr>\n",
              "    <tr>\n",
              "      <th>996</th>\n",
              "      <td>banggai</td>\n",
              "      <td>Bupati Banggai Ajak Warga Download Mobile JKN ...</td>\n",
              "      <td>BANGGAI RAYA-Bupati Banggai, Ir. H. Amirudin M...</td>\n",
              "      <td>banggai raya-bupati banggai, ir. h. amirudin m...</td>\n",
              "      <td>banggai raya-bupati banggai, ir. h. amirudin m...</td>\n",
              "      <td>banggai raya bupati banggai ir  h  amirudin mm...</td>\n",
              "      <td>banggai raya bupati banggai ir h amirudin mm a...</td>\n",
              "    </tr>\n",
              "    <tr>\n",
              "      <th>997</th>\n",
              "      <td>banggai</td>\n",
              "      <td>Banggai Bakal Gunakan Listrik Tenaga Gas, Hari...</td>\n",
              "      <td>Terasbanggai.com- Setelah sempat tertunda masa...</td>\n",
              "      <td>terasbanggai.com- setelah sempat tertunda masa...</td>\n",
              "      <td>terasbanggai.com- setelah sempat tertunda masa...</td>\n",
              "      <td>terasbanggai com  setelah sempat tertunda masa...</td>\n",
              "      <td>terasbanggai com setelah sempat tertunda masa ...</td>\n",
              "    </tr>\n",
              "    <tr>\n",
              "      <th>998</th>\n",
              "      <td>banggai</td>\n",
              "      <td>Asistensi Pengisian SPT Tahunan dan Pemadanan ...</td>\n",
              "      <td>Banggai, 25 Januari 2024 – Bertempat di ruang ...</td>\n",
              "      <td>banggai, 25 januari 2024 – bertempat di ruang ...</td>\n",
              "      <td>banggai,  januari  – bertempat di ruang sidang...</td>\n",
              "      <td>banggai  januari    bertempat di ruang sidang ...</td>\n",
              "      <td>banggai januari bertempat di ruang sidang pada...</td>\n",
              "    </tr>\n",
              "    <tr>\n",
              "      <th>999</th>\n",
              "      <td>banggai</td>\n",
              "      <td>Bawaslu Banggai Gelar Sosialisasi Pencegahan B...</td>\n",
              "      <td>BANGGAI RAYA-Bawaslu Kabupaten Banggai menggel...</td>\n",
              "      <td>banggai raya-bawaslu kabupaten banggai menggel...</td>\n",
              "      <td>banggai raya-bawaslu kabupaten banggai menggel...</td>\n",
              "      <td>banggai raya bawaslu kabupaten banggai menggel...</td>\n",
              "      <td>banggai raya bawaslu kabupaten banggai menggel...</td>\n",
              "    </tr>\n",
              "  </tbody>\n",
              "</table>\n",
              "</div>\n",
              "    <div class=\"colab-df-buttons\">\n",
              "\n",
              "  <div class=\"colab-df-container\">\n",
              "    <button class=\"colab-df-convert\" onclick=\"convertToInteractive('df-f50d2e94-3650-4030-ae17-a7786692d0c9')\"\n",
              "            title=\"Convert this dataframe to an interactive table.\"\n",
              "            style=\"display:none;\">\n",
              "\n",
              "  <svg xmlns=\"http://www.w3.org/2000/svg\" height=\"24px\" viewBox=\"0 -960 960 960\">\n",
              "    <path d=\"M120-120v-720h720v720H120Zm60-500h600v-160H180v160Zm220 220h160v-160H400v160Zm0 220h160v-160H400v160ZM180-400h160v-160H180v160Zm440 0h160v-160H620v160ZM180-180h160v-160H180v160Zm440 0h160v-160H620v160Z\"/>\n",
              "  </svg>\n",
              "    </button>\n",
              "\n",
              "  <style>\n",
              "    .colab-df-container {\n",
              "      display:flex;\n",
              "      gap: 12px;\n",
              "    }\n",
              "\n",
              "    .colab-df-convert {\n",
              "      background-color: #E8F0FE;\n",
              "      border: none;\n",
              "      border-radius: 50%;\n",
              "      cursor: pointer;\n",
              "      display: none;\n",
              "      fill: #1967D2;\n",
              "      height: 32px;\n",
              "      padding: 0 0 0 0;\n",
              "      width: 32px;\n",
              "    }\n",
              "\n",
              "    .colab-df-convert:hover {\n",
              "      background-color: #E2EBFA;\n",
              "      box-shadow: 0px 1px 2px rgba(60, 64, 67, 0.3), 0px 1px 3px 1px rgba(60, 64, 67, 0.15);\n",
              "      fill: #174EA6;\n",
              "    }\n",
              "\n",
              "    .colab-df-buttons div {\n",
              "      margin-bottom: 4px;\n",
              "    }\n",
              "\n",
              "    [theme=dark] .colab-df-convert {\n",
              "      background-color: #3B4455;\n",
              "      fill: #D2E3FC;\n",
              "    }\n",
              "\n",
              "    [theme=dark] .colab-df-convert:hover {\n",
              "      background-color: #434B5C;\n",
              "      box-shadow: 0px 1px 3px 1px rgba(0, 0, 0, 0.15);\n",
              "      filter: drop-shadow(0px 1px 2px rgba(0, 0, 0, 0.3));\n",
              "      fill: #FFFFFF;\n",
              "    }\n",
              "  </style>\n",
              "\n",
              "    <script>\n",
              "      const buttonEl =\n",
              "        document.querySelector('#df-f50d2e94-3650-4030-ae17-a7786692d0c9 button.colab-df-convert');\n",
              "      buttonEl.style.display =\n",
              "        google.colab.kernel.accessAllowed ? 'block' : 'none';\n",
              "\n",
              "      async function convertToInteractive(key) {\n",
              "        const element = document.querySelector('#df-f50d2e94-3650-4030-ae17-a7786692d0c9');\n",
              "        const dataTable =\n",
              "          await google.colab.kernel.invokeFunction('convertToInteractive',\n",
              "                                                    [key], {});\n",
              "        if (!dataTable) return;\n",
              "\n",
              "        const docLinkHtml = 'Like what you see? Visit the ' +\n",
              "          '<a target=\"_blank\" href=https://colab.research.google.com/notebooks/data_table.ipynb>data table notebook</a>'\n",
              "          + ' to learn more about interactive tables.';\n",
              "        element.innerHTML = '';\n",
              "        dataTable['output_type'] = 'display_data';\n",
              "        await google.colab.output.renderOutput(dataTable, element);\n",
              "        const docLink = document.createElement('div');\n",
              "        docLink.innerHTML = docLinkHtml;\n",
              "        element.appendChild(docLink);\n",
              "      }\n",
              "    </script>\n",
              "  </div>\n",
              "\n",
              "\n",
              "<div id=\"df-4ad1e10b-32ee-4618-ba13-268581367524\">\n",
              "  <button class=\"colab-df-quickchart\" onclick=\"quickchart('df-4ad1e10b-32ee-4618-ba13-268581367524')\"\n",
              "            title=\"Suggest charts\"\n",
              "            style=\"display:none;\">\n",
              "\n",
              "<svg xmlns=\"http://www.w3.org/2000/svg\" height=\"24px\"viewBox=\"0 0 24 24\"\n",
              "     width=\"24px\">\n",
              "    <g>\n",
              "        <path d=\"M19 3H5c-1.1 0-2 .9-2 2v14c0 1.1.9 2 2 2h14c1.1 0 2-.9 2-2V5c0-1.1-.9-2-2-2zM9 17H7v-7h2v7zm4 0h-2V7h2v10zm4 0h-2v-4h2v4z\"/>\n",
              "    </g>\n",
              "</svg>\n",
              "  </button>\n",
              "\n",
              "<style>\n",
              "  .colab-df-quickchart {\n",
              "      --bg-color: #E8F0FE;\n",
              "      --fill-color: #1967D2;\n",
              "      --hover-bg-color: #E2EBFA;\n",
              "      --hover-fill-color: #174EA6;\n",
              "      --disabled-fill-color: #AAA;\n",
              "      --disabled-bg-color: #DDD;\n",
              "  }\n",
              "\n",
              "  [theme=dark] .colab-df-quickchart {\n",
              "      --bg-color: #3B4455;\n",
              "      --fill-color: #D2E3FC;\n",
              "      --hover-bg-color: #434B5C;\n",
              "      --hover-fill-color: #FFFFFF;\n",
              "      --disabled-bg-color: #3B4455;\n",
              "      --disabled-fill-color: #666;\n",
              "  }\n",
              "\n",
              "  .colab-df-quickchart {\n",
              "    background-color: var(--bg-color);\n",
              "    border: none;\n",
              "    border-radius: 50%;\n",
              "    cursor: pointer;\n",
              "    display: none;\n",
              "    fill: var(--fill-color);\n",
              "    height: 32px;\n",
              "    padding: 0;\n",
              "    width: 32px;\n",
              "  }\n",
              "\n",
              "  .colab-df-quickchart:hover {\n",
              "    background-color: var(--hover-bg-color);\n",
              "    box-shadow: 0 1px 2px rgba(60, 64, 67, 0.3), 0 1px 3px 1px rgba(60, 64, 67, 0.15);\n",
              "    fill: var(--button-hover-fill-color);\n",
              "  }\n",
              "\n",
              "  .colab-df-quickchart-complete:disabled,\n",
              "  .colab-df-quickchart-complete:disabled:hover {\n",
              "    background-color: var(--disabled-bg-color);\n",
              "    fill: var(--disabled-fill-color);\n",
              "    box-shadow: none;\n",
              "  }\n",
              "\n",
              "  .colab-df-spinner {\n",
              "    border: 2px solid var(--fill-color);\n",
              "    border-color: transparent;\n",
              "    border-bottom-color: var(--fill-color);\n",
              "    animation:\n",
              "      spin 1s steps(1) infinite;\n",
              "  }\n",
              "\n",
              "  @keyframes spin {\n",
              "    0% {\n",
              "      border-color: transparent;\n",
              "      border-bottom-color: var(--fill-color);\n",
              "      border-left-color: var(--fill-color);\n",
              "    }\n",
              "    20% {\n",
              "      border-color: transparent;\n",
              "      border-left-color: var(--fill-color);\n",
              "      border-top-color: var(--fill-color);\n",
              "    }\n",
              "    30% {\n",
              "      border-color: transparent;\n",
              "      border-left-color: var(--fill-color);\n",
              "      border-top-color: var(--fill-color);\n",
              "      border-right-color: var(--fill-color);\n",
              "    }\n",
              "    40% {\n",
              "      border-color: transparent;\n",
              "      border-right-color: var(--fill-color);\n",
              "      border-top-color: var(--fill-color);\n",
              "    }\n",
              "    60% {\n",
              "      border-color: transparent;\n",
              "      border-right-color: var(--fill-color);\n",
              "    }\n",
              "    80% {\n",
              "      border-color: transparent;\n",
              "      border-right-color: var(--fill-color);\n",
              "      border-bottom-color: var(--fill-color);\n",
              "    }\n",
              "    90% {\n",
              "      border-color: transparent;\n",
              "      border-bottom-color: var(--fill-color);\n",
              "    }\n",
              "  }\n",
              "</style>\n",
              "\n",
              "  <script>\n",
              "    async function quickchart(key) {\n",
              "      const quickchartButtonEl =\n",
              "        document.querySelector('#' + key + ' button');\n",
              "      quickchartButtonEl.disabled = true;  // To prevent multiple clicks.\n",
              "      quickchartButtonEl.classList.add('colab-df-spinner');\n",
              "      try {\n",
              "        const charts = await google.colab.kernel.invokeFunction(\n",
              "            'suggestCharts', [key], {});\n",
              "      } catch (error) {\n",
              "        console.error('Error during call to suggestCharts:', error);\n",
              "      }\n",
              "      quickchartButtonEl.classList.remove('colab-df-spinner');\n",
              "      quickchartButtonEl.classList.add('colab-df-quickchart-complete');\n",
              "    }\n",
              "    (() => {\n",
              "      let quickchartButtonEl =\n",
              "        document.querySelector('#df-4ad1e10b-32ee-4618-ba13-268581367524 button');\n",
              "      quickchartButtonEl.style.display =\n",
              "        google.colab.kernel.accessAllowed ? 'block' : 'none';\n",
              "    })();\n",
              "  </script>\n",
              "</div>\n",
              "    </div>\n",
              "  </div>\n"
            ],
            "application/vnd.google.colaboratory.intrinsic+json": {
              "type": "dataframe",
              "summary": "{\n  \"name\": \"df\",\n  \"rows\": 5,\n  \"fields\": [\n    {\n      \"column\": \"target\",\n      \"properties\": {\n        \"dtype\": \"category\",\n        \"num_unique_values\": 1,\n        \"samples\": [\n          \"banggai\"\n        ],\n        \"semantic_type\": \"\",\n        \"description\": \"\"\n      }\n    },\n    {\n      \"column\": \"title\",\n      \"properties\": {\n        \"dtype\": \"string\",\n        \"num_unique_values\": 5,\n        \"samples\": [\n          \"Bupati Banggai Ajak Warga Download Mobile JKN dan Lakukan Skrining Kesehatan\"\n        ],\n        \"semantic_type\": \"\",\n        \"description\": \"\"\n      }\n    },\n    {\n      \"column\": \"text\",\n      \"properties\": {\n        \"dtype\": \"string\",\n        \"num_unique_values\": 5,\n        \"samples\": [\n          \"BANGGAI RAYA-Bupati Banggai, Ir. H. Amirudin MM., AIFO., mengajak kepada semua masyarakat untuk dapat melakukan skrining riwayat kesehatan. Sebab hal ini sangat penting dilakukan untuk mengetahui potensi penyakit yang diderita.\\u201cSkrining kesehatan dapat dilakukan melalui aplikasi Mobile JKN, website BPJS Kesehatan https://webskrining.bpjs-kesehatan.go.id/skrining/index.html atau dapat langsung mendatangi fasilitas kesehatan tingkat pertama yang terdaftar (peserta JKN),\\u201d pesan Bupati Amirudin dalam tayangan video, Rabu 24 Januari 2024.BACA JUGA:Kampanye Tatap Muka di Salodik, Ini Harapan Masyarakat ke RHS Caleg PDIP BanggaiSelanjutnya, orang nomor satu di Kabupaten Banggai itu mengajak kepada semua masyarakat untuk mendownload dan registrasi aplikasi mobile JKN.BACA JUGA:Pelantikan PTPS, Bawaslu Banggai : Tingkatkan Pengawasan PemiluMenurutnya, dengan mendownload aplikasi mobile JKN ini tak lain untuk memudahkan proses pelayanan administrasi kepesertaan jaminan kesehatan nasional tanpa harus datang ke kantor BPJS Kesehatan.BACA JUGA:Baru PDIP, Bawaslu Banggai Minta Parpol Segera Laporkan Data Saksi Pemilu\\u201cAyo segera download aplikasi Mobile JKN dan segera lakukan skrining riwayat kesehatan untuk masyarakat Kabupaten Banggai yang lebih sehat,\\u201d tandasnya. (*)\"\n        ],\n        \"semantic_type\": \"\",\n        \"description\": \"\"\n      }\n    },\n    {\n      \"column\": \"lwr\",\n      \"properties\": {\n        \"dtype\": \"string\",\n        \"num_unique_values\": 5,\n        \"samples\": [\n          \"banggai raya-bupati banggai, ir. h. amirudin mm., aifo., mengajak kepada semua masyarakat untuk dapat melakukan skrining riwayat kesehatan. sebab hal ini sangat penting dilakukan untuk mengetahui potensi penyakit yang diderita.\\u201cskrining kesehatan dapat dilakukan melalui aplikasi mobile jkn, website bpjs kesehatan https://webskrining.bpjs-kesehatan.go.id/skrining/index.html atau dapat langsung mendatangi fasilitas kesehatan tingkat pertama yang terdaftar (peserta jkn),\\u201d pesan bupati amirudin dalam tayangan video, rabu 24 januari 2024.baca juga:kampanye tatap muka di salodik, ini harapan masyarakat ke rhs caleg pdip banggaiselanjutnya, orang nomor satu di kabupaten banggai itu mengajak kepada semua masyarakat untuk mendownload dan registrasi aplikasi mobile jkn.baca juga:pelantikan ptps, bawaslu banggai : tingkatkan pengawasan pemilumenurutnya, dengan mendownload aplikasi mobile jkn ini tak lain untuk memudahkan proses pelayanan administrasi kepesertaan jaminan kesehatan nasional tanpa harus datang ke kantor bpjs kesehatan.baca juga:baru pdip, bawaslu banggai minta parpol segera laporkan data saksi pemilu\\u201cayo segera download aplikasi mobile jkn dan segera lakukan skrining riwayat kesehatan untuk masyarakat kabupaten banggai yang lebih sehat,\\u201d tandasnya. (*)\"\n        ],\n        \"semantic_type\": \"\",\n        \"description\": \"\"\n      }\n    },\n    {\n      \"column\": \"clean_number\",\n      \"properties\": {\n        \"dtype\": \"string\",\n        \"num_unique_values\": 5,\n        \"samples\": [\n          \"banggai raya-bupati banggai, ir. h. amirudin mm., aifo., mengajak kepada semua masyarakat untuk dapat melakukan skrining riwayat kesehatan. sebab hal ini sangat penting dilakukan untuk mengetahui potensi penyakit yang diderita.\\u201cskrining kesehatan dapat dilakukan melalui aplikasi mobile jkn, website bpjs kesehatan https://webskrining.bpjs-kesehatan.go.id/skrining/index.html atau dapat langsung mendatangi fasilitas kesehatan tingkat pertama yang terdaftar (peserta jkn),\\u201d pesan bupati amirudin dalam tayangan video, rabu  januari .baca juga:kampanye tatap muka di salodik, ini harapan masyarakat ke rhs caleg pdip banggaiselanjutnya, orang nomor satu di kabupaten banggai itu mengajak kepada semua masyarakat untuk mendownload dan registrasi aplikasi mobile jkn.baca juga:pelantikan ptps, bawaslu banggai : tingkatkan pengawasan pemilumenurutnya, dengan mendownload aplikasi mobile jkn ini tak lain untuk memudahkan proses pelayanan administrasi kepesertaan jaminan kesehatan nasional tanpa harus datang ke kantor bpjs kesehatan.baca juga:baru pdip, bawaslu banggai minta parpol segera laporkan data saksi pemilu\\u201cayo segera download aplikasi mobile jkn dan segera lakukan skrining riwayat kesehatan untuk masyarakat kabupaten banggai yang lebih sehat,\\u201d tandasnya. (*)\"\n        ],\n        \"semantic_type\": \"\",\n        \"description\": \"\"\n      }\n    },\n    {\n      \"column\": \"clean_punct\",\n      \"properties\": {\n        \"dtype\": \"string\",\n        \"num_unique_values\": 5,\n        \"samples\": [\n          \"banggai raya bupati banggai ir  h  amirudin mm  aifo  mengajak kepada semua masyarakat untuk dapat melakukan skrining riwayat kesehatan  sebab hal ini sangat penting dilakukan untuk mengetahui potensi penyakit yang diderita  skrining kesehatan dapat dilakukan melalui aplikasi mobile jkn website bpjs kesehatan https webskrining bpjs kesehatan go idskriningindex html atau dapat langsung mendatangi fasilitas kesehatan tingkat pertama yang terdaftar peserta jkn  pesan bupati amirudin dalam tayangan video rabu  januari  baca juga kampanye tatap muka di salodik ini harapan masyarakat ke rhs caleg pdip banggaiselanjutnya orang nomor satu di kabupaten banggai itu mengajak kepada semua masyarakat untuk mendownload dan registrasi aplikasi mobile jkn baca juga pelantikan ptps bawaslu banggai   tingkatkan pengawasan pemilumenurutnya dengan mendownload aplikasi mobile jkn ini tak lain untuk memudahkan proses pelayanan administrasi kepesertaan jaminan kesehatan nasional tanpa harus datang ke kantor bpjs kesehatan baca juga baru pdip bawaslu banggai minta parpol segera laporkan data saksi pemilu ayo segera download aplikasi mobile jkn dan segera lakukan skrining riwayat kesehatan untuk masyarakat kabupaten banggai yang lebih sehat  tandasnya   \"\n        ],\n        \"semantic_type\": \"\",\n        \"description\": \"\"\n      }\n    },\n    {\n      \"column\": \"clean_double_ws\",\n      \"properties\": {\n        \"dtype\": \"string\",\n        \"num_unique_values\": 5,\n        \"samples\": [\n          \"banggai raya bupati banggai ir h amirudin mm aifo mengajak kepada semua masyarakat untuk dapat melakukan skrining riwayat kesehatan sebab hal ini sangat penting dilakukan untuk mengetahui potensi penyakit yang diderita skrining kesehatan dapat dilakukan melalui aplikasi mobile jkn website bpjs kesehatan https webskrining bpjs kesehatan go idskriningindex html atau dapat langsung mendatangi fasilitas kesehatan tingkat pertama yang terdaftar peserta jkn pesan bupati amirudin dalam tayangan video rabu januari baca juga kampanye tatap muka di salodik ini harapan masyarakat ke rhs caleg pdip banggaiselanjutnya orang nomor satu di kabupaten banggai itu mengajak kepada semua masyarakat untuk mendownload dan registrasi aplikasi mobile jkn baca juga pelantikan ptps bawaslu banggai tingkatkan pengawasan pemilumenurutnya dengan mendownload aplikasi mobile jkn ini tak lain untuk memudahkan proses pelayanan administrasi kepesertaan jaminan kesehatan nasional tanpa harus datang ke kantor bpjs kesehatan baca juga baru pdip bawaslu banggai minta parpol segera laporkan data saksi pemilu ayo segera download aplikasi mobile jkn dan segera lakukan skrining riwayat kesehatan untuk masyarakat kabupaten banggai yang lebih sehat tandasnya\"\n        ],\n        \"semantic_type\": \"\",\n        \"description\": \"\"\n      }\n    }\n  ]\n}"
            }
          },
          "metadata": {},
          "execution_count": 545
        }
      ]
    },
    {
      "cell_type": "markdown",
      "source": [
        "## Deleting blank (Nan) rows"
      ],
      "metadata": {
        "id": "z6QQEddm20on"
      }
    },
    {
      "cell_type": "code",
      "source": [
        "df = df[df['text'] != '']\n"
      ],
      "metadata": {
        "id": "0U5QLWFSPbLO"
      },
      "execution_count": null,
      "outputs": []
    },
    {
      "cell_type": "code",
      "source": [
        "len(df)"
      ],
      "metadata": {
        "colab": {
          "base_uri": "https://localhost:8080/"
        },
        "id": "33-2HoP03hle",
        "outputId": "f1329fd4-4cbe-4b60-c229-1f6b555716c5"
      },
      "execution_count": null,
      "outputs": [
        {
          "output_type": "execute_result",
          "data": {
            "text/plain": [
              "966"
            ]
          },
          "metadata": {},
          "execution_count": 550
        }
      ]
    },
    {
      "cell_type": "code",
      "source": [
        "row_index = 127  # Index of the row you want to print (Python indexing starts from 0)\n",
        "columns_to_print = ['title', 'text']  # List of column names to display\n",
        "\n",
        "# Use .loc[] to select the row by its index and specify the columns to display\n",
        "row_data = df.loc[row_index, columns_to_print]\n",
        "\n",
        "print(row_data)"
      ],
      "metadata": {
        "id": "8Q7G3AkRP_CP"
      },
      "execution_count": null,
      "outputs": []
    },
    {
      "cell_type": "code",
      "source": [
        "df.head()"
      ],
      "metadata": {
        "id": "gicC0PR3rIJ5"
      },
      "execution_count": null,
      "outputs": []
    },
    {
      "cell_type": "markdown",
      "metadata": {
        "id": "akyZhgQzeZ8I"
      },
      "source": [
        "## Stopword Removal"
      ]
    },
    {
      "cell_type": "markdown",
      "metadata": {
        "id": "K4wdQI-SitWH"
      },
      "source": [
        "### Get custom stopwords"
      ]
    },
    {
      "cell_type": "code",
      "source": [],
      "metadata": {
        "id": "e5LCEQuMhrae"
      },
      "execution_count": null,
      "outputs": []
    },
    {
      "cell_type": "code",
      "source": [
        "url1 = 'https://raw.githubusercontent.com/TaillessTanuki/Berita_Banggai/main/ID-stopwords_banggai_addedwords.csv'\n",
        "df_stopword1 = pd.read_csv(url1, delimiter = \";\",encoding='cp1252')"
      ],
      "metadata": {
        "id": "s67SS5SuKOxZ"
      },
      "execution_count": null,
      "outputs": []
    },
    {
      "cell_type": "code",
      "source": [
        "url2 = 'https://raw.githubusercontent.com/TaillessTanuki/Berita_Banggai/main/ID-Stopwords(MasDevid).csv'\n",
        "df_stopword2 = pd.read_csv(url2, delimiter = \";\",encoding='cp1252')"
      ],
      "metadata": {
        "id": "hAUiXJwX3wK6"
      },
      "execution_count": null,
      "outputs": []
    },
    {
      "cell_type": "code",
      "execution_count": null,
      "metadata": {
        "id": "2K7pfU2Hh9_A"
      },
      "outputs": [],
      "source": [
        "df_stopword.info()"
      ]
    },
    {
      "cell_type": "code",
      "source": [
        "df_stopword"
      ],
      "metadata": {
        "id": "-Z9dEyx8IMV9"
      },
      "execution_count": null,
      "outputs": []
    },
    {
      "cell_type": "code",
      "source": [
        "df.head()"
      ],
      "metadata": {
        "id": "l4WBm9IpPvA7"
      },
      "execution_count": null,
      "outputs": []
    },
    {
      "cell_type": "code",
      "execution_count": null,
      "metadata": {
        "id": "Ubey61YNimwt"
      },
      "outputs": [],
      "source": [
        "custom_stopword1 = list(df_stopword1['stopword'])\n",
        "custom_stopword2 = list(df_stopword2['Stopwords'])"
      ]
    },
    {
      "cell_type": "markdown",
      "metadata": {
        "id": "qjt7FLMViwiU"
      },
      "source": [
        "### Removal"
      ]
    },
    {
      "cell_type": "code",
      "execution_count": null,
      "metadata": {
        "id": "OMhxvMrpef4X"
      },
      "outputs": [],
      "source": [
        "# Prepare stopword remover\n",
        "factory = StopWordRemoverFactory()\n",
        "stopwords = factory.get_stop_words() + custom_stopword\n",
        "print(stopwords)"
      ]
    },
    {
      "cell_type": "code",
      "source": [
        "# using only sastrawy\n",
        "from Sastrawi.StopWordRemover.StopWordRemoverFactory import StopWordRemoverFactory\n",
        "\n",
        "factory = StopWordRemoverFactory()\n",
        "stopwords = factory.get_stop_words() + custom_stopword1 + custom_stopword2"
      ],
      "metadata": {
        "id": "GNEVmdBq8bDz"
      },
      "execution_count": null,
      "outputs": []
    },
    {
      "cell_type": "code",
      "source": [
        "len(stopwords)"
      ],
      "metadata": {
        "colab": {
          "base_uri": "https://localhost:8080/"
        },
        "id": "j6qNtOJbuN05",
        "outputId": "62ce29f6-8551-4c15-fb32-1b319e6ed65b"
      },
      "execution_count": null,
      "outputs": [
        {
          "output_type": "execute_result",
          "data": {
            "text/plain": [
              "944"
            ]
          },
          "metadata": {},
          "execution_count": 646
        }
      ]
    },
    {
      "cell_type": "code",
      "execution_count": null,
      "metadata": {
        "id": "ClUNuzeyjDEt"
      },
      "outputs": [],
      "source": [
        "dictionary = ArrayDictionary(stopwords)\n",
        "stopword = StopWordRemover(dictionary)\n"
      ]
    },
    {
      "cell_type": "code",
      "source": [
        "stopwords"
      ],
      "metadata": {
        "id": "FsxBlFiyPWye"
      },
      "execution_count": null,
      "outputs": []
    },
    {
      "cell_type": "code",
      "execution_count": null,
      "metadata": {
        "id": "OCny9HuTc2UR"
      },
      "outputs": [],
      "source": [
        "def filtering(text):\n",
        "  stop = stopword.remove(text)\n",
        "  return stop"
      ]
    },
    {
      "cell_type": "code",
      "source": [
        "df.head()"
      ],
      "metadata": {
        "id": "obxTS5DcMNWz"
      },
      "execution_count": null,
      "outputs": []
    },
    {
      "cell_type": "code",
      "source": [
        "#df.drop(['filtered'], axis=1, inplace=True)"
      ],
      "metadata": {
        "id": "V5pOuXg_ShOl"
      },
      "execution_count": null,
      "outputs": []
    },
    {
      "cell_type": "code",
      "execution_count": null,
      "metadata": {
        "colab": {
          "base_uri": "https://localhost:8080/"
        },
        "id": "mvjR5IBOjjq6",
        "outputId": "4dde1bf9-3dd2-4d28-edd3-a39883f73612"
      },
      "outputs": [
        {
          "output_type": "execute_result",
          "data": {
            "text/plain": [
              "0      luwuk suasana pasar murah bersubsidi semarak k...\n",
              "1      luwuk film horor piara mayat kreativitasanak m...\n",
              "2      luwuk festival malabot tumbe meriahkankabupate...\n",
              "3      kerja cepat terkoordinir penerbitan sttp luwuk...\n",
              "4      luwuk bawaslu banggaiperkuat koordinasi dengan...\n",
              "                             ...                        \n",
              "995    com bawaslu meningkatkan pengawasannya jelang ...\n",
              "996    raya h mm aifo mengajak semua masyarakat skrin...\n",
              "997    com sempat tertunda uji cobanya kontraktor pro...\n",
              "998    januari bertempat ruang sidang hari kamis wita...\n",
              "999    raya bawaslu menggelar sosialisasi implementas...\n",
              "Name: filtered, Length: 966, dtype: object"
            ]
          },
          "metadata": {},
          "execution_count": 566
        }
      ],
      "source": [
        "df['filtered'] = df['clean_double_ws'].apply(filtering)\n",
        "df['filtered']"
      ]
    },
    {
      "cell_type": "code",
      "source": [
        "df.head()"
      ],
      "metadata": {
        "id": "zzG-hnrhM1zj"
      },
      "execution_count": null,
      "outputs": []
    },
    {
      "cell_type": "code",
      "source": [
        "len(df)"
      ],
      "metadata": {
        "colab": {
          "base_uri": "https://localhost:8080/"
        },
        "id": "eTJ50j30NVy_",
        "outputId": "c5ccddbd-eae8-4987-ea07-679bd5343ba3"
      },
      "execution_count": null,
      "outputs": [
        {
          "output_type": "execute_result",
          "data": {
            "text/plain": [
              "966"
            ]
          },
          "metadata": {},
          "execution_count": 568
        }
      ]
    },
    {
      "cell_type": "code",
      "execution_count": null,
      "metadata": {
        "colab": {
          "base_uri": "https://localhost:8080/"
        },
        "id": "oGkf3aEF1P0G",
        "outputId": "6ea34d2d-91cf-4150-cc7d-b86c2082c7ec"
      },
      "outputs": [
        {
          "output_type": "stream",
          "name": "stdout",
          "text": [
            "banggai raya bupati banggai amirudin meresmikan candi bentar pura kayangan jagat dalem puri milik umat hindu kabupaten banggai khususnya di kecamatan toili pada rabu upacara peresmian pada siang hari ini mencerminkan keharmonisan dan kerukunan antarumat beragama di daerah tersebut peresmian candi bentar pura kayangan jagat dalem puri bukan hanya sebuah seremoni formal tetapi juga sebuah komitmen kita bersama untuk melestarikan dan mempromosikan keberagaman dan warisan budaya yang memperkaya identitas kita sebagai masyarakat banggai ujar bupati amirudin candi bentar pura kayangan jagat dalem puri menjadi simbol keberagaman dan warisan budaya spiritual umat hindu dalam upacara peresmian yang diadakan pada januari bupati amirudin menekankan pentingnya melestarikan dan mempromosikan kekayaan budaya lokal peresmian candi bentar pura kayangan jagat dalem puri dihadiri oleh para pemuka agama hindu tokoh masyarakat dan tamu undangan lainnya acara ini tidak hanya menjadi momen penting bagi umat hindu tetapi juga mengukuhkan semangat toleransi antarumat beragama di kabupaten banggai keberadaan candi bentar ini diharapkan dapat menjadi tempat pemujaan dan refleksi spiritual bagi umat hindu sekaligus menjadi daya tarik wisata religi di daerah ini bupati amirudin mengajak masyarakat untuk bersama sama merawat dan menjaga warisan budaya ini sebagai bagian integral dari identitas kabupaten banggai setelah meresmikan candi tersebut dilanjutkan dengan bupati amirudin menandatangani prasasti candi bentar pura kayangan jagat dalem puri\n",
            "raya meresmikan candi bentar pura kayangan jagat dalem puri milik umat hindu kecamatan toili rabu upacara peresmian siang mencerminkan keharmonisan kerukunan antarumat beragama daerah peresmian candi bentar pura kayangan jagat dalem puri seremoni formal juga komitmen bersama melestarikan mempromosikan keberagaman warisan budaya memperkaya identitas sebagai masyarakat banggai ujar candi bentar pura kayangan jagat dalem puri simbol keberagaman warisan budaya spiritual umat hindu upacara peresmian diadakan januari menekankan melestarikan mempromosikan kekayaan budaya lokal peresmian candi bentar pura kayangan jagat dalem puri dihadiri para pemuka agama hindu tokoh masyarakat tamu undangan acara tidak hanya menjadi momen umat hindu juga mengukuhkan semangat toleransi antarumat beragama banggai keberadaan candi bentar diharapkan menjadi pemujaan refleksi spiritual bagi umat hindu menjadi daya tarik wisata religi di daerah bupati amirudin mengajak masyarakat bersama merawat menjaga warisan budaya ini sebagai integral identitas kabupaten banggai meresmikan candi dilanjutkan bupati amirudin menandatangani prasasti candi bentar pura kayangan jagat dalem puri\n"
          ]
        }
      ],
      "source": [
        "print(df['clean_double_ws'][796])\n",
        "print(df['filtered'][796])"
      ]
    },
    {
      "cell_type": "markdown",
      "metadata": {
        "id": "csdn5fHWjv2W"
      },
      "source": [
        "## Stemming"
      ]
    },
    {
      "cell_type": "code",
      "source": [
        "from Sastrawi.Stemmer.StemmerFactory import StemmerFactory\n",
        "stem_factory = StemmerFactory()\n",
        "stemmer = stem_factory.create_stemmer()"
      ],
      "metadata": {
        "id": "SWezdKP7CWwi"
      },
      "execution_count": null,
      "outputs": []
    },
    {
      "cell_type": "code",
      "execution_count": null,
      "metadata": {
        "id": "xFrbJG4hj6Ug"
      },
      "outputs": [],
      "source": [
        "#factory = StemmerFactory()\n",
        "#stemmer = factory.create_stemmer()"
      ]
    },
    {
      "cell_type": "code",
      "execution_count": null,
      "metadata": {
        "id": "K6yEDY8TkBDG"
      },
      "outputs": [],
      "source": [
        "def stem(text):\n",
        "  return stemmer.stem(text)"
      ]
    },
    {
      "cell_type": "code",
      "source": [
        "df.head()"
      ],
      "metadata": {
        "id": "YbGrSQ2PtpCY"
      },
      "execution_count": null,
      "outputs": []
    },
    {
      "cell_type": "code",
      "execution_count": null,
      "metadata": {
        "colab": {
          "base_uri": "https://localhost:8080/"
        },
        "id": "6dY5qzIEkGZ5",
        "outputId": "c2ee126d-e58b-4b03-99b4-dd96f2172177"
      },
      "outputs": [
        {
          "output_type": "execute_result",
          "data": {
            "text/plain": [
              "0      luwuk suasana pasar murah subsidi semarak hadi...\n",
              "1      luwuk film horor piara mayat kreativitasanak m...\n",
              "2      luwuk festival malabot tumbe meriahkankabupate...\n",
              "3      kerja cepat terkoordinir terbit sttp luwuk rak...\n",
              "4      luwuk bawaslu banggaiperkuat koordinasi dengan...\n",
              "                             ...                        \n",
              "995    com bawaslu tingkat awas jelang tenang awas aw...\n",
              "996    raya h mm aifo ajak semua masyarakat skrining ...\n",
              "997    com sempat tunda uji coba kontraktor proyek pl...\n",
              "998    januari tempat ruang sidang hari kamis wita la...\n",
              "999    raya bawaslu gelar sosialisasi implementasi pe...\n",
              "Name: stemmed, Length: 966, dtype: object"
            ]
          },
          "metadata": {},
          "execution_count": 572
        }
      ],
      "source": [
        "df['stemmed'] = df['filtered'].apply(stem)\n",
        "df['stemmed']"
      ]
    },
    {
      "cell_type": "code",
      "source": [
        "df.head()"
      ],
      "metadata": {
        "id": "8ZrWk5PI6PPH"
      },
      "execution_count": null,
      "outputs": []
    },
    {
      "cell_type": "code",
      "execution_count": null,
      "metadata": {
        "id": "pk7M4kT2B-tx"
      },
      "outputs": [],
      "source": [
        "df.to_csv(\"stemmed_words2_tanpa_token_stopwordk2.csv\", index=False)"
      ]
    },
    {
      "cell_type": "code",
      "source": [
        "# to skip stemming process\n",
        "stemmed_url= 'https://raw.githubusercontent.com/TaillessTanuki/Berita_Banggai/main/stemmed_words2_tanpa_token_stopwordk2.csv'\n",
        "\n",
        "df = pd.read_csv(stemmed_url,encoding='utf-8')\n",
        "\n",
        "df = df.astype(str)"
      ],
      "metadata": {
        "id": "fD_AgotLLULN"
      },
      "execution_count": null,
      "outputs": []
    },
    {
      "cell_type": "code",
      "source": [
        "df.head()\n"
      ],
      "metadata": {
        "colab": {
          "base_uri": "https://localhost:8080/",
          "height": 414
        },
        "id": "rnJ5jbNFL27n",
        "outputId": "f66b1d4f-3b2c-4261-8d39-f916fac31518"
      },
      "execution_count": null,
      "outputs": [
        {
          "output_type": "execute_result",
          "data": {
            "text/plain": [
              "    target                                              title  \\\n",
              "0  banggai  Mobil Sim Keliling Polres Banggai Meriahkan Pa...   \n",
              "1  banggai  Film Horor “Piara Mayat”,  Kreativitas Anak Mu...   \n",
              "2  banggai  Festival Malabot Tumbe 2023 Kembali Meriahkan ...   \n",
              "3  banggai  Rakor Kampanye Damai Pemilu 2024, Polres Bangg...   \n",
              "4  banggai  Bawaslu Banggai Perkuat Koordinasi dengan Panw...   \n",
              "\n",
              "                                                text  \\\n",
              "0  KABAR LUWUK –  Suasana Pasar Murah bersubsidi ...   \n",
              "1  KABAR LUWUK  –  Film Horor“Piara Mayat”,Kreati...   \n",
              "2  KABAR LUWUK  –Festival Malabot Tumbe 2023Kemba...   \n",
              "3  “Kerja Cepat dan Terkoordinir dalam Penerbitan...   \n",
              "4  KABAR LUWUK  –Bawaslu BanggaiPerkuat Koordinas...   \n",
              "\n",
              "                                                 lwr  \\\n",
              "0  kabar luwuk –  suasana pasar murah bersubsidi ...   \n",
              "1  kabar luwuk  –  film horor“piara mayat”,kreati...   \n",
              "2  kabar luwuk  –festival malabot tumbe 2023kemba...   \n",
              "3  “kerja cepat dan terkoordinir dalam penerbitan...   \n",
              "4  kabar luwuk  –bawaslu banggaiperkuat koordinas...   \n",
              "\n",
              "                                        clean_number  \\\n",
              "0  kabar luwuk –  suasana pasar murah bersubsidi ...   \n",
              "1  kabar luwuk  –  film horor“piara mayat”,kreati...   \n",
              "2  kabar luwuk  –festival malabot tumbe kembali m...   \n",
              "3  “kerja cepat dan terkoordinir dalam penerbitan...   \n",
              "4  kabar luwuk  –bawaslu banggaiperkuat koordinas...   \n",
              "\n",
              "                                         clean_punct  \\\n",
              "0  kabar luwuk    suasana pasar murah bersubsidi ...   \n",
              "1  kabar luwuk     film horor piara mayat kreativ...   \n",
              "2  kabar luwuk   festival malabot tumbe kembali m...   \n",
              "3   kerja cepat dan terkoordinir dalam penerbitan...   \n",
              "4  kabar luwuk   bawaslu banggaiperkuat koordinas...   \n",
              "\n",
              "                                     clean_double_ws  \\\n",
              "0  kabar luwuk suasana pasar murah bersubsidi di ...   \n",
              "1  kabar luwuk film horor piara mayat kreativitas...   \n",
              "2  kabar luwuk festival malabot tumbe kembali mer...   \n",
              "3  kerja cepat dan terkoordinir dalam penerbitan ...   \n",
              "4  kabar luwuk bawaslu banggaiperkuat koordinasi ...   \n",
              "\n",
              "                                            filtered  \\\n",
              "0  luwuk suasana pasar murah bersubsidi menjadi l...   \n",
              "1  luwuk film horor piara mayat kreativitasanak m...   \n",
              "2  luwuk festival malabot tumbe meriahkankabupate...   \n",
              "3  kerja cepat terkoordinir penerbitan sttp luwuk...   \n",
              "4  luwuk bawaslu banggaiperkuat koordinasi dengan...   \n",
              "\n",
              "                                             stemmed  \n",
              "0  luwuk suasana pasar murah subsidi jadi lebih s...  \n",
              "1  luwuk film horor piara mayat kreativitasanak m...  \n",
              "2  luwuk festival malabot tumbe meriahkankabupate...  \n",
              "3  kerja cepat terkoordinir terbit sttp luwuk rak...  \n",
              "4  luwuk bawaslu banggaiperkuat koordinasi dengan...  "
            ],
            "text/html": [
              "\n",
              "  <div id=\"df-4cfa9934-d2aa-42ff-aebc-6a3d835d3724\" class=\"colab-df-container\">\n",
              "    <div>\n",
              "<style scoped>\n",
              "    .dataframe tbody tr th:only-of-type {\n",
              "        vertical-align: middle;\n",
              "    }\n",
              "\n",
              "    .dataframe tbody tr th {\n",
              "        vertical-align: top;\n",
              "    }\n",
              "\n",
              "    .dataframe thead th {\n",
              "        text-align: right;\n",
              "    }\n",
              "</style>\n",
              "<table border=\"1\" class=\"dataframe\">\n",
              "  <thead>\n",
              "    <tr style=\"text-align: right;\">\n",
              "      <th></th>\n",
              "      <th>target</th>\n",
              "      <th>title</th>\n",
              "      <th>text</th>\n",
              "      <th>lwr</th>\n",
              "      <th>clean_number</th>\n",
              "      <th>clean_punct</th>\n",
              "      <th>clean_double_ws</th>\n",
              "      <th>filtered</th>\n",
              "      <th>stemmed</th>\n",
              "    </tr>\n",
              "  </thead>\n",
              "  <tbody>\n",
              "    <tr>\n",
              "      <th>0</th>\n",
              "      <td>banggai</td>\n",
              "      <td>Mobil Sim Keliling Polres Banggai Meriahkan Pa...</td>\n",
              "      <td>KABAR LUWUK –  Suasana Pasar Murah bersubsidi ...</td>\n",
              "      <td>kabar luwuk –  suasana pasar murah bersubsidi ...</td>\n",
              "      <td>kabar luwuk –  suasana pasar murah bersubsidi ...</td>\n",
              "      <td>kabar luwuk    suasana pasar murah bersubsidi ...</td>\n",
              "      <td>kabar luwuk suasana pasar murah bersubsidi di ...</td>\n",
              "      <td>luwuk suasana pasar murah bersubsidi menjadi l...</td>\n",
              "      <td>luwuk suasana pasar murah subsidi jadi lebih s...</td>\n",
              "    </tr>\n",
              "    <tr>\n",
              "      <th>1</th>\n",
              "      <td>banggai</td>\n",
              "      <td>Film Horor “Piara Mayat”,  Kreativitas Anak Mu...</td>\n",
              "      <td>KABAR LUWUK  –  Film Horor“Piara Mayat”,Kreati...</td>\n",
              "      <td>kabar luwuk  –  film horor“piara mayat”,kreati...</td>\n",
              "      <td>kabar luwuk  –  film horor“piara mayat”,kreati...</td>\n",
              "      <td>kabar luwuk     film horor piara mayat kreativ...</td>\n",
              "      <td>kabar luwuk film horor piara mayat kreativitas...</td>\n",
              "      <td>luwuk film horor piara mayat kreativitasanak m...</td>\n",
              "      <td>luwuk film horor piara mayat kreativitasanak m...</td>\n",
              "    </tr>\n",
              "    <tr>\n",
              "      <th>2</th>\n",
              "      <td>banggai</td>\n",
              "      <td>Festival Malabot Tumbe 2023 Kembali Meriahkan ...</td>\n",
              "      <td>KABAR LUWUK  –Festival Malabot Tumbe 2023Kemba...</td>\n",
              "      <td>kabar luwuk  –festival malabot tumbe 2023kemba...</td>\n",
              "      <td>kabar luwuk  –festival malabot tumbe kembali m...</td>\n",
              "      <td>kabar luwuk   festival malabot tumbe kembali m...</td>\n",
              "      <td>kabar luwuk festival malabot tumbe kembali mer...</td>\n",
              "      <td>luwuk festival malabot tumbe meriahkankabupate...</td>\n",
              "      <td>luwuk festival malabot tumbe meriahkankabupate...</td>\n",
              "    </tr>\n",
              "    <tr>\n",
              "      <th>3</th>\n",
              "      <td>banggai</td>\n",
              "      <td>Rakor Kampanye Damai Pemilu 2024, Polres Bangg...</td>\n",
              "      <td>“Kerja Cepat dan Terkoordinir dalam Penerbitan...</td>\n",
              "      <td>“kerja cepat dan terkoordinir dalam penerbitan...</td>\n",
              "      <td>“kerja cepat dan terkoordinir dalam penerbitan...</td>\n",
              "      <td>kerja cepat dan terkoordinir dalam penerbitan...</td>\n",
              "      <td>kerja cepat dan terkoordinir dalam penerbitan ...</td>\n",
              "      <td>kerja cepat terkoordinir penerbitan sttp luwuk...</td>\n",
              "      <td>kerja cepat terkoordinir terbit sttp luwuk rak...</td>\n",
              "    </tr>\n",
              "    <tr>\n",
              "      <th>4</th>\n",
              "      <td>banggai</td>\n",
              "      <td>Bawaslu Banggai Perkuat Koordinasi dengan Panw...</td>\n",
              "      <td>KABAR LUWUK  –Bawaslu BanggaiPerkuat Koordinas...</td>\n",
              "      <td>kabar luwuk  –bawaslu banggaiperkuat koordinas...</td>\n",
              "      <td>kabar luwuk  –bawaslu banggaiperkuat koordinas...</td>\n",
              "      <td>kabar luwuk   bawaslu banggaiperkuat koordinas...</td>\n",
              "      <td>kabar luwuk bawaslu banggaiperkuat koordinasi ...</td>\n",
              "      <td>luwuk bawaslu banggaiperkuat koordinasi dengan...</td>\n",
              "      <td>luwuk bawaslu banggaiperkuat koordinasi dengan...</td>\n",
              "    </tr>\n",
              "  </tbody>\n",
              "</table>\n",
              "</div>\n",
              "    <div class=\"colab-df-buttons\">\n",
              "\n",
              "  <div class=\"colab-df-container\">\n",
              "    <button class=\"colab-df-convert\" onclick=\"convertToInteractive('df-4cfa9934-d2aa-42ff-aebc-6a3d835d3724')\"\n",
              "            title=\"Convert this dataframe to an interactive table.\"\n",
              "            style=\"display:none;\">\n",
              "\n",
              "  <svg xmlns=\"http://www.w3.org/2000/svg\" height=\"24px\" viewBox=\"0 -960 960 960\">\n",
              "    <path d=\"M120-120v-720h720v720H120Zm60-500h600v-160H180v160Zm220 220h160v-160H400v160Zm0 220h160v-160H400v160ZM180-400h160v-160H180v160Zm440 0h160v-160H620v160ZM180-180h160v-160H180v160Zm440 0h160v-160H620v160Z\"/>\n",
              "  </svg>\n",
              "    </button>\n",
              "\n",
              "  <style>\n",
              "    .colab-df-container {\n",
              "      display:flex;\n",
              "      gap: 12px;\n",
              "    }\n",
              "\n",
              "    .colab-df-convert {\n",
              "      background-color: #E8F0FE;\n",
              "      border: none;\n",
              "      border-radius: 50%;\n",
              "      cursor: pointer;\n",
              "      display: none;\n",
              "      fill: #1967D2;\n",
              "      height: 32px;\n",
              "      padding: 0 0 0 0;\n",
              "      width: 32px;\n",
              "    }\n",
              "\n",
              "    .colab-df-convert:hover {\n",
              "      background-color: #E2EBFA;\n",
              "      box-shadow: 0px 1px 2px rgba(60, 64, 67, 0.3), 0px 1px 3px 1px rgba(60, 64, 67, 0.15);\n",
              "      fill: #174EA6;\n",
              "    }\n",
              "\n",
              "    .colab-df-buttons div {\n",
              "      margin-bottom: 4px;\n",
              "    }\n",
              "\n",
              "    [theme=dark] .colab-df-convert {\n",
              "      background-color: #3B4455;\n",
              "      fill: #D2E3FC;\n",
              "    }\n",
              "\n",
              "    [theme=dark] .colab-df-convert:hover {\n",
              "      background-color: #434B5C;\n",
              "      box-shadow: 0px 1px 3px 1px rgba(0, 0, 0, 0.15);\n",
              "      filter: drop-shadow(0px 1px 2px rgba(0, 0, 0, 0.3));\n",
              "      fill: #FFFFFF;\n",
              "    }\n",
              "  </style>\n",
              "\n",
              "    <script>\n",
              "      const buttonEl =\n",
              "        document.querySelector('#df-4cfa9934-d2aa-42ff-aebc-6a3d835d3724 button.colab-df-convert');\n",
              "      buttonEl.style.display =\n",
              "        google.colab.kernel.accessAllowed ? 'block' : 'none';\n",
              "\n",
              "      async function convertToInteractive(key) {\n",
              "        const element = document.querySelector('#df-4cfa9934-d2aa-42ff-aebc-6a3d835d3724');\n",
              "        const dataTable =\n",
              "          await google.colab.kernel.invokeFunction('convertToInteractive',\n",
              "                                                    [key], {});\n",
              "        if (!dataTable) return;\n",
              "\n",
              "        const docLinkHtml = 'Like what you see? Visit the ' +\n",
              "          '<a target=\"_blank\" href=https://colab.research.google.com/notebooks/data_table.ipynb>data table notebook</a>'\n",
              "          + ' to learn more about interactive tables.';\n",
              "        element.innerHTML = '';\n",
              "        dataTable['output_type'] = 'display_data';\n",
              "        await google.colab.output.renderOutput(dataTable, element);\n",
              "        const docLink = document.createElement('div');\n",
              "        docLink.innerHTML = docLinkHtml;\n",
              "        element.appendChild(docLink);\n",
              "      }\n",
              "    </script>\n",
              "  </div>\n",
              "\n",
              "\n",
              "<div id=\"df-121845d6-d777-4eda-bfc9-bf0c7a06498b\">\n",
              "  <button class=\"colab-df-quickchart\" onclick=\"quickchart('df-121845d6-d777-4eda-bfc9-bf0c7a06498b')\"\n",
              "            title=\"Suggest charts\"\n",
              "            style=\"display:none;\">\n",
              "\n",
              "<svg xmlns=\"http://www.w3.org/2000/svg\" height=\"24px\"viewBox=\"0 0 24 24\"\n",
              "     width=\"24px\">\n",
              "    <g>\n",
              "        <path d=\"M19 3H5c-1.1 0-2 .9-2 2v14c0 1.1.9 2 2 2h14c1.1 0 2-.9 2-2V5c0-1.1-.9-2-2-2zM9 17H7v-7h2v7zm4 0h-2V7h2v10zm4 0h-2v-4h2v4z\"/>\n",
              "    </g>\n",
              "</svg>\n",
              "  </button>\n",
              "\n",
              "<style>\n",
              "  .colab-df-quickchart {\n",
              "      --bg-color: #E8F0FE;\n",
              "      --fill-color: #1967D2;\n",
              "      --hover-bg-color: #E2EBFA;\n",
              "      --hover-fill-color: #174EA6;\n",
              "      --disabled-fill-color: #AAA;\n",
              "      --disabled-bg-color: #DDD;\n",
              "  }\n",
              "\n",
              "  [theme=dark] .colab-df-quickchart {\n",
              "      --bg-color: #3B4455;\n",
              "      --fill-color: #D2E3FC;\n",
              "      --hover-bg-color: #434B5C;\n",
              "      --hover-fill-color: #FFFFFF;\n",
              "      --disabled-bg-color: #3B4455;\n",
              "      --disabled-fill-color: #666;\n",
              "  }\n",
              "\n",
              "  .colab-df-quickchart {\n",
              "    background-color: var(--bg-color);\n",
              "    border: none;\n",
              "    border-radius: 50%;\n",
              "    cursor: pointer;\n",
              "    display: none;\n",
              "    fill: var(--fill-color);\n",
              "    height: 32px;\n",
              "    padding: 0;\n",
              "    width: 32px;\n",
              "  }\n",
              "\n",
              "  .colab-df-quickchart:hover {\n",
              "    background-color: var(--hover-bg-color);\n",
              "    box-shadow: 0 1px 2px rgba(60, 64, 67, 0.3), 0 1px 3px 1px rgba(60, 64, 67, 0.15);\n",
              "    fill: var(--button-hover-fill-color);\n",
              "  }\n",
              "\n",
              "  .colab-df-quickchart-complete:disabled,\n",
              "  .colab-df-quickchart-complete:disabled:hover {\n",
              "    background-color: var(--disabled-bg-color);\n",
              "    fill: var(--disabled-fill-color);\n",
              "    box-shadow: none;\n",
              "  }\n",
              "\n",
              "  .colab-df-spinner {\n",
              "    border: 2px solid var(--fill-color);\n",
              "    border-color: transparent;\n",
              "    border-bottom-color: var(--fill-color);\n",
              "    animation:\n",
              "      spin 1s steps(1) infinite;\n",
              "  }\n",
              "\n",
              "  @keyframes spin {\n",
              "    0% {\n",
              "      border-color: transparent;\n",
              "      border-bottom-color: var(--fill-color);\n",
              "      border-left-color: var(--fill-color);\n",
              "    }\n",
              "    20% {\n",
              "      border-color: transparent;\n",
              "      border-left-color: var(--fill-color);\n",
              "      border-top-color: var(--fill-color);\n",
              "    }\n",
              "    30% {\n",
              "      border-color: transparent;\n",
              "      border-left-color: var(--fill-color);\n",
              "      border-top-color: var(--fill-color);\n",
              "      border-right-color: var(--fill-color);\n",
              "    }\n",
              "    40% {\n",
              "      border-color: transparent;\n",
              "      border-right-color: var(--fill-color);\n",
              "      border-top-color: var(--fill-color);\n",
              "    }\n",
              "    60% {\n",
              "      border-color: transparent;\n",
              "      border-right-color: var(--fill-color);\n",
              "    }\n",
              "    80% {\n",
              "      border-color: transparent;\n",
              "      border-right-color: var(--fill-color);\n",
              "      border-bottom-color: var(--fill-color);\n",
              "    }\n",
              "    90% {\n",
              "      border-color: transparent;\n",
              "      border-bottom-color: var(--fill-color);\n",
              "    }\n",
              "  }\n",
              "</style>\n",
              "\n",
              "  <script>\n",
              "    async function quickchart(key) {\n",
              "      const quickchartButtonEl =\n",
              "        document.querySelector('#' + key + ' button');\n",
              "      quickchartButtonEl.disabled = true;  // To prevent multiple clicks.\n",
              "      quickchartButtonEl.classList.add('colab-df-spinner');\n",
              "      try {\n",
              "        const charts = await google.colab.kernel.invokeFunction(\n",
              "            'suggestCharts', [key], {});\n",
              "      } catch (error) {\n",
              "        console.error('Error during call to suggestCharts:', error);\n",
              "      }\n",
              "      quickchartButtonEl.classList.remove('colab-df-spinner');\n",
              "      quickchartButtonEl.classList.add('colab-df-quickchart-complete');\n",
              "    }\n",
              "    (() => {\n",
              "      let quickchartButtonEl =\n",
              "        document.querySelector('#df-121845d6-d777-4eda-bfc9-bf0c7a06498b button');\n",
              "      quickchartButtonEl.style.display =\n",
              "        google.colab.kernel.accessAllowed ? 'block' : 'none';\n",
              "    })();\n",
              "  </script>\n",
              "</div>\n",
              "    </div>\n",
              "  </div>\n"
            ],
            "application/vnd.google.colaboratory.intrinsic+json": {
              "type": "dataframe",
              "variable_name": "df",
              "summary": "{\n  \"name\": \"df\",\n  \"rows\": 975,\n  \"fields\": [\n    {\n      \"column\": \"target\",\n      \"properties\": {\n        \"dtype\": \"category\",\n        \"num_unique_values\": 1,\n        \"samples\": [\n          \"banggai\"\n        ],\n        \"semantic_type\": \"\",\n        \"description\": \"\"\n      }\n    },\n    {\n      \"column\": \"title\",\n      \"properties\": {\n        \"dtype\": \"string\",\n        \"num_unique_values\": 975,\n        \"samples\": [\n          \"Polres Banggai Perluas Layanan SKCK Hingga Larut Malam, Masyarakat Dapat Manfaatkan Kemudahan Pengurusan bagi Para Lulus PPPK\"\n        ],\n        \"semantic_type\": \"\",\n        \"description\": \"\"\n      }\n    },\n    {\n      \"column\": \"text\",\n      \"properties\": {\n        \"dtype\": \"string\",\n        \"num_unique_values\": 958,\n        \"samples\": [\n          \"BANGGAI RAYA- Bupati Banggai Amirudin mengikuti kegiatan wawancara Paritrana Award Tingkat Provinsi Sulawesi Tengah dengan nominasi penghargaan Jaminan Sosial Ketenagakerjaan kategori nominasi pemerintah kabupaten/kota, pada Selasa (27/2/2024), bertempat di Hotel Aston, Palu.Paritrana Award merupakan penghargaan yang diberikan pemerintah pusat kepada pemerintah daerah, dan perusahaan badan usaha yang memiliki kepedulian (awareness) tinggi, dan citra positif terhadap program jaminan sosial ketenagakerjaan.Pada kesempatan tersebut, Bupati Amirudin memaparkan kebijakan pemerintah daerah terkait implementasi Program Jaminan Sosial Ketenagakerjaan, yang merupakan bagian dari upaya menindaklanjuti Instruksi Presiden (INPRES) Nomor 2 Tahun 2021 tentang optimalisasi pelaksanaan program jaminan sosial ketenagakerjaan.BACA JUGA:Pemilu 2024, Bali Mang Melangkah ke DPRD SultengSebagai bentuk keseriusan, lanjut Bupati Amirudin, Pemkab Banggai menindaklanjuti Inpres Nomor 2 Tahun 2021 tersebut dengan mengeluarkan Peraturan Bupati (Perbup) Nomor 32 Tahun 2021 tentang pelaksanaan program Jaminan Sosial Ketenagakerjaan di daerah dan Keputusan Bupati Banggai Nomor 560/935/NAKERTRANS tentang tim koordinasi pembinaan dan pemantauan terhadap pelaksanaan program BPJS Ketenagakerjaan di Kabupaten Banggai.Tidak hanya sampai di situ, upaya penguatan regulasi daerah dan perlindungan pekerja tersebut, maka ditingkatkan status regulasi dari Peraturan Bupati (Perbup) menjadi Peraturan Daerah (Perda) dengan ditetapkannya Perda Nomor 9 Tahun 2023 tentang Optimalisasi Penyelenggaraan Program Jaminan Sosial Ketenagakerjaan.BACA JUGA:Tak Terima Diberhentikan, Sekdes Segel Kantor Desa Solan BaruUntuk tahun 2023 melalui APBD telah dianggarkan iuran kepesertaan BPJS Ketenagakerjaan untuk program Jaminan Kecelakaan Kerja (JKK) dan Jaminan Kematian (JKM) bagi 13.765 orang tenaga kerja.Keterlibatan Bupati Banggai dalam wawancara ini menegaskan komitmen Pemerintah Kabupaten Banggai dalam memberikan perlindungan sosial yang memadai bagi para tenaga kerja di wilayah tersebut.Presentasi yang disampaikan oleh Bupati Amirudin memberikan gambaran yang jelas mengenai upaya konkret yang telah dilakukan untuk meningkatkan kesejahteraan dan keamanan sosial bagi masyarakat Banggai.Adapun yang menjadi tim penilai kegiatan ini terdiri dari Setda Provinsi, Dra. Novalina, MM., Kepala BPJS Ketenagakerjaan Provinsi Sulawesi Tengah, A. Syamsul Rijal, Kadis Nakertrans Provinsi, Drs. Arnould Firdaus, MT, Ahli ekonomi, Mohammad Ahlis Djirimu, SE, DEA.Phd, Ahli Kebijakan Publik : Dr.Drs Muzakir Tawil. M.Si, Ahli Hukum, Dr. H. Abdur Rasyid thalib S.H, Ahli Jaminan Sosial, Drs.H.Arifuddin Bidin, Ketua DPD APINDO, H. Achrul Udaya, dan Serikat Buruh, Karlan ladandu.BACA JUGA:Asia Muslim Charity Foundation Luncurkan Kapal Kemanusiaan untuk Perairan SultengKehadiran Bupati Banggai dalam acara ini menandai langkah nyata dalam membangun sistem jaminan sosial yang inklusif dan berkeadilan bagi seluruh masyarakat Kabupaten Banggai.**\"\n        ],\n        \"semantic_type\": \"\",\n        \"description\": \"\"\n      }\n    },\n    {\n      \"column\": \"lwr\",\n      \"properties\": {\n        \"dtype\": \"string\",\n        \"num_unique_values\": 958,\n        \"samples\": [\n          \"banggai raya- bupati banggai amirudin mengikuti kegiatan wawancara paritrana award tingkat provinsi sulawesi tengah dengan nominasi penghargaan jaminan sosial ketenagakerjaan kategori nominasi pemerintah kabupaten/kota, pada selasa (27/2/2024), bertempat di hotel aston, palu.paritrana award merupakan penghargaan yang diberikan pemerintah pusat kepada pemerintah daerah, dan perusahaan badan usaha yang memiliki kepedulian (awareness) tinggi, dan citra positif terhadap program jaminan sosial ketenagakerjaan.pada kesempatan tersebut, bupati amirudin memaparkan kebijakan pemerintah daerah terkait implementasi program jaminan sosial ketenagakerjaan, yang merupakan bagian dari upaya menindaklanjuti instruksi presiden (inpres) nomor 2 tahun 2021 tentang optimalisasi pelaksanaan program jaminan sosial ketenagakerjaan.baca juga:pemilu 2024, bali mang melangkah ke dprd sultengsebagai bentuk keseriusan, lanjut bupati amirudin, pemkab banggai menindaklanjuti inpres nomor 2 tahun 2021 tersebut dengan mengeluarkan peraturan bupati (perbup) nomor 32 tahun 2021 tentang pelaksanaan program jaminan sosial ketenagakerjaan di daerah dan keputusan bupati banggai nomor 560/935/nakertrans tentang tim koordinasi pembinaan dan pemantauan terhadap pelaksanaan program bpjs ketenagakerjaan di kabupaten banggai.tidak hanya sampai di situ, upaya penguatan regulasi daerah dan perlindungan pekerja tersebut, maka ditingkatkan status regulasi dari peraturan bupati (perbup) menjadi peraturan daerah (perda) dengan ditetapkannya perda nomor 9 tahun 2023 tentang optimalisasi penyelenggaraan program jaminan sosial ketenagakerjaan.baca juga:tak terima diberhentikan, sekdes segel kantor desa solan baruuntuk tahun 2023 melalui apbd telah dianggarkan iuran kepesertaan bpjs ketenagakerjaan untuk program jaminan kecelakaan kerja (jkk) dan jaminan kematian (jkm) bagi 13.765 orang tenaga kerja.keterlibatan bupati banggai dalam wawancara ini menegaskan komitmen pemerintah kabupaten banggai dalam memberikan perlindungan sosial yang memadai bagi para tenaga kerja di wilayah tersebut.presentasi yang disampaikan oleh bupati amirudin memberikan gambaran yang jelas mengenai upaya konkret yang telah dilakukan untuk meningkatkan kesejahteraan dan keamanan sosial bagi masyarakat banggai.adapun yang menjadi tim penilai kegiatan ini terdiri dari setda provinsi, dra. novalina, mm., kepala bpjs ketenagakerjaan provinsi sulawesi tengah, a. syamsul rijal, kadis nakertrans provinsi, drs. arnould firdaus, mt, ahli ekonomi, mohammad ahlis djirimu, se, dea.phd, ahli kebijakan publik : dr.drs muzakir tawil. m.si, ahli hukum, dr. h. abdur rasyid thalib s.h, ahli jaminan sosial, drs.h.arifuddin bidin, ketua dpd apindo, h. achrul udaya, dan serikat buruh, karlan ladandu.baca juga:asia muslim charity foundation luncurkan kapal kemanusiaan untuk perairan sultengkehadiran bupati banggai dalam acara ini menandai langkah nyata dalam membangun sistem jaminan sosial yang inklusif dan berkeadilan bagi seluruh masyarakat kabupaten banggai.**\"\n        ],\n        \"semantic_type\": \"\",\n        \"description\": \"\"\n      }\n    },\n    {\n      \"column\": \"clean_number\",\n      \"properties\": {\n        \"dtype\": \"string\",\n        \"num_unique_values\": 958,\n        \"samples\": [\n          \"banggai raya- bupati banggai amirudin mengikuti kegiatan wawancara paritrana award tingkat provinsi sulawesi tengah dengan nominasi penghargaan jaminan sosial ketenagakerjaan kategori nominasi pemerintah kabupaten/kota, pada selasa (//), bertempat di hotel aston, palu.paritrana award merupakan penghargaan yang diberikan pemerintah pusat kepada pemerintah daerah, dan perusahaan badan usaha yang memiliki kepedulian (awareness) tinggi, dan citra positif terhadap program jaminan sosial ketenagakerjaan.pada kesempatan tersebut, bupati amirudin memaparkan kebijakan pemerintah daerah terkait implementasi program jaminan sosial ketenagakerjaan, yang merupakan bagian dari upaya menindaklanjuti instruksi presiden (inpres) nomor  tahun  tentang optimalisasi pelaksanaan program jaminan sosial ketenagakerjaan.baca juga:pemilu , bali mang melangkah ke dprd sultengsebagai bentuk keseriusan, lanjut bupati amirudin, pemkab banggai menindaklanjuti inpres nomor  tahun  tersebut dengan mengeluarkan peraturan bupati (perbup) nomor  tahun  tentang pelaksanaan program jaminan sosial ketenagakerjaan di daerah dan keputusan bupati banggai nomor //nakertrans tentang tim koordinasi pembinaan dan pemantauan terhadap pelaksanaan program bpjs ketenagakerjaan di kabupaten banggai.tidak hanya sampai di situ, upaya penguatan regulasi daerah dan perlindungan pekerja tersebut, maka ditingkatkan status regulasi dari peraturan bupati (perbup) menjadi peraturan daerah (perda) dengan ditetapkannya perda nomor  tahun  tentang optimalisasi penyelenggaraan program jaminan sosial ketenagakerjaan.baca juga:tak terima diberhentikan, sekdes segel kantor desa solan baruuntuk tahun  melalui apbd telah dianggarkan iuran kepesertaan bpjs ketenagakerjaan untuk program jaminan kecelakaan kerja (jkk) dan jaminan kematian (jkm) bagi . orang tenaga kerja.keterlibatan bupati banggai dalam wawancara ini menegaskan komitmen pemerintah kabupaten banggai dalam memberikan perlindungan sosial yang memadai bagi para tenaga kerja di wilayah tersebut.presentasi yang disampaikan oleh bupati amirudin memberikan gambaran yang jelas mengenai upaya konkret yang telah dilakukan untuk meningkatkan kesejahteraan dan keamanan sosial bagi masyarakat banggai.adapun yang menjadi tim penilai kegiatan ini terdiri dari setda provinsi, dra. novalina, mm., kepala bpjs ketenagakerjaan provinsi sulawesi tengah, a. syamsul rijal, kadis nakertrans provinsi, drs. arnould firdaus, mt, ahli ekonomi, mohammad ahlis djirimu, se, dea.phd, ahli kebijakan publik : dr.drs muzakir tawil. m.si, ahli hukum, dr. h. abdur rasyid thalib s.h, ahli jaminan sosial, drs.h.arifuddin bidin, ketua dpd apindo, h. achrul udaya, dan serikat buruh, karlan ladandu.baca juga:asia muslim charity foundation luncurkan kapal kemanusiaan untuk perairan sultengkehadiran bupati banggai dalam acara ini menandai langkah nyata dalam membangun sistem jaminan sosial yang inklusif dan berkeadilan bagi seluruh masyarakat kabupaten banggai.**\"\n        ],\n        \"semantic_type\": \"\",\n        \"description\": \"\"\n      }\n    },\n    {\n      \"column\": \"clean_punct\",\n      \"properties\": {\n        \"dtype\": \"string\",\n        \"num_unique_values\": 958,\n        \"samples\": [\n          \"banggai raya  bupati banggai amirudin mengikuti kegiatan wawancara paritrana award tingkat provinsi sulawesi tengah dengan nominasi penghargaan jaminan sosial ketenagakerjaan kategori nominasi pemerintah kabupatenkota pada selasa  bertempat di hotel aston palu paritrana award merupakan penghargaan yang diberikan pemerintah pusat kepada pemerintah daerah dan perusahaan badan usaha yang memiliki kepedulian awareness tinggi dan citra positif terhadap program jaminan sosial ketenagakerjaan pada kesempatan tersebut bupati amirudin memaparkan kebijakan pemerintah daerah terkait implementasi program jaminan sosial ketenagakerjaan yang merupakan bagian dari upaya menindaklanjuti instruksi presiden inpres nomor  tahun  tentang optimalisasi pelaksanaan program jaminan sosial ketenagakerjaan baca juga pemilu  bali mang melangkah ke dprd sultengsebagai bentuk keseriusan lanjut bupati amirudin pemkab banggai menindaklanjuti inpres nomor  tahun  tersebut dengan mengeluarkan peraturan bupati perbup nomor  tahun  tentang pelaksanaan program jaminan sosial ketenagakerjaan di daerah dan keputusan bupati banggai nomor nakertrans tentang tim koordinasi pembinaan dan pemantauan terhadap pelaksanaan program bpjs ketenagakerjaan di kabupaten banggai tidak hanya sampai di situ upaya penguatan regulasi daerah dan perlindungan pekerja tersebut maka ditingkatkan status regulasi dari peraturan bupati perbup menjadi peraturan daerah perda dengan ditetapkannya perda nomor  tahun  tentang optimalisasi penyelenggaraan program jaminan sosial ketenagakerjaan baca juga tak terima diberhentikan sekdes segel kantor desa solan baruuntuk tahun  melalui apbd telah dianggarkan iuran kepesertaan bpjs ketenagakerjaan untuk program jaminan kecelakaan kerja jkk dan jaminan kematian jkm bagi   orang tenaga kerja keterlibatan bupati banggai dalam wawancara ini menegaskan komitmen pemerintah kabupaten banggai dalam memberikan perlindungan sosial yang memadai bagi para tenaga kerja di wilayah tersebut presentasi yang disampaikan oleh bupati amirudin memberikan gambaran yang jelas mengenai upaya konkret yang telah dilakukan untuk meningkatkan kesejahteraan dan keamanan sosial bagi masyarakat banggai adapun yang menjadi tim penilai kegiatan ini terdiri dari setda provinsi dra  novalina mm  kepala bpjs ketenagakerjaan provinsi sulawesi tengah a  syamsul rijal kadis nakertrans provinsi drs  arnould firdaus mt ahli ekonomi mohammad ahlis djirimu se dea phd ahli kebijakan publik   dr drs muzakir tawil  m si ahli hukum dr  h  abdur rasyid thalib s h ahli jaminan sosial drs h arifuddin bidin ketua dpd apindo h  achrul udaya dan serikat buruh karlan ladandu baca juga asia muslim charity foundation luncurkan kapal kemanusiaan untuk perairan sultengkehadiran bupati banggai dalam acara ini menandai langkah nyata dalam membangun sistem jaminan sosial yang inklusif dan berkeadilan bagi seluruh masyarakat kabupaten banggai   \"\n        ],\n        \"semantic_type\": \"\",\n        \"description\": \"\"\n      }\n    },\n    {\n      \"column\": \"clean_double_ws\",\n      \"properties\": {\n        \"dtype\": \"string\",\n        \"num_unique_values\": 957,\n        \"samples\": [\n          \"banggai raya bupati banggai amirudin mengikuti kegiatan wawancara paritrana award tingkat provinsi sulawesi tengah dengan nominasi penghargaan jaminan sosial ketenagakerjaan kategori nominasi pemerintah kabupatenkota pada selasa bertempat di hotel aston palu paritrana award merupakan penghargaan yang diberikan pemerintah pusat kepada pemerintah daerah dan perusahaan badan usaha yang memiliki kepedulian awareness tinggi dan citra positif terhadap program jaminan sosial ketenagakerjaan pada kesempatan tersebut bupati amirudin memaparkan kebijakan pemerintah daerah terkait implementasi program jaminan sosial ketenagakerjaan yang merupakan bagian dari upaya menindaklanjuti instruksi presiden inpres nomor tahun tentang optimalisasi pelaksanaan program jaminan sosial ketenagakerjaan baca juga pemilu bali mang melangkah ke dprd sultengsebagai bentuk keseriusan lanjut bupati amirudin pemkab banggai menindaklanjuti inpres nomor tahun tersebut dengan mengeluarkan peraturan bupati perbup nomor tahun tentang pelaksanaan program jaminan sosial ketenagakerjaan di daerah dan keputusan bupati banggai nomor nakertrans tentang tim koordinasi pembinaan dan pemantauan terhadap pelaksanaan program bpjs ketenagakerjaan di kabupaten banggai tidak hanya sampai di situ upaya penguatan regulasi daerah dan perlindungan pekerja tersebut maka ditingkatkan status regulasi dari peraturan bupati perbup menjadi peraturan daerah perda dengan ditetapkannya perda nomor tahun tentang optimalisasi penyelenggaraan program jaminan sosial ketenagakerjaan baca juga tak terima diberhentikan sekdes segel kantor desa solan baruuntuk tahun melalui apbd telah dianggarkan iuran kepesertaan bpjs ketenagakerjaan untuk program jaminan kecelakaan kerja jkk dan jaminan kematian jkm bagi orang tenaga kerja keterlibatan bupati banggai dalam wawancara ini menegaskan komitmen pemerintah kabupaten banggai dalam memberikan perlindungan sosial yang memadai bagi para tenaga kerja di wilayah tersebut presentasi yang disampaikan oleh bupati amirudin memberikan gambaran yang jelas mengenai upaya konkret yang telah dilakukan untuk meningkatkan kesejahteraan dan keamanan sosial bagi masyarakat banggai adapun yang menjadi tim penilai kegiatan ini terdiri dari setda provinsi dra novalina mm kepala bpjs ketenagakerjaan provinsi sulawesi tengah a syamsul rijal kadis nakertrans provinsi drs arnould firdaus mt ahli ekonomi mohammad ahlis djirimu se dea phd ahli kebijakan publik dr drs muzakir tawil m si ahli hukum dr h abdur rasyid thalib s h ahli jaminan sosial drs h arifuddin bidin ketua dpd apindo h achrul udaya dan serikat buruh karlan ladandu baca juga asia muslim charity foundation luncurkan kapal kemanusiaan untuk perairan sultengkehadiran bupati banggai dalam acara ini menandai langkah nyata dalam membangun sistem jaminan sosial yang inklusif dan berkeadilan bagi seluruh masyarakat kabupaten banggai\"\n        ],\n        \"semantic_type\": \"\",\n        \"description\": \"\"\n      }\n    },\n    {\n      \"column\": \"filtered\",\n      \"properties\": {\n        \"dtype\": \"string\",\n        \"num_unique_values\": 957,\n        \"samples\": [\n          \"raya amirudin mengikuti kegiatan wawancara paritrana award tingkat provinsi sulawesi tengah nominasi penghargaan jaminan sosial ketenagakerjaan kategori nominasi pemerintah kabupatenkota selasa bertempat hotel aston palu paritrana award merupakan penghargaan diberikan pemerintah pusat pemerintah daerah perusahaan badan usaha memiliki kepedulian awareness tinggi citra positif program jaminan sosial ketenagakerjaan kesempatan tersebut amirudin memaparkan kebijakan pemerintah daerah terkait implementasi program jaminan sosial ketenagakerjaan merupakan bagian upaya menindaklanjuti instruksi presiden inpres nomor tahun optimalisasi pelaksanaan program jaminan sosial ketenagakerjaan baca pemilu bali mang melangkah dprd sultengsebagai bentuk keseriusan lanjut amirudin pemkab menindaklanjuti inpres nomor tahun tersebut mengeluarkan peraturan perbup nomor tahun pelaksanaan program jaminan sosial ketenagakerjaan daerah keputusan nomor nakertrans tim koordinasi pembinaan pemantauan pelaksanaan program bpjs ketenagakerjaan banggai tidak sampai situ upaya penguatan regulasi daerah perlindungan pekerja tersebut ditingkatkan status regulasi peraturan perbup menjadi peraturan daerah perda ditetapkannya perda nomor tahun optimalisasi penyelenggaraan program jaminan sosial ketenagakerjaan baca tak terima diberhentikan sekdes segel kantor desa solan baruuntuk tahun melalui apbd dianggarkan iuran kepesertaan bpjs ketenagakerjaan program jaminan kecelakaan kerja jkk jaminan kematian jkm orang tenaga kerja keterlibatan banggai wawancara menegaskan komitmen pemerintah banggai memberikan perlindungan sosial memadai para tenaga kerja wilayah tersebut presentasi disampaikan amirudin memberikan gambaran jelas mengenai upaya konkret telah dilakukan meningkatkan kesejahteraan keamanan sosial masyarakat banggai adapun menjadi tim penilai kegiatan terdiri setda provinsi dra novalina mm kepala bpjs ketenagakerjaan provinsi sulawesi tengah a syamsul rijal kadis nakertrans provinsi drs arnould firdaus mt ahli ekonomi mohammad ahlis djirimu se dea phd ahli kebijakan publik dr drs muzakir tawil m si ahli hukum dr abdur rasyid thalib s ahli jaminan sosial drs arifuddin bidin ketua dpd apindo achrul udaya serikat buruh karlan ladandu baca asia muslim charity foundation luncurkan kapal kemanusiaan perairan sultengkehadiran bupati banggai acara menandai langkah nyata membangun sistem jaminan sosial inklusif berkeadilan seluruh masyarakat kabupaten banggai\"\n        ],\n        \"semantic_type\": \"\",\n        \"description\": \"\"\n      }\n    },\n    {\n      \"column\": \"stemmed\",\n      \"properties\": {\n        \"dtype\": \"string\",\n        \"num_unique_values\": 957,\n        \"samples\": [\n          \"raya amirudin ikut giat wawancara paritrana award tingkat provinsi sulawesi tengah nominasi harga jamin sosial ketenagakerjaan kategori nominasi perintah kabupatenkota selasa tempat hotel aston palu paritrana award rupa harga beri perintah pusat perintah daerah usaha badan usaha milik peduli awareness tinggi citra positif program jamin sosial ketenagakerjaan sempat sebut amirudin papar bijak perintah daerah kait implementasi program jamin sosial ketenagakerjaan rupa bagi upaya menindaklanjuti instruksi presiden inpres nomor tahun optimalisasi laksana program jamin sosial ketenagakerjaan baca milu bal mang lang dprd sultengsebagai bentuk serius lanjut amirudin pemkab menindaklanjuti inpres nomor tahun sebut keluar atur perbup nomor tahun laksana program jamin sosial ketenagakerjaan daerah putus nomor nakertrans tim koordinasi bina pantau laksana program bpjs ketenagakerjaan bangga tidak sampai situ upaya kuat regulasi daerah lindung kerja sebut tingkat status regulasi atur perbup jadi atur daerah perda tetap perda nomor tahun optimalisasi selenggara program jamin sosial ketenagakerjaan baca tak terima henti sekdes segel kantor desa sol baruuntuk tahun lalu apbd anggar iur serta bpjs ketenagakerjaan program jamin celaka kerja jkk jamin mati jkm orang tenaga kerja libat bangga wawancara tegas komitmen perintah bangga beri lindung sosial pada para tenaga kerja wilayah sebut presentasi sampai amirudin beri gambar jelas kena upaya konkret telah laku tingkat sejahtera aman sosial masyarakat bangga adapun jadi tim nilai giat diri setda provinsi dra novalina mm kepala bpjs ketenagakerjaan provinsi sulawesi tengah a syamsul rijal kad nakertrans provinsi drs arnould firdaus mt ahli ekonomi mohammad ahlis djirimu se dea phd ahli bijak publik dr drs muzakir tawil m si ahli hukum dr abdur rasyid thalib s ahli jamin sosial drs arifuddin bidin ketua dpd apindo achrul udaya serikat buruh karlan ladandu baca asia muslim charity foundation luncur kapal manusia air sultengkehadiran bupati bangga acara tanda langkah nyata bangun sistem jamin sosial inklusif adil seluruh masyarakat kabupaten bangga\"\n        ],\n        \"semantic_type\": \"\",\n        \"description\": \"\"\n      }\n    }\n  ]\n}"
            }
          },
          "metadata": {},
          "execution_count": 496
        }
      ]
    },
    {
      "cell_type": "code",
      "source": [
        "len(df)"
      ],
      "metadata": {
        "colab": {
          "base_uri": "https://localhost:8080/"
        },
        "id": "l-8H5udHaw3C",
        "outputId": "554bc4c8-ffd3-4ca9-d01b-d52d9b49350d"
      },
      "execution_count": null,
      "outputs": [
        {
          "output_type": "execute_result",
          "data": {
            "text/plain": [
              "966"
            ]
          },
          "metadata": {},
          "execution_count": 575
        }
      ]
    },
    {
      "cell_type": "code",
      "execution_count": null,
      "metadata": {
        "colab": {
          "base_uri": "https://localhost:8080/"
        },
        "id": "EqJ4dCX42R0u",
        "outputId": "17ec1499-deb4-4ba0-a732-827cf5857936"
      },
      "outputs": [
        {
          "output_type": "stream",
          "name": "stdout",
          "text": [
            "raya meresmikan candi bentar pura kayangan jagat dalem puri milik umat hindu kecamatan toili rabu upacara peresmian siang mencerminkan keharmonisan kerukunan antarumat beragama daerah peresmian candi bentar pura kayangan jagat dalem puri seremoni formal juga komitmen bersama melestarikan mempromosikan keberagaman warisan budaya memperkaya identitas sebagai masyarakat banggai ujar candi bentar pura kayangan jagat dalem puri simbol keberagaman warisan budaya spiritual umat hindu upacara peresmian diadakan januari menekankan melestarikan mempromosikan kekayaan budaya lokal peresmian candi bentar pura kayangan jagat dalem puri dihadiri para pemuka agama hindu tokoh masyarakat tamu undangan acara tidak hanya menjadi momen umat hindu juga mengukuhkan semangat toleransi antarumat beragama banggai keberadaan candi bentar diharapkan menjadi pemujaan refleksi spiritual bagi umat hindu menjadi daya tarik wisata religi di daerah bupati amirudin mengajak masyarakat bersama merawat menjaga warisan budaya ini sebagai integral identitas kabupaten banggai meresmikan candi dilanjutkan bupati amirudin menandatangani prasasti candi bentar pura kayangan jagat dalem puri\n",
            "raya resmi candi bentar pura kayangan jagat dalem puri milik umat hindu camat toili rabu upacara resmi siang cermin harmonis rukun antarumat agama daerah resmi candi bentar pura kayangan jagat dalem puri seremoni formal juga komitmen sama lestari promosi agam waris budaya kaya identitas bagai masyarakat bangga ujar candi bentar pura kayangan jagat dalem puri simbol agam waris budaya spiritual umat hindu upacara resmi ada januari tekan lestari promosi kaya budaya lokal resmi candi bentar pura kayangan jagat dalem puri hadir para muka agama hindu tokoh masyarakat tamu undang acara tidak hanya jadi momen umat hindu juga kukuh semangat toleransi antarumat agama bangga ada candi bentar harap jadi puja refleksi spiritual bagi umat hindu jadi daya tarik wisata religi di daerah bupati amirudin ajak masyarakat sama rawat jaga waris budaya ini bagai integral identitas kabupaten bangga resmi candi lanjut bupati amirudin menandatangani prasasti candi bentar pura kayangan jagat dalem puri\n"
          ]
        }
      ],
      "source": [
        "print(df['filtered'][796])\n",
        "print(df['stemmed'][796])"
      ]
    },
    {
      "cell_type": "code",
      "source": [
        "print(len(df['filtered'][796]))\n",
        "print(len(df['stemmed'][796]))"
      ],
      "metadata": {
        "colab": {
          "base_uri": "https://localhost:8080/"
        },
        "id": "rKFwM57jdMCK",
        "outputId": "38065d9b-2a7f-46ce-ea57-786c3ce22e95"
      },
      "execution_count": null,
      "outputs": [
        {
          "output_type": "stream",
          "name": "stdout",
          "text": [
            "1167\n",
            "990\n"
          ]
        }
      ]
    },
    {
      "cell_type": "markdown",
      "metadata": {
        "id": "KyujIEiSK3YT"
      },
      "source": [
        "## Tokenizing"
      ]
    },
    {
      "cell_type": "code",
      "execution_count": null,
      "metadata": {
        "id": "7tvlHHYOzWga"
      },
      "outputs": [],
      "source": [
        "def tokenize(text):\n",
        "  tokens = nltk.tokenize.word_tokenize(text)\n",
        "  return tokens"
      ]
    },
    {
      "cell_type": "code",
      "source": [
        "df.head()"
      ],
      "metadata": {
        "id": "edy1ud6vStPy"
      },
      "execution_count": null,
      "outputs": []
    },
    {
      "cell_type": "code",
      "execution_count": null,
      "metadata": {
        "colab": {
          "base_uri": "https://localhost:8080/"
        },
        "id": "HoQt8hoIz_v7",
        "outputId": "adf41755-0eae-42a4-fc5c-b4437c618b97"
      },
      "outputs": [
        {
          "output_type": "execute_result",
          "data": {
            "text/plain": [
              "0      [luwuk, suasana, pasar, murah, subsidi, semara...\n",
              "1      [luwuk, film, horor, piara, mayat, kreativitas...\n",
              "2      [luwuk, festival, malabot, tumbe, meriahkankab...\n",
              "3      [kerja, cepat, terkoordinir, terbit, sttp, luw...\n",
              "4      [luwuk, bawaslu, banggaiperkuat, koordinasi, d...\n",
              "                             ...                        \n",
              "995    [com, bawaslu, tingkat, awas, jelang, tenang, ...\n",
              "996    [raya, h, mm, aifo, ajak, semua, masyarakat, s...\n",
              "997    [com, sempat, tunda, uji, coba, kontraktor, pr...\n",
              "998    [januari, tempat, ruang, sidang, hari, kamis, ...\n",
              "999    [raya, bawaslu, gelar, sosialisasi, implementa...\n",
              "Name: tokenized, Length: 966, dtype: object"
            ]
          },
          "metadata": {},
          "execution_count": 580
        }
      ],
      "source": [
        "df['tokenized'] = df['stemmed'].apply(tokenize)\n",
        "df['tokenized']"
      ]
    },
    {
      "cell_type": "code",
      "execution_count": null,
      "metadata": {
        "colab": {
          "base_uri": "https://localhost:8080/"
        },
        "id": "CBMRdRdiK8vz",
        "outputId": "b18e4610-b788-4b81-ab74-2e0647e5c61e"
      },
      "outputs": [
        {
          "output_type": "stream",
          "name": "stdout",
          "text": [
            "luwuk suasana pasar murah bersubsidi semarak kehadiran satuan lalulintas polres membawa mobil sim keliling senin keberadaan bukan sekadar pelayanan juga menandai sinergi polres kejaksaan negeri terjalin kuat kepala satuan lintas polres akp i made bagus adityamelalui kanit regiden ipda suparjan memimpin stand pameran sim keliling pasar murah bersubsidi suparjan kegiatan merupakan upaya konkret mendekatkan kepada masyarakat pengurusan perpanjangan surat izin mengemudi sim masyarakat mudah mengurus perpanjangan sim harus repot ke kantor satpas polres dihalimun dengan mobil sim keliling telah disediakan tim pelayanan dilayani suasana ramai ipda suparjan menekankan bahwa kehadiran mobil sim keliling bentuk inovatif memudahkan akses masyarakat dalam administrasi sim tim dalam mobil siap memberikan pelayanan terbaik memastikan proses perpanjangan sim berjalan lancar efisien ini memudahkan juga memperkuat ikatan institusi kepolisian kejaksaan dengan masyarakat pasar murah bersubsidi yang diselenggarakan kejaksaan negeri banggai bukan hanya ajang ekonomi juga sebagai platform mendekatkan dengan masyarakat keberadaan mobil sim keliling menjadi tambahan nilai positif dalam kegiatan menciptakan hubungan yang lebih erat penegak hukum dan warga kabupaten banggai\n",
            "['luwuk', 'suasana', 'pasar', 'murah', 'subsidi', 'semarak', 'hadir', 'satu', 'lalulintas', 'polres', 'bawa', 'mobil', 'sim', 'keliling', 'senin', 'ada', 'bukan', 'sekadar', 'layan', 'juga', 'tanda', 'sinergi', 'polres', 'jaksa', 'negeri', 'jalin', 'kuat', 'kepala', 'satu', 'lintas', 'polres', 'akp', 'i', 'made', 'bagus', 'adityamelalui', 'kanit', 'regiden', 'ipda', 'suparjan', 'pimpin', 'stand', 'pamer', 'sim', 'keliling', 'pasar', 'murah', 'subsidi', 'suparjan', 'giat', 'rupa', 'upaya', 'konkret', 'dekat', 'kepada', 'masyarakat', 'urus', 'panjang', 'surat', 'izin', 'kemudi', 'sim', 'masyarakat', 'mudah', 'urus', 'panjang', 'sim', 'harus', 'repot', 'ke', 'kantor', 'satpas', 'polres', 'halimun', 'dengan', 'mobil', 'sim', 'keliling', 'telah', 'sedia', 'tim', 'layan', 'layan', 'suasana', 'ramai', 'ipda', 'suparjan', 'tekan', 'bahwa', 'hadir', 'mobil', 'sim', 'keliling', 'bentuk', 'inovatif', 'mudah', 'akses', 'masyarakat', 'dalam', 'administrasi', 'sim', 'tim', 'dalam', 'mobil', 'siap', 'beri', 'layan', 'baik', 'pasti', 'proses', 'panjang', 'sim', 'jalan', 'lancar', 'efisien', 'ini', 'mudah', 'juga', 'kuat', 'ikat', 'institusi', 'polisi', 'jaksa', 'dengan', 'masyarakat', 'pasar', 'murah', 'subsidi', 'yang', 'selenggara', 'jaksa', 'negeri', 'bangga', 'bukan', 'hanya', 'ajang', 'ekonomi', 'juga', 'bagai', 'platform', 'dekat', 'dengan', 'masyarakat', 'ada', 'mobil', 'sim', 'keliling', 'jadi', 'tambah', 'nilai', 'positif', 'dalam', 'giat', 'cipta', 'hubung', 'yang', 'lebih', 'erat', 'tegak', 'hukum', 'dan', 'warga', 'kabupaten', 'bangga']\n"
          ]
        }
      ],
      "source": [
        "print(df['filtered'][0])\n",
        "print(df['tokenized'][0])"
      ]
    },
    {
      "cell_type": "code",
      "source": [
        "print(len(df['stemmed'][0]))\n",
        "print(len(df['tokenized'][0]))"
      ],
      "metadata": {
        "id": "cKxfF4GhdjLa",
        "outputId": "3c1427b6-8070-452d-c369-8fdee33ef6e8",
        "colab": {
          "base_uri": "https://localhost:8080/"
        }
      },
      "execution_count": null,
      "outputs": [
        {
          "output_type": "stream",
          "name": "stdout",
          "text": [
            "1065\n",
            "164\n"
          ]
        }
      ]
    },
    {
      "cell_type": "markdown",
      "source": [
        "##Second Stopwords"
      ],
      "metadata": {
        "id": "OqDFduCP47A2"
      }
    },
    {
      "cell_type": "code",
      "source": [
        "# Define a function to remove stopwords from a list of tokens\n",
        "def remove_stopwords(tokens):\n",
        "    return [word for word in tokens if word not in stopwords]\n",
        "\n",
        "# Apply the remove_stopwords function to each row in the 'tokenized' column\n",
        "df['filtered2'] = df['tokenized'].apply(lambda tokens: remove_stopwords(tokens))\n",
        "\n",
        "# Display the updated DataFrame\n",
        "print(df.head())"
      ],
      "metadata": {
        "id": "sH3TSo9o3Q-p"
      },
      "execution_count": null,
      "outputs": []
    },
    {
      "cell_type": "code",
      "source": [
        "#df.drop(columns=['tokenized'], inplace=True)"
      ],
      "metadata": {
        "id": "7Hp-bXYa6zt3"
      },
      "execution_count": null,
      "outputs": []
    },
    {
      "cell_type": "code",
      "source": [
        "len(stopwords)"
      ],
      "metadata": {
        "colab": {
          "base_uri": "https://localhost:8080/"
        },
        "id": "rRogv2OAAmP_",
        "outputId": "349dfd28-6e36-4fdc-9d19-b83210946cc0"
      },
      "execution_count": null,
      "outputs": [
        {
          "output_type": "execute_result",
          "data": {
            "text/plain": [
              "944"
            ]
          },
          "metadata": {},
          "execution_count": 648
        }
      ]
    },
    {
      "cell_type": "code",
      "source": [
        "df.head()"
      ],
      "metadata": {
        "id": "zHRIWaHa6rA2"
      },
      "execution_count": null,
      "outputs": []
    },
    {
      "cell_type": "code",
      "source": [
        "print(df['tokenized'][0])\n",
        "print(df['filtered2'][0])"
      ],
      "metadata": {
        "colab": {
          "base_uri": "https://localhost:8080/"
        },
        "id": "NiVe2d298O_r",
        "outputId": "feeb3279-11e3-4258-e3dc-1722209f7caa"
      },
      "execution_count": null,
      "outputs": [
        {
          "output_type": "stream",
          "name": "stdout",
          "text": [
            "['luwuk', 'suasana', 'pasar', 'murah', 'subsidi', 'semarak', 'hadir', 'satu', 'lalulintas', 'polres', 'bawa', 'mobil', 'sim', 'keliling', 'senin', 'ada', 'bukan', 'sekadar', 'layan', 'juga', 'tanda', 'sinergi', 'polres', 'jaksa', 'negeri', 'jalin', 'kuat', 'kepala', 'satu', 'lintas', 'polres', 'akp', 'i', 'made', 'bagus', 'adityamelalui', 'kanit', 'regiden', 'ipda', 'suparjan', 'pimpin', 'stand', 'pamer', 'sim', 'keliling', 'pasar', 'murah', 'subsidi', 'suparjan', 'giat', 'rupa', 'upaya', 'konkret', 'dekat', 'kepada', 'masyarakat', 'urus', 'panjang', 'surat', 'izin', 'kemudi', 'sim', 'masyarakat', 'mudah', 'urus', 'panjang', 'sim', 'harus', 'repot', 'ke', 'kantor', 'satpas', 'polres', 'halimun', 'dengan', 'mobil', 'sim', 'keliling', 'telah', 'sedia', 'tim', 'layan', 'layan', 'suasana', 'ramai', 'ipda', 'suparjan', 'tekan', 'bahwa', 'hadir', 'mobil', 'sim', 'keliling', 'bentuk', 'inovatif', 'mudah', 'akses', 'masyarakat', 'dalam', 'administrasi', 'sim', 'tim', 'dalam', 'mobil', 'siap', 'beri', 'layan', 'baik', 'pasti', 'proses', 'panjang', 'sim', 'jalan', 'lancar', 'efisien', 'ini', 'mudah', 'juga', 'kuat', 'ikat', 'institusi', 'polisi', 'jaksa', 'dengan', 'masyarakat', 'pasar', 'murah', 'subsidi', 'yang', 'selenggara', 'jaksa', 'negeri', 'bangga', 'bukan', 'hanya', 'ajang', 'ekonomi', 'juga', 'bagai', 'platform', 'dekat', 'dengan', 'masyarakat', 'ada', 'mobil', 'sim', 'keliling', 'jadi', 'tambah', 'nilai', 'positif', 'dalam', 'giat', 'cipta', 'hubung', 'yang', 'lebih', 'erat', 'tegak', 'hukum', 'dan', 'warga', 'kabupaten', 'bangga']\n",
            "['suasana', 'pasar', 'murah', 'subsidi', 'semarak', 'hadir', 'lalulintas', 'polres', 'bawa', 'mobil', 'sim', 'keliling', 'senin', 'layan', 'tanda', 'sinergi', 'polres', 'jaksa', 'negeri', 'jalin', 'kuat', 'kepala', 'lintas', 'polres', 'akp', 'i', 'made', 'bagus', 'adityamelalui', 'kanit', 'regiden', 'ipda', 'suparjan', 'pimpin', 'stand', 'pamer', 'sim', 'keliling', 'pasar', 'murah', 'subsidi', 'suparjan', 'giat', 'rupa', 'upaya', 'konkret', 'masyarakat', 'urus', 'surat', 'izin', 'kemudi', 'sim', 'masyarakat', 'mudah', 'urus', 'sim', 'repot', 'kantor', 'satpas', 'polres', 'halimun', 'mobil', 'sim', 'keliling', 'sedia', 'tim', 'layan', 'layan', 'suasana', 'ramai', 'ipda', 'suparjan', 'tekan', 'hadir', 'mobil', 'sim', 'keliling', 'bentuk', 'inovatif', 'mudah', 'akses', 'masyarakat', 'administrasi', 'sim', 'tim', 'mobil', 'layan', 'proses', 'sim', 'jalan', 'lancar', 'efisien', 'mudah', 'kuat', 'ikat', 'institusi', 'polisi', 'jaksa', 'masyarakat', 'pasar', 'murah', 'subsidi', 'selenggara', 'jaksa', 'negeri', 'ajang', 'ekonomi', 'platform', 'masyarakat', 'mobil', 'sim', 'keliling', 'nilai', 'positif', 'giat', 'cipta', 'hubung', 'erat', 'tegak', 'hukum', 'warga']\n"
          ]
        }
      ]
    },
    {
      "cell_type": "markdown",
      "source": [
        "## Convert df to excel"
      ],
      "metadata": {
        "id": "2opI8g0QULEZ"
      }
    },
    {
      "cell_type": "code",
      "source": [
        "df.to_excel('lexicon_analytics_banggai_news.xlsx', index=False)"
      ],
      "metadata": {
        "id": "XZdWBF5DMVUg"
      },
      "execution_count": null,
      "outputs": []
    },
    {
      "cell_type": "markdown",
      "source": [
        "## Delete Most and Least Appeared Words. Convert it to DTM\n",
        "\n",
        "\n",
        "\n"
      ],
      "metadata": {
        "id": "OrthBGy0GJFv"
      }
    },
    {
      "cell_type": "code",
      "source": [
        "# Convert tokenized text to string representation\n",
        "text_strings = [' '.join(doc) for doc in df['tokenized']]\n"
      ],
      "metadata": {
        "id": "snJSk_5ULzDL"
      },
      "execution_count": null,
      "outputs": []
    },
    {
      "cell_type": "code",
      "source": [
        "text_strings"
      ],
      "metadata": {
        "id": "zicdjt5XL6AT"
      },
      "execution_count": null,
      "outputs": []
    },
    {
      "cell_type": "code",
      "source": [
        "from sklearn.feature_extraction.text import CountVectorizer, TfidfVectorizer\n",
        "\n",
        "#cv = CountVectorizer(max_df=0.9, min_df=2, stop_words= stopwords)\n",
        "\n",
        "vect =TfidfVectorizer(max_df=0.85, min_df=2, stop_words= stopwords)\n",
        "\n",
        "dtm = vect.fit_transform(text_strings)"
      ],
      "metadata": {
        "id": "klCr5fe2GSFQ"
      },
      "execution_count": null,
      "outputs": []
    },
    {
      "cell_type": "code",
      "source": [
        "dtm"
      ],
      "metadata": {
        "colab": {
          "base_uri": "https://localhost:8080/"
        },
        "id": "2q__SL_XMTaE",
        "outputId": "5b10f200-46ac-4b75-e795-58ca31e70f78"
      },
      "execution_count": null,
      "outputs": [
        {
          "output_type": "execute_result",
          "data": {
            "text/plain": [
              "<966x5126 sparse matrix of type '<class 'numpy.float64'>'\n",
              "\twith 77134 stored elements in Compressed Sparse Row format>"
            ]
          },
          "metadata": {},
          "execution_count": 589
        }
      ]
    },
    {
      "cell_type": "code",
      "source": [
        "dtm"
      ],
      "metadata": {
        "colab": {
          "base_uri": "https://localhost:8080/"
        },
        "id": "u_h2qgelTMKd",
        "outputId": "2c810452-50f4-4d3a-d59e-812ed3d02afa"
      },
      "execution_count": null,
      "outputs": [
        {
          "output_type": "execute_result",
          "data": {
            "text/plain": [
              "<975x5342 sparse matrix of type '<class 'numpy.float64'>'\n",
              "\twith 102414 stored elements in Compressed Sparse Row format>"
            ]
          },
          "metadata": {},
          "execution_count": 76
        }
      ]
    },
    {
      "cell_type": "markdown",
      "source": [
        "#Model LDA"
      ],
      "metadata": {
        "id": "LJwFbcb-OMTn"
      }
    },
    {
      "cell_type": "code",
      "source": [
        "from sklearn.decomposition import LatentDirichletAllocation"
      ],
      "metadata": {
        "id": "FMYXe9qyOUus"
      },
      "execution_count": null,
      "outputs": []
    },
    {
      "cell_type": "code",
      "source": [
        "#Choosing how many topics that we want (n_component)\n",
        "LDA = LatentDirichletAllocation(n_components=10,random_state=720)\n",
        "\n",
        "#Fitting the data(dtm)\n",
        "LDA.fit(dtm)"
      ],
      "metadata": {
        "colab": {
          "base_uri": "https://localhost:8080/",
          "height": 75
        },
        "id": "wnaAu0xzO6vg",
        "outputId": "79bb4ea4-cf46-4a23-d4a2-49eb28c469e6"
      },
      "execution_count": null,
      "outputs": [
        {
          "output_type": "execute_result",
          "data": {
            "text/plain": [
              "LatentDirichletAllocation(random_state=720)"
            ],
            "text/html": [
              "<style>#sk-container-id-12 {color: black;background-color: white;}#sk-container-id-12 pre{padding: 0;}#sk-container-id-12 div.sk-toggleable {background-color: white;}#sk-container-id-12 label.sk-toggleable__label {cursor: pointer;display: block;width: 100%;margin-bottom: 0;padding: 0.3em;box-sizing: border-box;text-align: center;}#sk-container-id-12 label.sk-toggleable__label-arrow:before {content: \"▸\";float: left;margin-right: 0.25em;color: #696969;}#sk-container-id-12 label.sk-toggleable__label-arrow:hover:before {color: black;}#sk-container-id-12 div.sk-estimator:hover label.sk-toggleable__label-arrow:before {color: black;}#sk-container-id-12 div.sk-toggleable__content {max-height: 0;max-width: 0;overflow: hidden;text-align: left;background-color: #f0f8ff;}#sk-container-id-12 div.sk-toggleable__content pre {margin: 0.2em;color: black;border-radius: 0.25em;background-color: #f0f8ff;}#sk-container-id-12 input.sk-toggleable__control:checked~div.sk-toggleable__content {max-height: 200px;max-width: 100%;overflow: auto;}#sk-container-id-12 input.sk-toggleable__control:checked~label.sk-toggleable__label-arrow:before {content: \"▾\";}#sk-container-id-12 div.sk-estimator input.sk-toggleable__control:checked~label.sk-toggleable__label {background-color: #d4ebff;}#sk-container-id-12 div.sk-label input.sk-toggleable__control:checked~label.sk-toggleable__label {background-color: #d4ebff;}#sk-container-id-12 input.sk-hidden--visually {border: 0;clip: rect(1px 1px 1px 1px);clip: rect(1px, 1px, 1px, 1px);height: 1px;margin: -1px;overflow: hidden;padding: 0;position: absolute;width: 1px;}#sk-container-id-12 div.sk-estimator {font-family: monospace;background-color: #f0f8ff;border: 1px dotted black;border-radius: 0.25em;box-sizing: border-box;margin-bottom: 0.5em;}#sk-container-id-12 div.sk-estimator:hover {background-color: #d4ebff;}#sk-container-id-12 div.sk-parallel-item::after {content: \"\";width: 100%;border-bottom: 1px solid gray;flex-grow: 1;}#sk-container-id-12 div.sk-label:hover label.sk-toggleable__label {background-color: #d4ebff;}#sk-container-id-12 div.sk-serial::before {content: \"\";position: absolute;border-left: 1px solid gray;box-sizing: border-box;top: 0;bottom: 0;left: 50%;z-index: 0;}#sk-container-id-12 div.sk-serial {display: flex;flex-direction: column;align-items: center;background-color: white;padding-right: 0.2em;padding-left: 0.2em;position: relative;}#sk-container-id-12 div.sk-item {position: relative;z-index: 1;}#sk-container-id-12 div.sk-parallel {display: flex;align-items: stretch;justify-content: center;background-color: white;position: relative;}#sk-container-id-12 div.sk-item::before, #sk-container-id-12 div.sk-parallel-item::before {content: \"\";position: absolute;border-left: 1px solid gray;box-sizing: border-box;top: 0;bottom: 0;left: 50%;z-index: -1;}#sk-container-id-12 div.sk-parallel-item {display: flex;flex-direction: column;z-index: 1;position: relative;background-color: white;}#sk-container-id-12 div.sk-parallel-item:first-child::after {align-self: flex-end;width: 50%;}#sk-container-id-12 div.sk-parallel-item:last-child::after {align-self: flex-start;width: 50%;}#sk-container-id-12 div.sk-parallel-item:only-child::after {width: 0;}#sk-container-id-12 div.sk-dashed-wrapped {border: 1px dashed gray;margin: 0 0.4em 0.5em 0.4em;box-sizing: border-box;padding-bottom: 0.4em;background-color: white;}#sk-container-id-12 div.sk-label label {font-family: monospace;font-weight: bold;display: inline-block;line-height: 1.2em;}#sk-container-id-12 div.sk-label-container {text-align: center;}#sk-container-id-12 div.sk-container {/* jupyter's `normalize.less` sets `[hidden] { display: none; }` but bootstrap.min.css set `[hidden] { display: none !important; }` so we also need the `!important` here to be able to override the default hidden behavior on the sphinx rendered scikit-learn.org. See: https://github.com/scikit-learn/scikit-learn/issues/21755 */display: inline-block !important;position: relative;}#sk-container-id-12 div.sk-text-repr-fallback {display: none;}</style><div id=\"sk-container-id-12\" class=\"sk-top-container\"><div class=\"sk-text-repr-fallback\"><pre>LatentDirichletAllocation(random_state=720)</pre><b>In a Jupyter environment, please rerun this cell to show the HTML representation or trust the notebook. <br />On GitHub, the HTML representation is unable to render, please try loading this page with nbviewer.org.</b></div><div class=\"sk-container\" hidden><div class=\"sk-item\"><div class=\"sk-estimator sk-toggleable\"><input class=\"sk-toggleable__control sk-hidden--visually\" id=\"sk-estimator-id-12\" type=\"checkbox\" checked><label for=\"sk-estimator-id-12\" class=\"sk-toggleable__label sk-toggleable__label-arrow\">LatentDirichletAllocation</label><div class=\"sk-toggleable__content\"><pre>LatentDirichletAllocation(random_state=720)</pre></div></div></div></div></div>"
            ]
          },
          "metadata": {},
          "execution_count": 660
        }
      ]
    },
    {
      "cell_type": "markdown",
      "source": [
        "##Grab the vocabulary words"
      ],
      "metadata": {
        "id": "qMiqiAECSf22"
      }
    },
    {
      "cell_type": "code",
      "source": [
        "\n",
        "len(cv.get_feature_names_out())\n"
      ],
      "metadata": {
        "colab": {
          "base_uri": "https://localhost:8080/"
        },
        "id": "x4FCqsA-RY6V",
        "outputId": "a37de8f4-c9fb-4883-dfb0-606151c024cc"
      },
      "execution_count": null,
      "outputs": [
        {
          "output_type": "execute_result",
          "data": {
            "text/plain": [
              "5158"
            ]
          },
          "metadata": {},
          "execution_count": 530
        }
      ]
    },
    {
      "cell_type": "code",
      "source": [
        "type(cv.get_feature_names_out())\n"
      ],
      "metadata": {
        "colab": {
          "base_uri": "https://localhost:8080/"
        },
        "id": "9JM6MrpRSEzn",
        "outputId": "a0ccad6e-693e-4851-8983-31e249addb3d"
      },
      "execution_count": null,
      "outputs": [
        {
          "output_type": "execute_result",
          "data": {
            "text/plain": [
              "numpy.ndarray"
            ]
          },
          "metadata": {},
          "execution_count": 531
        }
      ]
    },
    {
      "cell_type": "code",
      "source": [
        "cv.get_feature_names_out()[1000]"
      ],
      "metadata": {
        "colab": {
          "base_uri": "https://localhost:8080/"
        },
        "id": "wSrlgetzSGF2",
        "outputId": "936401bf-7b81-4ef1-eff4-a95c1cde2f00"
      },
      "execution_count": null,
      "outputs": [
        {
          "output_type": "execute_result",
          "data": {
            "text/plain": [
              "'delap'"
            ],
            "application/vnd.google.colaboratory.intrinsic+json": {
              "type": "string"
            }
          },
          "metadata": {},
          "execution_count": 532
        }
      ]
    },
    {
      "cell_type": "code",
      "source": [
        "import random\n",
        "\n",
        "random_id = random.randint(0,4075)\n",
        "cv.get_feature_names_out()[random_id]"
      ],
      "metadata": {
        "colab": {
          "base_uri": "https://localhost:8080/"
        },
        "id": "XTs2Bch3RxRC",
        "outputId": "3d644fb0-b3e1-4b6b-99f0-059f489d84b0"
      },
      "execution_count": null,
      "outputs": [
        {
          "output_type": "execute_result",
          "data": {
            "text/plain": [
              "'meta'"
            ],
            "application/vnd.google.colaboratory.intrinsic+json": {
              "type": "string"
            }
          },
          "metadata": {},
          "execution_count": 533
        }
      ]
    },
    {
      "cell_type": "markdown",
      "source": [
        "## Convert (dtm) from numpy array to list (optional)\n"
      ],
      "metadata": {
        "id": "PKe24t8HSoI2"
      }
    },
    {
      "cell_type": "code",
      "source": [
        "#feature_names_list = dtm.tolist()"
      ],
      "metadata": {
        "id": "CvMC7peaSvjb"
      },
      "execution_count": null,
      "outputs": []
    },
    {
      "cell_type": "markdown",
      "source": [
        "## Grab the topics"
      ],
      "metadata": {
        "id": "CqB8t05PSwu0"
      }
    },
    {
      "cell_type": "code",
      "source": [
        "len(LDA.components_)"
      ],
      "metadata": {
        "id": "GskVNr4RSzB3",
        "colab": {
          "base_uri": "https://localhost:8080/"
        },
        "outputId": "321f6237-1ac1-4f9e-8700-ef0829297e18"
      },
      "execution_count": null,
      "outputs": [
        {
          "output_type": "execute_result",
          "data": {
            "text/plain": [
              "10"
            ]
          },
          "metadata": {},
          "execution_count": 31
        }
      ]
    },
    {
      "cell_type": "code",
      "source": [
        "type(LDA.components_)"
      ],
      "metadata": {
        "id": "KW4lMW1PP8Q1",
        "colab": {
          "base_uri": "https://localhost:8080/"
        },
        "outputId": "ac1db8c4-2e52-473e-d7ef-c482ed2a7ade"
      },
      "execution_count": null,
      "outputs": [
        {
          "output_type": "execute_result",
          "data": {
            "text/plain": [
              "numpy.ndarray"
            ]
          },
          "metadata": {},
          "execution_count": 32
        }
      ]
    },
    {
      "cell_type": "code",
      "source": [
        "LDA.components_.shape"
      ],
      "metadata": {
        "id": "yfnYIJU8TgPx",
        "colab": {
          "base_uri": "https://localhost:8080/"
        },
        "outputId": "60e29cbd-bb5b-40fd-cd2c-f1b54352760d"
      },
      "execution_count": null,
      "outputs": [
        {
          "output_type": "execute_result",
          "data": {
            "text/plain": [
              "(10, 5342)"
            ]
          },
          "metadata": {},
          "execution_count": 79
        }
      ]
    },
    {
      "cell_type": "code",
      "source": [
        "LDA.components_"
      ],
      "metadata": {
        "id": "7IoocHuWTpgm"
      },
      "execution_count": null,
      "outputs": []
    },
    {
      "cell_type": "markdown",
      "source": [
        "## Grab the highest probability words per topics"
      ],
      "metadata": {
        "id": "SzsOF2RSTYLu"
      }
    },
    {
      "cell_type": "code",
      "source": [
        "#first_topic = LDA.components_[0]\n",
        "#first_topic.argsort()"
      ],
      "metadata": {
        "id": "ShHNifJsQd6N"
      },
      "execution_count": null,
      "outputs": []
    },
    {
      "cell_type": "code",
      "source": [
        "#argsort() sorted index from least to the highest number\n",
        "#means we need the last 10 index to indentify the 10 most common words\n",
        "#first_topic.argsort()[-10:]"
      ],
      "metadata": {
        "id": "up244AJAVm2N"
      },
      "execution_count": null,
      "outputs": []
    },
    {
      "cell_type": "code",
      "source": [
        "#Getting top 10 most common words on the first topic\n",
        "#top_twenty_1 = first_topic.argsort()[-20:]\n",
        "\n",
        "#for index in top_twenty_1:\n",
        "#  print(cv.get_feature_names_out()[index])"
      ],
      "metadata": {
        "id": "aOUtDERaWNJ3"
      },
      "execution_count": null,
      "outputs": []
    },
    {
      "cell_type": "code",
      "source": [
        "for index,topic in enumerate(LDA.components_):\n",
        "    print(f'THE TOP 15 WORDS FOR TOPIC #{index}')\n",
        "    print([vect.get_feature_names_out()[i] for i in topic.argsort()[::-1][:10]])\n",
        "    print('\\n')"
      ],
      "metadata": {
        "colab": {
          "base_uri": "https://localhost:8080/"
        },
        "id": "FzoOCCX7ckAb",
        "outputId": "590b1116-2182-4a8d-b489-ca2cc18f1b29"
      },
      "execution_count": null,
      "outputs": [
        {
          "output_type": "stream",
          "name": "stdout",
          "text": [
            "THE TOP 15 WORDS FOR TOPIC #0\n",
            "['fc', 'lapas', 'pasien', 'rajin', 'pssi', 'askab', 'uu', 'andio', 'ancam', 'piala']\n",
            "\n",
            "\n",
            "THE TOP 15 WORDS FOR TOPIC #1\n",
            "['pmi', 'persen', 'kelompok', 'inflasi', 'plt', 'panti', 'diare', 'tambang', 'asuh', 'kintom']\n",
            "\n",
            "\n",
            "THE TOP 15 WORDS FOR TOPIC #2\n",
            "['bakar', 'korupsi', 'api', 'gempa', 'dakwa', 'kuasa', 'rifat', 'wmp', 'berantas', 'paud']\n",
            "\n",
            "\n",
            "THE TOP 15 WORDS FOR TOPIC #3\n",
            "['sabu', 'barang', 'narkoba', 'pasal', 'bukti', 'musnah', 'sangka', 'narkotika', 'ayat', 'perkara']\n",
            "\n",
            "\n",
            "THE TOP 15 WORDS FOR TOPIC #4\n",
            "['modena', 'eselon', 'jamin', 'produk', 'ekstrim', 'hibur', 'bingkis', 'perda', 'sa', 'covid']\n",
            "\n",
            "\n",
            "THE TOP 15 WORDS FOR TOPIC #5\n",
            "['masyarakat', 'daerah', 'desa', 'giat', 'kerja', 'perintah', 'bangun', 'tingkat', 'harap', 'layan']\n",
            "\n",
            "\n",
            "THE TOP 15 WORDS FOR TOPIC #6\n",
            "['korban', 'laku', 'kasat', 'aman', 'akp', 'lapor', 'wita', 'reskrim', 'curi', 'warga']\n",
            "\n",
            "\n",
            "THE TOP 15 WORDS FOR TOPIC #7\n",
            "['milu', 'aman', 'suara', 'kpu', 'logistik', 'polres', 'partai', 'tps', 'polri', 'jalan']\n",
            "\n",
            "\n",
            "THE TOP 15 WORDS FOR TOPIC #8\n",
            "['gereja', 'imigrasi', 'sampah', 'natal', 'salur', 'ibadah', 'jemaat', 'berkah', 'pltmg', 'kemenkumham']\n",
            "\n",
            "\n",
            "THE TOP 15 WORDS FOR TOPIC #9\n",
            "['kaya', 'intelektual', 'unismuh', 'fakultas', 'mahasiswa', 'rektor', 'prodi', 'ikan', 'pppk', 'kampus']\n",
            "\n",
            "\n"
          ]
        }
      ]
    },
    {
      "cell_type": "code",
      "source": [
        "#for index,topic in enumerate(LDA.components_):\n",
        " #   print(f'THE TOP 15 WORDS FOR TOPIC #{index}')\n",
        "  #  print([cv.get_feature_names_out()[i] for i in topic.argsort()[-10:]])\n",
        "   # print('\\n')"
      ],
      "metadata": {
        "id": "54k_IxMGd0I9"
      },
      "execution_count": null,
      "outputs": []
    },
    {
      "cell_type": "code",
      "source": [
        "dtm\n",
        "topic_result = LDA.transform(dtm)"
      ],
      "metadata": {
        "id": "Z-y6R0ud_2sj"
      },
      "execution_count": null,
      "outputs": []
    },
    {
      "cell_type": "code",
      "source": [
        "len(topic_result)"
      ],
      "metadata": {
        "colab": {
          "base_uri": "https://localhost:8080/"
        },
        "id": "mzdoeBL7jw1e",
        "outputId": "f26e4e92-a267-4ced-a03d-f2581244d0d6"
      },
      "execution_count": null,
      "outputs": [
        {
          "output_type": "execute_result",
          "data": {
            "text/plain": [
              "966"
            ]
          },
          "metadata": {},
          "execution_count": 594
        }
      ]
    },
    {
      "cell_type": "code",
      "source": [
        "topic_result.shape\n"
      ],
      "metadata": {
        "colab": {
          "base_uri": "https://localhost:8080/"
        },
        "id": "mwfE1_gMmWg1",
        "outputId": "efab786a-0905-4835-faf6-105082b47d46"
      },
      "execution_count": null,
      "outputs": [
        {
          "output_type": "execute_result",
          "data": {
            "text/plain": [
              "(964, 10)"
            ]
          },
          "metadata": {},
          "execution_count": 519
        }
      ]
    },
    {
      "cell_type": "code",
      "source": [
        "topic_result[774].round(2)\n"
      ],
      "metadata": {
        "colab": {
          "base_uri": "https://localhost:8080/"
        },
        "id": "vG3U5ObX_554",
        "outputId": "b9e97e11-a2e1-4bbc-d206-e6acdd3c4602"
      },
      "execution_count": null,
      "outputs": [
        {
          "output_type": "execute_result",
          "data": {
            "text/plain": [
              "array([0.54, 0.01, 0.01, 0.19, 0.01, 0.01, 0.17, 0.01, 0.01, 0.01])"
            ]
          },
          "metadata": {},
          "execution_count": 520
        }
      ]
    },
    {
      "cell_type": "code",
      "source": [
        "topic_result[774].argmax()"
      ],
      "metadata": {
        "colab": {
          "base_uri": "https://localhost:8080/"
        },
        "id": "b5ybKfSRC7RA",
        "outputId": "3089cfcd-916e-4190-ea99-473423d9de73"
      },
      "execution_count": null,
      "outputs": [
        {
          "output_type": "execute_result",
          "data": {
            "text/plain": [
              "0"
            ]
          },
          "metadata": {},
          "execution_count": 521
        }
      ]
    },
    {
      "cell_type": "code",
      "source": [
        "df[\"tokenized\"][774]"
      ],
      "metadata": {
        "id": "RRr4abRiAM9A"
      },
      "execution_count": null,
      "outputs": []
    },
    {
      "cell_type": "code",
      "source": [
        "df[\"Topic\"] = topic_result.argmax(axis=1)"
      ],
      "metadata": {
        "id": "GVwdjMN0A1j9"
      },
      "execution_count": null,
      "outputs": []
    },
    {
      "cell_type": "code",
      "source": [
        "df"
      ],
      "metadata": {
        "id": "ZJ6gGTJAIIh0"
      },
      "execution_count": null,
      "outputs": []
    },
    {
      "cell_type": "code",
      "source": [
        "(df[df['Topic'] == 9]).tail()"
      ],
      "metadata": {
        "id": "ce2TYRciIQkH"
      },
      "execution_count": null,
      "outputs": []
    },
    {
      "cell_type": "code",
      "source": [
        "df['Topic'].nunique()"
      ],
      "metadata": {
        "colab": {
          "base_uri": "https://localhost:8080/"
        },
        "id": "SZyq4bKMTlk3",
        "outputId": "689151c5-60e2-4272-9e1c-125c8c69edb1"
      },
      "execution_count": null,
      "outputs": [
        {
          "output_type": "execute_result",
          "data": {
            "text/plain": [
              "10"
            ]
          },
          "metadata": {},
          "execution_count": 664
        }
      ]
    },
    {
      "cell_type": "code",
      "source": [
        "for i in range(10):\n",
        "  print(f\"Total Topic {i} are {len(df[df['Topic'] == i])}\")"
      ],
      "metadata": {
        "colab": {
          "base_uri": "https://localhost:8080/"
        },
        "id": "CCNvXx6FI3Jb",
        "outputId": "6857c026-414e-41fa-9680-22daccf24544"
      },
      "execution_count": null,
      "outputs": [
        {
          "output_type": "stream",
          "name": "stdout",
          "text": [
            "Total Topic 0 are 7\n",
            "Total Topic 1 are 17\n",
            "Total Topic 2 are 7\n",
            "Total Topic 3 are 9\n",
            "Total Topic 4 are 5\n",
            "Total Topic 5 are 632\n",
            "Total Topic 6 are 62\n",
            "Total Topic 7 are 178\n",
            "Total Topic 8 are 18\n",
            "Total Topic 9 are 31\n"
          ]
        }
      ]
    },
    {
      "cell_type": "code",
      "source": [
        "import numpy as np\n",
        "import seaborn as sns\n",
        "import matplotlib.pyplot as plt\n",
        "\n",
        "# Sample Document-Topic Matrix (replace with your actual matrix)\n",
        "\n",
        "topic_result_subset = topic_result[:10]\n",
        "\n",
        "\n",
        "# Create heatmap\n",
        "plt.figure(figsize=(10, 6))\n",
        "sns.heatmap(topic_result_subset, cmap='YlGnBu', annot=True, fmt=\".2f\")\n",
        "plt.xlabel('Topic')\n",
        "plt.ylabel('Document')\n",
        "plt.title('Document-Topic Matrix')\n",
        "plt.show()"
      ],
      "metadata": {
        "colab": {
          "base_uri": "https://localhost:8080/",
          "height": 564
        },
        "id": "c5-jhBDniD05",
        "outputId": "f4fa7cce-82ba-494f-8b72-76f5bd1f296b"
      },
      "execution_count": null,
      "outputs": [
        {
          "output_type": "display_data",
          "data": {
            "text/plain": [
              "<Figure size 1000x600 with 2 Axes>"
            ],
            "image/png": "[encoded data removed]"
          },
          "metadata": {}
        }
      ]
    },
    {
      "cell_type": "code",
      "source": [
        "old_values = [0,1, 2, 3,4,5,6,7,8,9]  # List of values to be replaced\n",
        "new_values = [\"Olahraga\",\n",
        "              \"Kesehatan Publik\",\n",
        "              \"Keamanan Publik1\",\n",
        "              \"Keamanan Publik2\",\n",
        "              \"Ekonomi Lokal\",\n",
        "              \"Layanan Masyarakat\",\n",
        "              \"Keamanan Publik3\",\n",
        "              \"Politik\",\n",
        "              \"Lingkungan\",\n",
        "              \"Pendidikan\"]  # List of corresponding replacement values\n",
        "\n",
        "df['topics_name'] = df['Topic'].replace(old_values, new_values)"
      ],
      "metadata": {
        "id": "l72gcvqvy3vV"
      },
      "execution_count": null,
      "outputs": []
    },
    {
      "cell_type": "code",
      "source": [
        "df.head()\n"
      ],
      "metadata": {
        "id": "jmqQtw8R0kSA"
      },
      "execution_count": null,
      "outputs": []
    },
    {
      "cell_type": "code",
      "source": [
        "text_test = df[[\"title\",\"text\",\"topics_name\"]]\n",
        "text_test"
      ],
      "metadata": {
        "id": "hjKZqkWz0lOX"
      },
      "execution_count": null,
      "outputs": []
    },
    {
      "cell_type": "code",
      "source": [
        "text_test.to_excel('text_test2_edit3.xlsx')"
      ],
      "metadata": {
        "id": "r_ugaxcJ1tKP"
      },
      "execution_count": null,
      "outputs": []
    },
    {
      "cell_type": "code",
      "source": [
        "df.iloc[796]\n"
      ],
      "metadata": {
        "colab": {
          "base_uri": "https://localhost:8080/"
        },
        "id": "fNh-2HCG4DC2",
        "outputId": "63c3ad7c-b676-415b-8ea1-21840be5612b"
      },
      "execution_count": null,
      "outputs": [
        {
          "output_type": "execute_result",
          "data": {
            "text/plain": [
              "target                                                       banggai\n",
              "title                Aleg Banggai Ingatkan Kondisi Pasca Migas Habis\n",
              "text               BANGGAI RAYA- Wakil rakyat Parlemen Teluk Lalo...\n",
              "lwr                banggai raya- wakil rakyat parlemen teluk lalo...\n",
              "clean_number       banggai raya- wakil rakyat parlemen teluk lalo...\n",
              "clean_punct        banggai raya  wakil rakyat parlemen teluk lalo...\n",
              "clean_double_ws    banggai raya wakil rakyat parlemen teluk lalon...\n",
              "stemmed            bangga raya wakil rakyat parlemen teluk lalong...\n",
              "filtered           bangga raya wakil rakyat parlemen teluk lalong...\n",
              "tokenized          [bangga, raya, wakil, rakyat, parlemen, teluk,...\n",
              "Topic                                                              4\n",
              "topics_name               Local Governance and Community Development\n",
              "Name: 796, dtype: object"
            ]
          },
          "metadata": {},
          "execution_count": 125
        }
      ]
    },
    {
      "cell_type": "code",
      "source": [
        "print(df['text'][127])"
      ],
      "metadata": {
        "colab": {
          "base_uri": "https://localhost:8080/"
        },
        "id": "Jwe0P4fb4Emr",
        "outputId": "0f0cdcd8-8b33-407b-94bd-c5368a08f735"
      },
      "execution_count": null,
      "outputs": [
        {
          "output_type": "stream",
          "name": "stdout",
          "text": [
            "\n"
          ]
        }
      ]
    },
    {
      "cell_type": "markdown",
      "source": [
        "# Giving Title"
      ],
      "metadata": {
        "id": "tup2zjQcjH5y"
      }
    },
    {
      "cell_type": "code",
      "source": [
        "# Input\n",
        "text_url = 'https://raw.githubusercontent.com/TaillessTanuki/Berita_Banggai/main/text_test2.csv'\n",
        "\n",
        "# Read CSV file with 'latin-1' encoding\n",
        "input_df = pd.read_csv(text_url, encoding='cp1252')\n",
        "\n",
        "# Convert all columns to string\n",
        "input_df = input_df.astype(str)"
      ],
      "metadata": {
        "id": "ZmVoxpgYjK49"
      },
      "execution_count": null,
      "outputs": []
    },
    {
      "cell_type": "code",
      "source": [
        "input_df.head()"
      ],
      "metadata": {
        "colab": {
          "base_uri": "https://localhost:8080/",
          "height": 206
        },
        "id": "SEWU_WUDt98k",
        "outputId": "253d60ce-0081-4122-aa4e-bbcda224010c"
      },
      "execution_count": null,
      "outputs": [
        {
          "output_type": "execute_result",
          "data": {
            "text/plain": [
              "                                                text     topics_name\n",
              "0  KABAR LUWUK –  Suasana Pasar Murah bersubsidi ...  Layanan Publik\n",
              "1  KABAR LUWUK  –  Film Horor“Piara Mayat”,Kreati...  Layanan Publik\n",
              "2  KABAR LUWUK  –Festival Malabot Tumbe 2023Kemba...  Layanan Publik\n",
              "3  “Kerja Cepat dan Terkoordinir dalam Penerbitan...  Layanan Publik\n",
              "4  KABAR LUWUK  –Bawaslu BanggaiPerkuat Koordinas...  Layanan Publik"
            ],
            "text/html": [
              "\n",
              "  <div id=\"df-e99f41ef-bf80-4584-ab36-a0c1ac6199a1\" class=\"colab-df-container\">\n",
              "    <div>\n",
              "<style scoped>\n",
              "    .dataframe tbody tr th:only-of-type {\n",
              "        vertical-align: middle;\n",
              "    }\n",
              "\n",
              "    .dataframe tbody tr th {\n",
              "        vertical-align: top;\n",
              "    }\n",
              "\n",
              "    .dataframe thead th {\n",
              "        text-align: right;\n",
              "    }\n",
              "</style>\n",
              "<table border=\"1\" class=\"dataframe\">\n",
              "  <thead>\n",
              "    <tr style=\"text-align: right;\">\n",
              "      <th></th>\n",
              "      <th>text</th>\n",
              "      <th>topics_name</th>\n",
              "    </tr>\n",
              "  </thead>\n",
              "  <tbody>\n",
              "    <tr>\n",
              "      <th>0</th>\n",
              "      <td>KABAR LUWUK –  Suasana Pasar Murah bersubsidi ...</td>\n",
              "      <td>Layanan Publik</td>\n",
              "    </tr>\n",
              "    <tr>\n",
              "      <th>1</th>\n",
              "      <td>KABAR LUWUK  –  Film Horor“Piara Mayat”,Kreati...</td>\n",
              "      <td>Layanan Publik</td>\n",
              "    </tr>\n",
              "    <tr>\n",
              "      <th>2</th>\n",
              "      <td>KABAR LUWUK  –Festival Malabot Tumbe 2023Kemba...</td>\n",
              "      <td>Layanan Publik</td>\n",
              "    </tr>\n",
              "    <tr>\n",
              "      <th>3</th>\n",
              "      <td>“Kerja Cepat dan Terkoordinir dalam Penerbitan...</td>\n",
              "      <td>Layanan Publik</td>\n",
              "    </tr>\n",
              "    <tr>\n",
              "      <th>4</th>\n",
              "      <td>KABAR LUWUK  –Bawaslu BanggaiPerkuat Koordinas...</td>\n",
              "      <td>Layanan Publik</td>\n",
              "    </tr>\n",
              "  </tbody>\n",
              "</table>\n",
              "</div>\n",
              "    <div class=\"colab-df-buttons\">\n",
              "\n",
              "  <div class=\"colab-df-container\">\n",
              "    <button class=\"colab-df-convert\" onclick=\"convertToInteractive('df-e99f41ef-bf80-4584-ab36-a0c1ac6199a1')\"\n",
              "            title=\"Convert this dataframe to an interactive table.\"\n",
              "            style=\"display:none;\">\n",
              "\n",
              "  <svg xmlns=\"http://www.w3.org/2000/svg\" height=\"24px\" viewBox=\"0 -960 960 960\">\n",
              "    <path d=\"M120-120v-720h720v720H120Zm60-500h600v-160H180v160Zm220 220h160v-160H400v160Zm0 220h160v-160H400v160ZM180-400h160v-160H180v160Zm440 0h160v-160H620v160ZM180-180h160v-160H180v160Zm440 0h160v-160H620v160Z\"/>\n",
              "  </svg>\n",
              "    </button>\n",
              "\n",
              "  <style>\n",
              "    .colab-df-container {\n",
              "      display:flex;\n",
              "      gap: 12px;\n",
              "    }\n",
              "\n",
              "    .colab-df-convert {\n",
              "      background-color: #E8F0FE;\n",
              "      border: none;\n",
              "      border-radius: 50%;\n",
              "      cursor: pointer;\n",
              "      display: none;\n",
              "      fill: #1967D2;\n",
              "      height: 32px;\n",
              "      padding: 0 0 0 0;\n",
              "      width: 32px;\n",
              "    }\n",
              "\n",
              "    .colab-df-convert:hover {\n",
              "      background-color: #E2EBFA;\n",
              "      box-shadow: 0px 1px 2px rgba(60, 64, 67, 0.3), 0px 1px 3px 1px rgba(60, 64, 67, 0.15);\n",
              "      fill: #174EA6;\n",
              "    }\n",
              "\n",
              "    .colab-df-buttons div {\n",
              "      margin-bottom: 4px;\n",
              "    }\n",
              "\n",
              "    [theme=dark] .colab-df-convert {\n",
              "      background-color: #3B4455;\n",
              "      fill: #D2E3FC;\n",
              "    }\n",
              "\n",
              "    [theme=dark] .colab-df-convert:hover {\n",
              "      background-color: #434B5C;\n",
              "      box-shadow: 0px 1px 3px 1px rgba(0, 0, 0, 0.15);\n",
              "      filter: drop-shadow(0px 1px 2px rgba(0, 0, 0, 0.3));\n",
              "      fill: #FFFFFF;\n",
              "    }\n",
              "  </style>\n",
              "\n",
              "    <script>\n",
              "      const buttonEl =\n",
              "        document.querySelector('#df-e99f41ef-bf80-4584-ab36-a0c1ac6199a1 button.colab-df-convert');\n",
              "      buttonEl.style.display =\n",
              "        google.colab.kernel.accessAllowed ? 'block' : 'none';\n",
              "\n",
              "      async function convertToInteractive(key) {\n",
              "        const element = document.querySelector('#df-e99f41ef-bf80-4584-ab36-a0c1ac6199a1');\n",
              "        const dataTable =\n",
              "          await google.colab.kernel.invokeFunction('convertToInteractive',\n",
              "                                                    [key], {});\n",
              "        if (!dataTable) return;\n",
              "\n",
              "        const docLinkHtml = 'Like what you see? Visit the ' +\n",
              "          '<a target=\"_blank\" href=https://colab.research.google.com/notebooks/data_table.ipynb>data table notebook</a>'\n",
              "          + ' to learn more about interactive tables.';\n",
              "        element.innerHTML = '';\n",
              "        dataTable['output_type'] = 'display_data';\n",
              "        await google.colab.output.renderOutput(dataTable, element);\n",
              "        const docLink = document.createElement('div');\n",
              "        docLink.innerHTML = docLinkHtml;\n",
              "        element.appendChild(docLink);\n",
              "      }\n",
              "    </script>\n",
              "  </div>\n",
              "\n",
              "\n",
              "<div id=\"df-155d28f3-b3fb-410f-8b9f-a17454182108\">\n",
              "  <button class=\"colab-df-quickchart\" onclick=\"quickchart('df-155d28f3-b3fb-410f-8b9f-a17454182108')\"\n",
              "            title=\"Suggest charts\"\n",
              "            style=\"display:none;\">\n",
              "\n",
              "<svg xmlns=\"http://www.w3.org/2000/svg\" height=\"24px\"viewBox=\"0 0 24 24\"\n",
              "     width=\"24px\">\n",
              "    <g>\n",
              "        <path d=\"M19 3H5c-1.1 0-2 .9-2 2v14c0 1.1.9 2 2 2h14c1.1 0 2-.9 2-2V5c0-1.1-.9-2-2-2zM9 17H7v-7h2v7zm4 0h-2V7h2v10zm4 0h-2v-4h2v4z\"/>\n",
              "    </g>\n",
              "</svg>\n",
              "  </button>\n",
              "\n",
              "<style>\n",
              "  .colab-df-quickchart {\n",
              "      --bg-color: #E8F0FE;\n",
              "      --fill-color: #1967D2;\n",
              "      --hover-bg-color: #E2EBFA;\n",
              "      --hover-fill-color: #174EA6;\n",
              "      --disabled-fill-color: #AAA;\n",
              "      --disabled-bg-color: #DDD;\n",
              "  }\n",
              "\n",
              "  [theme=dark] .colab-df-quickchart {\n",
              "      --bg-color: #3B4455;\n",
              "      --fill-color: #D2E3FC;\n",
              "      --hover-bg-color: #434B5C;\n",
              "      --hover-fill-color: #FFFFFF;\n",
              "      --disabled-bg-color: #3B4455;\n",
              "      --disabled-fill-color: #666;\n",
              "  }\n",
              "\n",
              "  .colab-df-quickchart {\n",
              "    background-color: var(--bg-color);\n",
              "    border: none;\n",
              "    border-radius: 50%;\n",
              "    cursor: pointer;\n",
              "    display: none;\n",
              "    fill: var(--fill-color);\n",
              "    height: 32px;\n",
              "    padding: 0;\n",
              "    width: 32px;\n",
              "  }\n",
              "\n",
              "  .colab-df-quickchart:hover {\n",
              "    background-color: var(--hover-bg-color);\n",
              "    box-shadow: 0 1px 2px rgba(60, 64, 67, 0.3), 0 1px 3px 1px rgba(60, 64, 67, 0.15);\n",
              "    fill: var(--button-hover-fill-color);\n",
              "  }\n",
              "\n",
              "  .colab-df-quickchart-complete:disabled,\n",
              "  .colab-df-quickchart-complete:disabled:hover {\n",
              "    background-color: var(--disabled-bg-color);\n",
              "    fill: var(--disabled-fill-color);\n",
              "    box-shadow: none;\n",
              "  }\n",
              "\n",
              "  .colab-df-spinner {\n",
              "    border: 2px solid var(--fill-color);\n",
              "    border-color: transparent;\n",
              "    border-bottom-color: var(--fill-color);\n",
              "    animation:\n",
              "      spin 1s steps(1) infinite;\n",
              "  }\n",
              "\n",
              "  @keyframes spin {\n",
              "    0% {\n",
              "      border-color: transparent;\n",
              "      border-bottom-color: var(--fill-color);\n",
              "      border-left-color: var(--fill-color);\n",
              "    }\n",
              "    20% {\n",
              "      border-color: transparent;\n",
              "      border-left-color: var(--fill-color);\n",
              "      border-top-color: var(--fill-color);\n",
              "    }\n",
              "    30% {\n",
              "      border-color: transparent;\n",
              "      border-left-color: var(--fill-color);\n",
              "      border-top-color: var(--fill-color);\n",
              "      border-right-color: var(--fill-color);\n",
              "    }\n",
              "    40% {\n",
              "      border-color: transparent;\n",
              "      border-right-color: var(--fill-color);\n",
              "      border-top-color: var(--fill-color);\n",
              "    }\n",
              "    60% {\n",
              "      border-color: transparent;\n",
              "      border-right-color: var(--fill-color);\n",
              "    }\n",
              "    80% {\n",
              "      border-color: transparent;\n",
              "      border-right-color: var(--fill-color);\n",
              "      border-bottom-color: var(--fill-color);\n",
              "    }\n",
              "    90% {\n",
              "      border-color: transparent;\n",
              "      border-bottom-color: var(--fill-color);\n",
              "    }\n",
              "  }\n",
              "</style>\n",
              "\n",
              "  <script>\n",
              "    async function quickchart(key) {\n",
              "      const quickchartButtonEl =\n",
              "        document.querySelector('#' + key + ' button');\n",
              "      quickchartButtonEl.disabled = true;  // To prevent multiple clicks.\n",
              "      quickchartButtonEl.classList.add('colab-df-spinner');\n",
              "      try {\n",
              "        const charts = await google.colab.kernel.invokeFunction(\n",
              "            'suggestCharts', [key], {});\n",
              "      } catch (error) {\n",
              "        console.error('Error during call to suggestCharts:', error);\n",
              "      }\n",
              "      quickchartButtonEl.classList.remove('colab-df-spinner');\n",
              "      quickchartButtonEl.classList.add('colab-df-quickchart-complete');\n",
              "    }\n",
              "    (() => {\n",
              "      let quickchartButtonEl =\n",
              "        document.querySelector('#df-155d28f3-b3fb-410f-8b9f-a17454182108 button');\n",
              "      quickchartButtonEl.style.display =\n",
              "        google.colab.kernel.accessAllowed ? 'block' : 'none';\n",
              "    })();\n",
              "  </script>\n",
              "</div>\n",
              "    </div>\n",
              "  </div>\n"
            ],
            "application/vnd.google.colaboratory.intrinsic+json": {
              "type": "dataframe",
              "variable_name": "input_df",
              "summary": "{\n  \"name\": \"input_df\",\n  \"rows\": 964,\n  \"fields\": [\n    {\n      \"column\": \"text\",\n      \"properties\": {\n        \"dtype\": \"string\",\n        \"num_unique_values\": 955,\n        \"samples\": [\n          \"BANGGAI RAYA-Badan Pengawas Pemilu (Bawaslu) Kabupaten Banggai melalui Panitia Pengawas Kecamatan (Panwascam) Luwuk Utara melakukan koordinasi dengan Polsek Banggai untuk menyikapi surat tanda terima pemberitahuan (STTP) kampanye calon anggota legiatif (Caleg) di akhir tahun 2023.Sabtu (30/12/2023) kemarin, sekira pukul 09.30 Wita, Panwascam Luwuk Utara menemui Kapolsek Luwuk.Ketua Panwascam Luwuk Utara, Makatul Alkap menjelaskan, Panwascam Luwuk Utara melakukan koordinasi dengan Kapolsek Kota Luwuk, terkait patroli pengawasan di malam tahun baru, dan koordinasi terkait STTP yang disebarkan oleh Polsek Luwuk.\\u201cAgar lebih diperhatikan, dikarenakan sebagian besar Caleg saat kampanye memperlihatkan STTP, sehingga membuat kewalahan Panwascam. Beruntung ada PKD yang Standby di wilayahnya masing-masing, \\u201d kata Makatul Alkap kepada Banggai Raya, Minggu (31/12/2023).Ia mengakui bahwa PKD di Luwuk Utara memiliki insting pengawasan yang tidak diragukan lagi.Bahkan kata dia, ada beberapa Caleg yang tidak ada surat pemberitahuan dan STTP, mereka dapat dan bisa melakukan pengawasan melekat.\\u201cSelain koordinasi, juga dalam waktu dekat, kami akan melakukan koordinasi tentang perekrutan pengawas TPS, agar bisa diketahui oleh Kapolsek Luwuk. Bukan hanya di Polsek, tapi di Koramil juga, kami akan berkunjung, agar tetap terjaga sinergitas antar penyelenggara dan pihak TNI/Polri tentunya,\\u201d Pungkasnya. RUM\",\n          \"BANGGAI RAYA- Saat ini, Pondok Pesantren (Ponpes) Daarul Hikmah Luwuk tengah membuka penerimaan santri baru tahun pelajaran 2024/2025.Dalam penerimaan santri baru, Ponpes Daarul Hikmah Luwuk membuka untuk dua tingkatan yakni tingkat MTs dan Madrasah Aliyah.Bagi orangtua yang ingin memondokkan anaknya, Ponpes Daarul Hikmah Luwuk yang merupakan ponpes favorit di Kota Luwuk ini bisa menjadi pilihan.Nah, sebelum masuk dan mendaftar di Ponpes Daarul Hikmah Luwuk, para calon santri baru harus tahu apa-apa saja ekstrakulikuler yang ada di Ponpes Daarul Hikmah Luwuk.Ponpes Daarul Hikmah Luwuk menerapkan sejumlah ekstrakulikuler yang terbagi dalam dua kategori yakni wajib dan tidak wajib.Untuk ekstrakulikuler wajib, ada tapak suci dan taekwondo.\\u201cIni wajib, tapi santri bisa memilih di antara dua ini, apakah tapak suci atau taekwondo. Prinsipnya, santri harus bisa olahraga bela diri,\\u201d ungkap Ustadz Mu\\u2019adz sapaan akrab ustadz kondang di Kabupaten Banggai itu, Jumat 19 Januari 2024.Berikutnya, ada ekstrakulikuler kursus Bahasa Arab, Bahasa Inggris dan Tahfiz. \\u201cUntuk ekstrakulikuler ini, wajib sehingga tidak berbayar,\\u201d jelas Ustadz Mu\\u2019adz.Selain ekstrakulikuler wajib, Ponpes Daarul Hikmah Luwuk juga menyediakan ekstrakulikuler tidak wajib dan bisa dipilih oleh santri.Untuk ekstrakulikuler tidak wajib yang bisa dipilih santri ini, ada olahraga basket, panahan, tilawah, hadroh dan lainnya.\\u201cEkstrakulikuler yang tidak wajib ini, berbayar per item itu Rp30 ribu. Tapi ekstrakulikuler ini tidak ikut tidak masalah (tidak wajib),\\u201d bebernya.Dengan banyaknya ekstrakulikuler disiapkan di Ponpes Daarul Hikmah Luwuk kata Ustadz Mu\\u2019adz, tak lain untuk mengasah dan meningkatkan kemampuan santri di bidangnya masing-masing.\\u201cSeperti bela diri, bahasa arab, bahas Inggris. Karena memang untuk ekstrakulikuler ini, tidak semua santri suka main basket, suka panahan, suka tilawah. Sehingga tidak diwajibkan,\\u201d terangnya.Karena tidak diwajibkan, santri Ponpes Daarul Hikmah Luwuk yang memilih ekstrakulikuler itu harus membayar.\\u201cBiayanya Rp30 ribu, ini pun untuk membeli peralatan yang harus diadakan dalam ekstrakulikuler yang diikuti,\\u201d katanya.Ia berharap, melalui ekstrakulikuler yang ada diikuti, santri bisa meraih prestasi di bidang dan kemampuannya masing-masing untuk mengharumkan nama Ponpes Daarul Hikmah Luwuk dan juga daerah tercinta. (*)\",\n          \"Laporan Wartawan TribunPalu.com, Asnawi Zikri TRIBUNPALU.COM, BANGGAI -Bupati Banggai, Amirudin , menghadiri perayaan HUT ke-43 SMA Negeri 2 Luwuk, di lapangan SMA Negeri 2 Luwuk, Kelurahan Baru, Kecamatan Luwuk, Kabupaten Banggai, Sulawesi Tengah, Senin (15/1/2024). Bupati Amirudin mengucapkan selamat dan memberikan apresiasi kepada seluruh keluarga besar SMA Negeri 2 Luwuk. Bupati Amirudin menegaskan komitmen pemerintah daerah untuk terus mendukung perkembangan-perkembangan sekolah tersebut. \\u201cInsya Allah saya akan tanggung 20 juta (pembangunan gerbang sekolah). Mudah- mudahan tahun depan kita datang sudah jadi,\\u201d ungkap Bupati Amirudin. Tak hanya itu, Bupati Amirudin juga memberikan apresiasi kepada beberapa siswa berprestasi yaitu Asri Anjani dan Chelin Lauren. \\u201cUntuk puisi, saya dapat informasi akan melanjutkan kegiatannya ke Medan, maka segala akomodasi dan transportasi ditanggung Pemda Banggai,\\u201d lanjutnya kepada Chelin. \\u201cDan untuk Duta Wisata, kami akan memberikan rekomendasi terhadap universitas yang dituju,\\u201d tambahnya. Perayaan HUT SMA Negeri 2 Luwuk yang dimulai sejak 10 Januari 2024 berlangsung meriah selama 5 hari sampai hari ini telah melibatkan siswa dari berbagai SMP dan SMA yang ada di Kabupaten Banggai. Sejumlah kegiatan lomba menarik telah diselenggarakan sebagai bagian dari rangkaian perayaan yakni Lomba fashion show, Tournament Free Fire, rangking 1, dan bola voli. Dengan suksesnya perayaan HUT SMA 2 Luwuk ini diharapkan semangat kebersamaan dan prestasi yang telah ditunjukkan oleh siswa dapat terus menjadi inspirasi bagi generasi mendatang. (*) \"\n        ],\n        \"semantic_type\": \"\",\n        \"description\": \"\"\n      }\n    },\n    {\n      \"column\": \"topics_name\",\n      \"properties\": {\n        \"dtype\": \"category\",\n        \"num_unique_values\": 6,\n        \"samples\": [\n          \"Layanan Publik\",\n          \"Kesehatan Publik\",\n          \"Ekonomi Lokal\"\n        ],\n        \"semantic_type\": \"\",\n        \"description\": \"\"\n      }\n    }\n  ]\n}"
            }
          },
          "metadata": {},
          "execution_count": 257
        }
      ]
    },
    {
      "cell_type": "code",
      "source": [
        "# parameter\n",
        "stemmed_url= 'https://raw.githubusercontent.com/TaillessTanuki/Berita_Banggai/main/stemmed_words_tanpa_token_stopword.csv'\n",
        "\n",
        "df = pd.read_csv(stemmed_url)\n",
        "\n",
        "df = df.astype(str)"
      ],
      "metadata": {
        "id": "06iX4I5RkRQF"
      },
      "execution_count": null,
      "outputs": []
    },
    {
      "cell_type": "code",
      "source": [
        "df.head()"
      ],
      "metadata": {
        "id": "nU4SK2sNtKpI"
      },
      "execution_count": null,
      "outputs": []
    },
    {
      "cell_type": "code",
      "source": [
        "# Assuming df1 is the DataFrame where you want to add the \"title\" column,\n",
        "# and df2 is the DataFrame containing the \"text\" and \"title\" columns to match against\n",
        "\n",
        "import pandas as pd\n",
        "\n",
        "# Iterate through rows of df1\n",
        "for index, row in input_df.iterrows():\n",
        "    # Iterate through rows of df2\n",
        "    for index2, row2 in df.iterrows():\n",
        "        # Check if the \"text\" values match\n",
        "        if row['text'] == row2['text']:\n",
        "            # Assign the corresponding \"title\" value from df2 to df1\n",
        "            input_df.at[index, 'title'] = row2['title']\n",
        "            # Break the inner loop as we found a match\n",
        "            break\n",
        "\n",
        "# Display df1 with the added \"title\" column\n",
        "print(input_df.head())"
      ],
      "metadata": {
        "colab": {
          "base_uri": "https://localhost:8080/"
        },
        "id": "D52rLJqFnPJj",
        "outputId": "df8fe44c-4c62-4e06-9f2f-d8802e445a45"
      },
      "execution_count": null,
      "outputs": [
        {
          "output_type": "stream",
          "name": "stdout",
          "text": [
            "                                                text     topics_name  \\\n",
            "0  KABAR LUWUK –  Suasana Pasar Murah bersubsidi ...  Layanan Publik   \n",
            "1  KABAR LUWUK  –  Film Horor“Piara Mayat”,Kreati...  Layanan Publik   \n",
            "2  KABAR LUWUK  –Festival Malabot Tumbe 2023Kemba...  Layanan Publik   \n",
            "3  “Kerja Cepat dan Terkoordinir dalam Penerbitan...  Layanan Publik   \n",
            "4  KABAR LUWUK  –Bawaslu BanggaiPerkuat Koordinas...  Layanan Publik   \n",
            "\n",
            "                                               title  \n",
            "0  Mobil Sim Keliling Polres Banggai Meriahkan Pa...  \n",
            "1  Film Horor “Piara Mayat”,  Kreativitas Anak Mu...  \n",
            "2  Festival Malabot Tumbe 2023 Kembali Meriahkan ...  \n",
            "3  Rakor Kampanye Damai Pemilu 2024, Polres Bangg...  \n",
            "4  Bawaslu Banggai Perkuat Koordinasi dengan Panw...  \n"
          ]
        }
      ]
    },
    {
      "cell_type": "code",
      "source": [
        "input_df.head()"
      ],
      "metadata": {
        "colab": {
          "base_uri": "https://localhost:8080/",
          "height": 206
        },
        "id": "OUYdUqXHs83w",
        "outputId": "3c8ee918-aa2f-4452-dfd7-b73ae5045ca2"
      },
      "execution_count": null,
      "outputs": [
        {
          "output_type": "execute_result",
          "data": {
            "text/plain": [
              "                                                text     topics_name  \\\n",
              "0  KABAR LUWUK –  Suasana Pasar Murah bersubsidi ...  Layanan Publik   \n",
              "1  KABAR LUWUK  –  Film Horor“Piara Mayat”,Kreati...  Layanan Publik   \n",
              "2  KABAR LUWUK  –Festival Malabot Tumbe 2023Kemba...  Layanan Publik   \n",
              "3  “Kerja Cepat dan Terkoordinir dalam Penerbitan...  Layanan Publik   \n",
              "4  KABAR LUWUK  –Bawaslu BanggaiPerkuat Koordinas...  Layanan Publik   \n",
              "\n",
              "                                               title  \n",
              "0  Mobil Sim Keliling Polres Banggai Meriahkan Pa...  \n",
              "1  Film Horor “Piara Mayat”,  Kreativitas Anak Mu...  \n",
              "2  Festival Malabot Tumbe 2023 Kembali Meriahkan ...  \n",
              "3  Rakor Kampanye Damai Pemilu 2024, Polres Bangg...  \n",
              "4  Bawaslu Banggai Perkuat Koordinasi dengan Panw...  "
            ],
            "text/html": [
              "\n",
              "  <div id=\"df-03a8a46b-e643-4b12-8b06-875caa9dbece\" class=\"colab-df-container\">\n",
              "    <div>\n",
              "<style scoped>\n",
              "    .dataframe tbody tr th:only-of-type {\n",
              "        vertical-align: middle;\n",
              "    }\n",
              "\n",
              "    .dataframe tbody tr th {\n",
              "        vertical-align: top;\n",
              "    }\n",
              "\n",
              "    .dataframe thead th {\n",
              "        text-align: right;\n",
              "    }\n",
              "</style>\n",
              "<table border=\"1\" class=\"dataframe\">\n",
              "  <thead>\n",
              "    <tr style=\"text-align: right;\">\n",
              "      <th></th>\n",
              "      <th>text</th>\n",
              "      <th>topics_name</th>\n",
              "      <th>title</th>\n",
              "    </tr>\n",
              "  </thead>\n",
              "  <tbody>\n",
              "    <tr>\n",
              "      <th>0</th>\n",
              "      <td>KABAR LUWUK –  Suasana Pasar Murah bersubsidi ...</td>\n",
              "      <td>Layanan Publik</td>\n",
              "      <td>Mobil Sim Keliling Polres Banggai Meriahkan Pa...</td>\n",
              "    </tr>\n",
              "    <tr>\n",
              "      <th>1</th>\n",
              "      <td>KABAR LUWUK  –  Film Horor“Piara Mayat”,Kreati...</td>\n",
              "      <td>Layanan Publik</td>\n",
              "      <td>Film Horor “Piara Mayat”,  Kreativitas Anak Mu...</td>\n",
              "    </tr>\n",
              "    <tr>\n",
              "      <th>2</th>\n",
              "      <td>KABAR LUWUK  –Festival Malabot Tumbe 2023Kemba...</td>\n",
              "      <td>Layanan Publik</td>\n",
              "      <td>Festival Malabot Tumbe 2023 Kembali Meriahkan ...</td>\n",
              "    </tr>\n",
              "    <tr>\n",
              "      <th>3</th>\n",
              "      <td>“Kerja Cepat dan Terkoordinir dalam Penerbitan...</td>\n",
              "      <td>Layanan Publik</td>\n",
              "      <td>Rakor Kampanye Damai Pemilu 2024, Polres Bangg...</td>\n",
              "    </tr>\n",
              "    <tr>\n",
              "      <th>4</th>\n",
              "      <td>KABAR LUWUK  –Bawaslu BanggaiPerkuat Koordinas...</td>\n",
              "      <td>Layanan Publik</td>\n",
              "      <td>Bawaslu Banggai Perkuat Koordinasi dengan Panw...</td>\n",
              "    </tr>\n",
              "  </tbody>\n",
              "</table>\n",
              "</div>\n",
              "    <div class=\"colab-df-buttons\">\n",
              "\n",
              "  <div class=\"colab-df-container\">\n",
              "    <button class=\"colab-df-convert\" onclick=\"convertToInteractive('df-03a8a46b-e643-4b12-8b06-875caa9dbece')\"\n",
              "            title=\"Convert this dataframe to an interactive table.\"\n",
              "            style=\"display:none;\">\n",
              "\n",
              "  <svg xmlns=\"http://www.w3.org/2000/svg\" height=\"24px\" viewBox=\"0 -960 960 960\">\n",
              "    <path d=\"M120-120v-720h720v720H120Zm60-500h600v-160H180v160Zm220 220h160v-160H400v160Zm0 220h160v-160H400v160ZM180-400h160v-160H180v160Zm440 0h160v-160H620v160ZM180-180h160v-160H180v160Zm440 0h160v-160H620v160Z\"/>\n",
              "  </svg>\n",
              "    </button>\n",
              "\n",
              "  <style>\n",
              "    .colab-df-container {\n",
              "      display:flex;\n",
              "      gap: 12px;\n",
              "    }\n",
              "\n",
              "    .colab-df-convert {\n",
              "      background-color: #E8F0FE;\n",
              "      border: none;\n",
              "      border-radius: 50%;\n",
              "      cursor: pointer;\n",
              "      display: none;\n",
              "      fill: #1967D2;\n",
              "      height: 32px;\n",
              "      padding: 0 0 0 0;\n",
              "      width: 32px;\n",
              "    }\n",
              "\n",
              "    .colab-df-convert:hover {\n",
              "      background-color: #E2EBFA;\n",
              "      box-shadow: 0px 1px 2px rgba(60, 64, 67, 0.3), 0px 1px 3px 1px rgba(60, 64, 67, 0.15);\n",
              "      fill: #174EA6;\n",
              "    }\n",
              "\n",
              "    .colab-df-buttons div {\n",
              "      margin-bottom: 4px;\n",
              "    }\n",
              "\n",
              "    [theme=dark] .colab-df-convert {\n",
              "      background-color: #3B4455;\n",
              "      fill: #D2E3FC;\n",
              "    }\n",
              "\n",
              "    [theme=dark] .colab-df-convert:hover {\n",
              "      background-color: #434B5C;\n",
              "      box-shadow: 0px 1px 3px 1px rgba(0, 0, 0, 0.15);\n",
              "      filter: drop-shadow(0px 1px 2px rgba(0, 0, 0, 0.3));\n",
              "      fill: #FFFFFF;\n",
              "    }\n",
              "  </style>\n",
              "\n",
              "    <script>\n",
              "      const buttonEl =\n",
              "        document.querySelector('#df-03a8a46b-e643-4b12-8b06-875caa9dbece button.colab-df-convert');\n",
              "      buttonEl.style.display =\n",
              "        google.colab.kernel.accessAllowed ? 'block' : 'none';\n",
              "\n",
              "      async function convertToInteractive(key) {\n",
              "        const element = document.querySelector('#df-03a8a46b-e643-4b12-8b06-875caa9dbece');\n",
              "        const dataTable =\n",
              "          await google.colab.kernel.invokeFunction('convertToInteractive',\n",
              "                                                    [key], {});\n",
              "        if (!dataTable) return;\n",
              "\n",
              "        const docLinkHtml = 'Like what you see? Visit the ' +\n",
              "          '<a target=\"_blank\" href=https://colab.research.google.com/notebooks/data_table.ipynb>data table notebook</a>'\n",
              "          + ' to learn more about interactive tables.';\n",
              "        element.innerHTML = '';\n",
              "        dataTable['output_type'] = 'display_data';\n",
              "        await google.colab.output.renderOutput(dataTable, element);\n",
              "        const docLink = document.createElement('div');\n",
              "        docLink.innerHTML = docLinkHtml;\n",
              "        element.appendChild(docLink);\n",
              "      }\n",
              "    </script>\n",
              "  </div>\n",
              "\n",
              "\n",
              "<div id=\"df-b764f2b0-8306-4b0f-9e91-ce86f0d23144\">\n",
              "  <button class=\"colab-df-quickchart\" onclick=\"quickchart('df-b764f2b0-8306-4b0f-9e91-ce86f0d23144')\"\n",
              "            title=\"Suggest charts\"\n",
              "            style=\"display:none;\">\n",
              "\n",
              "<svg xmlns=\"http://www.w3.org/2000/svg\" height=\"24px\"viewBox=\"0 0 24 24\"\n",
              "     width=\"24px\">\n",
              "    <g>\n",
              "        <path d=\"M19 3H5c-1.1 0-2 .9-2 2v14c0 1.1.9 2 2 2h14c1.1 0 2-.9 2-2V5c0-1.1-.9-2-2-2zM9 17H7v-7h2v7zm4 0h-2V7h2v10zm4 0h-2v-4h2v4z\"/>\n",
              "    </g>\n",
              "</svg>\n",
              "  </button>\n",
              "\n",
              "<style>\n",
              "  .colab-df-quickchart {\n",
              "      --bg-color: #E8F0FE;\n",
              "      --fill-color: #1967D2;\n",
              "      --hover-bg-color: #E2EBFA;\n",
              "      --hover-fill-color: #174EA6;\n",
              "      --disabled-fill-color: #AAA;\n",
              "      --disabled-bg-color: #DDD;\n",
              "  }\n",
              "\n",
              "  [theme=dark] .colab-df-quickchart {\n",
              "      --bg-color: #3B4455;\n",
              "      --fill-color: #D2E3FC;\n",
              "      --hover-bg-color: #434B5C;\n",
              "      --hover-fill-color: #FFFFFF;\n",
              "      --disabled-bg-color: #3B4455;\n",
              "      --disabled-fill-color: #666;\n",
              "  }\n",
              "\n",
              "  .colab-df-quickchart {\n",
              "    background-color: var(--bg-color);\n",
              "    border: none;\n",
              "    border-radius: 50%;\n",
              "    cursor: pointer;\n",
              "    display: none;\n",
              "    fill: var(--fill-color);\n",
              "    height: 32px;\n",
              "    padding: 0;\n",
              "    width: 32px;\n",
              "  }\n",
              "\n",
              "  .colab-df-quickchart:hover {\n",
              "    background-color: var(--hover-bg-color);\n",
              "    box-shadow: 0 1px 2px rgba(60, 64, 67, 0.3), 0 1px 3px 1px rgba(60, 64, 67, 0.15);\n",
              "    fill: var(--button-hover-fill-color);\n",
              "  }\n",
              "\n",
              "  .colab-df-quickchart-complete:disabled,\n",
              "  .colab-df-quickchart-complete:disabled:hover {\n",
              "    background-color: var(--disabled-bg-color);\n",
              "    fill: var(--disabled-fill-color);\n",
              "    box-shadow: none;\n",
              "  }\n",
              "\n",
              "  .colab-df-spinner {\n",
              "    border: 2px solid var(--fill-color);\n",
              "    border-color: transparent;\n",
              "    border-bottom-color: var(--fill-color);\n",
              "    animation:\n",
              "      spin 1s steps(1) infinite;\n",
              "  }\n",
              "\n",
              "  @keyframes spin {\n",
              "    0% {\n",
              "      border-color: transparent;\n",
              "      border-bottom-color: var(--fill-color);\n",
              "      border-left-color: var(--fill-color);\n",
              "    }\n",
              "    20% {\n",
              "      border-color: transparent;\n",
              "      border-left-color: var(--fill-color);\n",
              "      border-top-color: var(--fill-color);\n",
              "    }\n",
              "    30% {\n",
              "      border-color: transparent;\n",
              "      border-left-color: var(--fill-color);\n",
              "      border-top-color: var(--fill-color);\n",
              "      border-right-color: var(--fill-color);\n",
              "    }\n",
              "    40% {\n",
              "      border-color: transparent;\n",
              "      border-right-color: var(--fill-color);\n",
              "      border-top-color: var(--fill-color);\n",
              "    }\n",
              "    60% {\n",
              "      border-color: transparent;\n",
              "      border-right-color: var(--fill-color);\n",
              "    }\n",
              "    80% {\n",
              "      border-color: transparent;\n",
              "      border-right-color: var(--fill-color);\n",
              "      border-bottom-color: var(--fill-color);\n",
              "    }\n",
              "    90% {\n",
              "      border-color: transparent;\n",
              "      border-bottom-color: var(--fill-color);\n",
              "    }\n",
              "  }\n",
              "</style>\n",
              "\n",
              "  <script>\n",
              "    async function quickchart(key) {\n",
              "      const quickchartButtonEl =\n",
              "        document.querySelector('#' + key + ' button');\n",
              "      quickchartButtonEl.disabled = true;  // To prevent multiple clicks.\n",
              "      quickchartButtonEl.classList.add('colab-df-spinner');\n",
              "      try {\n",
              "        const charts = await google.colab.kernel.invokeFunction(\n",
              "            'suggestCharts', [key], {});\n",
              "      } catch (error) {\n",
              "        console.error('Error during call to suggestCharts:', error);\n",
              "      }\n",
              "      quickchartButtonEl.classList.remove('colab-df-spinner');\n",
              "      quickchartButtonEl.classList.add('colab-df-quickchart-complete');\n",
              "    }\n",
              "    (() => {\n",
              "      let quickchartButtonEl =\n",
              "        document.querySelector('#df-b764f2b0-8306-4b0f-9e91-ce86f0d23144 button');\n",
              "      quickchartButtonEl.style.display =\n",
              "        google.colab.kernel.accessAllowed ? 'block' : 'none';\n",
              "    })();\n",
              "  </script>\n",
              "</div>\n",
              "    </div>\n",
              "  </div>\n"
            ],
            "application/vnd.google.colaboratory.intrinsic+json": {
              "type": "dataframe",
              "variable_name": "input_df",
              "summary": "{\n  \"name\": \"input_df\",\n  \"rows\": 964,\n  \"fields\": [\n    {\n      \"column\": \"text\",\n      \"properties\": {\n        \"dtype\": \"string\",\n        \"num_unique_values\": 955,\n        \"samples\": [\n          \"BANGGAI RAYA-Badan Pengawas Pemilu (Bawaslu) Kabupaten Banggai melalui Panitia Pengawas Kecamatan (Panwascam) Luwuk Utara melakukan koordinasi dengan Polsek Banggai untuk menyikapi surat tanda terima pemberitahuan (STTP) kampanye calon anggota legiatif (Caleg) di akhir tahun 2023.Sabtu (30/12/2023) kemarin, sekira pukul 09.30 Wita, Panwascam Luwuk Utara menemui Kapolsek Luwuk.Ketua Panwascam Luwuk Utara, Makatul Alkap menjelaskan, Panwascam Luwuk Utara melakukan koordinasi dengan Kapolsek Kota Luwuk, terkait patroli pengawasan di malam tahun baru, dan koordinasi terkait STTP yang disebarkan oleh Polsek Luwuk.\\u201cAgar lebih diperhatikan, dikarenakan sebagian besar Caleg saat kampanye memperlihatkan STTP, sehingga membuat kewalahan Panwascam. Beruntung ada PKD yang Standby di wilayahnya masing-masing, \\u201d kata Makatul Alkap kepada Banggai Raya, Minggu (31/12/2023).Ia mengakui bahwa PKD di Luwuk Utara memiliki insting pengawasan yang tidak diragukan lagi.Bahkan kata dia, ada beberapa Caleg yang tidak ada surat pemberitahuan dan STTP, mereka dapat dan bisa melakukan pengawasan melekat.\\u201cSelain koordinasi, juga dalam waktu dekat, kami akan melakukan koordinasi tentang perekrutan pengawas TPS, agar bisa diketahui oleh Kapolsek Luwuk. Bukan hanya di Polsek, tapi di Koramil juga, kami akan berkunjung, agar tetap terjaga sinergitas antar penyelenggara dan pihak TNI/Polri tentunya,\\u201d Pungkasnya. RUM\",\n          \"BANGGAI RAYA- Saat ini, Pondok Pesantren (Ponpes) Daarul Hikmah Luwuk tengah membuka penerimaan santri baru tahun pelajaran 2024/2025.Dalam penerimaan santri baru, Ponpes Daarul Hikmah Luwuk membuka untuk dua tingkatan yakni tingkat MTs dan Madrasah Aliyah.Bagi orangtua yang ingin memondokkan anaknya, Ponpes Daarul Hikmah Luwuk yang merupakan ponpes favorit di Kota Luwuk ini bisa menjadi pilihan.Nah, sebelum masuk dan mendaftar di Ponpes Daarul Hikmah Luwuk, para calon santri baru harus tahu apa-apa saja ekstrakulikuler yang ada di Ponpes Daarul Hikmah Luwuk.Ponpes Daarul Hikmah Luwuk menerapkan sejumlah ekstrakulikuler yang terbagi dalam dua kategori yakni wajib dan tidak wajib.Untuk ekstrakulikuler wajib, ada tapak suci dan taekwondo.\\u201cIni wajib, tapi santri bisa memilih di antara dua ini, apakah tapak suci atau taekwondo. Prinsipnya, santri harus bisa olahraga bela diri,\\u201d ungkap Ustadz Mu\\u2019adz sapaan akrab ustadz kondang di Kabupaten Banggai itu, Jumat 19 Januari 2024.Berikutnya, ada ekstrakulikuler kursus Bahasa Arab, Bahasa Inggris dan Tahfiz. \\u201cUntuk ekstrakulikuler ini, wajib sehingga tidak berbayar,\\u201d jelas Ustadz Mu\\u2019adz.Selain ekstrakulikuler wajib, Ponpes Daarul Hikmah Luwuk juga menyediakan ekstrakulikuler tidak wajib dan bisa dipilih oleh santri.Untuk ekstrakulikuler tidak wajib yang bisa dipilih santri ini, ada olahraga basket, panahan, tilawah, hadroh dan lainnya.\\u201cEkstrakulikuler yang tidak wajib ini, berbayar per item itu Rp30 ribu. Tapi ekstrakulikuler ini tidak ikut tidak masalah (tidak wajib),\\u201d bebernya.Dengan banyaknya ekstrakulikuler disiapkan di Ponpes Daarul Hikmah Luwuk kata Ustadz Mu\\u2019adz, tak lain untuk mengasah dan meningkatkan kemampuan santri di bidangnya masing-masing.\\u201cSeperti bela diri, bahasa arab, bahas Inggris. Karena memang untuk ekstrakulikuler ini, tidak semua santri suka main basket, suka panahan, suka tilawah. Sehingga tidak diwajibkan,\\u201d terangnya.Karena tidak diwajibkan, santri Ponpes Daarul Hikmah Luwuk yang memilih ekstrakulikuler itu harus membayar.\\u201cBiayanya Rp30 ribu, ini pun untuk membeli peralatan yang harus diadakan dalam ekstrakulikuler yang diikuti,\\u201d katanya.Ia berharap, melalui ekstrakulikuler yang ada diikuti, santri bisa meraih prestasi di bidang dan kemampuannya masing-masing untuk mengharumkan nama Ponpes Daarul Hikmah Luwuk dan juga daerah tercinta. (*)\",\n          \"Laporan Wartawan TribunPalu.com, Asnawi Zikri TRIBUNPALU.COM, BANGGAI -Bupati Banggai, Amirudin , menghadiri perayaan HUT ke-43 SMA Negeri 2 Luwuk, di lapangan SMA Negeri 2 Luwuk, Kelurahan Baru, Kecamatan Luwuk, Kabupaten Banggai, Sulawesi Tengah, Senin (15/1/2024). Bupati Amirudin mengucapkan selamat dan memberikan apresiasi kepada seluruh keluarga besar SMA Negeri 2 Luwuk. Bupati Amirudin menegaskan komitmen pemerintah daerah untuk terus mendukung perkembangan-perkembangan sekolah tersebut. \\u201cInsya Allah saya akan tanggung 20 juta (pembangunan gerbang sekolah). Mudah- mudahan tahun depan kita datang sudah jadi,\\u201d ungkap Bupati Amirudin. Tak hanya itu, Bupati Amirudin juga memberikan apresiasi kepada beberapa siswa berprestasi yaitu Asri Anjani dan Chelin Lauren. \\u201cUntuk puisi, saya dapat informasi akan melanjutkan kegiatannya ke Medan, maka segala akomodasi dan transportasi ditanggung Pemda Banggai,\\u201d lanjutnya kepada Chelin. \\u201cDan untuk Duta Wisata, kami akan memberikan rekomendasi terhadap universitas yang dituju,\\u201d tambahnya. Perayaan HUT SMA Negeri 2 Luwuk yang dimulai sejak 10 Januari 2024 berlangsung meriah selama 5 hari sampai hari ini telah melibatkan siswa dari berbagai SMP dan SMA yang ada di Kabupaten Banggai. Sejumlah kegiatan lomba menarik telah diselenggarakan sebagai bagian dari rangkaian perayaan yakni Lomba fashion show, Tournament Free Fire, rangking 1, dan bola voli. Dengan suksesnya perayaan HUT SMA 2 Luwuk ini diharapkan semangat kebersamaan dan prestasi yang telah ditunjukkan oleh siswa dapat terus menjadi inspirasi bagi generasi mendatang. (*) \"\n        ],\n        \"semantic_type\": \"\",\n        \"description\": \"\"\n      }\n    },\n    {\n      \"column\": \"topics_name\",\n      \"properties\": {\n        \"dtype\": \"category\",\n        \"num_unique_values\": 6,\n        \"samples\": [\n          \"Layanan Publik\",\n          \"Kesehatan Publik\",\n          \"Ekonomi Lokal\"\n        ],\n        \"semantic_type\": \"\",\n        \"description\": \"\"\n      }\n    },\n    {\n      \"column\": \"title\",\n      \"properties\": {\n        \"dtype\": \"string\",\n        \"num_unique_values\": 949,\n        \"samples\": [\n          \"Direktur AMIK Luwuk Ingatkan Alumni, Jaga Kredibilitas dan Nama Baik Almamater!\",\n          \"Mahasiswa FKIP Gelar Ujian Akhir Semester di Kampus 2 Unismuh Luwuk\",\n          \"Pemuda Turun ke Jalan Kampanyekan Lawan Politik Dinasti di Banggai\"\n        ],\n        \"semantic_type\": \"\",\n        \"description\": \"\"\n      }\n    }\n  ]\n}"
            }
          },
          "metadata": {},
          "execution_count": 260
        }
      ]
    },
    {
      "cell_type": "code",
      "source": [
        "input_df.to_excel('text_test2_edit.xlsx')"
      ],
      "metadata": {
        "id": "RGv9oMOCtTwB"
      },
      "execution_count": null,
      "outputs": []
    }
  ]
}