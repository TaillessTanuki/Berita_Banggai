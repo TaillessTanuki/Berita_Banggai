{
  "nbformat": 4,
  "nbformat_minor": 0,
  "metadata": {
    "colab": {
      "provenance": [],
      "collapsed_sections": [
        "LJL-neuHd-ab",
        "skf-zcc5Ksrz",
        "csdn5fHWjv2W",
        "KyujIEiSK3YT",
        "2opI8g0QULEZ",
        "OrthBGy0GJFv",
        "LJwFbcb-OMTn",
        "PKe24t8HSoI2",
        "CqB8t05PSwu0"
      ],
      "toc_visible": true,
      "include_colab_link": true
    },
    "kernelspec": {
      "name": "python3",
      "display_name": "Python 3"
    },
    "language_info": {
      "name": "python"
    }
  },
  "cells": [
    {
      "cell_type": "markdown",
      "metadata": {
        "id": "view-in-github",
        "colab_type": "text"
      },
      "source": [
        "<a href=\"https://colab.research.google.com/github/TaillessTanuki/Berita_Banggai/blob/main/Berita_Banggai_MK_1.ipynb\" target=\"_parent\"><img src=\"https://colab.research.google.com/assets/colab-badge.svg\" alt=\"Open In Colab\"/></a>"
      ]
    },
    {
      "cell_type": "markdown",
      "metadata": {
        "id": "Wj172v-Yd1-_"
      },
      "source": [
        "# Libraries"
      ]
    },
    {
      "cell_type": "code",
      "execution_count": 2,
      "metadata": {
        "colab": {
          "base_uri": "https://localhost:8080/"
        },
        "id": "MjWHRVR5ahdx",
        "outputId": "7ad004fa-682d-4db1-c61b-59e4136836be"
      },
      "outputs": [
        {
          "output_type": "stream",
          "name": "stdout",
          "text": [
            "Collecting Sastrawi\n",
            "  Downloading Sastrawi-1.0.1-py2.py3-none-any.whl (209 kB)\n",
            "\u001b[?25l     \u001b[90m━━━━━━━━━━━━━━━━━━━━━━━━━━━━━━━━━━━━━━━━\u001b[0m \u001b[32m0.0/209.7 kB\u001b[0m \u001b[31m?\u001b[0m eta \u001b[36m-:--:--\u001b[0m\r\u001b[2K     \u001b[91m━━━━━━━━━━━━━━━━━━━━━━━━━━━━━━━━━━━━━━━\u001b[0m\u001b[90m╺\u001b[0m \u001b[32m204.8/209.7 kB\u001b[0m \u001b[31m6.3 MB/s\u001b[0m eta \u001b[36m0:00:01\u001b[0m\r\u001b[2K     \u001b[90m━━━━━━━━━━━━━━━━━━━━━━━━━━━━━━━━━━━━━━━━\u001b[0m \u001b[32m209.7/209.7 kB\u001b[0m \u001b[31m5.1 MB/s\u001b[0m eta \u001b[36m0:00:00\u001b[0m\n",
            "\u001b[?25hInstalling collected packages: Sastrawi\n",
            "Successfully installed Sastrawi-1.0.1\n",
            "Collecting clean-text\n",
            "  Downloading clean_text-0.6.0-py3-none-any.whl (11 kB)\n",
            "Collecting emoji<2.0.0,>=1.0.0 (from clean-text)\n",
            "  Downloading emoji-1.7.0.tar.gz (175 kB)\n",
            "\u001b[2K     \u001b[90m━━━━━━━━━━━━━━━━━━━━━━━━━━━━━━━━━━━━━━━━\u001b[0m \u001b[32m175.4/175.4 kB\u001b[0m \u001b[31m5.6 MB/s\u001b[0m eta \u001b[36m0:00:00\u001b[0m\n",
            "\u001b[?25h  Preparing metadata (setup.py) ... \u001b[?25l\u001b[?25hdone\n",
            "Collecting ftfy<7.0,>=6.0 (from clean-text)\n",
            "  Downloading ftfy-6.1.3-py3-none-any.whl (53 kB)\n",
            "\u001b[2K     \u001b[90m━━━━━━━━━━━━━━━━━━━━━━━━━━━━━━━━━━━━━━━━\u001b[0m \u001b[32m53.4/53.4 kB\u001b[0m \u001b[31m7.5 MB/s\u001b[0m eta \u001b[36m0:00:00\u001b[0m\n",
            "\u001b[?25hRequirement already satisfied: wcwidth<0.3.0,>=0.2.12 in /usr/local/lib/python3.10/dist-packages (from ftfy<7.0,>=6.0->clean-text) (0.2.13)\n",
            "Building wheels for collected packages: emoji\n",
            "  Building wheel for emoji (setup.py) ... \u001b[?25l\u001b[?25hdone\n",
            "  Created wheel for emoji: filename=emoji-1.7.0-py3-none-any.whl size=171034 sha256=a29f4c5f8a0e3859962d3bb090d207ca184457d3e9185ca1f0fa3055b42eb2fe\n",
            "  Stored in directory: /root/.cache/pip/wheels/31/8a/8c/315c9e5d7773f74b33d5ed33f075b49c6eaeb7cedbb86e2cf8\n",
            "Successfully built emoji\n",
            "Installing collected packages: emoji, ftfy, clean-text\n",
            "Successfully installed clean-text-0.6.0 emoji-1.7.0 ftfy-6.1.3\n",
            "Collecting deep-translator\n",
            "  Downloading deep_translator-1.11.4-py3-none-any.whl (42 kB)\n",
            "\u001b[2K     \u001b[90m━━━━━━━━━━━━━━━━━━━━━━━━━━━━━━━━━━━━━━━━\u001b[0m \u001b[32m42.3/42.3 kB\u001b[0m \u001b[31m1.9 MB/s\u001b[0m eta \u001b[36m0:00:00\u001b[0m\n",
            "\u001b[?25hRequirement already satisfied: beautifulsoup4<5.0.0,>=4.9.1 in /usr/local/lib/python3.10/dist-packages (from deep-translator) (4.12.3)\n",
            "Requirement already satisfied: requests<3.0.0,>=2.23.0 in /usr/local/lib/python3.10/dist-packages (from deep-translator) (2.31.0)\n",
            "Requirement already satisfied: soupsieve>1.2 in /usr/local/lib/python3.10/dist-packages (from beautifulsoup4<5.0.0,>=4.9.1->deep-translator) (2.5)\n",
            "Requirement already satisfied: charset-normalizer<4,>=2 in /usr/local/lib/python3.10/dist-packages (from requests<3.0.0,>=2.23.0->deep-translator) (3.3.2)\n",
            "Requirement already satisfied: idna<4,>=2.5 in /usr/local/lib/python3.10/dist-packages (from requests<3.0.0,>=2.23.0->deep-translator) (3.6)\n",
            "Requirement already satisfied: urllib3<3,>=1.21.1 in /usr/local/lib/python3.10/dist-packages (from requests<3.0.0,>=2.23.0->deep-translator) (2.0.7)\n",
            "Requirement already satisfied: certifi>=2017.4.17 in /usr/local/lib/python3.10/dist-packages (from requests<3.0.0,>=2.23.0->deep-translator) (2024.2.2)\n",
            "Installing collected packages: deep-translator\n",
            "Successfully installed deep-translator-1.11.4\n"
          ]
        }
      ],
      "source": [
        "!pip install Sastrawi\n",
        "!pip install clean-text\n",
        "!pip install deep-translator"
      ]
    },
    {
      "cell_type": "code",
      "execution_count": 3,
      "metadata": {
        "colab": {
          "base_uri": "https://localhost:8080/"
        },
        "id": "6Nsz9j1DEJXD",
        "outputId": "f31b0260-1272-4d82-cff3-6ad322c9abeb"
      },
      "outputs": [
        {
          "output_type": "stream",
          "name": "stderr",
          "text": [
            "[nltk_data] Downloading package stopwords to /root/nltk_data...\n",
            "[nltk_data]   Unzipping corpora/stopwords.zip.\n",
            "[nltk_data] Downloading package wordnet to /root/nltk_data...\n",
            "[nltk_data] Downloading package punkt to /root/nltk_data...\n",
            "[nltk_data]   Unzipping tokenizers/punkt.zip.\n",
            "WARNING:root:Since the GPL-licensed package `unidecode` is not installed, using Python's `unicodedata` package which yields worse results.\n"
          ]
        }
      ],
      "source": [
        "import pandas as pd\n",
        "import numpy as np\n",
        "from nltk.corpus import stopwords\n",
        "import re\n",
        "import nltk\n",
        "nltk.download('stopwords')\n",
        "nltk.download('wordnet')\n",
        "nltk.download('punkt')\n",
        "from nltk.stem import PorterStemmer\n",
        "from nltk.stem import LancasterStemmer\n",
        "from nltk.tokenize import word_tokenize\n",
        "from Sastrawi.Stemmer.StemmerFactory import StemmerFactory\n",
        "from Sastrawi.StopWordRemover.StopWordRemoverFactory import StopWordRemoverFactory, StopWordRemover, ArrayDictionary\n",
        "from cleantext import clean\n",
        "from collections import Counter"
      ]
    },
    {
      "cell_type": "code",
      "source": [
        "import sklearn"
      ],
      "metadata": {
        "id": "fSui9eOPzRQ0"
      },
      "execution_count": 4,
      "outputs": []
    },
    {
      "cell_type": "code",
      "execution_count": 5,
      "metadata": {
        "id": "cKKzjVp3T644"
      },
      "outputs": [],
      "source": [
        "# !pip freeze > requirements.txt"
      ]
    },
    {
      "cell_type": "markdown",
      "metadata": {
        "id": "tCl5GW_rd6yk"
      },
      "source": [
        "# Get Data from ES and prepare DF"
      ]
    },
    {
      "cell_type": "code",
      "source": [
        "import requests\n",
        "import json"
      ],
      "metadata": {
        "id": "xO6kQ22cOqRq"
      },
      "execution_count": 6,
      "outputs": []
    },
    {
      "cell_type": "code",
      "source": [
        "elasticsearch_url = 'https://es-1.datanusantara.com:9201'\n",
        "username = 'adminkibana'\n",
        "password = 'kibanaPASS!@#2019'\n",
        "index_endpoint = 'news-crawl-production-v2'"
      ],
      "metadata": {
        "id": "2Cl8MeblOqy0"
      },
      "execution_count": 7,
      "outputs": []
    },
    {
      "cell_type": "code",
      "source": [
        "#query = {\n",
        "#    \"_source\": [\"text\", \"source\",\"source_detail\",\"target\"],\n",
        " #   \"size\":600,\n",
        "  #  \"query\": {\n",
        "   #     \"match\": {\n",
        "    #              \"source\": \"news\"\n",
        "     #           },\n",
        "      #  \"match\": {\n",
        "       #     \"target\": \"banggai\"\n",
        "  #      }\n",
        " #   }\n",
        "#}\n",
        "\n",
        "#search_url = f\"{elasticsearch_url}/{index_endpoint}/_search\"\n",
        "#response = requests.get(search_url, json=query, auth=(username, password))"
      ],
      "metadata": {
        "id": "JA2QchqqyFXN"
      },
      "execution_count": 14,
      "outputs": []
    },
    {
      "cell_type": "code",
      "source": [
        "query = {\n",
        "  \"_source\": [\"target\", \"title\",\"description_content\"],\n",
        "  \"size\": 1000,\n",
        "  \"query\": {\n",
        "    \"bool\": {\n",
        "      \"must\": [],\n",
        "      \"filter\": [\n",
        "        {\n",
        "          \"match_all\": {}\n",
        "        },\n",
        "        {\n",
        "          \"bool\": {\n",
        "            \"should\": [\n",
        "\n",
        "\n",
        "              {\n",
        "                \"match_phrase\": {\n",
        "                  \"target\": \"banggai\"\n",
        "                }\n",
        "              }\n",
        "            ],\n",
        "            \"minimum_should_match\": 1\n",
        "\n",
        "\n",
        "          }\n",
        "        }\n",
        "      ]\n",
        "    }\n",
        "  }\n",
        "}\n",
        "search_url = f\"{elasticsearch_url}/{index_endpoint}/_search\"\n",
        "response = requests.get(search_url, json=query, auth=(username, password))"
      ],
      "metadata": {
        "id": "txkI7mMbPN7K"
      },
      "execution_count": 8,
      "outputs": []
    },
    {
      "cell_type": "code",
      "source": [
        "search_url\n"
      ],
      "metadata": {
        "colab": {
          "base_uri": "https://localhost:8080/",
          "height": 35
        },
        "id": "gH2-uNiF5bNf",
        "outputId": "ce0a79e6-5dc0-4257-c53a-3966dba1ddb4"
      },
      "execution_count": 9,
      "outputs": [
        {
          "output_type": "execute_result",
          "data": {
            "text/plain": [
              "'https://es-1.datanusantara.com:9201/news-crawl-production-v2/_search'"
            ],
            "application/vnd.google.colaboratory.intrinsic+json": {
              "type": "string"
            }
          },
          "metadata": {},
          "execution_count": 9
        }
      ]
    },
    {
      "cell_type": "code",
      "source": [
        "search_results = response.json()\n",
        "# print(json.dumps(search_results, indent=2))\n",
        "print(len(search_results['hits']['hits']))"
      ],
      "metadata": {
        "colab": {
          "base_uri": "https://localhost:8080/"
        },
        "id": "kgnEX_k4Wjqm",
        "outputId": "b0a3601b-db7b-4aaf-ab5f-29fe5a2c1587"
      },
      "execution_count": 10,
      "outputs": [
        {
          "output_type": "stream",
          "name": "stdout",
          "text": [
            "1000\n"
          ]
        }
      ]
    },
    {
      "cell_type": "code",
      "source": [
        "# Parse the response to extract relevant data\n",
        "search_results = response.json()\n",
        "\n",
        "# Process the data and create a DataFrame\n",
        "data = []\n",
        "for hit in search_results.get(\"hits\", {}).get(\"hits\", []):\n",
        "    target = hit[\"_source\"][\"target\"]\n",
        "    title = hit[\"_source\"][\"title\"]\n",
        "    text = hit[\"_source\"][\"description_content\"]\n",
        "\n",
        "    data.append({\"target\": target,  \"title\": title, \"text\": text})\n",
        "\n",
        "# Create a DataFrame\n",
        "df = pd.DataFrame(data)\n",
        "print(df.head())"
      ],
      "metadata": {
        "colab": {
          "base_uri": "https://localhost:8080/"
        },
        "id": "j4AoD9uyU15U",
        "outputId": "dcb51671-3bbc-4f6c-dc07-78b9d1628c66"
      },
      "execution_count": 11,
      "outputs": [
        {
          "output_type": "stream",
          "name": "stdout",
          "text": [
            "    target                                              title  \\\n",
            "0  banggai  Mobil Sim Keliling Polres Banggai Meriahkan Pa...   \n",
            "1  banggai  Film Horor “Piara Mayat”,  Kreativitas Anak Mu...   \n",
            "2  banggai  Festival Malabot Tumbe 2023 Kembali Meriahkan ...   \n",
            "3  banggai  Rakor Kampanye Damai Pemilu 2024, Polres Bangg...   \n",
            "4  banggai  Bawaslu Banggai Perkuat Koordinasi dengan Panw...   \n",
            "\n",
            "                                                text  \n",
            "0  KABAR LUWUK –  Suasana Pasar Murah bersubsidi ...  \n",
            "1  KABAR LUWUK  –  Film Horor“Piara Mayat”,Kreati...  \n",
            "2  KABAR LUWUK  –Festival Malabot Tumbe 2023Kemba...  \n",
            "3  “Kerja Cepat dan Terkoordinir dalam Penerbitan...  \n",
            "4  KABAR LUWUK  –Bawaslu BanggaiPerkuat Koordinas...  \n"
          ]
        }
      ]
    },
    {
      "cell_type": "code",
      "source": [
        "# For manual Review\n",
        "#import random\n",
        "\n",
        "# Set the number of random samples you want to select\n",
        "#num_samples = 100  # Adjust this number as needed\n",
        "\n",
        "# Select random samples from the DataFrame\n",
        "#random_indices = random.sample(range(len(df)), num_samples)\n",
        "#random_data = df.iloc[random_indices][[\"title\", \"text\"]]\n",
        "\n",
        "# Save random data to a CSV file\n",
        "#random_data.to_csv(\"random_data.csv\")\n"
      ],
      "metadata": {
        "id": "eGNyh7EV1b5f"
      },
      "execution_count": 24,
      "outputs": []
    },
    {
      "cell_type": "code",
      "source": [
        "df"
      ],
      "metadata": {
        "id": "CDecXx4K7dOv"
      },
      "execution_count": null,
      "outputs": []
    },
    {
      "cell_type": "code",
      "source": [
        "df.info()"
      ],
      "metadata": {
        "id": "CdinjW6N7dUR"
      },
      "execution_count": null,
      "outputs": []
    },
    {
      "cell_type": "markdown",
      "metadata": {
        "id": "gUEtMZPwYsWm"
      },
      "source": [
        "# Preprocessing"
      ]
    },
    {
      "cell_type": "markdown",
      "metadata": {
        "id": "1zxQ2fH4cJsF"
      },
      "source": [
        "## Delete Duplicates"
      ]
    },
    {
      "cell_type": "code",
      "execution_count": 12,
      "metadata": {
        "colab": {
          "base_uri": "https://localhost:8080/"
        },
        "id": "QTIzTCJ-cZpF",
        "outputId": "d6bc1079-a0bc-46b5-9205-cb509d43e3b2"
      },
      "outputs": [
        {
          "output_type": "execute_result",
          "data": {
            "text/plain": [
              "25"
            ]
          },
          "metadata": {},
          "execution_count": 12
        }
      ],
      "source": [
        "df.duplicated(subset='title').sum()"
      ]
    },
    {
      "cell_type": "code",
      "execution_count": 13,
      "metadata": {
        "id": "rDSvUPZIcMrK"
      },
      "outputs": [],
      "source": [
        "df = df.drop_duplicates(subset='title')"
      ]
    },
    {
      "cell_type": "markdown",
      "metadata": {
        "id": "LJL-neuHd-ab"
      },
      "source": [
        "## Case Folding"
      ]
    },
    {
      "cell_type": "code",
      "execution_count": 14,
      "metadata": {
        "id": "os3Yx3F1cC3Z"
      },
      "outputs": [],
      "source": [
        "def clean_lower(lwr):\n",
        "    lwr = lwr.lower() # lowercase text\n",
        "    return lwr"
      ]
    },
    {
      "cell_type": "code",
      "execution_count": 15,
      "metadata": {
        "colab": {
          "base_uri": "https://localhost:8080/"
        },
        "id": "MMU-H_NhdZHO",
        "outputId": "d5e2a992-e253-417b-fbeb-2b96cb3b6750"
      },
      "outputs": [
        {
          "output_type": "execute_result",
          "data": {
            "text/plain": [
              "0      kabar luwuk –  suasana pasar murah bersubsidi ...\n",
              "1      kabar luwuk  –  film horor“piara mayat”,kreati...\n",
              "2      kabar luwuk  –festival malabot tumbe 2023kemba...\n",
              "3      “kerja cepat dan terkoordinir dalam penerbitan...\n",
              "4      kabar luwuk  –bawaslu banggaiperkuat koordinas...\n",
              "                             ...                        \n",
              "995    terasbanggai.com -bawaslu banggai akan meningk...\n",
              "996    banggai raya-bupati banggai, ir. h. amirudin m...\n",
              "997    terasbanggai.com- setelah sempat tertunda masa...\n",
              "998    banggai, 25 januari 2024 – bertempat di ruang ...\n",
              "999    banggai raya-bawaslu kabupaten banggai menggel...\n",
              "Name: lwr, Length: 975, dtype: object"
            ]
          },
          "metadata": {},
          "execution_count": 15
        }
      ],
      "source": [
        "# Buat kolom tambahan untuk data ulasan yang telah dicasefolding\n",
        "df['lwr'] = df['text'].apply(clean_lower)\n",
        "df['lwr']"
      ]
    },
    {
      "cell_type": "code",
      "source": [
        "df.head()"
      ],
      "metadata": {
        "id": "GDN_GKCQ09vH",
        "colab": {
          "base_uri": "https://localhost:8080/",
          "height": 206
        },
        "outputId": "684385c7-5acb-4b5f-d539-5c73975afdd2"
      },
      "execution_count": 30,
      "outputs": [
        {
          "output_type": "execute_result",
          "data": {
            "text/plain": [
              "    target                                              title  \\\n",
              "0  banggai  Mobil Sim Keliling Polres Banggai Meriahkan Pa...   \n",
              "1  banggai  Film Horor “Piara Mayat”,  Kreativitas Anak Mu...   \n",
              "2  banggai  Festival Malabot Tumbe 2023 Kembali Meriahkan ...   \n",
              "3  banggai  Rakor Kampanye Damai Pemilu 2024, Polres Bangg...   \n",
              "4  banggai  Bawaslu Banggai Perkuat Koordinasi dengan Panw...   \n",
              "\n",
              "                                                text  \\\n",
              "0  KABAR LUWUK –  Suasana Pasar Murah bersubsidi ...   \n",
              "1  KABAR LUWUK  –  Film Horor“Piara Mayat”,Kreati...   \n",
              "2  KABAR LUWUK  –Festival Malabot Tumbe 2023Kemba...   \n",
              "3  “Kerja Cepat dan Terkoordinir dalam Penerbitan...   \n",
              "4  KABAR LUWUK  –Bawaslu BanggaiPerkuat Koordinas...   \n",
              "\n",
              "                                                 lwr  \n",
              "0  kabar luwuk –  suasana pasar murah bersubsidi ...  \n",
              "1  kabar luwuk  –  film horor“piara mayat”,kreati...  \n",
              "2  kabar luwuk  –festival malabot tumbe 2023kemba...  \n",
              "3  “kerja cepat dan terkoordinir dalam penerbitan...  \n",
              "4  kabar luwuk  –bawaslu banggaiperkuat koordinas...  "
            ],
            "text/html": [
              "\n",
              "  <div id=\"df-a82e9da8-d403-46ad-82ba-4000c4ed7fe2\" class=\"colab-df-container\">\n",
              "    <div>\n",
              "<style scoped>\n",
              "    .dataframe tbody tr th:only-of-type {\n",
              "        vertical-align: middle;\n",
              "    }\n",
              "\n",
              "    .dataframe tbody tr th {\n",
              "        vertical-align: top;\n",
              "    }\n",
              "\n",
              "    .dataframe thead th {\n",
              "        text-align: right;\n",
              "    }\n",
              "</style>\n",
              "<table border=\"1\" class=\"dataframe\">\n",
              "  <thead>\n",
              "    <tr style=\"text-align: right;\">\n",
              "      <th></th>\n",
              "      <th>target</th>\n",
              "      <th>title</th>\n",
              "      <th>text</th>\n",
              "      <th>lwr</th>\n",
              "    </tr>\n",
              "  </thead>\n",
              "  <tbody>\n",
              "    <tr>\n",
              "      <th>0</th>\n",
              "      <td>banggai</td>\n",
              "      <td>Mobil Sim Keliling Polres Banggai Meriahkan Pa...</td>\n",
              "      <td>KABAR LUWUK –  Suasana Pasar Murah bersubsidi ...</td>\n",
              "      <td>kabar luwuk –  suasana pasar murah bersubsidi ...</td>\n",
              "    </tr>\n",
              "    <tr>\n",
              "      <th>1</th>\n",
              "      <td>banggai</td>\n",
              "      <td>Film Horor “Piara Mayat”,  Kreativitas Anak Mu...</td>\n",
              "      <td>KABAR LUWUK  –  Film Horor“Piara Mayat”,Kreati...</td>\n",
              "      <td>kabar luwuk  –  film horor“piara mayat”,kreati...</td>\n",
              "    </tr>\n",
              "    <tr>\n",
              "      <th>2</th>\n",
              "      <td>banggai</td>\n",
              "      <td>Festival Malabot Tumbe 2023 Kembali Meriahkan ...</td>\n",
              "      <td>KABAR LUWUK  –Festival Malabot Tumbe 2023Kemba...</td>\n",
              "      <td>kabar luwuk  –festival malabot tumbe 2023kemba...</td>\n",
              "    </tr>\n",
              "    <tr>\n",
              "      <th>3</th>\n",
              "      <td>banggai</td>\n",
              "      <td>Rakor Kampanye Damai Pemilu 2024, Polres Bangg...</td>\n",
              "      <td>“Kerja Cepat dan Terkoordinir dalam Penerbitan...</td>\n",
              "      <td>“kerja cepat dan terkoordinir dalam penerbitan...</td>\n",
              "    </tr>\n",
              "    <tr>\n",
              "      <th>4</th>\n",
              "      <td>banggai</td>\n",
              "      <td>Bawaslu Banggai Perkuat Koordinasi dengan Panw...</td>\n",
              "      <td>KABAR LUWUK  –Bawaslu BanggaiPerkuat Koordinas...</td>\n",
              "      <td>kabar luwuk  –bawaslu banggaiperkuat koordinas...</td>\n",
              "    </tr>\n",
              "  </tbody>\n",
              "</table>\n",
              "</div>\n",
              "    <div class=\"colab-df-buttons\">\n",
              "\n",
              "  <div class=\"colab-df-container\">\n",
              "    <button class=\"colab-df-convert\" onclick=\"convertToInteractive('df-a82e9da8-d403-46ad-82ba-4000c4ed7fe2')\"\n",
              "            title=\"Convert this dataframe to an interactive table.\"\n",
              "            style=\"display:none;\">\n",
              "\n",
              "  <svg xmlns=\"http://www.w3.org/2000/svg\" height=\"24px\" viewBox=\"0 -960 960 960\">\n",
              "    <path d=\"M120-120v-720h720v720H120Zm60-500h600v-160H180v160Zm220 220h160v-160H400v160Zm0 220h160v-160H400v160ZM180-400h160v-160H180v160Zm440 0h160v-160H620v160ZM180-180h160v-160H180v160Zm440 0h160v-160H620v160Z\"/>\n",
              "  </svg>\n",
              "    </button>\n",
              "\n",
              "  <style>\n",
              "    .colab-df-container {\n",
              "      display:flex;\n",
              "      gap: 12px;\n",
              "    }\n",
              "\n",
              "    .colab-df-convert {\n",
              "      background-color: #E8F0FE;\n",
              "      border: none;\n",
              "      border-radius: 50%;\n",
              "      cursor: pointer;\n",
              "      display: none;\n",
              "      fill: #1967D2;\n",
              "      height: 32px;\n",
              "      padding: 0 0 0 0;\n",
              "      width: 32px;\n",
              "    }\n",
              "\n",
              "    .colab-df-convert:hover {\n",
              "      background-color: #E2EBFA;\n",
              "      box-shadow: 0px 1px 2px rgba(60, 64, 67, 0.3), 0px 1px 3px 1px rgba(60, 64, 67, 0.15);\n",
              "      fill: #174EA6;\n",
              "    }\n",
              "\n",
              "    .colab-df-buttons div {\n",
              "      margin-bottom: 4px;\n",
              "    }\n",
              "\n",
              "    [theme=dark] .colab-df-convert {\n",
              "      background-color: #3B4455;\n",
              "      fill: #D2E3FC;\n",
              "    }\n",
              "\n",
              "    [theme=dark] .colab-df-convert:hover {\n",
              "      background-color: #434B5C;\n",
              "      box-shadow: 0px 1px 3px 1px rgba(0, 0, 0, 0.15);\n",
              "      filter: drop-shadow(0px 1px 2px rgba(0, 0, 0, 0.3));\n",
              "      fill: #FFFFFF;\n",
              "    }\n",
              "  </style>\n",
              "\n",
              "    <script>\n",
              "      const buttonEl =\n",
              "        document.querySelector('#df-a82e9da8-d403-46ad-82ba-4000c4ed7fe2 button.colab-df-convert');\n",
              "      buttonEl.style.display =\n",
              "        google.colab.kernel.accessAllowed ? 'block' : 'none';\n",
              "\n",
              "      async function convertToInteractive(key) {\n",
              "        const element = document.querySelector('#df-a82e9da8-d403-46ad-82ba-4000c4ed7fe2');\n",
              "        const dataTable =\n",
              "          await google.colab.kernel.invokeFunction('convertToInteractive',\n",
              "                                                    [key], {});\n",
              "        if (!dataTable) return;\n",
              "\n",
              "        const docLinkHtml = 'Like what you see? Visit the ' +\n",
              "          '<a target=\"_blank\" href=https://colab.research.google.com/notebooks/data_table.ipynb>data table notebook</a>'\n",
              "          + ' to learn more about interactive tables.';\n",
              "        element.innerHTML = '';\n",
              "        dataTable['output_type'] = 'display_data';\n",
              "        await google.colab.output.renderOutput(dataTable, element);\n",
              "        const docLink = document.createElement('div');\n",
              "        docLink.innerHTML = docLinkHtml;\n",
              "        element.appendChild(docLink);\n",
              "      }\n",
              "    </script>\n",
              "  </div>\n",
              "\n",
              "\n",
              "<div id=\"df-afb35bad-e7d9-4768-b898-cd44db969fda\">\n",
              "  <button class=\"colab-df-quickchart\" onclick=\"quickchart('df-afb35bad-e7d9-4768-b898-cd44db969fda')\"\n",
              "            title=\"Suggest charts\"\n",
              "            style=\"display:none;\">\n",
              "\n",
              "<svg xmlns=\"http://www.w3.org/2000/svg\" height=\"24px\"viewBox=\"0 0 24 24\"\n",
              "     width=\"24px\">\n",
              "    <g>\n",
              "        <path d=\"M19 3H5c-1.1 0-2 .9-2 2v14c0 1.1.9 2 2 2h14c1.1 0 2-.9 2-2V5c0-1.1-.9-2-2-2zM9 17H7v-7h2v7zm4 0h-2V7h2v10zm4 0h-2v-4h2v4z\"/>\n",
              "    </g>\n",
              "</svg>\n",
              "  </button>\n",
              "\n",
              "<style>\n",
              "  .colab-df-quickchart {\n",
              "      --bg-color: #E8F0FE;\n",
              "      --fill-color: #1967D2;\n",
              "      --hover-bg-color: #E2EBFA;\n",
              "      --hover-fill-color: #174EA6;\n",
              "      --disabled-fill-color: #AAA;\n",
              "      --disabled-bg-color: #DDD;\n",
              "  }\n",
              "\n",
              "  [theme=dark] .colab-df-quickchart {\n",
              "      --bg-color: #3B4455;\n",
              "      --fill-color: #D2E3FC;\n",
              "      --hover-bg-color: #434B5C;\n",
              "      --hover-fill-color: #FFFFFF;\n",
              "      --disabled-bg-color: #3B4455;\n",
              "      --disabled-fill-color: #666;\n",
              "  }\n",
              "\n",
              "  .colab-df-quickchart {\n",
              "    background-color: var(--bg-color);\n",
              "    border: none;\n",
              "    border-radius: 50%;\n",
              "    cursor: pointer;\n",
              "    display: none;\n",
              "    fill: var(--fill-color);\n",
              "    height: 32px;\n",
              "    padding: 0;\n",
              "    width: 32px;\n",
              "  }\n",
              "\n",
              "  .colab-df-quickchart:hover {\n",
              "    background-color: var(--hover-bg-color);\n",
              "    box-shadow: 0 1px 2px rgba(60, 64, 67, 0.3), 0 1px 3px 1px rgba(60, 64, 67, 0.15);\n",
              "    fill: var(--button-hover-fill-color);\n",
              "  }\n",
              "\n",
              "  .colab-df-quickchart-complete:disabled,\n",
              "  .colab-df-quickchart-complete:disabled:hover {\n",
              "    background-color: var(--disabled-bg-color);\n",
              "    fill: var(--disabled-fill-color);\n",
              "    box-shadow: none;\n",
              "  }\n",
              "\n",
              "  .colab-df-spinner {\n",
              "    border: 2px solid var(--fill-color);\n",
              "    border-color: transparent;\n",
              "    border-bottom-color: var(--fill-color);\n",
              "    animation:\n",
              "      spin 1s steps(1) infinite;\n",
              "  }\n",
              "\n",
              "  @keyframes spin {\n",
              "    0% {\n",
              "      border-color: transparent;\n",
              "      border-bottom-color: var(--fill-color);\n",
              "      border-left-color: var(--fill-color);\n",
              "    }\n",
              "    20% {\n",
              "      border-color: transparent;\n",
              "      border-left-color: var(--fill-color);\n",
              "      border-top-color: var(--fill-color);\n",
              "    }\n",
              "    30% {\n",
              "      border-color: transparent;\n",
              "      border-left-color: var(--fill-color);\n",
              "      border-top-color: var(--fill-color);\n",
              "      border-right-color: var(--fill-color);\n",
              "    }\n",
              "    40% {\n",
              "      border-color: transparent;\n",
              "      border-right-color: var(--fill-color);\n",
              "      border-top-color: var(--fill-color);\n",
              "    }\n",
              "    60% {\n",
              "      border-color: transparent;\n",
              "      border-right-color: var(--fill-color);\n",
              "    }\n",
              "    80% {\n",
              "      border-color: transparent;\n",
              "      border-right-color: var(--fill-color);\n",
              "      border-bottom-color: var(--fill-color);\n",
              "    }\n",
              "    90% {\n",
              "      border-color: transparent;\n",
              "      border-bottom-color: var(--fill-color);\n",
              "    }\n",
              "  }\n",
              "</style>\n",
              "\n",
              "  <script>\n",
              "    async function quickchart(key) {\n",
              "      const quickchartButtonEl =\n",
              "        document.querySelector('#' + key + ' button');\n",
              "      quickchartButtonEl.disabled = true;  // To prevent multiple clicks.\n",
              "      quickchartButtonEl.classList.add('colab-df-spinner');\n",
              "      try {\n",
              "        const charts = await google.colab.kernel.invokeFunction(\n",
              "            'suggestCharts', [key], {});\n",
              "      } catch (error) {\n",
              "        console.error('Error during call to suggestCharts:', error);\n",
              "      }\n",
              "      quickchartButtonEl.classList.remove('colab-df-spinner');\n",
              "      quickchartButtonEl.classList.add('colab-df-quickchart-complete');\n",
              "    }\n",
              "    (() => {\n",
              "      let quickchartButtonEl =\n",
              "        document.querySelector('#df-afb35bad-e7d9-4768-b898-cd44db969fda button');\n",
              "      quickchartButtonEl.style.display =\n",
              "        google.colab.kernel.accessAllowed ? 'block' : 'none';\n",
              "    })();\n",
              "  </script>\n",
              "</div>\n",
              "    </div>\n",
              "  </div>\n"
            ],
            "application/vnd.google.colaboratory.intrinsic+json": {
              "type": "dataframe",
              "variable_name": "df",
              "summary": "{\n  \"name\": \"df\",\n  \"rows\": 975,\n  \"fields\": [\n    {\n      \"column\": \"target\",\n      \"properties\": {\n        \"dtype\": \"category\",\n        \"num_unique_values\": 1,\n        \"samples\": [\n          \"banggai\"\n        ],\n        \"semantic_type\": \"\",\n        \"description\": \"\"\n      }\n    },\n    {\n      \"column\": \"title\",\n      \"properties\": {\n        \"dtype\": \"string\",\n        \"num_unique_values\": 975,\n        \"samples\": [\n          \"Polres Banggai Perluas Layanan SKCK Hingga Larut Malam, Masyarakat Dapat Manfaatkan Kemudahan Pengurusan bagi Para Lulus PPPK\"\n        ],\n        \"semantic_type\": \"\",\n        \"description\": \"\"\n      }\n    },\n    {\n      \"column\": \"text\",\n      \"properties\": {\n        \"dtype\": \"string\",\n        \"num_unique_values\": 958,\n        \"samples\": [\n          \"BANGGAI RAYA- Bupati Banggai Amirudin mengikuti kegiatan wawancara Paritrana Award Tingkat Provinsi Sulawesi Tengah dengan nominasi penghargaan Jaminan Sosial Ketenagakerjaan kategori nominasi pemerintah kabupaten/kota, pada Selasa (27/2/2024), bertempat di Hotel Aston, Palu.Paritrana Award merupakan penghargaan yang diberikan pemerintah pusat kepada pemerintah daerah, dan perusahaan badan usaha yang memiliki kepedulian (awareness) tinggi, dan citra positif terhadap program jaminan sosial ketenagakerjaan.Pada kesempatan tersebut, Bupati Amirudin memaparkan kebijakan pemerintah daerah terkait implementasi Program Jaminan Sosial Ketenagakerjaan, yang merupakan bagian dari upaya menindaklanjuti Instruksi Presiden (INPRES) Nomor 2 Tahun 2021 tentang optimalisasi pelaksanaan program jaminan sosial ketenagakerjaan.BACA JUGA:Pemilu 2024, Bali Mang Melangkah ke DPRD SultengSebagai bentuk keseriusan, lanjut Bupati Amirudin, Pemkab Banggai menindaklanjuti Inpres Nomor 2 Tahun 2021 tersebut dengan mengeluarkan Peraturan Bupati (Perbup) Nomor 32 Tahun 2021 tentang pelaksanaan program Jaminan Sosial Ketenagakerjaan di daerah dan Keputusan Bupati Banggai Nomor 560/935/NAKERTRANS tentang tim koordinasi pembinaan dan pemantauan terhadap pelaksanaan program BPJS Ketenagakerjaan di Kabupaten Banggai.Tidak hanya sampai di situ, upaya penguatan regulasi daerah dan perlindungan pekerja tersebut, maka ditingkatkan status regulasi dari Peraturan Bupati (Perbup) menjadi Peraturan Daerah (Perda) dengan ditetapkannya Perda Nomor 9 Tahun 2023 tentang Optimalisasi Penyelenggaraan Program Jaminan Sosial Ketenagakerjaan.BACA JUGA:Tak Terima Diberhentikan, Sekdes Segel Kantor Desa Solan BaruUntuk tahun 2023 melalui APBD telah dianggarkan iuran kepesertaan BPJS Ketenagakerjaan untuk program Jaminan Kecelakaan Kerja (JKK) dan Jaminan Kematian (JKM) bagi 13.765 orang tenaga kerja.Keterlibatan Bupati Banggai dalam wawancara ini menegaskan komitmen Pemerintah Kabupaten Banggai dalam memberikan perlindungan sosial yang memadai bagi para tenaga kerja di wilayah tersebut.Presentasi yang disampaikan oleh Bupati Amirudin memberikan gambaran yang jelas mengenai upaya konkret yang telah dilakukan untuk meningkatkan kesejahteraan dan keamanan sosial bagi masyarakat Banggai.Adapun yang menjadi tim penilai kegiatan ini terdiri dari Setda Provinsi, Dra. Novalina, MM., Kepala BPJS Ketenagakerjaan Provinsi Sulawesi Tengah, A. Syamsul Rijal, Kadis Nakertrans Provinsi, Drs. Arnould Firdaus, MT, Ahli ekonomi, Mohammad Ahlis Djirimu, SE, DEA.Phd, Ahli Kebijakan Publik : Dr.Drs Muzakir Tawil. M.Si, Ahli Hukum, Dr. H. Abdur Rasyid thalib S.H, Ahli Jaminan Sosial, Drs.H.Arifuddin Bidin, Ketua DPD APINDO, H. Achrul Udaya, dan Serikat Buruh, Karlan ladandu.BACA JUGA:Asia Muslim Charity Foundation Luncurkan Kapal Kemanusiaan untuk Perairan SultengKehadiran Bupati Banggai dalam acara ini menandai langkah nyata dalam membangun sistem jaminan sosial yang inklusif dan berkeadilan bagi seluruh masyarakat Kabupaten Banggai.**\"\n        ],\n        \"semantic_type\": \"\",\n        \"description\": \"\"\n      }\n    },\n    {\n      \"column\": \"lwr\",\n      \"properties\": {\n        \"dtype\": \"string\",\n        \"num_unique_values\": 958,\n        \"samples\": [\n          \"banggai raya- bupati banggai amirudin mengikuti kegiatan wawancara paritrana award tingkat provinsi sulawesi tengah dengan nominasi penghargaan jaminan sosial ketenagakerjaan kategori nominasi pemerintah kabupaten/kota, pada selasa (27/2/2024), bertempat di hotel aston, palu.paritrana award merupakan penghargaan yang diberikan pemerintah pusat kepada pemerintah daerah, dan perusahaan badan usaha yang memiliki kepedulian (awareness) tinggi, dan citra positif terhadap program jaminan sosial ketenagakerjaan.pada kesempatan tersebut, bupati amirudin memaparkan kebijakan pemerintah daerah terkait implementasi program jaminan sosial ketenagakerjaan, yang merupakan bagian dari upaya menindaklanjuti instruksi presiden (inpres) nomor 2 tahun 2021 tentang optimalisasi pelaksanaan program jaminan sosial ketenagakerjaan.baca juga:pemilu 2024, bali mang melangkah ke dprd sultengsebagai bentuk keseriusan, lanjut bupati amirudin, pemkab banggai menindaklanjuti inpres nomor 2 tahun 2021 tersebut dengan mengeluarkan peraturan bupati (perbup) nomor 32 tahun 2021 tentang pelaksanaan program jaminan sosial ketenagakerjaan di daerah dan keputusan bupati banggai nomor 560/935/nakertrans tentang tim koordinasi pembinaan dan pemantauan terhadap pelaksanaan program bpjs ketenagakerjaan di kabupaten banggai.tidak hanya sampai di situ, upaya penguatan regulasi daerah dan perlindungan pekerja tersebut, maka ditingkatkan status regulasi dari peraturan bupati (perbup) menjadi peraturan daerah (perda) dengan ditetapkannya perda nomor 9 tahun 2023 tentang optimalisasi penyelenggaraan program jaminan sosial ketenagakerjaan.baca juga:tak terima diberhentikan, sekdes segel kantor desa solan baruuntuk tahun 2023 melalui apbd telah dianggarkan iuran kepesertaan bpjs ketenagakerjaan untuk program jaminan kecelakaan kerja (jkk) dan jaminan kematian (jkm) bagi 13.765 orang tenaga kerja.keterlibatan bupati banggai dalam wawancara ini menegaskan komitmen pemerintah kabupaten banggai dalam memberikan perlindungan sosial yang memadai bagi para tenaga kerja di wilayah tersebut.presentasi yang disampaikan oleh bupati amirudin memberikan gambaran yang jelas mengenai upaya konkret yang telah dilakukan untuk meningkatkan kesejahteraan dan keamanan sosial bagi masyarakat banggai.adapun yang menjadi tim penilai kegiatan ini terdiri dari setda provinsi, dra. novalina, mm., kepala bpjs ketenagakerjaan provinsi sulawesi tengah, a. syamsul rijal, kadis nakertrans provinsi, drs. arnould firdaus, mt, ahli ekonomi, mohammad ahlis djirimu, se, dea.phd, ahli kebijakan publik : dr.drs muzakir tawil. m.si, ahli hukum, dr. h. abdur rasyid thalib s.h, ahli jaminan sosial, drs.h.arifuddin bidin, ketua dpd apindo, h. achrul udaya, dan serikat buruh, karlan ladandu.baca juga:asia muslim charity foundation luncurkan kapal kemanusiaan untuk perairan sultengkehadiran bupati banggai dalam acara ini menandai langkah nyata dalam membangun sistem jaminan sosial yang inklusif dan berkeadilan bagi seluruh masyarakat kabupaten banggai.**\"\n        ],\n        \"semantic_type\": \"\",\n        \"description\": \"\"\n      }\n    }\n  ]\n}"
            }
          },
          "metadata": {},
          "execution_count": 30
        }
      ]
    },
    {
      "cell_type": "code",
      "execution_count": 31,
      "metadata": {
        "colab": {
          "base_uri": "https://localhost:8080/"
        },
        "id": "LHYbHbrvomiW",
        "outputId": "5e14355b-ce42-4414-e91a-97fddcccd712"
      },
      "outputs": [
        {
          "output_type": "stream",
          "name": "stdout",
          "text": [
            "KABAR LUWUK  –Dinas Sosial BanggaiSegera Salurkan 2.42 MiliarProgram Gercep Gaskan Berdaya2023.Dinas Sosial Kabupaten Banggaimenerima bantuan sebesar 2.42 miliar rupiah dalam program Gerak Cepat Pengentasan Kemiskinan Berbasis Pemberdayaan Masyarakat (GERCEP GASKAN BERDAYA).Bantuan ini ditujukan untuk 242 keluarga penerima manfaat di lima kecamatan, memberikan harapan bagi warga di Kecamatan Luwuk (35 KPM), Luwuk Selatan (28 KPM), Pagimana (95 KPM), Bunta (47 KPM), dan Nuhon (37 KPM). Selasa 28/11/2023.Kepala Dinas Sosial Kabupaten Banggai, Irpan Poma melalui Kepala Bidang Fakir Miskis,Ronald Putje,menyampaikan kepada media bahwa dana bantuan ini merupakan sumbangan langsung dari Pemerintah Provinsi Sulawesi Tengah.Dinas Sosial Kabupaten Banggai bertanggung jawab dalam memfasilitasi distribusi bantuan dan ikut serta dalam pengawasan ketat agar dana tersebut benar-benar sampai kepada penerima manfaat yang tepat.Data yang tersedia menunjukkan bahwa 242 Keluarga Penerima Manfaat yang terdiri dari Lima kecamatan di Kabupaten Banggai memenuhi kriteria untuk menerima bantuan ini.Dinas Sosial Kabupaten Banggai berharap bahwa bantuan ini akan memberikan bantuan nyata dan meringankan beban masyarakat yang membutuhkan.Bantuan ini tidak hanya sekadar alokasi dana, tetapi juga merupakan upaya konkret dalam upaya mengentaskan kemiskinan melalui pemberdayaan masyarakat.Semoga, dengan kuncuran dana ini, masyarakat penerima manfaat dapat merasakan dampak positifnya, membuka peluang baru, dan mengurangi tingkat kemiskinan di wilayah tersebut. Aksi ini menjadi bukti komitmen bersama dalam membangun kesejahteraan dan keadilan sosial di Kabupaten Banggai.Pemberian bantuan ini menjadi langkah strategis dalam mendukung pembangunan berkelanjutan di Kabupaten Banggai. Melalui program GERCEP GASKAN BERDAYA, pemerintah berusaha meningkatkan kesejahteraan masyarakat dengan cara yang berkelanjutan dan berbasis pada pemberdayaan.Dalam penyampaiannya,  Ronald Putje menekankan pentingnya sinergi antara pemerintah pusat, provinsi, dan kabupaten untuk mencapai hasil yang optimal.“Kami berupaya agar bantuan ini tidak hanya bersifat sekali waktu, tetapi juga mampu menciptakan dampak positif jangka panjang. Oleh karena itu, perlu adanya koordinasi yang baik dalam pelaksanaan program ini,” ujarnya.Bantuan ini diharapkan tidak hanya menjadi solusi sesaat, tetapi juga menciptakan perubahan struktural yang mampu meningkatkan kapasitas masyarakat penerima manfaat.Oleh karena itu, Dinas Sosial Kabupaten Banggai akan terus melakukan pemantauan dan evaluasi secara berkala guna memastikan bahwa bantuan tersebut benar-benar memberikan dampak yang positif.Sebagai bagian dari upaya bersama mengatasi kemiskinan, bantuan ini mencerminkan komitmen pemerintah dalam menciptakan inklusivitas sosial dan kesetaraan akses terhadap sumber daya.Dengan adanya bantuan ini, diharapkan masyarakat di Kabupaten Banggai dapat membangun kehidupan yang lebih baik, mandiri, dan berdaya.**Penulis : Imam Muslik ( Jurnalis )\n",
            "_______________________________________________________________________________________________________________\n",
            "kabar luwuk  –dinas sosial banggaisegera salurkan 2.42 miliarprogram gercep gaskan berdaya2023.dinas sosial kabupaten banggaimenerima bantuan sebesar 2.42 miliar rupiah dalam program gerak cepat pengentasan kemiskinan berbasis pemberdayaan masyarakat (gercep gaskan berdaya).bantuan ini ditujukan untuk 242 keluarga penerima manfaat di lima kecamatan, memberikan harapan bagi warga di kecamatan luwuk (35 kpm), luwuk selatan (28 kpm), pagimana (95 kpm), bunta (47 kpm), dan nuhon (37 kpm). selasa 28/11/2023.kepala dinas sosial kabupaten banggai, irpan poma melalui kepala bidang fakir miskis,ronald putje,menyampaikan kepada media bahwa dana bantuan ini merupakan sumbangan langsung dari pemerintah provinsi sulawesi tengah.dinas sosial kabupaten banggai bertanggung jawab dalam memfasilitasi distribusi bantuan dan ikut serta dalam pengawasan ketat agar dana tersebut benar-benar sampai kepada penerima manfaat yang tepat.data yang tersedia menunjukkan bahwa 242 keluarga penerima manfaat yang terdiri dari lima kecamatan di kabupaten banggai memenuhi kriteria untuk menerima bantuan ini.dinas sosial kabupaten banggai berharap bahwa bantuan ini akan memberikan bantuan nyata dan meringankan beban masyarakat yang membutuhkan.bantuan ini tidak hanya sekadar alokasi dana, tetapi juga merupakan upaya konkret dalam upaya mengentaskan kemiskinan melalui pemberdayaan masyarakat.semoga, dengan kuncuran dana ini, masyarakat penerima manfaat dapat merasakan dampak positifnya, membuka peluang baru, dan mengurangi tingkat kemiskinan di wilayah tersebut. aksi ini menjadi bukti komitmen bersama dalam membangun kesejahteraan dan keadilan sosial di kabupaten banggai.pemberian bantuan ini menjadi langkah strategis dalam mendukung pembangunan berkelanjutan di kabupaten banggai. melalui program gercep gaskan berdaya, pemerintah berusaha meningkatkan kesejahteraan masyarakat dengan cara yang berkelanjutan dan berbasis pada pemberdayaan.dalam penyampaiannya,  ronald putje menekankan pentingnya sinergi antara pemerintah pusat, provinsi, dan kabupaten untuk mencapai hasil yang optimal.“kami berupaya agar bantuan ini tidak hanya bersifat sekali waktu, tetapi juga mampu menciptakan dampak positif jangka panjang. oleh karena itu, perlu adanya koordinasi yang baik dalam pelaksanaan program ini,” ujarnya.bantuan ini diharapkan tidak hanya menjadi solusi sesaat, tetapi juga menciptakan perubahan struktural yang mampu meningkatkan kapasitas masyarakat penerima manfaat.oleh karena itu, dinas sosial kabupaten banggai akan terus melakukan pemantauan dan evaluasi secara berkala guna memastikan bahwa bantuan tersebut benar-benar memberikan dampak yang positif.sebagai bagian dari upaya bersama mengatasi kemiskinan, bantuan ini mencerminkan komitmen pemerintah dalam menciptakan inklusivitas sosial dan kesetaraan akses terhadap sumber daya.dengan adanya bantuan ini, diharapkan masyarakat di kabupaten banggai dapat membangun kehidupan yang lebih baik, mandiri, dan berdaya.**penulis : imam muslik ( jurnalis )\n"
          ]
        }
      ],
      "source": [
        "print(df['text'][30])\n",
        "print(\"_______________________________________________________________________________________________________________\")\n",
        "print(df['lwr'][30])"
      ]
    },
    {
      "cell_type": "markdown",
      "metadata": {
        "id": "skf-zcc5Ksrz"
      },
      "source": [
        "## Cleansing"
      ]
    },
    {
      "cell_type": "markdown",
      "metadata": {
        "id": "uqDcm6qIhpfo"
      },
      "source": [
        "### Remove Numbers"
      ]
    },
    {
      "cell_type": "code",
      "execution_count": 16,
      "metadata": {
        "id": "BqdF07FkhrBN"
      },
      "outputs": [],
      "source": [
        "def remove_numbers(text):\n",
        "  text = re.sub('[0-9]+', '', text)\n",
        "  return text"
      ]
    },
    {
      "cell_type": "code",
      "execution_count": 17,
      "metadata": {
        "colab": {
          "base_uri": "https://localhost:8080/"
        },
        "id": "g4JATB7_hrEu",
        "outputId": "933370f4-a31e-4f97-ae74-dcaa992a2eb8"
      },
      "outputs": [
        {
          "output_type": "execute_result",
          "data": {
            "text/plain": [
              "0      kabar luwuk –  suasana pasar murah bersubsidi ...\n",
              "1      kabar luwuk  –  film horor“piara mayat”,kreati...\n",
              "2      kabar luwuk  –festival malabot tumbe kembali m...\n",
              "3      “kerja cepat dan terkoordinir dalam penerbitan...\n",
              "4      kabar luwuk  –bawaslu banggaiperkuat koordinas...\n",
              "                             ...                        \n",
              "995    terasbanggai.com -bawaslu banggai akan meningk...\n",
              "996    banggai raya-bupati banggai, ir. h. amirudin m...\n",
              "997    terasbanggai.com- setelah sempat tertunda masa...\n",
              "998    banggai,  januari  – bertempat di ruang sidang...\n",
              "999    banggai raya-bawaslu kabupaten banggai menggel...\n",
              "Name: clean_number, Length: 975, dtype: object"
            ]
          },
          "metadata": {},
          "execution_count": 17
        }
      ],
      "source": [
        "df['clean_number'] = df['lwr'].apply(remove_numbers)\n",
        "df['clean_number']"
      ]
    },
    {
      "cell_type": "code",
      "source": [
        "df.tail()"
      ],
      "metadata": {
        "id": "P7VjjWul1IIO",
        "colab": {
          "base_uri": "https://localhost:8080/",
          "height": 293
        },
        "outputId": "e6d52f4e-5007-49d3-faf5-c440238fdaa8"
      },
      "execution_count": 35,
      "outputs": [
        {
          "output_type": "execute_result",
          "data": {
            "text/plain": [
              "      target                                              title  \\\n",
              "995  banggai  Jelang Voting Day Bawaslu Banggai Gelar Apel S...   \n",
              "996  banggai  Bupati Banggai Ajak Warga Download Mobile JKN ...   \n",
              "997  banggai  Banggai Bakal Gunakan Listrik Tenaga Gas, Hari...   \n",
              "998  banggai  Asistensi Pengisian SPT Tahunan dan Pemadanan ...   \n",
              "999  banggai  Bawaslu Banggai Gelar Sosialisasi Pencegahan B...   \n",
              "\n",
              "                                                  text  \\\n",
              "995  Terasbanggai.com -Bawaslu Banggai akan meningk...   \n",
              "996  BANGGAI RAYA-Bupati Banggai, Ir. H. Amirudin M...   \n",
              "997  Terasbanggai.com- Setelah sempat tertunda masa...   \n",
              "998  Banggai, 25 Januari 2024 – Bertempat di ruang ...   \n",
              "999  BANGGAI RAYA-Bawaslu Kabupaten Banggai menggel...   \n",
              "\n",
              "                                                   lwr  \\\n",
              "995  terasbanggai.com -bawaslu banggai akan meningk...   \n",
              "996  banggai raya-bupati banggai, ir. h. amirudin m...   \n",
              "997  terasbanggai.com- setelah sempat tertunda masa...   \n",
              "998  banggai, 25 januari 2024 – bertempat di ruang ...   \n",
              "999  banggai raya-bawaslu kabupaten banggai menggel...   \n",
              "\n",
              "                                          clean_number  \n",
              "995  terasbanggai.com -bawaslu banggai akan meningk...  \n",
              "996  banggai raya-bupati banggai, ir. h. amirudin m...  \n",
              "997  terasbanggai.com- setelah sempat tertunda masa...  \n",
              "998  banggai,  januari  – bertempat di ruang sidang...  \n",
              "999  banggai raya-bawaslu kabupaten banggai menggel...  "
            ],
            "text/html": [
              "\n",
              "  <div id=\"df-25ac248e-1ad5-4040-83a1-11aa9f741e3c\" class=\"colab-df-container\">\n",
              "    <div>\n",
              "<style scoped>\n",
              "    .dataframe tbody tr th:only-of-type {\n",
              "        vertical-align: middle;\n",
              "    }\n",
              "\n",
              "    .dataframe tbody tr th {\n",
              "        vertical-align: top;\n",
              "    }\n",
              "\n",
              "    .dataframe thead th {\n",
              "        text-align: right;\n",
              "    }\n",
              "</style>\n",
              "<table border=\"1\" class=\"dataframe\">\n",
              "  <thead>\n",
              "    <tr style=\"text-align: right;\">\n",
              "      <th></th>\n",
              "      <th>target</th>\n",
              "      <th>title</th>\n",
              "      <th>text</th>\n",
              "      <th>lwr</th>\n",
              "      <th>clean_number</th>\n",
              "    </tr>\n",
              "  </thead>\n",
              "  <tbody>\n",
              "    <tr>\n",
              "      <th>995</th>\n",
              "      <td>banggai</td>\n",
              "      <td>Jelang Voting Day Bawaslu Banggai Gelar Apel S...</td>\n",
              "      <td>Terasbanggai.com -Bawaslu Banggai akan meningk...</td>\n",
              "      <td>terasbanggai.com -bawaslu banggai akan meningk...</td>\n",
              "      <td>terasbanggai.com -bawaslu banggai akan meningk...</td>\n",
              "    </tr>\n",
              "    <tr>\n",
              "      <th>996</th>\n",
              "      <td>banggai</td>\n",
              "      <td>Bupati Banggai Ajak Warga Download Mobile JKN ...</td>\n",
              "      <td>BANGGAI RAYA-Bupati Banggai, Ir. H. Amirudin M...</td>\n",
              "      <td>banggai raya-bupati banggai, ir. h. amirudin m...</td>\n",
              "      <td>banggai raya-bupati banggai, ir. h. amirudin m...</td>\n",
              "    </tr>\n",
              "    <tr>\n",
              "      <th>997</th>\n",
              "      <td>banggai</td>\n",
              "      <td>Banggai Bakal Gunakan Listrik Tenaga Gas, Hari...</td>\n",
              "      <td>Terasbanggai.com- Setelah sempat tertunda masa...</td>\n",
              "      <td>terasbanggai.com- setelah sempat tertunda masa...</td>\n",
              "      <td>terasbanggai.com- setelah sempat tertunda masa...</td>\n",
              "    </tr>\n",
              "    <tr>\n",
              "      <th>998</th>\n",
              "      <td>banggai</td>\n",
              "      <td>Asistensi Pengisian SPT Tahunan dan Pemadanan ...</td>\n",
              "      <td>Banggai, 25 Januari 2024 – Bertempat di ruang ...</td>\n",
              "      <td>banggai, 25 januari 2024 – bertempat di ruang ...</td>\n",
              "      <td>banggai,  januari  – bertempat di ruang sidang...</td>\n",
              "    </tr>\n",
              "    <tr>\n",
              "      <th>999</th>\n",
              "      <td>banggai</td>\n",
              "      <td>Bawaslu Banggai Gelar Sosialisasi Pencegahan B...</td>\n",
              "      <td>BANGGAI RAYA-Bawaslu Kabupaten Banggai menggel...</td>\n",
              "      <td>banggai raya-bawaslu kabupaten banggai menggel...</td>\n",
              "      <td>banggai raya-bawaslu kabupaten banggai menggel...</td>\n",
              "    </tr>\n",
              "  </tbody>\n",
              "</table>\n",
              "</div>\n",
              "    <div class=\"colab-df-buttons\">\n",
              "\n",
              "  <div class=\"colab-df-container\">\n",
              "    <button class=\"colab-df-convert\" onclick=\"convertToInteractive('df-25ac248e-1ad5-4040-83a1-11aa9f741e3c')\"\n",
              "            title=\"Convert this dataframe to an interactive table.\"\n",
              "            style=\"display:none;\">\n",
              "\n",
              "  <svg xmlns=\"http://www.w3.org/2000/svg\" height=\"24px\" viewBox=\"0 -960 960 960\">\n",
              "    <path d=\"M120-120v-720h720v720H120Zm60-500h600v-160H180v160Zm220 220h160v-160H400v160Zm0 220h160v-160H400v160ZM180-400h160v-160H180v160Zm440 0h160v-160H620v160ZM180-180h160v-160H180v160Zm440 0h160v-160H620v160Z\"/>\n",
              "  </svg>\n",
              "    </button>\n",
              "\n",
              "  <style>\n",
              "    .colab-df-container {\n",
              "      display:flex;\n",
              "      gap: 12px;\n",
              "    }\n",
              "\n",
              "    .colab-df-convert {\n",
              "      background-color: #E8F0FE;\n",
              "      border: none;\n",
              "      border-radius: 50%;\n",
              "      cursor: pointer;\n",
              "      display: none;\n",
              "      fill: #1967D2;\n",
              "      height: 32px;\n",
              "      padding: 0 0 0 0;\n",
              "      width: 32px;\n",
              "    }\n",
              "\n",
              "    .colab-df-convert:hover {\n",
              "      background-color: #E2EBFA;\n",
              "      box-shadow: 0px 1px 2px rgba(60, 64, 67, 0.3), 0px 1px 3px 1px rgba(60, 64, 67, 0.15);\n",
              "      fill: #174EA6;\n",
              "    }\n",
              "\n",
              "    .colab-df-buttons div {\n",
              "      margin-bottom: 4px;\n",
              "    }\n",
              "\n",
              "    [theme=dark] .colab-df-convert {\n",
              "      background-color: #3B4455;\n",
              "      fill: #D2E3FC;\n",
              "    }\n",
              "\n",
              "    [theme=dark] .colab-df-convert:hover {\n",
              "      background-color: #434B5C;\n",
              "      box-shadow: 0px 1px 3px 1px rgba(0, 0, 0, 0.15);\n",
              "      filter: drop-shadow(0px 1px 2px rgba(0, 0, 0, 0.3));\n",
              "      fill: #FFFFFF;\n",
              "    }\n",
              "  </style>\n",
              "\n",
              "    <script>\n",
              "      const buttonEl =\n",
              "        document.querySelector('#df-25ac248e-1ad5-4040-83a1-11aa9f741e3c button.colab-df-convert');\n",
              "      buttonEl.style.display =\n",
              "        google.colab.kernel.accessAllowed ? 'block' : 'none';\n",
              "\n",
              "      async function convertToInteractive(key) {\n",
              "        const element = document.querySelector('#df-25ac248e-1ad5-4040-83a1-11aa9f741e3c');\n",
              "        const dataTable =\n",
              "          await google.colab.kernel.invokeFunction('convertToInteractive',\n",
              "                                                    [key], {});\n",
              "        if (!dataTable) return;\n",
              "\n",
              "        const docLinkHtml = 'Like what you see? Visit the ' +\n",
              "          '<a target=\"_blank\" href=https://colab.research.google.com/notebooks/data_table.ipynb>data table notebook</a>'\n",
              "          + ' to learn more about interactive tables.';\n",
              "        element.innerHTML = '';\n",
              "        dataTable['output_type'] = 'display_data';\n",
              "        await google.colab.output.renderOutput(dataTable, element);\n",
              "        const docLink = document.createElement('div');\n",
              "        docLink.innerHTML = docLinkHtml;\n",
              "        element.appendChild(docLink);\n",
              "      }\n",
              "    </script>\n",
              "  </div>\n",
              "\n",
              "\n",
              "<div id=\"df-ef62270c-210c-46dd-a196-132dde6aaba0\">\n",
              "  <button class=\"colab-df-quickchart\" onclick=\"quickchart('df-ef62270c-210c-46dd-a196-132dde6aaba0')\"\n",
              "            title=\"Suggest charts\"\n",
              "            style=\"display:none;\">\n",
              "\n",
              "<svg xmlns=\"http://www.w3.org/2000/svg\" height=\"24px\"viewBox=\"0 0 24 24\"\n",
              "     width=\"24px\">\n",
              "    <g>\n",
              "        <path d=\"M19 3H5c-1.1 0-2 .9-2 2v14c0 1.1.9 2 2 2h14c1.1 0 2-.9 2-2V5c0-1.1-.9-2-2-2zM9 17H7v-7h2v7zm4 0h-2V7h2v10zm4 0h-2v-4h2v4z\"/>\n",
              "    </g>\n",
              "</svg>\n",
              "  </button>\n",
              "\n",
              "<style>\n",
              "  .colab-df-quickchart {\n",
              "      --bg-color: #E8F0FE;\n",
              "      --fill-color: #1967D2;\n",
              "      --hover-bg-color: #E2EBFA;\n",
              "      --hover-fill-color: #174EA6;\n",
              "      --disabled-fill-color: #AAA;\n",
              "      --disabled-bg-color: #DDD;\n",
              "  }\n",
              "\n",
              "  [theme=dark] .colab-df-quickchart {\n",
              "      --bg-color: #3B4455;\n",
              "      --fill-color: #D2E3FC;\n",
              "      --hover-bg-color: #434B5C;\n",
              "      --hover-fill-color: #FFFFFF;\n",
              "      --disabled-bg-color: #3B4455;\n",
              "      --disabled-fill-color: #666;\n",
              "  }\n",
              "\n",
              "  .colab-df-quickchart {\n",
              "    background-color: var(--bg-color);\n",
              "    border: none;\n",
              "    border-radius: 50%;\n",
              "    cursor: pointer;\n",
              "    display: none;\n",
              "    fill: var(--fill-color);\n",
              "    height: 32px;\n",
              "    padding: 0;\n",
              "    width: 32px;\n",
              "  }\n",
              "\n",
              "  .colab-df-quickchart:hover {\n",
              "    background-color: var(--hover-bg-color);\n",
              "    box-shadow: 0 1px 2px rgba(60, 64, 67, 0.3), 0 1px 3px 1px rgba(60, 64, 67, 0.15);\n",
              "    fill: var(--button-hover-fill-color);\n",
              "  }\n",
              "\n",
              "  .colab-df-quickchart-complete:disabled,\n",
              "  .colab-df-quickchart-complete:disabled:hover {\n",
              "    background-color: var(--disabled-bg-color);\n",
              "    fill: var(--disabled-fill-color);\n",
              "    box-shadow: none;\n",
              "  }\n",
              "\n",
              "  .colab-df-spinner {\n",
              "    border: 2px solid var(--fill-color);\n",
              "    border-color: transparent;\n",
              "    border-bottom-color: var(--fill-color);\n",
              "    animation:\n",
              "      spin 1s steps(1) infinite;\n",
              "  }\n",
              "\n",
              "  @keyframes spin {\n",
              "    0% {\n",
              "      border-color: transparent;\n",
              "      border-bottom-color: var(--fill-color);\n",
              "      border-left-color: var(--fill-color);\n",
              "    }\n",
              "    20% {\n",
              "      border-color: transparent;\n",
              "      border-left-color: var(--fill-color);\n",
              "      border-top-color: var(--fill-color);\n",
              "    }\n",
              "    30% {\n",
              "      border-color: transparent;\n",
              "      border-left-color: var(--fill-color);\n",
              "      border-top-color: var(--fill-color);\n",
              "      border-right-color: var(--fill-color);\n",
              "    }\n",
              "    40% {\n",
              "      border-color: transparent;\n",
              "      border-right-color: var(--fill-color);\n",
              "      border-top-color: var(--fill-color);\n",
              "    }\n",
              "    60% {\n",
              "      border-color: transparent;\n",
              "      border-right-color: var(--fill-color);\n",
              "    }\n",
              "    80% {\n",
              "      border-color: transparent;\n",
              "      border-right-color: var(--fill-color);\n",
              "      border-bottom-color: var(--fill-color);\n",
              "    }\n",
              "    90% {\n",
              "      border-color: transparent;\n",
              "      border-bottom-color: var(--fill-color);\n",
              "    }\n",
              "  }\n",
              "</style>\n",
              "\n",
              "  <script>\n",
              "    async function quickchart(key) {\n",
              "      const quickchartButtonEl =\n",
              "        document.querySelector('#' + key + ' button');\n",
              "      quickchartButtonEl.disabled = true;  // To prevent multiple clicks.\n",
              "      quickchartButtonEl.classList.add('colab-df-spinner');\n",
              "      try {\n",
              "        const charts = await google.colab.kernel.invokeFunction(\n",
              "            'suggestCharts', [key], {});\n",
              "      } catch (error) {\n",
              "        console.error('Error during call to suggestCharts:', error);\n",
              "      }\n",
              "      quickchartButtonEl.classList.remove('colab-df-spinner');\n",
              "      quickchartButtonEl.classList.add('colab-df-quickchart-complete');\n",
              "    }\n",
              "    (() => {\n",
              "      let quickchartButtonEl =\n",
              "        document.querySelector('#df-ef62270c-210c-46dd-a196-132dde6aaba0 button');\n",
              "      quickchartButtonEl.style.display =\n",
              "        google.colab.kernel.accessAllowed ? 'block' : 'none';\n",
              "    })();\n",
              "  </script>\n",
              "</div>\n",
              "    </div>\n",
              "  </div>\n"
            ],
            "application/vnd.google.colaboratory.intrinsic+json": {
              "type": "dataframe",
              "summary": "{\n  \"name\": \"df\",\n  \"rows\": 5,\n  \"fields\": [\n    {\n      \"column\": \"target\",\n      \"properties\": {\n        \"dtype\": \"category\",\n        \"num_unique_values\": 1,\n        \"samples\": [\n          \"banggai\"\n        ],\n        \"semantic_type\": \"\",\n        \"description\": \"\"\n      }\n    },\n    {\n      \"column\": \"title\",\n      \"properties\": {\n        \"dtype\": \"string\",\n        \"num_unique_values\": 5,\n        \"samples\": [\n          \"Bupati Banggai Ajak Warga Download Mobile JKN dan Lakukan Skrining Kesehatan\"\n        ],\n        \"semantic_type\": \"\",\n        \"description\": \"\"\n      }\n    },\n    {\n      \"column\": \"text\",\n      \"properties\": {\n        \"dtype\": \"string\",\n        \"num_unique_values\": 5,\n        \"samples\": [\n          \"BANGGAI RAYA-Bupati Banggai, Ir. H. Amirudin MM., AIFO., mengajak kepada semua masyarakat untuk dapat melakukan skrining riwayat kesehatan. Sebab hal ini sangat penting dilakukan untuk mengetahui potensi penyakit yang diderita.\\u201cSkrining kesehatan dapat dilakukan melalui aplikasi Mobile JKN, website BPJS Kesehatan https://webskrining.bpjs-kesehatan.go.id/skrining/index.html atau dapat langsung mendatangi fasilitas kesehatan tingkat pertama yang terdaftar (peserta JKN),\\u201d pesan Bupati Amirudin dalam tayangan video, Rabu 24 Januari 2024.BACA JUGA:Kampanye Tatap Muka di Salodik, Ini Harapan Masyarakat ke RHS Caleg PDIP BanggaiSelanjutnya, orang nomor satu di Kabupaten Banggai itu mengajak kepada semua masyarakat untuk mendownload dan registrasi aplikasi mobile JKN.BACA JUGA:Pelantikan PTPS, Bawaslu Banggai : Tingkatkan Pengawasan PemiluMenurutnya, dengan mendownload aplikasi mobile JKN ini tak lain untuk memudahkan proses pelayanan administrasi kepesertaan jaminan kesehatan nasional tanpa harus datang ke kantor BPJS Kesehatan.BACA JUGA:Baru PDIP, Bawaslu Banggai Minta Parpol Segera Laporkan Data Saksi Pemilu\\u201cAyo segera download aplikasi Mobile JKN dan segera lakukan skrining riwayat kesehatan untuk masyarakat Kabupaten Banggai yang lebih sehat,\\u201d tandasnya. (*)\"\n        ],\n        \"semantic_type\": \"\",\n        \"description\": \"\"\n      }\n    },\n    {\n      \"column\": \"lwr\",\n      \"properties\": {\n        \"dtype\": \"string\",\n        \"num_unique_values\": 5,\n        \"samples\": [\n          \"banggai raya-bupati banggai, ir. h. amirudin mm., aifo., mengajak kepada semua masyarakat untuk dapat melakukan skrining riwayat kesehatan. sebab hal ini sangat penting dilakukan untuk mengetahui potensi penyakit yang diderita.\\u201cskrining kesehatan dapat dilakukan melalui aplikasi mobile jkn, website bpjs kesehatan https://webskrining.bpjs-kesehatan.go.id/skrining/index.html atau dapat langsung mendatangi fasilitas kesehatan tingkat pertama yang terdaftar (peserta jkn),\\u201d pesan bupati amirudin dalam tayangan video, rabu 24 januari 2024.baca juga:kampanye tatap muka di salodik, ini harapan masyarakat ke rhs caleg pdip banggaiselanjutnya, orang nomor satu di kabupaten banggai itu mengajak kepada semua masyarakat untuk mendownload dan registrasi aplikasi mobile jkn.baca juga:pelantikan ptps, bawaslu banggai : tingkatkan pengawasan pemilumenurutnya, dengan mendownload aplikasi mobile jkn ini tak lain untuk memudahkan proses pelayanan administrasi kepesertaan jaminan kesehatan nasional tanpa harus datang ke kantor bpjs kesehatan.baca juga:baru pdip, bawaslu banggai minta parpol segera laporkan data saksi pemilu\\u201cayo segera download aplikasi mobile jkn dan segera lakukan skrining riwayat kesehatan untuk masyarakat kabupaten banggai yang lebih sehat,\\u201d tandasnya. (*)\"\n        ],\n        \"semantic_type\": \"\",\n        \"description\": \"\"\n      }\n    },\n    {\n      \"column\": \"clean_number\",\n      \"properties\": {\n        \"dtype\": \"string\",\n        \"num_unique_values\": 5,\n        \"samples\": [\n          \"banggai raya-bupati banggai, ir. h. amirudin mm., aifo., mengajak kepada semua masyarakat untuk dapat melakukan skrining riwayat kesehatan. sebab hal ini sangat penting dilakukan untuk mengetahui potensi penyakit yang diderita.\\u201cskrining kesehatan dapat dilakukan melalui aplikasi mobile jkn, website bpjs kesehatan https://webskrining.bpjs-kesehatan.go.id/skrining/index.html atau dapat langsung mendatangi fasilitas kesehatan tingkat pertama yang terdaftar (peserta jkn),\\u201d pesan bupati amirudin dalam tayangan video, rabu  januari .baca juga:kampanye tatap muka di salodik, ini harapan masyarakat ke rhs caleg pdip banggaiselanjutnya, orang nomor satu di kabupaten banggai itu mengajak kepada semua masyarakat untuk mendownload dan registrasi aplikasi mobile jkn.baca juga:pelantikan ptps, bawaslu banggai : tingkatkan pengawasan pemilumenurutnya, dengan mendownload aplikasi mobile jkn ini tak lain untuk memudahkan proses pelayanan administrasi kepesertaan jaminan kesehatan nasional tanpa harus datang ke kantor bpjs kesehatan.baca juga:baru pdip, bawaslu banggai minta parpol segera laporkan data saksi pemilu\\u201cayo segera download aplikasi mobile jkn dan segera lakukan skrining riwayat kesehatan untuk masyarakat kabupaten banggai yang lebih sehat,\\u201d tandasnya. (*)\"\n        ],\n        \"semantic_type\": \"\",\n        \"description\": \"\"\n      }\n    }\n  ]\n}"
            }
          },
          "metadata": {},
          "execution_count": 35
        }
      ]
    },
    {
      "cell_type": "markdown",
      "metadata": {
        "id": "BgnmFGgbeM4o"
      },
      "source": [
        "### Remove Punctuation"
      ]
    },
    {
      "cell_type": "code",
      "execution_count": 18,
      "metadata": {
        "id": "E17l7Edmdaf3"
      },
      "outputs": [],
      "source": [
        "#Remove Puncutuation\n",
        "clean_spcl = re.compile('[/(){}\\[\\]\\|@,;]')\n",
        "clean_symbol = re.compile('[^0-9a-z]')\n",
        "def clean_punct(text):\n",
        "    text = clean_spcl.sub('', text)\n",
        "    text = clean_symbol.sub(' ', text)\n",
        "    return text"
      ]
    },
    {
      "cell_type": "code",
      "execution_count": 19,
      "metadata": {
        "colab": {
          "base_uri": "https://localhost:8080/"
        },
        "id": "8f1YgOnOeHJs",
        "outputId": "70344726-72c4-41e0-f701-7343056d7e1d"
      },
      "outputs": [
        {
          "output_type": "execute_result",
          "data": {
            "text/plain": [
              "0      kabar luwuk    suasana pasar murah bersubsidi ...\n",
              "1      kabar luwuk     film horor piara mayat kreativ...\n",
              "2      kabar luwuk   festival malabot tumbe kembali m...\n",
              "3       kerja cepat dan terkoordinir dalam penerbitan...\n",
              "4      kabar luwuk   bawaslu banggaiperkuat koordinas...\n",
              "                             ...                        \n",
              "995    terasbanggai com  bawaslu banggai akan meningk...\n",
              "996    banggai raya bupati banggai ir  h  amirudin mm...\n",
              "997    terasbanggai com  setelah sempat tertunda masa...\n",
              "998    banggai  januari    bertempat di ruang sidang ...\n",
              "999    banggai raya bawaslu kabupaten banggai menggel...\n",
              "Name: clean_punct, Length: 975, dtype: object"
            ]
          },
          "metadata": {},
          "execution_count": 19
        }
      ],
      "source": [
        "# Buat kolom tambahan untuk data description yang telah diremovepunctuation\n",
        "df['clean_punct'] = df['clean_number'].apply(clean_punct)\n",
        "df['clean_punct']"
      ]
    },
    {
      "cell_type": "code",
      "source": [
        "df.head()\n"
      ],
      "metadata": {
        "id": "vMKcQy2K_Jbc",
        "colab": {
          "base_uri": "https://localhost:8080/",
          "height": 293
        },
        "outputId": "2c389003-ea21-438b-f1d6-0e3b911a3cea"
      },
      "execution_count": 38,
      "outputs": [
        {
          "output_type": "execute_result",
          "data": {
            "text/plain": [
              "    target                                              title  \\\n",
              "0  banggai  Mobil Sim Keliling Polres Banggai Meriahkan Pa...   \n",
              "1  banggai  Film Horor “Piara Mayat”,  Kreativitas Anak Mu...   \n",
              "2  banggai  Festival Malabot Tumbe 2023 Kembali Meriahkan ...   \n",
              "3  banggai  Rakor Kampanye Damai Pemilu 2024, Polres Bangg...   \n",
              "4  banggai  Bawaslu Banggai Perkuat Koordinasi dengan Panw...   \n",
              "\n",
              "                                                text  \\\n",
              "0  KABAR LUWUK –  Suasana Pasar Murah bersubsidi ...   \n",
              "1  KABAR LUWUK  –  Film Horor“Piara Mayat”,Kreati...   \n",
              "2  KABAR LUWUK  –Festival Malabot Tumbe 2023Kemba...   \n",
              "3  “Kerja Cepat dan Terkoordinir dalam Penerbitan...   \n",
              "4  KABAR LUWUK  –Bawaslu BanggaiPerkuat Koordinas...   \n",
              "\n",
              "                                                 lwr  \\\n",
              "0  kabar luwuk –  suasana pasar murah bersubsidi ...   \n",
              "1  kabar luwuk  –  film horor“piara mayat”,kreati...   \n",
              "2  kabar luwuk  –festival malabot tumbe 2023kemba...   \n",
              "3  “kerja cepat dan terkoordinir dalam penerbitan...   \n",
              "4  kabar luwuk  –bawaslu banggaiperkuat koordinas...   \n",
              "\n",
              "                                        clean_number  \\\n",
              "0  kabar luwuk –  suasana pasar murah bersubsidi ...   \n",
              "1  kabar luwuk  –  film horor“piara mayat”,kreati...   \n",
              "2  kabar luwuk  –festival malabot tumbe kembali m...   \n",
              "3  “kerja cepat dan terkoordinir dalam penerbitan...   \n",
              "4  kabar luwuk  –bawaslu banggaiperkuat koordinas...   \n",
              "\n",
              "                                         clean_punct  \n",
              "0  kabar luwuk    suasana pasar murah bersubsidi ...  \n",
              "1  kabar luwuk     film horor piara mayat kreativ...  \n",
              "2  kabar luwuk   festival malabot tumbe kembali m...  \n",
              "3   kerja cepat dan terkoordinir dalam penerbitan...  \n",
              "4  kabar luwuk   bawaslu banggaiperkuat koordinas...  "
            ],
            "text/html": [
              "\n",
              "  <div id=\"df-9accfe91-d5e0-47f1-853b-5c9245a7221f\" class=\"colab-df-container\">\n",
              "    <div>\n",
              "<style scoped>\n",
              "    .dataframe tbody tr th:only-of-type {\n",
              "        vertical-align: middle;\n",
              "    }\n",
              "\n",
              "    .dataframe tbody tr th {\n",
              "        vertical-align: top;\n",
              "    }\n",
              "\n",
              "    .dataframe thead th {\n",
              "        text-align: right;\n",
              "    }\n",
              "</style>\n",
              "<table border=\"1\" class=\"dataframe\">\n",
              "  <thead>\n",
              "    <tr style=\"text-align: right;\">\n",
              "      <th></th>\n",
              "      <th>target</th>\n",
              "      <th>title</th>\n",
              "      <th>text</th>\n",
              "      <th>lwr</th>\n",
              "      <th>clean_number</th>\n",
              "      <th>clean_punct</th>\n",
              "    </tr>\n",
              "  </thead>\n",
              "  <tbody>\n",
              "    <tr>\n",
              "      <th>0</th>\n",
              "      <td>banggai</td>\n",
              "      <td>Mobil Sim Keliling Polres Banggai Meriahkan Pa...</td>\n",
              "      <td>KABAR LUWUK –  Suasana Pasar Murah bersubsidi ...</td>\n",
              "      <td>kabar luwuk –  suasana pasar murah bersubsidi ...</td>\n",
              "      <td>kabar luwuk –  suasana pasar murah bersubsidi ...</td>\n",
              "      <td>kabar luwuk    suasana pasar murah bersubsidi ...</td>\n",
              "    </tr>\n",
              "    <tr>\n",
              "      <th>1</th>\n",
              "      <td>banggai</td>\n",
              "      <td>Film Horor “Piara Mayat”,  Kreativitas Anak Mu...</td>\n",
              "      <td>KABAR LUWUK  –  Film Horor“Piara Mayat”,Kreati...</td>\n",
              "      <td>kabar luwuk  –  film horor“piara mayat”,kreati...</td>\n",
              "      <td>kabar luwuk  –  film horor“piara mayat”,kreati...</td>\n",
              "      <td>kabar luwuk     film horor piara mayat kreativ...</td>\n",
              "    </tr>\n",
              "    <tr>\n",
              "      <th>2</th>\n",
              "      <td>banggai</td>\n",
              "      <td>Festival Malabot Tumbe 2023 Kembali Meriahkan ...</td>\n",
              "      <td>KABAR LUWUK  –Festival Malabot Tumbe 2023Kemba...</td>\n",
              "      <td>kabar luwuk  –festival malabot tumbe 2023kemba...</td>\n",
              "      <td>kabar luwuk  –festival malabot tumbe kembali m...</td>\n",
              "      <td>kabar luwuk   festival malabot tumbe kembali m...</td>\n",
              "    </tr>\n",
              "    <tr>\n",
              "      <th>3</th>\n",
              "      <td>banggai</td>\n",
              "      <td>Rakor Kampanye Damai Pemilu 2024, Polres Bangg...</td>\n",
              "      <td>“Kerja Cepat dan Terkoordinir dalam Penerbitan...</td>\n",
              "      <td>“kerja cepat dan terkoordinir dalam penerbitan...</td>\n",
              "      <td>“kerja cepat dan terkoordinir dalam penerbitan...</td>\n",
              "      <td>kerja cepat dan terkoordinir dalam penerbitan...</td>\n",
              "    </tr>\n",
              "    <tr>\n",
              "      <th>4</th>\n",
              "      <td>banggai</td>\n",
              "      <td>Bawaslu Banggai Perkuat Koordinasi dengan Panw...</td>\n",
              "      <td>KABAR LUWUK  –Bawaslu BanggaiPerkuat Koordinas...</td>\n",
              "      <td>kabar luwuk  –bawaslu banggaiperkuat koordinas...</td>\n",
              "      <td>kabar luwuk  –bawaslu banggaiperkuat koordinas...</td>\n",
              "      <td>kabar luwuk   bawaslu banggaiperkuat koordinas...</td>\n",
              "    </tr>\n",
              "  </tbody>\n",
              "</table>\n",
              "</div>\n",
              "    <div class=\"colab-df-buttons\">\n",
              "\n",
              "  <div class=\"colab-df-container\">\n",
              "    <button class=\"colab-df-convert\" onclick=\"convertToInteractive('df-9accfe91-d5e0-47f1-853b-5c9245a7221f')\"\n",
              "            title=\"Convert this dataframe to an interactive table.\"\n",
              "            style=\"display:none;\">\n",
              "\n",
              "  <svg xmlns=\"http://www.w3.org/2000/svg\" height=\"24px\" viewBox=\"0 -960 960 960\">\n",
              "    <path d=\"M120-120v-720h720v720H120Zm60-500h600v-160H180v160Zm220 220h160v-160H400v160Zm0 220h160v-160H400v160ZM180-400h160v-160H180v160Zm440 0h160v-160H620v160ZM180-180h160v-160H180v160Zm440 0h160v-160H620v160Z\"/>\n",
              "  </svg>\n",
              "    </button>\n",
              "\n",
              "  <style>\n",
              "    .colab-df-container {\n",
              "      display:flex;\n",
              "      gap: 12px;\n",
              "    }\n",
              "\n",
              "    .colab-df-convert {\n",
              "      background-color: #E8F0FE;\n",
              "      border: none;\n",
              "      border-radius: 50%;\n",
              "      cursor: pointer;\n",
              "      display: none;\n",
              "      fill: #1967D2;\n",
              "      height: 32px;\n",
              "      padding: 0 0 0 0;\n",
              "      width: 32px;\n",
              "    }\n",
              "\n",
              "    .colab-df-convert:hover {\n",
              "      background-color: #E2EBFA;\n",
              "      box-shadow: 0px 1px 2px rgba(60, 64, 67, 0.3), 0px 1px 3px 1px rgba(60, 64, 67, 0.15);\n",
              "      fill: #174EA6;\n",
              "    }\n",
              "\n",
              "    .colab-df-buttons div {\n",
              "      margin-bottom: 4px;\n",
              "    }\n",
              "\n",
              "    [theme=dark] .colab-df-convert {\n",
              "      background-color: #3B4455;\n",
              "      fill: #D2E3FC;\n",
              "    }\n",
              "\n",
              "    [theme=dark] .colab-df-convert:hover {\n",
              "      background-color: #434B5C;\n",
              "      box-shadow: 0px 1px 3px 1px rgba(0, 0, 0, 0.15);\n",
              "      filter: drop-shadow(0px 1px 2px rgba(0, 0, 0, 0.3));\n",
              "      fill: #FFFFFF;\n",
              "    }\n",
              "  </style>\n",
              "\n",
              "    <script>\n",
              "      const buttonEl =\n",
              "        document.querySelector('#df-9accfe91-d5e0-47f1-853b-5c9245a7221f button.colab-df-convert');\n",
              "      buttonEl.style.display =\n",
              "        google.colab.kernel.accessAllowed ? 'block' : 'none';\n",
              "\n",
              "      async function convertToInteractive(key) {\n",
              "        const element = document.querySelector('#df-9accfe91-d5e0-47f1-853b-5c9245a7221f');\n",
              "        const dataTable =\n",
              "          await google.colab.kernel.invokeFunction('convertToInteractive',\n",
              "                                                    [key], {});\n",
              "        if (!dataTable) return;\n",
              "\n",
              "        const docLinkHtml = 'Like what you see? Visit the ' +\n",
              "          '<a target=\"_blank\" href=https://colab.research.google.com/notebooks/data_table.ipynb>data table notebook</a>'\n",
              "          + ' to learn more about interactive tables.';\n",
              "        element.innerHTML = '';\n",
              "        dataTable['output_type'] = 'display_data';\n",
              "        await google.colab.output.renderOutput(dataTable, element);\n",
              "        const docLink = document.createElement('div');\n",
              "        docLink.innerHTML = docLinkHtml;\n",
              "        element.appendChild(docLink);\n",
              "      }\n",
              "    </script>\n",
              "  </div>\n",
              "\n",
              "\n",
              "<div id=\"df-c32d2e24-7942-446b-98b0-6e165ad50e1c\">\n",
              "  <button class=\"colab-df-quickchart\" onclick=\"quickchart('df-c32d2e24-7942-446b-98b0-6e165ad50e1c')\"\n",
              "            title=\"Suggest charts\"\n",
              "            style=\"display:none;\">\n",
              "\n",
              "<svg xmlns=\"http://www.w3.org/2000/svg\" height=\"24px\"viewBox=\"0 0 24 24\"\n",
              "     width=\"24px\">\n",
              "    <g>\n",
              "        <path d=\"M19 3H5c-1.1 0-2 .9-2 2v14c0 1.1.9 2 2 2h14c1.1 0 2-.9 2-2V5c0-1.1-.9-2-2-2zM9 17H7v-7h2v7zm4 0h-2V7h2v10zm4 0h-2v-4h2v4z\"/>\n",
              "    </g>\n",
              "</svg>\n",
              "  </button>\n",
              "\n",
              "<style>\n",
              "  .colab-df-quickchart {\n",
              "      --bg-color: #E8F0FE;\n",
              "      --fill-color: #1967D2;\n",
              "      --hover-bg-color: #E2EBFA;\n",
              "      --hover-fill-color: #174EA6;\n",
              "      --disabled-fill-color: #AAA;\n",
              "      --disabled-bg-color: #DDD;\n",
              "  }\n",
              "\n",
              "  [theme=dark] .colab-df-quickchart {\n",
              "      --bg-color: #3B4455;\n",
              "      --fill-color: #D2E3FC;\n",
              "      --hover-bg-color: #434B5C;\n",
              "      --hover-fill-color: #FFFFFF;\n",
              "      --disabled-bg-color: #3B4455;\n",
              "      --disabled-fill-color: #666;\n",
              "  }\n",
              "\n",
              "  .colab-df-quickchart {\n",
              "    background-color: var(--bg-color);\n",
              "    border: none;\n",
              "    border-radius: 50%;\n",
              "    cursor: pointer;\n",
              "    display: none;\n",
              "    fill: var(--fill-color);\n",
              "    height: 32px;\n",
              "    padding: 0;\n",
              "    width: 32px;\n",
              "  }\n",
              "\n",
              "  .colab-df-quickchart:hover {\n",
              "    background-color: var(--hover-bg-color);\n",
              "    box-shadow: 0 1px 2px rgba(60, 64, 67, 0.3), 0 1px 3px 1px rgba(60, 64, 67, 0.15);\n",
              "    fill: var(--button-hover-fill-color);\n",
              "  }\n",
              "\n",
              "  .colab-df-quickchart-complete:disabled,\n",
              "  .colab-df-quickchart-complete:disabled:hover {\n",
              "    background-color: var(--disabled-bg-color);\n",
              "    fill: var(--disabled-fill-color);\n",
              "    box-shadow: none;\n",
              "  }\n",
              "\n",
              "  .colab-df-spinner {\n",
              "    border: 2px solid var(--fill-color);\n",
              "    border-color: transparent;\n",
              "    border-bottom-color: var(--fill-color);\n",
              "    animation:\n",
              "      spin 1s steps(1) infinite;\n",
              "  }\n",
              "\n",
              "  @keyframes spin {\n",
              "    0% {\n",
              "      border-color: transparent;\n",
              "      border-bottom-color: var(--fill-color);\n",
              "      border-left-color: var(--fill-color);\n",
              "    }\n",
              "    20% {\n",
              "      border-color: transparent;\n",
              "      border-left-color: var(--fill-color);\n",
              "      border-top-color: var(--fill-color);\n",
              "    }\n",
              "    30% {\n",
              "      border-color: transparent;\n",
              "      border-left-color: var(--fill-color);\n",
              "      border-top-color: var(--fill-color);\n",
              "      border-right-color: var(--fill-color);\n",
              "    }\n",
              "    40% {\n",
              "      border-color: transparent;\n",
              "      border-right-color: var(--fill-color);\n",
              "      border-top-color: var(--fill-color);\n",
              "    }\n",
              "    60% {\n",
              "      border-color: transparent;\n",
              "      border-right-color: var(--fill-color);\n",
              "    }\n",
              "    80% {\n",
              "      border-color: transparent;\n",
              "      border-right-color: var(--fill-color);\n",
              "      border-bottom-color: var(--fill-color);\n",
              "    }\n",
              "    90% {\n",
              "      border-color: transparent;\n",
              "      border-bottom-color: var(--fill-color);\n",
              "    }\n",
              "  }\n",
              "</style>\n",
              "\n",
              "  <script>\n",
              "    async function quickchart(key) {\n",
              "      const quickchartButtonEl =\n",
              "        document.querySelector('#' + key + ' button');\n",
              "      quickchartButtonEl.disabled = true;  // To prevent multiple clicks.\n",
              "      quickchartButtonEl.classList.add('colab-df-spinner');\n",
              "      try {\n",
              "        const charts = await google.colab.kernel.invokeFunction(\n",
              "            'suggestCharts', [key], {});\n",
              "      } catch (error) {\n",
              "        console.error('Error during call to suggestCharts:', error);\n",
              "      }\n",
              "      quickchartButtonEl.classList.remove('colab-df-spinner');\n",
              "      quickchartButtonEl.classList.add('colab-df-quickchart-complete');\n",
              "    }\n",
              "    (() => {\n",
              "      let quickchartButtonEl =\n",
              "        document.querySelector('#df-c32d2e24-7942-446b-98b0-6e165ad50e1c button');\n",
              "      quickchartButtonEl.style.display =\n",
              "        google.colab.kernel.accessAllowed ? 'block' : 'none';\n",
              "    })();\n",
              "  </script>\n",
              "</div>\n",
              "    </div>\n",
              "  </div>\n"
            ],
            "application/vnd.google.colaboratory.intrinsic+json": {
              "type": "dataframe",
              "variable_name": "df",
              "summary": "{\n  \"name\": \"df\",\n  \"rows\": 975,\n  \"fields\": [\n    {\n      \"column\": \"target\",\n      \"properties\": {\n        \"dtype\": \"category\",\n        \"num_unique_values\": 1,\n        \"samples\": [\n          \"banggai\"\n        ],\n        \"semantic_type\": \"\",\n        \"description\": \"\"\n      }\n    },\n    {\n      \"column\": \"title\",\n      \"properties\": {\n        \"dtype\": \"string\",\n        \"num_unique_values\": 975,\n        \"samples\": [\n          \"Polres Banggai Perluas Layanan SKCK Hingga Larut Malam, Masyarakat Dapat Manfaatkan Kemudahan Pengurusan bagi Para Lulus PPPK\"\n        ],\n        \"semantic_type\": \"\",\n        \"description\": \"\"\n      }\n    },\n    {\n      \"column\": \"text\",\n      \"properties\": {\n        \"dtype\": \"string\",\n        \"num_unique_values\": 958,\n        \"samples\": [\n          \"BANGGAI RAYA- Bupati Banggai Amirudin mengikuti kegiatan wawancara Paritrana Award Tingkat Provinsi Sulawesi Tengah dengan nominasi penghargaan Jaminan Sosial Ketenagakerjaan kategori nominasi pemerintah kabupaten/kota, pada Selasa (27/2/2024), bertempat di Hotel Aston, Palu.Paritrana Award merupakan penghargaan yang diberikan pemerintah pusat kepada pemerintah daerah, dan perusahaan badan usaha yang memiliki kepedulian (awareness) tinggi, dan citra positif terhadap program jaminan sosial ketenagakerjaan.Pada kesempatan tersebut, Bupati Amirudin memaparkan kebijakan pemerintah daerah terkait implementasi Program Jaminan Sosial Ketenagakerjaan, yang merupakan bagian dari upaya menindaklanjuti Instruksi Presiden (INPRES) Nomor 2 Tahun 2021 tentang optimalisasi pelaksanaan program jaminan sosial ketenagakerjaan.BACA JUGA:Pemilu 2024, Bali Mang Melangkah ke DPRD SultengSebagai bentuk keseriusan, lanjut Bupati Amirudin, Pemkab Banggai menindaklanjuti Inpres Nomor 2 Tahun 2021 tersebut dengan mengeluarkan Peraturan Bupati (Perbup) Nomor 32 Tahun 2021 tentang pelaksanaan program Jaminan Sosial Ketenagakerjaan di daerah dan Keputusan Bupati Banggai Nomor 560/935/NAKERTRANS tentang tim koordinasi pembinaan dan pemantauan terhadap pelaksanaan program BPJS Ketenagakerjaan di Kabupaten Banggai.Tidak hanya sampai di situ, upaya penguatan regulasi daerah dan perlindungan pekerja tersebut, maka ditingkatkan status regulasi dari Peraturan Bupati (Perbup) menjadi Peraturan Daerah (Perda) dengan ditetapkannya Perda Nomor 9 Tahun 2023 tentang Optimalisasi Penyelenggaraan Program Jaminan Sosial Ketenagakerjaan.BACA JUGA:Tak Terima Diberhentikan, Sekdes Segel Kantor Desa Solan BaruUntuk tahun 2023 melalui APBD telah dianggarkan iuran kepesertaan BPJS Ketenagakerjaan untuk program Jaminan Kecelakaan Kerja (JKK) dan Jaminan Kematian (JKM) bagi 13.765 orang tenaga kerja.Keterlibatan Bupati Banggai dalam wawancara ini menegaskan komitmen Pemerintah Kabupaten Banggai dalam memberikan perlindungan sosial yang memadai bagi para tenaga kerja di wilayah tersebut.Presentasi yang disampaikan oleh Bupati Amirudin memberikan gambaran yang jelas mengenai upaya konkret yang telah dilakukan untuk meningkatkan kesejahteraan dan keamanan sosial bagi masyarakat Banggai.Adapun yang menjadi tim penilai kegiatan ini terdiri dari Setda Provinsi, Dra. Novalina, MM., Kepala BPJS Ketenagakerjaan Provinsi Sulawesi Tengah, A. Syamsul Rijal, Kadis Nakertrans Provinsi, Drs. Arnould Firdaus, MT, Ahli ekonomi, Mohammad Ahlis Djirimu, SE, DEA.Phd, Ahli Kebijakan Publik : Dr.Drs Muzakir Tawil. M.Si, Ahli Hukum, Dr. H. Abdur Rasyid thalib S.H, Ahli Jaminan Sosial, Drs.H.Arifuddin Bidin, Ketua DPD APINDO, H. Achrul Udaya, dan Serikat Buruh, Karlan ladandu.BACA JUGA:Asia Muslim Charity Foundation Luncurkan Kapal Kemanusiaan untuk Perairan SultengKehadiran Bupati Banggai dalam acara ini menandai langkah nyata dalam membangun sistem jaminan sosial yang inklusif dan berkeadilan bagi seluruh masyarakat Kabupaten Banggai.**\"\n        ],\n        \"semantic_type\": \"\",\n        \"description\": \"\"\n      }\n    },\n    {\n      \"column\": \"lwr\",\n      \"properties\": {\n        \"dtype\": \"string\",\n        \"num_unique_values\": 958,\n        \"samples\": [\n          \"banggai raya- bupati banggai amirudin mengikuti kegiatan wawancara paritrana award tingkat provinsi sulawesi tengah dengan nominasi penghargaan jaminan sosial ketenagakerjaan kategori nominasi pemerintah kabupaten/kota, pada selasa (27/2/2024), bertempat di hotel aston, palu.paritrana award merupakan penghargaan yang diberikan pemerintah pusat kepada pemerintah daerah, dan perusahaan badan usaha yang memiliki kepedulian (awareness) tinggi, dan citra positif terhadap program jaminan sosial ketenagakerjaan.pada kesempatan tersebut, bupati amirudin memaparkan kebijakan pemerintah daerah terkait implementasi program jaminan sosial ketenagakerjaan, yang merupakan bagian dari upaya menindaklanjuti instruksi presiden (inpres) nomor 2 tahun 2021 tentang optimalisasi pelaksanaan program jaminan sosial ketenagakerjaan.baca juga:pemilu 2024, bali mang melangkah ke dprd sultengsebagai bentuk keseriusan, lanjut bupati amirudin, pemkab banggai menindaklanjuti inpres nomor 2 tahun 2021 tersebut dengan mengeluarkan peraturan bupati (perbup) nomor 32 tahun 2021 tentang pelaksanaan program jaminan sosial ketenagakerjaan di daerah dan keputusan bupati banggai nomor 560/935/nakertrans tentang tim koordinasi pembinaan dan pemantauan terhadap pelaksanaan program bpjs ketenagakerjaan di kabupaten banggai.tidak hanya sampai di situ, upaya penguatan regulasi daerah dan perlindungan pekerja tersebut, maka ditingkatkan status regulasi dari peraturan bupati (perbup) menjadi peraturan daerah (perda) dengan ditetapkannya perda nomor 9 tahun 2023 tentang optimalisasi penyelenggaraan program jaminan sosial ketenagakerjaan.baca juga:tak terima diberhentikan, sekdes segel kantor desa solan baruuntuk tahun 2023 melalui apbd telah dianggarkan iuran kepesertaan bpjs ketenagakerjaan untuk program jaminan kecelakaan kerja (jkk) dan jaminan kematian (jkm) bagi 13.765 orang tenaga kerja.keterlibatan bupati banggai dalam wawancara ini menegaskan komitmen pemerintah kabupaten banggai dalam memberikan perlindungan sosial yang memadai bagi para tenaga kerja di wilayah tersebut.presentasi yang disampaikan oleh bupati amirudin memberikan gambaran yang jelas mengenai upaya konkret yang telah dilakukan untuk meningkatkan kesejahteraan dan keamanan sosial bagi masyarakat banggai.adapun yang menjadi tim penilai kegiatan ini terdiri dari setda provinsi, dra. novalina, mm., kepala bpjs ketenagakerjaan provinsi sulawesi tengah, a. syamsul rijal, kadis nakertrans provinsi, drs. arnould firdaus, mt, ahli ekonomi, mohammad ahlis djirimu, se, dea.phd, ahli kebijakan publik : dr.drs muzakir tawil. m.si, ahli hukum, dr. h. abdur rasyid thalib s.h, ahli jaminan sosial, drs.h.arifuddin bidin, ketua dpd apindo, h. achrul udaya, dan serikat buruh, karlan ladandu.baca juga:asia muslim charity foundation luncurkan kapal kemanusiaan untuk perairan sultengkehadiran bupati banggai dalam acara ini menandai langkah nyata dalam membangun sistem jaminan sosial yang inklusif dan berkeadilan bagi seluruh masyarakat kabupaten banggai.**\"\n        ],\n        \"semantic_type\": \"\",\n        \"description\": \"\"\n      }\n    },\n    {\n      \"column\": \"clean_number\",\n      \"properties\": {\n        \"dtype\": \"string\",\n        \"num_unique_values\": 958,\n        \"samples\": [\n          \"banggai raya- bupati banggai amirudin mengikuti kegiatan wawancara paritrana award tingkat provinsi sulawesi tengah dengan nominasi penghargaan jaminan sosial ketenagakerjaan kategori nominasi pemerintah kabupaten/kota, pada selasa (//), bertempat di hotel aston, palu.paritrana award merupakan penghargaan yang diberikan pemerintah pusat kepada pemerintah daerah, dan perusahaan badan usaha yang memiliki kepedulian (awareness) tinggi, dan citra positif terhadap program jaminan sosial ketenagakerjaan.pada kesempatan tersebut, bupati amirudin memaparkan kebijakan pemerintah daerah terkait implementasi program jaminan sosial ketenagakerjaan, yang merupakan bagian dari upaya menindaklanjuti instruksi presiden (inpres) nomor  tahun  tentang optimalisasi pelaksanaan program jaminan sosial ketenagakerjaan.baca juga:pemilu , bali mang melangkah ke dprd sultengsebagai bentuk keseriusan, lanjut bupati amirudin, pemkab banggai menindaklanjuti inpres nomor  tahun  tersebut dengan mengeluarkan peraturan bupati (perbup) nomor  tahun  tentang pelaksanaan program jaminan sosial ketenagakerjaan di daerah dan keputusan bupati banggai nomor //nakertrans tentang tim koordinasi pembinaan dan pemantauan terhadap pelaksanaan program bpjs ketenagakerjaan di kabupaten banggai.tidak hanya sampai di situ, upaya penguatan regulasi daerah dan perlindungan pekerja tersebut, maka ditingkatkan status regulasi dari peraturan bupati (perbup) menjadi peraturan daerah (perda) dengan ditetapkannya perda nomor  tahun  tentang optimalisasi penyelenggaraan program jaminan sosial ketenagakerjaan.baca juga:tak terima diberhentikan, sekdes segel kantor desa solan baruuntuk tahun  melalui apbd telah dianggarkan iuran kepesertaan bpjs ketenagakerjaan untuk program jaminan kecelakaan kerja (jkk) dan jaminan kematian (jkm) bagi . orang tenaga kerja.keterlibatan bupati banggai dalam wawancara ini menegaskan komitmen pemerintah kabupaten banggai dalam memberikan perlindungan sosial yang memadai bagi para tenaga kerja di wilayah tersebut.presentasi yang disampaikan oleh bupati amirudin memberikan gambaran yang jelas mengenai upaya konkret yang telah dilakukan untuk meningkatkan kesejahteraan dan keamanan sosial bagi masyarakat banggai.adapun yang menjadi tim penilai kegiatan ini terdiri dari setda provinsi, dra. novalina, mm., kepala bpjs ketenagakerjaan provinsi sulawesi tengah, a. syamsul rijal, kadis nakertrans provinsi, drs. arnould firdaus, mt, ahli ekonomi, mohammad ahlis djirimu, se, dea.phd, ahli kebijakan publik : dr.drs muzakir tawil. m.si, ahli hukum, dr. h. abdur rasyid thalib s.h, ahli jaminan sosial, drs.h.arifuddin bidin, ketua dpd apindo, h. achrul udaya, dan serikat buruh, karlan ladandu.baca juga:asia muslim charity foundation luncurkan kapal kemanusiaan untuk perairan sultengkehadiran bupati banggai dalam acara ini menandai langkah nyata dalam membangun sistem jaminan sosial yang inklusif dan berkeadilan bagi seluruh masyarakat kabupaten banggai.**\"\n        ],\n        \"semantic_type\": \"\",\n        \"description\": \"\"\n      }\n    },\n    {\n      \"column\": \"clean_punct\",\n      \"properties\": {\n        \"dtype\": \"string\",\n        \"num_unique_values\": 958,\n        \"samples\": [\n          \"banggai raya  bupati banggai amirudin mengikuti kegiatan wawancara paritrana award tingkat provinsi sulawesi tengah dengan nominasi penghargaan jaminan sosial ketenagakerjaan kategori nominasi pemerintah kabupatenkota pada selasa  bertempat di hotel aston palu paritrana award merupakan penghargaan yang diberikan pemerintah pusat kepada pemerintah daerah dan perusahaan badan usaha yang memiliki kepedulian awareness tinggi dan citra positif terhadap program jaminan sosial ketenagakerjaan pada kesempatan tersebut bupati amirudin memaparkan kebijakan pemerintah daerah terkait implementasi program jaminan sosial ketenagakerjaan yang merupakan bagian dari upaya menindaklanjuti instruksi presiden inpres nomor  tahun  tentang optimalisasi pelaksanaan program jaminan sosial ketenagakerjaan baca juga pemilu  bali mang melangkah ke dprd sultengsebagai bentuk keseriusan lanjut bupati amirudin pemkab banggai menindaklanjuti inpres nomor  tahun  tersebut dengan mengeluarkan peraturan bupati perbup nomor  tahun  tentang pelaksanaan program jaminan sosial ketenagakerjaan di daerah dan keputusan bupati banggai nomor nakertrans tentang tim koordinasi pembinaan dan pemantauan terhadap pelaksanaan program bpjs ketenagakerjaan di kabupaten banggai tidak hanya sampai di situ upaya penguatan regulasi daerah dan perlindungan pekerja tersebut maka ditingkatkan status regulasi dari peraturan bupati perbup menjadi peraturan daerah perda dengan ditetapkannya perda nomor  tahun  tentang optimalisasi penyelenggaraan program jaminan sosial ketenagakerjaan baca juga tak terima diberhentikan sekdes segel kantor desa solan baruuntuk tahun  melalui apbd telah dianggarkan iuran kepesertaan bpjs ketenagakerjaan untuk program jaminan kecelakaan kerja jkk dan jaminan kematian jkm bagi   orang tenaga kerja keterlibatan bupati banggai dalam wawancara ini menegaskan komitmen pemerintah kabupaten banggai dalam memberikan perlindungan sosial yang memadai bagi para tenaga kerja di wilayah tersebut presentasi yang disampaikan oleh bupati amirudin memberikan gambaran yang jelas mengenai upaya konkret yang telah dilakukan untuk meningkatkan kesejahteraan dan keamanan sosial bagi masyarakat banggai adapun yang menjadi tim penilai kegiatan ini terdiri dari setda provinsi dra  novalina mm  kepala bpjs ketenagakerjaan provinsi sulawesi tengah a  syamsul rijal kadis nakertrans provinsi drs  arnould firdaus mt ahli ekonomi mohammad ahlis djirimu se dea phd ahli kebijakan publik   dr drs muzakir tawil  m si ahli hukum dr  h  abdur rasyid thalib s h ahli jaminan sosial drs h arifuddin bidin ketua dpd apindo h  achrul udaya dan serikat buruh karlan ladandu baca juga asia muslim charity foundation luncurkan kapal kemanusiaan untuk perairan sultengkehadiran bupati banggai dalam acara ini menandai langkah nyata dalam membangun sistem jaminan sosial yang inklusif dan berkeadilan bagi seluruh masyarakat kabupaten banggai   \"\n        ],\n        \"semantic_type\": \"\",\n        \"description\": \"\"\n      }\n    }\n  ]\n}"
            }
          },
          "metadata": {},
          "execution_count": 38
        }
      ]
    },
    {
      "cell_type": "markdown",
      "metadata": {
        "id": "P1RGdnrreR9V"
      },
      "source": [
        "### Delete whitespaces"
      ]
    },
    {
      "cell_type": "code",
      "execution_count": 39,
      "metadata": {
        "id": "t9ZjE6MleJmC"
      },
      "outputs": [],
      "source": [
        "def normalize_whitespace(text):\n",
        "    corrected = str(text)\n",
        "    corrected = re.sub(r\"//t\",r\"\\t\", corrected)\n",
        "    corrected = re.sub(r\"( )\\1+\",r\"\\1\", corrected)\n",
        "    corrected = re.sub(r\"(\\n)\\1+\",r\"\\1\", corrected)\n",
        "    corrected = re.sub(r\"(\\r)\\1+\",r\"\\1\", corrected)\n",
        "    corrected = re.sub(r\"(\\t)\\1+\",r\"\\1\", corrected)\n",
        "    return corrected.strip(\" \")"
      ]
    },
    {
      "cell_type": "code",
      "execution_count": 40,
      "metadata": {
        "colab": {
          "base_uri": "https://localhost:8080/"
        },
        "id": "1T8BVqeTeZGX",
        "outputId": "509e22d9-2fed-4e8e-dc69-9addbf4e29de"
      },
      "outputs": [
        {
          "output_type": "stream",
          "name": "stderr",
          "text": [
            "<ipython-input-40-364f8f51d79a>:1: SettingWithCopyWarning: \n",
            "A value is trying to be set on a copy of a slice from a DataFrame.\n",
            "Try using .loc[row_indexer,col_indexer] = value instead\n",
            "\n",
            "See the caveats in the documentation: https://pandas.pydata.org/pandas-docs/stable/user_guide/indexing.html#returning-a-view-versus-a-copy\n",
            "  df['clean_double_ws'] = df['clean_punct'].apply(normalize_whitespace)\n"
          ]
        },
        {
          "output_type": "execute_result",
          "data": {
            "text/plain": [
              "0      kabar luwuk suasana pasar murah bersubsidi di ...\n",
              "1      kabar luwuk film horor piara mayat kreativitas...\n",
              "2      kabar luwuk festival malabot tumbe kembali mer...\n",
              "3      kerja cepat dan terkoordinir dalam penerbitan ...\n",
              "4      kabar luwuk bawaslu banggaiperkuat koordinasi ...\n",
              "                             ...                        \n",
              "995    terasbanggai com bawaslu banggai akan meningka...\n",
              "996    banggai raya bupati banggai ir h amirudin mm a...\n",
              "997    terasbanggai com setelah sempat tertunda masa ...\n",
              "998    banggai januari bertempat di ruang sidang pada...\n",
              "999    banggai raya bawaslu kabupaten banggai menggel...\n",
              "Name: clean_double_ws, Length: 975, dtype: object"
            ]
          },
          "metadata": {},
          "execution_count": 40
        }
      ],
      "source": [
        "df['clean_double_ws'] = df['clean_punct'].apply(normalize_whitespace)\n",
        "df['clean_double_ws']"
      ]
    },
    {
      "cell_type": "code",
      "source": [
        "df.tail()"
      ],
      "metadata": {
        "id": "WS12mtvVBUnS",
        "colab": {
          "base_uri": "https://localhost:8080/",
          "height": 293
        },
        "outputId": "3d211a6e-1b95-42ba-f718-4c39bd06fb0c"
      },
      "execution_count": 41,
      "outputs": [
        {
          "output_type": "execute_result",
          "data": {
            "text/plain": [
              "      target                                              title  \\\n",
              "995  banggai  Jelang Voting Day Bawaslu Banggai Gelar Apel S...   \n",
              "996  banggai  Bupati Banggai Ajak Warga Download Mobile JKN ...   \n",
              "997  banggai  Banggai Bakal Gunakan Listrik Tenaga Gas, Hari...   \n",
              "998  banggai  Asistensi Pengisian SPT Tahunan dan Pemadanan ...   \n",
              "999  banggai  Bawaslu Banggai Gelar Sosialisasi Pencegahan B...   \n",
              "\n",
              "                                                  text  \\\n",
              "995  Terasbanggai.com -Bawaslu Banggai akan meningk...   \n",
              "996  BANGGAI RAYA-Bupati Banggai, Ir. H. Amirudin M...   \n",
              "997  Terasbanggai.com- Setelah sempat tertunda masa...   \n",
              "998  Banggai, 25 Januari 2024 – Bertempat di ruang ...   \n",
              "999  BANGGAI RAYA-Bawaslu Kabupaten Banggai menggel...   \n",
              "\n",
              "                                                   lwr  \\\n",
              "995  terasbanggai.com -bawaslu banggai akan meningk...   \n",
              "996  banggai raya-bupati banggai, ir. h. amirudin m...   \n",
              "997  terasbanggai.com- setelah sempat tertunda masa...   \n",
              "998  banggai, 25 januari 2024 – bertempat di ruang ...   \n",
              "999  banggai raya-bawaslu kabupaten banggai menggel...   \n",
              "\n",
              "                                          clean_number  \\\n",
              "995  terasbanggai.com -bawaslu banggai akan meningk...   \n",
              "996  banggai raya-bupati banggai, ir. h. amirudin m...   \n",
              "997  terasbanggai.com- setelah sempat tertunda masa...   \n",
              "998  banggai,  januari  – bertempat di ruang sidang...   \n",
              "999  banggai raya-bawaslu kabupaten banggai menggel...   \n",
              "\n",
              "                                           clean_punct  \\\n",
              "995  terasbanggai com  bawaslu banggai akan meningk...   \n",
              "996  banggai raya bupati banggai ir  h  amirudin mm...   \n",
              "997  terasbanggai com  setelah sempat tertunda masa...   \n",
              "998  banggai  januari    bertempat di ruang sidang ...   \n",
              "999  banggai raya bawaslu kabupaten banggai menggel...   \n",
              "\n",
              "                                       clean_double_ws  \n",
              "995  terasbanggai com bawaslu banggai akan meningka...  \n",
              "996  banggai raya bupati banggai ir h amirudin mm a...  \n",
              "997  terasbanggai com setelah sempat tertunda masa ...  \n",
              "998  banggai januari bertempat di ruang sidang pada...  \n",
              "999  banggai raya bawaslu kabupaten banggai menggel...  "
            ],
            "text/html": [
              "\n",
              "  <div id=\"df-4cd11197-3207-46f6-a2a2-2dfaa8ec32a1\" class=\"colab-df-container\">\n",
              "    <div>\n",
              "<style scoped>\n",
              "    .dataframe tbody tr th:only-of-type {\n",
              "        vertical-align: middle;\n",
              "    }\n",
              "\n",
              "    .dataframe tbody tr th {\n",
              "        vertical-align: top;\n",
              "    }\n",
              "\n",
              "    .dataframe thead th {\n",
              "        text-align: right;\n",
              "    }\n",
              "</style>\n",
              "<table border=\"1\" class=\"dataframe\">\n",
              "  <thead>\n",
              "    <tr style=\"text-align: right;\">\n",
              "      <th></th>\n",
              "      <th>target</th>\n",
              "      <th>title</th>\n",
              "      <th>text</th>\n",
              "      <th>lwr</th>\n",
              "      <th>clean_number</th>\n",
              "      <th>clean_punct</th>\n",
              "      <th>clean_double_ws</th>\n",
              "    </tr>\n",
              "  </thead>\n",
              "  <tbody>\n",
              "    <tr>\n",
              "      <th>995</th>\n",
              "      <td>banggai</td>\n",
              "      <td>Jelang Voting Day Bawaslu Banggai Gelar Apel S...</td>\n",
              "      <td>Terasbanggai.com -Bawaslu Banggai akan meningk...</td>\n",
              "      <td>terasbanggai.com -bawaslu banggai akan meningk...</td>\n",
              "      <td>terasbanggai.com -bawaslu banggai akan meningk...</td>\n",
              "      <td>terasbanggai com  bawaslu banggai akan meningk...</td>\n",
              "      <td>terasbanggai com bawaslu banggai akan meningka...</td>\n",
              "    </tr>\n",
              "    <tr>\n",
              "      <th>996</th>\n",
              "      <td>banggai</td>\n",
              "      <td>Bupati Banggai Ajak Warga Download Mobile JKN ...</td>\n",
              "      <td>BANGGAI RAYA-Bupati Banggai, Ir. H. Amirudin M...</td>\n",
              "      <td>banggai raya-bupati banggai, ir. h. amirudin m...</td>\n",
              "      <td>banggai raya-bupati banggai, ir. h. amirudin m...</td>\n",
              "      <td>banggai raya bupati banggai ir  h  amirudin mm...</td>\n",
              "      <td>banggai raya bupati banggai ir h amirudin mm a...</td>\n",
              "    </tr>\n",
              "    <tr>\n",
              "      <th>997</th>\n",
              "      <td>banggai</td>\n",
              "      <td>Banggai Bakal Gunakan Listrik Tenaga Gas, Hari...</td>\n",
              "      <td>Terasbanggai.com- Setelah sempat tertunda masa...</td>\n",
              "      <td>terasbanggai.com- setelah sempat tertunda masa...</td>\n",
              "      <td>terasbanggai.com- setelah sempat tertunda masa...</td>\n",
              "      <td>terasbanggai com  setelah sempat tertunda masa...</td>\n",
              "      <td>terasbanggai com setelah sempat tertunda masa ...</td>\n",
              "    </tr>\n",
              "    <tr>\n",
              "      <th>998</th>\n",
              "      <td>banggai</td>\n",
              "      <td>Asistensi Pengisian SPT Tahunan dan Pemadanan ...</td>\n",
              "      <td>Banggai, 25 Januari 2024 – Bertempat di ruang ...</td>\n",
              "      <td>banggai, 25 januari 2024 – bertempat di ruang ...</td>\n",
              "      <td>banggai,  januari  – bertempat di ruang sidang...</td>\n",
              "      <td>banggai  januari    bertempat di ruang sidang ...</td>\n",
              "      <td>banggai januari bertempat di ruang sidang pada...</td>\n",
              "    </tr>\n",
              "    <tr>\n",
              "      <th>999</th>\n",
              "      <td>banggai</td>\n",
              "      <td>Bawaslu Banggai Gelar Sosialisasi Pencegahan B...</td>\n",
              "      <td>BANGGAI RAYA-Bawaslu Kabupaten Banggai menggel...</td>\n",
              "      <td>banggai raya-bawaslu kabupaten banggai menggel...</td>\n",
              "      <td>banggai raya-bawaslu kabupaten banggai menggel...</td>\n",
              "      <td>banggai raya bawaslu kabupaten banggai menggel...</td>\n",
              "      <td>banggai raya bawaslu kabupaten banggai menggel...</td>\n",
              "    </tr>\n",
              "  </tbody>\n",
              "</table>\n",
              "</div>\n",
              "    <div class=\"colab-df-buttons\">\n",
              "\n",
              "  <div class=\"colab-df-container\">\n",
              "    <button class=\"colab-df-convert\" onclick=\"convertToInteractive('df-4cd11197-3207-46f6-a2a2-2dfaa8ec32a1')\"\n",
              "            title=\"Convert this dataframe to an interactive table.\"\n",
              "            style=\"display:none;\">\n",
              "\n",
              "  <svg xmlns=\"http://www.w3.org/2000/svg\" height=\"24px\" viewBox=\"0 -960 960 960\">\n",
              "    <path d=\"M120-120v-720h720v720H120Zm60-500h600v-160H180v160Zm220 220h160v-160H400v160Zm0 220h160v-160H400v160ZM180-400h160v-160H180v160Zm440 0h160v-160H620v160ZM180-180h160v-160H180v160Zm440 0h160v-160H620v160Z\"/>\n",
              "  </svg>\n",
              "    </button>\n",
              "\n",
              "  <style>\n",
              "    .colab-df-container {\n",
              "      display:flex;\n",
              "      gap: 12px;\n",
              "    }\n",
              "\n",
              "    .colab-df-convert {\n",
              "      background-color: #E8F0FE;\n",
              "      border: none;\n",
              "      border-radius: 50%;\n",
              "      cursor: pointer;\n",
              "      display: none;\n",
              "      fill: #1967D2;\n",
              "      height: 32px;\n",
              "      padding: 0 0 0 0;\n",
              "      width: 32px;\n",
              "    }\n",
              "\n",
              "    .colab-df-convert:hover {\n",
              "      background-color: #E2EBFA;\n",
              "      box-shadow: 0px 1px 2px rgba(60, 64, 67, 0.3), 0px 1px 3px 1px rgba(60, 64, 67, 0.15);\n",
              "      fill: #174EA6;\n",
              "    }\n",
              "\n",
              "    .colab-df-buttons div {\n",
              "      margin-bottom: 4px;\n",
              "    }\n",
              "\n",
              "    [theme=dark] .colab-df-convert {\n",
              "      background-color: #3B4455;\n",
              "      fill: #D2E3FC;\n",
              "    }\n",
              "\n",
              "    [theme=dark] .colab-df-convert:hover {\n",
              "      background-color: #434B5C;\n",
              "      box-shadow: 0px 1px 3px 1px rgba(0, 0, 0, 0.15);\n",
              "      filter: drop-shadow(0px 1px 2px rgba(0, 0, 0, 0.3));\n",
              "      fill: #FFFFFF;\n",
              "    }\n",
              "  </style>\n",
              "\n",
              "    <script>\n",
              "      const buttonEl =\n",
              "        document.querySelector('#df-4cd11197-3207-46f6-a2a2-2dfaa8ec32a1 button.colab-df-convert');\n",
              "      buttonEl.style.display =\n",
              "        google.colab.kernel.accessAllowed ? 'block' : 'none';\n",
              "\n",
              "      async function convertToInteractive(key) {\n",
              "        const element = document.querySelector('#df-4cd11197-3207-46f6-a2a2-2dfaa8ec32a1');\n",
              "        const dataTable =\n",
              "          await google.colab.kernel.invokeFunction('convertToInteractive',\n",
              "                                                    [key], {});\n",
              "        if (!dataTable) return;\n",
              "\n",
              "        const docLinkHtml = 'Like what you see? Visit the ' +\n",
              "          '<a target=\"_blank\" href=https://colab.research.google.com/notebooks/data_table.ipynb>data table notebook</a>'\n",
              "          + ' to learn more about interactive tables.';\n",
              "        element.innerHTML = '';\n",
              "        dataTable['output_type'] = 'display_data';\n",
              "        await google.colab.output.renderOutput(dataTable, element);\n",
              "        const docLink = document.createElement('div');\n",
              "        docLink.innerHTML = docLinkHtml;\n",
              "        element.appendChild(docLink);\n",
              "      }\n",
              "    </script>\n",
              "  </div>\n",
              "\n",
              "\n",
              "<div id=\"df-2437a981-c245-47e9-a2c3-3d26f6cac41c\">\n",
              "  <button class=\"colab-df-quickchart\" onclick=\"quickchart('df-2437a981-c245-47e9-a2c3-3d26f6cac41c')\"\n",
              "            title=\"Suggest charts\"\n",
              "            style=\"display:none;\">\n",
              "\n",
              "<svg xmlns=\"http://www.w3.org/2000/svg\" height=\"24px\"viewBox=\"0 0 24 24\"\n",
              "     width=\"24px\">\n",
              "    <g>\n",
              "        <path d=\"M19 3H5c-1.1 0-2 .9-2 2v14c0 1.1.9 2 2 2h14c1.1 0 2-.9 2-2V5c0-1.1-.9-2-2-2zM9 17H7v-7h2v7zm4 0h-2V7h2v10zm4 0h-2v-4h2v4z\"/>\n",
              "    </g>\n",
              "</svg>\n",
              "  </button>\n",
              "\n",
              "<style>\n",
              "  .colab-df-quickchart {\n",
              "      --bg-color: #E8F0FE;\n",
              "      --fill-color: #1967D2;\n",
              "      --hover-bg-color: #E2EBFA;\n",
              "      --hover-fill-color: #174EA6;\n",
              "      --disabled-fill-color: #AAA;\n",
              "      --disabled-bg-color: #DDD;\n",
              "  }\n",
              "\n",
              "  [theme=dark] .colab-df-quickchart {\n",
              "      --bg-color: #3B4455;\n",
              "      --fill-color: #D2E3FC;\n",
              "      --hover-bg-color: #434B5C;\n",
              "      --hover-fill-color: #FFFFFF;\n",
              "      --disabled-bg-color: #3B4455;\n",
              "      --disabled-fill-color: #666;\n",
              "  }\n",
              "\n",
              "  .colab-df-quickchart {\n",
              "    background-color: var(--bg-color);\n",
              "    border: none;\n",
              "    border-radius: 50%;\n",
              "    cursor: pointer;\n",
              "    display: none;\n",
              "    fill: var(--fill-color);\n",
              "    height: 32px;\n",
              "    padding: 0;\n",
              "    width: 32px;\n",
              "  }\n",
              "\n",
              "  .colab-df-quickchart:hover {\n",
              "    background-color: var(--hover-bg-color);\n",
              "    box-shadow: 0 1px 2px rgba(60, 64, 67, 0.3), 0 1px 3px 1px rgba(60, 64, 67, 0.15);\n",
              "    fill: var(--button-hover-fill-color);\n",
              "  }\n",
              "\n",
              "  .colab-df-quickchart-complete:disabled,\n",
              "  .colab-df-quickchart-complete:disabled:hover {\n",
              "    background-color: var(--disabled-bg-color);\n",
              "    fill: var(--disabled-fill-color);\n",
              "    box-shadow: none;\n",
              "  }\n",
              "\n",
              "  .colab-df-spinner {\n",
              "    border: 2px solid var(--fill-color);\n",
              "    border-color: transparent;\n",
              "    border-bottom-color: var(--fill-color);\n",
              "    animation:\n",
              "      spin 1s steps(1) infinite;\n",
              "  }\n",
              "\n",
              "  @keyframes spin {\n",
              "    0% {\n",
              "      border-color: transparent;\n",
              "      border-bottom-color: var(--fill-color);\n",
              "      border-left-color: var(--fill-color);\n",
              "    }\n",
              "    20% {\n",
              "      border-color: transparent;\n",
              "      border-left-color: var(--fill-color);\n",
              "      border-top-color: var(--fill-color);\n",
              "    }\n",
              "    30% {\n",
              "      border-color: transparent;\n",
              "      border-left-color: var(--fill-color);\n",
              "      border-top-color: var(--fill-color);\n",
              "      border-right-color: var(--fill-color);\n",
              "    }\n",
              "    40% {\n",
              "      border-color: transparent;\n",
              "      border-right-color: var(--fill-color);\n",
              "      border-top-color: var(--fill-color);\n",
              "    }\n",
              "    60% {\n",
              "      border-color: transparent;\n",
              "      border-right-color: var(--fill-color);\n",
              "    }\n",
              "    80% {\n",
              "      border-color: transparent;\n",
              "      border-right-color: var(--fill-color);\n",
              "      border-bottom-color: var(--fill-color);\n",
              "    }\n",
              "    90% {\n",
              "      border-color: transparent;\n",
              "      border-bottom-color: var(--fill-color);\n",
              "    }\n",
              "  }\n",
              "</style>\n",
              "\n",
              "  <script>\n",
              "    async function quickchart(key) {\n",
              "      const quickchartButtonEl =\n",
              "        document.querySelector('#' + key + ' button');\n",
              "      quickchartButtonEl.disabled = true;  // To prevent multiple clicks.\n",
              "      quickchartButtonEl.classList.add('colab-df-spinner');\n",
              "      try {\n",
              "        const charts = await google.colab.kernel.invokeFunction(\n",
              "            'suggestCharts', [key], {});\n",
              "      } catch (error) {\n",
              "        console.error('Error during call to suggestCharts:', error);\n",
              "      }\n",
              "      quickchartButtonEl.classList.remove('colab-df-spinner');\n",
              "      quickchartButtonEl.classList.add('colab-df-quickchart-complete');\n",
              "    }\n",
              "    (() => {\n",
              "      let quickchartButtonEl =\n",
              "        document.querySelector('#df-2437a981-c245-47e9-a2c3-3d26f6cac41c button');\n",
              "      quickchartButtonEl.style.display =\n",
              "        google.colab.kernel.accessAllowed ? 'block' : 'none';\n",
              "    })();\n",
              "  </script>\n",
              "</div>\n",
              "    </div>\n",
              "  </div>\n"
            ],
            "application/vnd.google.colaboratory.intrinsic+json": {
              "type": "dataframe",
              "summary": "{\n  \"name\": \"df\",\n  \"rows\": 5,\n  \"fields\": [\n    {\n      \"column\": \"target\",\n      \"properties\": {\n        \"dtype\": \"category\",\n        \"num_unique_values\": 1,\n        \"samples\": [\n          \"banggai\"\n        ],\n        \"semantic_type\": \"\",\n        \"description\": \"\"\n      }\n    },\n    {\n      \"column\": \"title\",\n      \"properties\": {\n        \"dtype\": \"string\",\n        \"num_unique_values\": 5,\n        \"samples\": [\n          \"Bupati Banggai Ajak Warga Download Mobile JKN dan Lakukan Skrining Kesehatan\"\n        ],\n        \"semantic_type\": \"\",\n        \"description\": \"\"\n      }\n    },\n    {\n      \"column\": \"text\",\n      \"properties\": {\n        \"dtype\": \"string\",\n        \"num_unique_values\": 5,\n        \"samples\": [\n          \"BANGGAI RAYA-Bupati Banggai, Ir. H. Amirudin MM., AIFO., mengajak kepada semua masyarakat untuk dapat melakukan skrining riwayat kesehatan. Sebab hal ini sangat penting dilakukan untuk mengetahui potensi penyakit yang diderita.\\u201cSkrining kesehatan dapat dilakukan melalui aplikasi Mobile JKN, website BPJS Kesehatan https://webskrining.bpjs-kesehatan.go.id/skrining/index.html atau dapat langsung mendatangi fasilitas kesehatan tingkat pertama yang terdaftar (peserta JKN),\\u201d pesan Bupati Amirudin dalam tayangan video, Rabu 24 Januari 2024.BACA JUGA:Kampanye Tatap Muka di Salodik, Ini Harapan Masyarakat ke RHS Caleg PDIP BanggaiSelanjutnya, orang nomor satu di Kabupaten Banggai itu mengajak kepada semua masyarakat untuk mendownload dan registrasi aplikasi mobile JKN.BACA JUGA:Pelantikan PTPS, Bawaslu Banggai : Tingkatkan Pengawasan PemiluMenurutnya, dengan mendownload aplikasi mobile JKN ini tak lain untuk memudahkan proses pelayanan administrasi kepesertaan jaminan kesehatan nasional tanpa harus datang ke kantor BPJS Kesehatan.BACA JUGA:Baru PDIP, Bawaslu Banggai Minta Parpol Segera Laporkan Data Saksi Pemilu\\u201cAyo segera download aplikasi Mobile JKN dan segera lakukan skrining riwayat kesehatan untuk masyarakat Kabupaten Banggai yang lebih sehat,\\u201d tandasnya. (*)\"\n        ],\n        \"semantic_type\": \"\",\n        \"description\": \"\"\n      }\n    },\n    {\n      \"column\": \"lwr\",\n      \"properties\": {\n        \"dtype\": \"string\",\n        \"num_unique_values\": 5,\n        \"samples\": [\n          \"banggai raya-bupati banggai, ir. h. amirudin mm., aifo., mengajak kepada semua masyarakat untuk dapat melakukan skrining riwayat kesehatan. sebab hal ini sangat penting dilakukan untuk mengetahui potensi penyakit yang diderita.\\u201cskrining kesehatan dapat dilakukan melalui aplikasi mobile jkn, website bpjs kesehatan https://webskrining.bpjs-kesehatan.go.id/skrining/index.html atau dapat langsung mendatangi fasilitas kesehatan tingkat pertama yang terdaftar (peserta jkn),\\u201d pesan bupati amirudin dalam tayangan video, rabu 24 januari 2024.baca juga:kampanye tatap muka di salodik, ini harapan masyarakat ke rhs caleg pdip banggaiselanjutnya, orang nomor satu di kabupaten banggai itu mengajak kepada semua masyarakat untuk mendownload dan registrasi aplikasi mobile jkn.baca juga:pelantikan ptps, bawaslu banggai : tingkatkan pengawasan pemilumenurutnya, dengan mendownload aplikasi mobile jkn ini tak lain untuk memudahkan proses pelayanan administrasi kepesertaan jaminan kesehatan nasional tanpa harus datang ke kantor bpjs kesehatan.baca juga:baru pdip, bawaslu banggai minta parpol segera laporkan data saksi pemilu\\u201cayo segera download aplikasi mobile jkn dan segera lakukan skrining riwayat kesehatan untuk masyarakat kabupaten banggai yang lebih sehat,\\u201d tandasnya. (*)\"\n        ],\n        \"semantic_type\": \"\",\n        \"description\": \"\"\n      }\n    },\n    {\n      \"column\": \"clean_number\",\n      \"properties\": {\n        \"dtype\": \"string\",\n        \"num_unique_values\": 5,\n        \"samples\": [\n          \"banggai raya-bupati banggai, ir. h. amirudin mm., aifo., mengajak kepada semua masyarakat untuk dapat melakukan skrining riwayat kesehatan. sebab hal ini sangat penting dilakukan untuk mengetahui potensi penyakit yang diderita.\\u201cskrining kesehatan dapat dilakukan melalui aplikasi mobile jkn, website bpjs kesehatan https://webskrining.bpjs-kesehatan.go.id/skrining/index.html atau dapat langsung mendatangi fasilitas kesehatan tingkat pertama yang terdaftar (peserta jkn),\\u201d pesan bupati amirudin dalam tayangan video, rabu  januari .baca juga:kampanye tatap muka di salodik, ini harapan masyarakat ke rhs caleg pdip banggaiselanjutnya, orang nomor satu di kabupaten banggai itu mengajak kepada semua masyarakat untuk mendownload dan registrasi aplikasi mobile jkn.baca juga:pelantikan ptps, bawaslu banggai : tingkatkan pengawasan pemilumenurutnya, dengan mendownload aplikasi mobile jkn ini tak lain untuk memudahkan proses pelayanan administrasi kepesertaan jaminan kesehatan nasional tanpa harus datang ke kantor bpjs kesehatan.baca juga:baru pdip, bawaslu banggai minta parpol segera laporkan data saksi pemilu\\u201cayo segera download aplikasi mobile jkn dan segera lakukan skrining riwayat kesehatan untuk masyarakat kabupaten banggai yang lebih sehat,\\u201d tandasnya. (*)\"\n        ],\n        \"semantic_type\": \"\",\n        \"description\": \"\"\n      }\n    },\n    {\n      \"column\": \"clean_punct\",\n      \"properties\": {\n        \"dtype\": \"string\",\n        \"num_unique_values\": 5,\n        \"samples\": [\n          \"banggai raya bupati banggai ir  h  amirudin mm  aifo  mengajak kepada semua masyarakat untuk dapat melakukan skrining riwayat kesehatan  sebab hal ini sangat penting dilakukan untuk mengetahui potensi penyakit yang diderita  skrining kesehatan dapat dilakukan melalui aplikasi mobile jkn website bpjs kesehatan https webskrining bpjs kesehatan go idskriningindex html atau dapat langsung mendatangi fasilitas kesehatan tingkat pertama yang terdaftar peserta jkn  pesan bupati amirudin dalam tayangan video rabu  januari  baca juga kampanye tatap muka di salodik ini harapan masyarakat ke rhs caleg pdip banggaiselanjutnya orang nomor satu di kabupaten banggai itu mengajak kepada semua masyarakat untuk mendownload dan registrasi aplikasi mobile jkn baca juga pelantikan ptps bawaslu banggai   tingkatkan pengawasan pemilumenurutnya dengan mendownload aplikasi mobile jkn ini tak lain untuk memudahkan proses pelayanan administrasi kepesertaan jaminan kesehatan nasional tanpa harus datang ke kantor bpjs kesehatan baca juga baru pdip bawaslu banggai minta parpol segera laporkan data saksi pemilu ayo segera download aplikasi mobile jkn dan segera lakukan skrining riwayat kesehatan untuk masyarakat kabupaten banggai yang lebih sehat  tandasnya   \"\n        ],\n        \"semantic_type\": \"\",\n        \"description\": \"\"\n      }\n    },\n    {\n      \"column\": \"clean_double_ws\",\n      \"properties\": {\n        \"dtype\": \"string\",\n        \"num_unique_values\": 5,\n        \"samples\": [\n          \"banggai raya bupati banggai ir h amirudin mm aifo mengajak kepada semua masyarakat untuk dapat melakukan skrining riwayat kesehatan sebab hal ini sangat penting dilakukan untuk mengetahui potensi penyakit yang diderita skrining kesehatan dapat dilakukan melalui aplikasi mobile jkn website bpjs kesehatan https webskrining bpjs kesehatan go idskriningindex html atau dapat langsung mendatangi fasilitas kesehatan tingkat pertama yang terdaftar peserta jkn pesan bupati amirudin dalam tayangan video rabu januari baca juga kampanye tatap muka di salodik ini harapan masyarakat ke rhs caleg pdip banggaiselanjutnya orang nomor satu di kabupaten banggai itu mengajak kepada semua masyarakat untuk mendownload dan registrasi aplikasi mobile jkn baca juga pelantikan ptps bawaslu banggai tingkatkan pengawasan pemilumenurutnya dengan mendownload aplikasi mobile jkn ini tak lain untuk memudahkan proses pelayanan administrasi kepesertaan jaminan kesehatan nasional tanpa harus datang ke kantor bpjs kesehatan baca juga baru pdip bawaslu banggai minta parpol segera laporkan data saksi pemilu ayo segera download aplikasi mobile jkn dan segera lakukan skrining riwayat kesehatan untuk masyarakat kabupaten banggai yang lebih sehat tandasnya\"\n        ],\n        \"semantic_type\": \"\",\n        \"description\": \"\"\n      }\n    }\n  ]\n}"
            }
          },
          "metadata": {},
          "execution_count": 41
        }
      ]
    },
    {
      "cell_type": "markdown",
      "metadata": {
        "id": "csdn5fHWjv2W"
      },
      "source": [
        "## Stemming"
      ]
    },
    {
      "cell_type": "code",
      "source": [
        "from Sastrawi.Stemmer.StemmerFactory import StemmerFactory\n",
        "stem_factory = StemmerFactory()\n",
        "stemmer = stem_factory.create_stemmer()"
      ],
      "metadata": {
        "id": "SWezdKP7CWwi"
      },
      "execution_count": 42,
      "outputs": []
    },
    {
      "cell_type": "code",
      "execution_count": null,
      "metadata": {
        "id": "xFrbJG4hj6Ug"
      },
      "outputs": [],
      "source": [
        "#factory = StemmerFactory()\n",
        "#stemmer = factory.create_stemmer()"
      ]
    },
    {
      "cell_type": "code",
      "execution_count": 43,
      "metadata": {
        "id": "K6yEDY8TkBDG"
      },
      "outputs": [],
      "source": [
        "def stem(text):\n",
        "  return stemmer.stem(text)"
      ]
    },
    {
      "cell_type": "code",
      "execution_count": 44,
      "metadata": {
        "colab": {
          "base_uri": "https://localhost:8080/"
        },
        "id": "6dY5qzIEkGZ5",
        "outputId": "9df7939a-5293-4009-9e0e-a9da2c73f026"
      },
      "outputs": [
        {
          "output_type": "stream",
          "name": "stderr",
          "text": [
            "<ipython-input-44-27d9ad4a5fe7>:1: SettingWithCopyWarning: \n",
            "A value is trying to be set on a copy of a slice from a DataFrame.\n",
            "Try using .loc[row_indexer,col_indexer] = value instead\n",
            "\n",
            "See the caveats in the documentation: https://pandas.pydata.org/pandas-docs/stable/user_guide/indexing.html#returning-a-view-versus-a-copy\n",
            "  df['stemmed'] = df['clean_double_ws'].apply(stem)\n"
          ]
        },
        {
          "output_type": "execute_result",
          "data": {
            "text/plain": [
              "0      kabar luwuk suasana pasar murah subsidi di kab...\n",
              "1      kabar luwuk film horor piara mayat kreativitas...\n",
              "2      kabar luwuk festival malabot tumbe kembali mer...\n",
              "3      kerja cepat dan terkoordinir dalam terbit sttp...\n",
              "4      kabar luwuk bawaslu banggaiperkuat koordinasi ...\n",
              "                             ...                        \n",
              "995    terasbanggai com bawaslu bangga akan tingkat a...\n",
              "996    bangga raya bupati bangga ir h amirudin mm aif...\n",
              "997    terasbanggai com telah sempat tunda masa uji c...\n",
              "998    bangga januari tempat di ruang sidang pada har...\n",
              "999    bangga raya bawaslu kabupaten bangga gelar sos...\n",
              "Name: stemmed, Length: 975, dtype: object"
            ]
          },
          "metadata": {},
          "execution_count": 44
        }
      ],
      "source": [
        "df['stemmed'] = df['clean_double_ws'].apply(stem)\n",
        "df['stemmed']"
      ]
    },
    {
      "cell_type": "code",
      "source": [
        "df.head()"
      ],
      "metadata": {
        "colab": {
          "base_uri": "https://localhost:8080/",
          "height": 345
        },
        "id": "8ZrWk5PI6PPH",
        "outputId": "423b24b0-cd3d-4c4d-c00b-20d39014e1b8"
      },
      "execution_count": 45,
      "outputs": [
        {
          "output_type": "execute_result",
          "data": {
            "text/plain": [
              "    target                                              title  \\\n",
              "0  banggai  Mobil Sim Keliling Polres Banggai Meriahkan Pa...   \n",
              "1  banggai  Film Horor “Piara Mayat”,  Kreativitas Anak Mu...   \n",
              "2  banggai  Festival Malabot Tumbe 2023 Kembali Meriahkan ...   \n",
              "3  banggai  Rakor Kampanye Damai Pemilu 2024, Polres Bangg...   \n",
              "4  banggai  Bawaslu Banggai Perkuat Koordinasi dengan Panw...   \n",
              "\n",
              "                                                text  \\\n",
              "0  KABAR LUWUK –  Suasana Pasar Murah bersubsidi ...   \n",
              "1  KABAR LUWUK  –  Film Horor“Piara Mayat”,Kreati...   \n",
              "2  KABAR LUWUK  –Festival Malabot Tumbe 2023Kemba...   \n",
              "3  “Kerja Cepat dan Terkoordinir dalam Penerbitan...   \n",
              "4  KABAR LUWUK  –Bawaslu BanggaiPerkuat Koordinas...   \n",
              "\n",
              "                                                 lwr  \\\n",
              "0  kabar luwuk –  suasana pasar murah bersubsidi ...   \n",
              "1  kabar luwuk  –  film horor“piara mayat”,kreati...   \n",
              "2  kabar luwuk  –festival malabot tumbe 2023kemba...   \n",
              "3  “kerja cepat dan terkoordinir dalam penerbitan...   \n",
              "4  kabar luwuk  –bawaslu banggaiperkuat koordinas...   \n",
              "\n",
              "                                        clean_number  \\\n",
              "0  kabar luwuk –  suasana pasar murah bersubsidi ...   \n",
              "1  kabar luwuk  –  film horor“piara mayat”,kreati...   \n",
              "2  kabar luwuk  –festival malabot tumbe kembali m...   \n",
              "3  “kerja cepat dan terkoordinir dalam penerbitan...   \n",
              "4  kabar luwuk  –bawaslu banggaiperkuat koordinas...   \n",
              "\n",
              "                                         clean_punct  \\\n",
              "0  kabar luwuk    suasana pasar murah bersubsidi ...   \n",
              "1  kabar luwuk     film horor piara mayat kreativ...   \n",
              "2  kabar luwuk   festival malabot tumbe kembali m...   \n",
              "3   kerja cepat dan terkoordinir dalam penerbitan...   \n",
              "4  kabar luwuk   bawaslu banggaiperkuat koordinas...   \n",
              "\n",
              "                                     clean_double_ws  \\\n",
              "0  kabar luwuk suasana pasar murah bersubsidi di ...   \n",
              "1  kabar luwuk film horor piara mayat kreativitas...   \n",
              "2  kabar luwuk festival malabot tumbe kembali mer...   \n",
              "3  kerja cepat dan terkoordinir dalam penerbitan ...   \n",
              "4  kabar luwuk bawaslu banggaiperkuat koordinasi ...   \n",
              "\n",
              "                                             stemmed  \n",
              "0  kabar luwuk suasana pasar murah subsidi di kab...  \n",
              "1  kabar luwuk film horor piara mayat kreativitas...  \n",
              "2  kabar luwuk festival malabot tumbe kembali mer...  \n",
              "3  kerja cepat dan terkoordinir dalam terbit sttp...  \n",
              "4  kabar luwuk bawaslu banggaiperkuat koordinasi ...  "
            ],
            "text/html": [
              "\n",
              "  <div id=\"df-aee4bb45-93fe-47a7-b685-2e3d4dfcb437\" class=\"colab-df-container\">\n",
              "    <div>\n",
              "<style scoped>\n",
              "    .dataframe tbody tr th:only-of-type {\n",
              "        vertical-align: middle;\n",
              "    }\n",
              "\n",
              "    .dataframe tbody tr th {\n",
              "        vertical-align: top;\n",
              "    }\n",
              "\n",
              "    .dataframe thead th {\n",
              "        text-align: right;\n",
              "    }\n",
              "</style>\n",
              "<table border=\"1\" class=\"dataframe\">\n",
              "  <thead>\n",
              "    <tr style=\"text-align: right;\">\n",
              "      <th></th>\n",
              "      <th>target</th>\n",
              "      <th>title</th>\n",
              "      <th>text</th>\n",
              "      <th>lwr</th>\n",
              "      <th>clean_number</th>\n",
              "      <th>clean_punct</th>\n",
              "      <th>clean_double_ws</th>\n",
              "      <th>stemmed</th>\n",
              "    </tr>\n",
              "  </thead>\n",
              "  <tbody>\n",
              "    <tr>\n",
              "      <th>0</th>\n",
              "      <td>banggai</td>\n",
              "      <td>Mobil Sim Keliling Polres Banggai Meriahkan Pa...</td>\n",
              "      <td>KABAR LUWUK –  Suasana Pasar Murah bersubsidi ...</td>\n",
              "      <td>kabar luwuk –  suasana pasar murah bersubsidi ...</td>\n",
              "      <td>kabar luwuk –  suasana pasar murah bersubsidi ...</td>\n",
              "      <td>kabar luwuk    suasana pasar murah bersubsidi ...</td>\n",
              "      <td>kabar luwuk suasana pasar murah bersubsidi di ...</td>\n",
              "      <td>kabar luwuk suasana pasar murah subsidi di kab...</td>\n",
              "    </tr>\n",
              "    <tr>\n",
              "      <th>1</th>\n",
              "      <td>banggai</td>\n",
              "      <td>Film Horor “Piara Mayat”,  Kreativitas Anak Mu...</td>\n",
              "      <td>KABAR LUWUK  –  Film Horor“Piara Mayat”,Kreati...</td>\n",
              "      <td>kabar luwuk  –  film horor“piara mayat”,kreati...</td>\n",
              "      <td>kabar luwuk  –  film horor“piara mayat”,kreati...</td>\n",
              "      <td>kabar luwuk     film horor piara mayat kreativ...</td>\n",
              "      <td>kabar luwuk film horor piara mayat kreativitas...</td>\n",
              "      <td>kabar luwuk film horor piara mayat kreativitas...</td>\n",
              "    </tr>\n",
              "    <tr>\n",
              "      <th>2</th>\n",
              "      <td>banggai</td>\n",
              "      <td>Festival Malabot Tumbe 2023 Kembali Meriahkan ...</td>\n",
              "      <td>KABAR LUWUK  –Festival Malabot Tumbe 2023Kemba...</td>\n",
              "      <td>kabar luwuk  –festival malabot tumbe 2023kemba...</td>\n",
              "      <td>kabar luwuk  –festival malabot tumbe kembali m...</td>\n",
              "      <td>kabar luwuk   festival malabot tumbe kembali m...</td>\n",
              "      <td>kabar luwuk festival malabot tumbe kembali mer...</td>\n",
              "      <td>kabar luwuk festival malabot tumbe kembali mer...</td>\n",
              "    </tr>\n",
              "    <tr>\n",
              "      <th>3</th>\n",
              "      <td>banggai</td>\n",
              "      <td>Rakor Kampanye Damai Pemilu 2024, Polres Bangg...</td>\n",
              "      <td>“Kerja Cepat dan Terkoordinir dalam Penerbitan...</td>\n",
              "      <td>“kerja cepat dan terkoordinir dalam penerbitan...</td>\n",
              "      <td>“kerja cepat dan terkoordinir dalam penerbitan...</td>\n",
              "      <td>kerja cepat dan terkoordinir dalam penerbitan...</td>\n",
              "      <td>kerja cepat dan terkoordinir dalam penerbitan ...</td>\n",
              "      <td>kerja cepat dan terkoordinir dalam terbit sttp...</td>\n",
              "    </tr>\n",
              "    <tr>\n",
              "      <th>4</th>\n",
              "      <td>banggai</td>\n",
              "      <td>Bawaslu Banggai Perkuat Koordinasi dengan Panw...</td>\n",
              "      <td>KABAR LUWUK  –Bawaslu BanggaiPerkuat Koordinas...</td>\n",
              "      <td>kabar luwuk  –bawaslu banggaiperkuat koordinas...</td>\n",
              "      <td>kabar luwuk  –bawaslu banggaiperkuat koordinas...</td>\n",
              "      <td>kabar luwuk   bawaslu banggaiperkuat koordinas...</td>\n",
              "      <td>kabar luwuk bawaslu banggaiperkuat koordinasi ...</td>\n",
              "      <td>kabar luwuk bawaslu banggaiperkuat koordinasi ...</td>\n",
              "    </tr>\n",
              "  </tbody>\n",
              "</table>\n",
              "</div>\n",
              "    <div class=\"colab-df-buttons\">\n",
              "\n",
              "  <div class=\"colab-df-container\">\n",
              "    <button class=\"colab-df-convert\" onclick=\"convertToInteractive('df-aee4bb45-93fe-47a7-b685-2e3d4dfcb437')\"\n",
              "            title=\"Convert this dataframe to an interactive table.\"\n",
              "            style=\"display:none;\">\n",
              "\n",
              "  <svg xmlns=\"http://www.w3.org/2000/svg\" height=\"24px\" viewBox=\"0 -960 960 960\">\n",
              "    <path d=\"M120-120v-720h720v720H120Zm60-500h600v-160H180v160Zm220 220h160v-160H400v160Zm0 220h160v-160H400v160ZM180-400h160v-160H180v160Zm440 0h160v-160H620v160ZM180-180h160v-160H180v160Zm440 0h160v-160H620v160Z\"/>\n",
              "  </svg>\n",
              "    </button>\n",
              "\n",
              "  <style>\n",
              "    .colab-df-container {\n",
              "      display:flex;\n",
              "      gap: 12px;\n",
              "    }\n",
              "\n",
              "    .colab-df-convert {\n",
              "      background-color: #E8F0FE;\n",
              "      border: none;\n",
              "      border-radius: 50%;\n",
              "      cursor: pointer;\n",
              "      display: none;\n",
              "      fill: #1967D2;\n",
              "      height: 32px;\n",
              "      padding: 0 0 0 0;\n",
              "      width: 32px;\n",
              "    }\n",
              "\n",
              "    .colab-df-convert:hover {\n",
              "      background-color: #E2EBFA;\n",
              "      box-shadow: 0px 1px 2px rgba(60, 64, 67, 0.3), 0px 1px 3px 1px rgba(60, 64, 67, 0.15);\n",
              "      fill: #174EA6;\n",
              "    }\n",
              "\n",
              "    .colab-df-buttons div {\n",
              "      margin-bottom: 4px;\n",
              "    }\n",
              "\n",
              "    [theme=dark] .colab-df-convert {\n",
              "      background-color: #3B4455;\n",
              "      fill: #D2E3FC;\n",
              "    }\n",
              "\n",
              "    [theme=dark] .colab-df-convert:hover {\n",
              "      background-color: #434B5C;\n",
              "      box-shadow: 0px 1px 3px 1px rgba(0, 0, 0, 0.15);\n",
              "      filter: drop-shadow(0px 1px 2px rgba(0, 0, 0, 0.3));\n",
              "      fill: #FFFFFF;\n",
              "    }\n",
              "  </style>\n",
              "\n",
              "    <script>\n",
              "      const buttonEl =\n",
              "        document.querySelector('#df-aee4bb45-93fe-47a7-b685-2e3d4dfcb437 button.colab-df-convert');\n",
              "      buttonEl.style.display =\n",
              "        google.colab.kernel.accessAllowed ? 'block' : 'none';\n",
              "\n",
              "      async function convertToInteractive(key) {\n",
              "        const element = document.querySelector('#df-aee4bb45-93fe-47a7-b685-2e3d4dfcb437');\n",
              "        const dataTable =\n",
              "          await google.colab.kernel.invokeFunction('convertToInteractive',\n",
              "                                                    [key], {});\n",
              "        if (!dataTable) return;\n",
              "\n",
              "        const docLinkHtml = 'Like what you see? Visit the ' +\n",
              "          '<a target=\"_blank\" href=https://colab.research.google.com/notebooks/data_table.ipynb>data table notebook</a>'\n",
              "          + ' to learn more about interactive tables.';\n",
              "        element.innerHTML = '';\n",
              "        dataTable['output_type'] = 'display_data';\n",
              "        await google.colab.output.renderOutput(dataTable, element);\n",
              "        const docLink = document.createElement('div');\n",
              "        docLink.innerHTML = docLinkHtml;\n",
              "        element.appendChild(docLink);\n",
              "      }\n",
              "    </script>\n",
              "  </div>\n",
              "\n",
              "\n",
              "<div id=\"df-d5610084-bd9e-4d55-8e9d-c27a2ca19286\">\n",
              "  <button class=\"colab-df-quickchart\" onclick=\"quickchart('df-d5610084-bd9e-4d55-8e9d-c27a2ca19286')\"\n",
              "            title=\"Suggest charts\"\n",
              "            style=\"display:none;\">\n",
              "\n",
              "<svg xmlns=\"http://www.w3.org/2000/svg\" height=\"24px\"viewBox=\"0 0 24 24\"\n",
              "     width=\"24px\">\n",
              "    <g>\n",
              "        <path d=\"M19 3H5c-1.1 0-2 .9-2 2v14c0 1.1.9 2 2 2h14c1.1 0 2-.9 2-2V5c0-1.1-.9-2-2-2zM9 17H7v-7h2v7zm4 0h-2V7h2v10zm4 0h-2v-4h2v4z\"/>\n",
              "    </g>\n",
              "</svg>\n",
              "  </button>\n",
              "\n",
              "<style>\n",
              "  .colab-df-quickchart {\n",
              "      --bg-color: #E8F0FE;\n",
              "      --fill-color: #1967D2;\n",
              "      --hover-bg-color: #E2EBFA;\n",
              "      --hover-fill-color: #174EA6;\n",
              "      --disabled-fill-color: #AAA;\n",
              "      --disabled-bg-color: #DDD;\n",
              "  }\n",
              "\n",
              "  [theme=dark] .colab-df-quickchart {\n",
              "      --bg-color: #3B4455;\n",
              "      --fill-color: #D2E3FC;\n",
              "      --hover-bg-color: #434B5C;\n",
              "      --hover-fill-color: #FFFFFF;\n",
              "      --disabled-bg-color: #3B4455;\n",
              "      --disabled-fill-color: #666;\n",
              "  }\n",
              "\n",
              "  .colab-df-quickchart {\n",
              "    background-color: var(--bg-color);\n",
              "    border: none;\n",
              "    border-radius: 50%;\n",
              "    cursor: pointer;\n",
              "    display: none;\n",
              "    fill: var(--fill-color);\n",
              "    height: 32px;\n",
              "    padding: 0;\n",
              "    width: 32px;\n",
              "  }\n",
              "\n",
              "  .colab-df-quickchart:hover {\n",
              "    background-color: var(--hover-bg-color);\n",
              "    box-shadow: 0 1px 2px rgba(60, 64, 67, 0.3), 0 1px 3px 1px rgba(60, 64, 67, 0.15);\n",
              "    fill: var(--button-hover-fill-color);\n",
              "  }\n",
              "\n",
              "  .colab-df-quickchart-complete:disabled,\n",
              "  .colab-df-quickchart-complete:disabled:hover {\n",
              "    background-color: var(--disabled-bg-color);\n",
              "    fill: var(--disabled-fill-color);\n",
              "    box-shadow: none;\n",
              "  }\n",
              "\n",
              "  .colab-df-spinner {\n",
              "    border: 2px solid var(--fill-color);\n",
              "    border-color: transparent;\n",
              "    border-bottom-color: var(--fill-color);\n",
              "    animation:\n",
              "      spin 1s steps(1) infinite;\n",
              "  }\n",
              "\n",
              "  @keyframes spin {\n",
              "    0% {\n",
              "      border-color: transparent;\n",
              "      border-bottom-color: var(--fill-color);\n",
              "      border-left-color: var(--fill-color);\n",
              "    }\n",
              "    20% {\n",
              "      border-color: transparent;\n",
              "      border-left-color: var(--fill-color);\n",
              "      border-top-color: var(--fill-color);\n",
              "    }\n",
              "    30% {\n",
              "      border-color: transparent;\n",
              "      border-left-color: var(--fill-color);\n",
              "      border-top-color: var(--fill-color);\n",
              "      border-right-color: var(--fill-color);\n",
              "    }\n",
              "    40% {\n",
              "      border-color: transparent;\n",
              "      border-right-color: var(--fill-color);\n",
              "      border-top-color: var(--fill-color);\n",
              "    }\n",
              "    60% {\n",
              "      border-color: transparent;\n",
              "      border-right-color: var(--fill-color);\n",
              "    }\n",
              "    80% {\n",
              "      border-color: transparent;\n",
              "      border-right-color: var(--fill-color);\n",
              "      border-bottom-color: var(--fill-color);\n",
              "    }\n",
              "    90% {\n",
              "      border-color: transparent;\n",
              "      border-bottom-color: var(--fill-color);\n",
              "    }\n",
              "  }\n",
              "</style>\n",
              "\n",
              "  <script>\n",
              "    async function quickchart(key) {\n",
              "      const quickchartButtonEl =\n",
              "        document.querySelector('#' + key + ' button');\n",
              "      quickchartButtonEl.disabled = true;  // To prevent multiple clicks.\n",
              "      quickchartButtonEl.classList.add('colab-df-spinner');\n",
              "      try {\n",
              "        const charts = await google.colab.kernel.invokeFunction(\n",
              "            'suggestCharts', [key], {});\n",
              "      } catch (error) {\n",
              "        console.error('Error during call to suggestCharts:', error);\n",
              "      }\n",
              "      quickchartButtonEl.classList.remove('colab-df-spinner');\n",
              "      quickchartButtonEl.classList.add('colab-df-quickchart-complete');\n",
              "    }\n",
              "    (() => {\n",
              "      let quickchartButtonEl =\n",
              "        document.querySelector('#df-d5610084-bd9e-4d55-8e9d-c27a2ca19286 button');\n",
              "      quickchartButtonEl.style.display =\n",
              "        google.colab.kernel.accessAllowed ? 'block' : 'none';\n",
              "    })();\n",
              "  </script>\n",
              "</div>\n",
              "    </div>\n",
              "  </div>\n"
            ],
            "application/vnd.google.colaboratory.intrinsic+json": {
              "type": "dataframe",
              "variable_name": "df",
              "summary": "{\n  \"name\": \"df\",\n  \"rows\": 975,\n  \"fields\": [\n    {\n      \"column\": \"target\",\n      \"properties\": {\n        \"dtype\": \"category\",\n        \"num_unique_values\": 1,\n        \"samples\": [\n          \"banggai\"\n        ],\n        \"semantic_type\": \"\",\n        \"description\": \"\"\n      }\n    },\n    {\n      \"column\": \"title\",\n      \"properties\": {\n        \"dtype\": \"string\",\n        \"num_unique_values\": 975,\n        \"samples\": [\n          \"Polres Banggai Perluas Layanan SKCK Hingga Larut Malam, Masyarakat Dapat Manfaatkan Kemudahan Pengurusan bagi Para Lulus PPPK\"\n        ],\n        \"semantic_type\": \"\",\n        \"description\": \"\"\n      }\n    },\n    {\n      \"column\": \"text\",\n      \"properties\": {\n        \"dtype\": \"string\",\n        \"num_unique_values\": 958,\n        \"samples\": [\n          \"BANGGAI RAYA- Bupati Banggai Amirudin mengikuti kegiatan wawancara Paritrana Award Tingkat Provinsi Sulawesi Tengah dengan nominasi penghargaan Jaminan Sosial Ketenagakerjaan kategori nominasi pemerintah kabupaten/kota, pada Selasa (27/2/2024), bertempat di Hotel Aston, Palu.Paritrana Award merupakan penghargaan yang diberikan pemerintah pusat kepada pemerintah daerah, dan perusahaan badan usaha yang memiliki kepedulian (awareness) tinggi, dan citra positif terhadap program jaminan sosial ketenagakerjaan.Pada kesempatan tersebut, Bupati Amirudin memaparkan kebijakan pemerintah daerah terkait implementasi Program Jaminan Sosial Ketenagakerjaan, yang merupakan bagian dari upaya menindaklanjuti Instruksi Presiden (INPRES) Nomor 2 Tahun 2021 tentang optimalisasi pelaksanaan program jaminan sosial ketenagakerjaan.BACA JUGA:Pemilu 2024, Bali Mang Melangkah ke DPRD SultengSebagai bentuk keseriusan, lanjut Bupati Amirudin, Pemkab Banggai menindaklanjuti Inpres Nomor 2 Tahun 2021 tersebut dengan mengeluarkan Peraturan Bupati (Perbup) Nomor 32 Tahun 2021 tentang pelaksanaan program Jaminan Sosial Ketenagakerjaan di daerah dan Keputusan Bupati Banggai Nomor 560/935/NAKERTRANS tentang tim koordinasi pembinaan dan pemantauan terhadap pelaksanaan program BPJS Ketenagakerjaan di Kabupaten Banggai.Tidak hanya sampai di situ, upaya penguatan regulasi daerah dan perlindungan pekerja tersebut, maka ditingkatkan status regulasi dari Peraturan Bupati (Perbup) menjadi Peraturan Daerah (Perda) dengan ditetapkannya Perda Nomor 9 Tahun 2023 tentang Optimalisasi Penyelenggaraan Program Jaminan Sosial Ketenagakerjaan.BACA JUGA:Tak Terima Diberhentikan, Sekdes Segel Kantor Desa Solan BaruUntuk tahun 2023 melalui APBD telah dianggarkan iuran kepesertaan BPJS Ketenagakerjaan untuk program Jaminan Kecelakaan Kerja (JKK) dan Jaminan Kematian (JKM) bagi 13.765 orang tenaga kerja.Keterlibatan Bupati Banggai dalam wawancara ini menegaskan komitmen Pemerintah Kabupaten Banggai dalam memberikan perlindungan sosial yang memadai bagi para tenaga kerja di wilayah tersebut.Presentasi yang disampaikan oleh Bupati Amirudin memberikan gambaran yang jelas mengenai upaya konkret yang telah dilakukan untuk meningkatkan kesejahteraan dan keamanan sosial bagi masyarakat Banggai.Adapun yang menjadi tim penilai kegiatan ini terdiri dari Setda Provinsi, Dra. Novalina, MM., Kepala BPJS Ketenagakerjaan Provinsi Sulawesi Tengah, A. Syamsul Rijal, Kadis Nakertrans Provinsi, Drs. Arnould Firdaus, MT, Ahli ekonomi, Mohammad Ahlis Djirimu, SE, DEA.Phd, Ahli Kebijakan Publik : Dr.Drs Muzakir Tawil. M.Si, Ahli Hukum, Dr. H. Abdur Rasyid thalib S.H, Ahli Jaminan Sosial, Drs.H.Arifuddin Bidin, Ketua DPD APINDO, H. Achrul Udaya, dan Serikat Buruh, Karlan ladandu.BACA JUGA:Asia Muslim Charity Foundation Luncurkan Kapal Kemanusiaan untuk Perairan SultengKehadiran Bupati Banggai dalam acara ini menandai langkah nyata dalam membangun sistem jaminan sosial yang inklusif dan berkeadilan bagi seluruh masyarakat Kabupaten Banggai.**\"\n        ],\n        \"semantic_type\": \"\",\n        \"description\": \"\"\n      }\n    },\n    {\n      \"column\": \"lwr\",\n      \"properties\": {\n        \"dtype\": \"string\",\n        \"num_unique_values\": 958,\n        \"samples\": [\n          \"banggai raya- bupati banggai amirudin mengikuti kegiatan wawancara paritrana award tingkat provinsi sulawesi tengah dengan nominasi penghargaan jaminan sosial ketenagakerjaan kategori nominasi pemerintah kabupaten/kota, pada selasa (27/2/2024), bertempat di hotel aston, palu.paritrana award merupakan penghargaan yang diberikan pemerintah pusat kepada pemerintah daerah, dan perusahaan badan usaha yang memiliki kepedulian (awareness) tinggi, dan citra positif terhadap program jaminan sosial ketenagakerjaan.pada kesempatan tersebut, bupati amirudin memaparkan kebijakan pemerintah daerah terkait implementasi program jaminan sosial ketenagakerjaan, yang merupakan bagian dari upaya menindaklanjuti instruksi presiden (inpres) nomor 2 tahun 2021 tentang optimalisasi pelaksanaan program jaminan sosial ketenagakerjaan.baca juga:pemilu 2024, bali mang melangkah ke dprd sultengsebagai bentuk keseriusan, lanjut bupati amirudin, pemkab banggai menindaklanjuti inpres nomor 2 tahun 2021 tersebut dengan mengeluarkan peraturan bupati (perbup) nomor 32 tahun 2021 tentang pelaksanaan program jaminan sosial ketenagakerjaan di daerah dan keputusan bupati banggai nomor 560/935/nakertrans tentang tim koordinasi pembinaan dan pemantauan terhadap pelaksanaan program bpjs ketenagakerjaan di kabupaten banggai.tidak hanya sampai di situ, upaya penguatan regulasi daerah dan perlindungan pekerja tersebut, maka ditingkatkan status regulasi dari peraturan bupati (perbup) menjadi peraturan daerah (perda) dengan ditetapkannya perda nomor 9 tahun 2023 tentang optimalisasi penyelenggaraan program jaminan sosial ketenagakerjaan.baca juga:tak terima diberhentikan, sekdes segel kantor desa solan baruuntuk tahun 2023 melalui apbd telah dianggarkan iuran kepesertaan bpjs ketenagakerjaan untuk program jaminan kecelakaan kerja (jkk) dan jaminan kematian (jkm) bagi 13.765 orang tenaga kerja.keterlibatan bupati banggai dalam wawancara ini menegaskan komitmen pemerintah kabupaten banggai dalam memberikan perlindungan sosial yang memadai bagi para tenaga kerja di wilayah tersebut.presentasi yang disampaikan oleh bupati amirudin memberikan gambaran yang jelas mengenai upaya konkret yang telah dilakukan untuk meningkatkan kesejahteraan dan keamanan sosial bagi masyarakat banggai.adapun yang menjadi tim penilai kegiatan ini terdiri dari setda provinsi, dra. novalina, mm., kepala bpjs ketenagakerjaan provinsi sulawesi tengah, a. syamsul rijal, kadis nakertrans provinsi, drs. arnould firdaus, mt, ahli ekonomi, mohammad ahlis djirimu, se, dea.phd, ahli kebijakan publik : dr.drs muzakir tawil. m.si, ahli hukum, dr. h. abdur rasyid thalib s.h, ahli jaminan sosial, drs.h.arifuddin bidin, ketua dpd apindo, h. achrul udaya, dan serikat buruh, karlan ladandu.baca juga:asia muslim charity foundation luncurkan kapal kemanusiaan untuk perairan sultengkehadiran bupati banggai dalam acara ini menandai langkah nyata dalam membangun sistem jaminan sosial yang inklusif dan berkeadilan bagi seluruh masyarakat kabupaten banggai.**\"\n        ],\n        \"semantic_type\": \"\",\n        \"description\": \"\"\n      }\n    },\n    {\n      \"column\": \"clean_number\",\n      \"properties\": {\n        \"dtype\": \"string\",\n        \"num_unique_values\": 958,\n        \"samples\": [\n          \"banggai raya- bupati banggai amirudin mengikuti kegiatan wawancara paritrana award tingkat provinsi sulawesi tengah dengan nominasi penghargaan jaminan sosial ketenagakerjaan kategori nominasi pemerintah kabupaten/kota, pada selasa (//), bertempat di hotel aston, palu.paritrana award merupakan penghargaan yang diberikan pemerintah pusat kepada pemerintah daerah, dan perusahaan badan usaha yang memiliki kepedulian (awareness) tinggi, dan citra positif terhadap program jaminan sosial ketenagakerjaan.pada kesempatan tersebut, bupati amirudin memaparkan kebijakan pemerintah daerah terkait implementasi program jaminan sosial ketenagakerjaan, yang merupakan bagian dari upaya menindaklanjuti instruksi presiden (inpres) nomor  tahun  tentang optimalisasi pelaksanaan program jaminan sosial ketenagakerjaan.baca juga:pemilu , bali mang melangkah ke dprd sultengsebagai bentuk keseriusan, lanjut bupati amirudin, pemkab banggai menindaklanjuti inpres nomor  tahun  tersebut dengan mengeluarkan peraturan bupati (perbup) nomor  tahun  tentang pelaksanaan program jaminan sosial ketenagakerjaan di daerah dan keputusan bupati banggai nomor //nakertrans tentang tim koordinasi pembinaan dan pemantauan terhadap pelaksanaan program bpjs ketenagakerjaan di kabupaten banggai.tidak hanya sampai di situ, upaya penguatan regulasi daerah dan perlindungan pekerja tersebut, maka ditingkatkan status regulasi dari peraturan bupati (perbup) menjadi peraturan daerah (perda) dengan ditetapkannya perda nomor  tahun  tentang optimalisasi penyelenggaraan program jaminan sosial ketenagakerjaan.baca juga:tak terima diberhentikan, sekdes segel kantor desa solan baruuntuk tahun  melalui apbd telah dianggarkan iuran kepesertaan bpjs ketenagakerjaan untuk program jaminan kecelakaan kerja (jkk) dan jaminan kematian (jkm) bagi . orang tenaga kerja.keterlibatan bupati banggai dalam wawancara ini menegaskan komitmen pemerintah kabupaten banggai dalam memberikan perlindungan sosial yang memadai bagi para tenaga kerja di wilayah tersebut.presentasi yang disampaikan oleh bupati amirudin memberikan gambaran yang jelas mengenai upaya konkret yang telah dilakukan untuk meningkatkan kesejahteraan dan keamanan sosial bagi masyarakat banggai.adapun yang menjadi tim penilai kegiatan ini terdiri dari setda provinsi, dra. novalina, mm., kepala bpjs ketenagakerjaan provinsi sulawesi tengah, a. syamsul rijal, kadis nakertrans provinsi, drs. arnould firdaus, mt, ahli ekonomi, mohammad ahlis djirimu, se, dea.phd, ahli kebijakan publik : dr.drs muzakir tawil. m.si, ahli hukum, dr. h. abdur rasyid thalib s.h, ahli jaminan sosial, drs.h.arifuddin bidin, ketua dpd apindo, h. achrul udaya, dan serikat buruh, karlan ladandu.baca juga:asia muslim charity foundation luncurkan kapal kemanusiaan untuk perairan sultengkehadiran bupati banggai dalam acara ini menandai langkah nyata dalam membangun sistem jaminan sosial yang inklusif dan berkeadilan bagi seluruh masyarakat kabupaten banggai.**\"\n        ],\n        \"semantic_type\": \"\",\n        \"description\": \"\"\n      }\n    },\n    {\n      \"column\": \"clean_punct\",\n      \"properties\": {\n        \"dtype\": \"string\",\n        \"num_unique_values\": 958,\n        \"samples\": [\n          \"banggai raya  bupati banggai amirudin mengikuti kegiatan wawancara paritrana award tingkat provinsi sulawesi tengah dengan nominasi penghargaan jaminan sosial ketenagakerjaan kategori nominasi pemerintah kabupatenkota pada selasa  bertempat di hotel aston palu paritrana award merupakan penghargaan yang diberikan pemerintah pusat kepada pemerintah daerah dan perusahaan badan usaha yang memiliki kepedulian awareness tinggi dan citra positif terhadap program jaminan sosial ketenagakerjaan pada kesempatan tersebut bupati amirudin memaparkan kebijakan pemerintah daerah terkait implementasi program jaminan sosial ketenagakerjaan yang merupakan bagian dari upaya menindaklanjuti instruksi presiden inpres nomor  tahun  tentang optimalisasi pelaksanaan program jaminan sosial ketenagakerjaan baca juga pemilu  bali mang melangkah ke dprd sultengsebagai bentuk keseriusan lanjut bupati amirudin pemkab banggai menindaklanjuti inpres nomor  tahun  tersebut dengan mengeluarkan peraturan bupati perbup nomor  tahun  tentang pelaksanaan program jaminan sosial ketenagakerjaan di daerah dan keputusan bupati banggai nomor nakertrans tentang tim koordinasi pembinaan dan pemantauan terhadap pelaksanaan program bpjs ketenagakerjaan di kabupaten banggai tidak hanya sampai di situ upaya penguatan regulasi daerah dan perlindungan pekerja tersebut maka ditingkatkan status regulasi dari peraturan bupati perbup menjadi peraturan daerah perda dengan ditetapkannya perda nomor  tahun  tentang optimalisasi penyelenggaraan program jaminan sosial ketenagakerjaan baca juga tak terima diberhentikan sekdes segel kantor desa solan baruuntuk tahun  melalui apbd telah dianggarkan iuran kepesertaan bpjs ketenagakerjaan untuk program jaminan kecelakaan kerja jkk dan jaminan kematian jkm bagi   orang tenaga kerja keterlibatan bupati banggai dalam wawancara ini menegaskan komitmen pemerintah kabupaten banggai dalam memberikan perlindungan sosial yang memadai bagi para tenaga kerja di wilayah tersebut presentasi yang disampaikan oleh bupati amirudin memberikan gambaran yang jelas mengenai upaya konkret yang telah dilakukan untuk meningkatkan kesejahteraan dan keamanan sosial bagi masyarakat banggai adapun yang menjadi tim penilai kegiatan ini terdiri dari setda provinsi dra  novalina mm  kepala bpjs ketenagakerjaan provinsi sulawesi tengah a  syamsul rijal kadis nakertrans provinsi drs  arnould firdaus mt ahli ekonomi mohammad ahlis djirimu se dea phd ahli kebijakan publik   dr drs muzakir tawil  m si ahli hukum dr  h  abdur rasyid thalib s h ahli jaminan sosial drs h arifuddin bidin ketua dpd apindo h  achrul udaya dan serikat buruh karlan ladandu baca juga asia muslim charity foundation luncurkan kapal kemanusiaan untuk perairan sultengkehadiran bupati banggai dalam acara ini menandai langkah nyata dalam membangun sistem jaminan sosial yang inklusif dan berkeadilan bagi seluruh masyarakat kabupaten banggai   \"\n        ],\n        \"semantic_type\": \"\",\n        \"description\": \"\"\n      }\n    },\n    {\n      \"column\": \"clean_double_ws\",\n      \"properties\": {\n        \"dtype\": \"string\",\n        \"num_unique_values\": 957,\n        \"samples\": [\n          \"banggai raya bupati banggai amirudin mengikuti kegiatan wawancara paritrana award tingkat provinsi sulawesi tengah dengan nominasi penghargaan jaminan sosial ketenagakerjaan kategori nominasi pemerintah kabupatenkota pada selasa bertempat di hotel aston palu paritrana award merupakan penghargaan yang diberikan pemerintah pusat kepada pemerintah daerah dan perusahaan badan usaha yang memiliki kepedulian awareness tinggi dan citra positif terhadap program jaminan sosial ketenagakerjaan pada kesempatan tersebut bupati amirudin memaparkan kebijakan pemerintah daerah terkait implementasi program jaminan sosial ketenagakerjaan yang merupakan bagian dari upaya menindaklanjuti instruksi presiden inpres nomor tahun tentang optimalisasi pelaksanaan program jaminan sosial ketenagakerjaan baca juga pemilu bali mang melangkah ke dprd sultengsebagai bentuk keseriusan lanjut bupati amirudin pemkab banggai menindaklanjuti inpres nomor tahun tersebut dengan mengeluarkan peraturan bupati perbup nomor tahun tentang pelaksanaan program jaminan sosial ketenagakerjaan di daerah dan keputusan bupati banggai nomor nakertrans tentang tim koordinasi pembinaan dan pemantauan terhadap pelaksanaan program bpjs ketenagakerjaan di kabupaten banggai tidak hanya sampai di situ upaya penguatan regulasi daerah dan perlindungan pekerja tersebut maka ditingkatkan status regulasi dari peraturan bupati perbup menjadi peraturan daerah perda dengan ditetapkannya perda nomor tahun tentang optimalisasi penyelenggaraan program jaminan sosial ketenagakerjaan baca juga tak terima diberhentikan sekdes segel kantor desa solan baruuntuk tahun melalui apbd telah dianggarkan iuran kepesertaan bpjs ketenagakerjaan untuk program jaminan kecelakaan kerja jkk dan jaminan kematian jkm bagi orang tenaga kerja keterlibatan bupati banggai dalam wawancara ini menegaskan komitmen pemerintah kabupaten banggai dalam memberikan perlindungan sosial yang memadai bagi para tenaga kerja di wilayah tersebut presentasi yang disampaikan oleh bupati amirudin memberikan gambaran yang jelas mengenai upaya konkret yang telah dilakukan untuk meningkatkan kesejahteraan dan keamanan sosial bagi masyarakat banggai adapun yang menjadi tim penilai kegiatan ini terdiri dari setda provinsi dra novalina mm kepala bpjs ketenagakerjaan provinsi sulawesi tengah a syamsul rijal kadis nakertrans provinsi drs arnould firdaus mt ahli ekonomi mohammad ahlis djirimu se dea phd ahli kebijakan publik dr drs muzakir tawil m si ahli hukum dr h abdur rasyid thalib s h ahli jaminan sosial drs h arifuddin bidin ketua dpd apindo h achrul udaya dan serikat buruh karlan ladandu baca juga asia muslim charity foundation luncurkan kapal kemanusiaan untuk perairan sultengkehadiran bupati banggai dalam acara ini menandai langkah nyata dalam membangun sistem jaminan sosial yang inklusif dan berkeadilan bagi seluruh masyarakat kabupaten banggai\"\n        ],\n        \"semantic_type\": \"\",\n        \"description\": \"\"\n      }\n    },\n    {\n      \"column\": \"stemmed\",\n      \"properties\": {\n        \"dtype\": \"string\",\n        \"num_unique_values\": 957,\n        \"samples\": [\n          \"bangga raya bupati bangga amirudin ikut giat wawancara paritrana award tingkat provinsi sulawesi tengah dengan nominasi harga jamin sosial ketenagakerjaan kategori nominasi perintah kabupatenkota pada selasa tempat di hotel aston palu paritrana award rupa harga yang beri perintah pusat kepada perintah daerah dan usaha badan usaha yang milik peduli awareness tinggi dan citra positif hadap program jamin sosial ketenagakerjaan pada sempat sebut bupati amirudin papar bijak perintah daerah kait implementasi program jamin sosial ketenagakerjaan yang rupa bagi dari upaya menindaklanjuti instruksi presiden inpres nomor tahun tentang optimalisasi laksana program jamin sosial ketenagakerjaan baca juga milu bal mang lang ke dprd sultengsebagai bentuk serius lanjut bupati amirudin pemkab bangga menindaklanjuti inpres nomor tahun sebut dengan keluar atur bupati perbup nomor tahun tentang laksana program jamin sosial ketenagakerjaan di daerah dan putus bupati bangga nomor nakertrans tentang tim koordinasi bina dan pantau hadap laksana program bpjs ketenagakerjaan di kabupaten bangga tidak hanya sampai di situ upaya kuat regulasi daerah dan lindung kerja sebut maka tingkat status regulasi dari atur bupati perbup jadi atur daerah perda dengan tetap perda nomor tahun tentang optimalisasi selenggara program jamin sosial ketenagakerjaan baca juga tak terima henti sekdes segel kantor desa sol baruuntuk tahun lalu apbd telah anggar iur serta bpjs ketenagakerjaan untuk program jamin celaka kerja jkk dan jamin mati jkm bagi orang tenaga kerja libat bupati bangga dalam wawancara ini tegas komitmen perintah kabupaten bangga dalam beri lindung sosial yang pada bagi para tenaga kerja di wilayah sebut presentasi yang sampai oleh bupati amirudin beri gambar yang jelas kena upaya konkret yang telah laku untuk tingkat sejahtera dan aman sosial bagi masyarakat bangga adapun yang jadi tim nilai giat ini diri dari setda provinsi dra novalina mm kepala bpjs ketenagakerjaan provinsi sulawesi tengah a syamsul rijal kad nakertrans provinsi drs arnould firdaus mt ahli ekonomi mohammad ahlis djirimu se dea phd ahli bijak publik dr drs muzakir tawil m si ahli hukum dr h abdur rasyid thalib s h ahli jamin sosial drs h arifuddin bidin ketua dpd apindo h achrul udaya dan serikat buruh karlan ladandu baca juga asia muslim charity foundation luncur kapal manusia untuk air sultengkehadiran bupati bangga dalam acara ini tanda langkah nyata dalam bangun sistem jamin sosial yang inklusif dan adil bagi seluruh masyarakat kabupaten bangga\"\n        ],\n        \"semantic_type\": \"\",\n        \"description\": \"\"\n      }\n    }\n  ]\n}"
            }
          },
          "metadata": {},
          "execution_count": 45
        }
      ]
    },
    {
      "cell_type": "code",
      "execution_count": 46,
      "metadata": {
        "id": "pk7M4kT2B-tx"
      },
      "outputs": [],
      "source": [
        "df['stemmed'].to_csv(\"stemmed_words_tanpa_token_stopwordk.csv\", index=False)"
      ]
    },
    {
      "cell_type": "code",
      "execution_count": null,
      "metadata": {
        "colab": {
          "base_uri": "https://localhost:8080/"
        },
        "id": "EqJ4dCX42R0u",
        "outputId": "9895e9d0-75a4-457f-effb-d3500565e05b"
      },
      "outputs": [
        {
          "output_type": "stream",
          "name": "stdout",
          "text": [
            "kabar suasana pasar murah bersubsidi banggai lebih semarak kehadiran satuan lalulintas polres banggai membawa mobil sim keliling senin keberadaan sekadar pelayanan juga menandai sinergi polres banggai kejaksaan negeri banggai terjalin kuat kepala satuan lintas polres banggai akp i made bagus adityamelalui kanit regiden ipda suparjan memimpin stand pameran sim keliling pasar murah bersubsidi suparjan kegiatan merupakan upaya konkret mendekatkan kepada masyarakat pengurusan perpanjangan surat izin mengemudi sim masyarakat banggai mudah mengurus perpanjangan sim harus repot ke kantor satpas polres banggai dihalimun dengan mobil sim keliling telah disediakan tim pelayanan dilayani suasana ramai ipda suparjan menekankan bahwa kehadiran mobil sim keliling bentuk inovatif memudahkan akses masyarakat dalam administrasi sim tim dalam mobil siap memberikan pelayanan terbaik memastikan proses perpanjangan sim berjalan lancar efisien ini hanya memudahkan juga memperkuat ikatan institusi kepolisian kejaksaan dengan masyarakat pasar murah bersubsidi diselenggarakan kejaksaan negeri banggai bukan hanya ajang ekonomi juga platform mendekatkan dengan masyarakat keberadaan mobil sim keliling tambahan nilai positif dalam kegiatan menciptakan hubungan lebih erat penegak hukum warga kabupaten banggai\n",
            "kabar suasana pasar murah subsidi bangga lebih semarak hadir satu lalulintas polres bangga bawa mobil sim keliling senin ada sekadar layan juga tanda sinergi polres bangga jaksa negeri bangga jalin kuat kepala satu lintas polres bangga akp i made bagus adityamelalui kanit regiden ipda suparjan pimpin stand pamer sim keliling pasar murah subsidi suparjan giat rupa upaya konkret dekat kepada masyarakat urus panjang surat izin kemudi sim masyarakat bangga mudah urus panjang sim harus repot ke kantor satpas polres bangga halimun dengan mobil sim keliling telah sedia tim layan layan suasana ramai ipda suparjan tekan bahwa hadir mobil sim keliling bentuk inovatif mudah akses masyarakat dalam administrasi sim tim dalam mobil siap beri layan baik pasti proses panjang sim jalan lancar efisien ini hanya mudah juga kuat ikat institusi polisi jaksa dengan masyarakat pasar murah subsidi selenggara jaksa negeri bangga bukan hanya ajang ekonomi juga platform dekat dengan masyarakat ada mobil sim keliling tambah nilai positif dalam giat cipta hubung lebih erat tegak hukum warga kabupaten bangga\n"
          ]
        }
      ],
      "source": [
        "print(df['filtered'][0])\n",
        "print(df['stemmed'][0])"
      ]
    },
    {
      "cell_type": "code",
      "source": [
        "print(len(df['clean_double_ws'][0]))\n",
        "print(len(df['stemmed'][0]))"
      ],
      "metadata": {
        "colab": {
          "base_uri": "https://localhost:8080/"
        },
        "id": "rKFwM57jdMCK",
        "outputId": "61e9ceee-0bd0-4a8e-f213-72965e5a22f0"
      },
      "execution_count": 47,
      "outputs": [
        {
          "output_type": "stream",
          "name": "stdout",
          "text": [
            "1659\n",
            "1420\n"
          ]
        }
      ]
    },
    {
      "cell_type": "markdown",
      "metadata": {
        "id": "akyZhgQzeZ8I"
      },
      "source": [
        "## Stopword Removal"
      ]
    },
    {
      "cell_type": "markdown",
      "metadata": {
        "id": "K4wdQI-SitWH"
      },
      "source": [
        "### Get custom stopwords"
      ]
    },
    {
      "cell_type": "code",
      "source": [
        "url = 'https://raw.githubusercontent.com/TaillessTanuki/ID-Stopwords/main/ID-Stopwords(MasDevid,Modified).csv'\n",
        "df_stopword = pd.read_csv(url, delimiter = \";\",encoding='cp1252')"
      ],
      "metadata": {
        "id": "s67SS5SuKOxZ"
      },
      "execution_count": 48,
      "outputs": []
    },
    {
      "cell_type": "code",
      "execution_count": 49,
      "metadata": {
        "colab": {
          "base_uri": "https://localhost:8080/"
        },
        "id": "2K7pfU2Hh9_A",
        "outputId": "b92ff44e-75e0-4056-df8e-61f1e70b7ad9"
      },
      "outputs": [
        {
          "output_type": "stream",
          "name": "stdout",
          "text": [
            "<class 'pandas.core.frame.DataFrame'>\n",
            "RangeIndex: 765 entries, 0 to 764\n",
            "Data columns (total 1 columns):\n",
            " #   Column     Non-Null Count  Dtype \n",
            "---  ------     --------------  ----- \n",
            " 0   Stopwords  765 non-null    object\n",
            "dtypes: object(1)\n",
            "memory usage: 6.1+ KB\n"
          ]
        }
      ],
      "source": [
        "df_stopword.info()"
      ]
    },
    {
      "cell_type": "code",
      "source": [
        "df_stopword"
      ],
      "metadata": {
        "id": "-Z9dEyx8IMV9",
        "colab": {
          "base_uri": "https://localhost:8080/",
          "height": 424
        },
        "outputId": "1cde0f55-33d7-4b40-fc1d-98b891ae9318"
      },
      "execution_count": 51,
      "outputs": [
        {
          "output_type": "execute_result",
          "data": {
            "text/plain": [
              "     Stopwords\n",
              "0          ada\n",
              "1       adalah\n",
              "2       adanya\n",
              "3       adapun\n",
              "4         agak\n",
              "..         ...\n",
              "760  kabupaten\n",
              "761        ini\n",
              "762        itu\n",
              "763      luwuk\n",
              "764   amirudin\n",
              "\n",
              "[765 rows x 1 columns]"
            ],
            "text/html": [
              "\n",
              "  <div id=\"df-57650314-623c-4681-889d-d2999b6bbfca\" class=\"colab-df-container\">\n",
              "    <div>\n",
              "<style scoped>\n",
              "    .dataframe tbody tr th:only-of-type {\n",
              "        vertical-align: middle;\n",
              "    }\n",
              "\n",
              "    .dataframe tbody tr th {\n",
              "        vertical-align: top;\n",
              "    }\n",
              "\n",
              "    .dataframe thead th {\n",
              "        text-align: right;\n",
              "    }\n",
              "</style>\n",
              "<table border=\"1\" class=\"dataframe\">\n",
              "  <thead>\n",
              "    <tr style=\"text-align: right;\">\n",
              "      <th></th>\n",
              "      <th>Stopwords</th>\n",
              "    </tr>\n",
              "  </thead>\n",
              "  <tbody>\n",
              "    <tr>\n",
              "      <th>0</th>\n",
              "      <td>ada</td>\n",
              "    </tr>\n",
              "    <tr>\n",
              "      <th>1</th>\n",
              "      <td>adalah</td>\n",
              "    </tr>\n",
              "    <tr>\n",
              "      <th>2</th>\n",
              "      <td>adanya</td>\n",
              "    </tr>\n",
              "    <tr>\n",
              "      <th>3</th>\n",
              "      <td>adapun</td>\n",
              "    </tr>\n",
              "    <tr>\n",
              "      <th>4</th>\n",
              "      <td>agak</td>\n",
              "    </tr>\n",
              "    <tr>\n",
              "      <th>...</th>\n",
              "      <td>...</td>\n",
              "    </tr>\n",
              "    <tr>\n",
              "      <th>760</th>\n",
              "      <td>kabupaten</td>\n",
              "    </tr>\n",
              "    <tr>\n",
              "      <th>761</th>\n",
              "      <td>ini</td>\n",
              "    </tr>\n",
              "    <tr>\n",
              "      <th>762</th>\n",
              "      <td>itu</td>\n",
              "    </tr>\n",
              "    <tr>\n",
              "      <th>763</th>\n",
              "      <td>luwuk</td>\n",
              "    </tr>\n",
              "    <tr>\n",
              "      <th>764</th>\n",
              "      <td>amirudin</td>\n",
              "    </tr>\n",
              "  </tbody>\n",
              "</table>\n",
              "<p>765 rows × 1 columns</p>\n",
              "</div>\n",
              "    <div class=\"colab-df-buttons\">\n",
              "\n",
              "  <div class=\"colab-df-container\">\n",
              "    <button class=\"colab-df-convert\" onclick=\"convertToInteractive('df-57650314-623c-4681-889d-d2999b6bbfca')\"\n",
              "            title=\"Convert this dataframe to an interactive table.\"\n",
              "            style=\"display:none;\">\n",
              "\n",
              "  <svg xmlns=\"http://www.w3.org/2000/svg\" height=\"24px\" viewBox=\"0 -960 960 960\">\n",
              "    <path d=\"M120-120v-720h720v720H120Zm60-500h600v-160H180v160Zm220 220h160v-160H400v160Zm0 220h160v-160H400v160ZM180-400h160v-160H180v160Zm440 0h160v-160H620v160ZM180-180h160v-160H180v160Zm440 0h160v-160H620v160Z\"/>\n",
              "  </svg>\n",
              "    </button>\n",
              "\n",
              "  <style>\n",
              "    .colab-df-container {\n",
              "      display:flex;\n",
              "      gap: 12px;\n",
              "    }\n",
              "\n",
              "    .colab-df-convert {\n",
              "      background-color: #E8F0FE;\n",
              "      border: none;\n",
              "      border-radius: 50%;\n",
              "      cursor: pointer;\n",
              "      display: none;\n",
              "      fill: #1967D2;\n",
              "      height: 32px;\n",
              "      padding: 0 0 0 0;\n",
              "      width: 32px;\n",
              "    }\n",
              "\n",
              "    .colab-df-convert:hover {\n",
              "      background-color: #E2EBFA;\n",
              "      box-shadow: 0px 1px 2px rgba(60, 64, 67, 0.3), 0px 1px 3px 1px rgba(60, 64, 67, 0.15);\n",
              "      fill: #174EA6;\n",
              "    }\n",
              "\n",
              "    .colab-df-buttons div {\n",
              "      margin-bottom: 4px;\n",
              "    }\n",
              "\n",
              "    [theme=dark] .colab-df-convert {\n",
              "      background-color: #3B4455;\n",
              "      fill: #D2E3FC;\n",
              "    }\n",
              "\n",
              "    [theme=dark] .colab-df-convert:hover {\n",
              "      background-color: #434B5C;\n",
              "      box-shadow: 0px 1px 3px 1px rgba(0, 0, 0, 0.15);\n",
              "      filter: drop-shadow(0px 1px 2px rgba(0, 0, 0, 0.3));\n",
              "      fill: #FFFFFF;\n",
              "    }\n",
              "  </style>\n",
              "\n",
              "    <script>\n",
              "      const buttonEl =\n",
              "        document.querySelector('#df-57650314-623c-4681-889d-d2999b6bbfca button.colab-df-convert');\n",
              "      buttonEl.style.display =\n",
              "        google.colab.kernel.accessAllowed ? 'block' : 'none';\n",
              "\n",
              "      async function convertToInteractive(key) {\n",
              "        const element = document.querySelector('#df-57650314-623c-4681-889d-d2999b6bbfca');\n",
              "        const dataTable =\n",
              "          await google.colab.kernel.invokeFunction('convertToInteractive',\n",
              "                                                    [key], {});\n",
              "        if (!dataTable) return;\n",
              "\n",
              "        const docLinkHtml = 'Like what you see? Visit the ' +\n",
              "          '<a target=\"_blank\" href=https://colab.research.google.com/notebooks/data_table.ipynb>data table notebook</a>'\n",
              "          + ' to learn more about interactive tables.';\n",
              "        element.innerHTML = '';\n",
              "        dataTable['output_type'] = 'display_data';\n",
              "        await google.colab.output.renderOutput(dataTable, element);\n",
              "        const docLink = document.createElement('div');\n",
              "        docLink.innerHTML = docLinkHtml;\n",
              "        element.appendChild(docLink);\n",
              "      }\n",
              "    </script>\n",
              "  </div>\n",
              "\n",
              "\n",
              "<div id=\"df-1e2a43bc-56d7-48fe-85a8-eeefb98d04c7\">\n",
              "  <button class=\"colab-df-quickchart\" onclick=\"quickchart('df-1e2a43bc-56d7-48fe-85a8-eeefb98d04c7')\"\n",
              "            title=\"Suggest charts\"\n",
              "            style=\"display:none;\">\n",
              "\n",
              "<svg xmlns=\"http://www.w3.org/2000/svg\" height=\"24px\"viewBox=\"0 0 24 24\"\n",
              "     width=\"24px\">\n",
              "    <g>\n",
              "        <path d=\"M19 3H5c-1.1 0-2 .9-2 2v14c0 1.1.9 2 2 2h14c1.1 0 2-.9 2-2V5c0-1.1-.9-2-2-2zM9 17H7v-7h2v7zm4 0h-2V7h2v10zm4 0h-2v-4h2v4z\"/>\n",
              "    </g>\n",
              "</svg>\n",
              "  </button>\n",
              "\n",
              "<style>\n",
              "  .colab-df-quickchart {\n",
              "      --bg-color: #E8F0FE;\n",
              "      --fill-color: #1967D2;\n",
              "      --hover-bg-color: #E2EBFA;\n",
              "      --hover-fill-color: #174EA6;\n",
              "      --disabled-fill-color: #AAA;\n",
              "      --disabled-bg-color: #DDD;\n",
              "  }\n",
              "\n",
              "  [theme=dark] .colab-df-quickchart {\n",
              "      --bg-color: #3B4455;\n",
              "      --fill-color: #D2E3FC;\n",
              "      --hover-bg-color: #434B5C;\n",
              "      --hover-fill-color: #FFFFFF;\n",
              "      --disabled-bg-color: #3B4455;\n",
              "      --disabled-fill-color: #666;\n",
              "  }\n",
              "\n",
              "  .colab-df-quickchart {\n",
              "    background-color: var(--bg-color);\n",
              "    border: none;\n",
              "    border-radius: 50%;\n",
              "    cursor: pointer;\n",
              "    display: none;\n",
              "    fill: var(--fill-color);\n",
              "    height: 32px;\n",
              "    padding: 0;\n",
              "    width: 32px;\n",
              "  }\n",
              "\n",
              "  .colab-df-quickchart:hover {\n",
              "    background-color: var(--hover-bg-color);\n",
              "    box-shadow: 0 1px 2px rgba(60, 64, 67, 0.3), 0 1px 3px 1px rgba(60, 64, 67, 0.15);\n",
              "    fill: var(--button-hover-fill-color);\n",
              "  }\n",
              "\n",
              "  .colab-df-quickchart-complete:disabled,\n",
              "  .colab-df-quickchart-complete:disabled:hover {\n",
              "    background-color: var(--disabled-bg-color);\n",
              "    fill: var(--disabled-fill-color);\n",
              "    box-shadow: none;\n",
              "  }\n",
              "\n",
              "  .colab-df-spinner {\n",
              "    border: 2px solid var(--fill-color);\n",
              "    border-color: transparent;\n",
              "    border-bottom-color: var(--fill-color);\n",
              "    animation:\n",
              "      spin 1s steps(1) infinite;\n",
              "  }\n",
              "\n",
              "  @keyframes spin {\n",
              "    0% {\n",
              "      border-color: transparent;\n",
              "      border-bottom-color: var(--fill-color);\n",
              "      border-left-color: var(--fill-color);\n",
              "    }\n",
              "    20% {\n",
              "      border-color: transparent;\n",
              "      border-left-color: var(--fill-color);\n",
              "      border-top-color: var(--fill-color);\n",
              "    }\n",
              "    30% {\n",
              "      border-color: transparent;\n",
              "      border-left-color: var(--fill-color);\n",
              "      border-top-color: var(--fill-color);\n",
              "      border-right-color: var(--fill-color);\n",
              "    }\n",
              "    40% {\n",
              "      border-color: transparent;\n",
              "      border-right-color: var(--fill-color);\n",
              "      border-top-color: var(--fill-color);\n",
              "    }\n",
              "    60% {\n",
              "      border-color: transparent;\n",
              "      border-right-color: var(--fill-color);\n",
              "    }\n",
              "    80% {\n",
              "      border-color: transparent;\n",
              "      border-right-color: var(--fill-color);\n",
              "      border-bottom-color: var(--fill-color);\n",
              "    }\n",
              "    90% {\n",
              "      border-color: transparent;\n",
              "      border-bottom-color: var(--fill-color);\n",
              "    }\n",
              "  }\n",
              "</style>\n",
              "\n",
              "  <script>\n",
              "    async function quickchart(key) {\n",
              "      const quickchartButtonEl =\n",
              "        document.querySelector('#' + key + ' button');\n",
              "      quickchartButtonEl.disabled = true;  // To prevent multiple clicks.\n",
              "      quickchartButtonEl.classList.add('colab-df-spinner');\n",
              "      try {\n",
              "        const charts = await google.colab.kernel.invokeFunction(\n",
              "            'suggestCharts', [key], {});\n",
              "      } catch (error) {\n",
              "        console.error('Error during call to suggestCharts:', error);\n",
              "      }\n",
              "      quickchartButtonEl.classList.remove('colab-df-spinner');\n",
              "      quickchartButtonEl.classList.add('colab-df-quickchart-complete');\n",
              "    }\n",
              "    (() => {\n",
              "      let quickchartButtonEl =\n",
              "        document.querySelector('#df-1e2a43bc-56d7-48fe-85a8-eeefb98d04c7 button');\n",
              "      quickchartButtonEl.style.display =\n",
              "        google.colab.kernel.accessAllowed ? 'block' : 'none';\n",
              "    })();\n",
              "  </script>\n",
              "</div>\n",
              "    </div>\n",
              "  </div>\n"
            ],
            "application/vnd.google.colaboratory.intrinsic+json": {
              "type": "dataframe",
              "variable_name": "df_stopword",
              "summary": "{\n  \"name\": \"df_stopword\",\n  \"rows\": 765,\n  \"fields\": [\n    {\n      \"column\": \"Stopwords\",\n      \"properties\": {\n        \"dtype\": \"string\",\n        \"num_unique_values\": 760,\n        \"samples\": [\n          \"mempergunakan\",\n          \"kemudian\",\n          \"bermacam\"\n        ],\n        \"semantic_type\": \"\",\n        \"description\": \"\"\n      }\n    }\n  ]\n}"
            }
          },
          "metadata": {},
          "execution_count": 51
        }
      ]
    },
    {
      "cell_type": "code",
      "execution_count": 52,
      "metadata": {
        "id": "Ubey61YNimwt",
        "colab": {
          "base_uri": "https://localhost:8080/"
        },
        "outputId": "72af6486-aa86-46b6-e96c-ba68e67305ee"
      },
      "outputs": [
        {
          "output_type": "execute_result",
          "data": {
            "text/plain": [
              "['ada',\n",
              " 'adalah',\n",
              " 'adanya',\n",
              " 'adapun',\n",
              " 'agak',\n",
              " 'agaknya',\n",
              " 'agar',\n",
              " 'akan',\n",
              " 'akankah',\n",
              " 'akhir',\n",
              " 'akhiri',\n",
              " 'akhirnya',\n",
              " 'aku',\n",
              " 'akulah',\n",
              " 'amat',\n",
              " 'amatlah',\n",
              " 'anda',\n",
              " 'andalah',\n",
              " 'antar',\n",
              " 'antara',\n",
              " 'antaranya',\n",
              " 'apa',\n",
              " 'apaan',\n",
              " 'apabila',\n",
              " 'apakah',\n",
              " 'apalagi',\n",
              " 'apatah',\n",
              " 'artinya',\n",
              " 'asal',\n",
              " 'asalkan',\n",
              " 'atas',\n",
              " 'atau',\n",
              " 'ataukah',\n",
              " 'ataupun',\n",
              " 'awal',\n",
              " 'awalnya',\n",
              " 'bagai',\n",
              " 'bagaikan',\n",
              " 'bagaimana',\n",
              " 'bagaimanakah',\n",
              " 'bagaimanapun',\n",
              " 'bagi',\n",
              " 'bagian',\n",
              " 'bahkan',\n",
              " 'bahwa',\n",
              " 'bahwasanya',\n",
              " 'baik',\n",
              " 'bakal',\n",
              " 'bakalan',\n",
              " 'balik',\n",
              " 'banyak',\n",
              " 'bapak',\n",
              " 'baru',\n",
              " 'bawah',\n",
              " 'beberapa',\n",
              " 'begini',\n",
              " 'beginian',\n",
              " 'beginikah',\n",
              " 'beginilah',\n",
              " 'begitu',\n",
              " 'begitukah',\n",
              " 'begitulah',\n",
              " 'begitupun',\n",
              " 'bekerja',\n",
              " 'belakang',\n",
              " 'belakangan',\n",
              " 'belum',\n",
              " 'belumlah',\n",
              " 'benar',\n",
              " 'benarkah',\n",
              " 'benarlah',\n",
              " 'berada',\n",
              " 'berakhir',\n",
              " 'berakhirlah',\n",
              " 'berakhirnya',\n",
              " 'berapa',\n",
              " 'berapakah',\n",
              " 'berapalah',\n",
              " 'berapapun',\n",
              " 'berarti',\n",
              " 'berawal',\n",
              " 'berbagai',\n",
              " 'berdatangan',\n",
              " 'beri',\n",
              " 'berikan',\n",
              " 'berikut',\n",
              " 'berikutnya',\n",
              " 'berjumlah',\n",
              " 'berkali-kali',\n",
              " 'berkata',\n",
              " 'berkehendak',\n",
              " 'berkeinginan',\n",
              " 'berkenaan',\n",
              " 'berlainan',\n",
              " 'berlalu',\n",
              " 'berlangsung',\n",
              " 'berlebihan',\n",
              " 'bermacam',\n",
              " 'bermacam-macam',\n",
              " 'bermaksud',\n",
              " 'bermula',\n",
              " 'bersama',\n",
              " 'bersama-sama',\n",
              " 'bersiap',\n",
              " 'bersiap-siap',\n",
              " 'bertanya',\n",
              " 'bertanya-tanya',\n",
              " 'berturut',\n",
              " 'berturut-turut',\n",
              " 'bertutur',\n",
              " 'berujar',\n",
              " 'berupa',\n",
              " 'besar',\n",
              " 'betul',\n",
              " 'betulkah',\n",
              " 'biasa',\n",
              " 'biasanya',\n",
              " 'bila',\n",
              " 'bilakah',\n",
              " 'bisa',\n",
              " 'bisakah',\n",
              " 'boleh',\n",
              " 'bolehkah',\n",
              " 'bolehlah',\n",
              " 'buat',\n",
              " 'bukan',\n",
              " 'bukankah',\n",
              " 'bukanlah',\n",
              " 'bukannya',\n",
              " 'bulan',\n",
              " 'bung',\n",
              " 'cara',\n",
              " 'caranya',\n",
              " 'cukup',\n",
              " 'cukupkah',\n",
              " 'cukuplah',\n",
              " 'cuma',\n",
              " 'dahulu',\n",
              " 'dalam',\n",
              " 'dan',\n",
              " 'dapat',\n",
              " 'dari',\n",
              " 'daripada',\n",
              " 'datang',\n",
              " 'dekat',\n",
              " 'demi',\n",
              " 'demikian',\n",
              " 'demikianlah',\n",
              " 'dengan',\n",
              " 'depan',\n",
              " 'di',\n",
              " 'dia',\n",
              " 'diakhiri',\n",
              " 'diakhirinya',\n",
              " 'dialah',\n",
              " 'diantara',\n",
              " 'diantaranya',\n",
              " 'diberi',\n",
              " 'diberikan',\n",
              " 'diberikannya',\n",
              " 'dibuat',\n",
              " 'dibuatnya',\n",
              " 'didapat',\n",
              " 'didatangkan',\n",
              " 'digunakan',\n",
              " 'diibaratkan',\n",
              " 'diibaratkannya',\n",
              " 'diingat',\n",
              " 'diingatkan',\n",
              " 'diinginkan',\n",
              " 'dijawab',\n",
              " 'dijelaskan',\n",
              " 'dijelaskannya',\n",
              " 'dikarenakan',\n",
              " 'dikatakan',\n",
              " 'dikatakannya',\n",
              " 'dikerjakan',\n",
              " 'diketahui',\n",
              " 'diketahuinya',\n",
              " 'dikira',\n",
              " 'dilakukan',\n",
              " 'dilalui',\n",
              " 'dilihat',\n",
              " 'dimaksud',\n",
              " 'dimaksudkan',\n",
              " 'dimaksudkannya',\n",
              " 'dimaksudnya',\n",
              " 'diminta',\n",
              " 'dimintai',\n",
              " 'dimisalkan',\n",
              " 'dimulai',\n",
              " 'dimulailah',\n",
              " 'dimulainya',\n",
              " 'dimungkinkan',\n",
              " 'dini',\n",
              " 'dipastikan',\n",
              " 'diperbuat',\n",
              " 'diperbuatnya',\n",
              " 'dipergunakan',\n",
              " 'diperkirakan',\n",
              " 'diperlihatkan',\n",
              " 'diperlukan',\n",
              " 'diperlukannya',\n",
              " 'dipersoalkan',\n",
              " 'dipertanyakan',\n",
              " 'dipunyai',\n",
              " 'diri',\n",
              " 'dirinya',\n",
              " 'disampaikan',\n",
              " 'disebut',\n",
              " 'disebutkan',\n",
              " 'disebutkannya',\n",
              " 'disini',\n",
              " 'disinilah',\n",
              " 'ditambahkan',\n",
              " 'ditandaskan',\n",
              " 'ditanya',\n",
              " 'ditanyai',\n",
              " 'ditanyakan',\n",
              " 'ditegaskan',\n",
              " 'ditujukan',\n",
              " 'ditunjuk',\n",
              " 'ditunjuki',\n",
              " 'ditunjukkan',\n",
              " 'ditunjukkannya',\n",
              " 'ditunjuknya',\n",
              " 'dituturkan',\n",
              " 'dituturkannya',\n",
              " 'diucapkan',\n",
              " 'diucapkannya',\n",
              " 'diungkapkan',\n",
              " 'dong',\n",
              " 'dua',\n",
              " 'dulu',\n",
              " 'empat',\n",
              " 'enggak',\n",
              " 'enggaknya',\n",
              " 'entah',\n",
              " 'entahlah',\n",
              " 'guna',\n",
              " 'gunakan',\n",
              " 'hal',\n",
              " 'hampir',\n",
              " 'hanya',\n",
              " 'hanyalah',\n",
              " 'hari',\n",
              " 'harus',\n",
              " 'haruslah',\n",
              " 'harusnya',\n",
              " 'hendak',\n",
              " 'hendaklah',\n",
              " 'hendaknya',\n",
              " 'hingga',\n",
              " 'ia',\n",
              " 'ialah',\n",
              " 'ibarat',\n",
              " 'ibaratkan',\n",
              " 'ibaratnya',\n",
              " 'ibu',\n",
              " 'ikut',\n",
              " 'ingat',\n",
              " 'ingat-ingat',\n",
              " 'ingin',\n",
              " 'inginkah',\n",
              " 'inginkan',\n",
              " 'ini',\n",
              " 'inikah',\n",
              " 'inilah',\n",
              " 'itu',\n",
              " 'itukah',\n",
              " 'itulah',\n",
              " 'jadi',\n",
              " 'jadilah',\n",
              " 'jadinya',\n",
              " 'jangan',\n",
              " 'jangankan',\n",
              " 'janganlah',\n",
              " 'jauh',\n",
              " 'jawab',\n",
              " 'jawaban',\n",
              " 'jawabnya',\n",
              " 'jelas',\n",
              " 'jelaskan',\n",
              " 'jelaslah',\n",
              " 'jelasnya',\n",
              " 'jika',\n",
              " 'jikalau',\n",
              " 'juga',\n",
              " 'jumlah',\n",
              " 'jumlahnya',\n",
              " 'justru',\n",
              " 'kala',\n",
              " 'kalau',\n",
              " 'kalaulah',\n",
              " 'kalaupun',\n",
              " 'kalian',\n",
              " 'kami',\n",
              " 'kamilah',\n",
              " 'kamu',\n",
              " 'kamulah',\n",
              " 'kan',\n",
              " 'kapan',\n",
              " 'kapankah',\n",
              " 'kapanpun',\n",
              " 'karena',\n",
              " 'karenanya',\n",
              " 'kasus',\n",
              " 'kata',\n",
              " 'katakan',\n",
              " 'katakanlah',\n",
              " 'katanya',\n",
              " 'ke',\n",
              " 'keadaan',\n",
              " 'kebetulan',\n",
              " 'kecil',\n",
              " 'kedua',\n",
              " 'keduanya',\n",
              " 'keinginan',\n",
              " 'kelamaan',\n",
              " 'kelihatan',\n",
              " 'kelihatannya',\n",
              " 'kelima',\n",
              " 'keluar',\n",
              " 'kembali',\n",
              " 'kemudian',\n",
              " 'kemungkinan',\n",
              " 'kemungkinannya',\n",
              " 'kenapa',\n",
              " 'kepada',\n",
              " 'kepadanya',\n",
              " 'kesampaian',\n",
              " 'keseluruhan',\n",
              " 'keseluruhannya',\n",
              " 'keterlaluan',\n",
              " 'ketika',\n",
              " 'khususnya',\n",
              " 'kini',\n",
              " 'kinilah',\n",
              " 'kira',\n",
              " 'kira-kira',\n",
              " 'kiranya',\n",
              " 'kita',\n",
              " 'kitalah',\n",
              " 'kok',\n",
              " 'kurang',\n",
              " 'lagi',\n",
              " 'lagian',\n",
              " 'lah',\n",
              " 'lain',\n",
              " 'lainnya',\n",
              " 'lalu',\n",
              " 'lama',\n",
              " 'lamanya',\n",
              " 'lanjut',\n",
              " 'lanjutnya',\n",
              " 'lebih',\n",
              " 'lewat',\n",
              " 'lima',\n",
              " 'luar',\n",
              " 'macam',\n",
              " 'maka',\n",
              " 'makanya',\n",
              " 'makin',\n",
              " 'malah',\n",
              " 'malahan',\n",
              " 'mampu',\n",
              " 'mampukah',\n",
              " 'mana',\n",
              " 'manakala',\n",
              " 'manalagi',\n",
              " 'masa',\n",
              " 'masalah',\n",
              " 'masalahnya',\n",
              " 'masih',\n",
              " 'masihkah',\n",
              " 'masing',\n",
              " 'masing-masing',\n",
              " 'mau',\n",
              " 'maupun',\n",
              " 'melainkan',\n",
              " 'melakukan',\n",
              " 'melalui',\n",
              " 'melihat',\n",
              " 'melihatnya',\n",
              " 'memang',\n",
              " 'memastikan',\n",
              " 'memberi',\n",
              " 'memberikan',\n",
              " 'membuat',\n",
              " 'memerlukan',\n",
              " 'memihak',\n",
              " 'meminta',\n",
              " 'memintakan',\n",
              " 'memisalkan',\n",
              " 'memperbuat',\n",
              " 'mempergunakan',\n",
              " 'memperkirakan',\n",
              " 'memperlihatkan',\n",
              " 'mempersiapkan',\n",
              " 'mempersoalkan',\n",
              " 'mempertanyakan',\n",
              " 'mempunyai',\n",
              " 'memulai',\n",
              " 'memungkinkan',\n",
              " 'menaiki',\n",
              " 'menambahkan',\n",
              " 'menandaskan',\n",
              " 'menanti',\n",
              " 'menanti-nanti',\n",
              " 'menantikan',\n",
              " 'menanya',\n",
              " 'menanyai',\n",
              " 'menanyakan',\n",
              " 'mendapat',\n",
              " 'mendapatkan',\n",
              " 'mendatang',\n",
              " 'mendatangi',\n",
              " 'mendatangkan',\n",
              " 'menegaskan',\n",
              " 'mengakhiri',\n",
              " 'mengapa',\n",
              " 'mengatakan',\n",
              " 'mengatakannya',\n",
              " 'mengenai',\n",
              " 'mengerjakan',\n",
              " 'mengetahui',\n",
              " 'menggunakan',\n",
              " 'menghendaki',\n",
              " 'mengibaratkan',\n",
              " 'mengibaratkannya',\n",
              " 'mengingat',\n",
              " 'mengingatkan',\n",
              " 'menginginkan',\n",
              " 'mengira',\n",
              " 'mengucapkan',\n",
              " 'mengucapkannya',\n",
              " 'mengungkapkan',\n",
              " 'menjadi',\n",
              " 'menjawab',\n",
              " 'menjelaskan',\n",
              " 'menuju',\n",
              " 'menunjuk',\n",
              " 'menunjuki',\n",
              " 'menunjukkan',\n",
              " 'menunjuknya',\n",
              " 'menurut',\n",
              " 'menuturkan',\n",
              " 'menyampaikan',\n",
              " 'menyangkut',\n",
              " 'menyatakan',\n",
              " 'menyebutkan',\n",
              " 'menyeluruh',\n",
              " 'menyiapkan',\n",
              " 'merasa',\n",
              " 'mereka',\n",
              " 'merekalah',\n",
              " 'merupakan',\n",
              " 'meski',\n",
              " 'meskipun',\n",
              " 'meyakini',\n",
              " 'meyakinkan',\n",
              " 'minta',\n",
              " 'mirip',\n",
              " 'misal',\n",
              " 'misalkan',\n",
              " 'misalnya',\n",
              " 'mula',\n",
              " 'mulai',\n",
              " 'mulailah',\n",
              " 'mulanya',\n",
              " 'mungkin',\n",
              " 'mungkinkah',\n",
              " 'nah',\n",
              " 'naik',\n",
              " 'namun',\n",
              " 'nanti',\n",
              " 'nantinya',\n",
              " 'nyaris',\n",
              " 'nyatanya',\n",
              " 'oleh',\n",
              " 'olehnya',\n",
              " 'pada',\n",
              " 'padahal',\n",
              " 'padanya',\n",
              " 'pak',\n",
              " 'paling',\n",
              " 'panjang',\n",
              " 'pantas',\n",
              " 'para',\n",
              " 'pasti',\n",
              " 'pastilah',\n",
              " 'penting',\n",
              " 'pentingnya',\n",
              " 'per',\n",
              " 'percuma',\n",
              " 'perlu',\n",
              " 'perlukah',\n",
              " 'perlunya',\n",
              " 'pernah',\n",
              " 'persoalan',\n",
              " 'pertama',\n",
              " 'pertama-tama',\n",
              " 'pertanyaan',\n",
              " 'pertanyakan',\n",
              " 'pihak',\n",
              " 'pihaknya',\n",
              " 'pukul',\n",
              " 'pula',\n",
              " 'pun',\n",
              " 'punya',\n",
              " 'rasa',\n",
              " 'rasanya',\n",
              " 'rata',\n",
              " 'rupanya',\n",
              " 'saat',\n",
              " 'saatnya',\n",
              " 'saja',\n",
              " 'sajalah',\n",
              " 'saling',\n",
              " 'sama',\n",
              " 'sama-sama',\n",
              " 'sambil',\n",
              " 'sampai',\n",
              " 'sampai-sampai',\n",
              " 'sampaikan',\n",
              " 'sana',\n",
              " 'sangat',\n",
              " 'sangatlah',\n",
              " 'satu',\n",
              " 'saya',\n",
              " 'sayalah',\n",
              " 'se',\n",
              " 'sebab',\n",
              " 'sebabnya',\n",
              " 'sebagai',\n",
              " 'sebagaimana',\n",
              " 'sebagainya',\n",
              " 'sebagian',\n",
              " 'sebaik',\n",
              " 'sebaik-baiknya',\n",
              " 'sebaiknya',\n",
              " 'sebaliknya',\n",
              " 'sebanyak',\n",
              " 'sebegini',\n",
              " 'sebegitu',\n",
              " 'sebelum',\n",
              " 'sebelumnya',\n",
              " 'sebenarnya',\n",
              " 'seberapa',\n",
              " 'sebesar',\n",
              " 'sebetulnya',\n",
              " 'sebisanya',\n",
              " 'sebuah',\n",
              " 'sebut',\n",
              " 'sebutlah',\n",
              " 'sebutnya',\n",
              " 'secara',\n",
              " 'secukupnya',\n",
              " 'sedang',\n",
              " 'sedangkan',\n",
              " 'sedemikian',\n",
              " 'sedikit',\n",
              " 'sedikitnya',\n",
              " 'seenaknya',\n",
              " 'segala',\n",
              " 'segalanya',\n",
              " 'segera',\n",
              " 'seharusnya',\n",
              " 'sehingga',\n",
              " 'seingat',\n",
              " 'sejak',\n",
              " 'sejauh',\n",
              " 'sejenak',\n",
              " 'sejumlah',\n",
              " 'sekadar',\n",
              " 'sekadarnya',\n",
              " 'sekali',\n",
              " 'sekali-kali',\n",
              " 'sekalian',\n",
              " 'sekaligus',\n",
              " 'sekalipun',\n",
              " 'sekarang',\n",
              " 'sekarang',\n",
              " 'sekecil',\n",
              " 'seketika',\n",
              " 'sekiranya',\n",
              " 'sekitar',\n",
              " 'sekitarnya',\n",
              " 'sekurang-kurangnya',\n",
              " 'sekurangnya',\n",
              " 'sela',\n",
              " 'selain',\n",
              " 'selaku',\n",
              " 'selalu',\n",
              " 'selama',\n",
              " 'selama-lamanya',\n",
              " 'selamanya',\n",
              " 'selanjutnya',\n",
              " 'seluruh',\n",
              " 'seluruhnya',\n",
              " 'semacam',\n",
              " 'semakin',\n",
              " 'semampu',\n",
              " 'semampunya',\n",
              " 'semasa',\n",
              " 'semasih',\n",
              " 'semata',\n",
              " 'semata-mata',\n",
              " 'semaunya',\n",
              " 'sementara',\n",
              " 'semisal',\n",
              " 'semisalnya',\n",
              " 'sempat',\n",
              " 'semua',\n",
              " 'semuanya',\n",
              " 'semula',\n",
              " 'sendiri',\n",
              " 'sendirian',\n",
              " 'sendirinya',\n",
              " 'seolah',\n",
              " 'seolah-olah',\n",
              " 'seorang',\n",
              " 'sepanjang',\n",
              " 'sepantasnya',\n",
              " 'sepantasnyalah',\n",
              " 'seperlunya',\n",
              " 'seperti',\n",
              " 'sepertinya',\n",
              " 'sepihak',\n",
              " 'sering',\n",
              " 'seringnya',\n",
              " 'serta',\n",
              " 'serupa',\n",
              " 'sesaat',\n",
              " 'sesama',\n",
              " 'sesampai',\n",
              " 'sesegera',\n",
              " 'sesekali',\n",
              " 'seseorang',\n",
              " 'sesuatu',\n",
              " 'sesuatunya',\n",
              " 'sesudah',\n",
              " 'sesudahnya',\n",
              " 'setelah',\n",
              " 'setempat',\n",
              " 'setengah',\n",
              " 'seterusnya',\n",
              " 'setiap',\n",
              " 'setiba',\n",
              " 'setibanya',\n",
              " 'setidak-tidaknya',\n",
              " 'setidaknya',\n",
              " 'setinggi',\n",
              " 'seusai',\n",
              " 'sewaktu',\n",
              " 'siap',\n",
              " 'siapa',\n",
              " 'siapakah',\n",
              " 'siapapun',\n",
              " 'sini',\n",
              " 'sinilah',\n",
              " 'soal',\n",
              " 'soalnya',\n",
              " 'suatu',\n",
              " 'sudah',\n",
              " 'sudahkah',\n",
              " 'sudahlah',\n",
              " 'supaya',\n",
              " 'tadi',\n",
              " 'tadinya',\n",
              " 'tahu',\n",
              " 'tahun',\n",
              " 'tak',\n",
              " 'tambah',\n",
              " 'tambahnya',\n",
              " 'tampak',\n",
              " 'tampaknya',\n",
              " 'tandas',\n",
              " 'tandasnya',\n",
              " 'tanpa',\n",
              " 'tanya',\n",
              " 'tanyakan',\n",
              " 'tanyanya',\n",
              " 'tapi',\n",
              " 'tegas',\n",
              " 'tegasnya',\n",
              " 'telah',\n",
              " 'tempat',\n",
              " 'tengah',\n",
              " 'tentang',\n",
              " 'tentu',\n",
              " 'tentulah',\n",
              " 'tentunya',\n",
              " 'tepat',\n",
              " 'terakhir',\n",
              " 'terasa',\n",
              " 'terbanyak',\n",
              " 'terdahulu',\n",
              " 'terdapat',\n",
              " 'terdiri',\n",
              " 'terhadap',\n",
              " 'terhadapnya',\n",
              " 'teringat',\n",
              " 'teringat-ingat',\n",
              " 'terjadi',\n",
              " 'terjadilah',\n",
              " 'terjadinya',\n",
              " 'terkira',\n",
              " 'terlalu',\n",
              " 'terlebih',\n",
              " 'terlihat',\n",
              " 'termasuk',\n",
              " 'ternyata',\n",
              " 'tersampaikan',\n",
              " 'tersebut',\n",
              " 'tersebutlah',\n",
              " 'tertentu',\n",
              " 'tertuju',\n",
              " 'terus',\n",
              " 'terutama',\n",
              " 'tetap',\n",
              " 'tetapi',\n",
              " 'tiap',\n",
              " 'tiba',\n",
              " 'tiba-tiba',\n",
              " 'tidak',\n",
              " 'tidakkah',\n",
              " 'tidaklah',\n",
              " 'tiga',\n",
              " 'tinggi',\n",
              " 'toh',\n",
              " 'tunjuk',\n",
              " 'turut',\n",
              " 'tutur',\n",
              " 'tuturnya',\n",
              " 'ucap',\n",
              " 'ucapnya',\n",
              " 'ujar',\n",
              " 'ujarnya',\n",
              " 'umum',\n",
              " 'umumnya',\n",
              " 'ungkap',\n",
              " 'ungkapnya',\n",
              " 'untuk',\n",
              " 'usah',\n",
              " 'usai',\n",
              " 'waduh',\n",
              " 'wah',\n",
              " 'wahai',\n",
              " 'waktu',\n",
              " 'waktunya',\n",
              " 'walau',\n",
              " 'walaupun',\n",
              " 'wong',\n",
              " 'yaitu',\n",
              " 'yakin',\n",
              " 'yakni',\n",
              " 'yang',\n",
              " 'ini',\n",
              " 'di',\n",
              " 'kabupaten',\n",
              " 'ini',\n",
              " 'itu',\n",
              " 'luwuk',\n",
              " 'amirudin']"
            ]
          },
          "metadata": {},
          "execution_count": 52
        }
      ],
      "source": [
        "custom_stopword = list(df_stopword['Stopwords'])\n",
        "custom_stopword"
      ]
    },
    {
      "cell_type": "markdown",
      "metadata": {
        "id": "qjt7FLMViwiU"
      },
      "source": [
        "### Removal"
      ]
    },
    {
      "cell_type": "code",
      "execution_count": null,
      "metadata": {
        "colab": {
          "base_uri": "https://localhost:8080/"
        },
        "id": "OMhxvMrpef4X",
        "outputId": "9131ff7a-b708-44be-b3ab-f00f799a2229"
      },
      "outputs": [
        {
          "output_type": "stream",
          "name": "stdout",
          "text": [
            "['yang', 'untuk', 'pada', 'ke', 'para', 'namun', 'menurut', 'antara', 'dia', 'dua', 'ia', 'seperti', 'jika', 'jika', 'sehingga', 'kembali', 'dan', 'tidak', 'ini', 'karena', 'kepada', 'oleh', 'saat', 'harus', 'sementara', 'setelah', 'belum', 'kami', 'sekitar', 'bagi', 'serta', 'di', 'dari', 'telah', 'sebagai', 'masih', 'hal', 'ketika', 'adalah', 'itu', 'dalam', 'bisa', 'bahwa', 'atau', 'hanya', 'kita', 'dengan', 'akan', 'juga', 'ada', 'mereka', 'sudah', 'saya', 'terhadap', 'secara', 'agar', 'lain', 'anda', 'begitu', 'mengapa', 'kenapa', 'yaitu', 'yakni', 'daripada', 'itulah', 'lagi', 'maka', 'tentang', 'demi', 'dimana', 'kemana', 'pula', 'sambil', 'sebelum', 'sesudah', 'supaya', 'guna', 'kah', 'pun', 'sampai', 'sedangkan', 'selagi', 'sementara', 'tetapi', 'apakah', 'kecuali', 'sebab', 'selain', 'seolah', 'seraya', 'seterusnya', 'tanpa', 'agak', 'boleh', 'dapat', 'dsb', 'dst', 'dll', 'dahulu', 'dulunya', 'anu', 'demikian', 'tapi', 'ingin', 'juga', 'nggak', 'mari', 'nanti', 'melainkan', 'oh', 'ok', 'seharusnya', 'sebetulnya', 'setiap', 'setidaknya', 'sesuatu', 'pasti', 'saja', 'toh', 'ya', 'walau', 'tolong', 'tentu', 'amat', 'apalagi', 'bagaimanapun', 'ada', 'adalah', 'adanya', 'adapun', 'agak', 'agaknya', 'agar', 'akan', 'akankah', 'akhir', 'akhiri', 'akhirnya', 'aku', 'akulah', 'amat', 'amatlah', 'anda', 'andalah', 'antar', 'antara', 'antaranya', 'apa', 'apaan', 'apabila', 'apakah', 'apalagi', 'apatah', 'artinya', 'asal', 'asalkan', 'atas', 'atau', 'ataukah', 'ataupun', 'awal', 'awalnya', 'bagai', 'bagaikan', 'bagaimana', 'bagaimanakah', 'bagaimanapun', 'bagi', 'bagian', 'bahkan', 'bahwa', 'bahwasanya', 'baik', 'bakal', 'bakalan', 'balik', 'banyak', 'bapak', 'baru', 'bawah', 'beberapa', 'begini', 'beginian', 'beginikah', 'beginilah', 'begitu', 'begitukah', 'begitulah', 'begitupun', 'bekerja', 'belakang', 'belakangan', 'belum', 'belumlah', 'benar', 'benarkah', 'benarlah', 'berada', 'berakhir', 'berakhirlah', 'berakhirnya', 'berapa', 'berapakah', 'berapalah', 'berapapun', 'berarti', 'berawal', 'berbagai', 'berdatangan', 'beri', 'berikan', 'berikut', 'berikutnya', 'berjumlah', 'berkali-kali', 'berkata', 'berkehendak', 'berkeinginan', 'berkenaan', 'berlainan', 'berlalu', 'berlangsung', 'berlebihan', 'bermacam', 'bermacam-macam', 'bermaksud', 'bermula', 'bersama', 'bersama-sama', 'bersiap', 'bersiap-siap', 'bertanya', 'bertanya-tanya', 'berturut', 'berturut-turut', 'bertutur', 'berujar', 'berupa', 'besar', 'betul', 'betulkah', 'biasa', 'biasanya', 'bila', 'bilakah', 'bisa', 'bisakah', 'boleh', 'bolehkah', 'bolehlah', 'buat', 'bukan', 'bukankah', 'bukanlah', 'bukannya', 'bulan', 'bung', 'cara', 'caranya', 'cukup', 'cukupkah', 'cukuplah', 'cuma', 'dahulu', 'dalam', 'dan', 'dapat', 'dari', 'daripada', 'datang', 'dekat', 'demi', 'demikian', 'demikianlah', 'dengan', 'depan', 'di', 'dia', 'diakhiri', 'diakhirinya', 'dialah', 'diantara', 'diantaranya', 'diberi', 'diberikan', 'diberikannya', 'dibuat', 'dibuatnya', 'didapat', 'didatangkan', 'digunakan', 'diibaratkan', 'diibaratkannya', 'diingat', 'diingatkan', 'diinginkan', 'dijawab', 'dijelaskan', 'dijelaskannya', 'dikarenakan', 'dikatakan', 'dikatakannya', 'dikerjakan', 'diketahui', 'diketahuinya', 'dikira', 'dilakukan', 'dilalui', 'dilihat', 'dimaksud', 'dimaksudkan', 'dimaksudkannya', 'dimaksudnya', 'diminta', 'dimintai', 'dimisalkan', 'dimulai', 'dimulailah', 'dimulainya', 'dimungkinkan', 'dini', 'dipastikan', 'diperbuat', 'diperbuatnya', 'dipergunakan', 'diperkirakan', 'diperlihatkan', 'diperlukan', 'diperlukannya', 'dipersoalkan', 'dipertanyakan', 'dipunyai', 'diri', 'dirinya', 'disampaikan', 'disebut', 'disebutkan', 'disebutkannya', 'disini', 'disinilah', 'ditambahkan', 'ditandaskan', 'ditanya', 'ditanyai', 'ditanyakan', 'ditegaskan', 'ditujukan', 'ditunjuk', 'ditunjuki', 'ditunjukkan', 'ditunjukkannya', 'ditunjuknya', 'dituturkan', 'dituturkannya', 'diucapkan', 'diucapkannya', 'diungkapkan', 'dong', 'dua', 'dulu', 'empat', 'enggak', 'enggaknya', 'entah', 'entahlah', 'guna', 'gunakan', 'hal', 'hampir', 'hanya', 'hanyalah', 'hari', 'harus', 'haruslah', 'harusnya', 'hendak', 'hendaklah', 'hendaknya', 'hingga', 'ia', 'ialah', 'ibarat', 'ibaratkan', 'ibaratnya', 'ibu', 'ikut', 'ingat', 'ingat-ingat', 'ingin', 'inginkah', 'inginkan', 'ini', 'inikah', 'inilah', 'itu', 'itukah', 'itulah', 'jadi', 'jadilah', 'jadinya', 'jangan', 'jangankan', 'janganlah', 'jauh', 'jawab', 'jawaban', 'jawabnya', 'jelas', 'jelaskan', 'jelaslah', 'jelasnya', 'jika', 'jikalau', 'juga', 'jumlah', 'jumlahnya', 'justru', 'kala', 'kalau', 'kalaulah', 'kalaupun', 'kalian', 'kami', 'kamilah', 'kamu', 'kamulah', 'kan', 'kapan', 'kapankah', 'kapanpun', 'karena', 'karenanya', 'kasus', 'kata', 'katakan', 'katakanlah', 'katanya', 'ke', 'keadaan', 'kebetulan', 'kecil', 'kedua', 'keduanya', 'keinginan', 'kelamaan', 'kelihatan', 'kelihatannya', 'kelima', 'keluar', 'kembali', 'kemudian', 'kemungkinan', 'kemungkinannya', 'kenapa', 'kepada', 'kepadanya', 'kesampaian', 'keseluruhan', 'keseluruhannya', 'keterlaluan', 'ketika', 'khususnya', 'kini', 'kinilah', 'kira', 'kira-kira', 'kiranya', 'kita', 'kitalah', 'kok', 'kurang', 'lagi', 'lagian', 'lah', 'lain', 'lainnya', 'lalu', 'lama', 'lamanya', 'lanjut', 'lanjutnya', 'lebih', 'lewat', 'lima', 'luar', 'macam', 'maka', 'makanya', 'makin', 'malah', 'malahan', 'mampu', 'mampukah', 'mana', 'manakala', 'manalagi', 'masa', 'masalah', 'masalahnya', 'masih', 'masihkah', 'masing', 'masing-masing', 'mau', 'maupun', 'melainkan', 'melakukan', 'melalui', 'melihat', 'melihatnya', 'memang', 'memastikan', 'memberi', 'memberikan', 'membuat', 'memerlukan', 'memihak', 'meminta', 'memintakan', 'memisalkan', 'memperbuat', 'mempergunakan', 'memperkirakan', 'memperlihatkan', 'mempersiapkan', 'mempersoalkan', 'mempertanyakan', 'mempunyai', 'memulai', 'memungkinkan', 'menaiki', 'menambahkan', 'menandaskan', 'menanti', 'menanti-nanti', 'menantikan', 'menanya', 'menanyai', 'menanyakan', 'mendapat', 'mendapatkan', 'mendatang', 'mendatangi', 'mendatangkan', 'menegaskan', 'mengakhiri', 'mengapa', 'mengatakan', 'mengatakannya', 'mengenai', 'mengerjakan', 'mengetahui', 'menggunakan', 'menghendaki', 'mengibaratkan', 'mengibaratkannya', 'mengingat', 'mengingatkan', 'menginginkan', 'mengira', 'mengucapkan', 'mengucapkannya', 'mengungkapkan', 'menjadi', 'menjawab', 'menjelaskan', 'menuju', 'menunjuk', 'menunjuki', 'menunjukkan', 'menunjuknya', 'menurut', 'menuturkan', 'menyampaikan', 'menyangkut', 'menyatakan', 'menyebutkan', 'menyeluruh', 'menyiapkan', 'merasa', 'mereka', 'merekalah', 'merupakan', 'meski', 'meskipun', 'meyakini', 'meyakinkan', 'minta', 'mirip', 'misal', 'misalkan', 'misalnya', 'mula', 'mulai', 'mulailah', 'mulanya', 'mungkin', 'mungkinkah', 'nah', 'naik', 'namun', 'nanti', 'nantinya', 'nyaris', 'nyatanya', 'oleh', 'olehnya', 'pada', 'padahal', 'padanya', 'pak', 'paling', 'panjang', 'pantas', 'para', 'pasti', 'pastilah', 'penting', 'pentingnya', 'per', 'percuma', 'perlu', 'perlukah', 'perlunya', 'pernah', 'persoalan', 'pertama', 'pertama-tama', 'pertanyaan', 'pertanyakan', 'pihak', 'pihaknya', 'pukul', 'pula', 'pun', 'punya', 'rasa', 'rasanya', 'rata', 'rupanya', 'saat', 'saatnya', 'saja', 'sajalah', 'saling', 'sama', 'sama-sama', 'sambil', 'sampai', 'sampai-sampai', 'sampaikan', 'sana', 'sangat', 'sangatlah', 'satu', 'saya', 'sayalah', 'se', 'sebab', 'sebabnya', 'sebagai', 'sebagaimana', 'sebagainya', 'sebagian', 'sebaik', 'sebaik-baiknya', 'sebaiknya', 'sebaliknya', 'sebanyak', 'sebegini', 'sebegitu', 'sebelum', 'sebelumnya', 'sebenarnya', 'seberapa', 'sebesar', 'sebetulnya', 'sebisanya', 'sebuah', 'sebut', 'sebutlah', 'sebutnya', 'secara', 'secukupnya', 'sedang', 'sedangkan', 'sedemikian', 'sedikit', 'sedikitnya', 'seenaknya', 'segala', 'segalanya', 'segera', 'seharusnya', 'sehingga', 'seingat', 'sejak', 'sejauh', 'sejenak', 'sejumlah', 'sekadar', 'sekadarnya', 'sekali', 'sekali-kali', 'sekalian', 'sekaligus', 'sekalipun', 'sekarang', 'sekarang', 'sekecil', 'seketika', 'sekiranya', 'sekitar', 'sekitarnya', 'sekurang-kurangnya', 'sekurangnya', 'sela', 'selain', 'selaku', 'selalu', 'selama', 'selama-lamanya', 'selamanya', 'selanjutnya', 'seluruh', 'seluruhnya', 'semacam', 'semakin', 'semampu', 'semampunya', 'semasa', 'semasih', 'semata', 'semata-mata', 'semaunya', 'sementara', 'semisal', 'semisalnya', 'sempat', 'semua', 'semuanya', 'semula', 'sendiri', 'sendirian', 'sendirinya', 'seolah', 'seolah-olah', 'seorang', 'sepanjang', 'sepantasnya', 'sepantasnyalah', 'seperlunya', 'seperti', 'sepertinya', 'sepihak', 'sering', 'seringnya', 'serta', 'serupa', 'sesaat', 'sesama', 'sesampai', 'sesegera', 'sesekali', 'seseorang', 'sesuatu', 'sesuatunya', 'sesudah', 'sesudahnya', 'setelah', 'setempat', 'setengah', 'seterusnya', 'setiap', 'setiba', 'setibanya', 'setidak-tidaknya', 'setidaknya', 'setinggi', 'seusai', 'sewaktu', 'siap', 'siapa', 'siapakah', 'siapapun', 'sini', 'sinilah', 'soal', 'soalnya', 'suatu', 'sudah', 'sudahkah', 'sudahlah', 'supaya', 'tadi', 'tadinya', 'tahu', 'tahun', 'tak', 'tambah', 'tambahnya', 'tampak', 'tampaknya', 'tandas', 'tandasnya', 'tanpa', 'tanya', 'tanyakan', 'tanyanya', 'tapi', 'tegas', 'tegasnya', 'telah', 'tempat', 'tengah', 'tentang', 'tentu', 'tentulah', 'tentunya', 'tepat', 'terakhir', 'terasa', 'terbanyak', 'terdahulu', 'terdapat', 'terdiri', 'terhadap', 'terhadapnya', 'teringat', 'teringat-ingat', 'terjadi', 'terjadilah', 'terjadinya', 'terkira', 'terlalu', 'terlebih', 'terlihat', 'termasuk', 'ternyata', 'tersampaikan', 'tersebut', 'tersebutlah', 'tertentu', 'tertuju', 'terus', 'terutama', 'tetap', 'tetapi', 'tiap', 'tiba', 'tiba-tiba', 'tidak', 'tidakkah', 'tidaklah', 'tiga', 'tinggi', 'toh', 'tunjuk', 'turut', 'tutur', 'tuturnya', 'ucap', 'ucapnya', 'ujar', 'ujarnya', 'umum', 'umumnya', 'ungkap', 'ungkapnya', 'untuk', 'usah', 'usai', 'waduh', 'wah', 'wahai', 'waktu', 'waktunya', 'walau', 'walaupun', 'wong', 'yaitu', 'yakin', 'yakni', 'yang', 'ini', 'di', 'kabupaten', 'ini', 'itu', 'luwuk', 'amirudin']\n"
          ]
        }
      ],
      "source": [
        "# Prepare stopword remover\n",
        "factory = StopWordRemoverFactory()\n",
        "stopwords = factory.get_stop_words() + custom_stopword\n",
        "print(stopwords)"
      ]
    },
    {
      "cell_type": "code",
      "source": [
        "# using only sastrawy\n",
        "from Sastrawi.StopWordRemover.StopWordRemoverFactory import StopWordRemoverFactory\n",
        "\n",
        "factory = StopWordRemoverFactory()\n",
        "stopwords = factory.get_stop_words()"
      ],
      "metadata": {
        "id": "GNEVmdBq8bDz"
      },
      "execution_count": 53,
      "outputs": []
    },
    {
      "cell_type": "code",
      "source": [
        "len(stopwords)"
      ],
      "metadata": {
        "colab": {
          "base_uri": "https://localhost:8080/"
        },
        "id": "j6qNtOJbuN05",
        "outputId": "acd5cfc8-711d-4fdd-f286-d1bfb4e1ba35"
      },
      "execution_count": 54,
      "outputs": [
        {
          "output_type": "execute_result",
          "data": {
            "text/plain": [
              "126"
            ]
          },
          "metadata": {},
          "execution_count": 54
        }
      ]
    },
    {
      "cell_type": "code",
      "execution_count": 55,
      "metadata": {
        "id": "ClUNuzeyjDEt"
      },
      "outputs": [],
      "source": [
        "dictionary = ArrayDictionary(stopwords)\n",
        "stopword = StopWordRemover(dictionary)"
      ]
    },
    {
      "cell_type": "code",
      "execution_count": 56,
      "metadata": {
        "id": "OCny9HuTc2UR"
      },
      "outputs": [],
      "source": [
        "def filtering(text):\n",
        "  stop = stopword.remove(text)\n",
        "  return stop"
      ]
    },
    {
      "cell_type": "code",
      "source": [
        "df"
      ],
      "metadata": {
        "id": "obxTS5DcMNWz"
      },
      "execution_count": null,
      "outputs": []
    },
    {
      "cell_type": "code",
      "execution_count": 57,
      "metadata": {
        "colab": {
          "base_uri": "https://localhost:8080/"
        },
        "id": "mvjR5IBOjjq6",
        "outputId": "d1748869-3625-4b06-bacb-1caec8e9d628"
      },
      "outputs": [
        {
          "output_type": "stream",
          "name": "stderr",
          "text": [
            "<ipython-input-57-84c28c275823>:1: SettingWithCopyWarning: \n",
            "A value is trying to be set on a copy of a slice from a DataFrame.\n",
            "Try using .loc[row_indexer,col_indexer] = value instead\n",
            "\n",
            "See the caveats in the documentation: https://pandas.pydata.org/pandas-docs/stable/user_guide/indexing.html#returning-a-view-versus-a-copy\n",
            "  df['filtered'] = df['clean_double_ws'].apply(filtering)\n"
          ]
        },
        {
          "output_type": "execute_result",
          "data": {
            "text/plain": [
              "0      kabar luwuk suasana pasar murah bersubsidi kab...\n",
              "1      kabar luwuk film horor piara mayat kreativitas...\n",
              "2      kabar luwuk festival malabot tumbe meriahkanka...\n",
              "3      kerja cepat terkoordinir penerbitan sttp kabar...\n",
              "4      kabar luwuk bawaslu banggaiperkuat koordinasi ...\n",
              "                             ...                        \n",
              "995    terasbanggai com bawaslu banggai meningkatkan ...\n",
              "996    banggai raya bupati banggai ir h amirudin mm a...\n",
              "997    terasbanggai com sempat tertunda masa uji coba...\n",
              "998    banggai januari bertempat ruang sidang hari ka...\n",
              "999    banggai raya bawaslu kabupaten banggai menggel...\n",
              "Name: filtered, Length: 975, dtype: object"
            ]
          },
          "metadata": {},
          "execution_count": 57
        }
      ],
      "source": [
        "df['filtered'] = df['clean_double_ws'].apply(filtering)\n",
        "df['filtered']"
      ]
    },
    {
      "cell_type": "code",
      "source": [
        "df.head()"
      ],
      "metadata": {
        "id": "zzG-hnrhM1zj",
        "colab": {
          "base_uri": "https://localhost:8080/",
          "height": 9281
        },
        "outputId": "55d8c1bc-c51d-4481-cca9-98bb844a559a"
      },
      "execution_count": 58,
      "outputs": [
        {
          "output_type": "execute_result",
          "data": {
            "text/plain": [
              "    target                                              title  \\\n",
              "0  banggai  Mobil Sim Keliling Polres Banggai Meriahkan Pa...   \n",
              "1  banggai  Film Horor “Piara Mayat”,  Kreativitas Anak Mu...   \n",
              "2  banggai  Festival Malabot Tumbe 2023 Kembali Meriahkan ...   \n",
              "3  banggai  Rakor Kampanye Damai Pemilu 2024, Polres Bangg...   \n",
              "4  banggai  Bawaslu Banggai Perkuat Koordinasi dengan Panw...   \n",
              "\n",
              "                                                text  \\\n",
              "0  KABAR LUWUK –  Suasana Pasar Murah bersubsidi ...   \n",
              "1  KABAR LUWUK  –  Film Horor“Piara Mayat”,Kreati...   \n",
              "2  KABAR LUWUK  –Festival Malabot Tumbe 2023Kemba...   \n",
              "3  “Kerja Cepat dan Terkoordinir dalam Penerbitan...   \n",
              "4  KABAR LUWUK  –Bawaslu BanggaiPerkuat Koordinas...   \n",
              "\n",
              "                                                 lwr  \\\n",
              "0  kabar luwuk –  suasana pasar murah bersubsidi ...   \n",
              "1  kabar luwuk  –  film horor“piara mayat”,kreati...   \n",
              "2  kabar luwuk  –festival malabot tumbe 2023kemba...   \n",
              "3  “kerja cepat dan terkoordinir dalam penerbitan...   \n",
              "4  kabar luwuk  –bawaslu banggaiperkuat koordinas...   \n",
              "\n",
              "                                        clean_number  \\\n",
              "0  kabar luwuk –  suasana pasar murah bersubsidi ...   \n",
              "1  kabar luwuk  –  film horor“piara mayat”,kreati...   \n",
              "2  kabar luwuk  –festival malabot tumbe kembali m...   \n",
              "3  “kerja cepat dan terkoordinir dalam penerbitan...   \n",
              "4  kabar luwuk  –bawaslu banggaiperkuat koordinas...   \n",
              "\n",
              "                                         clean_punct  \\\n",
              "0  kabar luwuk    suasana pasar murah bersubsidi ...   \n",
              "1  kabar luwuk     film horor piara mayat kreativ...   \n",
              "2  kabar luwuk   festival malabot tumbe kembali m...   \n",
              "3   kerja cepat dan terkoordinir dalam penerbitan...   \n",
              "4  kabar luwuk   bawaslu banggaiperkuat koordinas...   \n",
              "\n",
              "                                     clean_double_ws  \\\n",
              "0  kabar luwuk suasana pasar murah bersubsidi di ...   \n",
              "1  kabar luwuk film horor piara mayat kreativitas...   \n",
              "2  kabar luwuk festival malabot tumbe kembali mer...   \n",
              "3  kerja cepat dan terkoordinir dalam penerbitan ...   \n",
              "4  kabar luwuk bawaslu banggaiperkuat koordinasi ...   \n",
              "\n",
              "                                             stemmed  \\\n",
              "0  kabar luwuk suasana pasar murah subsidi di kab...   \n",
              "1  kabar luwuk film horor piara mayat kreativitas...   \n",
              "2  kabar luwuk festival malabot tumbe kembali mer...   \n",
              "3  kerja cepat dan terkoordinir dalam terbit sttp...   \n",
              "4  kabar luwuk bawaslu banggaiperkuat koordinasi ...   \n",
              "\n",
              "                                            filtered  \n",
              "0  kabar luwuk suasana pasar murah bersubsidi kab...  \n",
              "1  kabar luwuk film horor piara mayat kreativitas...  \n",
              "2  kabar luwuk festival malabot tumbe meriahkanka...  \n",
              "3  kerja cepat terkoordinir penerbitan sttp kabar...  \n",
              "4  kabar luwuk bawaslu banggaiperkuat koordinasi ...  "
            ],
            "text/html": [
              "\n",
              "  <div id=\"df-3dc1b0ae-62bf-47cc-80aa-a1b48ac6481a\" class=\"colab-df-container\">\n",
              "    <div>\n",
              "<style scoped>\n",
              "    .dataframe tbody tr th:only-of-type {\n",
              "        vertical-align: middle;\n",
              "    }\n",
              "\n",
              "    .dataframe tbody tr th {\n",
              "        vertical-align: top;\n",
              "    }\n",
              "\n",
              "    .dataframe thead th {\n",
              "        text-align: right;\n",
              "    }\n",
              "</style>\n",
              "<table border=\"1\" class=\"dataframe\">\n",
              "  <thead>\n",
              "    <tr style=\"text-align: right;\">\n",
              "      <th></th>\n",
              "      <th>target</th>\n",
              "      <th>title</th>\n",
              "      <th>text</th>\n",
              "      <th>lwr</th>\n",
              "      <th>clean_number</th>\n",
              "      <th>clean_punct</th>\n",
              "      <th>clean_double_ws</th>\n",
              "      <th>stemmed</th>\n",
              "      <th>filtered</th>\n",
              "    </tr>\n",
              "  </thead>\n",
              "  <tbody>\n",
              "    <tr>\n",
              "      <th>0</th>\n",
              "      <td>banggai</td>\n",
              "      <td>Mobil Sim Keliling Polres Banggai Meriahkan Pa...</td>\n",
              "      <td>KABAR LUWUK –  Suasana Pasar Murah bersubsidi ...</td>\n",
              "      <td>kabar luwuk –  suasana pasar murah bersubsidi ...</td>\n",
              "      <td>kabar luwuk –  suasana pasar murah bersubsidi ...</td>\n",
              "      <td>kabar luwuk    suasana pasar murah bersubsidi ...</td>\n",
              "      <td>kabar luwuk suasana pasar murah bersubsidi di ...</td>\n",
              "      <td>kabar luwuk suasana pasar murah subsidi di kab...</td>\n",
              "      <td>kabar luwuk suasana pasar murah bersubsidi kab...</td>\n",
              "    </tr>\n",
              "    <tr>\n",
              "      <th>1</th>\n",
              "      <td>banggai</td>\n",
              "      <td>Film Horor “Piara Mayat”,  Kreativitas Anak Mu...</td>\n",
              "      <td>KABAR LUWUK  –  Film Horor“Piara Mayat”,Kreati...</td>\n",
              "      <td>kabar luwuk  –  film horor“piara mayat”,kreati...</td>\n",
              "      <td>kabar luwuk  –  film horor“piara mayat”,kreati...</td>\n",
              "      <td>kabar luwuk     film horor piara mayat kreativ...</td>\n",
              "      <td>kabar luwuk film horor piara mayat kreativitas...</td>\n",
              "      <td>kabar luwuk film horor piara mayat kreativitas...</td>\n",
              "      <td>kabar luwuk film horor piara mayat kreativitas...</td>\n",
              "    </tr>\n",
              "    <tr>\n",
              "      <th>2</th>\n",
              "      <td>banggai</td>\n",
              "      <td>Festival Malabot Tumbe 2023 Kembali Meriahkan ...</td>\n",
              "      <td>KABAR LUWUK  –Festival Malabot Tumbe 2023Kemba...</td>\n",
              "      <td>kabar luwuk  –festival malabot tumbe 2023kemba...</td>\n",
              "      <td>kabar luwuk  –festival malabot tumbe kembali m...</td>\n",
              "      <td>kabar luwuk   festival malabot tumbe kembali m...</td>\n",
              "      <td>kabar luwuk festival malabot tumbe kembali mer...</td>\n",
              "      <td>kabar luwuk festival malabot tumbe kembali mer...</td>\n",
              "      <td>kabar luwuk festival malabot tumbe meriahkanka...</td>\n",
              "    </tr>\n",
              "    <tr>\n",
              "      <th>3</th>\n",
              "      <td>banggai</td>\n",
              "      <td>Rakor Kampanye Damai Pemilu 2024, Polres Bangg...</td>\n",
              "      <td>“Kerja Cepat dan Terkoordinir dalam Penerbitan...</td>\n",
              "      <td>“kerja cepat dan terkoordinir dalam penerbitan...</td>\n",
              "      <td>“kerja cepat dan terkoordinir dalam penerbitan...</td>\n",
              "      <td>kerja cepat dan terkoordinir dalam penerbitan...</td>\n",
              "      <td>kerja cepat dan terkoordinir dalam penerbitan ...</td>\n",
              "      <td>kerja cepat dan terkoordinir dalam terbit sttp...</td>\n",
              "      <td>kerja cepat terkoordinir penerbitan sttp kabar...</td>\n",
              "    </tr>\n",
              "    <tr>\n",
              "      <th>4</th>\n",
              "      <td>banggai</td>\n",
              "      <td>Bawaslu Banggai Perkuat Koordinasi dengan Panw...</td>\n",
              "      <td>KABAR LUWUK  –Bawaslu BanggaiPerkuat Koordinas...</td>\n",
              "      <td>kabar luwuk  –bawaslu banggaiperkuat koordinas...</td>\n",
              "      <td>kabar luwuk  –bawaslu banggaiperkuat koordinas...</td>\n",
              "      <td>kabar luwuk   bawaslu banggaiperkuat koordinas...</td>\n",
              "      <td>kabar luwuk bawaslu banggaiperkuat koordinasi ...</td>\n",
              "      <td>kabar luwuk bawaslu banggaiperkuat koordinasi ...</td>\n",
              "      <td>kabar luwuk bawaslu banggaiperkuat koordinasi ...</td>\n",
              "    </tr>\n",
              "  </tbody>\n",
              "</table>\n",
              "</div>\n",
              "    <div class=\"colab-df-buttons\">\n",
              "\n",
              "  <div class=\"colab-df-container\">\n",
              "    <button class=\"colab-df-convert\" onclick=\"convertToInteractive('df-3dc1b0ae-62bf-47cc-80aa-a1b48ac6481a')\"\n",
              "            title=\"Convert this dataframe to an interactive table.\"\n",
              "            style=\"display:none;\">\n",
              "\n",
              "  <svg xmlns=\"http://www.w3.org/2000/svg\" height=\"24px\" viewBox=\"0 -960 960 960\">\n",
              "    <path d=\"M120-120v-720h720v720H120Zm60-500h600v-160H180v160Zm220 220h160v-160H400v160Zm0 220h160v-160H400v160ZM180-400h160v-160H180v160Zm440 0h160v-160H620v160ZM180-180h160v-160H180v160Zm440 0h160v-160H620v160Z\"/>\n",
              "  </svg>\n",
              "    </button>\n",
              "\n",
              "  <style>\n",
              "    .colab-df-container {\n",
              "      display:flex;\n",
              "      gap: 12px;\n",
              "    }\n",
              "\n",
              "    .colab-df-convert {\n",
              "      background-color: #E8F0FE;\n",
              "      border: none;\n",
              "      border-radius: 50%;\n",
              "      cursor: pointer;\n",
              "      display: none;\n",
              "      fill: #1967D2;\n",
              "      height: 32px;\n",
              "      padding: 0 0 0 0;\n",
              "      width: 32px;\n",
              "    }\n",
              "\n",
              "    .colab-df-convert:hover {\n",
              "      background-color: #E2EBFA;\n",
              "      box-shadow: 0px 1px 2px rgba(60, 64, 67, 0.3), 0px 1px 3px 1px rgba(60, 64, 67, 0.15);\n",
              "      fill: #174EA6;\n",
              "    }\n",
              "\n",
              "    .colab-df-buttons div {\n",
              "      margin-bottom: 4px;\n",
              "    }\n",
              "\n",
              "    [theme=dark] .colab-df-convert {\n",
              "      background-color: #3B4455;\n",
              "      fill: #D2E3FC;\n",
              "    }\n",
              "\n",
              "    [theme=dark] .colab-df-convert:hover {\n",
              "      background-color: #434B5C;\n",
              "      box-shadow: 0px 1px 3px 1px rgba(0, 0, 0, 0.15);\n",
              "      filter: drop-shadow(0px 1px 2px rgba(0, 0, 0, 0.3));\n",
              "      fill: #FFFFFF;\n",
              "    }\n",
              "  </style>\n",
              "\n",
              "    <script>\n",
              "      const buttonEl =\n",
              "        document.querySelector('#df-3dc1b0ae-62bf-47cc-80aa-a1b48ac6481a button.colab-df-convert');\n",
              "      buttonEl.style.display =\n",
              "        google.colab.kernel.accessAllowed ? 'block' : 'none';\n",
              "\n",
              "      async function convertToInteractive(key) {\n",
              "        const element = document.querySelector('#df-3dc1b0ae-62bf-47cc-80aa-a1b48ac6481a');\n",
              "        const dataTable =\n",
              "          await google.colab.kernel.invokeFunction('convertToInteractive',\n",
              "                                                    [key], {});\n",
              "        if (!dataTable) return;\n",
              "\n",
              "        const docLinkHtml = 'Like what you see? Visit the ' +\n",
              "          '<a target=\"_blank\" href=https://colab.research.google.com/notebooks/data_table.ipynb>data table notebook</a>'\n",
              "          + ' to learn more about interactive tables.';\n",
              "        element.innerHTML = '';\n",
              "        dataTable['output_type'] = 'display_data';\n",
              "        await google.colab.output.renderOutput(dataTable, element);\n",
              "        const docLink = document.createElement('div');\n",
              "        docLink.innerHTML = docLinkHtml;\n",
              "        element.appendChild(docLink);\n",
              "      }\n",
              "    </script>\n",
              "  </div>\n",
              "\n",
              "\n",
              "<div id=\"df-5d2a3fec-e341-4b27-96c1-c3e5ebf96285\">\n",
              "  <button class=\"colab-df-quickchart\" onclick=\"quickchart('df-5d2a3fec-e341-4b27-96c1-c3e5ebf96285')\"\n",
              "            title=\"Suggest charts\"\n",
              "            style=\"display:none;\">\n",
              "\n",
              "<svg xmlns=\"http://www.w3.org/2000/svg\" height=\"24px\"viewBox=\"0 0 24 24\"\n",
              "     width=\"24px\">\n",
              "    <g>\n",
              "        <path d=\"M19 3H5c-1.1 0-2 .9-2 2v14c0 1.1.9 2 2 2h14c1.1 0 2-.9 2-2V5c0-1.1-.9-2-2-2zM9 17H7v-7h2v7zm4 0h-2V7h2v10zm4 0h-2v-4h2v4z\"/>\n",
              "    </g>\n",
              "</svg>\n",
              "  </button>\n",
              "\n",
              "<style>\n",
              "  .colab-df-quickchart {\n",
              "      --bg-color: #E8F0FE;\n",
              "      --fill-color: #1967D2;\n",
              "      --hover-bg-color: #E2EBFA;\n",
              "      --hover-fill-color: #174EA6;\n",
              "      --disabled-fill-color: #AAA;\n",
              "      --disabled-bg-color: #DDD;\n",
              "  }\n",
              "\n",
              "  [theme=dark] .colab-df-quickchart {\n",
              "      --bg-color: #3B4455;\n",
              "      --fill-color: #D2E3FC;\n",
              "      --hover-bg-color: #434B5C;\n",
              "      --hover-fill-color: #FFFFFF;\n",
              "      --disabled-bg-color: #3B4455;\n",
              "      --disabled-fill-color: #666;\n",
              "  }\n",
              "\n",
              "  .colab-df-quickchart {\n",
              "    background-color: var(--bg-color);\n",
              "    border: none;\n",
              "    border-radius: 50%;\n",
              "    cursor: pointer;\n",
              "    display: none;\n",
              "    fill: var(--fill-color);\n",
              "    height: 32px;\n",
              "    padding: 0;\n",
              "    width: 32px;\n",
              "  }\n",
              "\n",
              "  .colab-df-quickchart:hover {\n",
              "    background-color: var(--hover-bg-color);\n",
              "    box-shadow: 0 1px 2px rgba(60, 64, 67, 0.3), 0 1px 3px 1px rgba(60, 64, 67, 0.15);\n",
              "    fill: var(--button-hover-fill-color);\n",
              "  }\n",
              "\n",
              "  .colab-df-quickchart-complete:disabled,\n",
              "  .colab-df-quickchart-complete:disabled:hover {\n",
              "    background-color: var(--disabled-bg-color);\n",
              "    fill: var(--disabled-fill-color);\n",
              "    box-shadow: none;\n",
              "  }\n",
              "\n",
              "  .colab-df-spinner {\n",
              "    border: 2px solid var(--fill-color);\n",
              "    border-color: transparent;\n",
              "    border-bottom-color: var(--fill-color);\n",
              "    animation:\n",
              "      spin 1s steps(1) infinite;\n",
              "  }\n",
              "\n",
              "  @keyframes spin {\n",
              "    0% {\n",
              "      border-color: transparent;\n",
              "      border-bottom-color: var(--fill-color);\n",
              "      border-left-color: var(--fill-color);\n",
              "    }\n",
              "    20% {\n",
              "      border-color: transparent;\n",
              "      border-left-color: var(--fill-color);\n",
              "      border-top-color: var(--fill-color);\n",
              "    }\n",
              "    30% {\n",
              "      border-color: transparent;\n",
              "      border-left-color: var(--fill-color);\n",
              "      border-top-color: var(--fill-color);\n",
              "      border-right-color: var(--fill-color);\n",
              "    }\n",
              "    40% {\n",
              "      border-color: transparent;\n",
              "      border-right-color: var(--fill-color);\n",
              "      border-top-color: var(--fill-color);\n",
              "    }\n",
              "    60% {\n",
              "      border-color: transparent;\n",
              "      border-right-color: var(--fill-color);\n",
              "    }\n",
              "    80% {\n",
              "      border-color: transparent;\n",
              "      border-right-color: var(--fill-color);\n",
              "      border-bottom-color: var(--fill-color);\n",
              "    }\n",
              "    90% {\n",
              "      border-color: transparent;\n",
              "      border-bottom-color: var(--fill-color);\n",
              "    }\n",
              "  }\n",
              "</style>\n",
              "\n",
              "  <script>\n",
              "    async function quickchart(key) {\n",
              "      const quickchartButtonEl =\n",
              "        document.querySelector('#' + key + ' button');\n",
              "      quickchartButtonEl.disabled = true;  // To prevent multiple clicks.\n",
              "      quickchartButtonEl.classList.add('colab-df-spinner');\n",
              "      try {\n",
              "        const charts = await google.colab.kernel.invokeFunction(\n",
              "            'suggestCharts', [key], {});\n",
              "      } catch (error) {\n",
              "        console.error('Error during call to suggestCharts:', error);\n",
              "      }\n",
              "      quickchartButtonEl.classList.remove('colab-df-spinner');\n",
              "      quickchartButtonEl.classList.add('colab-df-quickchart-complete');\n",
              "    }\n",
              "    (() => {\n",
              "      let quickchartButtonEl =\n",
              "        document.querySelector('#df-5d2a3fec-e341-4b27-96c1-c3e5ebf96285 button');\n",
              "      quickchartButtonEl.style.display =\n",
              "        google.colab.kernel.accessAllowed ? 'block' : 'none';\n",
              "    })();\n",
              "  </script>\n",
              "</div>\n",
              "    </div>\n",
              "  </div>\n"
            ],
            "application/vnd.google.colaboratory.intrinsic+json": {
              "type": "dataframe",
              "variable_name": "df",
              "summary": "{\n  \"name\": \"df\",\n  \"rows\": 975,\n  \"fields\": [\n    {\n      \"column\": \"target\",\n      \"properties\": {\n        \"dtype\": \"category\",\n        \"num_unique_values\": 1,\n        \"samples\": [\n          \"banggai\"\n        ],\n        \"semantic_type\": \"\",\n        \"description\": \"\"\n      }\n    },\n    {\n      \"column\": \"title\",\n      \"properties\": {\n        \"dtype\": \"string\",\n        \"num_unique_values\": 975,\n        \"samples\": [\n          \"Polres Banggai Perluas Layanan SKCK Hingga Larut Malam, Masyarakat Dapat Manfaatkan Kemudahan Pengurusan bagi Para Lulus PPPK\"\n        ],\n        \"semantic_type\": \"\",\n        \"description\": \"\"\n      }\n    },\n    {\n      \"column\": \"text\",\n      \"properties\": {\n        \"dtype\": \"string\",\n        \"num_unique_values\": 958,\n        \"samples\": [\n          \"BANGGAI RAYA- Bupati Banggai Amirudin mengikuti kegiatan wawancara Paritrana Award Tingkat Provinsi Sulawesi Tengah dengan nominasi penghargaan Jaminan Sosial Ketenagakerjaan kategori nominasi pemerintah kabupaten/kota, pada Selasa (27/2/2024), bertempat di Hotel Aston, Palu.Paritrana Award merupakan penghargaan yang diberikan pemerintah pusat kepada pemerintah daerah, dan perusahaan badan usaha yang memiliki kepedulian (awareness) tinggi, dan citra positif terhadap program jaminan sosial ketenagakerjaan.Pada kesempatan tersebut, Bupati Amirudin memaparkan kebijakan pemerintah daerah terkait implementasi Program Jaminan Sosial Ketenagakerjaan, yang merupakan bagian dari upaya menindaklanjuti Instruksi Presiden (INPRES) Nomor 2 Tahun 2021 tentang optimalisasi pelaksanaan program jaminan sosial ketenagakerjaan.BACA JUGA:Pemilu 2024, Bali Mang Melangkah ke DPRD SultengSebagai bentuk keseriusan, lanjut Bupati Amirudin, Pemkab Banggai menindaklanjuti Inpres Nomor 2 Tahun 2021 tersebut dengan mengeluarkan Peraturan Bupati (Perbup) Nomor 32 Tahun 2021 tentang pelaksanaan program Jaminan Sosial Ketenagakerjaan di daerah dan Keputusan Bupati Banggai Nomor 560/935/NAKERTRANS tentang tim koordinasi pembinaan dan pemantauan terhadap pelaksanaan program BPJS Ketenagakerjaan di Kabupaten Banggai.Tidak hanya sampai di situ, upaya penguatan regulasi daerah dan perlindungan pekerja tersebut, maka ditingkatkan status regulasi dari Peraturan Bupati (Perbup) menjadi Peraturan Daerah (Perda) dengan ditetapkannya Perda Nomor 9 Tahun 2023 tentang Optimalisasi Penyelenggaraan Program Jaminan Sosial Ketenagakerjaan.BACA JUGA:Tak Terima Diberhentikan, Sekdes Segel Kantor Desa Solan BaruUntuk tahun 2023 melalui APBD telah dianggarkan iuran kepesertaan BPJS Ketenagakerjaan untuk program Jaminan Kecelakaan Kerja (JKK) dan Jaminan Kematian (JKM) bagi 13.765 orang tenaga kerja.Keterlibatan Bupati Banggai dalam wawancara ini menegaskan komitmen Pemerintah Kabupaten Banggai dalam memberikan perlindungan sosial yang memadai bagi para tenaga kerja di wilayah tersebut.Presentasi yang disampaikan oleh Bupati Amirudin memberikan gambaran yang jelas mengenai upaya konkret yang telah dilakukan untuk meningkatkan kesejahteraan dan keamanan sosial bagi masyarakat Banggai.Adapun yang menjadi tim penilai kegiatan ini terdiri dari Setda Provinsi, Dra. Novalina, MM., Kepala BPJS Ketenagakerjaan Provinsi Sulawesi Tengah, A. Syamsul Rijal, Kadis Nakertrans Provinsi, Drs. Arnould Firdaus, MT, Ahli ekonomi, Mohammad Ahlis Djirimu, SE, DEA.Phd, Ahli Kebijakan Publik : Dr.Drs Muzakir Tawil. M.Si, Ahli Hukum, Dr. H. Abdur Rasyid thalib S.H, Ahli Jaminan Sosial, Drs.H.Arifuddin Bidin, Ketua DPD APINDO, H. Achrul Udaya, dan Serikat Buruh, Karlan ladandu.BACA JUGA:Asia Muslim Charity Foundation Luncurkan Kapal Kemanusiaan untuk Perairan SultengKehadiran Bupati Banggai dalam acara ini menandai langkah nyata dalam membangun sistem jaminan sosial yang inklusif dan berkeadilan bagi seluruh masyarakat Kabupaten Banggai.**\"\n        ],\n        \"semantic_type\": \"\",\n        \"description\": \"\"\n      }\n    },\n    {\n      \"column\": \"lwr\",\n      \"properties\": {\n        \"dtype\": \"string\",\n        \"num_unique_values\": 958,\n        \"samples\": [\n          \"banggai raya- bupati banggai amirudin mengikuti kegiatan wawancara paritrana award tingkat provinsi sulawesi tengah dengan nominasi penghargaan jaminan sosial ketenagakerjaan kategori nominasi pemerintah kabupaten/kota, pada selasa (27/2/2024), bertempat di hotel aston, palu.paritrana award merupakan penghargaan yang diberikan pemerintah pusat kepada pemerintah daerah, dan perusahaan badan usaha yang memiliki kepedulian (awareness) tinggi, dan citra positif terhadap program jaminan sosial ketenagakerjaan.pada kesempatan tersebut, bupati amirudin memaparkan kebijakan pemerintah daerah terkait implementasi program jaminan sosial ketenagakerjaan, yang merupakan bagian dari upaya menindaklanjuti instruksi presiden (inpres) nomor 2 tahun 2021 tentang optimalisasi pelaksanaan program jaminan sosial ketenagakerjaan.baca juga:pemilu 2024, bali mang melangkah ke dprd sultengsebagai bentuk keseriusan, lanjut bupati amirudin, pemkab banggai menindaklanjuti inpres nomor 2 tahun 2021 tersebut dengan mengeluarkan peraturan bupati (perbup) nomor 32 tahun 2021 tentang pelaksanaan program jaminan sosial ketenagakerjaan di daerah dan keputusan bupati banggai nomor 560/935/nakertrans tentang tim koordinasi pembinaan dan pemantauan terhadap pelaksanaan program bpjs ketenagakerjaan di kabupaten banggai.tidak hanya sampai di situ, upaya penguatan regulasi daerah dan perlindungan pekerja tersebut, maka ditingkatkan status regulasi dari peraturan bupati (perbup) menjadi peraturan daerah (perda) dengan ditetapkannya perda nomor 9 tahun 2023 tentang optimalisasi penyelenggaraan program jaminan sosial ketenagakerjaan.baca juga:tak terima diberhentikan, sekdes segel kantor desa solan baruuntuk tahun 2023 melalui apbd telah dianggarkan iuran kepesertaan bpjs ketenagakerjaan untuk program jaminan kecelakaan kerja (jkk) dan jaminan kematian (jkm) bagi 13.765 orang tenaga kerja.keterlibatan bupati banggai dalam wawancara ini menegaskan komitmen pemerintah kabupaten banggai dalam memberikan perlindungan sosial yang memadai bagi para tenaga kerja di wilayah tersebut.presentasi yang disampaikan oleh bupati amirudin memberikan gambaran yang jelas mengenai upaya konkret yang telah dilakukan untuk meningkatkan kesejahteraan dan keamanan sosial bagi masyarakat banggai.adapun yang menjadi tim penilai kegiatan ini terdiri dari setda provinsi, dra. novalina, mm., kepala bpjs ketenagakerjaan provinsi sulawesi tengah, a. syamsul rijal, kadis nakertrans provinsi, drs. arnould firdaus, mt, ahli ekonomi, mohammad ahlis djirimu, se, dea.phd, ahli kebijakan publik : dr.drs muzakir tawil. m.si, ahli hukum, dr. h. abdur rasyid thalib s.h, ahli jaminan sosial, drs.h.arifuddin bidin, ketua dpd apindo, h. achrul udaya, dan serikat buruh, karlan ladandu.baca juga:asia muslim charity foundation luncurkan kapal kemanusiaan untuk perairan sultengkehadiran bupati banggai dalam acara ini menandai langkah nyata dalam membangun sistem jaminan sosial yang inklusif dan berkeadilan bagi seluruh masyarakat kabupaten banggai.**\"\n        ],\n        \"semantic_type\": \"\",\n        \"description\": \"\"\n      }\n    },\n    {\n      \"column\": \"clean_number\",\n      \"properties\": {\n        \"dtype\": \"string\",\n        \"num_unique_values\": 958,\n        \"samples\": [\n          \"banggai raya- bupati banggai amirudin mengikuti kegiatan wawancara paritrana award tingkat provinsi sulawesi tengah dengan nominasi penghargaan jaminan sosial ketenagakerjaan kategori nominasi pemerintah kabupaten/kota, pada selasa (//), bertempat di hotel aston, palu.paritrana award merupakan penghargaan yang diberikan pemerintah pusat kepada pemerintah daerah, dan perusahaan badan usaha yang memiliki kepedulian (awareness) tinggi, dan citra positif terhadap program jaminan sosial ketenagakerjaan.pada kesempatan tersebut, bupati amirudin memaparkan kebijakan pemerintah daerah terkait implementasi program jaminan sosial ketenagakerjaan, yang merupakan bagian dari upaya menindaklanjuti instruksi presiden (inpres) nomor  tahun  tentang optimalisasi pelaksanaan program jaminan sosial ketenagakerjaan.baca juga:pemilu , bali mang melangkah ke dprd sultengsebagai bentuk keseriusan, lanjut bupati amirudin, pemkab banggai menindaklanjuti inpres nomor  tahun  tersebut dengan mengeluarkan peraturan bupati (perbup) nomor  tahun  tentang pelaksanaan program jaminan sosial ketenagakerjaan di daerah dan keputusan bupati banggai nomor //nakertrans tentang tim koordinasi pembinaan dan pemantauan terhadap pelaksanaan program bpjs ketenagakerjaan di kabupaten banggai.tidak hanya sampai di situ, upaya penguatan regulasi daerah dan perlindungan pekerja tersebut, maka ditingkatkan status regulasi dari peraturan bupati (perbup) menjadi peraturan daerah (perda) dengan ditetapkannya perda nomor  tahun  tentang optimalisasi penyelenggaraan program jaminan sosial ketenagakerjaan.baca juga:tak terima diberhentikan, sekdes segel kantor desa solan baruuntuk tahun  melalui apbd telah dianggarkan iuran kepesertaan bpjs ketenagakerjaan untuk program jaminan kecelakaan kerja (jkk) dan jaminan kematian (jkm) bagi . orang tenaga kerja.keterlibatan bupati banggai dalam wawancara ini menegaskan komitmen pemerintah kabupaten banggai dalam memberikan perlindungan sosial yang memadai bagi para tenaga kerja di wilayah tersebut.presentasi yang disampaikan oleh bupati amirudin memberikan gambaran yang jelas mengenai upaya konkret yang telah dilakukan untuk meningkatkan kesejahteraan dan keamanan sosial bagi masyarakat banggai.adapun yang menjadi tim penilai kegiatan ini terdiri dari setda provinsi, dra. novalina, mm., kepala bpjs ketenagakerjaan provinsi sulawesi tengah, a. syamsul rijal, kadis nakertrans provinsi, drs. arnould firdaus, mt, ahli ekonomi, mohammad ahlis djirimu, se, dea.phd, ahli kebijakan publik : dr.drs muzakir tawil. m.si, ahli hukum, dr. h. abdur rasyid thalib s.h, ahli jaminan sosial, drs.h.arifuddin bidin, ketua dpd apindo, h. achrul udaya, dan serikat buruh, karlan ladandu.baca juga:asia muslim charity foundation luncurkan kapal kemanusiaan untuk perairan sultengkehadiran bupati banggai dalam acara ini menandai langkah nyata dalam membangun sistem jaminan sosial yang inklusif dan berkeadilan bagi seluruh masyarakat kabupaten banggai.**\"\n        ],\n        \"semantic_type\": \"\",\n        \"description\": \"\"\n      }\n    },\n    {\n      \"column\": \"clean_punct\",\n      \"properties\": {\n        \"dtype\": \"string\",\n        \"num_unique_values\": 958,\n        \"samples\": [\n          \"banggai raya  bupati banggai amirudin mengikuti kegiatan wawancara paritrana award tingkat provinsi sulawesi tengah dengan nominasi penghargaan jaminan sosial ketenagakerjaan kategori nominasi pemerintah kabupatenkota pada selasa  bertempat di hotel aston palu paritrana award merupakan penghargaan yang diberikan pemerintah pusat kepada pemerintah daerah dan perusahaan badan usaha yang memiliki kepedulian awareness tinggi dan citra positif terhadap program jaminan sosial ketenagakerjaan pada kesempatan tersebut bupati amirudin memaparkan kebijakan pemerintah daerah terkait implementasi program jaminan sosial ketenagakerjaan yang merupakan bagian dari upaya menindaklanjuti instruksi presiden inpres nomor  tahun  tentang optimalisasi pelaksanaan program jaminan sosial ketenagakerjaan baca juga pemilu  bali mang melangkah ke dprd sultengsebagai bentuk keseriusan lanjut bupati amirudin pemkab banggai menindaklanjuti inpres nomor  tahun  tersebut dengan mengeluarkan peraturan bupati perbup nomor  tahun  tentang pelaksanaan program jaminan sosial ketenagakerjaan di daerah dan keputusan bupati banggai nomor nakertrans tentang tim koordinasi pembinaan dan pemantauan terhadap pelaksanaan program bpjs ketenagakerjaan di kabupaten banggai tidak hanya sampai di situ upaya penguatan regulasi daerah dan perlindungan pekerja tersebut maka ditingkatkan status regulasi dari peraturan bupati perbup menjadi peraturan daerah perda dengan ditetapkannya perda nomor  tahun  tentang optimalisasi penyelenggaraan program jaminan sosial ketenagakerjaan baca juga tak terima diberhentikan sekdes segel kantor desa solan baruuntuk tahun  melalui apbd telah dianggarkan iuran kepesertaan bpjs ketenagakerjaan untuk program jaminan kecelakaan kerja jkk dan jaminan kematian jkm bagi   orang tenaga kerja keterlibatan bupati banggai dalam wawancara ini menegaskan komitmen pemerintah kabupaten banggai dalam memberikan perlindungan sosial yang memadai bagi para tenaga kerja di wilayah tersebut presentasi yang disampaikan oleh bupati amirudin memberikan gambaran yang jelas mengenai upaya konkret yang telah dilakukan untuk meningkatkan kesejahteraan dan keamanan sosial bagi masyarakat banggai adapun yang menjadi tim penilai kegiatan ini terdiri dari setda provinsi dra  novalina mm  kepala bpjs ketenagakerjaan provinsi sulawesi tengah a  syamsul rijal kadis nakertrans provinsi drs  arnould firdaus mt ahli ekonomi mohammad ahlis djirimu se dea phd ahli kebijakan publik   dr drs muzakir tawil  m si ahli hukum dr  h  abdur rasyid thalib s h ahli jaminan sosial drs h arifuddin bidin ketua dpd apindo h  achrul udaya dan serikat buruh karlan ladandu baca juga asia muslim charity foundation luncurkan kapal kemanusiaan untuk perairan sultengkehadiran bupati banggai dalam acara ini menandai langkah nyata dalam membangun sistem jaminan sosial yang inklusif dan berkeadilan bagi seluruh masyarakat kabupaten banggai   \"\n        ],\n        \"semantic_type\": \"\",\n        \"description\": \"\"\n      }\n    },\n    {\n      \"column\": \"clean_double_ws\",\n      \"properties\": {\n        \"dtype\": \"string\",\n        \"num_unique_values\": 957,\n        \"samples\": [\n          \"banggai raya bupati banggai amirudin mengikuti kegiatan wawancara paritrana award tingkat provinsi sulawesi tengah dengan nominasi penghargaan jaminan sosial ketenagakerjaan kategori nominasi pemerintah kabupatenkota pada selasa bertempat di hotel aston palu paritrana award merupakan penghargaan yang diberikan pemerintah pusat kepada pemerintah daerah dan perusahaan badan usaha yang memiliki kepedulian awareness tinggi dan citra positif terhadap program jaminan sosial ketenagakerjaan pada kesempatan tersebut bupati amirudin memaparkan kebijakan pemerintah daerah terkait implementasi program jaminan sosial ketenagakerjaan yang merupakan bagian dari upaya menindaklanjuti instruksi presiden inpres nomor tahun tentang optimalisasi pelaksanaan program jaminan sosial ketenagakerjaan baca juga pemilu bali mang melangkah ke dprd sultengsebagai bentuk keseriusan lanjut bupati amirudin pemkab banggai menindaklanjuti inpres nomor tahun tersebut dengan mengeluarkan peraturan bupati perbup nomor tahun tentang pelaksanaan program jaminan sosial ketenagakerjaan di daerah dan keputusan bupati banggai nomor nakertrans tentang tim koordinasi pembinaan dan pemantauan terhadap pelaksanaan program bpjs ketenagakerjaan di kabupaten banggai tidak hanya sampai di situ upaya penguatan regulasi daerah dan perlindungan pekerja tersebut maka ditingkatkan status regulasi dari peraturan bupati perbup menjadi peraturan daerah perda dengan ditetapkannya perda nomor tahun tentang optimalisasi penyelenggaraan program jaminan sosial ketenagakerjaan baca juga tak terima diberhentikan sekdes segel kantor desa solan baruuntuk tahun melalui apbd telah dianggarkan iuran kepesertaan bpjs ketenagakerjaan untuk program jaminan kecelakaan kerja jkk dan jaminan kematian jkm bagi orang tenaga kerja keterlibatan bupati banggai dalam wawancara ini menegaskan komitmen pemerintah kabupaten banggai dalam memberikan perlindungan sosial yang memadai bagi para tenaga kerja di wilayah tersebut presentasi yang disampaikan oleh bupati amirudin memberikan gambaran yang jelas mengenai upaya konkret yang telah dilakukan untuk meningkatkan kesejahteraan dan keamanan sosial bagi masyarakat banggai adapun yang menjadi tim penilai kegiatan ini terdiri dari setda provinsi dra novalina mm kepala bpjs ketenagakerjaan provinsi sulawesi tengah a syamsul rijal kadis nakertrans provinsi drs arnould firdaus mt ahli ekonomi mohammad ahlis djirimu se dea phd ahli kebijakan publik dr drs muzakir tawil m si ahli hukum dr h abdur rasyid thalib s h ahli jaminan sosial drs h arifuddin bidin ketua dpd apindo h achrul udaya dan serikat buruh karlan ladandu baca juga asia muslim charity foundation luncurkan kapal kemanusiaan untuk perairan sultengkehadiran bupati banggai dalam acara ini menandai langkah nyata dalam membangun sistem jaminan sosial yang inklusif dan berkeadilan bagi seluruh masyarakat kabupaten banggai\"\n        ],\n        \"semantic_type\": \"\",\n        \"description\": \"\"\n      }\n    },\n    {\n      \"column\": \"stemmed\",\n      \"properties\": {\n        \"dtype\": \"string\",\n        \"num_unique_values\": 957,\n        \"samples\": [\n          \"bangga raya bupati bangga amirudin ikut giat wawancara paritrana award tingkat provinsi sulawesi tengah dengan nominasi harga jamin sosial ketenagakerjaan kategori nominasi perintah kabupatenkota pada selasa tempat di hotel aston palu paritrana award rupa harga yang beri perintah pusat kepada perintah daerah dan usaha badan usaha yang milik peduli awareness tinggi dan citra positif hadap program jamin sosial ketenagakerjaan pada sempat sebut bupati amirudin papar bijak perintah daerah kait implementasi program jamin sosial ketenagakerjaan yang rupa bagi dari upaya menindaklanjuti instruksi presiden inpres nomor tahun tentang optimalisasi laksana program jamin sosial ketenagakerjaan baca juga milu bal mang lang ke dprd sultengsebagai bentuk serius lanjut bupati amirudin pemkab bangga menindaklanjuti inpres nomor tahun sebut dengan keluar atur bupati perbup nomor tahun tentang laksana program jamin sosial ketenagakerjaan di daerah dan putus bupati bangga nomor nakertrans tentang tim koordinasi bina dan pantau hadap laksana program bpjs ketenagakerjaan di kabupaten bangga tidak hanya sampai di situ upaya kuat regulasi daerah dan lindung kerja sebut maka tingkat status regulasi dari atur bupati perbup jadi atur daerah perda dengan tetap perda nomor tahun tentang optimalisasi selenggara program jamin sosial ketenagakerjaan baca juga tak terima henti sekdes segel kantor desa sol baruuntuk tahun lalu apbd telah anggar iur serta bpjs ketenagakerjaan untuk program jamin celaka kerja jkk dan jamin mati jkm bagi orang tenaga kerja libat bupati bangga dalam wawancara ini tegas komitmen perintah kabupaten bangga dalam beri lindung sosial yang pada bagi para tenaga kerja di wilayah sebut presentasi yang sampai oleh bupati amirudin beri gambar yang jelas kena upaya konkret yang telah laku untuk tingkat sejahtera dan aman sosial bagi masyarakat bangga adapun yang jadi tim nilai giat ini diri dari setda provinsi dra novalina mm kepala bpjs ketenagakerjaan provinsi sulawesi tengah a syamsul rijal kad nakertrans provinsi drs arnould firdaus mt ahli ekonomi mohammad ahlis djirimu se dea phd ahli bijak publik dr drs muzakir tawil m si ahli hukum dr h abdur rasyid thalib s h ahli jamin sosial drs h arifuddin bidin ketua dpd apindo h achrul udaya dan serikat buruh karlan ladandu baca juga asia muslim charity foundation luncur kapal manusia untuk air sultengkehadiran bupati bangga dalam acara ini tanda langkah nyata dalam bangun sistem jamin sosial yang inklusif dan adil bagi seluruh masyarakat kabupaten bangga\"\n        ],\n        \"semantic_type\": \"\",\n        \"description\": \"\"\n      }\n    },\n    {\n      \"column\": \"filtered\",\n      \"properties\": {\n        \"dtype\": \"string\",\n        \"num_unique_values\": 957,\n        \"samples\": [\n          \"banggai raya bupati banggai amirudin mengikuti kegiatan wawancara paritrana award tingkat provinsi sulawesi tengah nominasi penghargaan jaminan sosial ketenagakerjaan kategori nominasi pemerintah kabupatenkota selasa bertempat hotel aston palu paritrana award merupakan penghargaan diberikan pemerintah pusat pemerintah daerah perusahaan badan usaha memiliki kepedulian awareness tinggi citra positif program jaminan sosial ketenagakerjaan kesempatan tersebut bupati amirudin memaparkan kebijakan pemerintah daerah terkait implementasi program jaminan sosial ketenagakerjaan merupakan bagian upaya menindaklanjuti instruksi presiden inpres nomor tahun optimalisasi pelaksanaan program jaminan sosial ketenagakerjaan baca pemilu bali mang melangkah dprd sultengsebagai bentuk keseriusan lanjut bupati amirudin pemkab banggai menindaklanjuti inpres nomor tahun tersebut mengeluarkan peraturan bupati perbup nomor tahun pelaksanaan program jaminan sosial ketenagakerjaan daerah keputusan bupati banggai nomor nakertrans tim koordinasi pembinaan pemantauan pelaksanaan program bpjs ketenagakerjaan kabupaten banggai hanya situ upaya penguatan regulasi daerah perlindungan pekerja tersebut ditingkatkan status regulasi peraturan bupati perbup menjadi peraturan daerah perda ditetapkannya perda nomor tahun optimalisasi penyelenggaraan program jaminan sosial ketenagakerjaan baca tak terima diberhentikan sekdes segel kantor desa solan baruuntuk tahun melalui apbd dianggarkan iuran kepesertaan bpjs ketenagakerjaan program jaminan kecelakaan kerja jkk jaminan kematian jkm orang tenaga kerja keterlibatan bupati banggai wawancara menegaskan komitmen pemerintah kabupaten banggai memberikan perlindungan sosial memadai para tenaga kerja di wilayah tersebut presentasi disampaikan bupati amirudin memberikan gambaran jelas mengenai upaya konkret telah dilakukan meningkatkan kesejahteraan keamanan sosial masyarakat banggai adapun menjadi tim penilai kegiatan terdiri setda provinsi dra novalina mm kepala bpjs ketenagakerjaan provinsi sulawesi tengah a syamsul rijal kadis nakertrans provinsi drs arnould firdaus mt ahli ekonomi mohammad ahlis djirimu se dea phd ahli kebijakan publik dr drs muzakir tawil m si ahli hukum dr h abdur rasyid thalib s h ahli jaminan sosial drs h arifuddin bidin ketua dpd apindo h achrul udaya serikat buruh karlan ladandu baca asia muslim charity foundation luncurkan kapal kemanusiaan perairan sultengkehadiran bupati banggai acara menandai langkah nyata membangun sistem jaminan sosial inklusif berkeadilan seluruh masyarakat kabupaten banggai\"\n        ],\n        \"semantic_type\": \"\",\n        \"description\": \"\"\n      }\n    }\n  ]\n}"
            }
          },
          "metadata": {},
          "execution_count": 58
        }
      ]
    },
    {
      "cell_type": "code",
      "source": [
        "len(df)"
      ],
      "metadata": {
        "colab": {
          "base_uri": "https://localhost:8080/"
        },
        "id": "eTJ50j30NVy_",
        "outputId": "24ac97df-8fe2-4643-95af-c140246afe74"
      },
      "execution_count": null,
      "outputs": [
        {
          "output_type": "execute_result",
          "data": {
            "text/plain": [
              "975"
            ]
          },
          "metadata": {},
          "execution_count": 178
        }
      ]
    },
    {
      "cell_type": "code",
      "execution_count": 59,
      "metadata": {
        "colab": {
          "base_uri": "https://localhost:8080/"
        },
        "id": "oGkf3aEF1P0G",
        "outputId": "24286d90-a797-4339-b76c-607e1e57a8b6"
      },
      "outputs": [
        {
          "output_type": "stream",
          "name": "stdout",
          "text": [
            "kabar luwuk ratusan buruh kepung dinas koperasidan kupp luwuk hingga akhirnya mencapai kesepakatan menjadi saksi dari aksi protes massal yang melibatkan ratusan buruhtangkiang mahasiswa dan masyarakat yang berkumpul untuk mendesak pembatalan pernyataan kontroversial plh kepala kupp kelas ii luwuk nukman larau rabu november kontroversi dimulai setelah rapat forkopimda banggai pada senin november di mana nukman larau mengakomodir kepengurusan baruuupj tangkiang yang dikeluarkan oleh koperasi tkbm teluk lalong perubahan kepengurusan ini mencakup penggantian ketua dan beberapa pengurus dengan orang yang bukan anggota uupj tangkiang protes muncul ketika sk pergantian kepengurusan ditolak oleh seluruh anggota uupj tangkiang dalam rapat luar biasa mereka tetap memilih amir mangulele sebagai ketua menyatakan penolakan terhadap upaya mengadu domba buruh yang dianggap dilakukan oleh koperasi tkbm teluk lalong selanjutnya massa aksi memulai pengepungan kantor dinas koperasi menuntut agar nukman larau dicopot dari kupp luwuk kepala dinas koperasi dan umkm kabupaten banggai helena padeatu menyatakan bahwa surat pemberitahuan mengenai sk kepengurusan baru belum disahkan dan masih dalam tahap evaluasi setelah mendapatkan kejelasan dari kepala dinas koperasi massa beralih mengepung kantor kupp luwuk tuntutan mereka melibatkan pencopotan nukman larau dan penangkapan pengurus koperasi tkbm teluk lalong yang dianggap mengadu domba buruh dalam pertemuan dengan perwakilan massa aksi nukman larau mencabut pernyataannya setelah adanya keterangan tertulis dari dinas koperasi yang tidak mengesahkan kepengurusan baru uupj tangkiang pernyataan tersebut juga dituangkan dalam surat tertulis membawa kelegaan bagi ratusan buruh mahasiswa dan masyarakat tangkiang setelah mencapai kesepakatan massa aksi membubarkan diri secara teratur protes yang awalnya memanas dan memunculkan ketegangan akhirnya menemukan titik akhir dengan penarikan pernyataan kontroversial dan pembatalan kepengurusan baru uupj tangkiang\n",
            "kabar luwuk ratusan buruh kepung dinas koperasidan kupp luwuk hingga akhirnya mencapai kesepakatan menjadi saksi aksi protes massal melibatkan ratusan buruhtangkiang mahasiswa masyarakat berkumpul mendesak pembatalan pernyataan kontroversial plh kepala kupp kelas ii luwuk nukman larau rabu november kontroversi dimulai rapat forkopimda banggai senin november mana nukman larau mengakomodir kepengurusan baruuupj tangkiang dikeluarkan koperasi tkbm teluk lalong perubahan kepengurusan mencakup penggantian ketua beberapa pengurus orang bukan anggota uupj tangkiang protes muncul sk pergantian kepengurusan ditolak seluruh anggota uupj tangkiang rapat luar biasa tetap memilih amir mangulele ketua menyatakan penolakan upaya mengadu domba buruh dianggap dilakukan koperasi tkbm teluk lalong selanjutnya massa aksi memulai pengepungan kantor dinas koperasi menuntut nukman larau dicopot kupp luwuk kepala dinas koperasi umkm kabupaten banggai helena padeatu menyatakan surat pemberitahuan mengenai sk kepengurusan baru disahkan masih tahap evaluasi mendapatkan kejelasan kepala dinas koperasi massa beralih mengepung kantor kupp luwuk tuntutan melibatkan pencopotan nukman larau penangkapan pengurus koperasi tkbm teluk lalong dianggap mengadu domba buruh pertemuan perwakilan massa aksi nukman larau mencabut pernyataannya adanya keterangan tertulis dinas koperasi tidak mengesahkan kepengurusan baru uupj tangkiang pernyataan tersebut dituangkan surat tertulis membawa kelegaan ratusan buruh mahasiswa masyarakat tangkiang mencapai kesepakatan massa aksi membubarkan diri teratur protes awalnya memanas memunculkan ketegangan akhirnya menemukan titik akhir penarikan pernyataan kontroversial pembatalan kepengurusan baru uupj tangkiang\n"
          ]
        }
      ],
      "source": [
        "print(df['clean_double_ws'][69])\n",
        "print(df['filtered'][69])"
      ]
    },
    {
      "cell_type": "markdown",
      "source": [
        "##Second Stopwords"
      ],
      "metadata": {
        "id": "OqDFduCP47A2"
      }
    },
    {
      "cell_type": "code",
      "source": [
        "df['filtered2'] = df['stemmed'].apply(stem)\n",
        "df['filtered2']"
      ],
      "metadata": {
        "colab": {
          "base_uri": "https://localhost:8080/"
        },
        "id": "sH3TSo9o3Q-p",
        "outputId": "3651f786-e092-4b60-e5c8-49270117f8cc"
      },
      "execution_count": null,
      "outputs": [
        {
          "output_type": "execute_result",
          "data": {
            "text/plain": [
              "0      kabar suasana pasar murah subsidi bangga lebih...\n",
              "1      kabar film horor piara mayat kreativitasanak m...\n",
              "2      kabar festival malabot tumbe meriahkankabupate...\n",
              "3      kerja cepat terkoordinir terbit sttp kabar rak...\n",
              "4      kabar bawaslu banggaiperkuat koordinasi dengan...\n",
              "                             ...                        \n",
              "995    terasbanggai com bawaslu bangga tingkat awas j...\n",
              "996    bangga raya bupati bangga ir h amirudin mm aif...\n",
              "997    terasbanggai com sempat tunda uji coba kontrak...\n",
              "998    bangga januari tempat ruang sidang hari kamis ...\n",
              "999    bangga raya bawaslu bangga gelar sosialisasi i...\n",
              "Name: filtered2, Length: 975, dtype: object"
            ]
          },
          "metadata": {},
          "execution_count": 244
        }
      ]
    },
    {
      "cell_type": "code",
      "source": [
        "df.drop(columns=['tokenized'], inplace=True)"
      ],
      "metadata": {
        "id": "7Hp-bXYa6zt3"
      },
      "execution_count": null,
      "outputs": []
    },
    {
      "cell_type": "code",
      "source": [
        "df.head()"
      ],
      "metadata": {
        "id": "zHRIWaHa6rA2"
      },
      "execution_count": null,
      "outputs": []
    },
    {
      "cell_type": "code",
      "source": [
        "print(df['stemmed'][0])\n",
        "print(df['filtered2'][0])"
      ],
      "metadata": {
        "colab": {
          "base_uri": "https://localhost:8080/"
        },
        "id": "NiVe2d298O_r",
        "outputId": "f408aa06-d2b1-446a-eec5-013f7e1e8eb2"
      },
      "execution_count": null,
      "outputs": [
        {
          "output_type": "stream",
          "name": "stdout",
          "text": [
            "kabar suasana pasar murah subsidi bangga lebih semarak hadir satu lalulintas polres bangga bawa mobil sim keliling senin ada sekadar layan juga tanda sinergi polres bangga jaksa negeri bangga jalin kuat kepala satu lintas polres bangga akp i made bagus adityamelalui kanit regiden ipda suparjan pimpin stand pamer sim keliling pasar murah subsidi suparjan giat rupa upaya konkret dekat kepada masyarakat urus panjang surat izin kemudi sim masyarakat bangga mudah urus panjang sim harus repot ke kantor satpas polres bangga halimun dengan mobil sim keliling telah sedia tim layan layan suasana ramai ipda suparjan tekan bahwa hadir mobil sim keliling bentuk inovatif mudah akses masyarakat dalam administrasi sim tim dalam mobil siap beri layan baik pasti proses panjang sim jalan lancar efisien ini hanya mudah juga kuat ikat institusi polisi jaksa dengan masyarakat pasar murah subsidi selenggara jaksa negeri bangga bukan hanya ajang ekonomi juga platform dekat dengan masyarakat ada mobil sim keliling tambah nilai positif dalam giat cipta hubung lebih erat tegak hukum warga kabupaten bangga\n",
            "kabar suasana pasar murah subsidi bangga lebih semarak hadir satu lalulintas polres bangga bawa mobil sim keliling senin ada sekadar layan juga tanda sinergi polres bangga jaksa negeri bangga jalin kuat kepala satu lintas polres bangga akp i made bagus adityamelalui kanit regiden ipda suparjan pimpin stand pamer sim keliling pasar murah subsidi suparjan giat rupa upaya konkret dekat kepada masyarakat urus panjang surat izin kemudi sim masyarakat bangga mudah urus panjang sim harus repot ke kantor satpas polres bangga halimun dengan mobil sim keliling telah sedia tim layan layan suasana ramai ipda suparjan tekan bahwa hadir mobil sim keliling bentuk inovatif mudah akses masyarakat dalam administrasi sim tim dalam mobil siap beri layan baik pasti proses panjang sim jalan lancar efisien ini hanya mudah juga kuat ikat institusi polisi jaksa dengan masyarakat pasar murah subsidi selenggara jaksa negeri bangga bukan hanya ajang ekonomi juga platform dekat dengan masyarakat ada mobil sim keliling tambah nilai positif dalam giat cipta hubung lebih erat tegak hukum warga kabupaten bangga\n"
          ]
        }
      ]
    },
    {
      "cell_type": "markdown",
      "metadata": {
        "id": "KyujIEiSK3YT"
      },
      "source": [
        "## Tokenizing"
      ]
    },
    {
      "cell_type": "code",
      "execution_count": 60,
      "metadata": {
        "id": "7tvlHHYOzWga"
      },
      "outputs": [],
      "source": [
        "def tokenize(text):\n",
        "  tokens = nltk.tokenize.word_tokenize(text)\n",
        "  return tokens"
      ]
    },
    {
      "cell_type": "code",
      "execution_count": 61,
      "metadata": {
        "colab": {
          "base_uri": "https://localhost:8080/"
        },
        "id": "HoQt8hoIz_v7",
        "outputId": "f51d1649-2c8f-4945-bad3-b9343513abd3"
      },
      "outputs": [
        {
          "output_type": "stream",
          "name": "stderr",
          "text": [
            "<ipython-input-61-164acad3ea72>:1: SettingWithCopyWarning: \n",
            "A value is trying to be set on a copy of a slice from a DataFrame.\n",
            "Try using .loc[row_indexer,col_indexer] = value instead\n",
            "\n",
            "See the caveats in the documentation: https://pandas.pydata.org/pandas-docs/stable/user_guide/indexing.html#returning-a-view-versus-a-copy\n",
            "  df['tokenized'] = df['filtered'].apply(tokenize)\n"
          ]
        },
        {
          "output_type": "execute_result",
          "data": {
            "text/plain": [
              "0      [kabar, luwuk, suasana, pasar, murah, bersubsi...\n",
              "1      [kabar, luwuk, film, horor, piara, mayat, krea...\n",
              "2      [kabar, luwuk, festival, malabot, tumbe, meria...\n",
              "3      [kerja, cepat, terkoordinir, penerbitan, sttp,...\n",
              "4      [kabar, luwuk, bawaslu, banggaiperkuat, koordi...\n",
              "                             ...                        \n",
              "995    [terasbanggai, com, bawaslu, banggai, meningka...\n",
              "996    [banggai, raya, bupati, banggai, ir, h, amirud...\n",
              "997    [terasbanggai, com, sempat, tertunda, masa, uj...\n",
              "998    [banggai, januari, bertempat, ruang, sidang, h...\n",
              "999    [banggai, raya, bawaslu, kabupaten, banggai, m...\n",
              "Name: tokenized, Length: 975, dtype: object"
            ]
          },
          "metadata": {},
          "execution_count": 61
        }
      ],
      "source": [
        "df['tokenized'] = df['filtered'].apply(tokenize)\n",
        "df['tokenized']"
      ]
    },
    {
      "cell_type": "code",
      "source": [
        "df"
      ],
      "metadata": {
        "id": "EgG76ftdx2L3"
      },
      "execution_count": null,
      "outputs": []
    },
    {
      "cell_type": "code",
      "execution_count": 62,
      "metadata": {
        "colab": {
          "base_uri": "https://localhost:8080/"
        },
        "id": "CBMRdRdiK8vz",
        "outputId": "5aeba796-6202-4364-c354-e5ce9b08094a"
      },
      "outputs": [
        {
          "output_type": "stream",
          "name": "stdout",
          "text": [
            "kabar luwuk suasana pasar murah bersubsidi kabupaten banggai menjadi lebih semarak kehadiran satuan lalulintas polres banggai membawa mobil sim keliling senin keberadaan bukan sekadar pelayanan juga menandai sinergi polres banggai kejaksaan negeri banggai terjalin kuat kepala satuan lalu lintas polres banggai akp i made bagus adityamelalui kanit regiden ipda suparjan memimpin stand pameran sim keliling pasar murah bersubsidi suparjan menjelaskan kegiatan merupakan upaya konkret mendekatkan diri masyarakat terutama pengurusan perpanjangan surat izin mengemudi sim masyarakat kabupaten banggai mudah mengurus perpanjangan sim harus repot datang kantor satpas polres banggai dihalimun cukup mendatangi mobil sim keliling telah disediakan tim pelayanan siap dilayani ujarnya suasana ramai ipda suparjan menekankan kehadiran mobil sim keliling bentuk inovatif memudahkan akses masyarakat administrasi sim tim mobil siap memberikan pelayanan terbaik memastikan proses perpanjangan sim berjalan lancar efisien ini memudahkan juga memperkuat ikatan institusi kepolisian kejaksaan masyarakat pasar murah bersubsidi diselenggarakan kejaksaan negeri banggai bukan hanya ajang ekonomi juga sebagai platform mendekatkan diri dengan masyarakat keberadaan mobil sim keliling menjadi tambahan nilai positif dalam kegiatan tersebut menciptakan hubungan lebih erat penegak hukum warga kabupaten banggai\n",
            "['kabar', 'luwuk', 'suasana', 'pasar', 'murah', 'bersubsidi', 'kabupaten', 'banggai', 'menjadi', 'lebih', 'semarak', 'kehadiran', 'satuan', 'lalulintas', 'polres', 'banggai', 'membawa', 'mobil', 'sim', 'keliling', 'senin', 'keberadaan', 'bukan', 'sekadar', 'pelayanan', 'juga', 'menandai', 'sinergi', 'polres', 'banggai', 'kejaksaan', 'negeri', 'banggai', 'terjalin', 'kuat', 'kepala', 'satuan', 'lalu', 'lintas', 'polres', 'banggai', 'akp', 'i', 'made', 'bagus', 'adityamelalui', 'kanit', 'regiden', 'ipda', 'suparjan', 'memimpin', 'stand', 'pameran', 'sim', 'keliling', 'pasar', 'murah', 'bersubsidi', 'suparjan', 'menjelaskan', 'kegiatan', 'merupakan', 'upaya', 'konkret', 'mendekatkan', 'diri', 'masyarakat', 'terutama', 'pengurusan', 'perpanjangan', 'surat', 'izin', 'mengemudi', 'sim', 'masyarakat', 'kabupaten', 'banggai', 'mudah', 'mengurus', 'perpanjangan', 'sim', 'harus', 'repot', 'datang', 'kantor', 'satpas', 'polres', 'banggai', 'dihalimun', 'cukup', 'mendatangi', 'mobil', 'sim', 'keliling', 'telah', 'disediakan', 'tim', 'pelayanan', 'siap', 'dilayani', 'ujarnya', 'suasana', 'ramai', 'ipda', 'suparjan', 'menekankan', 'kehadiran', 'mobil', 'sim', 'keliling', 'bentuk', 'inovatif', 'memudahkan', 'akses', 'masyarakat', 'administrasi', 'sim', 'tim', 'mobil', 'siap', 'memberikan', 'pelayanan', 'terbaik', 'memastikan', 'proses', 'perpanjangan', 'sim', 'berjalan', 'lancar', 'efisien', 'ini', 'memudahkan', 'juga', 'memperkuat', 'ikatan', 'institusi', 'kepolisian', 'kejaksaan', 'masyarakat', 'pasar', 'murah', 'bersubsidi', 'diselenggarakan', 'kejaksaan', 'negeri', 'banggai', 'bukan', 'hanya', 'ajang', 'ekonomi', 'juga', 'sebagai', 'platform', 'mendekatkan', 'diri', 'dengan', 'masyarakat', 'keberadaan', 'mobil', 'sim', 'keliling', 'menjadi', 'tambahan', 'nilai', 'positif', 'dalam', 'kegiatan', 'tersebut', 'menciptakan', 'hubungan', 'lebih', 'erat', 'penegak', 'hukum', 'warga', 'kabupaten', 'banggai']\n"
          ]
        }
      ],
      "source": [
        "print(df['filtered'][0])\n",
        "print(df['tokenized'][0])"
      ]
    },
    {
      "cell_type": "code",
      "source": [
        "print(len(df['stemmed'][0]))\n",
        "print(len(df['tokenized'][0]))"
      ],
      "metadata": {
        "id": "cKxfF4GhdjLa"
      },
      "execution_count": null,
      "outputs": []
    },
    {
      "cell_type": "markdown",
      "source": [
        "## Convert df to excel"
      ],
      "metadata": {
        "id": "2opI8g0QULEZ"
      }
    },
    {
      "cell_type": "code",
      "source": [
        "df.to_excel('lexicon_analytics_banggai_news.xlsx', index=False)"
      ],
      "metadata": {
        "id": "XZdWBF5DMVUg"
      },
      "execution_count": null,
      "outputs": []
    },
    {
      "cell_type": "markdown",
      "source": [
        "## Delete Most and Least Appeared Words. Convert it to DTM\n",
        "\n",
        "\n",
        "\n"
      ],
      "metadata": {
        "id": "OrthBGy0GJFv"
      }
    },
    {
      "cell_type": "code",
      "source": [
        "# Convert tokenized text to string representation\n",
        "text_strings = [' '.join(doc) for doc in df['tokenized']]\n"
      ],
      "metadata": {
        "id": "snJSk_5ULzDL"
      },
      "execution_count": 64,
      "outputs": []
    },
    {
      "cell_type": "code",
      "source": [
        "text_strings"
      ],
      "metadata": {
        "id": "zicdjt5XL6AT"
      },
      "execution_count": null,
      "outputs": []
    },
    {
      "cell_type": "code",
      "source": [
        "from sklearn.feature_extraction.text import CountVectorizer, TfidfVectorizer\n",
        "\n",
        "#cv = CountVectorizer(max_df=0.9, min_df=2, stop_words= stopwords)\n",
        "\n",
        "vect =TfidfVectorizer(max_df=0.9, min_df=2, stop_words= stopwords)\n",
        "\n",
        "dtm = cv.fit_transform(text_strings)"
      ],
      "metadata": {
        "id": "klCr5fe2GSFQ"
      },
      "execution_count": 66,
      "outputs": []
    },
    {
      "cell_type": "code",
      "source": [
        "dtm"
      ],
      "metadata": {
        "colab": {
          "base_uri": "https://localhost:8080/"
        },
        "id": "2q__SL_XMTaE",
        "outputId": "ee736224-4d3e-4747-8bc3-f256cc2e1018"
      },
      "execution_count": 67,
      "outputs": [
        {
          "output_type": "execute_result",
          "data": {
            "text/plain": [
              "<975x7830 sparse matrix of type '<class 'numpy.int64'>'\n",
              "\twith 110931 stored elements in Compressed Sparse Row format>"
            ]
          },
          "metadata": {},
          "execution_count": 67
        }
      ]
    },
    {
      "cell_type": "markdown",
      "source": [
        "#Model LDA"
      ],
      "metadata": {
        "id": "LJwFbcb-OMTn"
      }
    },
    {
      "cell_type": "code",
      "source": [
        "from sklearn.decomposition import LatentDirichletAllocation"
      ],
      "metadata": {
        "id": "FMYXe9qyOUus"
      },
      "execution_count": 68,
      "outputs": []
    },
    {
      "cell_type": "code",
      "source": [
        "#Choosing how many topics that we want (n_component)\n",
        "LDA = LatentDirichletAllocation(n_components=10,random_state=720)\n",
        "\n",
        "#Fitting the data(dtm)\n",
        "LDA.fit(dtm)"
      ],
      "metadata": {
        "colab": {
          "base_uri": "https://localhost:8080/",
          "height": 75
        },
        "id": "wnaAu0xzO6vg",
        "outputId": "1a3835ba-217a-4495-a3e4-c4d819ed1e18"
      },
      "execution_count": 69,
      "outputs": [
        {
          "output_type": "execute_result",
          "data": {
            "text/plain": [
              "LatentDirichletAllocation(random_state=720)"
            ],
            "text/html": [
              "<style>#sk-container-id-1 {color: black;background-color: white;}#sk-container-id-1 pre{padding: 0;}#sk-container-id-1 div.sk-toggleable {background-color: white;}#sk-container-id-1 label.sk-toggleable__label {cursor: pointer;display: block;width: 100%;margin-bottom: 0;padding: 0.3em;box-sizing: border-box;text-align: center;}#sk-container-id-1 label.sk-toggleable__label-arrow:before {content: \"▸\";float: left;margin-right: 0.25em;color: #696969;}#sk-container-id-1 label.sk-toggleable__label-arrow:hover:before {color: black;}#sk-container-id-1 div.sk-estimator:hover label.sk-toggleable__label-arrow:before {color: black;}#sk-container-id-1 div.sk-toggleable__content {max-height: 0;max-width: 0;overflow: hidden;text-align: left;background-color: #f0f8ff;}#sk-container-id-1 div.sk-toggleable__content pre {margin: 0.2em;color: black;border-radius: 0.25em;background-color: #f0f8ff;}#sk-container-id-1 input.sk-toggleable__control:checked~div.sk-toggleable__content {max-height: 200px;max-width: 100%;overflow: auto;}#sk-container-id-1 input.sk-toggleable__control:checked~label.sk-toggleable__label-arrow:before {content: \"▾\";}#sk-container-id-1 div.sk-estimator input.sk-toggleable__control:checked~label.sk-toggleable__label {background-color: #d4ebff;}#sk-container-id-1 div.sk-label input.sk-toggleable__control:checked~label.sk-toggleable__label {background-color: #d4ebff;}#sk-container-id-1 input.sk-hidden--visually {border: 0;clip: rect(1px 1px 1px 1px);clip: rect(1px, 1px, 1px, 1px);height: 1px;margin: -1px;overflow: hidden;padding: 0;position: absolute;width: 1px;}#sk-container-id-1 div.sk-estimator {font-family: monospace;background-color: #f0f8ff;border: 1px dotted black;border-radius: 0.25em;box-sizing: border-box;margin-bottom: 0.5em;}#sk-container-id-1 div.sk-estimator:hover {background-color: #d4ebff;}#sk-container-id-1 div.sk-parallel-item::after {content: \"\";width: 100%;border-bottom: 1px solid gray;flex-grow: 1;}#sk-container-id-1 div.sk-label:hover label.sk-toggleable__label {background-color: #d4ebff;}#sk-container-id-1 div.sk-serial::before {content: \"\";position: absolute;border-left: 1px solid gray;box-sizing: border-box;top: 0;bottom: 0;left: 50%;z-index: 0;}#sk-container-id-1 div.sk-serial {display: flex;flex-direction: column;align-items: center;background-color: white;padding-right: 0.2em;padding-left: 0.2em;position: relative;}#sk-container-id-1 div.sk-item {position: relative;z-index: 1;}#sk-container-id-1 div.sk-parallel {display: flex;align-items: stretch;justify-content: center;background-color: white;position: relative;}#sk-container-id-1 div.sk-item::before, #sk-container-id-1 div.sk-parallel-item::before {content: \"\";position: absolute;border-left: 1px solid gray;box-sizing: border-box;top: 0;bottom: 0;left: 50%;z-index: -1;}#sk-container-id-1 div.sk-parallel-item {display: flex;flex-direction: column;z-index: 1;position: relative;background-color: white;}#sk-container-id-1 div.sk-parallel-item:first-child::after {align-self: flex-end;width: 50%;}#sk-container-id-1 div.sk-parallel-item:last-child::after {align-self: flex-start;width: 50%;}#sk-container-id-1 div.sk-parallel-item:only-child::after {width: 0;}#sk-container-id-1 div.sk-dashed-wrapped {border: 1px dashed gray;margin: 0 0.4em 0.5em 0.4em;box-sizing: border-box;padding-bottom: 0.4em;background-color: white;}#sk-container-id-1 div.sk-label label {font-family: monospace;font-weight: bold;display: inline-block;line-height: 1.2em;}#sk-container-id-1 div.sk-label-container {text-align: center;}#sk-container-id-1 div.sk-container {/* jupyter's `normalize.less` sets `[hidden] { display: none; }` but bootstrap.min.css set `[hidden] { display: none !important; }` so we also need the `!important` here to be able to override the default hidden behavior on the sphinx rendered scikit-learn.org. See: https://github.com/scikit-learn/scikit-learn/issues/21755 */display: inline-block !important;position: relative;}#sk-container-id-1 div.sk-text-repr-fallback {display: none;}</style><div id=\"sk-container-id-1\" class=\"sk-top-container\"><div class=\"sk-text-repr-fallback\"><pre>LatentDirichletAllocation(random_state=720)</pre><b>In a Jupyter environment, please rerun this cell to show the HTML representation or trust the notebook. <br />On GitHub, the HTML representation is unable to render, please try loading this page with nbviewer.org.</b></div><div class=\"sk-container\" hidden><div class=\"sk-item\"><div class=\"sk-estimator sk-toggleable\"><input class=\"sk-toggleable__control sk-hidden--visually\" id=\"sk-estimator-id-1\" type=\"checkbox\" checked><label for=\"sk-estimator-id-1\" class=\"sk-toggleable__label sk-toggleable__label-arrow\">LatentDirichletAllocation</label><div class=\"sk-toggleable__content\"><pre>LatentDirichletAllocation(random_state=720)</pre></div></div></div></div></div>"
            ]
          },
          "metadata": {},
          "execution_count": 69
        }
      ]
    },
    {
      "cell_type": "markdown",
      "source": [
        "##Grab the vocabulary words"
      ],
      "metadata": {
        "id": "qMiqiAECSf22"
      }
    },
    {
      "cell_type": "code",
      "source": [
        "\n",
        "len(cv.get_feature_names_out())\n"
      ],
      "metadata": {
        "colab": {
          "base_uri": "https://localhost:8080/"
        },
        "id": "x4FCqsA-RY6V",
        "outputId": "a37de8f4-c9fb-4883-dfb0-606151c024cc"
      },
      "execution_count": null,
      "outputs": [
        {
          "output_type": "execute_result",
          "data": {
            "text/plain": [
              "5158"
            ]
          },
          "metadata": {},
          "execution_count": 530
        }
      ]
    },
    {
      "cell_type": "code",
      "source": [
        "type(cv.get_feature_names_out())\n"
      ],
      "metadata": {
        "colab": {
          "base_uri": "https://localhost:8080/"
        },
        "id": "9JM6MrpRSEzn",
        "outputId": "a0ccad6e-693e-4851-8983-31e249addb3d"
      },
      "execution_count": null,
      "outputs": [
        {
          "output_type": "execute_result",
          "data": {
            "text/plain": [
              "numpy.ndarray"
            ]
          },
          "metadata": {},
          "execution_count": 531
        }
      ]
    },
    {
      "cell_type": "code",
      "source": [
        "cv.get_feature_names_out()[1000]"
      ],
      "metadata": {
        "colab": {
          "base_uri": "https://localhost:8080/"
        },
        "id": "wSrlgetzSGF2",
        "outputId": "936401bf-7b81-4ef1-eff4-a95c1cde2f00"
      },
      "execution_count": null,
      "outputs": [
        {
          "output_type": "execute_result",
          "data": {
            "text/plain": [
              "'delap'"
            ],
            "application/vnd.google.colaboratory.intrinsic+json": {
              "type": "string"
            }
          },
          "metadata": {},
          "execution_count": 532
        }
      ]
    },
    {
      "cell_type": "code",
      "source": [
        "import random\n",
        "\n",
        "random_id = random.randint(0,4075)\n",
        "cv.get_feature_names_out()[random_id]"
      ],
      "metadata": {
        "colab": {
          "base_uri": "https://localhost:8080/"
        },
        "id": "XTs2Bch3RxRC",
        "outputId": "3d644fb0-b3e1-4b6b-99f0-059f489d84b0"
      },
      "execution_count": null,
      "outputs": [
        {
          "output_type": "execute_result",
          "data": {
            "text/plain": [
              "'meta'"
            ],
            "application/vnd.google.colaboratory.intrinsic+json": {
              "type": "string"
            }
          },
          "metadata": {},
          "execution_count": 533
        }
      ]
    },
    {
      "cell_type": "markdown",
      "source": [
        "## Convert (dtm) from numpy array to list (optional)\n"
      ],
      "metadata": {
        "id": "PKe24t8HSoI2"
      }
    },
    {
      "cell_type": "code",
      "source": [
        "#feature_names_list = dtm.tolist()"
      ],
      "metadata": {
        "id": "CvMC7peaSvjb"
      },
      "execution_count": null,
      "outputs": []
    },
    {
      "cell_type": "markdown",
      "source": [
        "## Grab the topics"
      ],
      "metadata": {
        "id": "CqB8t05PSwu0"
      }
    },
    {
      "cell_type": "code",
      "source": [
        "len(LDA.components_)"
      ],
      "metadata": {
        "id": "GskVNr4RSzB3",
        "colab": {
          "base_uri": "https://localhost:8080/"
        },
        "outputId": "0ce9e769-9370-4d08-9e5e-b921863f99b6"
      },
      "execution_count": 70,
      "outputs": [
        {
          "output_type": "execute_result",
          "data": {
            "text/plain": [
              "10"
            ]
          },
          "metadata": {},
          "execution_count": 70
        }
      ]
    },
    {
      "cell_type": "code",
      "source": [
        "type(LDA.components_)"
      ],
      "metadata": {
        "id": "KW4lMW1PP8Q1"
      },
      "execution_count": null,
      "outputs": []
    },
    {
      "cell_type": "code",
      "source": [
        "LDA.components_.shape"
      ],
      "metadata": {
        "id": "yfnYIJU8TgPx",
        "colab": {
          "base_uri": "https://localhost:8080/"
        },
        "outputId": "6b4e7f03-110f-463b-acb5-337d31ce1afb"
      },
      "execution_count": 71,
      "outputs": [
        {
          "output_type": "execute_result",
          "data": {
            "text/plain": [
              "(10, 7830)"
            ]
          },
          "metadata": {},
          "execution_count": 71
        }
      ]
    },
    {
      "cell_type": "code",
      "source": [
        "LDA.components_"
      ],
      "metadata": {
        "id": "7IoocHuWTpgm"
      },
      "execution_count": null,
      "outputs": []
    },
    {
      "cell_type": "markdown",
      "source": [
        "## Grab the highest probability words per topics"
      ],
      "metadata": {
        "id": "SzsOF2RSTYLu"
      }
    },
    {
      "cell_type": "code",
      "source": [
        "#first_topic = LDA.components_[0]\n",
        "#first_topic.argsort()"
      ],
      "metadata": {
        "id": "ShHNifJsQd6N"
      },
      "execution_count": null,
      "outputs": []
    },
    {
      "cell_type": "code",
      "source": [
        "#argsort() sorted index from least to the highest number\n",
        "#means we need the last 10 index to indentify the 10 most common words\n",
        "#first_topic.argsort()[-10:]"
      ],
      "metadata": {
        "id": "up244AJAVm2N"
      },
      "execution_count": null,
      "outputs": []
    },
    {
      "cell_type": "code",
      "source": [
        "#Getting top 10 most common words on the first topic\n",
        "#top_twenty_1 = first_topic.argsort()[-20:]\n",
        "\n",
        "#for index in top_twenty_1:\n",
        "#  print(cv.get_feature_names_out()[index])"
      ],
      "metadata": {
        "id": "aOUtDERaWNJ3"
      },
      "execution_count": null,
      "outputs": []
    },
    {
      "cell_type": "code",
      "source": [
        "for index,topic in enumerate(LDA.components_):\n",
        "    print(f'THE TOP 15 WORDS FOR TOPIC #{index}')\n",
        "    print([cv.get_feature_names_out()[i] for i in topic.argsort()[::-1][:10]])\n",
        "    print('\\n')"
      ],
      "metadata": {
        "colab": {
          "base_uri": "https://localhost:8080/"
        },
        "id": "FzoOCCX7ckAb",
        "outputId": "7ab9d13b-7829-4d26-8b8b-0ba036729781"
      },
      "execution_count": 72,
      "outputs": [
        {
          "output_type": "stream",
          "name": "stdout",
          "text": [
            "THE TOP 15 WORDS FOR TOPIC #0\n",
            "['pemilu', 'desa', 'tahun', 'kasus', 'politik', 'kabupaten', 'sulteng', 'dilakukan', 'kecamatan', 'warga']\n",
            "\n",
            "\n",
            "THE TOP 15 WORDS FOR TOPIC #1\n",
            "['persen', 'luwuk', 'kabupaten', 'masyarakat', 'bupati', 'olahraga', 'peserta', 'kelompok', 'menjadi', 'kegiatan']\n",
            "\n",
            "\n",
            "THE TOP 15 WORDS FOR TOPIC #2\n",
            "['kekayaan', 'intelektual', 'kabupaten', 'masyarakat', 'hak', 'layanan', 'daerah', 'amirudin', 'bersama', 'sama']\n",
            "\n",
            "\n",
            "THE TOP 15 WORDS FOR TOPIC #3\n",
            "['masyarakat', 'menjadi', 'kegiatan', 'memberikan', 'pelayanan', 'luwuk', 'kabupaten', 'diharapkan', 'tersebut', 'kepala']\n",
            "\n",
            "\n",
            "THE TOP 15 WORDS FOR TOPIC #4\n",
            "['luwuk', 'mahasiswa', 'pendidikan', 'tersebut', 'prodi', 'kampus', 'fakultas', 'tahun', 'kesehatan', 'job']\n",
            "\n",
            "\n",
            "THE TOP 15 WORDS FOR TOPIC #5\n",
            "['partai', 'luwuk', 'suara', 'kecamatan', 'baca', 'dprd', 'kabupaten', 'usaha', 'kursi', 'anak']\n",
            "\n",
            "\n",
            "THE TOP 15 WORDS FOR TOPIC #6\n",
            "['bupati', 'kabupaten', 'tahun', 'amirudin', 'kecamatan', 'pemerintah', 'pmi', 'masyarakat', 'bantuan', 'desa']\n",
            "\n",
            "\n",
            "THE TOP 15 WORDS FOR TOPIC #7\n",
            "['korban', 'pelaku', 'luwuk', 'tersebut', 'polres', 'wita', 'pukul', 'tio', 'barang', 'melakukan']\n",
            "\n",
            "\n",
            "THE TOP 15 WORDS FOR TOPIC #8\n",
            "['pemilu', 'luwuk', 'polres', 'kpu', 'pengamanan', 'personel', 'logistik', 'suara', 'tersebut', 'polri']\n",
            "\n",
            "\n",
            "THE TOP 15 WORDS FOR TOPIC #9\n",
            "['luwuk', 'bupati', 'kabupaten', 'daerah', 'tahun', 'pembangunan', 'kecamatan', 'pasar', 'amirudin', 'pemerintah']\n",
            "\n",
            "\n"
          ]
        }
      ]
    },
    {
      "cell_type": "code",
      "source": [
        "#for index,topic in enumerate(LDA.components_):\n",
        " #   print(f'THE TOP 15 WORDS FOR TOPIC #{index}')\n",
        "  #  print([cv.get_feature_names_out()[i] for i in topic.argsort()[-10:]])\n",
        "   # print('\\n')"
      ],
      "metadata": {
        "id": "54k_IxMGd0I9"
      },
      "execution_count": null,
      "outputs": []
    },
    {
      "cell_type": "code",
      "source": [
        "dtm\n",
        "topic_result = LDA.transform(dtm)"
      ],
      "metadata": {
        "id": "Z-y6R0ud_2sj"
      },
      "execution_count": 73,
      "outputs": []
    },
    {
      "cell_type": "code",
      "source": [
        "len(topic_result)"
      ],
      "metadata": {
        "colab": {
          "base_uri": "https://localhost:8080/"
        },
        "id": "mzdoeBL7jw1e",
        "outputId": "d87e18f4-dec0-49ab-d594-d0374919f337"
      },
      "execution_count": 74,
      "outputs": [
        {
          "output_type": "execute_result",
          "data": {
            "text/plain": [
              "975"
            ]
          },
          "metadata": {},
          "execution_count": 74
        }
      ]
    },
    {
      "cell_type": "code",
      "source": [
        "topic_result.shape\n"
      ],
      "metadata": {
        "colab": {
          "base_uri": "https://localhost:8080/"
        },
        "id": "mwfE1_gMmWg1",
        "outputId": "d9983ea6-8b61-4fc3-f48a-a46a1936a7bd"
      },
      "execution_count": 84,
      "outputs": [
        {
          "output_type": "execute_result",
          "data": {
            "text/plain": [
              "(975, 10)"
            ]
          },
          "metadata": {},
          "execution_count": 84
        }
      ]
    },
    {
      "cell_type": "code",
      "source": [
        "topic_result[85].round(2)\n"
      ],
      "metadata": {
        "colab": {
          "base_uri": "https://localhost:8080/"
        },
        "id": "vG3U5ObX_554",
        "outputId": "efce1208-5c3a-4974-d8cd-f842da28b3ba"
      },
      "execution_count": 83,
      "outputs": [
        {
          "output_type": "execute_result",
          "data": {
            "text/plain": [
              "array([0.  , 0.  , 0.  , 0.9 , 0.  , 0.  , 0.  , 0.  , 0.  , 0.09])"
            ]
          },
          "metadata": {},
          "execution_count": 83
        }
      ]
    },
    {
      "cell_type": "code",
      "source": [
        "topic_result[85].argmax()"
      ],
      "metadata": {
        "colab": {
          "base_uri": "https://localhost:8080/"
        },
        "id": "b5ybKfSRC7RA",
        "outputId": "f8c0384d-1557-4b09-cef5-62db9f85f122"
      },
      "execution_count": 85,
      "outputs": [
        {
          "output_type": "execute_result",
          "data": {
            "text/plain": [
              "3"
            ]
          },
          "metadata": {},
          "execution_count": 85
        }
      ]
    },
    {
      "cell_type": "code",
      "source": [
        "df[\"text\"][85]"
      ],
      "metadata": {
        "colab": {
          "base_uri": "https://localhost:8080/",
          "height": 122
        },
        "id": "RRr4abRiAM9A",
        "outputId": "87c38360-91be-4215-a26d-4b5caaa73427"
      },
      "execution_count": 86,
      "outputs": [
        {
          "output_type": "execute_result",
          "data": {
            "text/plain": [
              "'KABAR LUWUK  –Kepala Divisi ImigrasiDorong Peningkatan Efisiensi dan Pengawasan di Kanim Banggai.Kepala Divisi Keimigrasian,Arief Hazairin Satoto, didampingi olehKepala Subbidang Informasi Keimigrasian,Machdi Cahyadi, telah melakukan tinjauan menyeluruh terhadap fasilitas dan infrastruktur pendukung diKantor Imigrasi (Kanim) Banggaipada pukul 09.00 WITA. Jum,at 17/11/2023.Kunjungan ini diikuti dengan arahan langsung kepada petugas Kanim Banggai guna meningkatkan efisiensi operasional dan pengawasan terhadap administrasi imigrasi di wilayah tersebut.Dalam upayanya untuk memperkuat tugas dan fungsi Kanim Banggai, Kepala Divisi Imigrasi Kementerian Hukum dan Hak Asasi Manusia memberikan dorongan signifikan.Melalui kunjungan terbarunya, Kepala Divisi Imigrasi memberikan arahan kepada petugas untuk meningkatkan efisiensi operasional, penegakan hukum, dan penerapan prosedur yang lebih ketat sesuai dengan regulasi imigrasi yang berlaku.Penguatan tugas dan fungsi ini mencakup pemberian pelatihan tambahan kepada staf, peningkatan sistem pemantauan terhadap perizinan imigrasi, serta penegakan ketertiban administrasi yang lebih ketat guna mencegah pelanggaran dalam proses imigrasi.Kepala Divisi Imigrasi Kemenkumham menekankan komitmen pihaknya untuk terus mendukung dan memperkuat kinerja setiap Jajaran Kanim di berbagai wilayah.Hal ini bertujuan untuk memberikan layanan yang lebih baik kepada masyarakat serta memastikan kepatuhan terhadap regulasi imigrasi.Dengan penekanan pada penguatan tugas dan fungsi ini, diharapkan terjadi perubahan positif dalam peningkatan kinerja dan pelayanan imigrasi yang lebih efektif di Jajaran Kanim Banggai.**'"
            ],
            "application/vnd.google.colaboratory.intrinsic+json": {
              "type": "string"
            }
          },
          "metadata": {},
          "execution_count": 86
        }
      ]
    },
    {
      "cell_type": "code",
      "source": [
        "df[\"Topic\"] = topic_result.argmax(axis=1)"
      ],
      "metadata": {
        "id": "GVwdjMN0A1j9"
      },
      "execution_count": null,
      "outputs": []
    },
    {
      "cell_type": "code",
      "source": [
        "df"
      ],
      "metadata": {
        "id": "ZJ6gGTJAIIh0"
      },
      "execution_count": null,
      "outputs": []
    },
    {
      "cell_type": "code",
      "source": [
        "len(df[df['Topic'] == 3])"
      ],
      "metadata": {
        "colab": {
          "base_uri": "https://localhost:8080/"
        },
        "id": "ce2TYRciIQkH",
        "outputId": "4d2896d5-9f04-4c15-c137-64972e5bce30"
      },
      "execution_count": null,
      "outputs": [
        {
          "output_type": "execute_result",
          "data": {
            "text/plain": [
              "152"
            ]
          },
          "metadata": {},
          "execution_count": 522
        }
      ]
    },
    {
      "cell_type": "code",
      "source": [
        "df['Topic'].nunique()"
      ],
      "metadata": {
        "colab": {
          "base_uri": "https://localhost:8080/"
        },
        "id": "SZyq4bKMTlk3",
        "outputId": "021b6c75-82eb-45e0-95a0-43045264dc7d"
      },
      "execution_count": null,
      "outputs": [
        {
          "output_type": "execute_result",
          "data": {
            "text/plain": [
              "11"
            ]
          },
          "metadata": {},
          "execution_count": 523
        }
      ]
    },
    {
      "cell_type": "code",
      "source": [
        "for i in range(11):\n",
        "  print(f\"Total Topic {i} are {len(df[df['Topic'] == i])}\")"
      ],
      "metadata": {
        "colab": {
          "base_uri": "https://localhost:8080/"
        },
        "id": "CCNvXx6FI3Jb",
        "outputId": "ef273b81-1a22-48df-c2df-17ed6d39152e"
      },
      "execution_count": null,
      "outputs": [
        {
          "output_type": "stream",
          "name": "stdout",
          "text": [
            "Total Topic 0 are 216\n",
            "Total Topic 1 are 48\n",
            "Total Topic 2 are 89\n",
            "Total Topic 3 are 152\n",
            "Total Topic 4 are 75\n",
            "Total Topic 5 are 72\n",
            "Total Topic 6 are 88\n",
            "Total Topic 7 are 37\n",
            "Total Topic 8 are 54\n",
            "Total Topic 9 are 71\n",
            "Total Topic 10 are 73\n"
          ]
        }
      ]
    },
    {
      "cell_type": "code",
      "source": [
        "import numpy as np\n",
        "import seaborn as sns\n",
        "import matplotlib.pyplot as plt\n",
        "\n",
        "# Sample Document-Topic Matrix (replace with your actual matrix)\n",
        "\n",
        "topic_result_subset = topic_result[:10]\n",
        "\n",
        "\n",
        "# Create heatmap\n",
        "plt.figure(figsize=(10, 6))\n",
        "sns.heatmap(topic_result_subset, cmap='YlGnBu', annot=True, fmt=\".2f\")\n",
        "plt.xlabel('Topic')\n",
        "plt.ylabel('Document')\n",
        "plt.title('Document-Topic Matrix')\n",
        "plt.show()"
      ],
      "metadata": {
        "colab": {
          "base_uri": "https://localhost:8080/",
          "height": 564
        },
        "id": "c5-jhBDniD05",
        "outputId": "0c924adf-531b-467c-df93-b5652f1200c1"
      },
      "execution_count": null,
      "outputs": [
        {
          "output_type": "display_data",
          "data": {
            "text/plain": [
              "<Figure size 1000x600 with 2 Axes>"
            ],
            "image/png": "[encoded data removed]"
          },
          "metadata": {}
        }
      ]
    },
    {
      "cell_type": "code",
      "source": [
        "old_values = [0,1, 2, 3,4,5,6,7,8,9]  # List of values to be replaced\n",
        "new_values = [\"Police Operations and [*Community Safety]\",\n",
        "              \"Social Welfare and Government Services\",\n",
        "              \"Community Health and Education Initiatives\",\n",
        "              \"Local Government Development and Community Empowerment\",\n",
        "              \"Elections and Political Participation\",\n",
        "              \"[*Community Safety] and Festive Celebrations\",\n",
        "              \"Local Governance and Community Development Initiatives\",\n",
        "              \"Community Health and Welfare Programs\",\n",
        "              \"Community Engagement and Local Leadership\",\n",
        "              \"Community Development and Law Enforcement\"]  # List of corresponding replacement values\n",
        "\n",
        "df['topics_name'] = df['Topic'].replace(old_values, new_values)"
      ],
      "metadata": {
        "id": "l72gcvqvy3vV"
      },
      "execution_count": null,
      "outputs": []
    },
    {
      "cell_type": "code",
      "source": [
        "df\n"
      ],
      "metadata": {
        "colab": {
          "base_uri": "https://localhost:8080/",
          "height": 1000
        },
        "id": "jmqQtw8R0kSA",
        "outputId": "a8b64ae5-d381-48b7-8b1e-4d828eac1cea"
      },
      "execution_count": null,
      "outputs": [
        {
          "output_type": "execute_result",
          "data": {
            "text/plain": [
              "      target                                              title  \\\n",
              "0    banggai  Mobil Sim Keliling Polres Banggai Meriahkan Pa...   \n",
              "1    banggai  Film Horor “Piara Mayat”,  Kreativitas Anak Mu...   \n",
              "2    banggai  Festival Malabot Tumbe 2023 Kembali Meriahkan ...   \n",
              "3    banggai  Rakor Kampanye Damai Pemilu 2024, Polres Bangg...   \n",
              "4    banggai  Bawaslu Banggai Perkuat Koordinasi dengan Panw...   \n",
              "..       ...                                                ...   \n",
              "995  banggai  Jelang Voting Day Bawaslu Banggai Gelar Apel S...   \n",
              "996  banggai  Bupati Banggai Ajak Warga Download Mobile JKN ...   \n",
              "997  banggai  Banggai Bakal Gunakan Listrik Tenaga Gas, Hari...   \n",
              "998  banggai  Asistensi Pengisian SPT Tahunan dan Pemadanan ...   \n",
              "999  banggai  Bawaslu Banggai Gelar Sosialisasi Pencegahan B...   \n",
              "\n",
              "                                                  text  \\\n",
              "0    KABAR LUWUK –  Suasana Pasar Murah bersubsidi ...   \n",
              "1    KABAR LUWUK  –  Film Horor“Piara Mayat”,Kreati...   \n",
              "2    KABAR LUWUK  –Festival Malabot Tumbe 2023Kemba...   \n",
              "3    “Kerja Cepat dan Terkoordinir dalam Penerbitan...   \n",
              "4    KABAR LUWUK  –Bawaslu BanggaiPerkuat Koordinas...   \n",
              "..                                                 ...   \n",
              "995  Terasbanggai.com -Bawaslu Banggai akan meningk...   \n",
              "996  BANGGAI RAYA-Bupati Banggai, Ir. H. Amirudin M...   \n",
              "997  Terasbanggai.com- Setelah sempat tertunda masa...   \n",
              "998  Banggai, 25 Januari 2024 – Bertempat di ruang ...   \n",
              "999  BANGGAI RAYA-Bawaslu Kabupaten Banggai menggel...   \n",
              "\n",
              "                                                   lwr  \\\n",
              "0    kabar luwuk –  suasana pasar murah bersubsidi ...   \n",
              "1    kabar luwuk  –  film horor“piara mayat”,kreati...   \n",
              "2    kabar luwuk  –festival malabot tumbe 2023kemba...   \n",
              "3    “kerja cepat dan terkoordinir dalam penerbitan...   \n",
              "4    kabar luwuk  –bawaslu banggaiperkuat koordinas...   \n",
              "..                                                 ...   \n",
              "995  terasbanggai.com -bawaslu banggai akan meningk...   \n",
              "996  banggai raya-bupati banggai, ir. h. amirudin m...   \n",
              "997  terasbanggai.com- setelah sempat tertunda masa...   \n",
              "998  banggai, 25 januari 2024 – bertempat di ruang ...   \n",
              "999  banggai raya-bawaslu kabupaten banggai menggel...   \n",
              "\n",
              "                                          clean_number  \\\n",
              "0    kabar luwuk –  suasana pasar murah bersubsidi ...   \n",
              "1    kabar luwuk  –  film horor“piara mayat”,kreati...   \n",
              "2    kabar luwuk  –festival malabot tumbe kembali m...   \n",
              "3    “kerja cepat dan terkoordinir dalam penerbitan...   \n",
              "4    kabar luwuk  –bawaslu banggaiperkuat koordinas...   \n",
              "..                                                 ...   \n",
              "995  terasbanggai.com -bawaslu banggai akan meningk...   \n",
              "996  banggai raya-bupati banggai, ir. h. amirudin m...   \n",
              "997  terasbanggai.com- setelah sempat tertunda masa...   \n",
              "998  banggai,  januari  – bertempat di ruang sidang...   \n",
              "999  banggai raya-bawaslu kabupaten banggai menggel...   \n",
              "\n",
              "                                           clean_punct  \\\n",
              "0    kabar luwuk    suasana pasar murah bersubsidi ...   \n",
              "1    kabar luwuk     film horor piara mayat kreativ...   \n",
              "2    kabar luwuk   festival malabot tumbe kembali m...   \n",
              "3     kerja cepat dan terkoordinir dalam penerbitan...   \n",
              "4    kabar luwuk   bawaslu banggaiperkuat koordinas...   \n",
              "..                                                 ...   \n",
              "995  terasbanggai com  bawaslu banggai akan meningk...   \n",
              "996  banggai raya bupati banggai ir  h  amirudin mm...   \n",
              "997  terasbanggai com  setelah sempat tertunda masa...   \n",
              "998  banggai  januari    bertempat di ruang sidang ...   \n",
              "999  banggai raya bawaslu kabupaten banggai menggel...   \n",
              "\n",
              "                                       clean_double_ws  \\\n",
              "0    kabar luwuk suasana pasar murah bersubsidi di ...   \n",
              "1    kabar luwuk film horor piara mayat kreativitas...   \n",
              "2    kabar luwuk festival malabot tumbe kembali mer...   \n",
              "3    kerja cepat dan terkoordinir dalam penerbitan ...   \n",
              "4    kabar luwuk bawaslu banggaiperkuat koordinasi ...   \n",
              "..                                                 ...   \n",
              "995  terasbanggai com bawaslu banggai akan meningka...   \n",
              "996  banggai raya bupati banggai ir h amirudin mm a...   \n",
              "997  terasbanggai com setelah sempat tertunda masa ...   \n",
              "998  banggai januari bertempat di ruang sidang pada...   \n",
              "999  banggai raya bawaslu kabupaten banggai menggel...   \n",
              "\n",
              "                                              filtered  \\\n",
              "0    kabar suasana pasar murah bersubsidi banggai l...   \n",
              "1    kabar film horor piara mayat kreativitasanak m...   \n",
              "2    kabar festival malabot tumbe meriahkankabupate...   \n",
              "3    kerja cepat terkoordinir penerbitan sttp kabar...   \n",
              "4    kabar bawaslu banggaiperkuat koordinasi dengan...   \n",
              "..                                                 ...   \n",
              "995  terasbanggai com bawaslu banggai meningkatkan ...   \n",
              "996  banggai raya bupati banggai ir h amirudin mm a...   \n",
              "997  terasbanggai com sempat tertunda uji cobanya k...   \n",
              "998  banggai januari bertempat ruang sidang hari ka...   \n",
              "999  banggai raya bawaslu banggai menggelar sosiali...   \n",
              "\n",
              "                                               stemmed  \\\n",
              "0    kabar suasana pasar murah subsidi bangga lebih...   \n",
              "1    kabar film horor piara mayat kreativitasanak m...   \n",
              "2    kabar festival malabot tumbe meriahkankabupate...   \n",
              "3    kerja cepat terkoordinir terbit sttp kabar rak...   \n",
              "4    kabar bawaslu banggaiperkuat koordinasi dengan...   \n",
              "..                                                 ...   \n",
              "995  terasbanggai com bawaslu bangga tingkat awas j...   \n",
              "996  bangga raya bupati bangga ir h amirudin mm aif...   \n",
              "997  terasbanggai com sempat tunda uji coba kontrak...   \n",
              "998  bangga januari tempat ruang sidang hari kamis ...   \n",
              "999  bangga raya bawaslu bangga gelar sosialisasi i...   \n",
              "\n",
              "                                             filtered2  \\\n",
              "0    kabar suasana pasar murah subsidi bangga lebih...   \n",
              "1    kabar film horor piara mayat kreativitasanak m...   \n",
              "2    kabar festival malabot tumbe meriahkankabupate...   \n",
              "3    kerja cepat terkoordinir terbit sttp kabar rak...   \n",
              "4    kabar bawaslu banggaiperkuat koordinasi dengan...   \n",
              "..                                                 ...   \n",
              "995  terasbanggai com bawaslu bangga tingkat awas j...   \n",
              "996  bangga raya bupati bangga ir h amirudin mm aif...   \n",
              "997  terasbanggai com sempat tunda uji coba kontrak...   \n",
              "998  bangga januari tempat ruang sidang hari kamis ...   \n",
              "999  bangga raya bawaslu bangga gelar sosialisasi i...   \n",
              "\n",
              "                                             tokenized  Topic  \\\n",
              "0    [kabar, suasana, pasar, murah, subsidi, bangga...      3   \n",
              "1    [kabar, film, horor, piara, mayat, kreativitas...      7   \n",
              "2    [kabar, festival, malabot, tumbe, meriahkankab...      3   \n",
              "3    [kerja, cepat, terkoordinir, terbit, sttp, kab...      0   \n",
              "4    [kabar, bawaslu, banggaiperkuat, koordinasi, d...      0   \n",
              "..                                                 ...    ...   \n",
              "995  [terasbanggai, com, bawaslu, bangga, tingkat, ...      0   \n",
              "996  [bangga, raya, bupati, bangga, ir, h, amirudin...      2   \n",
              "997  [terasbanggai, com, sempat, tunda, uji, coba, ...      9   \n",
              "998  [bangga, januari, tempat, ruang, sidang, hari,...      3   \n",
              "999  [bangga, raya, bawaslu, bangga, gelar, sosiali...      3   \n",
              "\n",
              "                                           topics_name  \n",
              "0    Local Government Development and Community Emp...  \n",
              "1                Community Health and Welfare Programs  \n",
              "2    Local Government Development and Community Emp...  \n",
              "3            Police Operations and [*Community Safety]  \n",
              "4            Police Operations and [*Community Safety]  \n",
              "..                                                 ...  \n",
              "995          Police Operations and [*Community Safety]  \n",
              "996         Community Health and Education Initiatives  \n",
              "997          Community Development and Law Enforcement  \n",
              "998  Local Government Development and Community Emp...  \n",
              "999  Local Government Development and Community Emp...  \n",
              "\n",
              "[975 rows x 13 columns]"
            ],
            "text/html": [
              "\n",
              "  <div id=\"df-f19dde22-8e1c-4d5e-bf6c-b5a0d10983b9\" class=\"colab-df-container\">\n",
              "    <div>\n",
              "<style scoped>\n",
              "    .dataframe tbody tr th:only-of-type {\n",
              "        vertical-align: middle;\n",
              "    }\n",
              "\n",
              "    .dataframe tbody tr th {\n",
              "        vertical-align: top;\n",
              "    }\n",
              "\n",
              "    .dataframe thead th {\n",
              "        text-align: right;\n",
              "    }\n",
              "</style>\n",
              "<table border=\"1\" class=\"dataframe\">\n",
              "  <thead>\n",
              "    <tr style=\"text-align: right;\">\n",
              "      <th></th>\n",
              "      <th>target</th>\n",
              "      <th>title</th>\n",
              "      <th>text</th>\n",
              "      <th>lwr</th>\n",
              "      <th>clean_number</th>\n",
              "      <th>clean_punct</th>\n",
              "      <th>clean_double_ws</th>\n",
              "      <th>filtered</th>\n",
              "      <th>stemmed</th>\n",
              "      <th>filtered2</th>\n",
              "      <th>tokenized</th>\n",
              "      <th>Topic</th>\n",
              "      <th>topics_name</th>\n",
              "    </tr>\n",
              "  </thead>\n",
              "  <tbody>\n",
              "    <tr>\n",
              "      <th>0</th>\n",
              "      <td>banggai</td>\n",
              "      <td>Mobil Sim Keliling Polres Banggai Meriahkan Pa...</td>\n",
              "      <td>KABAR LUWUK –  Suasana Pasar Murah bersubsidi ...</td>\n",
              "      <td>kabar luwuk –  suasana pasar murah bersubsidi ...</td>\n",
              "      <td>kabar luwuk –  suasana pasar murah bersubsidi ...</td>\n",
              "      <td>kabar luwuk    suasana pasar murah bersubsidi ...</td>\n",
              "      <td>kabar luwuk suasana pasar murah bersubsidi di ...</td>\n",
              "      <td>kabar suasana pasar murah bersubsidi banggai l...</td>\n",
              "      <td>kabar suasana pasar murah subsidi bangga lebih...</td>\n",
              "      <td>kabar suasana pasar murah subsidi bangga lebih...</td>\n",
              "      <td>[kabar, suasana, pasar, murah, subsidi, bangga...</td>\n",
              "      <td>3</td>\n",
              "      <td>Local Government Development and Community Emp...</td>\n",
              "    </tr>\n",
              "    <tr>\n",
              "      <th>1</th>\n",
              "      <td>banggai</td>\n",
              "      <td>Film Horor “Piara Mayat”,  Kreativitas Anak Mu...</td>\n",
              "      <td>KABAR LUWUK  –  Film Horor“Piara Mayat”,Kreati...</td>\n",
              "      <td>kabar luwuk  –  film horor“piara mayat”,kreati...</td>\n",
              "      <td>kabar luwuk  –  film horor“piara mayat”,kreati...</td>\n",
              "      <td>kabar luwuk     film horor piara mayat kreativ...</td>\n",
              "      <td>kabar luwuk film horor piara mayat kreativitas...</td>\n",
              "      <td>kabar film horor piara mayat kreativitasanak m...</td>\n",
              "      <td>kabar film horor piara mayat kreativitasanak m...</td>\n",
              "      <td>kabar film horor piara mayat kreativitasanak m...</td>\n",
              "      <td>[kabar, film, horor, piara, mayat, kreativitas...</td>\n",
              "      <td>7</td>\n",
              "      <td>Community Health and Welfare Programs</td>\n",
              "    </tr>\n",
              "    <tr>\n",
              "      <th>2</th>\n",
              "      <td>banggai</td>\n",
              "      <td>Festival Malabot Tumbe 2023 Kembali Meriahkan ...</td>\n",
              "      <td>KABAR LUWUK  –Festival Malabot Tumbe 2023Kemba...</td>\n",
              "      <td>kabar luwuk  –festival malabot tumbe 2023kemba...</td>\n",
              "      <td>kabar luwuk  –festival malabot tumbe kembali m...</td>\n",
              "      <td>kabar luwuk   festival malabot tumbe kembali m...</td>\n",
              "      <td>kabar luwuk festival malabot tumbe kembali mer...</td>\n",
              "      <td>kabar festival malabot tumbe meriahkankabupate...</td>\n",
              "      <td>kabar festival malabot tumbe meriahkankabupate...</td>\n",
              "      <td>kabar festival malabot tumbe meriahkankabupate...</td>\n",
              "      <td>[kabar, festival, malabot, tumbe, meriahkankab...</td>\n",
              "      <td>3</td>\n",
              "      <td>Local Government Development and Community Emp...</td>\n",
              "    </tr>\n",
              "    <tr>\n",
              "      <th>3</th>\n",
              "      <td>banggai</td>\n",
              "      <td>Rakor Kampanye Damai Pemilu 2024, Polres Bangg...</td>\n",
              "      <td>“Kerja Cepat dan Terkoordinir dalam Penerbitan...</td>\n",
              "      <td>“kerja cepat dan terkoordinir dalam penerbitan...</td>\n",
              "      <td>“kerja cepat dan terkoordinir dalam penerbitan...</td>\n",
              "      <td>kerja cepat dan terkoordinir dalam penerbitan...</td>\n",
              "      <td>kerja cepat dan terkoordinir dalam penerbitan ...</td>\n",
              "      <td>kerja cepat terkoordinir penerbitan sttp kabar...</td>\n",
              "      <td>kerja cepat terkoordinir terbit sttp kabar rak...</td>\n",
              "      <td>kerja cepat terkoordinir terbit sttp kabar rak...</td>\n",
              "      <td>[kerja, cepat, terkoordinir, terbit, sttp, kab...</td>\n",
              "      <td>0</td>\n",
              "      <td>Police Operations and [*Community Safety]</td>\n",
              "    </tr>\n",
              "    <tr>\n",
              "      <th>4</th>\n",
              "      <td>banggai</td>\n",
              "      <td>Bawaslu Banggai Perkuat Koordinasi dengan Panw...</td>\n",
              "      <td>KABAR LUWUK  –Bawaslu BanggaiPerkuat Koordinas...</td>\n",
              "      <td>kabar luwuk  –bawaslu banggaiperkuat koordinas...</td>\n",
              "      <td>kabar luwuk  –bawaslu banggaiperkuat koordinas...</td>\n",
              "      <td>kabar luwuk   bawaslu banggaiperkuat koordinas...</td>\n",
              "      <td>kabar luwuk bawaslu banggaiperkuat koordinasi ...</td>\n",
              "      <td>kabar bawaslu banggaiperkuat koordinasi dengan...</td>\n",
              "      <td>kabar bawaslu banggaiperkuat koordinasi dengan...</td>\n",
              "      <td>kabar bawaslu banggaiperkuat koordinasi dengan...</td>\n",
              "      <td>[kabar, bawaslu, banggaiperkuat, koordinasi, d...</td>\n",
              "      <td>0</td>\n",
              "      <td>Police Operations and [*Community Safety]</td>\n",
              "    </tr>\n",
              "    <tr>\n",
              "      <th>...</th>\n",
              "      <td>...</td>\n",
              "      <td>...</td>\n",
              "      <td>...</td>\n",
              "      <td>...</td>\n",
              "      <td>...</td>\n",
              "      <td>...</td>\n",
              "      <td>...</td>\n",
              "      <td>...</td>\n",
              "      <td>...</td>\n",
              "      <td>...</td>\n",
              "      <td>...</td>\n",
              "      <td>...</td>\n",
              "      <td>...</td>\n",
              "    </tr>\n",
              "    <tr>\n",
              "      <th>995</th>\n",
              "      <td>banggai</td>\n",
              "      <td>Jelang Voting Day Bawaslu Banggai Gelar Apel S...</td>\n",
              "      <td>Terasbanggai.com -Bawaslu Banggai akan meningk...</td>\n",
              "      <td>terasbanggai.com -bawaslu banggai akan meningk...</td>\n",
              "      <td>terasbanggai.com -bawaslu banggai akan meningk...</td>\n",
              "      <td>terasbanggai com  bawaslu banggai akan meningk...</td>\n",
              "      <td>terasbanggai com bawaslu banggai akan meningka...</td>\n",
              "      <td>terasbanggai com bawaslu banggai meningkatkan ...</td>\n",
              "      <td>terasbanggai com bawaslu bangga tingkat awas j...</td>\n",
              "      <td>terasbanggai com bawaslu bangga tingkat awas j...</td>\n",
              "      <td>[terasbanggai, com, bawaslu, bangga, tingkat, ...</td>\n",
              "      <td>0</td>\n",
              "      <td>Police Operations and [*Community Safety]</td>\n",
              "    </tr>\n",
              "    <tr>\n",
              "      <th>996</th>\n",
              "      <td>banggai</td>\n",
              "      <td>Bupati Banggai Ajak Warga Download Mobile JKN ...</td>\n",
              "      <td>BANGGAI RAYA-Bupati Banggai, Ir. H. Amirudin M...</td>\n",
              "      <td>banggai raya-bupati banggai, ir. h. amirudin m...</td>\n",
              "      <td>banggai raya-bupati banggai, ir. h. amirudin m...</td>\n",
              "      <td>banggai raya bupati banggai ir  h  amirudin mm...</td>\n",
              "      <td>banggai raya bupati banggai ir h amirudin mm a...</td>\n",
              "      <td>banggai raya bupati banggai ir h amirudin mm a...</td>\n",
              "      <td>bangga raya bupati bangga ir h amirudin mm aif...</td>\n",
              "      <td>bangga raya bupati bangga ir h amirudin mm aif...</td>\n",
              "      <td>[bangga, raya, bupati, bangga, ir, h, amirudin...</td>\n",
              "      <td>2</td>\n",
              "      <td>Community Health and Education Initiatives</td>\n",
              "    </tr>\n",
              "    <tr>\n",
              "      <th>997</th>\n",
              "      <td>banggai</td>\n",
              "      <td>Banggai Bakal Gunakan Listrik Tenaga Gas, Hari...</td>\n",
              "      <td>Terasbanggai.com- Setelah sempat tertunda masa...</td>\n",
              "      <td>terasbanggai.com- setelah sempat tertunda masa...</td>\n",
              "      <td>terasbanggai.com- setelah sempat tertunda masa...</td>\n",
              "      <td>terasbanggai com  setelah sempat tertunda masa...</td>\n",
              "      <td>terasbanggai com setelah sempat tertunda masa ...</td>\n",
              "      <td>terasbanggai com sempat tertunda uji cobanya k...</td>\n",
              "      <td>terasbanggai com sempat tunda uji coba kontrak...</td>\n",
              "      <td>terasbanggai com sempat tunda uji coba kontrak...</td>\n",
              "      <td>[terasbanggai, com, sempat, tunda, uji, coba, ...</td>\n",
              "      <td>9</td>\n",
              "      <td>Community Development and Law Enforcement</td>\n",
              "    </tr>\n",
              "    <tr>\n",
              "      <th>998</th>\n",
              "      <td>banggai</td>\n",
              "      <td>Asistensi Pengisian SPT Tahunan dan Pemadanan ...</td>\n",
              "      <td>Banggai, 25 Januari 2024 – Bertempat di ruang ...</td>\n",
              "      <td>banggai, 25 januari 2024 – bertempat di ruang ...</td>\n",
              "      <td>banggai,  januari  – bertempat di ruang sidang...</td>\n",
              "      <td>banggai  januari    bertempat di ruang sidang ...</td>\n",
              "      <td>banggai januari bertempat di ruang sidang pada...</td>\n",
              "      <td>banggai januari bertempat ruang sidang hari ka...</td>\n",
              "      <td>bangga januari tempat ruang sidang hari kamis ...</td>\n",
              "      <td>bangga januari tempat ruang sidang hari kamis ...</td>\n",
              "      <td>[bangga, januari, tempat, ruang, sidang, hari,...</td>\n",
              "      <td>3</td>\n",
              "      <td>Local Government Development and Community Emp...</td>\n",
              "    </tr>\n",
              "    <tr>\n",
              "      <th>999</th>\n",
              "      <td>banggai</td>\n",
              "      <td>Bawaslu Banggai Gelar Sosialisasi Pencegahan B...</td>\n",
              "      <td>BANGGAI RAYA-Bawaslu Kabupaten Banggai menggel...</td>\n",
              "      <td>banggai raya-bawaslu kabupaten banggai menggel...</td>\n",
              "      <td>banggai raya-bawaslu kabupaten banggai menggel...</td>\n",
              "      <td>banggai raya bawaslu kabupaten banggai menggel...</td>\n",
              "      <td>banggai raya bawaslu kabupaten banggai menggel...</td>\n",
              "      <td>banggai raya bawaslu banggai menggelar sosiali...</td>\n",
              "      <td>bangga raya bawaslu bangga gelar sosialisasi i...</td>\n",
              "      <td>bangga raya bawaslu bangga gelar sosialisasi i...</td>\n",
              "      <td>[bangga, raya, bawaslu, bangga, gelar, sosiali...</td>\n",
              "      <td>3</td>\n",
              "      <td>Local Government Development and Community Emp...</td>\n",
              "    </tr>\n",
              "  </tbody>\n",
              "</table>\n",
              "<p>975 rows × 13 columns</p>\n",
              "</div>\n",
              "    <div class=\"colab-df-buttons\">\n",
              "\n",
              "  <div class=\"colab-df-container\">\n",
              "    <button class=\"colab-df-convert\" onclick=\"convertToInteractive('df-f19dde22-8e1c-4d5e-bf6c-b5a0d10983b9')\"\n",
              "            title=\"Convert this dataframe to an interactive table.\"\n",
              "            style=\"display:none;\">\n",
              "\n",
              "  <svg xmlns=\"http://www.w3.org/2000/svg\" height=\"24px\" viewBox=\"0 -960 960 960\">\n",
              "    <path d=\"M120-120v-720h720v720H120Zm60-500h600v-160H180v160Zm220 220h160v-160H400v160Zm0 220h160v-160H400v160ZM180-400h160v-160H180v160Zm440 0h160v-160H620v160ZM180-180h160v-160H180v160Zm440 0h160v-160H620v160Z\"/>\n",
              "  </svg>\n",
              "    </button>\n",
              "\n",
              "  <style>\n",
              "    .colab-df-container {\n",
              "      display:flex;\n",
              "      gap: 12px;\n",
              "    }\n",
              "\n",
              "    .colab-df-convert {\n",
              "      background-color: #E8F0FE;\n",
              "      border: none;\n",
              "      border-radius: 50%;\n",
              "      cursor: pointer;\n",
              "      display: none;\n",
              "      fill: #1967D2;\n",
              "      height: 32px;\n",
              "      padding: 0 0 0 0;\n",
              "      width: 32px;\n",
              "    }\n",
              "\n",
              "    .colab-df-convert:hover {\n",
              "      background-color: #E2EBFA;\n",
              "      box-shadow: 0px 1px 2px rgba(60, 64, 67, 0.3), 0px 1px 3px 1px rgba(60, 64, 67, 0.15);\n",
              "      fill: #174EA6;\n",
              "    }\n",
              "\n",
              "    .colab-df-buttons div {\n",
              "      margin-bottom: 4px;\n",
              "    }\n",
              "\n",
              "    [theme=dark] .colab-df-convert {\n",
              "      background-color: #3B4455;\n",
              "      fill: #D2E3FC;\n",
              "    }\n",
              "\n",
              "    [theme=dark] .colab-df-convert:hover {\n",
              "      background-color: #434B5C;\n",
              "      box-shadow: 0px 1px 3px 1px rgba(0, 0, 0, 0.15);\n",
              "      filter: drop-shadow(0px 1px 2px rgba(0, 0, 0, 0.3));\n",
              "      fill: #FFFFFF;\n",
              "    }\n",
              "  </style>\n",
              "\n",
              "    <script>\n",
              "      const buttonEl =\n",
              "        document.querySelector('#df-f19dde22-8e1c-4d5e-bf6c-b5a0d10983b9 button.colab-df-convert');\n",
              "      buttonEl.style.display =\n",
              "        google.colab.kernel.accessAllowed ? 'block' : 'none';\n",
              "\n",
              "      async function convertToInteractive(key) {\n",
              "        const element = document.querySelector('#df-f19dde22-8e1c-4d5e-bf6c-b5a0d10983b9');\n",
              "        const dataTable =\n",
              "          await google.colab.kernel.invokeFunction('convertToInteractive',\n",
              "                                                    [key], {});\n",
              "        if (!dataTable) return;\n",
              "\n",
              "        const docLinkHtml = 'Like what you see? Visit the ' +\n",
              "          '<a target=\"_blank\" href=https://colab.research.google.com/notebooks/data_table.ipynb>data table notebook</a>'\n",
              "          + ' to learn more about interactive tables.';\n",
              "        element.innerHTML = '';\n",
              "        dataTable['output_type'] = 'display_data';\n",
              "        await google.colab.output.renderOutput(dataTable, element);\n",
              "        const docLink = document.createElement('div');\n",
              "        docLink.innerHTML = docLinkHtml;\n",
              "        element.appendChild(docLink);\n",
              "      }\n",
              "    </script>\n",
              "  </div>\n",
              "\n",
              "\n",
              "<div id=\"df-01a7bfa2-ba66-4f77-9b95-74e48b2d5b6f\">\n",
              "  <button class=\"colab-df-quickchart\" onclick=\"quickchart('df-01a7bfa2-ba66-4f77-9b95-74e48b2d5b6f')\"\n",
              "            title=\"Suggest charts\"\n",
              "            style=\"display:none;\">\n",
              "\n",
              "<svg xmlns=\"http://www.w3.org/2000/svg\" height=\"24px\"viewBox=\"0 0 24 24\"\n",
              "     width=\"24px\">\n",
              "    <g>\n",
              "        <path d=\"M19 3H5c-1.1 0-2 .9-2 2v14c0 1.1.9 2 2 2h14c1.1 0 2-.9 2-2V5c0-1.1-.9-2-2-2zM9 17H7v-7h2v7zm4 0h-2V7h2v10zm4 0h-2v-4h2v4z\"/>\n",
              "    </g>\n",
              "</svg>\n",
              "  </button>\n",
              "\n",
              "<style>\n",
              "  .colab-df-quickchart {\n",
              "      --bg-color: #E8F0FE;\n",
              "      --fill-color: #1967D2;\n",
              "      --hover-bg-color: #E2EBFA;\n",
              "      --hover-fill-color: #174EA6;\n",
              "      --disabled-fill-color: #AAA;\n",
              "      --disabled-bg-color: #DDD;\n",
              "  }\n",
              "\n",
              "  [theme=dark] .colab-df-quickchart {\n",
              "      --bg-color: #3B4455;\n",
              "      --fill-color: #D2E3FC;\n",
              "      --hover-bg-color: #434B5C;\n",
              "      --hover-fill-color: #FFFFFF;\n",
              "      --disabled-bg-color: #3B4455;\n",
              "      --disabled-fill-color: #666;\n",
              "  }\n",
              "\n",
              "  .colab-df-quickchart {\n",
              "    background-color: var(--bg-color);\n",
              "    border: none;\n",
              "    border-radius: 50%;\n",
              "    cursor: pointer;\n",
              "    display: none;\n",
              "    fill: var(--fill-color);\n",
              "    height: 32px;\n",
              "    padding: 0;\n",
              "    width: 32px;\n",
              "  }\n",
              "\n",
              "  .colab-df-quickchart:hover {\n",
              "    background-color: var(--hover-bg-color);\n",
              "    box-shadow: 0 1px 2px rgba(60, 64, 67, 0.3), 0 1px 3px 1px rgba(60, 64, 67, 0.15);\n",
              "    fill: var(--button-hover-fill-color);\n",
              "  }\n",
              "\n",
              "  .colab-df-quickchart-complete:disabled,\n",
              "  .colab-df-quickchart-complete:disabled:hover {\n",
              "    background-color: var(--disabled-bg-color);\n",
              "    fill: var(--disabled-fill-color);\n",
              "    box-shadow: none;\n",
              "  }\n",
              "\n",
              "  .colab-df-spinner {\n",
              "    border: 2px solid var(--fill-color);\n",
              "    border-color: transparent;\n",
              "    border-bottom-color: var(--fill-color);\n",
              "    animation:\n",
              "      spin 1s steps(1) infinite;\n",
              "  }\n",
              "\n",
              "  @keyframes spin {\n",
              "    0% {\n",
              "      border-color: transparent;\n",
              "      border-bottom-color: var(--fill-color);\n",
              "      border-left-color: var(--fill-color);\n",
              "    }\n",
              "    20% {\n",
              "      border-color: transparent;\n",
              "      border-left-color: var(--fill-color);\n",
              "      border-top-color: var(--fill-color);\n",
              "    }\n",
              "    30% {\n",
              "      border-color: transparent;\n",
              "      border-left-color: var(--fill-color);\n",
              "      border-top-color: var(--fill-color);\n",
              "      border-right-color: var(--fill-color);\n",
              "    }\n",
              "    40% {\n",
              "      border-color: transparent;\n",
              "      border-right-color: var(--fill-color);\n",
              "      border-top-color: var(--fill-color);\n",
              "    }\n",
              "    60% {\n",
              "      border-color: transparent;\n",
              "      border-right-color: var(--fill-color);\n",
              "    }\n",
              "    80% {\n",
              "      border-color: transparent;\n",
              "      border-right-color: var(--fill-color);\n",
              "      border-bottom-color: var(--fill-color);\n",
              "    }\n",
              "    90% {\n",
              "      border-color: transparent;\n",
              "      border-bottom-color: var(--fill-color);\n",
              "    }\n",
              "  }\n",
              "</style>\n",
              "\n",
              "  <script>\n",
              "    async function quickchart(key) {\n",
              "      const quickchartButtonEl =\n",
              "        document.querySelector('#' + key + ' button');\n",
              "      quickchartButtonEl.disabled = true;  // To prevent multiple clicks.\n",
              "      quickchartButtonEl.classList.add('colab-df-spinner');\n",
              "      try {\n",
              "        const charts = await google.colab.kernel.invokeFunction(\n",
              "            'suggestCharts', [key], {});\n",
              "      } catch (error) {\n",
              "        console.error('Error during call to suggestCharts:', error);\n",
              "      }\n",
              "      quickchartButtonEl.classList.remove('colab-df-spinner');\n",
              "      quickchartButtonEl.classList.add('colab-df-quickchart-complete');\n",
              "    }\n",
              "    (() => {\n",
              "      let quickchartButtonEl =\n",
              "        document.querySelector('#df-01a7bfa2-ba66-4f77-9b95-74e48b2d5b6f button');\n",
              "      quickchartButtonEl.style.display =\n",
              "        google.colab.kernel.accessAllowed ? 'block' : 'none';\n",
              "    })();\n",
              "  </script>\n",
              "</div>\n",
              "    </div>\n",
              "  </div>\n"
            ],
            "application/vnd.google.colaboratory.intrinsic+json": {
              "type": "dataframe",
              "variable_name": "df",
              "summary": "{\n  \"name\": \"df\",\n  \"rows\": 975,\n  \"fields\": [\n    {\n      \"column\": \"target\",\n      \"properties\": {\n        \"dtype\": \"category\",\n        \"num_unique_values\": 1,\n        \"samples\": [\n          \"banggai\"\n        ],\n        \"semantic_type\": \"\",\n        \"description\": \"\"\n      }\n    },\n    {\n      \"column\": \"title\",\n      \"properties\": {\n        \"dtype\": \"string\",\n        \"num_unique_values\": 975,\n        \"samples\": [\n          \"Polres Banggai Perluas Layanan SKCK Hingga Larut Malam, Masyarakat Dapat Manfaatkan Kemudahan Pengurusan bagi Para Lulus PPPK\"\n        ],\n        \"semantic_type\": \"\",\n        \"description\": \"\"\n      }\n    },\n    {\n      \"column\": \"text\",\n      \"properties\": {\n        \"dtype\": \"string\",\n        \"num_unique_values\": 958,\n        \"samples\": [\n          \"BANGGAI RAYA- Bupati Banggai Amirudin mengikuti kegiatan wawancara Paritrana Award Tingkat Provinsi Sulawesi Tengah dengan nominasi penghargaan Jaminan Sosial Ketenagakerjaan kategori nominasi pemerintah kabupaten/kota, pada Selasa (27/2/2024), bertempat di Hotel Aston, Palu.Paritrana Award merupakan penghargaan yang diberikan pemerintah pusat kepada pemerintah daerah, dan perusahaan badan usaha yang memiliki kepedulian (awareness) tinggi, dan citra positif terhadap program jaminan sosial ketenagakerjaan.Pada kesempatan tersebut, Bupati Amirudin memaparkan kebijakan pemerintah daerah terkait implementasi Program Jaminan Sosial Ketenagakerjaan, yang merupakan bagian dari upaya menindaklanjuti Instruksi Presiden (INPRES) Nomor 2 Tahun 2021 tentang optimalisasi pelaksanaan program jaminan sosial ketenagakerjaan.BACA JUGA:Pemilu 2024, Bali Mang Melangkah ke DPRD SultengSebagai bentuk keseriusan, lanjut Bupati Amirudin, Pemkab Banggai menindaklanjuti Inpres Nomor 2 Tahun 2021 tersebut dengan mengeluarkan Peraturan Bupati (Perbup) Nomor 32 Tahun 2021 tentang pelaksanaan program Jaminan Sosial Ketenagakerjaan di daerah dan Keputusan Bupati Banggai Nomor 560/935/NAKERTRANS tentang tim koordinasi pembinaan dan pemantauan terhadap pelaksanaan program BPJS Ketenagakerjaan di Kabupaten Banggai.Tidak hanya sampai di situ, upaya penguatan regulasi daerah dan perlindungan pekerja tersebut, maka ditingkatkan status regulasi dari Peraturan Bupati (Perbup) menjadi Peraturan Daerah (Perda) dengan ditetapkannya Perda Nomor 9 Tahun 2023 tentang Optimalisasi Penyelenggaraan Program Jaminan Sosial Ketenagakerjaan.BACA JUGA:Tak Terima Diberhentikan, Sekdes Segel Kantor Desa Solan BaruUntuk tahun 2023 melalui APBD telah dianggarkan iuran kepesertaan BPJS Ketenagakerjaan untuk program Jaminan Kecelakaan Kerja (JKK) dan Jaminan Kematian (JKM) bagi 13.765 orang tenaga kerja.Keterlibatan Bupati Banggai dalam wawancara ini menegaskan komitmen Pemerintah Kabupaten Banggai dalam memberikan perlindungan sosial yang memadai bagi para tenaga kerja di wilayah tersebut.Presentasi yang disampaikan oleh Bupati Amirudin memberikan gambaran yang jelas mengenai upaya konkret yang telah dilakukan untuk meningkatkan kesejahteraan dan keamanan sosial bagi masyarakat Banggai.Adapun yang menjadi tim penilai kegiatan ini terdiri dari Setda Provinsi, Dra. Novalina, MM., Kepala BPJS Ketenagakerjaan Provinsi Sulawesi Tengah, A. Syamsul Rijal, Kadis Nakertrans Provinsi, Drs. Arnould Firdaus, MT, Ahli ekonomi, Mohammad Ahlis Djirimu, SE, DEA.Phd, Ahli Kebijakan Publik : Dr.Drs Muzakir Tawil. M.Si, Ahli Hukum, Dr. H. Abdur Rasyid thalib S.H, Ahli Jaminan Sosial, Drs.H.Arifuddin Bidin, Ketua DPD APINDO, H. Achrul Udaya, dan Serikat Buruh, Karlan ladandu.BACA JUGA:Asia Muslim Charity Foundation Luncurkan Kapal Kemanusiaan untuk Perairan SultengKehadiran Bupati Banggai dalam acara ini menandai langkah nyata dalam membangun sistem jaminan sosial yang inklusif dan berkeadilan bagi seluruh masyarakat Kabupaten Banggai.**\"\n        ],\n        \"semantic_type\": \"\",\n        \"description\": \"\"\n      }\n    },\n    {\n      \"column\": \"lwr\",\n      \"properties\": {\n        \"dtype\": \"string\",\n        \"num_unique_values\": 958,\n        \"samples\": [\n          \"banggai raya- bupati banggai amirudin mengikuti kegiatan wawancara paritrana award tingkat provinsi sulawesi tengah dengan nominasi penghargaan jaminan sosial ketenagakerjaan kategori nominasi pemerintah kabupaten/kota, pada selasa (27/2/2024), bertempat di hotel aston, palu.paritrana award merupakan penghargaan yang diberikan pemerintah pusat kepada pemerintah daerah, dan perusahaan badan usaha yang memiliki kepedulian (awareness) tinggi, dan citra positif terhadap program jaminan sosial ketenagakerjaan.pada kesempatan tersebut, bupati amirudin memaparkan kebijakan pemerintah daerah terkait implementasi program jaminan sosial ketenagakerjaan, yang merupakan bagian dari upaya menindaklanjuti instruksi presiden (inpres) nomor 2 tahun 2021 tentang optimalisasi pelaksanaan program jaminan sosial ketenagakerjaan.baca juga:pemilu 2024, bali mang melangkah ke dprd sultengsebagai bentuk keseriusan, lanjut bupati amirudin, pemkab banggai menindaklanjuti inpres nomor 2 tahun 2021 tersebut dengan mengeluarkan peraturan bupati (perbup) nomor 32 tahun 2021 tentang pelaksanaan program jaminan sosial ketenagakerjaan di daerah dan keputusan bupati banggai nomor 560/935/nakertrans tentang tim koordinasi pembinaan dan pemantauan terhadap pelaksanaan program bpjs ketenagakerjaan di kabupaten banggai.tidak hanya sampai di situ, upaya penguatan regulasi daerah dan perlindungan pekerja tersebut, maka ditingkatkan status regulasi dari peraturan bupati (perbup) menjadi peraturan daerah (perda) dengan ditetapkannya perda nomor 9 tahun 2023 tentang optimalisasi penyelenggaraan program jaminan sosial ketenagakerjaan.baca juga:tak terima diberhentikan, sekdes segel kantor desa solan baruuntuk tahun 2023 melalui apbd telah dianggarkan iuran kepesertaan bpjs ketenagakerjaan untuk program jaminan kecelakaan kerja (jkk) dan jaminan kematian (jkm) bagi 13.765 orang tenaga kerja.keterlibatan bupati banggai dalam wawancara ini menegaskan komitmen pemerintah kabupaten banggai dalam memberikan perlindungan sosial yang memadai bagi para tenaga kerja di wilayah tersebut.presentasi yang disampaikan oleh bupati amirudin memberikan gambaran yang jelas mengenai upaya konkret yang telah dilakukan untuk meningkatkan kesejahteraan dan keamanan sosial bagi masyarakat banggai.adapun yang menjadi tim penilai kegiatan ini terdiri dari setda provinsi, dra. novalina, mm., kepala bpjs ketenagakerjaan provinsi sulawesi tengah, a. syamsul rijal, kadis nakertrans provinsi, drs. arnould firdaus, mt, ahli ekonomi, mohammad ahlis djirimu, se, dea.phd, ahli kebijakan publik : dr.drs muzakir tawil. m.si, ahli hukum, dr. h. abdur rasyid thalib s.h, ahli jaminan sosial, drs.h.arifuddin bidin, ketua dpd apindo, h. achrul udaya, dan serikat buruh, karlan ladandu.baca juga:asia muslim charity foundation luncurkan kapal kemanusiaan untuk perairan sultengkehadiran bupati banggai dalam acara ini menandai langkah nyata dalam membangun sistem jaminan sosial yang inklusif dan berkeadilan bagi seluruh masyarakat kabupaten banggai.**\"\n        ],\n        \"semantic_type\": \"\",\n        \"description\": \"\"\n      }\n    },\n    {\n      \"column\": \"clean_number\",\n      \"properties\": {\n        \"dtype\": \"string\",\n        \"num_unique_values\": 958,\n        \"samples\": [\n          \"banggai raya- bupati banggai amirudin mengikuti kegiatan wawancara paritrana award tingkat provinsi sulawesi tengah dengan nominasi penghargaan jaminan sosial ketenagakerjaan kategori nominasi pemerintah kabupaten/kota, pada selasa (//), bertempat di hotel aston, palu.paritrana award merupakan penghargaan yang diberikan pemerintah pusat kepada pemerintah daerah, dan perusahaan badan usaha yang memiliki kepedulian (awareness) tinggi, dan citra positif terhadap program jaminan sosial ketenagakerjaan.pada kesempatan tersebut, bupati amirudin memaparkan kebijakan pemerintah daerah terkait implementasi program jaminan sosial ketenagakerjaan, yang merupakan bagian dari upaya menindaklanjuti instruksi presiden (inpres) nomor  tahun  tentang optimalisasi pelaksanaan program jaminan sosial ketenagakerjaan.baca juga:pemilu , bali mang melangkah ke dprd sultengsebagai bentuk keseriusan, lanjut bupati amirudin, pemkab banggai menindaklanjuti inpres nomor  tahun  tersebut dengan mengeluarkan peraturan bupati (perbup) nomor  tahun  tentang pelaksanaan program jaminan sosial ketenagakerjaan di daerah dan keputusan bupati banggai nomor //nakertrans tentang tim koordinasi pembinaan dan pemantauan terhadap pelaksanaan program bpjs ketenagakerjaan di kabupaten banggai.tidak hanya sampai di situ, upaya penguatan regulasi daerah dan perlindungan pekerja tersebut, maka ditingkatkan status regulasi dari peraturan bupati (perbup) menjadi peraturan daerah (perda) dengan ditetapkannya perda nomor  tahun  tentang optimalisasi penyelenggaraan program jaminan sosial ketenagakerjaan.baca juga:tak terima diberhentikan, sekdes segel kantor desa solan baruuntuk tahun  melalui apbd telah dianggarkan iuran kepesertaan bpjs ketenagakerjaan untuk program jaminan kecelakaan kerja (jkk) dan jaminan kematian (jkm) bagi . orang tenaga kerja.keterlibatan bupati banggai dalam wawancara ini menegaskan komitmen pemerintah kabupaten banggai dalam memberikan perlindungan sosial yang memadai bagi para tenaga kerja di wilayah tersebut.presentasi yang disampaikan oleh bupati amirudin memberikan gambaran yang jelas mengenai upaya konkret yang telah dilakukan untuk meningkatkan kesejahteraan dan keamanan sosial bagi masyarakat banggai.adapun yang menjadi tim penilai kegiatan ini terdiri dari setda provinsi, dra. novalina, mm., kepala bpjs ketenagakerjaan provinsi sulawesi tengah, a. syamsul rijal, kadis nakertrans provinsi, drs. arnould firdaus, mt, ahli ekonomi, mohammad ahlis djirimu, se, dea.phd, ahli kebijakan publik : dr.drs muzakir tawil. m.si, ahli hukum, dr. h. abdur rasyid thalib s.h, ahli jaminan sosial, drs.h.arifuddin bidin, ketua dpd apindo, h. achrul udaya, dan serikat buruh, karlan ladandu.baca juga:asia muslim charity foundation luncurkan kapal kemanusiaan untuk perairan sultengkehadiran bupati banggai dalam acara ini menandai langkah nyata dalam membangun sistem jaminan sosial yang inklusif dan berkeadilan bagi seluruh masyarakat kabupaten banggai.**\"\n        ],\n        \"semantic_type\": \"\",\n        \"description\": \"\"\n      }\n    },\n    {\n      \"column\": \"clean_punct\",\n      \"properties\": {\n        \"dtype\": \"string\",\n        \"num_unique_values\": 958,\n        \"samples\": [\n          \"banggai raya  bupati banggai amirudin mengikuti kegiatan wawancara paritrana award tingkat provinsi sulawesi tengah dengan nominasi penghargaan jaminan sosial ketenagakerjaan kategori nominasi pemerintah kabupatenkota pada selasa  bertempat di hotel aston palu paritrana award merupakan penghargaan yang diberikan pemerintah pusat kepada pemerintah daerah dan perusahaan badan usaha yang memiliki kepedulian awareness tinggi dan citra positif terhadap program jaminan sosial ketenagakerjaan pada kesempatan tersebut bupati amirudin memaparkan kebijakan pemerintah daerah terkait implementasi program jaminan sosial ketenagakerjaan yang merupakan bagian dari upaya menindaklanjuti instruksi presiden inpres nomor  tahun  tentang optimalisasi pelaksanaan program jaminan sosial ketenagakerjaan baca juga pemilu  bali mang melangkah ke dprd sultengsebagai bentuk keseriusan lanjut bupati amirudin pemkab banggai menindaklanjuti inpres nomor  tahun  tersebut dengan mengeluarkan peraturan bupati perbup nomor  tahun  tentang pelaksanaan program jaminan sosial ketenagakerjaan di daerah dan keputusan bupati banggai nomor nakertrans tentang tim koordinasi pembinaan dan pemantauan terhadap pelaksanaan program bpjs ketenagakerjaan di kabupaten banggai tidak hanya sampai di situ upaya penguatan regulasi daerah dan perlindungan pekerja tersebut maka ditingkatkan status regulasi dari peraturan bupati perbup menjadi peraturan daerah perda dengan ditetapkannya perda nomor  tahun  tentang optimalisasi penyelenggaraan program jaminan sosial ketenagakerjaan baca juga tak terima diberhentikan sekdes segel kantor desa solan baruuntuk tahun  melalui apbd telah dianggarkan iuran kepesertaan bpjs ketenagakerjaan untuk program jaminan kecelakaan kerja jkk dan jaminan kematian jkm bagi   orang tenaga kerja keterlibatan bupati banggai dalam wawancara ini menegaskan komitmen pemerintah kabupaten banggai dalam memberikan perlindungan sosial yang memadai bagi para tenaga kerja di wilayah tersebut presentasi yang disampaikan oleh bupati amirudin memberikan gambaran yang jelas mengenai upaya konkret yang telah dilakukan untuk meningkatkan kesejahteraan dan keamanan sosial bagi masyarakat banggai adapun yang menjadi tim penilai kegiatan ini terdiri dari setda provinsi dra  novalina mm  kepala bpjs ketenagakerjaan provinsi sulawesi tengah a  syamsul rijal kadis nakertrans provinsi drs  arnould firdaus mt ahli ekonomi mohammad ahlis djirimu se dea phd ahli kebijakan publik   dr drs muzakir tawil  m si ahli hukum dr  h  abdur rasyid thalib s h ahli jaminan sosial drs h arifuddin bidin ketua dpd apindo h  achrul udaya dan serikat buruh karlan ladandu baca juga asia muslim charity foundation luncurkan kapal kemanusiaan untuk perairan sultengkehadiran bupati banggai dalam acara ini menandai langkah nyata dalam membangun sistem jaminan sosial yang inklusif dan berkeadilan bagi seluruh masyarakat kabupaten banggai   \"\n        ],\n        \"semantic_type\": \"\",\n        \"description\": \"\"\n      }\n    },\n    {\n      \"column\": \"clean_double_ws\",\n      \"properties\": {\n        \"dtype\": \"string\",\n        \"num_unique_values\": 957,\n        \"samples\": [\n          \"banggai raya bupati banggai amirudin mengikuti kegiatan wawancara paritrana award tingkat provinsi sulawesi tengah dengan nominasi penghargaan jaminan sosial ketenagakerjaan kategori nominasi pemerintah kabupatenkota pada selasa bertempat di hotel aston palu paritrana award merupakan penghargaan yang diberikan pemerintah pusat kepada pemerintah daerah dan perusahaan badan usaha yang memiliki kepedulian awareness tinggi dan citra positif terhadap program jaminan sosial ketenagakerjaan pada kesempatan tersebut bupati amirudin memaparkan kebijakan pemerintah daerah terkait implementasi program jaminan sosial ketenagakerjaan yang merupakan bagian dari upaya menindaklanjuti instruksi presiden inpres nomor tahun tentang optimalisasi pelaksanaan program jaminan sosial ketenagakerjaan baca juga pemilu bali mang melangkah ke dprd sultengsebagai bentuk keseriusan lanjut bupati amirudin pemkab banggai menindaklanjuti inpres nomor tahun tersebut dengan mengeluarkan peraturan bupati perbup nomor tahun tentang pelaksanaan program jaminan sosial ketenagakerjaan di daerah dan keputusan bupati banggai nomor nakertrans tentang tim koordinasi pembinaan dan pemantauan terhadap pelaksanaan program bpjs ketenagakerjaan di kabupaten banggai tidak hanya sampai di situ upaya penguatan regulasi daerah dan perlindungan pekerja tersebut maka ditingkatkan status regulasi dari peraturan bupati perbup menjadi peraturan daerah perda dengan ditetapkannya perda nomor tahun tentang optimalisasi penyelenggaraan program jaminan sosial ketenagakerjaan baca juga tak terima diberhentikan sekdes segel kantor desa solan baruuntuk tahun melalui apbd telah dianggarkan iuran kepesertaan bpjs ketenagakerjaan untuk program jaminan kecelakaan kerja jkk dan jaminan kematian jkm bagi orang tenaga kerja keterlibatan bupati banggai dalam wawancara ini menegaskan komitmen pemerintah kabupaten banggai dalam memberikan perlindungan sosial yang memadai bagi para tenaga kerja di wilayah tersebut presentasi yang disampaikan oleh bupati amirudin memberikan gambaran yang jelas mengenai upaya konkret yang telah dilakukan untuk meningkatkan kesejahteraan dan keamanan sosial bagi masyarakat banggai adapun yang menjadi tim penilai kegiatan ini terdiri dari setda provinsi dra novalina mm kepala bpjs ketenagakerjaan provinsi sulawesi tengah a syamsul rijal kadis nakertrans provinsi drs arnould firdaus mt ahli ekonomi mohammad ahlis djirimu se dea phd ahli kebijakan publik dr drs muzakir tawil m si ahli hukum dr h abdur rasyid thalib s h ahli jaminan sosial drs h arifuddin bidin ketua dpd apindo h achrul udaya dan serikat buruh karlan ladandu baca juga asia muslim charity foundation luncurkan kapal kemanusiaan untuk perairan sultengkehadiran bupati banggai dalam acara ini menandai langkah nyata dalam membangun sistem jaminan sosial yang inklusif dan berkeadilan bagi seluruh masyarakat kabupaten banggai\"\n        ],\n        \"semantic_type\": \"\",\n        \"description\": \"\"\n      }\n    },\n    {\n      \"column\": \"filtered\",\n      \"properties\": {\n        \"dtype\": \"string\",\n        \"num_unique_values\": 957,\n        \"samples\": [\n          \"banggai raya bupati banggai amirudin mengikuti kegiatan wawancara paritrana award tingkat provinsi sulawesi nominasi penghargaan jaminan sosial ketenagakerjaan kategori nominasi pemerintah kabupatenkota selasa bertempat hotel aston palu paritrana award penghargaan diberikan pemerintah pusat pemerintah daerah perusahaan badan usaha memiliki kepedulian awareness citra positif program jaminan sosial ketenagakerjaan kesempatan bupati amirudin memaparkan kebijakan pemerintah daerah terkait implementasi program jaminan sosial ketenagakerjaan merupakan upaya menindaklanjuti instruksi presiden inpres nomor optimalisasi pelaksanaan program jaminan sosial ketenagakerjaan baca pemilu bali mang melangkah dprd sultengsebagai bentuk keseriusan bupati amirudin pemkab banggai menindaklanjuti inpres nomor mengeluarkan peraturan bupati perbup nomor tentang pelaksanaan program jaminan sosial ketenagakerjaan daerah keputusan bupati banggai nomor nakertrans tentang tim koordinasi pembinaan pemantauan pelaksanaan program bpjs ketenagakerjaan banggai hanya situ upaya penguatan regulasi daerah perlindungan pekerja maka ditingkatkan status regulasi peraturan bupati perbup peraturan daerah perda dengan ditetapkannya perda nomor tentang optimalisasi penyelenggaraan program jaminan sosial ketenagakerjaan baca tak terima diberhentikan sekdes segel kantor desa solan baruuntuk melalui apbd dianggarkan iuran kepesertaan bpjs ketenagakerjaan program jaminan kecelakaan kerja jkk jaminan kematian jkm orang tenaga kerja keterlibatan bupati banggai wawancara menegaskan komitmen pemerintah banggai perlindungan sosial memadai para tenaga kerja di wilayah tersebut presentasi disampaikan bupati amirudin memberikan gambaran jelas upaya konkret telah meningkatkan kesejahteraan keamanan sosial masyarakat banggai tim penilai kegiatan terdiri dari setda provinsi dra novalina mm kepala bpjs ketenagakerjaan provinsi sulawesi a syamsul rijal kadis nakertrans provinsi drs arnould firdaus mt ahli ekonomi mohammad ahlis djirimu dea phd ahli kebijakan publik dr drs muzakir tawil m si ahli hukum dr h abdur rasyid thalib s h ahli jaminan sosial drs h arifuddin bidin ketua dpd apindo h achrul udaya serikat buruh karlan ladandu baca asia muslim charity foundation luncurkan kapal kemanusiaan untuk perairan sultengkehadiran bupati banggai acara menandai langkah nyata membangun sistem jaminan sosial yang inklusif dan berkeadilan seluruh masyarakat kabupaten banggai\"\n        ],\n        \"semantic_type\": \"\",\n        \"description\": \"\"\n      }\n    },\n    {\n      \"column\": \"stemmed\",\n      \"properties\": {\n        \"dtype\": \"string\",\n        \"num_unique_values\": 957,\n        \"samples\": [\n          \"bangga raya bupati bangga amirudin ikut giat wawancara paritrana award tingkat provinsi sulawesi nominasi harga jamin sosial ketenagakerjaan kategori nominasi perintah kabupatenkota selasa tempat hotel aston palu paritrana award harga beri perintah pusat perintah daerah usaha badan usaha milik peduli awareness citra positif program jamin sosial ketenagakerjaan sempat bupati amirudin papar bijak perintah daerah kait implementasi program jamin sosial ketenagakerjaan rupa upaya menindaklanjuti instruksi presiden inpres nomor optimalisasi laksana program jamin sosial ketenagakerjaan baca milu bal mang lang dprd sultengsebagai bentuk serius bupati amirudin pemkab bangga menindaklanjuti inpres nomor keluar atur bupati perbup nomor tentang laksana program jamin sosial ketenagakerjaan daerah putus bupati bangga nomor nakertrans tentang tim koordinasi bina pantau laksana program bpjs ketenagakerjaan bangga hanya situ upaya kuat regulasi daerah lindung kerja maka tingkat status regulasi atur bupati perbup atur daerah perda dengan tetap perda nomor tentang optimalisasi selenggara program jamin sosial ketenagakerjaan baca tak terima henti sekdes segel kantor desa sol baruuntuk lalu apbd anggar iur serta bpjs ketenagakerjaan program jamin celaka kerja jkk jamin mati jkm orang tenaga kerja libat bupati bangga wawancara tegas komitmen perintah bangga lindung sosial pada para tenaga kerja di wilayah sebut presentasi sampai bupati amirudin beri gambar jelas upaya konkret telah tingkat sejahtera aman sosial masyarakat bangga tim nilai giat diri dari setda provinsi dra novalina mm kepala bpjs ketenagakerjaan provinsi sulawesi a syamsul rijal kad nakertrans provinsi drs arnould firdaus mt ahli ekonomi mohammad ahlis djirimu dea phd ahli bijak publik dr drs muzakir tawil m si ahli hukum dr h abdur rasyid thalib s h ahli jamin sosial drs h arifuddin bidin ketua dpd apindo h achrul udaya serikat buruh karlan ladandu baca asia muslim charity foundation luncur kapal manusia untuk air sultengkehadiran bupati bangga acara tanda langkah nyata bangun sistem jamin sosial yang inklusif dan adil seluruh masyarakat kabupaten bangga\"\n        ],\n        \"semantic_type\": \"\",\n        \"description\": \"\"\n      }\n    },\n    {\n      \"column\": \"filtered2\",\n      \"properties\": {\n        \"dtype\": \"string\",\n        \"num_unique_values\": 957,\n        \"samples\": [\n          \"bangga raya bupati bangga amirudin ikut giat wawancara paritrana award tingkat provinsi sulawesi nominasi harga jamin sosial ketenagakerjaan kategori nominasi perintah kabupatenkota selasa tempat hotel aston palu paritrana award harga beri perintah pusat perintah daerah usaha badan usaha milik peduli awareness citra positif program jamin sosial ketenagakerjaan sempat bupati amirudin papar bijak perintah daerah kait implementasi program jamin sosial ketenagakerjaan rupa upaya menindaklanjuti instruksi presiden inpres nomor optimalisasi laksana program jamin sosial ketenagakerjaan baca milu bal mang lang dprd sultengsebagai bentuk serius bupati amirudin pemkab bangga menindaklanjuti inpres nomor keluar atur bupati perbup nomor tentang laksana program jamin sosial ketenagakerjaan daerah putus bupati bangga nomor nakertrans tentang tim koordinasi bina pantau laksana program bpjs ketenagakerjaan bangga hanya situ upaya kuat regulasi daerah lindung kerja maka tingkat status regulasi atur bupati perbup atur daerah perda dengan tetap perda nomor tentang optimalisasi selenggara program jamin sosial ketenagakerjaan baca tak terima henti sekdes segel kantor desa sol baruuntuk lalu apbd anggar iur serta bpjs ketenagakerjaan program jamin celaka kerja jkk jamin mati jkm orang tenaga kerja libat bupati bangga wawancara tegas komitmen perintah bangga lindung sosial pada para tenaga kerja di wilayah sebut presentasi sampai bupati amirudin beri gambar jelas upaya konkret telah tingkat sejahtera aman sosial masyarakat bangga tim nilai giat diri dari setda provinsi dra novalina mm kepala bpjs ketenagakerjaan provinsi sulawesi a syamsul rijal kad nakertrans provinsi drs arnould firdaus mt ahli ekonomi mohammad ahlis djirimu dea phd ahli bijak publik dr drs muzakir tawil m si ahli hukum dr h abdur rasyid thalib s h ahli jamin sosial drs h arifuddin bidin ketua dpd apindo h achrul udaya serikat buruh karlan ladandu baca asia muslim charity foundation luncur kapal manusia untuk air sultengkehadiran bupati bangga acara tanda langkah nyata bangun sistem jamin sosial yang inklusif dan adil seluruh masyarakat kabupaten bangga\"\n        ],\n        \"semantic_type\": \"\",\n        \"description\": \"\"\n      }\n    },\n    {\n      \"column\": \"tokenized\",\n      \"properties\": {\n        \"dtype\": \"object\",\n        \"semantic_type\": \"\",\n        \"description\": \"\"\n      }\n    },\n    {\n      \"column\": \"Topic\",\n      \"properties\": {\n        \"dtype\": \"number\",\n        \"std\": 3,\n        \"min\": 0,\n        \"max\": 10,\n        \"num_unique_values\": 11,\n        \"samples\": [\n          5\n        ],\n        \"semantic_type\": \"\",\n        \"description\": \"\"\n      }\n    },\n    {\n      \"column\": \"topics_name\",\n      \"properties\": {\n        \"dtype\": \"category\",\n        \"num_unique_values\": 11,\n        \"samples\": [\n          \"[*Community Safety] and Festive Celebrations\"\n        ],\n        \"semantic_type\": \"\",\n        \"description\": \"\"\n      }\n    }\n  ]\n}"
            }
          },
          "metadata": {},
          "execution_count": 543
        }
      ]
    },
    {
      "cell_type": "code",
      "source": [
        "text_test = df[[\"text\",\"topics_name\"]]\n",
        "text_test"
      ],
      "metadata": {
        "id": "hjKZqkWz0lOX"
      },
      "execution_count": null,
      "outputs": []
    },
    {
      "cell_type": "code",
      "source": [
        "text_test.to_excel('text_test.xlsx', index=False)"
      ],
      "metadata": {
        "id": "r_ugaxcJ1tKP"
      },
      "execution_count": null,
      "outputs": []
    }
  ]
}